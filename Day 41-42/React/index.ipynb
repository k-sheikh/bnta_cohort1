{
 "cells": [
  {
   "cell_type": "markdown",
   "metadata": {},
   "source": [
    "# React (2 Day)\n",
    "\n",
    "- Open source **JavaScript library** maintained by Facebook\n",
    "- **Not an MVC** framework. React is just the V (View) supported by an ecosystem of packages\n",
    "- **SPA** (single page application) that uses a **Virtual DOM**. Perfect for fast event-driven interfaces.\n",
    "- **State-driven**: State is data that determines how a components (UI unit) renders and behaves. It is immutable, is recreated every time it needs to be changed.\n",
    "- Data only flows from parent components to child components\n",
    "- **JSX** is Javascript syntax extension. Closer to JS than to HTML"
   ]
  },
  {
   "cell_type": "markdown",
   "metadata": {},
   "source": [
    "## React Topics\n",
    "\n",
    "- **Thinking in React** https://reactjs.org/docs/thinking-in-react.html\n",
    "- **JSX**\n",
    "- **Components**\n",
    "- **Props**\n",
    "- **State and useState (Hooks)**\n",
    "- **Lifecycle Events and useEffect (Hooks)**\n",
    "- **Routing**\n",
    "- ```create-react-app``` https://reactjs.org/docs/create-a-new-react-app.html\n",
    "\n",
    "## Tools\n",
    "\n",
    "- json-server https://github.com/typicode/json-server\n",
    "- chrome react developer tools https://chrome.google.com/webstore/detail/react-developer-tools/fmkadmapgofadopljbjfkapdkoienihi?hl=en"
   ]
  },
  {
   "cell_type": "markdown",
   "metadata": {},
   "source": [
    "## Node Toolchain\n",
    "\n",
    "A client side web dev toolchain typically consists of:\n",
    "\n",
    "- **Package Manager** such as **npm** or **yarn**\n",
    "- **Bundler** such as **webpack** or **parcel** (to optimize deployment and load time)\n",
    "- **Compiler** such as **babel** to support modern JavaScript development targeting both newer and older browsers\n",
    "- **create-react-app** command for generating projects and creating project code assets"
   ]
  },
  {
   "cell_type": "markdown",
   "metadata": {},
   "source": [
    "## Components and props\n",
    "\n",
    "- Components are JavaScript functions. They accept inputs called `props` and return React elements describing what should appear on the screen.\n",
    "- Typically, new React apps have a single App component at the very top.\n",
    "- All React components must act like pure functions with respect to their props.\n",
    "- NOTE: Code reuse is primarily achieved through composition rather than inheritance in React\n",
    "\n",
    "```javascript\n",
    "\n",
    "function Welcome(props) {\n",
    "  return <h1>Hello, {props.name}</h1>;\n",
    "}\n",
    "\n",
    "function App() {\n",
    "  return (\n",
    "    <div>\n",
    "\n",
    "     <Welcome name=\"Sara\" />\n",
    "     <Welcome name=\"Cahal\" />\n",
    "     <Welcome name=\"Edite\" />\n",
    "   </div>\n",
    "  );\n",
    "}\n",
    "\n",
    "ReactDOM.render(\n",
    "  <App />,\n",
    "  document.getElementById('root')\n",
    ");\n",
    "```\n",
    "\n",
    "\n",
    "One can create components as classes or functions. The modern way to go is the functional way with hooks.\n",
    "\n",
    "```javascript\n",
    "export const Header = ({title}) => {\n",
    "  render(\n",
    "<div>\n",
    "<h1>{title}</h1>\n",
    "</div>\n",
    ")\n",
    "}\n",
    "\n",
    "<Header title=”BNTA”>    \n",
    "```"
   ]
  },
  {
   "source": [
    "## Lifecycle Events & React Hooks\n",
    "[Hooks](https://reactjs.org/docs/hooks-intro.html) are a new addition in React 16.8. They let you use state and other React features without writing a class.\n",
    "\n",
    "`useEffect` is a function that let the component access its lifecycle (before 16.8 only class components could).\n",
    "\n",
    "![React Component Lifecycle Diagram](https://i1.wp.com/programmingwithmosh.com/wp-content/uploads/2018/10/Screen-Shot-2018-10-31-at-1.44.28-PM.png?ssl=1)\n",
    "- Full comparison : https://blog.carbonfive.com/replacing-component-lifecycle-methods-with-react-hooks/\n"
   ],
   "cell_type": "markdown",
   "metadata": {}
  },
  {
   "cell_type": "markdown",
   "metadata": {},
   "source": [
    "## React Documentation\n",
    "\n",
    "- **Docs** https://reactjs.org/docs\n",
    "- **React Getting Started** https://reactjs.org/docs/getting-started.html\n",
    "- **React Tutorial** https://reactjs.org/tutorial/tutorial.html\n",
    "- **Thinking in React** https://reactjs.org/docs/thinking-in-react.html\n",
    "- **React Context API** https://kentcdodds.com/blog/how-to-use-react-context-effectively"
   ]
  },
  {
   "source": [
    "## React and Redux\n",
    "- https://react-redux.js.org/introduction/getting-started\n",
    "- https://react-redux.js.org/introduction/basic-tutorial\n",
    "## React and Typescript\n",
    "- https://github.com/typescript-cheatsheets/react\n",
    "- https://www.freecodecamp.org/news/how-to-build-a-todo-app-with-react-typescript-nodejs-and-mongodb/\n",
    "## More ways of styling React\n",
    "- styled-components https://styled-components.com/\n",
    "- CSS Modules https://github.com/css-modules/css-modules\n",
    "- https://www.smashingmagazine.com/2020/05/styling-components-react/#css-modules\n"
   ],
   "cell_type": "markdown",
   "metadata": {}
  },
  {
   "cell_type": "markdown",
   "metadata": {},
   "source": [
    "## Free Code Camp - React\n",
    "\n",
    "- Free Code Camp -> Front End Libraries Certification (300 hours) -> React: https://www.freecodecamp.org/learn\n",
    "- Build a Shopping Cart with React and TypeScript - Tutorial: https://www.youtube.com/watch?v=sfmL6bGbiN8"
   ]
  },
  {
   "cell_type": "markdown",
   "metadata": {},
   "source": [
    "## Online Code Examples\n",
    "\n",
    "- **Calculator** https://github.com/ahfarmer/calculator\n",
    "- **Emoji Search** https://github.com/ahfarmer/emoji-search\n",
    "- **Snap Shot** https://github.com/Yog9/SnapShot\n",
    "- **BMI Calculator** https://github.com/GermaVinsmoke/bmi-calculator\n",
    "- **Image Compressor** https://github.com/Rahul-Pandey7/react-image-compressor\n",
    "- **Counter App** https://github.com/arnab-datta/counter-app\n",
    "- **Tutorial Solutions Solutions (React Tutorial)** https://github.com/harman052/react-tutorial-solutions"
   ]
  },
  {
   "cell_type": "markdown",
   "metadata": {},
   "source": [
    "# Full-Stack Web Development with React (Hong Kong University)\n",
    "\n",
    "See: https://www.coursera.org/specializations/full-stack-react\n",
    "\n",
    "- https://www.coursera.org/learn/bootstrap-4\n",
    "- https://www.coursera.org/learn/front-end-react\n",
    "- https://www.coursera.org/learn/react-native\n",
    "- https://www.coursera.org/learn/server-side-nodejs"
   ]
  }
 ],
 "metadata": {
  "kernelspec": {
   "display_name": "Python 3",
   "language": "python",
   "name": "python3"
  },
  "language_info": {
   "codemirror_mode": {
    "name": "ipython",
    "version": 3
   },
   "file_extension": ".py",
   "mimetype": "text/x-python",
   "name": "python",
   "nbconvert_exporter": "python",
   "pygments_lexer": "ipython3",
   "version": "3.8.5"
  }
 },
 "nbformat": 4,
 "nbformat_minor": 4
}