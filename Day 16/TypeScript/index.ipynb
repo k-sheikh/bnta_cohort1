{
 "cells": [
  {
   "cell_type": "markdown",
   "metadata": {},
   "source": [
    "# TypeScript (1 Day)\n",
    "\n",
    "- Extension to JavaScript to support optional strong typing\n",
    "- Cross-compiles to JavaScript\n",
    "- **Anders Hejlsberg** developed TypeScript at Microsoft\n",
    "- **TypeScript** https://www.typescriptlang.org\n",
    "- **Overview** https://www.tutorialspoint.com/typescript/typescript_overview.htm\n",
    "- **Blog** https://devblogs.microsoft.com/typescript/announcing-typescript-4-0"
   ]
  },
  {
   "cell_type": "markdown",
   "metadata": {},
   "source": [
    "## Online Code Challenges\n",
    "\n",
    "- exercism.io: https://exercism.io/my/tracks/typescript\n",
    "- hackerrank.com: https://www.hackerrank.com/skills-directory/typescript_basic\n",
    "- js.checkio.org: https://js.checkio.org\n",
    "- codewars.com: https://www.codewars.com\n",
    "- leetcode.com: https://leetcode.com/problemset/all"
   ]
  },
  {
   "cell_type": "markdown",
   "metadata": {},
   "source": [
    "## Pre-Read Assignment\n",
    "\n",
    "- Study: https://medium.com/swlh/intro-to-typescript-63bd15c2cd0e\n",
    "- Be prepared to provide a brief in-class presentation on any of the following terms:"
   ]
  },
  {
   "cell_type": "markdown",
   "metadata": {},
   "source": [
    "## Topics\n",
    "\n",
    "- **Basic Types** https://www.typescriptlang.org/docs/handbook/basic-types.html\n",
    "- **Advanced Types** https://www.typescriptlang.org/docs/handbook/advanced-types.html\n",
    "- **Variable Declaration** https://www.typescriptlang.org/docs/handbook/variable-declarations.html\n",
    "- **Interfaces** https://www.typescriptlang.org/docs/handbook/interfaces.html\n",
    "- **Type Inference** https://www.typescriptlang.org/docs/handbook/type-inference.html\n",
    "- **Functions** https://www.typescriptlang.org/docs/handbook/functions.html\n",
    "- **Literal Types** https://www.typescriptlang.org/docs/handbook/literal-types.html\n",
    "- **Unions and Intersection Types** https://www.typescriptlang.org/docs/handbook/unions-and-intersections.html\n",
    "- **Classes** https://www.typescriptlang.org/docs/handbook/classes.html\n",
    "- **Enums** https://www.typescriptlang.org/docs/handbook/enums.html\n",
    "- **Generics** https://www.typescriptlang.org/docs/handbook/generics.html\n",
    "- **Iterators and Generators** https://www.typescriptlang.org/docs/handbook/iterators-and-generators.html\n",
    "- **Decorators** https://www.typescriptlang.org/docs/handbook/decorators.html\n",
    "- **JSX** https://www.typescriptlang.org/docs/handbook/jsx.html\n",
    "- **Mixins** https://www.typescriptlang.org/docs/handbook/mixins.html\n",
    "- **Modules** https://www.typescriptlang.org/docs/handbook/modules.html\n",
    "- **Namespaces** https://www.typescriptlang.org/docs/handbook/namespaces.html\n",
    "- **Symbols** https://www.typescriptlang.org/docs/handbook/symbols.html\n",
    "- **Declaration Files** https://www.typescriptlang.org/docs/handbook/declaration-files/introduction.html\n",
    "- **DOM Manipulation** https://www.typescriptlang.org/docs/handbook/dom-manipulation.html\n",
    "- **ASP.NET Core** https://www.typescriptlang.org/docs/handbook/asp-net-core.html\n",
    "\n",
    "- **Setup a TypeScript Project**\n",
    "    - https://www.freecodecamp.org/news/how-to-set-up-a-typescript-project-67b427114884/\n",
    "    - https://www.digitalocean.com/community/tutorials/typescript-new-project"
   ]
  },
  {
   "cell_type": "markdown",
   "metadata": {},
   "source": [
    "## ## Try It Out: Basic Types\n",
    "\n",
    "- See: https://www.typescriptlang.org/docs/handbook/basic-types.html\n",
    "\n",
    "```typescript\n",
    "const isDone: boolean = false;\n",
    "const world: string = \"World\";\n",
    "const list: Array<number> = [1, 2, 3]\n",
    "function warnUser(): void {\n",
    "  console.log(\"This is my warning message\");\n",
    "}\n",
    "```"
   ]
  },
  {
   "cell_type": "markdown",
   "metadata": {},
   "source": [
    "## ## Try It Out: Classes\n",
    "\n",
    "- See: https://www.typescriptlang.org/docs/handbook/classes.html\n",
    "\n",
    "```typescript\n",
    "class Game {\n",
    "  gameTitle: string;\n",
    "  num: number;\n",
    "  constructor(name, playersNum) {\n",
    "    this.gameTitle = name;\n",
    "    this.num = playersNum;\n",
    "  }\n",
    "  getPlayersNum(): string {\n",
    "    return `Welcome to the ${this.num} of you`;\n",
    "  }\n",
    "}\n",
    "\n",
    "const game = new Game(\"Domino\", 5);\n",
    "console.log(game.getPlayersNum());\n",
    "```"
   ]
  },
  {
   "cell_type": "markdown",
   "metadata": {},
   "source": [
    "## Try It Out: Exploring the Docs Further\n",
    "\n",
    "Go to the following link:\n",
    "\n",
    "- https://www.typescriptlang.org/docs/handbook\n",
    "\n",
    "Try the following code examples found there in your own development environment, using repl.it or in VSCode:\n",
    "\n",
    "- Types\n",
    "- Interfaces\n",
    "- Functions\n",
    "- Literal Types\n",
    "- Unions and Intersection Types\n",
    "- Classes\n",
    "- Enums\n",
    "- Generics    "
   ]
  },
  {
   "cell_type": "markdown",
   "metadata": {},
   "source": [
    "## Lab\n",
    "\n",
    "- Work through game tutorials: https://www.tutorialspoint.com/typescript/index.htm\n",
    "- Try it out: https://www.typescriptlang.org/play"
   ]
  },
  {
   "cell_type": "markdown",
   "metadata": {},
   "source": [
    "## Homework\n",
    "\n",
    "- Work through the TypeScript Tutorial at https://www.typescripttutorial.net\n",
    "- Review video TypeScript Course for Beginners 2020: https://www.youtube.com/watch?v=BwuLxPH8IDs\n",
    "- Review video TypeScript for React: https://www.youtube.com/watch?v=NjN00cM18Z4\n",
    "- Be prepared to present your solution code in class"
   ]
  },
  {
   "cell_type": "markdown",
   "metadata": {},
   "source": [
    "## Learning Resources\n",
    "\n",
    "- **Docs** https://www.typescriptlang.org/docs\n"
   ]
  },
  {
   "cell_type": "code",
   "execution_count": null,
   "metadata": {},
   "outputs": [],
   "source": []
  }
 ],
 "metadata": {
  "kernelspec": {
   "display_name": "Python 3",
   "language": "python",
   "name": "python3"
  },
  "language_info": {
   "codemirror_mode": {
    "name": "ipython",
    "version": 3
   },
   "file_extension": ".py",
   "mimetype": "text/x-python",
   "name": "python",
   "nbconvert_exporter": "python",
   "pygments_lexer": "ipython3",
   "version": "3.8.5"
  }
 },
 "nbformat": 4,
 "nbformat_minor": 4
}