{
 "cells": [
  {
   "cell_type": "markdown",
   "metadata": {},
   "source": [
    "# Fundamental Syntax\n",
    "\n",
    "* Strict Mode vs Sloppy Mode\n",
    "* The ```console``` Object\n",
    "* Simple Functions\n",
    "* JavaScript WAT!\n",
    "* ES6 Keywords and Reserved Words\n",
    "* Comments\n",
    "* Identifiers\n",
    "* JavaScript is Case-Sensitive Unicode\n",
    "* The ```var``` Keyword\n",
    "* The ```let``` Keyword\n",
    "* The ```const``` Keyword\n",
    "* Operators\n",
    "* Comparison\n",
    "* Statements vs Expressions\n",
    "* The ```assert.equal()``` Method"
   ]
  },
  {
   "cell_type": "markdown",
   "metadata": {},
   "source": [
    "## Strict Mode vs Sloppy Mode\n",
    "\n",
    "See: https://developer.mozilla.org/en-US/docs/Web/JavaScript/Reference/Strict_mode\n",
    "\n",
    "* ```'use strict';``` opts into strict mode JavaScript (implicitly opts out of \"sloppy mode\")\n",
    "* Introduced in ES5 and is now preferred\n",
    "* Strict mode can be applied to entire scripts or just to individual functions\n",
    "* For strict mode in entire script, put ```\"use strict\";``` or ```'use strict';``` before any other statements\n",
    "* For strict mode in function, put ```\"use strict\";``` or ```'use strict';``` in function body before all other statements\n",
    "* Strict mode code and non-strict mode code can coexist so scripts can opt into strict mode incrementally\n",
    "\n",
    "### Strict Mode Semantics\n",
    "\n",
    "* Eliminates some JavaScript silent errors by changing them to throw errors\n",
    "* Fixes mistakes that make it difficult for JavaScript engines to perform optimizations\n",
    "* Strict mode code can sometimes run faster than identical non-strict code\n",
    "* Prohibits some syntax likely to be deprecated in future versions of ECMAScript\n",
    "* In strict mode you cannot use a variable without explicitly declaring it first\n",
    "* In strict mode, mistyping a variable throws an error, in sloppy mode it just creates an unintended new global variable\n",
    "* In strict mode you cannot delete a variable or function (you can delete a property on an object)\n",
    "* In strict mode you cannot use a reserved keyword as variable names\n",
    "* In strict mode you cannot duplicate parameter names"
   ]
  },
  {
   "cell_type": "markdown",
   "metadata": {},
   "source": [
    "## The ```console``` Object \n",
    "\n",
    "* The ```console``` object is a global object that provides access to console output (node.js and web browser)\n",
    "* See: https://developer.mozilla.org/en-US/docs/Web/API/Console\n",
    "\n",
    "### Some ```console``` Methods\n",
    "* ```console.assert()``` logs a message and stack trace to console if the first argument is false\n",
    "* ```console.clear()``` clears the console\n",
    "* ```console.count()``` log the number of times this line has been called with the given label\n",
    "* ```console.countReset()``` resets the value of the counter with the given label\n",
    "* ```console.debug()``` outputs a message to the console with the log level \"debug\"\n",
    "* ```console.dir()``` displays an interactive tree of properties in specified object\n",
    "* ```console.dirxml()``` displays an XML/HTML representation of specified object\n",
    "* ```console.error()``` outputs an error message\n",
    "* ```console.info()``` informative logging of information\n",
    "* ```console.log()``` general output of logging information\n",
    "* ```console.table()``` displays tabular data as a table\n",
    "* ```console.time()``` starts a timer with a name specified as an input parameter\n",
    "* ```console.timeEnd()``` stops the specified timer and logs the elapsed time in seconds since it started\n",
    "* ```console.timeLog()``` logs the value of the specified timer to the console\n",
    "* ```console.trace()``` outputs a stack trace\n",
    "* ```console.warn()``` outputs a warning message"
   ]
  },
  {
   "cell_type": "markdown",
   "metadata": {},
   "source": [
    "### The ```console.assert()``` Method\n",
    "\n",
    "```javascript\n",
    "    console.assert(assertion, obj1 [, obj2, ..., objN]);\n",
    "    console.assert(assertion, msg [, subst1, ..., substN]);\n",
    "```\n",
    "* ```assertion``` boolean expression, if false then message is written to console\n",
    "* ```obj1 ... objN``` list of objects to output\n",
    "* ```msg``` string output containing zero or more substitution strings\n",
    "* ```subst1 ... substN``` objects for substitution in msg"
   ]
  },
  {
   "cell_type": "code",
   "execution_count": 17,
   "metadata": {},
   "outputs": [
    {
     "name": "stderr",
     "output_type": "stream",
     "text": [
      "Assertion failed\n",
      "Assertion failed: 60 is not less than 50\n"
     ]
    }
   ],
   "source": [
    "console.assert(60 > 50)                           // no output\n",
    "console.assert(60 < 50)                           // Assertion failed\n",
    "console.assert(60 < 50, \"60 is not less than 50\") // 60 is not less than 50"
   ]
  },
  {
   "cell_type": "markdown",
   "metadata": {},
   "source": [
    "### The ```console.log()``` Method\n",
    "\n",
    "```javascript\n",
    "    console.log(obj1 [, obj2, ..., objN]);\n",
    "    console.log(msg [, subst1, ..., substN]);\n",
    "```\n",
    "* ```obj1 ... objN``` list of objects to output\n",
    "* ```msg``` output string containing zero or more substitution strings\n",
    "* ```subst1 ... substN``` objects with which to replace substitution strings within msg"
   ]
  },
  {
   "cell_type": "code",
   "execution_count": 1,
   "metadata": {},
   "outputs": [
    {
     "name": "stdout",
     "output_type": "stream",
     "text": [
      "Hellow World!\n",
      "8\n"
     ]
    }
   ],
   "source": [
    "console.log('Hellow World!');\n",
    "console.log(eval('3 + 5'));"
   ]
  },
  {
   "cell_type": "code",
   "execution_count": 2,
   "metadata": {},
   "outputs": [
    {
     "name": "stdout",
     "output_type": "stream",
     "text": [
      "number\n",
      "number\n",
      "boolean\n",
      "boolean\n",
      "string\n",
      "string\n",
      "string\n",
      "string\n",
      "object\n",
      "object\n",
      "object\n",
      "object\n",
      "function\n"
     ]
    }
   ],
   "source": [
    "console.log(typeof 42)\n",
    "console.log(typeof 3.141592)\n",
    "console.log(typeof true)\n",
    "console.log(typeof false)\n",
    "console.log(typeof 'Hello World!')\n",
    "console.log(typeof 'x')\n",
    "console.log(typeof \"y\")\n",
    "console.log(typeof `z`)\n",
    "console.log(typeof {})\n",
    "console.log(typeof [])\n",
    "console.log(typeof /^\\S+@\\S+$/)\n",
    "console.log(typeof new Object())\n",
    "console.log(typeof function () {})"
   ]
  },
  {
   "cell_type": "markdown",
   "metadata": {},
   "source": [
    "## Simple Functions"
   ]
  },
  {
   "cell_type": "code",
   "execution_count": 3,
   "metadata": {},
   "outputs": [
    {
     "name": "stdout",
     "output_type": "stream",
     "text": [
      "myfunc1\n"
     ]
    }
   ],
   "source": [
    "function myfunc1() {\n",
    "    let x = \"myfunc1\";\n",
    "    console.log(x);\n",
    "}\n",
    "myfunc1()"
   ]
  },
  {
   "cell_type": "code",
   "execution_count": 13,
   "metadata": {},
   "outputs": [
    {
     "name": "stdout",
     "output_type": "stream",
     "text": [
      "myfunc2\n"
     ]
    }
   ],
   "source": [
    "myfunc2 = function () {\n",
    "    let x = \"myfunc2\";\n",
    "    console.log(x);\n",
    "}\n",
    "myfunc2()"
   ]
  },
  {
   "cell_type": "code",
   "execution_count": 3,
   "metadata": {},
   "outputs": [
    {
     "name": "stdout",
     "output_type": "stream",
     "text": [
      "Hello Sally\n"
     ]
    }
   ],
   "source": [
    "// passing a parameter to a function\n",
    "function greetMe(yourName) {\n",
    "  console.log('Hello ' + yourName);\n",
    "}\n",
    "greetMe('Sally');"
   ]
  },
  {
   "cell_type": "code",
   "execution_count": 4,
   "metadata": {},
   "outputs": [
    {
     "name": "stdout",
     "output_type": "stream",
     "text": [
      "Hello World\n"
     ]
    }
   ],
   "source": [
    "// anonymous self-invoking function\n",
    "(function(){\n",
    "  \"use strict\";\n",
    "  function greetMe(yourName) {\n",
    "    console.log('Hello ' + yourName);\n",
    "  }  \n",
    "  greetMe('World');\n",
    "})();"
   ]
  },
  {
   "cell_type": "code",
   "execution_count": 9,
   "metadata": {},
   "outputs": [
    {
     "name": "stdout",
     "output_type": "stream",
     "text": [
      "变量 ->  fübar\n"
     ]
    }
   ],
   "source": [
    "// JavaScript is case-sensitive and uses the Unicode character set. \n",
    "var 变量 = \"fübar\";\n",
    "console.log(\"变量 -> \", 变量);"
   ]
  },
  {
   "cell_type": "code",
   "execution_count": 14,
   "metadata": {},
   "outputs": [
    {
     "name": "stdout",
     "output_type": "stream",
     "text": [
      "Dog Bites Man!\n",
      "Dog Bites Man!\n"
     ]
    }
   ],
   "source": [
    "var subject = \"Dog\", verb = \"Bites\", object = \"Man\";\n",
    "console.log(\"%s %s %s!\", subject, verb, object);\n",
    "console.log(`${subject} ${verb + ' ' + object}!`);"
   ]
  },
  {
   "cell_type": "code",
   "execution_count": 15,
   "metadata": {},
   "outputs": [
    {
     "name": "stdout",
     "output_type": "stream",
     "text": [
      "Object\n",
      "Function\n",
      "Array\n",
      "Number\n",
      "parseFloat\n",
      "parseInt\n",
      "Infinity\n",
      "NaN\n",
      "undefined\n",
      "Boolean\n",
      "String\n",
      "Symbol\n",
      "Date\n",
      "Promise\n",
      "RegExp\n",
      "Error\n",
      "EvalError\n",
      "RangeError\n",
      "ReferenceError\n",
      "SyntaxError\n",
      "TypeError\n",
      "URIError\n",
      "JSON\n",
      "Math\n",
      "Intl\n",
      "ArrayBuffer\n",
      "Uint8Array\n",
      "Int8Array\n",
      "Uint16Array\n",
      "Int16Array\n",
      "Uint32Array\n",
      "Int32Array\n",
      "Float32Array\n",
      "Float64Array\n",
      "Uint8ClampedArray\n",
      "BigUint64Array\n",
      "BigInt64Array\n",
      "DataView\n",
      "Map\n",
      "Set\n",
      "WeakMap\n",
      "WeakSet\n",
      "Proxy\n",
      "Reflect\n",
      "decodeURI\n",
      "decodeURIComponent\n",
      "encodeURI\n",
      "encodeURIComponent\n",
      "escape\n",
      "unescape\n",
      "eval\n",
      "isFinite\n",
      "isNaN\n",
      "SharedArrayBuffer\n",
      "Atomics\n",
      "BigInt\n",
      "WebAssembly\n",
      "DTRACE_NET_SERVER_CONNECTION\n",
      "DTRACE_NET_STREAM_END\n",
      "DTRACE_HTTP_SERVER_REQUEST\n",
      "DTRACE_HTTP_SERVER_RESPONSE\n",
      "DTRACE_HTTP_CLIENT_REQUEST\n",
      "DTRACE_HTTP_CLIENT_RESPONSE\n",
      "COUNTER_NET_SERVER_CONNECTION\n",
      "COUNTER_NET_SERVER_CONNECTION_CLOSE\n",
      "COUNTER_HTTP_SERVER_REQUEST\n",
      "COUNTER_HTTP_SERVER_RESPONSE\n",
      "COUNTER_HTTP_CLIENT_REQUEST\n",
      "COUNTER_HTTP_CLIENT_RESPONSE\n",
      "global\n",
      "process\n",
      "GLOBAL\n",
      "root\n",
      "Buffer\n",
      "clearImmediate\n",
      "clearInterval\n",
      "clearTimeout\n",
      "setImmediate\n",
      "setInterval\n",
      "setTimeout\n",
      "URL\n",
      "URLSearchParams\n",
      "assert\n",
      "async_hooks\n",
      "buffer\n",
      "child_process\n",
      "cluster\n",
      "crypto\n",
      "dgram\n",
      "dns\n",
      "domain\n",
      "events\n",
      "fs\n",
      "http\n",
      "http2\n",
      "https\n",
      "inspector\n",
      "net\n",
      "os\n",
      "path\n",
      "perf_hooks\n",
      "punycode\n",
      "querystring\n",
      "readline\n",
      "repl\n",
      "stream\n",
      "string_decoder\n",
      "tls\n",
      "trace_events\n",
      "tty\n",
      "url\n",
      "util\n",
      "v8\n",
      "vm\n",
      "zlib\n",
      "__filename\n",
      "exports\n",
      "module\n",
      "__dirname\n",
      "require\n",
      "$$mimer$$\n",
      "$$done$$\n",
      "$$defaultMimer$$\n",
      "greetMe\n",
      "früh\n",
      "myfunc\n",
      "变量\n",
      "myfunc1\n",
      "myfunc2\n",
      "subject\n",
      "verb\n",
      "object\n",
      "console\n",
      "$$\n",
      "$$mime$$\n",
      "$$html$$\n",
      "$$svg$$\n",
      "$$png$$\n",
      "$$jpeg$$\n",
      "$$async$$\n"
     ]
    }
   ],
   "source": [
    "(function () {\n",
    "    golbals = Object.getOwnPropertyNames( global );\n",
    "    for( var i = 0; i < golbals.length; ++i ) {\n",
    "        console.log( golbals[i] );\n",
    "    }\n",
    "})();"
   ]
  },
  {
   "cell_type": "code",
   "execution_count": 2,
   "metadata": {},
   "outputs": [
    {
     "data": {
      "text/plain": [
       "12"
      ]
     },
     "execution_count": 2,
     "metadata": {},
     "output_type": "execute_result"
    }
   ],
   "source": [
    "var myfunc = (a, b) => a*b;\n",
    "myfunc(3,4);"
   ]
  },
  {
   "cell_type": "markdown",
   "metadata": {},
   "source": [
    "## JavaScript WAT! (the weird stuff)\n",
    "NOTE: Do a web search on \"JavaScript WAT!\" to see many more examples of strange JavaScript expressions"
   ]
  },
  {
   "cell_type": "code",
   "execution_count": 1,
   "metadata": {},
   "outputs": [
    {
     "name": "stdout",
     "output_type": "stream",
     "text": [
      "0 'number'\n",
      " string\n",
      "[object Object] string\n",
      "false string\n",
      "142 string\n",
      "421 string\n",
      "-41 'number'\n",
      "41 'number'\n",
      "0 'number'\n",
      "NaN 'number'\n",
      "NaN 'number'\n",
      "NaN 'number'\n"
     ]
    }
   ],
   "source": [
    "// JavaScript WAT! (the weird stuff)\n",
    "\n",
    "x = []*[]    // (empty array)  * (empty array)  -> number containing: 0\n",
    "console.log(x, typeof(x))\n",
    "x = []+[]    // (empty array)  * (empty array)  -> empty string\n",
    "console.log(x, typeof(x))\n",
    "x = []+{}    // (empty array)  + (empty object) -> string containing: \"[object Object]\"\n",
    "console.log(x, typeof(x))\n",
    "x = false+[] //  (boolean)     + (empty array)  -> string containing: \"false\"\n",
    "console.log(x, typeof(x))\n",
    "x = 1+\"42\"   // (number)       + (string)       -> string containing: \"142\"\n",
    "console.log(x, typeof(x))\n",
    "x = \"42\"+1   // (string)       + (number)       -> string containing: \"421\"\n",
    "console.log(x, typeof(x))\n",
    "x = 1-\"42\"   // (number)       + (string)       -> number containing: -41\n",
    "console.log(x, typeof(x))\n",
    "x = \"42\" -1  // (string)       - (number)       -> number containing: 41\n",
    "console.log(x, typeof(x))\n",
    "x = [] - []; // (empty array)  - (empty array)  -> number containing: 0\n",
    "console.log(x, typeof(x))\n",
    "x = {} - {}; // (empty object) - (empty object) -> number containing: NaN\n",
    "console.log(x, typeof(x))\n",
    "x = [] - {}; // (empty array)  - (empty object) -> number containing: NaN\n",
    "console.log(x, typeof(x))\n",
    "x = {} - []; // (empty object) - (empty array)  -> number containing: NaN\n",
    "console.log(x, typeof(x))\n",
    "\n",
    "// and many more..."
   ]
  },
  {
   "cell_type": "markdown",
   "metadata": {},
   "source": [
    "## ES6 Keywords and Reserved Words (cannot be used as identifiers)\n",
    "\n",
    "* ```async```\n",
    "* ```await```\n",
    "* ```break```\n",
    "* ```case```\n",
    "* ```catch```\n",
    "* ```class```\n",
    "* ```const```\n",
    "* ```continue```\n",
    "* ```debugger```\n",
    "* ```default```\n",
    "* ```delete```\n",
    "* ```do```\n",
    "* ```else```\n",
    "* ```eval```\n",
    "* ```export```\n",
    "* ```extends```\n",
    "* ```finally```\n",
    "* ```for```\n",
    "* ```function```\n",
    "* ```if```\n",
    "* ```import```\n",
    "* ```in```\n",
    "* ```instanceof```\n",
    "* ```let```\n",
    "* ```new```\n",
    "* ```return```\n",
    "* ```super```\n",
    "* ```switch```\n",
    "* ```this```\n",
    "* ```throw```\n",
    "* ```try```\n",
    "* ```typeof```\n",
    "* ```var```\n",
    "* ```void```\n",
    "* ```while```\n",
    "* ```with```\n",
    "* ```yield```\n",
    "\n",
    "## Special Identifiers\n",
    "\n",
    "* ```true```\n",
    "* ```false```\n",
    "* ```null```\n",
    "* ```undefined```\n",
    "* ```Infinity```\n",
    "* ```NaN```\n",
    "* ```arguments```\n",
    "* ```get```\n",
    "* ```set```"
   ]
  },
  {
   "cell_type": "markdown",
   "metadata": {},
   "source": [
    "## Comments\n",
    "\n",
    "* JavaScript comments are ignored by the interpreter at runtime\n",
    "* JavaScript comments are used to explain JavaScript code to programmers\n",
    "* JavaScript comments can also be used to prevent execution during when development, debugging, and experimenting with code\n",
    "* Single line comments start with ```//``` and end with a new line\n",
    "* Multi line comments start with ```/*``` and end with ```*/``` that span any number of lines"
   ]
  },
  {
   "cell_type": "code",
   "execution_count": 1,
   "metadata": {},
   "outputs": [],
   "source": [
    "// Single Line Comment\n",
    "\n",
    "/*\n",
    "Multi-line comments start with slash star \n",
    "...and end with star slash.\n",
    "*/"
   ]
  },
  {
   "cell_type": "markdown",
   "metadata": {},
   "source": [
    "## Identifiers\n",
    "\n",
    "- An Identifier is a sequence of characters in code that identifies a variable, function, or property.\n",
    "- Identifiers can contain only alphanumeric characters or ```$``` or ```_```, but must not start with a numeric digit. "
   ]
  },
  {
   "cell_type": "markdown",
   "metadata": {},
   "source": [
    "## JavaScript is Case-Sensitive Unicode"
   ]
  },
  {
   "cell_type": "code",
   "execution_count": 3,
   "metadata": {},
   "outputs": [
    {
     "name": "stdout",
     "output_type": "stream",
     "text": [
      "Það eru margar undur í höfuðkúpu.\n",
      "师父领进门，修行在\n"
     ]
    }
   ],
   "source": [
    "var Íslensk_orðatiltækis = \"Það eru margar undur í höfuðkúpu.\"; // Icelandic proverb\n",
    "console.log(Íslensk_orðatiltækis)\n",
    "var 中國諺語 = \"师父领进门，修行在\";                              // Chinese proverb\n",
    "console.log(中國諺語)"
   ]
  },
  {
   "cell_type": "markdown",
   "metadata": {},
   "source": [
    "## The ```var``` Keyword\n",
    "\n",
    "* The ```var``` statement declares a variable and optionally initializes it to a value\n",
    "* The scope of a variable declared with var in a function is the enclosing function\n",
    "* The scope of a variable declared outside any function is global scope (i.e. bound to global object)\n",
    "* All ```var``` declarations are hoisted and processed before any code in that scope is executed\n",
    "* Assigning a value to an undeclared variable implicitly declares it as a global variable\n",
    "* The ```let``` and ```const``` keywords are now preferred over the ```var``` keyword (block scope)"
   ]
  },
  {
   "cell_type": "code",
   "execution_count": 4,
   "metadata": {},
   "outputs": [
    {
     "name": "stdout",
     "output_type": "stream",
     "text": [
      "2\n",
      "2\n"
     ]
    }
   ],
   "source": [
    "var x = 1;\n",
    "if (true) {\n",
    "  var x = 2;      // Not block scoped (hoisted and merged with x in outer global scope)\n",
    "  console.log(x); // 2\n",
    "}\n",
    "console.log(x);   // 2"
   ]
  },
  {
   "cell_type": "code",
   "execution_count": 15,
   "metadata": {},
   "outputs": [
    {
     "name": "stdout",
     "output_type": "stream",
     "text": [
      "2\n",
      "3\n",
      "3\n",
      "1\n"
     ]
    }
   ],
   "source": [
    "var x = 1;\n",
    "function func () {\n",
    "  var x = 2;        // hoisted in function scope only, not hoisted to global scope\n",
    "  console.log(x);   // 2\n",
    "  if (true) {\n",
    "    var x = 3;      // Not block scoped (hoisted and merged with x in outer function scope)\n",
    "    console.log(x); // 3\n",
    "  }\n",
    "  console.log(x);   // 3\n",
    "}\n",
    "func();\n",
    "console.log(x);     // 1"
   ]
  },
  {
   "cell_type": "markdown",
   "metadata": {},
   "source": [
    "## The ```let``` Keyword\n",
    "* The let statement declares a block scope local variable and optionally initializes it to a value\n",
    "* Redeclaring variable with let in same function or block scope raises a SyntaxError object. But note that you cannot use try-catch blocks to handle syntax errors as they are thrown at parse-time rather than at run-time."
   ]
  },
  {
   "cell_type": "code",
   "execution_count": 26,
   "metadata": {},
   "outputs": [
    {
     "name": "stdout",
     "output_type": "stream",
     "text": [
      "2\n",
      "1\n"
     ]
    }
   ],
   "source": [
    "{ // use block scope to avoid scopes from earlier cells\n",
    "let x = 1;\n",
    "if (x === 1) {\n",
    "  let x = 2;      // Bock scoped (not hoisted and merged with x in outer scope)\n",
    "  console.log(x); // 2\n",
    "}\n",
    "console.log(x);   // 1\n",
    "}"
   ]
  },
  {
   "cell_type": "code",
   "execution_count": 25,
   "metadata": {},
   "outputs": [
    {
     "name": "stdout",
     "output_type": "stream",
     "text": [
      "2\n",
      "3\n",
      "2\n",
      "1\n"
     ]
    }
   ],
   "source": [
    "{ // use block scope to avoid scopes from earlier cells\n",
    "let x = 1;\n",
    "function func () {\n",
    "  let x = 2;        // hoisted in function scope only, not hoisted to global scope\n",
    "  console.log(x);   // 2\n",
    "  if (true) {\n",
    "    let x = 3;      // Not block scoped (hoisted and merged with x in outer function scope)\n",
    "    console.log(x); // 3\n",
    "  }\n",
    "  console.log(x);   // 2\n",
    "}\n",
    "func();\n",
    "console.log(x);     // 1\n",
    "}"
   ]
  },
  {
   "cell_type": "markdown",
   "metadata": {},
   "source": [
    "## The ```const``` Keyword\n",
    "* Declares a read-only block-scoped constant with mandatory initialization\n",
    "* Redeclaring variable with const in same function or block scope raises a SyntaxError object. But note that you cannot use try-catch blocks to handle syntax errors as they are thrown at parse-time rather than at run-time."
   ]
  },
  {
   "cell_type": "code",
   "execution_count": 12,
   "metadata": {},
   "outputs": [
    {
     "name": "stdout",
     "output_type": "stream",
     "text": [
      "TypeError Assignment to constant variable.\n",
      "42\n"
     ]
    }
   ],
   "source": [
    "{ // use block scope to avoid scopes from earlier cells\n",
    "const ANSWER = 42;\n",
    "try {\n",
    "  ANSWER = 99;\n",
    "} catch(err) {\n",
    "  console.log(err.name, err.message); // TypeError Assignment to constant variable.\n",
    "}\n",
    "console.log(ANSWER); // 42\n",
    "}"
   ]
  },
  {
   "cell_type": "markdown",
   "metadata": {},
   "source": [
    "## Operators\n",
    "\n",
    "See: https://developer.mozilla.org/en-US/docs/Web/JavaScript/Guide/Expressions_and_Operators\n",
    "\n",
    "* Operators combine with operands to create expressions that produce values\n",
    "* Operators operate on various data types: numeric, boolean, string, object, etc.\n",
    "* There are several categories of operators:\n",
    "    - Assignment operators\n",
    "    - Comparison operators\n",
    "    - Arithmetic operators\n",
    "    - Bitwise operators\n",
    "    - Logical operators\n",
    "    - String operators\n",
    "    - Conditional (ternary) operator\n",
    "    - Comma operator\n",
    "    - Unary operators\n",
    "    - Relational operators"
   ]
  },
  {
   "cell_type": "markdown",
   "metadata": {},
   "source": [
    "## Comparison (abstract comparison vs strict comparison)"
   ]
  },
  {
   "cell_type": "code",
   "execution_count": 1,
   "metadata": {},
   "outputs": [
    {
     "name": "stdout",
     "output_type": "stream",
     "text": [
      "42\n",
      "true\n",
      "true\n",
      "true\n",
      "false\n"
     ]
    }
   ],
   "source": [
    "// A single equals sign (=) is used to assign a value to a variable.\n",
    "var foo = 42\n",
    "console.log(foo)\n",
    "\n",
    "// A double equals sign (==) is used for abstract comparison between two values (values may undergo type coercion)\n",
    "console.log(foo==42)    // true (numeric variable foo is 42 which is equal to the numeric literal 42)\n",
    "console.log(foo==\"42\")  // true (foo is coerced to the string \"42\" which is equal to the string literal \"42\")\n",
    "\n",
    "// A triple equals sign (===) is used for strict comparison between two values (values never undergo type coercion)\n",
    "console.log(foo===42)   // true (numeric variable foo is 42 which is equal to the numeric literal 42)\n",
    "console.log(foo===\"42\") // false (non-coerced variable foo is 42 which is not equal to the string literal \"42\")"
   ]
  },
  {
   "cell_type": "markdown",
   "metadata": {},
   "source": [
    "## Statements vs Expressions\n",
    "\n",
    "### Expressions\n",
    "\n",
    "* Expressions produce a resulting value of a particular data type.\n",
    "* They are used as:\n",
    "   - values on the right side of assignment statements\n",
    "   - arguments passed into function calls\n",
    "   - etc.\n",
    "* Expression examples:\n",
    "   - ```42                    // returns literal numeric expression```\n",
    "   - ```3 * 7                 // expressions can be composed of operators and operands```\n",
    "   - ```\"hello \" + 'world'    // returns concatenated string 'hello world'```\n",
    "   - ```x >= 0 ? x : -x;      // ternary expression that returns the absolute value of x```\n",
    "   \n",
    "### Statements\n",
    "\n",
    "* Statements perform actions:\n",
    "* They are used to:\n",
    "   - Declare and/or assign a value to a variable\n",
    "   - Control the flow of code execution (if-else decisions, for loops, switch statements, etc.)\n",
    "   - Perform IO\n",
    "   - Query a database\n",
    "   - etc.\n",
    "* A program is executed as a sequence of statements\n",
    "* Statements are composed of one or more expressions and most statements end with a semicolon\n",
    "* Statement examples:\n",
    "   - ```var x = 42;                      // declare and initialize a variable```\n",
    "   - ```console.log(42);                 // write data to standard console output```\n",
    "   - ```if (x===42) {console.log('yup')} // if statement to control execution flow```\n",
    "   - ```new Date().getTime()  // function returns milliseconds since 1 January 1970 00:00:00```"
   ]
  },
  {
   "cell_type": "markdown",
   "metadata": {},
   "source": [
    "## The ```assert.equal()``` Method"
   ]
  },
  {
   "cell_type": "code",
   "execution_count": 13,
   "metadata": {},
   "outputs": [
    {
     "name": "stdout",
     "output_type": "stream",
     "text": [
      "AssertionError [ERR_ASSERTION] 8 == 9\n"
     ]
    }
   ],
   "source": [
    "try {\n",
    "assert.equal(3 + 5, 8);                 // no error thrown\n",
    "assert.equal(3 + 5, 9);                 // AssertionError thrown\n",
    "}\n",
    "catch (err) {\n",
    "    console.log(err.name, err.message); // AssertionError [ERR_ASSERTION] 8 == 9\n",
    "}"
   ]
  },
  {
   "cell_type": "markdown",
   "metadata": {},
   "source": [
    "## Swap variable without temp"
   ]
  },
  {
   "cell_type": "code",
   "execution_count": 5,
   "metadata": {},
   "outputs": [
    {
     "name": "stdout",
     "output_type": "stream",
     "text": [
      "1 2\n",
      "2 1\n",
      "\n",
      "1 2\n",
      "2 1\n"
     ]
    }
   ],
   "source": [
    "{\n",
    "    let a = 1;\n",
    "    let b = 2;\n",
    "    console.log(a, b);\n",
    "    let temp = a;   \n",
    "    a = b;\n",
    "    b = temp;\n",
    "    console.log(a, b);\n",
    "}\n",
    "\n",
    "console.log();\n",
    "\n",
    "{\n",
    "let a = 1;\n",
    "let b = 2;\n",
    "console.log(a, b);\n",
    "[a, b] = [b, a];   // swap two variable without needing a temp variable\n",
    "console.log(a, b);\n",
    "}"
   ]
  },
  {
   "cell_type": "code",
   "execution_count": null,
   "metadata": {},
   "outputs": [],
   "source": []
  }
 ],
 "metadata": {
  "kernelspec": {
   "display_name": "Javascript (Node.js)",
   "language": "javascript",
   "name": "javascript"
  },
  "language_info": {
   "file_extension": ".js",
   "mimetype": "application/javascript",
   "name": "javascript",
   "version": "10.13.0"
  }
 },
 "nbformat": 4,
 "nbformat_minor": 2
}