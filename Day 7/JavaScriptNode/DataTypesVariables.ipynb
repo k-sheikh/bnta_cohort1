{
 "cells": [
  {
   "cell_type": "markdown",
   "metadata": {},
   "source": [
    "# Data Types and Variables\n",
    "\n",
    "* Identifier Naming Rules and Conventions\n",
    "* The ```var```, ```let``` and ```const``` Keywords\n",
    "* Data Types and Dynamic Typing\n",
    "* The ```undefined``` Value\n",
    "* The ```null``` Value\n",
    "* Number Type (immutable)\n",
    "* String Type (immutable)\n",
    "* Boolean Type (immutable)\n",
    "* Date Type\n",
    "* Array Type\n",
    "* Function Type\n",
    "* Object Literals\n",
    "* Enhanced Object literals\n",
    "* Symbol Type (immutable)\n",
    "* BigInt Type (immutable)"
   ]
  },
  {
   "cell_type": "markdown",
   "metadata": {},
   "source": [
    "## Identifier Naming Rules and Conventions\n",
    "\n",
    "* Identifier names can contain: ```a-z```, ```A-Z```, ```_```, ```$```, and non-leading ```0-9```\n",
    "* Camel-case is preferred for variable, parameter, and function names (```fooBar```)\n",
    "* Pascal-case is preferred for class names (```FooBar```)\n",
    "* All upper-case usually indicates a constant value (```FOO_BAR```)\n",
    "* Identifier leading character must not be a digit\n",
    "* Identifier leading character should avoid ```_``` and ```$``` (usually intended for special purposes)\n",
    "* Identifier of a single ```_``` is usually used to indicate an unused parameter"
   ]
  },
  {
   "cell_type": "markdown",
   "metadata": {},
   "source": [
    "## The ```var```, ```let``` and ```const``` Keywords\n",
    "\n",
    "* The ```var``` keyword declares global or function-scoped variable (optionally initializing to value)\n",
    "* ```var``` variables are hoisted before code is executed\n",
    "* ```var``` variable default value is ```undefined```\n",
    "* The ```let``` keyword declares a block-scoped variable (optionally initializing to a value)\n",
    "* ```let``` variable default value is ```undefined```\n",
    "* The ```const``` keyword declares a block-scoped immutable variable (must initialize to a value)\n",
    "\n",
    "### Syntax\n",
    "* ```var varname1 [= value1] [, varname2 [= value2] ... [, varnameN [= valueN]]];```\n",
    "* ```let var1 [= value1] [, var2 [= value2]] [, ..., varN [= valueN];```\n",
    "* ```const name1 = value1 [, name2 = value2 [, ... [, nameN = valueN]]];```"
   ]
  },
  {
   "cell_type": "code",
   "execution_count": 26,
   "metadata": {},
   "outputs": [
    {
     "name": "stdout",
     "output_type": "stream",
     "text": [
      "undefined\n",
      "undefined\n",
      "undefined\n",
      "undefined\n",
      "undefined\n"
     ]
    }
   ],
   "source": [
    "{\n",
    "// Occurrences of undefined\n",
    "\n",
    "let myVar;                    // uninitialized variable\n",
    "console.log(myVar);           // undefined\n",
    "    \n",
    "let func1 = function () {}    // function with no return statement\n",
    "console.log(func1());         // undefined\n",
    "    \n",
    "let func2 = function (x) {    // uninitialized parameter\n",
    "    console.log(x);           // undefined\n",
    "}\n",
    "func2();\n",
    "\n",
    "const obj1 = {};               // object missing a property\n",
    "console.log(obj1.unknownProp); // undefined\n",
    "\n",
    "let obj2 = {foo: 42};          // object missing a property\n",
    "console.log(obj2['bar']);      // undefined\n",
    "}"
   ]
  },
  {
   "cell_type": "code",
   "execution_count": 22,
   "metadata": {},
   "outputs": [
    {
     "name": "stdout",
     "output_type": "stream",
     "text": [
      "null\n",
      "null\n",
      "undefined\n"
     ]
    }
   ],
   "source": [
    "{\n",
    "// Occurrences of null\n",
    "console.log(Object.getPrototypeOf(Object.prototype)); // null\n",
    "console.log(/a/.exec('b'));                           // null\n",
    "\n",
    "}"
   ]
  },
  {
   "cell_type": "markdown",
   "metadata": {},
   "source": [
    "## The ```globalThis``` Variable\n",
    "\n",
    "Accesses global object across JavaScript platforms:\n",
    "\n",
    "* ```window``` global variable in web browsers\n",
    "* ```self``` global variable in Web Workers\n",
    "* ```global``` global variable in Node.js\n",
    "\n",
    "See: https://developer.mozilla.org/en-US/docs/Web/JavaScript/Reference/Global_Objects/globalThis"
   ]
  },
  {
   "cell_type": "markdown",
   "metadata": {},
   "source": [
    "## Data Types and Dynamic Typing\n",
    "\n",
    "* JavaScript is a dynamically typed language, so a variable can refer to different types of objects at different times\n",
    "* Any variable can be assigned and re-assigned different values of any type\n",
    "* Although a variable is not of fixed type, the object that it refers to is of fixed type\n",
    "\n",
    "### Fundamental Data Types\n",
    "\n",
    "See: https://developer.mozilla.org/en-US/docs/Web/JavaScript/Reference\n",
    "\n",
    "* Primitives\n",
    "    - **string** is a sequence of Unicode text characters\n",
    "    - **number** integer or floating-point values limited by ±253\n",
    "    - **boolean** is a ```true``` or ```false``` value\n",
    "    - **symbol** value that are unique for use as identifier for object properties\n",
    "    - **object** is everything else\n",
    "* Objects\n",
    "    - * **array** sequence of elements that can be accessed using a zero-based index\n",
    "    - * **function** is a subprogram that can be called by code\n",
    "    - * **map** contains key-value pairs and remembers the original insertion order of the keys\n",
    "    - * **set** lets you store unique values of any type (primitive or object references)\n",
    "    - * **bigint** represents integer numbers of arbitrary length\n",
    "    - * etc."
   ]
  },
  {
   "cell_type": "code",
   "execution_count": 3,
   "metadata": {},
   "outputs": [
    {
     "name": "stdout",
     "output_type": "stream",
     "text": [
      "undefined 'undefined'\n",
      "42 'number'\n",
      "3.1415926 'number'\n",
      "hello string\n",
      "true 'boolean'\n",
      "[Function: x] 'function'\n",
      "{} 'object'\n",
      "{ '1': 'one', FirstName: 'Sally', one: 1 } 'object'\n",
      "[ 'Orange', 'Apple', 'Banana' ] 'object'\n",
      "2020-05-14T14:28:15.331Z 'object'\n",
      "/^[A-Z0-9._%+-]+@[A-Z0-9.-]+\\.[A-Z]{2,}$/ 'object'\n",
      "null 'object'\n"
     ]
    }
   ],
   "source": [
    "{\n",
    "// Data types and dynamic typing\n",
    "\n",
    "let x;\n",
    "console.log(x, typeof x);             // null 'object'\n",
    "x = 42;\n",
    "console.log(x, typeof x);             // 42 'number'\n",
    "x = 3.1415926;\n",
    "console.log(x, typeof x);             // 3.1415926 'number'\n",
    "x = \"hello\";\n",
    "console.log(x, typeof x);             // hello string\n",
    "x = true;\n",
    "console.log(x, typeof x);             // true 'boolean'\n",
    "x = () => {};\n",
    "console.log(x, typeof x);             // [Function: x] 'function'\n",
    "x = {};\n",
    "console.log(x, typeof x);             // {} 'object'\n",
    "x = {FirstName: \"Sally\", \"one\": 1, 1: \"one\"};\n",
    "console.log(x, typeof x);             // { '1': 'one', FirstName: 'Sally', one: 1 } 'object'\n",
    "x = [\"Orange\", \"Apple\", \"Banana\"]\n",
    "console.log(x, typeof x);             // [ 'Orange', 'Apple', 'Banana' ] 'object'\n",
    "x = new Date();\n",
    "console.log(x, typeof x);             // 2020-05-07T13:10:47.095Z 'object'\n",
    "x = /^[A-Z0-9._%+-]+@[A-Z0-9.-]+\\.[A-Z]{2,}$/;\n",
    "console.log(x, typeof x);             // /^[A-Z0-9._%+-]+@[A-Z0-9.-]+\\.[A-Z]{2,}$/ 'object'\n",
    "x = null;\n",
    "console.log(x, typeof x);             // null 'object'\n",
    "}"
   ]
  },
  {
   "cell_type": "markdown",
   "metadata": {},
   "source": [
    "## Type Coercion and ```==``` vs ```===``` (and other wierd stuff)\n",
    "\n",
    "* Explicit or implicit conversion of a value from one type to another:\n",
    "    - ```String(123) // explicit coercion of number to string```\n",
    "    - ```123 + ''    // implicit coercion of number to string```\n",
    "* Three types of conversion in JavaScript:\n",
    "    - to string\n",
    "    - to boolean\n",
    "    - to number\n",
    "* The ```===``` operator (strict equality) never triggers implicit type coercion\n",
    "* The ```===``` operator (loose equality) may involve type coercion\n",
    "* See: https://www.freecodecamp.org/news/js-type-coercion-explained-27ba3d9a2839\n",
    "* See: https://dorey.github.io/JavaScript-Equality-Table\n",
    "* See: https://wtfjs.com\n",
    "\n",
    "* Explicit Conversions:\n",
    "\n",
    "```javascript\n",
    "    String(123)            // '123'\n",
    "    String(-12.3)          // '-12.3'\n",
    "    String(null)           // 'null'\n",
    "    String(undefined)      // 'undefined'\n",
    "    String(true)           // 'true'\n",
    "    String(false)          // 'false'\n",
    "    Boolean('')            // false\n",
    "    Boolean(0)             // false     \n",
    "    Boolean(-0)            // false\n",
    "    Boolean(NaN)           // false\n",
    "    Boolean(null)          // false\n",
    "    Boolean(undefined)     // false\n",
    "    Boolean(false)         // false\n",
    "    Boolean({})            // true\n",
    "    Boolean([])            // true\n",
    "    Boolean(Symbol())      // true\n",
    "    Boolean(function() {}) // true\n",
    "    Number(null)           // 0\n",
    "    Number(undefined)      // NaN\n",
    "    Number(true)           // 1\n",
    "    Number(false)          // 0\n",
    "    Number(\" 12 \")         // 12\n",
    "    Number(\"-12.34\")       // -12.34\n",
    "    Number(\"\\n\")           // 0\n",
    "    Number(\" 12s \")        // NaN\n",
    "    Number(123)            // 123\n",
    "```\n",
    "\n",
    "* Implicit Coercions:\n",
    "\n",
    "```javascript\n",
    "    true + false             // 1\n",
    "    12 / \"6\"                 // 2\n",
    "    \"number\" + 15 + 3        // 'number153'\n",
    "    15 + 3 + \"number\"        // '18number'\n",
    "    [1] > null               // true\n",
    "    \"foo\" + + \"bar\"          // 'fooNaN'\n",
    "    'true' == true           // false\n",
    "    false == 'false'         // false\n",
    "    null == ''               // false\n",
    "    !!\"false\" == !!\"true\"    // true\n",
    "    ['x'] == 'x'             // true \n",
    "    [] + null + 1            // 'null1'\n",
    "    [1,2,3] == [1,2,3]       // false\n",
    "    {}+[]+{}+[1]             // '0[object Object]1'\n",
    "    !+[]+[]+![]              // 'truefalse'\n",
    "    new Date(0) - 0          // 0\n",
    "    new Date(0) + 0          // 'Thu Jan 01 1970 02:00:00(EET)0'\n",
    "```"
   ]
  },
  {
   "cell_type": "code",
   "execution_count": 29,
   "metadata": {},
   "outputs": [
    {
     "name": "stdout",
     "output_type": "stream",
     "text": [
      "15 'number'\n",
      "1 'number'\n",
      "42 'number'\n",
      "fooNaN string\n",
      "false 'boolean'\n",
      "true 'boolean'\n",
      "true 'boolean'\n",
      "false 'boolean'\n"
     ]
    }
   ],
   "source": [
    "{\n",
    "let x = '3' * '5';        // strings -> numbers\n",
    "console.log(x, typeof x); // 15 'number'\n",
    "x = true + false;         // booleans -> numbers\n",
    "console.log(x, typeof x); // 1 'number'\n",
    "x = null + 42;            // null -> 0\n",
    "console.log(x, typeof x); // 42 'number'\n",
    "x = \"foo\" + + \"bar\";      // string -> number -> NaN -> string\n",
    "console.log(x, typeof x); // fooNaN string\n",
    "x = !!\"\";                 // string -> boolean -> boolean\n",
    "console.log(x, typeof x); // false 'boolean'\n",
    "x = !!\"foo\";              // string -> boolean -> boolean\n",
    "console.log(x, typeof x); // true 'boolean'\n",
    "x = !0.0;                 // number -> boolean\n",
    "console.log(x, typeof x); // true 'boolean'\n",
    "x = !42;                  // number -> boolean\n",
    "console.log(x, typeof x); // false 'boolean'\n",
    "}"
   ]
  },
  {
   "cell_type": "markdown",
   "metadata": {},
   "source": [
    "## The ```undefined``` Value"
   ]
  },
  {
   "cell_type": "code",
   "execution_count": 15,
   "metadata": {},
   "outputs": [
    {
     "name": "stdout",
     "output_type": "stream",
     "text": [
      "undefined 'undefined'\n"
     ]
    }
   ],
   "source": [
    "// Undefined Value\n",
    "\n",
    "{\n",
    "let x;  // undefined (means uninitialized)\n",
    "console.log(x, typeof x); // undefined 'undefined'\n",
    "}"
   ]
  },
  {
   "cell_type": "markdown",
   "metadata": {},
   "source": [
    "## The ```null``` Value"
   ]
  },
  {
   "cell_type": "code",
   "execution_count": 16,
   "metadata": {},
   "outputs": [
    {
     "name": "stdout",
     "output_type": "stream",
     "text": [
      "null 'object'\n"
     ]
    }
   ],
   "source": [
    "// Null Value\n",
    "\n",
    "{\n",
    "x = null; // null literal (refers to nothing)\n",
    "console.log(x, typeof x); // null 'object'\n",
    "}"
   ]
  },
  {
   "cell_type": "markdown",
   "metadata": {},
   "source": [
    "## Number Type (immutable)\n",
    "\n",
    "* Integral\n",
    "* Floating Point\n",
    "* Special values: Infinity, -Infinity, and NaN"
   ]
  },
  {
   "cell_type": "code",
   "execution_count": 17,
   "metadata": {
    "scrolled": true
   },
   "outputs": [
    {
     "name": "stdout",
     "output_type": "stream",
     "text": [
      "42 'number'\n",
      "9007199254740991 'number'\n",
      "-9007199254740991 'number'\n",
      "3.5 'number'\n",
      "2.220446049250313e-16 'number'\n",
      "6.02214076e+23 'number'\n",
      "1.616255e-35 'number'\n",
      "\n",
      "true\n",
      "false\n",
      "\n",
      "2.7755575615628914e-17\n",
      "true\n",
      "\n",
      "Infinity 'number'\n",
      "NaN 'number'\n",
      "number\n"
     ]
    }
   ],
   "source": [
    "{\n",
    "x = 42; // 64-bit floating point IEE 754 number\n",
    "console.log(x, typeof x);                             // 42 number\n",
    "x = Number.MAX_SAFE_INTEGER;\n",
    "console.log(x, typeof x);                             // 9007199254740991  'number'\n",
    "x = Number.MIN_SAFE_INTEGER;\n",
    "console.log(x, typeof x);                             // -9007199254740991 'number'\n",
    "x = 3.5;  // 64-bit floating point IEE 754 number\n",
    "console.log(x, typeof x);                             // 3.5 'number'\n",
    "x = Number.EPSILON\n",
    "console.log(x, typeof x);                             //2.220446049250313e-16 'number'\n",
    "x = 6.02214076E23// Avogadro constant = 6.02214076×10²³\n",
    "console.log(x, typeof x);                             // 6.02214076e+23 'number'\n",
    "x = 1.616255E-35 // Planck length = 1.616255×10⁻³⁵ m\n",
    "console.log(x, typeof x);                             // 1.616255e-35 'number'\n",
    "console.log()\n",
    "    \n",
    "console.log(0.1 + 0.1 === 0.2)                       // true\n",
    "console.log(0.1 + 0.2 === 0.3)                       // false\n",
    "console.log()\n",
    "\n",
    "const result = Math.abs(0.2 - 0.3 + 0.1); // would be zero if not for roundoff error\n",
    "console.log(result);                                 // 2.7755575615628914e-17\n",
    "console.log(result < Number.EPSILON);                // true\n",
    "console.log()\n",
    "x = 1.0/0; // non-zero divided by Zero is Infinity\n",
    "console.log(x, typeof x);                            // 0/0 Infinity number\n",
    "x = NaN; // NaN literal\n",
    "console.log(x, typeof x);                            // NaN literal NaN number\n",
    "x = 0/0; // zer0 divided by Zero is NaN\n",
    "console.log(typeof x);                               // 0/0 NaN number\n",
    "}"
   ]
  },
  {
   "cell_type": "markdown",
   "metadata": {},
   "source": [
    "## String Type (immutable)\n",
    "\n",
    "* Unicode character sequences\n",
    "* Immutable"
   ]
  },
  {
   "cell_type": "code",
   "execution_count": 18,
   "metadata": {},
   "outputs": [
    {
     "name": "stdout",
     "output_type": "stream",
     "text": [
      "Hello string\n",
      "Hello string\n",
      "Hello string\n",
      "é string\n",
      "‍❤️‍ string\n"
     ]
    }
   ],
   "source": [
    "{\n",
    "x = \"Hello\";\n",
    "console.log(x, typeof x);\n",
    "x = 'Hello';\n",
    "console.log(x, typeof x);\n",
    "x = `Hello`;\n",
    "console.log(x, typeof x);\n",
    "x = '\\u00E9' //é;\n",
    "console.log(x, typeof x);\n",
    "x = '\\u200D\\u2764\\uFE0F\\u200D' //é;\n",
    "console.log(x, typeof x);\n",
    "}"
   ]
  },
  {
   "cell_type": "markdown",
   "metadata": {},
   "source": [
    "## Boolean Type (immutable)"
   ]
  },
  {
   "cell_type": "code",
   "execution_count": 19,
   "metadata": {},
   "outputs": [
    {
     "name": "stdout",
     "output_type": "stream",
     "text": [
      "true 'boolean'\n",
      "false 'boolean'\n",
      "true 'boolean'\n",
      "false 'boolean'\n"
     ]
    }
   ],
   "source": [
    "{\n",
    "x = true;  // boolean true literal\n",
    "console.log(x, typeof x);                // true 'boolean'\n",
    "x = false; // boolean false literal\n",
    "console.log(x, typeof x);                // false 'boolean'\n",
    "x = 1 === 1;  // boolean true expression\n",
    "console.log(x, typeof x);                // true 'boolean'\n",
    "x = 1 === 2; // boolean false expression\n",
    "console.log(x, typeof x);                // false 'boolean'\n",
    "}"
   ]
  },
  {
   "cell_type": "markdown",
   "metadata": {},
   "source": [
    "## Date Type\n"
   ]
  },
  {
   "cell_type": "code",
   "execution_count": 20,
   "metadata": {},
   "outputs": [
    {
     "name": "stdout",
     "output_type": "stream",
     "text": [
      "2020-05-07T14:08:21.140Z 'object'\n"
     ]
    }
   ],
   "source": [
    "x = new Date()\n",
    "console.log(x, typeof x);       // 2020-05-07T13:16:08.775Z 'object'"
   ]
  },
  {
   "cell_type": "markdown",
   "metadata": {},
   "source": [
    "## Array Type"
   ]
  },
  {
   "cell_type": "code",
   "execution_count": 21,
   "metadata": {},
   "outputs": [
    {
     "name": "stdout",
     "output_type": "stream",
     "text": [
      "[ 1, 2 ] 'object'\n"
     ]
    }
   ],
   "source": [
    "{\n",
    "x = [1, 2];\n",
    "console.log(x, typeof x);      // [ 1, 2 ] 'object'\n",
    "}"
   ]
  },
  {
   "cell_type": "markdown",
   "metadata": {},
   "source": [
    "## Function Type"
   ]
  },
  {
   "cell_type": "code",
   "execution_count": 22,
   "metadata": {},
   "outputs": [
    {
     "name": "stdout",
     "output_type": "stream",
     "text": [
      "Named function Hello World! function\n",
      "Lambda function 7 function\n"
     ]
    }
   ],
   "source": [
    "{\n",
    "x = function() { \n",
    "    return \"Hello World!\"; \n",
    "}\n",
    "console.log(\"Named function\", x(), typeof x);\n",
    "\n",
    "x = (a, b) => a + b;\n",
    "console.log(\"Lambda function\", x(3, 4), typeof x);\n",
    "}"
   ]
  },
  {
   "cell_type": "markdown",
   "metadata": {},
   "source": [
    "## Object Literals\n",
    "\n",
    "* A JavaScript object literal is a comma-separated list of name-value pairs in curly braces\n",
    "* Object literals encapsulate data\n"
   ]
  },
  {
   "cell_type": "code",
   "execution_count": 23,
   "metadata": {},
   "outputs": [
    {
     "name": "stdout",
     "output_type": "stream",
     "text": [
      "255 0 0\n",
      "{ red: 255,\n",
      "  green: 0,\n",
      "  blue: 0,\n",
      "  displayMembera: [Function: displayMembera] } 'undefined'\n"
     ]
    }
   ],
   "source": [
    "{\n",
    "var x = {\n",
    "    red: 255,\n",
    "    green: 0,\n",
    "    blue: 0,\n",
    "    displayMembera: function() {\n",
    "        console.log(this.red, this.green, this.blue);\n",
    "    }\n",
    "};\n",
    "x.displayMembera();\n",
    "console.log(x, typeof myObject);\n",
    "}"
   ]
  },
  {
   "cell_type": "markdown",
   "metadata": {},
   "source": [
    "## Enhanced Object literals\n",
    "\n",
    "ES6 supports an enhanced object literal syntax that simplifies your code"
   ]
  },
  {
   "cell_type": "code",
   "execution_count": 38,
   "metadata": {},
   "outputs": [
    {
     "name": "stdout",
     "output_type": "stream",
     "text": [
      "{ x: 40, y: 2, sum: [Function: sum] }\n",
      "40 + 2 = 42\n",
      "{ x: 40, y: 2, sum: [Function: sum] }\n",
      "40 + 2 = 42\n"
     ]
    }
   ],
   "source": [
    "{\n",
    "    // ES5 object literals\n",
    "    var x = 40, y = 2;\n",
    "    var obj = {\n",
    "        x: x,\n",
    "        y: y,\n",
    "        sum:  function() { return x + y; },\n",
    "    };\n",
    "    console.log(obj);\n",
    "    console.log(obj.x + \" + \" + obj.y + \" = \" + obj.sum());\n",
    "}\n",
    "{\n",
    "    // ES6 enhanced object literals\n",
    "    const x = 40, y = 2;\n",
    "    let obj = {\n",
    "        x,\n",
    "        y,\n",
    "        sum()  { return x + y; }\n",
    "    };\n",
    "    console.log(obj);\n",
    "    console.log(obj.x + \" + \" + obj.y + \" = \" + obj.sum());\n",
    "}"
   ]
  },
  {
   "cell_type": "markdown",
   "metadata": {},
   "source": [
    "## Symbol Type (immutable)\n",
    "\n",
    "* A symbol value is created by invoking the ```Symbol``` function\n",
    "* A symbol dynamically produces an new unique immutable anonymous value\n",
    "* A symbol may be used to define and identify an property in an object"
   ]
  },
  {
   "cell_type": "code",
   "execution_count": 49,
   "metadata": {},
   "outputs": [
    {
     "name": "stdout",
     "output_type": "stream",
     "text": [
      "{ [Symbol()]: 10, [Symbol(foo)]: 20, [Symbol(foo)]: 30 }\n",
      "42\n",
      "{}\n"
     ]
    }
   ],
   "source": [
    "{\n",
    "let sym1 = Symbol() // no new keyword (Symbol function is not a constructor)\n",
    "let sym2 = Symbol('foo')\n",
    "let sym3 = Symbol('foo')\n",
    "Symbol('foo') === Symbol('foo') // false (every symbol is unique)\n",
    "\n",
    "let obj = {[sym1]: 10, [sym2]: 20, [sym3]: 30}\n",
    "console.log(obj);                // { [Symbol()]: 10, [Symbol(foo)]: 20, [Symbol(foo)]: 30 }\n",
    "}\n",
    "{\n",
    "let sym = Symbol('foo')\n",
    "let obj = {[sym]: 42}\n",
    "console.log(obj[sym]);           // 42\n",
    "\n",
    "// Symbol-keyed properties are ignored by JSON.stringify()\n",
    "console.log(JSON.stringify({[Symbol('foo')]: 'foo'}));     // {}\n",
    "}"
   ]
  },
  {
   "cell_type": "markdown",
   "metadata": {},
   "source": [
    "## BigInt Type (immutable)\n",
    "\n",
    "See: https://developer.mozilla.org/en-US/docs/Web/JavaScript/Reference/Global_Objects/BigInt\n",
    "\n",
    "* Built-in object that encapsulates an arbitrarily large whole number\n",
    "* It can range beyond the ```2**53-1``` limit on the number (IEEE 754 float) type\n",
    "* Created by appending n to an integer literal or by calling the function BigInt()"
   ]
  },
  {
   "cell_type": "code",
   "execution_count": 51,
   "metadata": {},
   "outputs": [
    {
     "name": "stdout",
     "output_type": "stream",
     "text": [
      "true\n",
      "true\n",
      "18014398509481984n\n"
     ]
    }
   ],
   "source": [
    "console.log(typeof 1n === 'bigint');           // true\n",
    "console.log(typeof BigInt('1') === 'bigint');  // true\n",
    "console.log(2n ** 54n);                        // 18014398509481984n"
   ]
  },
  {
   "cell_type": "code",
   "execution_count": null,
   "metadata": {},
   "outputs": [],
   "source": []
  }
 ],
 "metadata": {
  "kernelspec": {
   "display_name": "Javascript (Node.js)",
   "language": "javascript",
   "name": "javascript"
  },
  "language_info": {
   "file_extension": ".js",
   "mimetype": "application/javascript",
   "name": "javascript",
   "version": "10.13.0"
  }
 },
 "nbformat": 4,
 "nbformat_minor": 4
}
