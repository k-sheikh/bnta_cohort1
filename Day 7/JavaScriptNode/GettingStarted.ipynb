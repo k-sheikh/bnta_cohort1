{
 "cells": [
  {
   "cell_type": "markdown",
   "metadata": {},
   "source": [
    "# Getting Started\n",
    "\n",
    "* JavaScript was created by Brendan Eich at Netscape in 1995\n",
    "* JavaScript is a trademark currently owned by Oracle (previously owned by Sun)\n",
    "* JavaScript is the common name of the programming language\n",
    "* ECMAScript is the name used by the language specification standard\n",
    "* Supports dynamic typing, prototype-based object-orientation, and first-class functions\n",
    "* See: https://developer.mozilla.org/en-US/docs/Learn/Getting_started_with_the_web/JavaScript_basics\n",
    "* Install Node.js: https://nodejs.org\n",
    "\n",
    "## JavaScript Everywhere\n",
    "* Client-side: HTTP client (web browser page with embedded ```script``` tags)\n",
    "* Server-side: HTTP server (node.js, possibly with a server-side JavaScript framework such as Express)\n",
    "* Embedded mobile device app frameworks: Electron, Cordova, NativeScript, etc.\n",
    "* Dev toolchain: JavaScript CLIs (NodeJS, along with VisualStudio Code, Babel, Webpack, etc.)\n",
    "* Database scripting environments (MongoDB, CouchDB, etc.)\n",
    "* Native JavaScript: cross-platform apps that run device hardware (NativeScript, Ionic, etc.)\n",
    "\n",
    "## JavaScript APIs, Libraries, and Frameworks\n",
    "* Browser APIs: File, IndexedDB, Web Audio, Web Sockets, WebGL, Web Storage, Web Workers, Canvas, etc.\n",
    "* Node APIs: HTTP, REST, MongoDB, socket.io, axios, etc.\n",
    "* Client-side libraries and frameworks: Angular, React.js, Vue.js, etc.\n",
    "* Server-side libraries and frameworks: Node.js, Express.js, etc.\n",
    "* Node.js-based development tools: npm, babel, webpack, VS code, etc.\n",
    "* Thousands more\n",
    "\n",
    "## JavaScript Runtime Environments\n",
    "* JavaScript code is just text that is interpreted dynamically at runtime like Python\n",
    "* JavaScript is not normally compiled into native binary code prior to execution (unlike C++, Rust or Go)\n",
    "* JavaScript engine implements (some version of) the standard ECMAScript language specification\n",
    "* Chrome V8 – Google Chrome, Opera, NodeJS, and Couchbase\n",
    "* SpiderMonkey – Mozilla Firefox\n",
    "* Nitro – Apple Safari\n",
    "* Chakra – Microsoft Edge (formerly Chakra now V8)\n",
    "\n",
    "## JavaScript is Single Threaded\n",
    "* JavaScript engine instance runs all JavaScript code in a single thread\n",
    "* Single threaded event loop dispatches events in the event queue to handler functions (callbacks)\n",
    "* When a callback function runs, it blocks others from running\n",
    "* No context switching, all callbacks in event queue must wait to be dispatched\n",
    "\n",
    "## NodeJS\n",
    "\n",
    "* Developed initially by Ryan Dahl in 2009 (but see: https://en.wikipedia.org/wiki/Deno_(software))\n",
    "* Open-source cross-platform JavaScript runtime (V8) outside of web browser\n",
    "* Single-threaded event loop\n",
    "* Non-blocking I/O calls\n",
    "* Built-in npm package manager\n",
    "* For developing command line tools and server-side scripting\n",
    "* The official Node.js website and installation instructions: https://nodejs.org\n",
    "* Node.js Documentation: https://nodejs.org/api"
   ]
  },
  {
   "cell_type": "markdown",
   "metadata": {},
   "source": [
    "## Visual Studio Code\n",
    "\n",
    "See: Download Visual Studio Code: https://code.visualstudio.com/download\n",
    "\n",
    "### Visual Studio Code JavaScript Extensions\n",
    "\n",
    "See: https://code.visualstudio.com/docs/nodejs/extensions\n",
    "\n",
    "* ES6 Code Snippets Extension: https://marketplace.visualstudio.com/items?itemName=xabikos.JavaScriptSnippets\n",
    "* Debugger for Chrome Extension: https://marketplace.visualstudio.com/items?itemName=msjsdiag.debugger-for-chrome\n",
    "* ESLint Extension: https://marketplace.visualstudio.com/items?itemName=dbaeumer.vscode-eslint\n",
    "* Live ServerExtension: https://marketplace.visualstudio.com/items?itemName=ritwickdey.LiveServer\n",
    "* JSLint: https://marketplace.visualstudio.com/items?itemName=ajhyndman.jslint\n",
    "\n",
    "### Visual Studio Code JavaScript Debugging\n",
    "* VScode Debugging: https://code.visualstudio.com/docs/editor/debugging\n",
    "* VScode Node.js Debugging: https://code.visualstudio.com/docs/nodejs/nodejs-debugging\n",
    "* VScode Chrome Debugging: https://code.visualstudio.com/blogs/2016/02/23/introducing-chrome-debugger-for-vs-code"
   ]
  },
  {
   "cell_type": "markdown",
   "metadata": {},
   "source": [
    "## Getting Started with Input and Output\n",
    "\n",
    "* The ```window.prompt()``` method is for prompting the user for text input (browser only)\n",
    "* The ```window.alert()``` method is for notifying the user with text output (browser only)\n",
    "* The ```console.log()``` method is for node.js and browser F12 Dev Tools console output (sdtout)\n",
    "* The ```console.error()``` method is for node.js and browser F12 Dev Tools console output (stderr)\n",
    "* The ```readline.question()``` method is for prompting the user for console text input using:\n",
    "    - The ```readline``` module supports asynchronous standard input on node.js (non-blocking)\n",
    "    - The ```readline-sync``` module supports synchronous standard input on node.js (blocking)\n",
    "    - **NOTE**: non-blocking is usually preferred"
   ]
  },
  {
   "cell_type": "markdown",
   "metadata": {},
   "source": [
    "### The ```console.log()``` and ```console.error()``` Methods (browser and node.js)\n",
    "\n",
    "* Browser F12 Dev Tools (provides a console output for debugging purposes)\n",
    "* Node.js console output (used for all console output purposes)\n",
    "* ```console.log()``` and ```console.error()``` write text to standard console output\n",
    "* ```console.log()``` writes to the stdout stream (used for normal console output)\n",
    "* ```console.error()``` writes to the stderr stream (used for error reporting/logging)\n",
    "* Both stdin and stdout write to the console by default (can be redirected to any stream, e.g. a file)\n",
    "* Both ```console.log()``` and ```console.error()``` supports formatting of console output\n",
    "\n",
    "Try it out:\n",
    "\n",
    "1. Copy/paste following code into a new file named ```myFirstScript.js```\n",
    "2. Open command prompt and set current directory using the ```cd``` command\n",
    "3. Run it in Node.js with the command ```node myFirstScript.js```\n",
    "4. Verify the output says ```Hello World!```\n",
    "\n",
    "```javascript\n",
    "// myFirstScript.js\n",
    "console.log(\"Hello World!\");\n",
    "```\n",
    "5. Try it at: https://repl.it/languages/javascript\n",
    "6. Try it in Visual Studio Code\n",
    "7. Open at the Node command pronpt as well as in F12 Dev Tools and try the following commands:\n",
    "  - console.log()\n",
    "  - console.error()\n",
    "  - readline.question()"
   ]
  },
  {
   "cell_type": "markdown",
   "metadata": {},
   "source": [
    "### The ```window.alert()``` and ```window.prompt()``` Methods (browser only)\n",
    "\n",
    "* The ```window.alert()``` method notifies the user with an alert dialog with message and OK button\n",
    "* The  ```window.prompt()``` method returns the text entered by the user in a prompt dialog\n",
    "\n",
    "Try it out:\n",
    "\n",
    "1. Copy/paste following code into a new file named ```myFirstScript.html```\n",
    "2. Open the ```myFirstScript.html``` file in your browser\n",
    "3. Verify that the ```prompt``` and ```alert``` methods worked properly\n",
    "\n",
    "```html\n",
    "<!-- myFirstScript.html -->\n",
    "<script>\n",
    "    var input = window.prompt(\"Please enter your name: \", \"anonymous\");\n",
    "    window.alert(\"Hello \" + input + \".\");\n",
    "</script>\n",
    "```"
   ]
  },
  {
   "cell_type": "markdown",
   "metadata": {},
   "source": [
    "## Examples: The ```console.log()``` and ```console.error()``` Methods\n",
    "\n",
    "Try these code snipits in an any of the following execution environments\n",
    "  - Node.JS CLI\n",
    "  - In this Jupyter Notebook\n",
    "  - In an online REPL (e.g.https://repl.it/languages/nodejs)\n",
    "  - In your browser console (i.e. F12 tools)\n",
    "  - In a local source code editor (e.g. Spyder, VSCode, etc.)"
   ]
  },
  {
   "cell_type": "code",
   "execution_count": 1,
   "metadata": {},
   "outputs": [
    {
     "name": "stdout",
     "output_type": "stream",
     "text": [
      "3 + 4 =  7\n"
     ]
    },
    {
     "name": "stderr",
     "output_type": "stream",
     "text": [
      "ooops\n"
     ]
    }
   ],
   "source": [
    "console.log(\"3 + 4 = \", 3 + 4); // output goes to stdout \n",
    "console.error(\"ooops\");         // output goes to stderr "
   ]
  },
  {
   "cell_type": "code",
   "execution_count": 2,
   "metadata": {},
   "outputs": [
    {
     "name": "stdout",
     "output_type": "stream",
     "text": [
      "abc 123\n",
      "{ foo: 123, bar: 'abc' }\n",
      "{\"foo\":123,\"bar\":\"abc\"}\n",
      "100 %\n"
     ]
    }
   ],
   "source": [
    "// %s converts parameter to string\n",
    "console.log('%s %s', 'abc', 123);           // abc 123\n",
    "// %o converts parameter to object\n",
    "console.log('%o', {foo: 123, bar: 'abc'});  // { foo: 123, bar: 'abc' }\n",
    "// %j converts parameter to JSON string\n",
    "console.log('%j', {foo: 123, bar: 'abc'});  // {\"foo\":123,\"bar\":\"abc\"}\n",
    "// %% escapes to a single % character\n",
    "console.log('%s %%', 100);                  // 100 %"
   ]
  },
  {
   "cell_type": "markdown",
   "metadata": {},
   "source": [
    "## The ```JSON.stringify()``` Method\n",
    "\n",
    "* Converts a ```value``` object to a nicely structured JSON string representation\n",
    "* Optionally filters/replaces object properties if a ```replacer``` function/string-array parameter is provided \n",
    "* Optionally formats indentation in the resulting JSON string if a ```space``` parameter is provided\n",
    "\n",
    "Here is the syntax (https://developer.mozilla.org/en-US/docs/Web/JavaScript/Reference/Global_Objects/JSON/stringify):\n",
    "\n",
    "```JSON.stringify(value[, replacer[, space]])```\n",
    "\n",
    "* The ```value``` parameter is the object to convert to a JSON string\n",
    "* The ```replacer``` parameter (optional) is a function or string array to filter/replace properties in the resulting JSON string\n",
    "* The ```space``` parameter (optional) is a string or number used to insert indentation for readability purposes\n",
    "* The ```return``` value is the JSON string representing the original object (the ```value``` parameter)"
   ]
  },
  {
   "cell_type": "code",
   "execution_count": 3,
   "metadata": {},
   "outputs": [
    {
     "name": "stdout",
     "output_type": "stream",
     "text": [
      "{ first: 'Joe', last: 'Shmoe', foo: [ 1, 2, 3 ] }\n",
      "\n",
      "{\n",
      "  \"first\": \"Joe\",\n",
      "  \"last\": \"Shmoe\",\n",
      "  \"foo\": [\n",
      "    1,\n",
      "    2,\n",
      "    3\n",
      "  ]\n",
      "}\n"
     ]
    }
   ],
   "source": [
    "{\n",
    "obj = {first: 'Joe', last: 'Shmoe', foo: [1,2,3]}\n",
    "console.log(obj);\n",
    "console.log();                             // object as a single line string representation\n",
    "console.log(JSON.stringify(obj, null, 2)); // object formatted as a nice readable JSON string\n",
    "}"
   ]
  },
  {
   "cell_type": "code",
   "execution_count": 4,
   "metadata": {},
   "outputs": [
    {
     "name": "stdout",
     "output_type": "stream",
     "text": [
      "{}\n",
      "true\n",
      "\"foo\"\n",
      "[1,\"false\",false]\n",
      "[null,null,null]\n",
      "{\"x\":5}\n"
     ]
    }
   ],
   "source": [
    "{ //See: https://developer.mozilla.org/en-US/docs/Web/JavaScript/Reference/Global_Objects/JSON/stringify\n",
    "console.log(JSON.stringify({}));                    // {}\n",
    "console.log(JSON.stringify(true));                  // true\n",
    "console.log(JSON.stringify('foo'));                 // \"foo\"\n",
    "console.log(JSON.stringify([1, 'false', false]));   // [1,\"false\",false]\n",
    "console.log(JSON.stringify([NaN, null, Infinity])); // [null,null,null]\n",
    "console.log(JSON.stringify({ x: 5 }));              // {\"x\":5}\n",
    " \n",
    "// many more nice examples at the developer.mozilla.org URL above\n",
    "}"
   ]
  },
  {
   "cell_type": "markdown",
   "metadata": {},
   "source": [
    "### The ```readline-sync``` Module: Synchronous Standard Input\n",
    "\n",
    "* **NOTE**: No ```stdio``` in Jupyter so we will copy/paste into a ```.js``` file and run it on node\n",
    "* **NOTE**: you need to use ```npm install --save readline-sync``` for this to work\n",
    "\n",
    "Try it out:\n",
    "\n",
    "1. Copy/paste following code into a new file named ```myReadlineSync.js```\n",
    "2. Open command prompt and set current directory using the ```cd``` command\n",
    "3. Run the command ```npm install --save readline-sync``` (this creates the ```node_modules``` folder that now contains the ```readline-sync``` module)\n",
    "4. Run it in Node.js with the command ```node myReadlineSync.js```\n",
    "5. Verify that it prompts the user for console input and then displays the result in console output\n",
    "\n",
    "```javascript\n",
    "// myReadlineSync.js\n",
    "const readline = require('readline-sync');\n",
    "let name = readline.question(\"Please enter your name: \");\n",
    "name = name || \"anonymous\";\n",
    "console.log(\"Hello \" + name + \".\");\n",
    "```\n",
    "**NOTE**: Cannot try it at: https://repl.it/languages/nodejs (must run ```npm install --save readline-sync``` in OS shell)"
   ]
  },
  {
   "cell_type": "markdown",
   "metadata": {},
   "source": [
    "### The ```readline``` Module: Asynchronous Standard Input\n",
    "\n",
    "* **NOTE**: No ```stdio``` in Jupyter so we will copy/paste into a ```.js``` file and run it on node\n",
    "* **NOTE**: you need to use ```npm install --save readline``` for this to work\n",
    "\n",
    "Try it out:\n",
    "\n",
    "1. Copy/paste following code into a new file named ```myReadlineAsync.js```\n",
    "2. Open command prompt and set current directory using the ```cd``` command\n",
    "3. Run the command ```npm install --save readline``` (this creates the ```node_modules``` folder that now contains the ```readline``` module)\n",
    "4. Run it in Node.js with the command ```node myReadlineAsync.js```\n",
    "5. Verify that it prompts the user for console input and then displays the result in console output\n",
    "\n",
    "```javascript\n",
    "// myReadlineAsync.js\n",
    "const readline = require('readline').createInterface({\n",
    "    input: process.stdin,\n",
    "    output: process.stdout\n",
    "});\n",
    "readline.question('Please enter your name: ', (name) => {\n",
    "    console.log(`Hello ${name}.`);\n",
    "    readline.close();\n",
    "});\n",
    "```\n",
    "**NOTE**: Cannot try it at: https://repl.it/languages/nodejs (must run ```npm install --save readline``` in OS shell)"
   ]
  },
  {
   "cell_type": "markdown",
   "metadata": {},
   "source": [
    "### Raw Keyboard Input\n",
    "\n",
    "* **NOTE**: No ```stdio``` in Jupyter so we will copy/paste into a ```.js``` file and run it on node\n",
    "* **NOTE**: This demo does not require any ```npm install``` command (uses the built-in global ```process``` module)\n",
    "\n",
    "Try it out:\n",
    "\n",
    "1. Copy/paste following code into a new file named ```myRawKeyboardInput.js```\n",
    "2. Open command prompt and set current directory using the ```cd``` command\n",
    "3. Run it in Node.js with the command ```node myRawKeyboardInput.js```\n",
    "4. Verify that it reads console input one keystroke at a time and immediatley displays the unicode value for each keystroke (for example, the spacebar displays 20, which is hexadecimal for 32, which is the code for space character, similarly the enter key displays 0d, and the z key displays 7a, etc.)\n",
    "5. To terminite the program, use the standard ```ctrl-c``` keyboard interrupt.\n",
    "\n",
    "```javascript\n",
    "// myRawKeyboardInput.js\n",
    "var stdin = process.stdin;                 // standard input stream\n",
    "var stdout = process.stdout;               // standard output stream\n",
    "stdin.setRawMode( true );                  // character-by-character input\n",
    "stdin.resume();                            // start reading from stdin\n",
    "stdin.setEncoding('hex');                  // 'hex', or 'utf8', or ...\n",
    "console.log(\"Hit keys or ctrl-c to quit\"); // prompt user\n",
    "stdin.on( 'data', function( key ){         // on input data event\n",
    "    if ( key == 0x03 ) {                   // ctrl-c for end of input\n",
    "        process.exit();                    // die\n",
    "    }\n",
    "    stdout.write( key + \" \");              // write input key to stdout\n",
    "});\n",
    "```\n",
    "6. Try it out at: https://repl.it/languages/nodejs (Hit keys to see charcter codes or ctrl-c to quit)"
   ]
  },
  {
   "cell_type": "markdown",
   "metadata": {},
   "source": [
    "### A More Interesting Example: Cycle Student Names Randomly and Equally\n",
    "\n",
    "* This Node.js program cycles names randomly and equally from a student roster to select the next student for asking a pop-quiz question (nobody expects the Spanish Inquisition)\n",
    "* Steps:\n",
    "    1. Create folder -> ```next_random_student```\n",
    "    2. In that folder -> write JSON data shown below -> ```roster.json```\n",
    "    3. In that folder -> write JavaScript code shown below -> ```next_random_student.js```\n",
    "    4. In that folder -> run the command -> ```node next_random_student.js```\n",
    "    5. Verify that every time you hit enter, an new random name is displayed\n",
    "    6. Hit ```ctrl-c``` in the command window to terminate the script\n",
    "\n",
    "**roster.json**\n",
    "```json\n",
    "[\n",
    "\"Sally\",\n",
    "\"Joe\",\n",
    "\"Jane\",\n",
    "\"Ralph\"\n",
    "]\n",
    "```\n",
    "\n",
    "**next_random_student.js**\n",
    "```javascript\n",
    "// next_random_student.js\n",
    "const fs = require('fs');                         // fs module is built-in (no npm install)\n",
    "process.stdin.setRawMode( true );                 // character-by-character input\n",
    "process.stdin.resume();                           // start reading from stdin\n",
    "process.stdin.setEncoding('hex');                 // 'hex', or 'utf8', or ...\n",
    "const buffer = fs.readFileSync('./roster.json');  // Synchronously read JSON file into binary buffer\n",
    "let students_todo = JSON.parse(buffer);           // Array.isArray(students_todo) === true\n",
    "let students_done = [];                           // Array.isArray(students_done) === true\n",
    "console.log(\"\\nHit any key for next student or ctrl-c to quit.\\n\");\n",
    "let round = 1;\n",
    "process.stdin.on( 'data', function( key ) {               // on input data event\n",
    "    if ( key == 0x03 ) process.exit();            // ctrl-c terminates program\n",
    "    let i = Math.floor(Math.random() * students_todo.length); // random index in array\n",
    "    console.log(students_todo[i]);\n",
    "    students_done.push(students_todo.splice(i,1)) // move element from todo to done\n",
    "    if (students_todo.length === 0) {             // all elements been moved so fresh start\n",
    "        students_todo = JSON.parse(buffer);\n",
    "        students_done = [];\n",
    "        console.log(`--- Round ${round++} Complete ---\\n`);\n",
    "    }\n",
    "});\n",
    "```\n",
    "**NOTE**: Cannot try it at: https://repl.it/languages/nodejs (must create ```roster.json``` in OS file system)"
   ]
  },
  {
   "cell_type": "markdown",
   "metadata": {},
   "source": [
    "### Another Interesting Example: Simple Static Content HTTP Server\n",
    "\n",
    "* This Node.js script implements a very very simple static content HTTP server (tiny toy web server)\n",
    "* This example serves a very simple HTML file that just contains a raw text string (not full proper HTML)\n",
    "* A more flexible HTTP server could make use of a fancy web server framework (e.g. Express)\n",
    "* Steps:\n",
    "    1. Create folder -> ```simpleStaticContentHTTPServer```\n",
    "    2. In that folder -> write JavaScript code shown below -> ```simpleStaticContentHTTPServer.js```\n",
    "    3. In that folder -> run the command -> ```node simpleStaticContentHTTPServer.js```\n",
    "    4. Open your browser to view the specified URL ```http://localhost:8080```\n",
    "    5. Verify that the browser displays the static content ```Hello World!```\n",
    "    6. Hit ```ctrl-c``` in the command window to terminate the server \n",
    "    \n",
    "**NOTE**: Actually, you can try it at: https://repl.it/languages/nodejs (must create an account on repl.it)\n",
    "**NOTE**: We will look at a few more interesting web server examples later"
   ]
  },
  {
   "cell_type": "code",
   "execution_count": 7,
   "metadata": {},
   "outputs": [
    {
     "name": "stdout",
     "output_type": "stream",
     "text": [
      "Browse -> http://localhost:8080\n"
     ]
    }
   ],
   "source": [
    "// simpleStaticContentHTTPServer.js\n",
    "var http = require('http');                          // http module is built-in (no npm install)\n",
    "http.createServer(function (req, res) {              // create server with callback (req and resp) \n",
    "  res.writeHead(200, {'Content-Type': 'text/html'}); // write content-type header to HTTP response\n",
    "    res.write('Hello World!');                       // write body content to HTTP response object\n",
    "    res.end();                           \n",
    "}).listen(8080);                                     // sit back and wait for requests to be handled\n",
    "\n",
    "// we assume here that port 8080 is currently not in use... change if necessary\n",
    "console.log('Browse -> http://localhost:8080');      // prompt the user to open a browser to view page"
   ]
  },
  {
   "cell_type": "markdown",
   "metadata": {},
   "source": [
    "**NOTE**: The ```http://localhost:8080``` link above actually works and runs the server directly in this \n",
    "Jupyter notebook\n",
    "* But if you do that, to shut down this server, you would need to restart the Jupyter JavaScript kernel \n",
    "* If you do not shut this server down, then it will not release port ```8080```\n",
    "* With port ```8080``` in use, it will fail if you then try to run it in the node command prompt\n",
    "* Probably easier just to follow the steps outlined above and do it at the node command prompt rather than clicking this link in this Jupyter notebook!"
   ]
  },
  {
   "cell_type": "code",
   "execution_count": null,
   "metadata": {},
   "outputs": [],
   "source": []
  }
 ],
 "metadata": {
  "kernelspec": {
   "display_name": "Javascript (Node.js)",
   "language": "javascript",
   "name": "javascript"
  },
  "language_info": {
   "file_extension": ".js",
   "mimetype": "application/javascript",
   "name": "javascript",
   "version": "10.13.0"
  }
 },
 "nbformat": 4,
 "nbformat_minor": 2
}
