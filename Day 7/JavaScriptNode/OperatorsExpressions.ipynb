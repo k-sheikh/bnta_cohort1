{
 "cells": [
  {
   "cell_type": "markdown",
   "metadata": {},
   "source": [
    "# Operators and Expressions\n",
    "\n",
    "https://developer.mozilla.org/en-US/docs/Web/JavaScript/Reference/Operators\n",
    "\n",
    "* Primary Expressions\n",
    "* Left-Hand-Side Expressions\n",
    "* Increment and Decrement Operators\n",
    "* Unary Operators\n",
    "* Arithmetic Operators\n",
    "* Relational Operators\n",
    "* Equality Operators\n",
    "* Bitwise Shift Operators\n",
    "* Binary Bitwise Operators\n",
    "* Binary Logical Operators\n",
    "* Conditional Ternary Operator\n",
    "* Assignment Operators\n",
    "* Comma Operator"
   ]
  },
  {
   "cell_type": "markdown",
   "metadata": {},
   "source": [
    "## Primary Expressions\n",
    "\n",
    "* ```this``` keyword refers to a special property of an execution context\n",
    "* ```function``` keyword defines a function expression\n",
    "* ```class``` keyword defines a class expression (ES2015)\n",
    "* ```function*``` keyword defines a generator function expression\n",
    "* ```yield``` keyword pauses and resumes a generator function\n",
    "* ```yield*``` keyword delegates to another generator function or iterable object\n",
    "* ```async``` keyword defines an async function expression\n",
    "* ```await``` keyword pauses and resumes an async function and waits on promise resolution/rejection\n",
    "* ```[]``` array initializer/literal syntax\n",
    "* ```{}``` object initializer/literal syntax\n",
    "* ```/ab+c/i``` regular expression literal syntax ( same as ```new RegExp(/ab+c/, 'i')```)\n",
    "* ```( )``` grouping operator"
   ]
  },
  {
   "cell_type": "markdown",
   "metadata": {},
   "source": [
    "## Left-Hand-Side Expressions\n",
    "\n",
    "* ```object.property```, ```object[\"property\"]``` property accessors access object members\n",
    "* ```new``` operator creates an instance of a constructor function\n",
    "* ```new.target``` (in constructor function) refers to constructor that was invoked by ```new```\n",
    "* ```super``` keyword calls the parent constructor\n",
    "* ```...obj``` spread syntax allows expression to be expanded in places for multiple arguments (function call) or multiple elements (array literal)"
   ]
  },
  {
   "cell_type": "markdown",
   "metadata": {},
   "source": [
    "## Increment and Decrement Operators\n",
    "\n",
    "* ```number++``` postfix increment operator\n",
    "* ```number--``` postfix decrement operator\n",
    "* ```++number``` prefix increment operator\n",
    "* ```--number``` prefix decrement operator"
   ]
  },
  {
   "cell_type": "code",
   "execution_count": 7,
   "metadata": {},
   "outputs": [
    {
     "name": "stdout",
     "output_type": "stream",
     "text": [
      "1\n",
      "2\n",
      "1\n",
      "2\n",
      "1\n",
      "1\n",
      "2\n",
      "2\n",
      "1\n",
      "2\n",
      "2\n",
      "1\n",
      "1\n"
     ]
    }
   ],
   "source": [
    "{\n",
    "    let a = 1;\n",
    "    console.log(a);   // 1\n",
    "    a++;\n",
    "    console.log(a);   // 2\n",
    "    a--;\n",
    "    console.log(a);   // 1\n",
    "    ++a;\n",
    "    console.log(a);   // 2\n",
    "    --a;\n",
    "    console.log(a);   // 1\n",
    "    console.log(a++); // 1\n",
    "    console.log(a);   // 2\n",
    "    console.log(a--); // 2\n",
    "    console.log(a);   // 1\n",
    "    \n",
    "    console.log(++a); // 2\n",
    "    console.log(a);   // 2\n",
    "    console.log(--a); // 1\n",
    "    console.log(a);   // 1\n",
    "}"
   ]
  },
  {
   "cell_type": "markdown",
   "metadata": {},
   "source": [
    "## Unary Operators\n",
    "\n",
    "A unary operator takes only one operand\n",
    "\n",
    "* ```delete``` operator deletes a property from an object\n",
    "void\n",
    "* ```void``` operator evaluates the operand expression and then returns undefined\n",
    "* ```typeof``` operator determines the type of an object\n",
    "* ```+``` unary plus operator converts its operand to Number type\n",
    "* ```-``` unary negation operator converts its operand to Number type and negates it\n",
    "* ```~``` is the bitwise NOT operator\n",
    "* ```!``` is the logical NOT operator"
   ]
  },
  {
   "cell_type": "code",
   "execution_count": 18,
   "metadata": {},
   "outputs": [
    {
     "name": "stdout",
     "output_type": "stream",
     "text": [
      "{ x: 42 }\n",
      "{}\n",
      "3\n",
      "undefined\n",
      "number\n",
      "string\n",
      "42\n",
      "-42\n",
      "-8\n",
      "false\n"
     ]
    }
   ],
   "source": [
    "{\n",
    "    //delete operator\n",
    "    let obj = {};\n",
    "    obj.x = 42;\n",
    "    console.log(obj);            // { x: 42 }\n",
    "    delete obj.x;\n",
    "    console.log(obj);            // {}\n",
    "\n",
    "    // void operator\n",
    "    console.log((1+2));          // 3\n",
    "    console.log(void (1+2));     // undefined\n",
    "    \n",
    "    // typeof operator\n",
    "    console.log(typeof 42);      // number\n",
    "    console.log(typeof 'hello'); // string\n",
    "    \n",
    "    // unary plus operator\n",
    "    console.log(+42);            // 42\n",
    "    \n",
    "    // unary negation operator\n",
    "    console.log(-42);            // -42\n",
    "    \n",
    "    // bitwise NOT operator\n",
    "    console.log(~7);             // -8 (~00000000000000000000000000000111 -> 11111111111111111111111111111000)\n",
    "    \n",
    "    // logical NOT operator\n",
    "    console.log(!(42 == 40+2));  // false\n",
    "}"
   ]
  },
  {
   "cell_type": "markdown",
   "metadata": {},
   "source": [
    "## Arithmetic Operators\n",
    "\n",
    "* ```+``` addition operator\n",
    "* ```-``` subtraction operator\n",
    "* ```/``` division operator\n",
    "* ```*``` multiplication operator\n",
    "* ```%``` remainder operator\n",
    "* ```**``` exponentiation operator (ES6)"
   ]
  },
  {
   "cell_type": "code",
   "execution_count": 1,
   "metadata": {},
   "outputs": [
    {
     "name": "stdout",
     "output_type": "stream",
     "text": [
      "7\n",
      "-1\n",
      "0.6\n",
      "12\n",
      "3\n",
      "81\n"
     ]
    }
   ],
   "source": [
    "console.log(3+4); // 7\n",
    "console.log(3-4); // -1\n",
    "console.log(3/5); // 0.6\n",
    "console.log(3*4); // 12\n",
    "console.log(3%4); // 3\n",
    "console.log(3**4); // 81"
   ]
  },
  {
   "cell_type": "markdown",
   "metadata": {},
   "source": [
    "## Relational Operators\n",
    "\n",
    "* ```in``` determines whether an object has a given property.\n",
    "* ```instanceof``` determines whether an object is an instance of another object.\n",
    "* ```<``` less than operator\n",
    "* ```>``` greater than operator\n",
    "* ```<=``` less than or equal operator\n",
    "* ```>=``` greater than or equal operator"
   ]
  },
  {
   "cell_type": "markdown",
   "metadata": {},
   "source": [
    "## Equality Operators\n",
    "\n",
    "* ```==``` equality operator\n",
    "* ```!=``` inequality operator\n",
    "* ```===``` identity operator\n",
    "* ```!==``` nonidentity operator"
   ]
  },
  {
   "cell_type": "markdown",
   "metadata": {},
   "source": [
    "## Bitwise Shift Operators\n",
    "\n",
    "* ```<<``` bitwise left shift operator\n",
    "* ```>>``` bitwise right shift operator\n",
    "* ```>>>``` bitwise unsigned right shift operator"
   ]
  },
  {
   "cell_type": "markdown",
   "metadata": {},
   "source": [
    "## Binary Bitwise Operators\n",
    "\n",
    "* ```&``` bitwise AND\n",
    "* ```|``` bitwise OR\n",
    "* ```^``` bitwise XOR"
   ]
  },
  {
   "cell_type": "markdown",
   "metadata": {},
   "source": [
    "## Binary Logical Operators\n",
    "\n",
    "* ```&&``` logical AND\n",
    "* ```||``` logical OR"
   ]
  },
  {
   "cell_type": "markdown",
   "metadata": {},
   "source": [
    "## Conditional Ternary Operator\n",
    "\n",
    "* ```(condition ? ifTrue : ifFalse)``` returns one of two values based on logical value of condition"
   ]
  },
  {
   "cell_type": "markdown",
   "metadata": {},
   "source": [
    "## Assignment Operators\n",
    "\n",
    "* ```=``` assignment operator\n",
    "* ```+=``` addition assignment\n",
    "* ```-=``` subtraction assignment\n",
    "* ```*=``` multiplication assignment\n",
    "* ```/=``` division assignment\n",
    "* ```%=``` remainder assignment\n",
    "* ```<<=``` left shift assignment\n",
    "* ```>>=``` right shift assignment\n",
    "* ```>>>=``` unsigned right shift assignment\n",
    "* ```&=``` bitwise AND assignment\n",
    "* ```|=``` bitwise OR assignment\n",
    "* ```^=``` bitwise XOR assignment\n",
    "* ```let [a, b] = [1, 2]``` destructuring assignment of array items\n",
    "* ```let {a, b} = {a:1, b:2}``` destructuring assignment of object properties"
   ]
  },
  {
   "cell_type": "code",
   "execution_count": 1,
   "metadata": {},
   "outputs": [
    {
     "name": "stdout",
     "output_type": "stream",
     "text": [
      "10\n",
      "13\n",
      "12\n",
      "24\n",
      "12\n",
      "2\n",
      "80\n",
      "-56\n",
      "16\n",
      "16\n",
      "8\n",
      "1073741823\n",
      "0\n",
      "40\n",
      "13\n",
      "81\n"
     ]
    }
   ],
   "source": [
    "{\n",
    "    let x = 10;     // assignment\n",
    "    console.log(x); // 10\n",
    "    \n",
    "    x += 3;         // addition assignment\n",
    "    console.log(x); // 13\n",
    "    \n",
    "    x -= 1;         // subtraction assignment\n",
    "    console.log(x); // 12\n",
    "    \n",
    "    x *= 2;         // multiplication assignment\n",
    "    console.log(x); // 24\n",
    "    \n",
    "    x /= 2;         // division assignment\n",
    "    console.log(x); // 12\n",
    "    \n",
    "    x %= 5;         // remainder assignment\n",
    "    console.log(x); // 2\n",
    "    \n",
    "    x = 10;\n",
    "    x <<= 3;        // left shift assignment on positive number\n",
    "    console.log(x); // 80\n",
    "    \n",
    "    x = -7\n",
    "    x <<= 3;        // left shift assignment on negative number\n",
    "    console.log(x); // -56\n",
    "    \n",
    "    x = 64;\n",
    "    x >>= 2;        // right shift assignment on positive number\n",
    "    console.log(x); // 16\n",
    "    \n",
    "    x >>= -64;      // right shift assignment on negative number\n",
    "    console.log(x); // 16\n",
    "    \n",
    "    x = 32;\n",
    "    x >>>= 2;        // unsigned right shift assignment on positive number\n",
    "    console.log(x);  // 8\n",
    "    \n",
    "    x = -3;\n",
    "    x >>>= 2;       // unsigned right shift assignment on negative number\n",
    "    console.log(x); // 1073741823\n",
    "    \n",
    "    x = 32;\n",
    "    x &= 8;         // bitwise AND assignment\n",
    "    console.log(x); // 0\n",
    "    \n",
    "    x = 32;\n",
    "    x |= 8;         // bitwise OR assignment\n",
    "    console.log(x); // 40\n",
    "    \n",
    "    x = 5;\n",
    "    x ^= 8;         // bitwise XOR assignment\n",
    "    console.log(x); // 13\n",
    "    \n",
    "    console.log(3 ** 4); // 81\n",
    "}    "
   ]
  },
  {
   "cell_type": "markdown",
   "metadata": {},
   "source": [
    " ## Destructuring Assignment, Rest, and Spread\n",
    " \n",
    "* Destructuring assignment receives/unpacks an array (elements) or object (properties) into distinct variables in an assignment statement\n",
    "* The ```...``` rest operator receives list of values to be packed into array\n",
    "* The ```...``` spread operator unpacks array argument, in function call, into distinct parameters"
   ]
  },
  {
   "cell_type": "code",
   "execution_count": 20,
   "metadata": {},
   "outputs": [
    {
     "name": "stdout",
     "output_type": "stream",
     "text": [
      "undefined\n",
      "undefined\n",
      "undefined\n",
      "---\n",
      "10\n",
      "20\n",
      "---\n",
      "[ 10, 20, 30, 40, 50 ]\n",
      "---\n",
      "10\n",
      "10\n",
      "[ 30, 40, 50 ]\n",
      "---\n",
      "3\n",
      "---\n",
      "60\n",
      "---\n",
      "100\n",
      "200\n"
     ]
    }
   ],
   "source": [
    "{\n",
    "    let a, b, rest;\n",
    "    \n",
    "    console.log(a);                           // undefined\n",
    "    console.log(b);                           // undefined\n",
    "    console.log(rest);                        // undefined\n",
    "    \n",
    "    console.log(\"---\");\n",
    "    \n",
    "    // simple destructuring assignment without rest syntax\n",
    "    [a, b] = [10, 20];\n",
    "    console.log(a);                           // 10\n",
    "    console.log(b);                           // 20\n",
    "    console.log(\"---\");\n",
    "    \n",
    "    // destructuring assignment with only rest syntax\n",
    "    [...rest] = [10, 20, 30, 40, 50];\n",
    "    console.log(rest);                        // [ 10, 20, 30, 40, 50 ]\n",
    "    console.log(\"---\");\n",
    "    \n",
    "    // destructuring assignment combined with rest syntax\n",
    "    [a, b, ...rest] = [10, 20, 30, 40, 50];\n",
    "    console.log(a);                           // 10\n",
    "    console.log(a);                           // 20\n",
    "    console.log(rest);                        // [ 30, 40, 50 ]\n",
    "    console.log(\"---\");\n",
    "    \n",
    "    // receiving an array parameter from multiple arguments with rest syntax\n",
    "    function countParameters(...arr) {\n",
    "        return arr.length;\n",
    "    }\n",
    "    console.log(countParameters(10, 20, 30)); // 3\n",
    "    console.log(\"---\");\n",
    "    \n",
    "    // passing an array argument into multiple parameters with spread syntax\n",
    "    function sumNums(x, y, z) {\n",
    "        return x + y + z;\n",
    "    }\n",
    "    const numbers = [10, 20, 30];\n",
    "    console.log(sumNums(...numbers));         // 60\n",
    "    console.log(\"---\");\n",
    "    \n",
    "    // Destructuring assignment of an object into properties\n",
    "    let obj = {x:100, y:200};\n",
    "    let {x, y} = obj;\n",
    "    console.log(x);                           // 100\n",
    "    console.log(y);                           // 200\n",
    "}"
   ]
  },
  {
   "cell_type": "markdown",
   "metadata": {},
   "source": [
    "## Comma Operator\n",
    "\n",
    "* ```,``` comma operator allows multiple expressions to be evaluated in a single statement\n",
    "* Returns the result of the last expression"
   ]
  },
  {
   "cell_type": "code",
   "execution_count": 14,
   "metadata": {},
   "outputs": [
    {
     "name": "stdout",
     "output_type": "stream",
     "text": [
      "7\n"
     ]
    }
   ],
   "source": [
    "{\n",
    "    let x = (1+2, 3+4);\n",
    "    console.log(x);     // 7\n",
    "}"
   ]
  },
  {
   "cell_type": "code",
   "execution_count": null,
   "metadata": {},
   "outputs": [],
   "source": []
  }
 ],
 "metadata": {
  "kernelspec": {
   "display_name": "Javascript (Node.js)",
   "language": "javascript",
   "name": "javascript"
  },
  "language_info": {
   "file_extension": ".js",
   "mimetype": "application/javascript",
   "name": "javascript",
   "version": "10.13.0"
  }
 },
 "nbformat": 4,
 "nbformat_minor": 4
}
