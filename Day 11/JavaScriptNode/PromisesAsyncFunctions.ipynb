{
 "cells": [
  {
   "cell_type": "markdown",
   "metadata": {},
   "source": [
    "# Promises and Async Functions\n",
    "\n",
    "See: https://developer.mozilla.org/en-US/docs/Web/JavaScript/Reference/Statements/async_function  \n",
    "See: https://developer.mozilla.org/en-US/docs/Learn/JavaScript/Asynchronous/Async_await\n",
    "See: https://developer.mozilla.org/en-US/docs/Learn/JavaScript/Asynchronous/Promises\n",
    "\n",
    "A good article: https://itnext.io/javascript-promises-and-async-await-as-fast-as-possible-d7c8c8ff0abc\n",
    "\n",
    "* JavaScript executes in a single threaded process (Web Workers run in seperate processes)\n",
    "* A single thread executes in sequence, not in parallel (contrast with threads in C# or Java)\n",
    "* Asynchronous JavaScript mechanisms:\n",
    "    - Asynchronous callbacks (```addEventListener```, ```setInterval```, ```setTimeout```, ```XMLHttpRequest```, etc.)\n",
    "    - Asynchronous ```Promise``` objects\n",
    "    - The ```async```/```await``` Keywords\n",
    "\n",
    "* Asynchronous Callbacks\n",
    "    - One way of doing async programming is to provide a callback function (called back on completion)\n",
    "    - Asynchronous operations that depend on each other must be nested\n",
    "    - Callback nesting can get messy (\"callback hell\")\n",
    "\n",
    "    ```javascript\n",
    "    someAsyncOperation(someParams, someCallback); // calls provided callback function\n",
    "    function someCallback(someResult) {\n",
    "        // Do something when called back\n",
    "    }\n",
    "    ```\n",
    "    \n",
    "* Asynchronous Promises\n",
    "    - Allows asynchronous operations that depend on each other without \"callback hell\"\n",
    "    - Instead of nesting callbacks in callbacks in callbacks, you just chain .then() calls\n",
    "    - A Promise object wraps an asynchronous operation and notifies when it is done\n",
    "    - Promise object represents eventual completion (or failure) of an asynchronous operation\n",
    "    - Promise object also provides access to the resulting value of the asynchronous operation\n",
    "    - Promise provides ```then()``` for success result and ```catch()``` for failure result\n",
    "    - Promise states: ```pending``` (initial), ```fulfilled``` (success), ```rejected``` (failed)\n",
    "    \n",
    "    ```javascript\n",
    "    someAsyncOperation(someParams) // returns a Promise object\n",
    "    .then(function(result) {\n",
    "        // Do something with success result\n",
    "    })\n",
    "    .catch(function(error) {\n",
    "        // Handle error on failure result\n",
    "    });\n",
    "    ```\n",
    "    \n",
    "* The ```async```/```await``` Keywords\n",
    "    - Async/Await is a cleaner syntax for handling multiple nested promises in synchronous-looking manner\n",
    "    - Async/Await is a language feature that is a part of the ES8 standard (Node.js 7.6)\n",
    "    - Async function is impemented with ```async``` keyword and called with ```await``` keyword\n",
    "    - The ```await``` keyword can only be used inside a function marked as ```async```\n",
    "    \n",
    "    ```javascript\n",
    "    async function getSomeAsyncData(value){\n",
    "        const result = await fetchTheData(someUrl, value);\n",
    "        return result;\n",
    "    }\n",
    "    ```"
   ]
  },
  {
   "cell_type": "markdown",
   "metadata": {},
   "source": [
    "### Example Asyncronous Callback Hell\n",
    "\n",
    "* See: https://developers.google.com/web/ilt/pwa/working-with-promises\n",
    "* See: https://developers.google.com/web/ilt/pwa/lab-promises\n",
    "\n",
    "```javascript\n",
    "function isUserTooYoung(id, callback) {\n",
    "  openDatabase(function(db) {\n",
    "    getCollection(db, 'users', function(col) {\n",
    "      find(col, {'id': id}, function(result) {\n",
    "        result.filter(function(user) {\n",
    "          callback(user.age < cutoffAge);\n",
    "        });\n",
    "      });\n",
    "    });\n",
    "  });\n",
    "}\n",
    "```\n",
    "\n",
    "### Example Using Promises\n",
    "\n",
    "```javascript\n",
    "function isUserTooYoung(id) {\n",
    "  return openDatabase() // returns a promise\n",
    "  .then(function(db) {return getCollection(db, 'users');})\n",
    "  .then(function(col) {return find(col, {'id': id});})\n",
    "  .then(function(user) {return user.age < cutoffAge;});\n",
    "}\n",
    "```\n",
    "\n",
    "### Example of ```async``` and ```await``` Keywords\n",
    "\n",
    "See: [Refactoring to async/await](https://advancedweb.hu/how-to-refactor-a-promise-chain-to-async-functions)\n",
    "\n",
    "```javascript\n",
    "async function isUserTooYoung(id) {\n",
    "    let db = await openDatabase();\n",
    "    let col = await ((db) => getCollection(db, 'users'));\n",
    "    let user = await ((col) => find(col, {'id': id}));\n",
    "    let result = await ((user) => user.age < cutoffAge);\n",
    "    return result;\n",
    "}\n",
    "```"
   ]
  },
  {
   "cell_type": "markdown",
   "metadata": {},
   "source": [
    "## Simple Asynchronous Callbacks\n",
    "\n",
    "* Conceptually simplest asynchronous programming technique\n",
    "* Temporal chain of dependencies implemented using nesting callbacks\n",
    "* Callback hell results when temporal chain of callback dependencies is long"
   ]
  },
  {
   "cell_type": "code",
   "execution_count": 1,
   "metadata": {},
   "outputs": [
    {
     "name": "stdout",
     "output_type": "stream",
     "text": [
      "about to call scheduleCallback()\n",
      "entered scheduleCallback()\n",
      "meanwhile... carrying on with business\n",
      "callBack result: 0.8296379981758293\n"
     ]
    }
   ],
   "source": [
    "{ // using setTimeout to simulate asynchronous task (like waiting for UI event)\n",
    "function callBack(result) {\n",
    "    console.log(\"callBack result:\", result);\n",
    "}\n",
    "function scheduleCallback() {\n",
    "    console.log(\"entered scheduleCallback()\");\n",
    "    setTimeout(function() {\n",
    "        callBack(Math.random());\n",
    "    }, 3000);\n",
    "}\n",
    "console.log(\"about to call scheduleCallback()\");\n",
    "scheduleCallback();\n",
    "console.log(\"meanwhile... carrying on with business\");\n",
    "}"
   ]
  },
  {
   "cell_type": "markdown",
   "metadata": {},
   "source": [
    "## Promises\n",
    "\n",
    "A Promise object wraps the eventual completion (or failure) of an asynchronous operation, and its final resulting value.\n",
    "\n",
    "* Solves callback hell by chaining promises rather than nesting callbacks\n",
    "* A bot harder to understand than simple callbacks\n",
    "* Promise provides then() for success result and catch() for failure result\n",
    "* Promise can only be in one of three states at any given time:\n",
    "    - pending (initial)\n",
    "    - fulfilled (success)\n",
    "    - rejected (failed)\n",
    "* Promises can be chained to represent a temporal sequence of dependancies"
   ]
  },
  {
   "cell_type": "code",
   "execution_count": 2,
   "metadata": {},
   "outputs": [
    {
     "name": "stdout",
     "output_type": "stream",
     "text": [
      "Starting: Promise { <pending> }\n",
      "Pending: Promise { <pending> }\n",
      "1 Promise { <pending> } 'busy with other stuff'\n",
      "2 Promise { <pending> } 'busy with other stuff'\n",
      "3 Promise { <pending> } 'busy with other stuff'\n",
      "4 Promise { <pending> } 'busy with other stuff'\n",
      "5 Promise { <pending> } 'busy with other stuff'\n",
      "6 Promise { <pending> } 'busy with other stuff'\n",
      "7 Promise { <pending> } 'busy with other stuff'\n",
      "8 Promise { <pending> } 'busy with other stuff'\n",
      "9 Promise { <pending> } 'busy with other stuff'\n",
      "Success: Our work here is done!\n",
      "10 Promise { 'Our work here is done!' } 'busy with other stuff'\n",
      "11 Promise { 'Our work here is done!' } 'busy with other stuff'\n",
      "12 Promise { 'Our work here is done!' } 'busy with other stuff'\n",
      "13 Promise { 'Our work here is done!' } 'busy with other stuff'\n",
      "14 Promise { 'Our work here is done!' } 'busy with other stuff'\n",
      "15 Promise { 'Our work here is done!' } 'busy with other stuff'\n"
     ]
    }
   ],
   "source": [
    "{ // an example that can only succeed...\n",
    "var myPromise = new Promise(function(resolve, reject) {\n",
    "    setTimeout(resolve, 1000, 'Our work here is done!');\n",
    "});\n",
    "\n",
    "console.log(\"Starting:\", myPromise); // output: Promise { <pending> }\n",
    "\n",
    "myPromise.then(function(successResult) { // set up callback for eventual result\n",
    "    console.log(\"Success:\", successResult);\n",
    "});\n",
    "\n",
    "console.log(\"Pending:\", myPromise); // Promise { <pending> }\n",
    "\n",
    "var counter = 0;\n",
    "var id = setInterval(function() {\n",
    "    counter++;\n",
    "    if (counter > 15)\n",
    "        clearInterval(id);\n",
    "    else\n",
    "        console.log(counter, myPromise, 'busy with other stuff');\n",
    "}, 100)\n",
    "}"
   ]
  },
  {
   "cell_type": "code",
   "execution_count": 4,
   "metadata": {},
   "outputs": [
    {
     "name": "stdout",
     "output_type": "stream",
     "text": [
      "Starting: Promise { <pending> }\n",
      "Pending: Promise { <pending> }\n",
      "1 Promise { <pending> } 'busy with other stuff'\n",
      "2 Promise { <pending> } 'busy with other stuff'\n",
      "3 Promise { <pending> } 'busy with other stuff'\n",
      "4 Promise { <pending> } 'busy with other stuff'\n",
      "5 Promise { <pending> } 'busy with other stuff'\n",
      "6 Promise { <pending> } 'busy with other stuff'\n",
      "7 Promise { <pending> } 'busy with other stuff'\n",
      "8 Promise { <pending> } 'busy with other stuff'\n",
      "9 Promise { <pending> } 'busy with other stuff'\n",
      "10 Promise { <rejected> 'Ooops!' } 'busy with other stuff'\n"
     ]
    },
    {
     "name": "stderr",
     "output_type": "stream",
     "text": [
      "(node:9664) UnhandledPromiseRejectionWarning: Ooops!\n",
      "(node:9664) UnhandledPromiseRejectionWarning: Unhandled promise rejection. This error originated either by throwing inside of an async function without a catch block, or by rejecting a promise which was not handled with .catch(). (rejection id: 1)\n",
      "(node:9664) [DEP0018] DeprecationWarning: Unhandled promise rejections are deprecated. In the future, promise rejections that are not handled will terminate the Node.js process with a non-zero exit code.\n"
     ]
    },
    {
     "name": "stdout",
     "output_type": "stream",
     "text": [
      "11 Promise { <rejected> 'Ooops!' } 'busy with other stuff'\n",
      "12 Promise { <rejected> 'Ooops!' } 'busy with other stuff'\n",
      "13 Promise { <rejected> 'Ooops!' } 'busy with other stuff'\n",
      "14 Promise { <rejected> 'Ooops!' } 'busy with other stuff'\n",
      "15 Promise { <rejected> 'Ooops!' } 'busy with other stuff'\n"
     ]
    }
   ],
   "source": [
    "{ // an example that can succeed or fail randomly (try running several times)\n",
    "var myPromise = new Promise(function(resolve, reject) {\n",
    "    if (Math.random() > 0.5) { // toss a 50/50 coin\n",
    "        setTimeout(resolve, 1000, 'Our work here is done!');\n",
    "    }\n",
    "    else {\n",
    "        setTimeout(reject, 1000, 'Ooops!');\n",
    "    }\n",
    "});\n",
    "\n",
    "console.log(\"Starting:\", myPromise); // output: Promise { <pending> }\n",
    "\n",
    "myPromise.then(function(successResult) { // set up callback for eventual result\n",
    "    console.log(\"Success:\", successResult);\n",
    "});\n",
    "\n",
    "console.log(\"Pending:\", myPromise); // Promise { <pending> }\n",
    "\n",
    "var counter = 0;\n",
    "var id = setInterval(function() {\n",
    "    counter++;\n",
    "    if (counter > 15)\n",
    "        clearInterval(id);\n",
    "    else\n",
    "        console.log(counter, myPromise, 'busy with other stuff');\n",
    "}, 100)\n",
    "}"
   ]
  },
  {
   "cell_type": "markdown",
   "metadata": {},
   "source": [
    "## The ```async``` and ```await``` Keywords\n",
    "\n",
    "* The ```async``` and ```await``` keywords support promises using a simplified syntax\n",
    "* An ```async``` before a function means that it returns a promise rather than an immediate value\n",
    "* The ```await``` keyword is only permitted inside async functions\n",
    "* The ```await``` keyword makes the fucntion wait until promise reolves and then returns the result\n",
    "* If the function rejects the promise it throws an error\n",
    "* If the function rejects the promise we can append ```.catch()``` to handle it"
   ]
  },
  {
   "cell_type": "code",
   "execution_count": 2,
   "metadata": {},
   "outputs": [
    {
     "name": "stdout",
     "output_type": "stream",
     "text": [
      "Promise { 1 }\n",
      "then: 1\n"
     ]
    }
   ],
   "source": [
    "{\n",
    "async function f() {\n",
    "    return 1;\n",
    "}\n",
    "console.log(f());                                     // Promise { 1 }\n",
    "f().then(result => console.log(\"then: \" +  result));  // then: 1\n",
    "}"
   ]
  },
  {
   "cell_type": "code",
   "execution_count": 3,
   "metadata": {},
   "outputs": [
    {
     "name": "stdout",
     "output_type": "stream",
     "text": [
      "resolve: done!\n"
     ]
    }
   ],
   "source": [
    "{\n",
    "async function f() {\n",
    "  let promise = new Promise((resolve, reject) => {\n",
    "    setTimeout(() => resolve(\"resolve: done!\"), 1000)\n",
    "  });\n",
    "  let result = await promise; // wait until the promise resolves\n",
    "  console.log(result);        // resolve: done! (after one second delay)\n",
    "}\n",
    "f();\n",
    "}"
   ]
  },
  {
   "cell_type": "code",
   "execution_count": 4,
   "metadata": {},
   "outputs": [
    {
     "name": "stdout",
     "output_type": "stream",
     "text": [
      "catch: Error: oops!\n"
     ]
    }
   ],
   "source": [
    "{\n",
    "async function f() {\n",
    "    await Promise.reject(new Error(\"oops!\"));        // same as -> throw new Error(\"oops!\");\n",
    "}\n",
    "f().then(result => console.log(\"then: \" + result))\n",
    "    .catch(err => console.log(\"catch: \" + err));     // catch: Error: oops!\n",
    "}"
   ]
  },
  {
   "cell_type": "code",
   "execution_count": 6,
   "metadata": {},
   "outputs": [
    {
     "name": "stdout",
     "output_type": "stream",
     "text": [
      "10\n"
     ]
    }
   ],
   "source": [
    "async function wait() {\n",
    "    await new Promise(resolve => setTimeout(resolve, 1000));\n",
    "    return 10;\n",
    "}\n",
    "function f() {\n",
    "    wait().then(result => console.log(result)); // 10 (after 1 second delay)\n",
    "}\n",
    "f();"
   ]
  },
  {
   "cell_type": "code",
   "execution_count": null,
   "metadata": {},
   "outputs": [],
   "source": []
  }
 ],
 "metadata": {
  "kernelspec": {
   "display_name": "Javascript (Node.js)",
   "language": "javascript",
   "name": "javascript"
  },
  "language_info": {
   "file_extension": ".js",
   "mimetype": "application/javascript",
   "name": "javascript",
   "version": "10.13.0"
  }
 },
 "nbformat": 4,
 "nbformat_minor": 2
}
