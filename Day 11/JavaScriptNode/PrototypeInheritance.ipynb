{
 "cells": [
  {
   "cell_type": "markdown",
   "metadata": {},
   "source": [
    "# Prototype Inheritance\n",
    "\n",
    "See: https://developer.mozilla.org/en-US/docs/Web/JavaScript/Inheritance_and_the_prototype_chain  \n",
    "See: https://developer.mozilla.org/en-US/docs/Learn/JavaScript/Objects/Inheritance  \n",
    "See: https://developer.mozilla.org/en-US/docs/Web/JavaScript/Guide/Details_of_the_Object_Model  \n",
    "\n",
    "Note: The **ES2015** (ES6) ```class``` keyword is just syntactic sugar. Inheritance still remains dynamically prototype-based below the surface (nothing really changed except for the nice new syntax)\n",
    "\n",
    "See: https://developer.mozilla.org/en-US/docs/Web/JavaScript/Inheritance_and_the_prototype_chain\n",
    "\n",
    "* We often want to take an existing type of object and extend it to make a derived type object\n",
    "* An ```Animal``` type may be the parent type of the child ```Dog``` and ```Cat``` types\n",
    "* So a derived type of object is just a more specialized type of the general base type\n",
    "* Each object has a private property which holds a link to another object called its ```prototype```\n",
    "* The ```prototype``` has a ```prototype```, and so on until a null prototype is reached (prototype chain)\n",
    "* The final ```prototype``` is ```null``` and has no further prototypes (end of the chain)\n",
    "* Objects are simply dynamic sets of properties (a.k.a. \"own properties\")\n",
    "* If you access a property of an object that does not have that property, then the prototype is used\n",
    "* The ```property``` is either found along the chain or, if it is not found, then it is ```undefined```\n",
    "* ```__proto__``` is the historical getter/setter for an object's prototype\n",
    "* You can extend one instance object with another instance  object in this way\n",
    "* You can also extend an etire class of object (type) with another by extending the constructor function prorotype\n",
    "* You can also extend built-in objects (e.g. Array) using the prorotype mechanism (can be risky)"
   ]
  },
  {
   "cell_type": "code",
   "execution_count": 3,
   "metadata": {},
   "outputs": [
    {
     "name": "stdout",
     "output_type": "stream",
     "text": [
      "\n",
      "*animal*\n",
      "true\n",
      "animal eats\n",
      "\n",
      "*dog before connecting prototype to animal*\n",
      "true\n",
      "undefined\n",
      "dog plays dead\n",
      "\n",
      "*dog after connecting prototype to animal*\n",
      "true\n",
      "true\n",
      "animal eats\n",
      "dog plays dead\n",
      "\n",
      "*Object.keys(dog)*\n",
      "[ 'barks', 'playDead' ]\n",
      "\n",
      "*for(let prop in dog)*\n",
      "barks\n",
      "playDead\n",
      "lives\n",
      "eat\n"
     ]
    }
   ],
   "source": [
    "{ // extending one instance object with another instance object\n",
    "let animal = {\n",
    "    lives: true,\n",
    "    eat() {\n",
    "        console.log(\"animal eats\");\n",
    "    }\n",
    "};\n",
    "let dog = {\n",
    "    barks: true,\n",
    "    playDead() {\n",
    "        console.log(\"dog plays dead\");\n",
    "    }\n",
    "};\n",
    "\n",
    "console.log(\"\\n*animal*\");\n",
    "console.log(animal.lives);    // true\n",
    "animal.eat();                 // animal eats\n",
    "\n",
    "    \n",
    "console.log(\"\\n*dog before connecting prototype to animal*\");\n",
    "console.log(dog.barks);        // true\n",
    "console.log(dog.lives);        // undefined (lives is not inherited from animal)\n",
    "//dog.eat();                   // TypeError: dog.eat is not a function (at least not now)\n",
    "dog.playDead();                // dog plays dead\n",
    "\n",
    "dog.__proto__ = animal;        // Note: __proto__ is a historical getter/setter for the prototype\n",
    "    \n",
    "console.log(\"\\n*dog after connecting prototype to animal*\");\n",
    "console.log(dog.barks);        // true\n",
    "console.log(dog.lives);        // true      (inherited from animal via prototype)\n",
    "dog.eat();                     // animal eats \n",
    "dog.playDead();                // dog plays dead\n",
    "    \n",
    "console.log(\"\\n*Object.keys(dog)*\");\n",
    "console.log(Object.keys(dog)); // [ 'barks', 'playDead' ]\n",
    "\n",
    "console.log(\"\\n*for(let prop in dog)*\");\n",
    "for(let prop in dog) {\n",
    "    console.log(prop);         // loops over both own and inherited keys\n",
    "}\n",
    "}"
   ]
  },
  {
   "cell_type": "markdown",
   "metadata": {},
   "source": [
    "## Using ```class``` and ```extends``` Keywords\n",
    "\n",
    "* The ```class``` and ```extends``` keywords only provide syntactic sugar\n",
    "* Underlying inheritance model is still based on the traditional prototype chain"
   ]
  },
  {
   "cell_type": "code",
   "execution_count": 2,
   "metadata": {},
   "outputs": [
    {
     "name": "stdout",
     "output_type": "stream",
     "text": [
      "13 years, 12pounds\n",
      "eat()\n",
      "playDead()\n"
     ]
    }
   ],
   "source": [
    "{ // extending a class object with another class object (actually constructor functions)\n",
    "'use strict';\n",
    "\n",
    "class Animal {                        // syntactic sugar\n",
    "    constructor(age, weight) {\n",
    "        this.age = age;\n",
    "        this.weight = weight;\n",
    "    }\n",
    "    eat() {\n",
    "        console.log(\"eat()\");\n",
    "    }\n",
    "}\n",
    "\n",
    "class Dog extends Animal {            // syntactic sugar\n",
    "    constructor(name, age, weight) {\n",
    "        super(age, weight);\n",
    "        this.name = name;\n",
    "    }\n",
    "    playDead() {\n",
    "        console.log(\"playDead()\");\n",
    "    }\n",
    "}\n",
    "\n",
    "var dog = new Dog(\"Winston\", 13, 12);\n",
    "console.log(dog.age + \" years\" + \", \" + dog.weight + \"pounds\");\n",
    "dog.eat();\n",
    "dog.playDead();\n",
    "}"
   ]
  },
  {
   "cell_type": "code",
   "execution_count": 1,
   "metadata": {},
   "outputs": [
    {
     "name": "stdout",
     "output_type": "stream",
     "text": [
      "arr before myMap(): [ 4, 4, 3, 1, 7 ]\n",
      "average: 3.8\n",
      "arr after myMap(): [ 16, 16, 9, 1, 49 ]\n",
      "average: 18.2\n"
     ]
    }
   ],
   "source": [
    "{ // extend a built-in object (Array) using the prorotype mechanism (can be risky)\n",
    "    \n",
    "Array.prototype.myMap = function (cb) {       // extend built-in Array type via prorotype\n",
    "   for(let i=0; i<this.length; i++) {\n",
    "      this[i] = cb(this[i])\n",
    "   }\n",
    "   return this;\n",
    "}\n",
    "function getRandomIntegerInRange(max) {       // range will be from 1 up to max\n",
    "   let randFloat = Math.random();             // [0.0 -> 1.0)\n",
    "   let randFloatInRange = randFloat * max;    // magnify range to [0.0 -> max)\n",
    "   return Math.ceil(randFloatInRange );       // return [1 -> max]\n",
    "}\n",
    "function getRandomArray (length, max) {\n",
    "   let arr = [];                              // start with empty array\n",
    "   for (let i=0; i<length; i++) {             // loop to build array uo to be returned\n",
    "      arr.push(getRandomIntegerInRange(max)); // each element gets random integer in range (1 -> max)\n",
    "   }\n",
    "   return arr;\n",
    "}\n",
    "function getAverageArray(arr) {\n",
    "   let sum = 0;\n",
    "   for(let i=0; i<arr.length; i++) {          // accumulate total sum of all elements\n",
    "      sum += arr[i];\n",
    "   }\n",
    "   return sum/arr.length;                     // average is total sum divided by number of elements\n",
    "}\n",
    "\n",
    "let length = 5;\n",
    "let max = 10;\n",
    "let arr = getRandomArray (length, max);\n",
    "console.log(\"arr before myMap():\", arr);\n",
    "console.log(\"average:\", getAverageArray(arr));\n",
    "arr.myMap((item) =>item**2);                 // this method is found on Array function's prototype\n",
    "console.log(\"arr after myMap():\", arr);\n",
    "console.log(\"average:\", getAverageArray(arr));\n",
    "}"
   ]
  },
  {
   "cell_type": "code",
   "execution_count": null,
   "metadata": {},
   "outputs": [],
   "source": []
  }
 ],
 "metadata": {
  "kernelspec": {
   "display_name": "Javascript (Node.js)",
   "language": "javascript",
   "name": "javascript"
  },
  "language_info": {
   "file_extension": ".js",
   "mimetype": "application/javascript",
   "name": "javascript",
   "version": "10.13.0"
  }
 },
 "nbformat": 4,
 "nbformat_minor": 4
}
