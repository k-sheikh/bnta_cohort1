{
 "cells": [
  {
   "cell_type": "markdown",
   "metadata": {},
   "source": [
    "# Closures and IIFEs\n",
    "\n",
    "See: https://developer.mozilla.org/en-US/docs/Web/JavaScript/Closures  \n",
    "See: https://developer.mozilla.org/en-US/docs/Glossary/IIFE  \n",
    "See: https://www.sitepoint.com/demystifying-javascript-closures-callbacks-iifes  \n",
    "\n",
    "* **Closures** and **IIFEs** are still important in terms of maintaining legacy code\n",
    "     - But as of ES6 they are now pretty much depricated **hacks** to be avoided in new code\n",
    "* Previous to ES5, there was only ```global``` scope and ```function``` scope (no block scope)\n",
    "    - These \"clever\" hacks enabled programmers to simulate block scope and other cool features\n",
    "* These tricks were used to simulate modern language features like **classes**, **modules**, and **block scope**\n",
    "* Modern ES6+ **classes** and **modules** are actually really just syntactic sugar\n",
    "    - Under the coveres, ES6 boils it all back down into the same old ugly hacks at runtime\n",
    "    - So it is still useful to understand these old concepts for deeper understanding of modern ES6 runtime behavior"
   ]
  },
  {
   "cell_type": "markdown",
   "metadata": {},
   "source": [
    "## Closures\n",
    "\n",
    "See: https://developer.mozilla.org/en-US/docs/Web/JavaScript/Closures\n",
    "\n",
    "* Closures were used in ES5 to simulate **classes** and **objects** (and related object oriented features)\n",
    "* A closure is created when an inner function is defined in and is returned from an outer function\n",
    "* The inner function maintains a reference to all variables found in the parent function scope\n",
    "* This closure remains active and available even after the parent function has returned the inner function\n",
    "* Subsequent calls to the returned inner function continue to have access to those outer function variables\n",
    "* Many clever code patterns and practices evolved that enabled the implementation object oriented programming\n",
    "* Modern JavaScript simply uses the new ES6 features such as the ```class``` keyword for this purpose\n",
    "* To see how much cleaner ES6 is than the equivalent ES5, try out the online transpiler at ```https://babeljs.io/repl```"
   ]
  },
  {
   "cell_type": "code",
   "execution_count": 2,
   "metadata": {},
   "outputs": [
    {
     "name": "stdout",
     "output_type": "stream",
     "text": [
      "Sally Jones\n"
     ]
    }
   ],
   "source": [
    "{ // a simple closure example (works in pre-ES6 runtimes)\n",
    "function outerFunction() {\n",
    "    var nameFirst = 'Sally';              // local variable defined in outer function scope\n",
    "    var nameLast = 'Jones';               // local variable defined in outer function scope\n",
    "    function innerFunction() {            // innerFunction keeps a reference to parent function scope\n",
    "        console.log(nameFirst, nameLast); // Here it accesses the variables in parent function scope\n",
    "    }\n",
    "    return innerFunction;                 // outer function returns inner function to caller below\n",
    "}\n",
    "\n",
    "var innerFunction = outerFunction();  // call outer function to get reference to inner function\n",
    "innerFunction();                      // call inner function (outer function no longer on call stack)\n",
    "}                                     // ... but the outer scope variables are still available!"
   ]
  },
  {
   "cell_type": "code",
   "execution_count": 3,
   "metadata": {},
   "outputs": [
    {
     "name": "stdout",
     "output_type": "stream",
     "text": [
      "3\n",
      "10\n",
      "20\n"
     ]
    }
   ],
   "source": [
    "function getAdder() {   // simulates a simple object that maintains state (an accumulated sum)\n",
    "    var sum = 0;        // outer function variable tracks sum across multiple calls to inner function\n",
    "    function add(num) { // inner function takes parameter and adds it to the state variable (sum)\n",
    "        sum += num;     // inner function adds parameter to the state variable (sum)\n",
    "        return sum;     // inner function returns the current value of the state variable (sum)\n",
    "    }\n",
    "    return add;         // outer function returns the inner function here\n",
    "}\n",
    "\n",
    "var add = getAdder();   // call the outer function to get a reference to the inner function\n",
    "console.log(add(3));    // call the inner function to add 3 to the state variable (sum)  -> 3\n",
    "console.log(add(7));    // call the inner function to add 7 to the state variable (sum)  -> 10\n",
    "console.log(add(10));   // call the inner function to add 10 to the state variable (sum) -> 20"
   ]
  },
  {
   "cell_type": "markdown",
   "metadata": {},
   "source": [
    "## Immediately Invoked Function Expressions (IIFEs)\n",
    "\n",
    "See: https://developer.mozilla.org/en-US/docs/Glossary/IIFE\n",
    "\n",
    "- IIFEs were used in ES5 to simulate **block scope** and to implement a poor-man's **module** system\n",
    "- IIFEs are functions that runs immediately as it is defined (self-executing anonymous function expression)\n",
    "- IIFEs avoid pollution of the global object\n",
    "- No longer used much in new ES6 code, but important for understanding runtime behavior and for maintaining legacy code"
   ]
  },
  {
   "cell_type": "code",
   "execution_count": 6,
   "metadata": {},
   "outputs": [
    {
     "name": "stdout",
     "output_type": "stream",
     "text": [
      "Sally\n",
      "Billy\n"
     ]
    }
   ],
   "source": [
    "// ES5 usage\n",
    "(function () { \n",
    "    var name = \"Sally\"; // Variable name is accessible inside function scope\n",
    "    console.log(name);  // Sally\n",
    "})();\n",
    "\n",
    "// Variable name is not accessible outside function scope\n",
    "//console.log(name); // ReferenceError: name is not defined\n",
    "\n",
    "// ES6 introduced block scope (let and const), so the IIFE above can be replaced with:\n",
    "{\n",
    "    let name = \"Billy\";\n",
    "    // Variable name is accessible inside block scope\n",
    "    console.log(name);  // Billy\n",
    "}\n",
    "// Variable name is not accessible outside block scope\n",
    "//console.log(name); // ReferenceError: name is not defined"
   ]
  },
  {
   "cell_type": "code",
   "execution_count": 11,
   "metadata": {},
   "outputs": [
    {
     "name": "stdout",
     "output_type": "stream",
     "text": [
      "0\n",
      "2\n",
      "1\n",
      "42\n",
      "1\n",
      "\n",
      "0\n",
      "2\n",
      "1\n",
      "42\n",
      "42\n"
     ]
    }
   ],
   "source": [
    "{\n",
    "// An ES5 IIFE example simulating an object that maintains counter state across method calls\n",
    "var counter = (function() {\n",
    "  var _privateCounter = 0;\n",
    "  return {\n",
    "    increment: function() {\n",
    "      _privateCounter += 1;\n",
    "    },\n",
    "    decrement: function() {\n",
    "      _privateCounter -= 1;\n",
    "    },\n",
    "    value: function() {\n",
    "      return _privateCounter;\n",
    "    }\n",
    "  };   \n",
    "})();\n",
    "\n",
    "console.log(counter.value());         // 0\n",
    "counter.increment();\n",
    "counter.increment();\n",
    "console.log(counter.value());         // 2\n",
    "counter.decrement();\n",
    "console.log(counter.value());         // 1\n",
    "    \n",
    "counter._privateCounter = 42;         // is it really private ???\n",
    "console.log(counter._privateCounter)  // 42 (not really private !!!)\n",
    "console.log(counter.value());         // 1 (but the value remains unchanged!)\n",
    "}\n",
    "\n",
    "console.log();\n",
    "\n",
    "{\n",
    "// Using the ES6 class keyword to define an object that maintains counter state across method calls\n",
    "class Counter {\n",
    "    constructor() {\n",
    "        this._privateCounter = 0;     // ES6 -> still no perfect way to do private fields!!!\n",
    "    }\n",
    "    increment() {\n",
    "        this._privateCounter += 1;\n",
    "    }\n",
    "    decrement() {\n",
    "        this._privateCounter -= 1;\n",
    "    }\n",
    "    value() {\n",
    "        return this._privateCounter;\n",
    "    }\n",
    "}\n",
    "let counter = new Counter();\n",
    "console.log(counter.value());        // 0\n",
    "counter.increment();\n",
    "counter.increment();\n",
    "console.log(counter.value());        // 2\n",
    "counter.decrement();\n",
    "console.log(counter.value());        // 1\n",
    "\n",
    "counter._privateCounter = 42;        // is it really private ???\n",
    "console.log(counter._privateCounter) // 42 (not really private !!!)\n",
    "console.log(counter.value());        // 42 (not really private !!!)\n",
    "}"
   ]
  },
  {
   "cell_type": "code",
   "execution_count": null,
   "metadata": {},
   "outputs": [],
   "source": []
  }
 ],
 "metadata": {
  "kernelspec": {
   "display_name": "Javascript (Node.js)",
   "language": "javascript",
   "name": "javascript"
  },
  "language_info": {
   "file_extension": ".js",
   "mimetype": "application/javascript",
   "name": "javascript",
   "version": "10.13.0"
  }
 },
 "nbformat": 4,
 "nbformat_minor": 2
}
