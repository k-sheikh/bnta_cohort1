{
 "cells": [
  {
   "cell_type": "markdown",
   "metadata": {},
   "source": [
    "# JavaScript 5 of 8\n",
    "\n",
    "- Classes\n",
    "- Closures and IIFEs\n",
    "- Prototype Inheritance\n",
    "- Promises Async Functions"
   ]
  },
  {
   "cell_type": "markdown",
   "metadata": {},
   "source": [
    "## Pre-Read Assignment\n",
    "\n",
    "Search information on the relevant topics on the web or in any of the following resources:\n",
    "\n",
    "- Eloquent JavaScript: https://eloquentjavascript.net\n",
    "- Speaking JavaScript: http://speakingjs.com/es5/index.html\n",
    "- JavaScript for Impatient Programmers: https://exploringjs.com/impatient-js\n",
    "- Exploring ES6: https://exploringjs.com/es6.html\n",
    "- The Modern JavaScript Tutorial: https://javascript.info\n",
    "- Learn JavaScript: https://gitbookio.gitbooks.io/javascript\n",
    "- JavaScript Garden: https://bonsaiden.github.io/JavaScript-Garden\n",
    "- JavaScript Allongé: https://leanpub.com/javascript-allonge/read\n",
    "- Learning JavaScript Design Patterns: https://addyosmani.com/resources/essentialjsdesignpatterns/book\n",
    "- Understanding ECMAScript 6: https://leanpub.com/understandinges6/read\n",
    "- Human JavaScript: http://read.humanjavascript.com"
   ]
  },
  {
   "cell_type": "markdown",
   "metadata": {},
   "source": [
    "# Demos\n",
    "\n",
    "1. [Classes](Classes.ipynb)\n",
    "2. [Closures and IIFEs](ClosuresIIFEs.ipynb)\n",
    "3. [Prototype Inheritance](PrototypeInheritance.ipynb)\n",
    "4. [Promises Async Functions](PromisesAsyncFunctions.ipynb)"
   ]
  },
  {
   "cell_type": "markdown",
   "metadata": {},
   "source": [
    "## Labs and Homework\n",
    "\n",
    "- https://javascript.info\n",
    "- https://nodeschool.io/#workshoppers\n",
    "- https://www.programiz.com/javascript/examples\n",
    "- https://www.hackerrank.com\n",
    "- https://exercism.io/my/tracks\n",
    "- https://leetcode.com\n",
    "- Work on developing your own JavaScript Game (either console or web)"
   ]
  },
  {
   "cell_type": "code",
   "execution_count": null,
   "metadata": {},
   "outputs": [],
   "source": []
  }
 ],
 "metadata": {
  "kernelspec": {
   "display_name": "Javascript (Node.js)",
   "language": "javascript",
   "name": "javascript"
  },
  "language_info": {
   "file_extension": ".js",
   "mimetype": "application/javascript",
   "name": "javascript",
   "version": "10.13.0"
  }
 },
 "nbformat": 4,
 "nbformat_minor": 4
}
