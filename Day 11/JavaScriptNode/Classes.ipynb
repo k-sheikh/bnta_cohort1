{
 "cells": [
  {
   "cell_type": "markdown",
   "metadata": {},
   "source": [
    "## The ```class``` Keyword (ES2015)\n",
    "\n",
    "See: https://developer.mozilla.org/en-US/docs/Web/JavaScript/Reference/Classes  \n",
    "See: https://scotch.io/tutorials/better-javascript-with-es6-pt-ii-a-deep-dive-into-classes  \n",
    "\n",
    "* Syntactical sugar over traditional JavaScript prototype-based inheritance\n",
    "* The ```constructor``` keyword defines a special method for initializing a newly created object\n",
    "* A constructor can use the super keyword to call the constructor of the super class\n",
    "* The ```static``` keyword defines a static method in a class (callable without instantiating the class)\n",
    "* The ```extends``` keyword is used in a class definition inherit from a parent class\n",
    "* The body of a class is executed in strict mode\n",
    "* To see equivalent syntax using traditional JavaScript prototype-based inheritance model, see: https://babeljs.io/repl"
   ]
  },
  {
   "cell_type": "code",
   "execution_count": 3,
   "metadata": {},
   "outputs": [
    {
     "name": "stdout",
     "output_type": "stream",
     "text": [
      "Rectangle\n",
      "[Function: Rectangle]\n",
      "Rectangle { height: undefined, width: undefined }\n",
      "undefined\n",
      "undefined\n",
      "NaN\n",
      "Rectangle { height: 10, width: 20 }\n",
      "200\n",
      "10\n",
      "20\n"
     ]
    }
   ],
   "source": [
    "{\n",
    "class Rectangle {\n",
    "    constructor(height, width) {\n",
    "        this.height = height;\n",
    "        this.width = width;\n",
    "    }\n",
    "    get area() {\n",
    "        return this.height * this.width;\n",
    "    }\n",
    "\n",
    "};\n",
    "\n",
    "console.log(Rectangle.name);           // Rectangle\n",
    "console.log(Rectangle);                // [Function: Rectangle]\n",
    "\n",
    "const rect1 = new Rectangle();\n",
    "console.log(rect1);                    // Rectangle { height: undefined, width: undefined }\n",
    "console.log(rect1.height);             // undefined\n",
    "console.log(rect1.width);              // undefined\n",
    "console.log(rect1.area);               // NaN\n",
    "\n",
    "const rect2 = new Rectangle(10,  20);\n",
    "console.log(rect2);                    // Rectangle { height: 10, width: 20 }\n",
    "console.log(rect2.area);               // 200\n",
    "console.log(rect2.height);             // 10\n",
    "console.log(rect2.width);              // 20\n",
    "}"
   ]
  },
  {
   "cell_type": "code",
   "execution_count": 4,
   "metadata": {},
   "outputs": [
    {
     "name": "stdout",
     "output_type": "stream",
     "text": [
      "Point { x: 5, y: 6 }\n",
      "(5, 6)\n",
      "ColorPoint { x: 8, y: 10, color: 'red' }\n",
      "(8, 10), color is red\n",
      "5\n"
     ]
    }
   ],
   "source": [
    "{\n",
    "class Point {\n",
    "    constructor(x, y) {\n",
    "        this.x = x;\n",
    "        this.y = y;\n",
    "    }\n",
    "    toString() {\n",
    "        return `(${this.x}, ${this.y})`;\n",
    "    }\n",
    "    static distance(a, b) {\n",
    "        const dx = a.x - b.x;\n",
    "        const dy = a.y - b.y;\n",
    "        return Math.hypot(dx, dy);\n",
    "    }\n",
    "}\n",
    "\n",
    "class ColorPoint extends Point {\n",
    "    constructor(x, y, color) {\n",
    "        super(x, y);\n",
    "        this.color = color;\n",
    "    }\n",
    "    toString() {\n",
    "        return super.toString() + \", color is \" + this.color;\n",
    "    }\n",
    "}\n",
    "\n",
    "var p1 = new Point(5, 6);\n",
    "console.log(p1);                       // (Point { x: 5, y: 6}\n",
    "console.log(p1.toString());            // (5, 6)\n",
    "\n",
    "let p2 = new ColorPoint(8, 10, 'red');\n",
    "console.log(p2);                       // (ColorPoint { x: 8, y: 10, color: 'red' }\n",
    "console.log(p2.toString());            // (8, 10), color is red\n",
    "\n",
    "console.log(Point.distance(p1, p2));   // 5\n",
    "}"
   ]
  },
  {
   "cell_type": "code",
   "execution_count": 5,
   "metadata": {},
   "outputs": [
    {
     "name": "stdout",
     "output_type": "stream",
     "text": [
      "Animal { age: 10 }\n",
      "An animal eats food\n",
      "PetDog { age: 13, name: 'Winstie' }\n",
      "A pet dog named Winstie eats dog food\n"
     ]
    }
   ],
   "source": [
    "{\n",
    "class Animal { \n",
    "    constructor(age) {\n",
    "        this.age = age;\n",
    "    }\n",
    "    eat() {\n",
    "        console.log(`An animal eats food`);\n",
    "    }\n",
    "}\n",
    "\n",
    "class PetDog extends Animal {\n",
    "    constructor(name, age) {\n",
    "        super(age);\n",
    "        this.name = name;\n",
    "    }\n",
    "    eat() {\n",
    "        console.log(`A pet dog named ${this.name} eats dog food`);\n",
    "    }\n",
    "}\n",
    "\n",
    "let anAnimal = new Animal(10);\n",
    "console.log(anAnimal);         // Animal { age: 10 }\n",
    "anAnimal.eat();                // An animal eats food\n",
    "\n",
    "let myDog = new PetDog('Winstie', 13);\n",
    "console.log(myDog);            // PetDog { age: 13, name: 'Winstie' }\n",
    "myDog.eat();                   // A pet dog named Winstie eats dog food\n",
    "}"
   ]
  },
  {
   "cell_type": "code",
   "execution_count": 7,
   "metadata": {},
   "outputs": [
    {
     "name": "stdout",
     "output_type": "stream",
     "text": [
      "CheckingAccount.interest:  0\n",
      "CheckingAccount.interest:  0.01\n",
      "100\n",
      "101\n",
      "200\n",
      "100\n"
     ]
    }
   ],
   "source": [
    "{\n",
    "// ES6 only supports static methods, getters, and setters, but not static data properties\n",
    "\n",
    "let CheckingAccount_interest = 0.0;\n",
    "\n",
    "class CheckingAccount {    \n",
    "    static get interest() { return CheckingAccount_interest; }\n",
    "    static set interest(rate) { CheckingAccount_interest = rate; }\n",
    "    constructor(amount) {\n",
    "        this.balance = amount        \n",
    "    }\n",
    "    accrueInterest() {\n",
    "        this.balance += this.balance*CheckingAccount_interest;\n",
    "    }\n",
    "    transact(amount) {\n",
    "        this.balance += amount;\n",
    "    }\n",
    "}\n",
    "\n",
    "console.log(\"CheckingAccount.interest: \", CheckingAccount.interest);\n",
    "CheckingAccount.interest = 0.01;\n",
    "console.log(\"CheckingAccount.interest: \", CheckingAccount.interest);\n",
    "ca = new CheckingAccount(100);\n",
    "console.log(ca.balance);\n",
    "ca.accrueInterest()\n",
    "console.log(ca.balance);\n",
    "ca.transact(99.00);\n",
    "console.log(ca.balance);\n",
    "ca.transact(-100.00);\n",
    "console.log(ca.balance);\n",
    "}"
   ]
  },
  {
   "cell_type": "code",
   "execution_count": null,
   "metadata": {},
   "outputs": [],
   "source": []
  }
 ],
 "metadata": {
  "kernelspec": {
   "display_name": "Javascript (Node.js)",
   "language": "javascript",
   "name": "javascript"
  },
  "language_info": {
   "file_extension": ".js",
   "mimetype": "application/javascript",
   "name": "javascript",
   "version": "10.13.0"
  }
 },
 "nbformat": 4,
 "nbformat_minor": 2
}
