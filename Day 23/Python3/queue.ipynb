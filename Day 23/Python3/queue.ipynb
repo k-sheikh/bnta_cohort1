{
 "cells": [
  {
   "cell_type": "code",
   "execution_count": 14,
   "metadata": {},
   "outputs": [
    {
     "name": "stdout",
     "output_type": "stream",
     "text": [
      "0\n",
      "True\n",
      "False\n",
      "True\n",
      "0\n",
      "\n",
      "[]\n",
      "[8.4]\n",
      "[8.4, 8.4]\n",
      "[8.4]\n",
      "[]\n"
     ]
    }
   ],
   "source": [
    "class Queue:\n",
    "    def __init__(self):\n",
    "        self.items = []\n",
    "\n",
    "    def isEmpty(self):\n",
    "        return self.items == []\n",
    "\n",
    "    def enqueue(self, item):\n",
    "        self.items.insert(0,item)\n",
    "\n",
    "    def dequeue(self):\n",
    "        return self.items.pop()\n",
    "\n",
    "    def size(self):\n",
    "        return len(self.items)\n",
    "    \n",
    "    def display(self):\n",
    "        print(self.items)\n",
    "    \n",
    "queue = Queue()\n",
    "\n",
    "print(queue.size())\n",
    "print(queue.isEmpty())\n",
    "queue.enqueue(8.4)\n",
    "print(queue.isEmpty())\n",
    "queue.dequeue()\n",
    "print(queue.isEmpty())\n",
    "#queue.dequeue()    # IndexError: pop from empty list\n",
    "print(queue.size())\n",
    "\n",
    "print()\n",
    "\n",
    "queue.display()\n",
    "queue.enqueue(8.4)\n",
    "queue.display()\n",
    "queue.enqueue(8.4)\n",
    "queue.display()\n",
    "queue.dequeue()\n",
    "queue.display()\n",
    "queue.dequeue()\n",
    "queue.display()\n",
    "#queue.dequeue()    # IndexError: pop from empty list"
   ]
  },
  {
   "cell_type": "code",
   "execution_count": null,
   "metadata": {},
   "outputs": [],
   "source": []
  }
 ],
 "metadata": {
  "kernelspec": {
   "display_name": "Python 3",
   "language": "python",
   "name": "python3"
  },
  "language_info": {
   "codemirror_mode": {
    "name": "ipython",
    "version": 3
   },
   "file_extension": ".py",
   "mimetype": "text/x-python",
   "name": "python",
   "nbconvert_exporter": "python",
   "pygments_lexer": "ipython3",
   "version": "3.7.6"
  }
 },
 "nbformat": 4,
 "nbformat_minor": 2
}
