{
 "cells": [
  {
   "cell_type": "markdown",
   "metadata": {},
   "source": [
    "# Search Algorithms\n",
    "\n",
    "Searching Algorithms are designed to check for an element or retrieve an element from a data structure."
   ]
  },
  {
   "cell_type": "code",
   "execution_count": 6,
   "metadata": {},
   "outputs": [
    {
     "output_type": "stream",
     "name": "stdout",
     "text": [
      "4\n"
     ]
    }
   ],
   "source": [
    "# String find Method\n",
    "# str.find(str, beg=0, end=len(string))\n",
    "# str − string to be searched.\n",
    "# beg − starting index, by default its 0.\n",
    "# end − ending index, by default its equal to the length of the string.\n",
    "# Index if found and -1 if not found.\n",
    "\n",
    "str = \"This is a string to be searched\"\n",
    "position = str.find(\" is \")\n",
    "print(position)"
   ]
  },
  {
   "cell_type": "code",
   "execution_count": 2,
   "metadata": {},
   "outputs": [
    {
     "output_type": "stream",
     "name": "stdout",
     "text": [
      "2\n"
     ]
    }
   ],
   "source": [
    "# Search in list\n",
    "\n",
    "list = [\"Joe\", \"Jane\", \"Mike\"]\n",
    "position = list.index(\"Mike\")\n",
    "print(position)"
   ]
  },
  {
   "source": [
    "Based on the type of search operation, these algorithms are generally classified into two categories:\n",
    "\n",
    "- **Sequential Search**: the list or array is traversed sequentially and every element is checked.\n",
    "More: https://www.geeksforgeeks.org/linear-search/\n",
    "\n",
    "- **Interval Search**: These algorithms are specifically designed for searching in sorted data-structures. These type of searching algorithms are much more efficient than Linear Search as they repeatedly target the centre of the search structure and divide the search space in half. More: https://www.geeksforgeeks.org/binary-search/"
   ],
   "cell_type": "markdown",
   "metadata": {}
  },
  {
   "cell_type": "code",
   "execution_count": null,
   "metadata": {},
   "outputs": [],
   "source": []
  }
 ],
 "metadata": {
  "kernelspec": {
   "display_name": "Python 3",
   "language": "python",
   "name": "python3"
  },
  "language_info": {
   "codemirror_mode": {
    "name": "ipython",
    "version": 3
   },
   "file_extension": ".py",
   "mimetype": "text/x-python",
   "name": "python",
   "nbconvert_exporter": "python",
   "pygments_lexer": "ipython3",
   "version": "3.8.5-final"
  }
 },
 "nbformat": 4,
 "nbformat_minor": 4
}