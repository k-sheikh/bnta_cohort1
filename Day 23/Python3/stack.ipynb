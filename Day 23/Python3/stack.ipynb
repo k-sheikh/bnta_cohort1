{
 "cells": [
  {
   "cell_type": "code",
   "execution_count": 3,
   "metadata": {},
   "outputs": [
    {
     "name": "stdout",
     "output_type": "stream",
     "text": [
      "True\n",
      "dog\n",
      "3\n",
      "False\n",
      "8.4\n",
      "True\n",
      "2\n",
      "\n",
      "[4, 'dog']\n"
     ]
    }
   ],
   "source": [
    "class Stack:\n",
    "     def __init__(self):\n",
    "         self.items = []\n",
    "\n",
    "     def isEmpty(self):\n",
    "         return self.items == []\n",
    "\n",
    "     def push(self, item):\n",
    "         self.items.append(item)\n",
    "\n",
    "     def pop(self):\n",
    "         return self.items.pop()\n",
    "\n",
    "     def peek(self):\n",
    "         return self.items[len(self.items)-1]\n",
    "\n",
    "     def size(self):\n",
    "         return len(self.items)\n",
    "        \n",
    "     def display(self):\n",
    "         print(self.items)\n",
    "        \n",
    "\n",
    "stack = Stack()\n",
    "\n",
    "print(stack.isEmpty())\n",
    "stack.push(4)\n",
    "stack.push('dog')\n",
    "print(stack.peek())\n",
    "stack.push(True)\n",
    "print(stack.size())\n",
    "print(stack.isEmpty())\n",
    "stack.push(8.4)\n",
    "print(stack.pop())\n",
    "print(stack.pop())\n",
    "print(stack.size())\n",
    "\n",
    "print()\n",
    "\n",
    "stack.display()"
   ]
  },
  {
   "cell_type": "code",
   "execution_count": null,
   "metadata": {},
   "outputs": [],
   "source": []
  }
 ],
 "metadata": {
  "kernelspec": {
   "display_name": "Python 3",
   "language": "python",
   "name": "python3"
  },
  "language_info": {
   "codemirror_mode": {
    "name": "ipython",
    "version": 3
   },
   "file_extension": ".py",
   "mimetype": "text/x-python",
   "name": "python",
   "nbconvert_exporter": "python",
   "pygments_lexer": "ipython3",
   "version": "3.7.6"
  }
 },
 "nbformat": 4,
 "nbformat_minor": 2
}
