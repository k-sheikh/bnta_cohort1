{
 "cells": [
  {
   "cell_type": "markdown",
   "metadata": {},
   "source": [
    "# Python Control Statements\n",
    "\n",
    "- For Statement\n",
    "- While Statement\n",
    "- If Statement\n",
    "- Iterable Satements\n",
    "- Generator Satements\n",
    "- Exception Statements\n",
    "- The exec and eval Statements"
   ]
  },
  {
   "cell_type": "markdown",
   "metadata": {
    "collapsed": true
   },
   "source": [
    "## For Loops "
   ]
  },
  {
   "cell_type": "code",
   "execution_count": 7,
   "metadata": {},
   "outputs": [
    {
     "name": "stdout",
     "output_type": "stream",
     "text": [
      "3\n",
      "6\n",
      "33\n",
      "12\n",
      "8\n",
      "34\n"
     ]
    }
   ],
   "source": [
    "nums = [3, 6, 33, 12, 8,  34]\n",
    "for num in nums:\n",
    "    print(num)"
   ]
  },
  {
   "cell_type": "code",
   "execution_count": 19,
   "metadata": {},
   "outputs": [
    {
     "name": "stdout",
     "output_type": "stream",
     "text": [
      "2\n",
      "3\n",
      "5\n",
      "7\n",
      "11\n",
      "13\n",
      "17\n",
      "19\n"
     ]
    }
   ],
   "source": [
    "max = 20\n",
    "primes = [x for x in range(2,max) if 0 not in [x%i for i in range(2,int(x/2)+1)]]\n",
    "for prime in primes:\n",
    "    print(prime)"
   ]
  },
  {
   "cell_type": "code",
   "execution_count": 9,
   "metadata": {},
   "outputs": [
    {
     "name": "stdout",
     "output_type": "stream",
     "text": [
      "\n",
      "for loop over range(10)\n",
      "0\n",
      "1\n",
      "2\n",
      "3\n",
      "4\n",
      "5\n",
      "6\n",
      "7\n",
      "8\n",
      "9\n",
      "\n",
      "for loop over range(1, 10)\n",
      "Number 1\n",
      "Number 2\n",
      "Number 3\n",
      "Number 4\n",
      "Number 5\n",
      "Number 6\n",
      "Number 7\n",
      "Number 8\n",
      "Number 9\n",
      "\n",
      "for loop over range(5,10)\n",
      "5\n",
      "6\n",
      "7\n",
      "8\n",
      "9\n",
      "\n",
      "while loop with continue to skip odds\n",
      "0\n",
      "2\n",
      "4\n",
      "6\n",
      "8\n"
     ]
    }
   ],
   "source": [
    "print (\"\\nfor loop over range(10)\")\n",
    "for x in range(10):                    # 0 to 9 inclusive\n",
    "    print (x)\n",
    "\n",
    "print (\"\\nfor loop over range(1, 10)\")\n",
    "for x in range(1, 10):                 # 1 to 9 inclusive\n",
    "    print (\"Number \" + str(x))\n",
    "\n",
    "print(\"\\nfor loop over range(5,10)\")\n",
    "for x in range(5,10):                  # 5 to 9 inclusive\n",
    "    print (x)\n",
    "    \n",
    "print(\"\\nwhile loop with continue to skip odds\")\n",
    "for x in range(10):                    # 0,2,4,6,8\n",
    "    if x % 2 != 0:\n",
    "        continue # skip the odd numbers\n",
    "    print (x)"
   ]
  },
  {
   "cell_type": "code",
   "execution_count": 12,
   "metadata": {},
   "outputs": [
    {
     "name": "stdout",
     "output_type": "stream",
     "text": [
      "H|e|l|l|o| |W|o|r|l|d|!|"
     ]
    }
   ],
   "source": [
    "string = \"Hello World!\"\n",
    "for c in string:\n",
    "    print (c, end=\"|\")"
   ]
  },
  {
   "cell_type": "code",
   "execution_count": 4,
   "metadata": {},
   "outputs": [
    {
     "name": "stdout",
     "output_type": "stream",
     "text": [
      "0 Sally\n",
      "1 John\n",
      "2 Jake\n",
      "3 Fran\n",
      "4 Bill\n"
     ]
    }
   ],
   "source": [
    "people = ['Sally', 'John', 'Jake', 'Fran', 'Bill']\n",
    "for index, person in enumerate(people):\n",
    "    print(index, person)"
   ]
  },
  {
   "cell_type": "code",
   "execution_count": 5,
   "metadata": {},
   "outputs": [
    {
     "name": "stdout",
     "output_type": "stream",
     "text": [
      "Member 0 - John Lennon\n",
      "Member 1 - Paul McCartney\n",
      "Member 2 - George Harrison\n",
      "Member 3 - Ringo Starr\n"
     ]
    }
   ],
   "source": [
    "beatles = ['John Lennon', 'Paul McCartney', 'George Harrison', 'Ringo Starr']\n",
    "for i, member in enumerate(beatles):\n",
    "    print(\"Member {count} - {name}\".format(count=i, name=member))"
   ]
  },
  {
   "cell_type": "code",
   "execution_count": 6,
   "metadata": {},
   "outputs": [
    {
     "data": {
      "text/plain": [
       "['the',\n",
       " 'best',\n",
       " 'of',\n",
       " 'times,',\n",
       " 'it',\n",
       " 'the',\n",
       " 'worst',\n",
       " 'of',\n",
       " 'times,',\n",
       " 'it',\n",
       " 'the',\n",
       " 'age',\n",
       " 'of',\n",
       " 'wisdom,',\n",
       " 'it',\n",
       " 'the',\n",
       " 'age',\n",
       " 'of',\n",
       " 'foolishness,',\n",
       " 'it',\n",
       " 'the',\n",
       " 'epoch',\n",
       " 'of',\n",
       " 'belief,',\n",
       " 'it',\n",
       " 'the',\n",
       " 'epoch',\n",
       " 'of',\n",
       " 'incredulity,',\n",
       " 'it',\n",
       " 'the',\n",
       " 'season',\n",
       " 'of',\n",
       " 'Light,',\n",
       " 'it',\n",
       " 'the',\n",
       " 'season',\n",
       " 'of',\n",
       " 'Darkness,',\n",
       " 'it',\n",
       " 'the',\n",
       " 'spring',\n",
       " 'of',\n",
       " 'hope,',\n",
       " 'it',\n",
       " 'the',\n",
       " 'winter',\n",
       " 'of',\n",
       " 'despair.']"
      ]
     },
     "execution_count": 6,
     "metadata": {},
     "output_type": "execute_result"
    }
   ],
   "source": [
    "text = 'It was the best of times, it was the worst of times, it was the age of wisdom, it was the age of foolishness, it was the epoch of belief, it was the epoch of incredulity, it was the season of Light, it was the season of Darkness, it was the spring of hope, it was the winter of despair.'\n",
    "mylist = []\n",
    "\n",
    "for word in text.split(' '): \n",
    "    if word == 'was':\n",
    "        continue\n",
    "    mylist.append(word)\n",
    "mylist[1:len(mylist)]"
   ]
  },
  {
   "cell_type": "code",
   "execution_count": 7,
   "metadata": {},
   "outputs": [
    {
     "name": "stdout",
     "output_type": "stream",
     "text": [
      "...........................found 'epoch'\n"
     ]
    }
   ],
   "source": [
    "text = 'It was the best of times, it was the worst of times, it was the age of wisdom, it was the age of foolishness, it was the epoch of belief, it was the epoch of incredulity, it was the season of Light, it was the season of Darkness, it was the spring of hope, it was the winter of despair.'\n",
    "mylist = []\n",
    "\n",
    "for word in text.split(' '): \n",
    "    if word == 'epoch':\n",
    "        print(\"found 'epoch'\")\n",
    "        break\n",
    "    else:\n",
    "        print('.', end='')"
   ]
  },
  {
   "cell_type": "code",
   "execution_count": 8,
   "metadata": {},
   "outputs": [
    {
     "name": "stdout",
     "output_type": "stream",
     "text": [
      "No odd number found.\n",
      "Odd number found: 21\n"
     ]
    }
   ],
   "source": [
    "# else block only executes if for loop terminates normally (no break)\n",
    "for n in [2,4,8,22,88,100]:\n",
    "    if n%2 != 0:\n",
    "        print (\"Odd number found:\", n)\n",
    "        break\n",
    "else:\n",
    "    print (\"No odd number found.\")\n",
    "  \n",
    "for n in [2,4,8,21,88,100]:\n",
    "    if n%2 != 0:\n",
    "        print (\"Odd number found:\", n)\n",
    "        break\n",
    "else:\n",
    "    print (\"No odd number found.\")"
   ]
  },
  {
   "cell_type": "code",
   "execution_count": 10,
   "metadata": {},
   "outputs": [
    {
     "name": "stdout",
     "output_type": "stream",
     "text": [
      "1 2 3 4 5 6 7 8 9 10 \n",
      "2 4 6 8 10 12 14 16 18 20 \n",
      "3 6 9 12 15 18 21 24 27 30 \n",
      "4 8 12 16 20 24 28 32 36 40 \n",
      "5 10 15 20 25 30 35 40 45 50 \n",
      "6 12 18 24 30 36 42 48 54 60 \n",
      "7 14 21 28 35 42 49 56 63 70 \n",
      "8 16 24 32 40 48 56 64 72 80 \n",
      "9 18 27 36 45 54 63 72 81 90 \n",
      "10 20 30 40 50 60 70 80 90 100 \n"
     ]
    }
   ],
   "source": [
    "for i in range(1,11):\n",
    "   for j in range(1,11):\n",
    "      k=i*j\n",
    "      print (k, end=' ')\n",
    "   print()"
   ]
  },
  {
   "cell_type": "markdown",
   "metadata": {},
   "source": [
    "## While Loops"
   ]
  },
  {
   "cell_type": "code",
   "execution_count": 11,
   "metadata": {},
   "outputs": [
    {
     "name": "stdout",
     "output_type": "stream",
     "text": [
      "\n",
      "while loop over first 10 positive integers\n",
      "1\n",
      "2\n",
      "3\n",
      "4\n",
      "5\n",
      "6\n",
      "7\n",
      "8\n",
      "9\n",
      "10\n",
      "\n",
      "while loop (with break) over first 10 positive integers\n",
      "1\n",
      "2\n",
      "3\n",
      "4\n",
      "5\n",
      "6\n",
      "7\n",
      "8\n",
      "9\n",
      "10\n"
     ]
    }
   ],
   "source": [
    "print(\"\\nwhile loop over first 10 positive integers\") #1,2,3,4,5,6,7,8,9,10\n",
    "count = 1\n",
    "while count <= 10:\n",
    "    print (count)\n",
    "    count += 1\n",
    "\n",
    "print(\"\\nwhile loop (with break) over first 10 positive integers\") #1,2,3,4,5,6,7,8,9,10\n",
    "count = 1\n",
    "while True:\n",
    "    print (count)\n",
    "    count += 1\n",
    "    if count > 10:\n",
    "        break"
   ]
  },
  {
   "cell_type": "code",
   "execution_count": 12,
   "metadata": {},
   "outputs": [
    {
     "name": "stdout",
     "output_type": "stream",
     "text": [
      "Number of lines to enter? 3\n",
      "Enter line: 1\n",
      "Enter line: 2\n",
      "Enter line: 3\n",
      "['1', '2', '3']\n",
      "1 2 3\n",
      "1\n",
      "2\n",
      "3\n"
     ]
    }
   ],
   "source": [
    "lines = list() \n",
    "n = int(input('Number of lines to enter? ')) \n",
    "while n>0: \n",
    "    line = input('Enter line: ') \n",
    "    lines.append(line)\n",
    "    n-=1\n",
    " \n",
    "print(lines) \n",
    "print(*lines)\n",
    "print(*lines, sep='\\n')"
   ]
  },
  {
   "cell_type": "code",
   "execution_count": 13,
   "metadata": {},
   "outputs": [
    {
     "name": "stdout",
     "output_type": "stream",
     "text": [
      "<class 'tuple'>\n",
      "Sum of (1, 2, 3, 4, 5) is  15\n"
     ]
    }
   ],
   "source": [
    "numbers = 1, 2, 3, 4, 5 #it is commas, not  parentheses, that define tuple\n",
    "print (type(numbers))\n",
    "sum = 0\n",
    "i = len(numbers)\n",
    "while i != 0:\n",
    "   i -= 1\n",
    "   sum = sum + numbers[i]\n",
    "print (\"Sum of\", numbers, \"is \", sum)"
   ]
  },
  {
   "cell_type": "code",
   "execution_count": 15,
   "metadata": {},
   "outputs": [
    {
     "name": "stdout",
     "output_type": "stream",
     "text": [
      "Enter a word in English: xxx\n",
      "Word in Pig Latin is: xxxay\n",
      "Enter a word in English: quit\n",
      "Bye\n",
      "61,30,"
     ]
    }
   ],
   "source": [
    "#break_continue.py\n",
    "while True:\n",
    "    word = input(\"Enter a word in English: \")\n",
    "    if word.lower() == \"quit\":\n",
    "        break\n",
    "    if not word.isalpha():\n",
    "        print(\"*** Error: English word must be all letters ***\")\n",
    "        continue\n",
    "    word = word[1:] + word[0] + \"ay\"\n",
    "    print (\"Word in Pig Latin is:\", word)\n",
    "\n",
    "print('Bye')\n",
    "\n",
    "\n",
    "import random\n",
    "\n",
    "while True:\n",
    "   random_int = random.randint(1, 100)\n",
    "   print (random_int, end=\",\") # print out on single line seperated with commas\n",
    "   if random_int %10 == 0:\n",
    "      break"
   ]
  },
  {
   "cell_type": "markdown",
   "metadata": {},
   "source": [
    "## If Statements"
   ]
  },
  {
   "cell_type": "code",
   "execution_count": 16,
   "metadata": {},
   "outputs": [
    {
     "name": "stdout",
     "output_type": "stream",
     "text": [
      "Heads\n",
      "Tails\n",
      "Tails\n",
      "Heads\n",
      "Tails\n",
      "Tails\n",
      "Heads\n",
      "Tails\n",
      "Heads\n",
      "Heads\n"
     ]
    }
   ],
   "source": [
    "# conditional expression in a loop\n",
    "import random\n",
    "n = 10\n",
    "for _ in range(10):\n",
    "    coin_toss = random.randint(0, 1)\n",
    "    result = 'Heads' if coin_toss else 'Tails'\n",
    "    print(result)"
   ]
  },
  {
   "cell_type": "code",
   "execution_count": 17,
   "metadata": {},
   "outputs": [
    {
     "name": "stdout",
     "output_type": "stream",
     "text": [
      "Enter grade as percent:80\n",
      "B\n",
      "Enter grade as percent:-1\n",
      "F\n",
      "Enter grade as percent:111\n",
      "A\n",
      "Enter grade as percent:b\n"
     ]
    },
    {
     "ename": "ValueError",
     "evalue": "could not convert string to float: 'b'",
     "output_type": "error",
     "traceback": [
      "\u001b[1;31m---------------------------------------------------------------------------\u001b[0m",
      "\u001b[1;31mValueError\u001b[0m                                Traceback (most recent call last)",
      "\u001b[1;32m<ipython-input-17-af5d8debb114>\u001b[0m in \u001b[0;36m<module>\u001b[1;34m()\u001b[0m\n\u001b[0;32m     15\u001b[0m \u001b[1;32mwhile\u001b[0m \u001b[1;32mTrue\u001b[0m\u001b[1;33m:\u001b[0m\u001b[1;33m\u001b[0m\u001b[0m\n\u001b[0;32m     16\u001b[0m     \u001b[1;31m#Does not handle ValueError: could not convert string to float\u001b[0m\u001b[1;33m\u001b[0m\u001b[1;33m\u001b[0m\u001b[0m\n\u001b[1;32m---> 17\u001b[1;33m     \u001b[0mnumeric_grade\u001b[0m \u001b[1;33m=\u001b[0m \u001b[0mfloat\u001b[0m\u001b[1;33m(\u001b[0m\u001b[0minput\u001b[0m\u001b[1;33m(\u001b[0m\u001b[1;34m\"Enter grade as percent:\"\u001b[0m\u001b[1;33m)\u001b[0m\u001b[1;33m)\u001b[0m\u001b[1;33m\u001b[0m\u001b[0m\n\u001b[0m\u001b[0;32m     18\u001b[0m     \u001b[0mletter_grade\u001b[0m \u001b[1;33m=\u001b[0m \u001b[0mnumeric_grade_to_letter_grade\u001b[0m\u001b[1;33m(\u001b[0m\u001b[0mnumeric_grade\u001b[0m\u001b[1;33m)\u001b[0m\u001b[1;33m\u001b[0m\u001b[0m\n\u001b[0;32m     19\u001b[0m     \u001b[0mprint\u001b[0m\u001b[1;33m(\u001b[0m\u001b[0mletter_grade\u001b[0m\u001b[1;33m)\u001b[0m\u001b[1;33m\u001b[0m\u001b[0m\n",
      "\u001b[1;31mValueError\u001b[0m: could not convert string to float: 'b'"
     ]
    }
   ],
   "source": [
    "#if-elif-else\n",
    "def numeric_grade_to_letter_grade(numeric_grade):\n",
    "    if numeric_grade >= 90:\n",
    "        letter_grade = 'A'\n",
    "    elif numeric_grade >= 80:\n",
    "        letter_grade = 'B'\n",
    "    elif numeric_grade >= 70:\n",
    "        letter_grade = 'C'\n",
    "    elif numeric_grade >= 60:\n",
    "        letter_grade = 'D'\n",
    "    else:\n",
    "        letter_grade = 'F'\n",
    "    return letter_grade\n",
    "\n",
    "while True:\n",
    "    #Does not handle ValueError: could not convert string to float\n",
    "    numeric_grade = float(input(\"Enter grade as percent:\"))\n",
    "    letter_grade = numeric_grade_to_letter_grade(numeric_grade)\n",
    "    print(letter_grade)"
   ]
  },
  {
   "cell_type": "code",
   "execution_count": 18,
   "metadata": {},
   "outputs": [
    {
     "name": "stdout",
     "output_type": "stream",
     "text": [
      "\n",
      "not short circuited\n",
      "return_true called\n",
      "return_false called\n",
      "return_false called\n",
      "return_true called\n",
      "\n",
      "short circuited\n",
      "return_false called\n",
      "return_true called\n"
     ]
    }
   ],
   "source": [
    "#short circuit evaluation\n",
    "def return_false():\n",
    "    print (\"return_false called\")\n",
    "    return False\n",
    "def return_true():\n",
    "    print (\"return_true called\")\n",
    "    return True\n",
    "print(\"\\nnot short circuited\")\n",
    "if return_true() and return_false(): # not short circuited\n",
    "    pass\n",
    "if return_false() or return_true(): # not short circuited\n",
    "    pass\n",
    "print(\"\\nshort circuited\")\n",
    "if return_false() and return_true(): # call to return_true() short circuited\n",
    "    pass\n",
    "if return_true() or return_false(): # call to return_false() short circuited\n",
    "    pass"
   ]
  },
  {
   "cell_type": "code",
   "execution_count": 19,
   "metadata": {},
   "outputs": [
    {
     "name": "stdout",
     "output_type": "stream",
     "text": [
      "\n",
      "not short circuited\n",
      "return_true called\n",
      "return_false called\n",
      "return_false called\n",
      "return_true called\n",
      "\n",
      "short circuited\n",
      "return_false called\n",
      "return_true called\n"
     ]
    }
   ],
   "source": [
    "# short circuit evaluation\n",
    "def return_false():\n",
    "    print (\"return_false called\")\n",
    "    return False\n",
    "def return_true():\n",
    "    print (\"return_true called\")\n",
    "    return True\n",
    "print(\"\\nnot short circuited\")\n",
    "if return_true() and return_false(): # not short circuited\n",
    "    pass\n",
    "if return_false() or return_true(): # not short circuited\n",
    "    pass\n",
    "print(\"\\nshort circuited\")\n",
    "if return_false() and return_true(): # call to return_true() short circuited\n",
    "    pass\n",
    "if return_true() or return_false(): # call to return_false() short circuited\n",
    "    pass"
   ]
  },
  {
   "cell_type": "markdown",
   "metadata": {},
   "source": [
    "## Iterable Sratements"
   ]
  },
  {
   "cell_type": "code",
   "execution_count": 15,
   "metadata": {},
   "outputs": [
    {
     "name": "stdout",
     "output_type": "stream",
     "text": [
      "1\n",
      "2\n",
      "3\n",
      "1\n",
      "2\n",
      "3\n",
      "1\n",
      "2\n",
      "3\n",
      "Done\n"
     ]
    }
   ],
   "source": [
    "list = [1,2,3]\n",
    "\n",
    "iterable = iter(list)\n",
    "print(iterable.__next__())\n",
    "print(iterable.__next__())\n",
    "print(iterable.__next__())\n",
    "#print(iterable.__next__()) #uncomment -> raises StopIteration\n",
    "\n",
    "iterable = iter(list)\n",
    "for item in iterable:\n",
    "    print (item)\n",
    "\n",
    "iterable = iter(list)\n",
    "while True:\n",
    "   try:\n",
    "      print (next(iterable))\n",
    "   except StopIteration:\n",
    "      print(\"Done\")\n",
    "      break"
   ]
  },
  {
   "cell_type": "code",
   "execution_count": 21,
   "metadata": {},
   "outputs": [
    {
     "name": "stdout",
     "output_type": "stream",
     "text": [
      "0\n",
      "2\n",
      "4\n",
      "6\n",
      "8\n",
      "10\n",
      "12\n",
      "14\n",
      "16\n",
      "18\n"
     ]
    }
   ],
   "source": [
    "# iterable class\n",
    "\"\"\"\n",
    "Iterable is a container that defines the __iter__ method.\n",
    "Iterator is an object that supports __iter__ and next methods.\n",
    "The __iter__ method returns itself.\n",
    "The __next__ method returns the next value each time next is invoked.\n",
    "\"\"\"\n",
    "class MyIterableEvenIntegers:\n",
    "    def __init__(self, max_index):\n",
    "        self.max_index = max_index\n",
    "        self.index = 0\n",
    "    def __iter__(self):\n",
    "        return self\n",
    "    def __next__(self):\n",
    "        if self.index > self.max_index:\n",
    "            raise StopIteration\n",
    "        value = 2*self.index\n",
    "        self.index += 1\n",
    "        return value\n",
    "my_iterable = MyIterableEvenIntegers(9)\n",
    "for el in my_iterable:\n",
    "    print (el)"
   ]
  },
  {
   "cell_type": "markdown",
   "metadata": {},
   "source": [
    "## Generator Satements"
   ]
  },
  {
   "cell_type": "code",
   "execution_count": 3,
   "metadata": {},
   "outputs": [
    {
     "name": "stdout",
     "output_type": "stream",
     "text": [
      "0 1 1 2 3 5 Done!\n"
     ]
    }
   ],
   "source": [
    "# generator\n",
    "\n",
    "def fibonacci(n): # generator function\n",
    "   a, b, counter = 0, 1, 0\n",
    "   while True:\n",
    "      if (counter > n): \n",
    "         return\n",
    "      yield a\n",
    "      a, b = b, a + b\n",
    "      counter += 1\n",
    "f = fibonacci(5) #f is iterator object\n",
    "\n",
    "while True:\n",
    "   try:\n",
    "      print (next(f), end=\" \")\n",
    "   except StopIteration:\n",
    "    print (\"Done!\")\n",
    "    break"
   ]
  },
  {
   "cell_type": "markdown",
   "metadata": {},
   "source": [
    "## Exception Statements"
   ]
  },
  {
   "cell_type": "code",
   "execution_count": 22,
   "metadata": {},
   "outputs": [
    {
     "name": "stdout",
     "output_type": "stream",
     "text": [
      "2.5\n",
      "division by zero\n",
      "Success: file written\n",
      "not writable\n",
      "All is good... must_be_even was even\n"
     ]
    },
    {
     "ename": "Exception",
     "evalue": "Ooops... must_be_even was odd!",
     "output_type": "error",
     "traceback": [
      "\u001b[1;31m---------------------------------------------------------------------------\u001b[0m",
      "\u001b[1;31mException\u001b[0m                                 Traceback (most recent call last)",
      "\u001b[1;32m<ipython-input-22-f72ee7bb61ad>\u001b[0m in \u001b[0;36m<module>\u001b[1;34m()\u001b[0m\n\u001b[0;32m     28\u001b[0m     \u001b[0mprint\u001b[0m\u001b[1;33m(\u001b[0m\u001b[1;34m\"All is good... must_be_even was even\"\u001b[0m\u001b[1;33m)\u001b[0m\u001b[1;33m\u001b[0m\u001b[0m\n\u001b[0;32m     29\u001b[0m \u001b[0mfunction_that_can_raise_exception\u001b[0m\u001b[1;33m(\u001b[0m\u001b[1;36m2\u001b[0m\u001b[1;33m)\u001b[0m\u001b[1;33m\u001b[0m\u001b[0m\n\u001b[1;32m---> 30\u001b[1;33m \u001b[0mfunction_that_can_raise_exception\u001b[0m\u001b[1;33m(\u001b[0m\u001b[1;36m3\u001b[0m\u001b[1;33m)\u001b[0m\u001b[1;33m\u001b[0m\u001b[0m\n\u001b[0m",
      "\u001b[1;32m<ipython-input-22-f72ee7bb61ad>\u001b[0m in \u001b[0;36mfunction_that_can_raise_exception\u001b[1;34m(must_be_even)\u001b[0m\n\u001b[0;32m     25\u001b[0m \u001b[1;32mdef\u001b[0m \u001b[0mfunction_that_can_raise_exception\u001b[0m\u001b[1;33m(\u001b[0m\u001b[0mmust_be_even\u001b[0m\u001b[1;33m)\u001b[0m\u001b[1;33m:\u001b[0m\u001b[1;33m\u001b[0m\u001b[0m\n\u001b[0;32m     26\u001b[0m     \u001b[1;32mif\u001b[0m \u001b[0mmust_be_even\u001b[0m \u001b[1;33m%\u001b[0m \u001b[1;36m2\u001b[0m \u001b[1;33m!=\u001b[0m \u001b[1;36m0\u001b[0m\u001b[1;33m:\u001b[0m\u001b[1;33m\u001b[0m\u001b[0m\n\u001b[1;32m---> 27\u001b[1;33m         \u001b[1;32mraise\u001b[0m \u001b[0mException\u001b[0m\u001b[1;33m(\u001b[0m\u001b[1;34m\"Ooops... must_be_even was odd!\"\u001b[0m\u001b[1;33m)\u001b[0m\u001b[1;33m\u001b[0m\u001b[0m\n\u001b[0m\u001b[0;32m     28\u001b[0m     \u001b[0mprint\u001b[0m\u001b[1;33m(\u001b[0m\u001b[1;34m\"All is good... must_be_even was even\"\u001b[0m\u001b[1;33m)\u001b[0m\u001b[1;33m\u001b[0m\u001b[0m\n\u001b[0;32m     29\u001b[0m \u001b[0mfunction_that_can_raise_exception\u001b[0m\u001b[1;33m(\u001b[0m\u001b[1;36m2\u001b[0m\u001b[1;33m)\u001b[0m\u001b[1;33m\u001b[0m\u001b[0m\n",
      "\u001b[1;31mException\u001b[0m: Ooops... must_be_even was odd!"
     ]
    }
   ],
   "source": [
    "# exceptions\n",
    "# ZeroDivisionError\n",
    "def attempt_divide_numbers(x, y):\n",
    "    try:\n",
    "        result = x/y\n",
    "        print (result)\n",
    "    except ZeroDivisionError as e:\n",
    "        print (e)\n",
    "(x,y) = (5,2)\n",
    "attempt_divide_numbers(x, y)\n",
    "(x,y) = (5,0)\n",
    "attempt_divide_numbers(x, y)\n",
    "#IOError\n",
    "def attempt_file_io(file_name, access_mode):\n",
    "    try:\n",
    "        fh = open(file_name, access_mode)\n",
    "        fh.write(\"Nobody expects the spanish inquisition!\")\n",
    "    except IOError as e:\n",
    "        print (e)\n",
    "    else:\n",
    "        print (\"Success: file written\")\n",
    "        fh.close()\n",
    "attempt_file_io(\"testfile\", \"w\") # Success: file written\n",
    "attempt_file_io(\"testfile\", \"r\") # IOError: file not writable\n",
    "def function_that_can_raise_exception(must_be_even):\n",
    "    if must_be_even % 2 != 0:\n",
    "        raise Exception(\"Ooops... must_be_even was odd!\")\n",
    "    print(\"All is good... must_be_even was even\")\n",
    "function_that_can_raise_exception(2)\n",
    "function_that_can_raise_exception(3)"
   ]
  },
  {
   "cell_type": "code",
   "execution_count": 20,
   "metadata": {},
   "outputs": [
    {
     "name": "stdout",
     "output_type": "stream",
     "text": [
      "cool!\n",
      "AnswerToEverythingException: answer must be 42\n",
      "Caught the exception!\n"
     ]
    }
   ],
   "source": [
    "# custom exception\n",
    "class AnswerToEverythingException(Exception):\n",
    "   def __init__(self):\n",
    "      print ('AnswerToEverythingException: answer must be 42')\n",
    "        \n",
    "def my_function(x):\n",
    "    if x != 42:\n",
    "        raise AnswerToEverythingException()\n",
    "    else:\n",
    "        print (\"cool!\")\n",
    "        \n",
    "my_function(42)\n",
    "\n",
    "try:\n",
    "    my_function(43)\n",
    "except AnswerToEverythingException:\n",
    "    print (\"Caught the exception!\")\n",
    "\n",
    "# my_function(43) # unhandled!"
   ]
  },
  {
   "cell_type": "markdown",
   "metadata": {
    "collapsed": true
   },
   "source": [
    "## The ```exec``` and ```eval``` Functions\n",
    "\n",
    "* The ```eval``` function evaluates a single dynamically generated Python expression string and returns the value of the resulting expression\n",
    "* The ```exec``` function is executes a dynamically generated Python code string only for its side effects"
   ]
  },
  {
   "cell_type": "code",
   "execution_count": 29,
   "metadata": {},
   "outputs": [
    {
     "name": "stdout",
     "output_type": "stream",
     "text": [
      "4242424242\n"
     ]
    }
   ],
   "source": [
    "expression = '42' * 5\n",
    "result = eval(expression)\n",
    "print(result)"
   ]
  },
  {
   "cell_type": "code",
   "execution_count": 30,
   "metadata": {},
   "outputs": [
    {
     "name": "stdout",
     "output_type": "stream",
     "text": [
      "0\n",
      "1\n",
      "4\n",
      "9\n",
      "16\n"
     ]
    }
   ],
   "source": [
    "program = '''\n",
    "for i in range(5):\n",
    "    print(i*i)\n",
    "'''\n",
    "exec(program)"
   ]
  },
  {
   "cell_type": "code",
   "execution_count": 24,
   "metadata": {},
   "outputs": [
    {
     "name": "stdout",
     "output_type": "stream",
     "text": [
      "0\n",
      "1\n",
      "4\n",
      "9\n",
      "16\n",
      "25\n",
      "36\n",
      "49\n",
      "64\n",
      "81\n",
      "0\n",
      "1\n",
      "4\n",
      "9\n",
      "16\n",
      "25\n",
      "36\n",
      "49\n",
      "64\n",
      "81\n"
     ]
    }
   ],
   "source": [
    "# exec\n",
    "for n in [0, 1, 2, 3, 4, 5, 6, 7, 8, 9]: print (n*n)\n",
    "exec(\"for n in [0, 1, 2, 3, 4, 5, 6, 7, 8, 9]: print (n*n)\")"
   ]
  },
  {
   "cell_type": "code",
   "execution_count": null,
   "metadata": {},
   "outputs": [],
   "source": []
  }
 ],
 "metadata": {
  "kernelspec": {
   "display_name": "Python 3",
   "language": "python",
   "name": "python3"
  },
  "language_info": {
   "codemirror_mode": {
    "name": "ipython",
    "version": 3
   },
   "file_extension": ".py",
   "mimetype": "text/x-python",
   "name": "python",
   "nbconvert_exporter": "python",
   "pygments_lexer": "ipython3",
   "version": "3.7.6"
  }
 },
 "nbformat": 4,
 "nbformat_minor": 2
}
