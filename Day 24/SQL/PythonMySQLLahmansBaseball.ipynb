{
 "cells": [
  {
   "cell_type": "markdown",
   "metadata": {},
   "source": [
    "## Python and MySQL: ```mysql.connector``` (60 Minute)"
   ]
  },
  {
   "cell_type": "markdown",
   "metadata": {},
   "source": [
    "- See: https://www.mysql.com/products/workbench\n",
    "- See: https://hub.docker.com/_/mysql\n",
    "- Mac -> Terminal\n",
    "- Windows -> PowerShell\n",
    "\n",
    "```bash\n",
    "$ docker run -d  --name mysqldb -p 3306:3306 -e MYSQL_ROOT_PASSWORD=password mysql:latest\n",
    "$ docker images\n",
    "$ docker ps\n",
    "$ docker exec -it mysqldb bash\n",
    "$ mysql -u root -ppassword\n",
    "```\n",
    "```\n",
    "mysql> show databases;\n",
    "mysql> show databases;\n",
    "mysql> use lahmansbaseballdb;\n",
    "mysql> show tables;\n",
    "```\n",
    "\n",
    "**MySQL Workbench** -> Database | Connect to Database -> 127.0.0.1, Port 3306\n",
    "Execute: ```show databases;```\n",
    "\n",
    "```bash\n",
    "$ curl.exe -O https://raw.githubusercontent.com/WebucatorTraining/lahman-baseball-mysql/master/lahman-mysql-dump.sql\n",
    "```\n",
    "\n",
    "**MySQL Workbench** -> File -> Open SQL Script -> lahman-mysql-dump.sql -> execute\n",
    "\n",
    "```sql\n",
    "USE `lahmansbaseballdb`;\n",
    " SELECT p.nameFirst, p.nameLast, b.HR, t.name AS team, b.yearID\n",
    " FROM batting b\n",
    "     JOIN people p ON p.playerID = b.playerID\n",
    "     JOIN teams t ON t.ID = b.team_ID\n",
    " WHERE b.YearID = 1977\n",
    " ORDER BY b.HR DESC\n",
    " LIMIT 5;\n",
    "```\n",
    "\n",
    "![MySQL Workbench](MySQLWorkbench.png)"
   ]
  },
  {
   "cell_type": "markdown",
   "metadata": {},
   "source": [
    "## Access the Database Using ```mysql-connector-python```\n",
    "\n",
    "- You need to run ```conda install -c conda-forge mysql-connector-python```"
   ]
  },
  {
   "cell_type": "code",
   "execution_count": 32,
   "metadata": {},
   "outputs": [
    {
     "name": "stdout",
     "output_type": "stream",
     "text": [
      "os:            Windows-10-10.0.19041-SP0\n",
      "python         3.8.5 (default, Sep  3 2020, 21:29:08) [MSC v.1916 64 bit (AMD64)]\n",
      "openssl:       OpenSSL 1.1.1i  8 Dec 2020\n",
      "TLSv1.2:       _SSLMethod.PROTOCOL_TLSv1_2\n"
     ]
    }
   ],
   "source": [
    "import platform\n",
    "import sys\n",
    "import ssl\n",
    "\n",
    "print(\"os:            \" + platform.platform())\n",
    "print(\"python         \" + sys.version)\n",
    "print(\"openssl:       \" + ssl.OPENSSL_VERSION)\n",
    "print(\"TLSv1.2:       \" + str(ssl.PROTOCOL_TLSv1_2))"
   ]
  },
  {
   "cell_type": "markdown",
   "metadata": {},
   "source": [
    "## Simple Query Examples\n",
    "\n",
    "**ALSO NOTE:** More lahmans baseball database examples (including Scikit-Learn), see:\n",
    "* [Scikit-Learn Tutorial: Baseball Analytics Pt 1](https://www.datacamp.com/community/tutorials/scikit-learn-tutorial-baseball-1)\n",
    "* [Scikit-Learn Tutorial: Baseball Analytics Pt 2](https://www.datacamp.com/community/tutorials/scikit-learn-tutorial-baseball-2)\n"
   ]
  },
  {
   "cell_type": "code",
   "execution_count": 33,
   "metadata": {},
   "outputs": [
    {
     "name": "stdout",
     "output_type": "stream",
     "text": [
      "<mysql.connector.connection_cext.CMySQLConnection object at 0x000002193C8487F0>\n",
      "('information_schema',)\n",
      "('lahmansbaseballdb',)\n",
      "('mysql',)\n",
      "('performance_schema',)\n",
      "('sys',)\n"
     ]
    }
   ],
   "source": [
    "# conda install -c conda-forge mysql-connector-python\n",
    "\n",
    "import mysql.connector as mysql\n",
    "\n",
    "cnx = mysql.connect(\n",
    "    host=\"127.0.0.1\",                                     # Running in docker container described above\n",
    "    user=\"root\",                                          # in real life you would not use *root*\n",
    "    password=\"password\",                                  # in real life you would not use *password*\n",
    "    port=3306,\n",
    "    ssl_disabled=True,                                    # not usually suitable for production code\n",
    "    database=\"lahmansbaseballdb\")\n",
    "print(cnx)\n",
    "cmd = \"SHOW DATABASES\"\n",
    "with cnx.cursor() as cursor:\n",
    "    cursor.execute(cmd)\n",
    "    for row in cursor:\n",
    "        print(row)"
   ]
  },
  {
   "cell_type": "markdown",
   "metadata": {},
   "source": [
    "## You can query database directly using ```pandas.read_sql()```"
   ]
  },
  {
   "cell_type": "code",
   "execution_count": 34,
   "metadata": {},
   "outputs": [
    {
     "name": "stdout",
     "output_type": "stream",
     "text": [
      "<class 'pandas.core.frame.DataFrame'>\n",
      "\n",
      "  nameFirst nameLast\n",
      "0     David  Aardsma\n",
      "1      Hank    Aaron\n",
      "2    Tommie    Aaron\n",
      "\n",
      "<class 'pandas.core.frame.DataFrame'>\n",
      "RangeIndex: 19878 entries, 0 to 19877\n",
      "Data columns (total 2 columns):\n",
      " #   Column     Non-Null Count  Dtype \n",
      "---  ------     --------------  ----- \n",
      " 0   nameFirst  19841 non-null  object\n",
      " 1   nameLast   19878 non-null  object\n",
      "dtypes: object(2)\n",
      "memory usage: 310.7+ KB\n",
      "None\n"
     ]
    }
   ],
   "source": [
    "import pandas as pd\n",
    "\n",
    "df = pd.read_sql(\"\"\"\n",
    "SELECT p.nameFirst, p.nameLast FROM people p\n",
    "ORDER BY p.nameLast, p.nameFirst\n",
    "\"\"\", cnx)\n",
    "\n",
    "print(type(df))\n",
    "print()\n",
    "print(df.head(3))\n",
    "print()\n",
    "print(df.info())"
   ]
  },
  {
   "cell_type": "markdown",
   "metadata": {},
   "source": [
    "## You can execute any SQL statement using ```cursor.execute()```"
   ]
  },
  {
   "cell_type": "code",
   "execution_count": 35,
   "metadata": {},
   "outputs": [
    {
     "name": "stdout",
     "output_type": "stream",
     "text": [
      "(1, 'abercda01', 1871, 1, 'TRO', 8, 'NA', 1, None, 4, 0, 0, 0, 0, 0, 0, 0, 0, 0, 0, None, None, None, None, 0)\n",
      "(2, 'addybo01', 1871, 1, 'RC1', 7, 'NA', 25, None, 118, 30, 32, 6, 0, 0, 13, 8, 1, 4, 0, None, None, None, None, 0)\n",
      "(3, 'allisar01', 1871, 1, 'CL1', 3, 'NA', 29, None, 137, 28, 40, 4, 5, 0, 19, 3, 1, 2, 5, None, None, None, None, 1)\n",
      "(4, 'allisdo01', 1871, 1, 'WS3', 9, 'NA', 27, None, 133, 28, 44, 10, 2, 2, 27, 1, 1, 0, 2, None, None, None, None, 0)\n",
      "(5, 'ansonca01', 1871, 1, 'RC1', 7, 'NA', 25, None, 120, 29, 39, 11, 3, 0, 16, 6, 2, 2, 1, None, None, None, None, 0)\n",
      "(6, 'armstbo01', 1871, 1, 'FW1', 4, 'NA', 12, None, 49, 9, 11, 2, 1, 0, 5, 0, 1, 0, 1, None, None, None, None, 0)\n",
      "(7, 'barkeal01', 1871, 1, 'RC1', 7, 'NA', 1, None, 4, 0, 1, 0, 0, 0, 2, 0, 0, 1, 0, None, None, None, None, 0)\n",
      "(8, 'barnero01', 1871, 1, 'BS1', 1, 'NA', 31, None, 157, 66, 63, 10, 9, 0, 34, 11, 6, 13, 1, None, None, None, None, 1)\n",
      "(9, 'barrebi01', 1871, 1, 'FW1', 4, 'NA', 1, None, 5, 1, 1, 1, 0, 0, 1, 0, 0, 0, 0, None, None, None, None, 0)\n",
      "(10, 'barrofr01', 1871, 1, 'BS1', 1, 'NA', 18, None, 86, 13, 13, 2, 1, 0, 11, 1, 0, 0, 0, None, None, None, None, 0)\n"
     ]
    }
   ],
   "source": [
    "cmd = \"SELECT * FROM batting LIMIT 10\"\n",
    "with cnx.cursor() as cursor:\n",
    "    cursor.execute(cmd)\n",
    "    rows = cursor.fetchall()\n",
    "    for row in rows:\n",
    "        print(row)"
   ]
  },
  {
   "cell_type": "code",
   "execution_count": 37,
   "metadata": {},
   "outputs": [
    {
     "name": "stdout",
     "output_type": "stream",
     "text": [
      "('George', 'Foster', 52, 'Cincinnati Reds', 1977)\n",
      "('Jeff', 'Burroughs', 41, 'Atlanta Braves', 1977)\n",
      "('Greg', 'Luzinski', 39, 'Philadelphia Phillies', 1977)\n",
      "('Jim', 'Rice', 39, 'Boston Red Sox', 1977)\n",
      "('Mike', 'Schmidt', 38, 'Philadelphia Phillies', 1977)\n"
     ]
    }
   ],
   "source": [
    "sql = \"\"\"\n",
    "SELECT p.nameFirst, p.nameLast, b.HR, t.name AS team, b.yearID\n",
    "FROM batting b\n",
    "    JOIN people p ON p.playerID = b.playerID\n",
    "    JOIN teams t ON t.ID = b.team_ID\n",
    "WHERE b.YearID = 1977\n",
    "ORDER BY b.HR DESC\n",
    "LIMIT 5;\n",
    "\"\"\"\n",
    "with cnx.cursor() as cursor:\n",
    "    cursor.execute(sql)\n",
    "    results = cursor.fetchall()\n",
    "    for x in results:\n",
    "        print(x)"
   ]
  },
  {
   "cell_type": "code",
   "execution_count": 38,
   "metadata": {},
   "outputs": [
    {
     "data": {
      "text/html": [
       "<div>\n",
       "<style scoped>\n",
       "    .dataframe tbody tr th:only-of-type {\n",
       "        vertical-align: middle;\n",
       "    }\n",
       "\n",
       "    .dataframe tbody tr th {\n",
       "        vertical-align: top;\n",
       "    }\n",
       "\n",
       "    .dataframe thead th {\n",
       "        text-align: right;\n",
       "    }\n",
       "</style>\n",
       "<table border=\"1\" class=\"dataframe\">\n",
       "  <thead>\n",
       "    <tr style=\"text-align: right;\">\n",
       "      <th></th>\n",
       "      <th>0</th>\n",
       "      <th>1</th>\n",
       "      <th>2</th>\n",
       "      <th>3</th>\n",
       "      <th>4</th>\n",
       "    </tr>\n",
       "  </thead>\n",
       "  <tbody>\n",
       "    <tr>\n",
       "      <th>0</th>\n",
       "      <td>George</td>\n",
       "      <td>Foster</td>\n",
       "      <td>52</td>\n",
       "      <td>Cincinnati Reds</td>\n",
       "      <td>1977</td>\n",
       "    </tr>\n",
       "    <tr>\n",
       "      <th>1</th>\n",
       "      <td>Jeff</td>\n",
       "      <td>Burroughs</td>\n",
       "      <td>41</td>\n",
       "      <td>Atlanta Braves</td>\n",
       "      <td>1977</td>\n",
       "    </tr>\n",
       "    <tr>\n",
       "      <th>2</th>\n",
       "      <td>Greg</td>\n",
       "      <td>Luzinski</td>\n",
       "      <td>39</td>\n",
       "      <td>Philadelphia Phillies</td>\n",
       "      <td>1977</td>\n",
       "    </tr>\n",
       "    <tr>\n",
       "      <th>3</th>\n",
       "      <td>Jim</td>\n",
       "      <td>Rice</td>\n",
       "      <td>39</td>\n",
       "      <td>Boston Red Sox</td>\n",
       "      <td>1977</td>\n",
       "    </tr>\n",
       "    <tr>\n",
       "      <th>4</th>\n",
       "      <td>Mike</td>\n",
       "      <td>Schmidt</td>\n",
       "      <td>38</td>\n",
       "      <td>Philadelphia Phillies</td>\n",
       "      <td>1977</td>\n",
       "    </tr>\n",
       "  </tbody>\n",
       "</table>\n",
       "</div>"
      ],
      "text/plain": [
       "        0          1   2                      3     4\n",
       "0  George     Foster  52        Cincinnati Reds  1977\n",
       "1    Jeff  Burroughs  41         Atlanta Braves  1977\n",
       "2    Greg   Luzinski  39  Philadelphia Phillies  1977\n",
       "3     Jim       Rice  39         Boston Red Sox  1977\n",
       "4    Mike    Schmidt  38  Philadelphia Phillies  1977"
      ]
     },
     "execution_count": 38,
     "metadata": {},
     "output_type": "execute_result"
    }
   ],
   "source": [
    "import pandas as pd\n",
    "\n",
    "df = pd.DataFrame(results)\n",
    "df.head()"
   ]
  },
  {
   "cell_type": "code",
   "execution_count": 39,
   "metadata": {},
   "outputs": [
    {
     "name": "stdout",
     "output_type": "stream",
     "text": [
      "<class 'list'>\n",
      "<class 'tuple'>\n",
      "<class 'str'>\n",
      "nameFirst\n",
      "[('nameFirst', 253, None, None, None, None, 1, 0), ('nameLast', 253, None, None, None, None, 1, 0), ('HR', 2, None, None, None, None, 1, 32768), ('team', 253, None, None, None, None, 1, 0), ('yearID', 2, None, None, None, None, 0, 53249)]\n"
     ]
    }
   ],
   "source": [
    "# cursor.description is a list of tuples where each tuple describes a column\n",
    "# first element of each tuple is a string containing the name of the corresponding column\n",
    "print(type(cursor.description))       # list\n",
    "print(type(cursor.description[0]))    # tuple\n",
    "print(type(cursor.description[0][0])) # string\n",
    "print(cursor.description[0][0])       # \"nameFirst\" is the name of the first column\n",
    "print(cursor.description)             # the whole thing"
   ]
  },
  {
   "cell_type": "code",
   "execution_count": 40,
   "metadata": {},
   "outputs": [
    {
     "name": "stdout",
     "output_type": "stream",
     "text": [
      "Column 1:\n",
      "  column_name = nameFirst\n",
      "  type = 253 (VAR_STRING)\n",
      "  null_ok = 1\n",
      "  column_flags = 0\n",
      "Column 2:\n",
      "  column_name = nameLast\n",
      "  type = 253 (VAR_STRING)\n",
      "  null_ok = 1\n",
      "  column_flags = 0\n",
      "Column 3:\n",
      "  column_name = HR\n",
      "  type = 2 (SHORT)\n",
      "  null_ok = 1\n",
      "  column_flags = 32768\n",
      "Column 4:\n",
      "  column_name = team\n",
      "  type = 253 (VAR_STRING)\n",
      "  null_ok = 1\n",
      "  column_flags = 0\n",
      "Column 5:\n",
      "  column_name = yearID\n",
      "  type = 2 (SHORT)\n",
      "  null_ok = 0\n",
      "  column_flags = 53249\n"
     ]
    }
   ],
   "source": [
    "from mysql.connector import FieldType\n",
    "\n",
    "for i in range(len(cursor.description)):\n",
    "  print(\"Column {}:\".format(i+1))\n",
    "  desc = cursor.description[i]\n",
    "  print(\"  column_name = {}\".format(desc[0]))\n",
    "  print(\"  type = {} ({})\".format(desc[1], FieldType.get_info(desc[1])))\n",
    "  print(\"  null_ok = {}\".format(desc[6]))\n",
    "  print(\"  column_flags = {}\".format(desc[7]))"
   ]
  },
  {
   "cell_type": "code",
   "execution_count": 41,
   "metadata": {},
   "outputs": [
    {
     "name": "stdout",
     "output_type": "stream",
     "text": [
      "['nameFirst', 'nameLast', 'HR', 'team', 'yearID']\n"
     ]
    }
   ],
   "source": [
    "headers = [i[0] for i in cursor.description] # first column tuple in the column description list\n",
    "print(headers)"
   ]
  },
  {
   "cell_type": "code",
   "execution_count": 42,
   "metadata": {},
   "outputs": [
    {
     "name": "stdout",
     "output_type": "stream",
     "text": [
      "<class 'list'>\n",
      "<class 'str'>\n",
      "['Foster, George', 'Burroughs, Jeff', 'Luzinski, Greg', 'Rice, Jim', 'Schmidt, Mike']\n"
     ]
    }
   ],
   "source": [
    "player = list(df[1] + \", \" + df[0]) # player sssigned to list of strings each containing nameLast followed by nameFirst\n",
    "print(type(player))\n",
    "print(type(player[0]))\n",
    "print(player)"
   ]
  },
  {
   "cell_type": "code",
   "execution_count": 43,
   "metadata": {},
   "outputs": [
    {
     "name": "stdout",
     "output_type": "stream",
     "text": [
      "                nameFirst   nameLast  HR                   team  yearID\n",
      "Foster, George     George     Foster  52        Cincinnati Reds    1977\n",
      "Burroughs, Jeff      Jeff  Burroughs  41         Atlanta Braves    1977\n",
      "Luzinski, Greg       Greg   Luzinski  39  Philadelphia Phillies    1977\n",
      "Rice, Jim             Jim       Rice  39         Boston Red Sox    1977\n",
      "Schmidt, Mike        Mike    Schmidt  38  Philadelphia Phillies    1977\n"
     ]
    }
   ],
   "source": [
    "df = pd.DataFrame(results, columns =[headers[0], headers[1], headers[2], headers[3], headers[4]], index=player)\n",
    "print(df)"
   ]
  },
  {
   "cell_type": "code",
   "execution_count": 44,
   "metadata": {},
   "outputs": [
    {
     "data": {
      "text/plain": [
       "Text(0.5, 1.0, 'Home Runs')"
      ]
     },
     "execution_count": 44,
     "metadata": {},
     "output_type": "execute_result"
    },
    {
     "data": {
      "image/png": "[encoded data removed]",
      "text/plain": [
       "<Figure size 360x360 with 1 Axes>"
      ]
     },
     "metadata": {},
     "output_type": "display_data"
    }
   ],
   "source": [
    "%matplotlib inline\n",
    "\n",
    "df.plot(\n",
    "    y=\"HR\", kind='pie', legend=False, label=\"\", figsize=(5, 5)\n",
    "    ).set_title('Home Runs', fontdict={'fontsize': 32, 'fontweight': 'medium'})"
   ]
  },
  {
   "cell_type": "markdown",
   "metadata": {},
   "source": [
    "## Create Series of  ```datetime``` from three ```numpy.int64``` values for year, month, day"
   ]
  },
  {
   "cell_type": "code",
   "execution_count": 46,
   "metadata": {},
   "outputs": [
    {
     "name": "stdout",
     "output_type": "stream",
     "text": [
      "           0          1   2    3  4  5     6   7   8          9   ...   25  \\\n",
      "0      Justin      Upton  73  215  R  R  1987   8  25        USA  ...   40   \n",
      "1        Luke       Voit  75  225  R  R  1991   2  13        USA  ...   62   \n",
      "2     Stephen       Vogt  72  225  R  L  1984  11   1        USA  ...   40   \n",
      "3         Dan  Vogelbach  72  250  R  L  1992  12  17        USA  ...   76   \n",
      "4    Jonathan     Villar  73  215  R  B  1991   5   2       D.R.  ...   73   \n",
      "5        Alex    Verdugo  72  212  L  L  1996   5  15        USA  ...   44   \n",
      "6   Christian    Vazquez  69  195  R  R  1990   8  21       P.R.  ...   72   \n",
      "7    Ildemaro     Vargas  72  170  R  B  1991   7  16  Venezuela  ...   24   \n",
      "8        Josh   VanMeter  71  165  R  L  1995   3  10        USA  ...   23   \n",
      "9         Gio    Urshela  72  220  R  R  1991  10  11   Colombia  ...   74   \n",
      "10       Luis      Urias  69  185  R  R  1997   6   3     Mexico  ...   24   \n",
      "11       Joey      Votto  74  220  R  L  1983   9  10        CAN  ...   47   \n",
      "12       Trea     Turner  74  185  R  R  1993   6  30        USA  ...   57   \n",
      "13     Justin     Turner  71  202  R  R  1984  11  23        USA  ...   67   \n",
      "14       Cole     Tucker  75  205  R  B  1996   7   3        USA  ...   13   \n",
      "15       Mike      Trout  74  235  R  R  1991   8   7        USA  ...  104   \n",
      "16        Lou    Trivino  77  240  R  R  1991  10   1        USA  ...    0   \n",
      "17      Blake    Treinen  77  225  R  R  1988   6  30        USA  ...    0   \n",
      "18        Sam     Travis  72  205  R  R  1993   8  27        USA  ...   16   \n",
      "19    Gleyber     Torres  73  200  R  R  1996  12  13  Venezuela  ...   90   \n",
      "20       Josh     Tomlin  73  190  R  R  1984  10  19        USA  ...    0   \n",
      "21    Charlie     Tilson  72  185  L  L  1992  12   2        USA  ...   12   \n",
      "22       Trey  Wingenter  79  200  R  R  1994   4  15        USA  ...    0   \n",
      "23       Mike     Zunino  74  235  R  R  1991   3  25        USA  ...   32   \n",
      "24       Ryan  Zimmerman  75  215  R  R  1984   9  28        USA  ...   27   \n",
      "\n",
      "    26  27   28   29  30  31  32 33  34  \n",
      "0    1   1   32   78   0   0   0  5   5  \n",
      "1    0   0   71  142   2   9   0  1  12  \n",
      "2    3   1   20   66   1   1   0  4   1  \n",
      "3    0   0   92  149   2   2   0  2   4  \n",
      "4   40   9   61  176   0   4   2  4   8  \n",
      "5    4   1   26   49   1   2   0  6   8  \n",
      "6    4   2   33  101   3   0   3  3  17  \n",
      "7    1   0    9   24   0   0   0  1   6  \n",
      "8    9   3   29   56   0   2   0  1   5  \n",
      "9    1   1   25   87   1   5   0  4  13  \n",
      "10   0   1   25   56   0   9   0  0   8  \n",
      "11   5   0   76  123   2   4   0  3  14  \n",
      "12  35   5   43  113   2   3   0  2  10  \n",
      "13   2   0   51   88   1  14   0  5  11  \n",
      "14   0   0   10   40   1   1   1  0   2  \n",
      "15  11   2  110  120  14  16   0  4   5  \n",
      "16   0   0    0    0   0   0   0  0   0  \n",
      "17   0   0    0    0   0   0   0  0   0  \n",
      "18   2   0   11   36   2   1   0  1   6  \n",
      "19   5   2   48  129   3   3   1  6  10  \n",
      "20   0   0    0    3   0   0   0  0   0  \n",
      "21   4   0   10   38   1   3   0  0   1  \n",
      "22   0   0    0    0   0   0   0  0   0  \n",
      "23   0   0   20   98   0   3   0  0   4  \n",
      "24   0   0   17   39   0   0   0  2   4  \n",
      "\n",
      "[25 rows x 35 columns]\n"
     ]
    }
   ],
   "source": [
    "cursor = cnx.cursor()\n",
    "sql = \"\"\"\n",
    "SELECT p.nameFirst, p.nameLast, p.Height, p.Weight, p.throws, p.bats,\n",
    "p.birthYear, p.birthMonth, p.birthDay,p.birthCountry, b.*\n",
    "FROM people p\n",
    "JOIN batting b ON b.playerID = p.playerID\n",
    "WHERE yearID between 2014 and 2019 AND b.g >= \"50\"\n",
    "ORDER BY b.yearID Desc\n",
    "LIMIT 25;\n",
    "\"\"\"\n",
    "cursor.execute(sql)\n",
    "results = cursor.fetchall()\n",
    "df_baseball = pd.DataFrame(results)\n",
    "print(df_baseball)"
   ]
  },
  {
   "cell_type": "code",
   "execution_count": 47,
   "metadata": {},
   "outputs": [
    {
     "name": "stdout",
     "output_type": "stream",
     "text": [
      "<class 'list'>\n",
      "<class 'tuple'>\n",
      "35\n",
      "[('nameFirst', 253, None, None, None, None, 1, 0), ('nameLast', 253, None, None, None, None, 1, 0), ('Height', 3, None, None, None, None, 1, 32768), ('Weight', 3, None, None, None, None, 1, 32768), ('throws', 253, None, None, None, None, 1, 0), ('bats', 253, None, None, None, None, 1, 0), ('birthYear', 3, None, None, None, None, 1, 32768), ('birthMonth', 3, None, None, None, None, 1, 32768), ('birthDay', 3, None, None, None, None, 1, 32768), ('birthCountry', 253, None, None, None, None, 1, 0), ('ID', 3, None, None, None, None, 0, 49667), ('playerID', 253, None, None, None, None, 0, 20489), ('yearID', 2, None, None, None, None, 0, 53249), ('stint', 2, None, None, None, None, 0, 53249), ('teamID', 254, None, None, None, None, 1, 0), ('team_ID', 3, None, None, None, None, 1, 49160), ('lgID', 254, None, None, None, None, 1, 16392), ('G', 2, None, None, None, None, 1, 32768), ('G_batting', 2, None, None, None, None, 1, 32768), ('AB', 2, None, None, None, None, 1, 32768), ('R', 2, None, None, None, None, 1, 32768), ('H', 2, None, None, None, None, 1, 32768), ('2B', 2, None, None, None, None, 1, 32768), ('3B', 2, None, None, None, None, 1, 32768), ('HR', 2, None, None, None, None, 1, 32768), ('RBI', 2, None, None, None, None, 1, 32768), ('SB', 2, None, None, None, None, 1, 32768), ('CS', 2, None, None, None, None, 1, 32768), ('BB', 2, None, None, None, None, 1, 32768), ('SO', 2, None, None, None, None, 1, 32768), ('IBB', 2, None, None, None, None, 1, 32768), ('HBP', 2, None, None, None, None, 1, 32768), ('SH', 2, None, None, None, None, 1, 32768), ('SF', 2, None, None, None, None, 1, 32768), ('GIDP', 2, None, None, None, None, 1, 32768)]\n"
     ]
    }
   ],
   "source": [
    "print(type(cursor.description))\n",
    "print(type(cursor.description[0]))\n",
    "print(len(cursor.description))\n",
    "print(cursor.description)"
   ]
  },
  {
   "cell_type": "code",
   "execution_count": 48,
   "metadata": {},
   "outputs": [
    {
     "name": "stdout",
     "output_type": "stream",
     "text": [
      "['nameFirst', 'nameLast', 'Height', 'Weight', 'throws', 'bats', 'birthYear', 'birthMonth', 'birthDay', 'birthCountry', 'ID', 'playerID', 'yearID', 'stint', 'teamID', 'team_ID', 'lgID', 'G', 'G_batting', 'AB', 'R', 'H', '2B', '3B', 'HR', 'RBI', 'SB', 'CS', 'BB', 'SO', 'IBB', 'HBP', 'SH', 'SF', 'GIDP']\n",
      "<class 'list'>\n"
     ]
    }
   ],
   "source": [
    "headers = [i[0] for i in cursor.description]\n",
    "print(headers)\n",
    "print(type(headers))"
   ]
  },
  {
   "cell_type": "code",
   "execution_count": 49,
   "metadata": {},
   "outputs": [
    {
     "name": "stdout",
     "output_type": "stream",
     "text": [
      "                 nameFirst   nameLast  Height  Weight throws bats  birthYear  \\\n",
      "Justin, Upton       Justin      Upton      73     215      R    R       1987   \n",
      "Luke, Voit            Luke       Voit      75     225      R    R       1991   \n",
      "Stephen, Vogt      Stephen       Vogt      72     225      R    L       1984   \n",
      "Dan, Vogelbach         Dan  Vogelbach      72     250      R    L       1992   \n",
      "Jonathan, Villar  Jonathan     Villar      73     215      R    B       1991   \n",
      "\n",
      "                  birthMonth  birthDay birthCountry  ...  RBI  SB  CS  BB  \\\n",
      "Justin, Upton              8        25          USA  ...   40   1   1  32   \n",
      "Luke, Voit                 2        13          USA  ...   62   0   0  71   \n",
      "Stephen, Vogt             11         1          USA  ...   40   3   1  20   \n",
      "Dan, Vogelbach            12        17          USA  ...   76   0   0  92   \n",
      "Jonathan, Villar           5         2         D.R.  ...   73  40   9  61   \n",
      "\n",
      "                   SO  IBB HBP  SH SF  GIDP  \n",
      "Justin, Upton      78    0   0   0  5     5  \n",
      "Luke, Voit        142    2   9   0  1    12  \n",
      "Stephen, Vogt      66    1   1   0  4     1  \n",
      "Dan, Vogelbach    149    2   2   0  2     4  \n",
      "Jonathan, Villar  176    0   4   2  4     8  \n",
      "\n",
      "[5 rows x 35 columns]\n"
     ]
    }
   ],
   "source": [
    "playerName = list(df_baseball[0] + \", \" + df_baseball[1])\n",
    "df_baseball = pd.DataFrame(results, columns = \n",
    "    [headers[0],headers[1],headers[2],headers[3],headers[4],headers[5],headers[6],\n",
    "    headers[7],headers[8],headers[9],headers[10],headers[11],headers[12],\n",
    "    headers[13],headers[14],headers[15],headers[16],headers[17],headers[18],\n",
    "    headers[19],headers[20],headers[21],headers[22],headers[23],headers[24],\n",
    "    headers[25],headers[26],headers[27],headers[28],headers[29],headers[30],\n",
    "    headers[31],headers[32],headers[33],headers[34]], index=playerName)\n",
    "\n",
    "print(df_baseball.head())"
   ]
  },
  {
   "cell_type": "code",
   "execution_count": 50,
   "metadata": {},
   "outputs": [
    {
     "name": "stdout",
     "output_type": "stream",
     "text": [
      "<class 'pandas.core.series.Series'>\n",
      "<class 'pandas.core.series.Series'>\n",
      "<class 'pandas.core.series.Series'>\n",
      "<class 'numpy.int64'>\n",
      "<class 'numpy.int64'>\n",
      "<class 'numpy.int64'>\n"
     ]
    }
   ],
   "source": [
    "print(type(df_baseball['birthYear']))\n",
    "print(type(df_baseball['birthMonth']))\n",
    "print(type(df_baseball['birthDay']))\n",
    "print(type(df_baseball['birthYear'][0]))\n",
    "print(type(df_baseball['birthMonth'][1]))\n",
    "print(type(df_baseball['birthDay'][2]))"
   ]
  },
  {
   "cell_type": "code",
   "execution_count": 51,
   "metadata": {},
   "outputs": [
    {
     "name": "stdout",
     "output_type": "stream",
     "text": [
      "<class 'pandas.core.series.Series'>\n",
      "<class 'numpy.int64'>\n",
      "<class 'pandas.core.series.Series'>\n",
      "(25,)\n",
      "<class 'pandas._libs.tslibs.timestamps.Timestamp'>\n",
      "Justin, Upton        1987-08-25\n",
      "Luke, Voit           1991-02-13\n",
      "Stephen, Vogt        1984-11-01\n",
      "Dan, Vogelbach       1992-12-17\n",
      "Jonathan, Villar     1991-05-02\n",
      "Alex, Verdugo        1996-05-15\n",
      "Christian, Vazquez   1990-08-21\n",
      "Ildemaro, Vargas     1991-07-16\n",
      "Josh, VanMeter       1995-03-10\n",
      "Gio, Urshela         1991-10-11\n",
      "Luis, Urias          1997-06-03\n",
      "Joey, Votto          1983-09-10\n",
      "Trea, Turner         1993-06-30\n",
      "Justin, Turner       1984-11-23\n",
      "Cole, Tucker         1996-07-03\n",
      "Mike, Trout          1991-08-07\n",
      "Lou, Trivino         1991-10-01\n",
      "Blake, Treinen       1988-06-30\n",
      "Sam, Travis          1993-08-27\n",
      "Gleyber, Torres      1996-12-13\n",
      "Josh, Tomlin         1984-10-19\n",
      "Charlie, Tilson      1992-12-02\n",
      "Trey, Wingenter      1994-04-15\n",
      "Mike, Zunino         1991-03-25\n",
      "Ryan, Zimmerman      1984-09-28\n",
      "dtype: datetime64[ns]\n"
     ]
    }
   ],
   "source": [
    "# create Series containing single datetime column using three original numpy.int64 columns (note above: index=playerName)\n",
    "# See: https://stackoverflow.com/questions/19350806/how-to-convert-columns-into-one-datetime-column-in-pandas\n",
    "print(type(df_baseball.birthYear))    # Series\n",
    "print(type(df_baseball.birthYear[0])) # numpy.int64\n",
    "birthDays = pd.to_datetime(dict(year=df_baseball.birthYear, month=df_baseball.birthMonth, day=df_baseball.birthDay))\n",
    "print(type(birthDays))                # Series\n",
    "print(birthDays.shape)                # (25,)\n",
    "print(type(birthDays[0]))             # Timestamp\n",
    "print(birthDays)                      # dump contents of birthDays Series"
   ]
  },
  {
   "cell_type": "markdown",
   "metadata": {},
   "source": [
    "## Draw Sactter Plot to show how home runs have increased over time"
   ]
  },
  {
   "cell_type": "code",
   "execution_count": 52,
   "metadata": {},
   "outputs": [
    {
     "name": "stdout",
     "output_type": "stream",
     "text": [
      "(1871, 0)\n",
      "(2019, 9)\n"
     ]
    }
   ],
   "source": [
    "sql = \"SELECT yearID, HR FROM batting\"\n",
    "cursor.execute(sql)\n",
    "results = cursor.fetchall()\n",
    "print(results[0])\n",
    "print(results[-1])"
   ]
  },
  {
   "cell_type": "code",
   "execution_count": 53,
   "metadata": {},
   "outputs": [
    {
     "name": "stdout",
     "output_type": "stream",
     "text": [
      "   year  hr\n",
      "0  1871   0\n",
      "1  1871   0\n",
      "2  1871   0\n",
      "3  1871   2\n",
      "4  1871   0\n",
      "        year  hr\n",
      "107424  2019   0\n",
      "107425  2019   0\n",
      "107426  2019   6\n",
      "107427  2019   1\n",
      "107428  2019   9\n"
     ]
    },
    {
     "data": {
      "text/plain": [
       "<AxesSubplot:xlabel='year', ylabel='hr'>"
      ]
     },
     "execution_count": 53,
     "metadata": {},
     "output_type": "execute_result"
    },
    {
     "data": {
      "image/png": "[encoded data removed]",
      "text/plain": [
       "<Figure size 432x288 with 1 Axes>"
      ]
     },
     "metadata": {
      "needs_background": "light"
     },
     "output_type": "display_data"
    }
   ],
   "source": [
    "df = pd.DataFrame(results, columns=['year', 'hr'])\n",
    "print(df.head())\n",
    "print(df.tail())\n",
    "df.plot.scatter(x='year', y='hr')"
   ]
  },
  {
   "cell_type": "markdown",
   "metadata": {},
   "source": [
    "## Create ```DataFrame``` with calculated lifeSpan column (deathDay-birthDay)"
   ]
  },
  {
   "cell_type": "code",
   "execution_count": 60,
   "metadata": {},
   "outputs": [
    {
     "name": "stdout",
     "output_type": "stream",
     "text": [
      "('Barry', 'Bonds', 1964, 7, 24, 'USA', None, None, None, 185, 73, 'L', 'L', '2007-09-26', 2001, 1, 'SFN', 'NL', 153, 476, 129, 156, 32, 2, 73, 137, 13, 3, 177, 93, 35, 9, 0, 2, 5, 1)\n",
      "('Barry', 'Bonds', 1964, 7, 24, 'USA', None, None, None, 185, 73, 'L', 'L', '2007-09-26', 2001, 1, 'SFN', 'NL', 153, 476, 129, 156, 32, 2, 73, 137, 13, 3, 177, 93, 35, 9, 0, 2, 5, 1)\n",
      "('Barry', 'Bonds', 1964, 7, 24, 'USA', None, None, None, 185, 73, 'L', 'L', '2007-09-26', 2001, 1, 'SFN', 'NL', 153, 476, 129, 156, 32, 2, 73, 137, 13, 3, 177, 93, 35, 9, 0, 2, 5, 1)\n",
      "('Barry', 'Bonds', 1964, 7, 24, 'USA', None, None, None, 185, 73, 'L', 'L', '2007-09-26', 2001, 1, 'SFN', 'NL', 153, 476, 129, 156, 32, 2, 73, 137, 13, 3, 177, 93, 35, 9, 0, 2, 5, 1)\n",
      "('Barry', 'Bonds', 1964, 7, 24, 'USA', None, None, None, 185, 73, 'L', 'L', '2007-09-26', 2001, 1, 'SFN', 'NL', 153, 476, 129, 156, 32, 2, 73, 137, 13, 3, 177, 93, 35, 9, 0, 2, 5, 1)\n"
     ]
    }
   ],
   "source": [
    "sql = \"\"\"\n",
    "SELECT p.nameFirst,p.nameLast,p.birthYear,p.birthMonth,p.birthDay,p.birthCountry,p.deathYear,\n",
    "p.deathMonth,p.deathDay,p.weight,p.height,p.bats,p.throws,p.finalGame,b.yearID,b.stint,b.teamID,b.lgID,b.G,b.AB,b.R,b.H,b.2B,b.3B,b.HR,b.RBI,b.SB,b.CS,b.BB,b.SO,b.IBB,b.HBP,b.SH,b.SF,b.GIDP,a.GP\n",
    "FROM people p\n",
    "    JOIN batting b\n",
    "    ON p.playerID = b.playerID\n",
    "    JOIN allstarfull a\n",
    "    ON p.playerID = a.playerID\n",
    "    ORDER BY b.HR DESC;\n",
    "\"\"\"\n",
    "cursor = cnx.cursor()\n",
    "cursor.execute(sql)\n",
    "results = cursor.fetchall()\n",
    "for x in results[0:5]:\n",
    "    print(x)"
   ]
  },
  {
   "cell_type": "code",
   "execution_count": 57,
   "metadata": {},
   "outputs": [
    {
     "data": {
      "text/html": [
       "<div>\n",
       "<style scoped>\n",
       "    .dataframe tbody tr th:only-of-type {\n",
       "        vertical-align: middle;\n",
       "    }\n",
       "\n",
       "    .dataframe tbody tr th {\n",
       "        vertical-align: top;\n",
       "    }\n",
       "\n",
       "    .dataframe thead th {\n",
       "        text-align: right;\n",
       "    }\n",
       "</style>\n",
       "<table border=\"1\" class=\"dataframe\">\n",
       "  <thead>\n",
       "    <tr style=\"text-align: right;\">\n",
       "      <th></th>\n",
       "      <th>nameFirst</th>\n",
       "      <th>nameLast</th>\n",
       "      <th>birthYear</th>\n",
       "      <th>birthMonth</th>\n",
       "      <th>birthDay</th>\n",
       "      <th>birthCountry</th>\n",
       "      <th>deathYear</th>\n",
       "      <th>deathMonth</th>\n",
       "      <th>deathDay</th>\n",
       "      <th>weight</th>\n",
       "      <th>...</th>\n",
       "      <th>SB</th>\n",
       "      <th>CS</th>\n",
       "      <th>BB</th>\n",
       "      <th>SO</th>\n",
       "      <th>IBB</th>\n",
       "      <th>HBP</th>\n",
       "      <th>SH</th>\n",
       "      <th>SF</th>\n",
       "      <th>GIDP</th>\n",
       "      <th>GP</th>\n",
       "    </tr>\n",
       "  </thead>\n",
       "  <tbody>\n",
       "    <tr>\n",
       "      <th>0</th>\n",
       "      <td>Barry</td>\n",
       "      <td>Bonds</td>\n",
       "      <td>1964</td>\n",
       "      <td>7</td>\n",
       "      <td>24</td>\n",
       "      <td>USA</td>\n",
       "      <td>NaN</td>\n",
       "      <td>NaN</td>\n",
       "      <td>NaN</td>\n",
       "      <td>185</td>\n",
       "      <td>...</td>\n",
       "      <td>13</td>\n",
       "      <td>3.0</td>\n",
       "      <td>177</td>\n",
       "      <td>93</td>\n",
       "      <td>35.0</td>\n",
       "      <td>9</td>\n",
       "      <td>0</td>\n",
       "      <td>2.0</td>\n",
       "      <td>5.0</td>\n",
       "      <td>1</td>\n",
       "    </tr>\n",
       "    <tr>\n",
       "      <th>1</th>\n",
       "      <td>Barry</td>\n",
       "      <td>Bonds</td>\n",
       "      <td>1964</td>\n",
       "      <td>7</td>\n",
       "      <td>24</td>\n",
       "      <td>USA</td>\n",
       "      <td>NaN</td>\n",
       "      <td>NaN</td>\n",
       "      <td>NaN</td>\n",
       "      <td>185</td>\n",
       "      <td>...</td>\n",
       "      <td>13</td>\n",
       "      <td>3.0</td>\n",
       "      <td>177</td>\n",
       "      <td>93</td>\n",
       "      <td>35.0</td>\n",
       "      <td>9</td>\n",
       "      <td>0</td>\n",
       "      <td>2.0</td>\n",
       "      <td>5.0</td>\n",
       "      <td>1</td>\n",
       "    </tr>\n",
       "    <tr>\n",
       "      <th>2</th>\n",
       "      <td>Barry</td>\n",
       "      <td>Bonds</td>\n",
       "      <td>1964</td>\n",
       "      <td>7</td>\n",
       "      <td>24</td>\n",
       "      <td>USA</td>\n",
       "      <td>NaN</td>\n",
       "      <td>NaN</td>\n",
       "      <td>NaN</td>\n",
       "      <td>185</td>\n",
       "      <td>...</td>\n",
       "      <td>13</td>\n",
       "      <td>3.0</td>\n",
       "      <td>177</td>\n",
       "      <td>93</td>\n",
       "      <td>35.0</td>\n",
       "      <td>9</td>\n",
       "      <td>0</td>\n",
       "      <td>2.0</td>\n",
       "      <td>5.0</td>\n",
       "      <td>1</td>\n",
       "    </tr>\n",
       "    <tr>\n",
       "      <th>3</th>\n",
       "      <td>Barry</td>\n",
       "      <td>Bonds</td>\n",
       "      <td>1964</td>\n",
       "      <td>7</td>\n",
       "      <td>24</td>\n",
       "      <td>USA</td>\n",
       "      <td>NaN</td>\n",
       "      <td>NaN</td>\n",
       "      <td>NaN</td>\n",
       "      <td>185</td>\n",
       "      <td>...</td>\n",
       "      <td>13</td>\n",
       "      <td>3.0</td>\n",
       "      <td>177</td>\n",
       "      <td>93</td>\n",
       "      <td>35.0</td>\n",
       "      <td>9</td>\n",
       "      <td>0</td>\n",
       "      <td>2.0</td>\n",
       "      <td>5.0</td>\n",
       "      <td>1</td>\n",
       "    </tr>\n",
       "    <tr>\n",
       "      <th>4</th>\n",
       "      <td>Barry</td>\n",
       "      <td>Bonds</td>\n",
       "      <td>1964</td>\n",
       "      <td>7</td>\n",
       "      <td>24</td>\n",
       "      <td>USA</td>\n",
       "      <td>NaN</td>\n",
       "      <td>NaN</td>\n",
       "      <td>NaN</td>\n",
       "      <td>185</td>\n",
       "      <td>...</td>\n",
       "      <td>13</td>\n",
       "      <td>3.0</td>\n",
       "      <td>177</td>\n",
       "      <td>93</td>\n",
       "      <td>35.0</td>\n",
       "      <td>9</td>\n",
       "      <td>0</td>\n",
       "      <td>2.0</td>\n",
       "      <td>5.0</td>\n",
       "      <td>1</td>\n",
       "    </tr>\n",
       "  </tbody>\n",
       "</table>\n",
       "<p>5 rows × 36 columns</p>\n",
       "</div>"
      ],
      "text/plain": [
       "  nameFirst nameLast  birthYear  birthMonth  birthDay birthCountry  deathYear  \\\n",
       "0     Barry    Bonds       1964           7        24          USA        NaN   \n",
       "1     Barry    Bonds       1964           7        24          USA        NaN   \n",
       "2     Barry    Bonds       1964           7        24          USA        NaN   \n",
       "3     Barry    Bonds       1964           7        24          USA        NaN   \n",
       "4     Barry    Bonds       1964           7        24          USA        NaN   \n",
       "\n",
       "   deathMonth  deathDay  weight  ...  SB   CS   BB  SO   IBB  HBP SH   SF  \\\n",
       "0         NaN       NaN     185  ...  13  3.0  177  93  35.0    9  0  2.0   \n",
       "1         NaN       NaN     185  ...  13  3.0  177  93  35.0    9  0  2.0   \n",
       "2         NaN       NaN     185  ...  13  3.0  177  93  35.0    9  0  2.0   \n",
       "3         NaN       NaN     185  ...  13  3.0  177  93  35.0    9  0  2.0   \n",
       "4         NaN       NaN     185  ...  13  3.0  177  93  35.0    9  0  2.0   \n",
       "\n",
       "   GIDP  GP  \n",
       "0   5.0   1  \n",
       "1   5.0   1  \n",
       "2   5.0   1  \n",
       "3   5.0   1  \n",
       "4   5.0   1  \n",
       "\n",
       "[5 rows x 36 columns]"
      ]
     },
     "execution_count": 57,
     "metadata": {},
     "output_type": "execute_result"
    }
   ],
   "source": [
    "import pandas as pd\n",
    "\n",
    "df = pd.DataFrame(results, columns = [\"nameFirst\",\"nameLast\",\"birthYear\",\"birthMonth\",\"birthDay\",\"birthCountry\",\"deathYear\",\n",
    "\"deathMonth\",\"deathDay\",\"weight\",\"height\",\"bats\",\"throws\",\"finalGame\",\"yearID\",\"stint\",\"teamID\",\"lgID\",\"G\",\"AB\",\"R\",\"H\",\"2B\",\"3B\",\"HR\",\"RBI\",\"SB\",\"CS\",\"BB\",\"SO\",\"IBB\",\"HBP\",\"SH\",\"SF\",\"GIDP\",\"GP\"])\n",
    "df.head()"
   ]
  },
  {
   "cell_type": "code",
   "execution_count": 61,
   "metadata": {},
   "outputs": [
    {
     "data": {
      "text/html": [
       "<div>\n",
       "<style scoped>\n",
       "    .dataframe tbody tr th:only-of-type {\n",
       "        vertical-align: middle;\n",
       "    }\n",
       "\n",
       "    .dataframe tbody tr th {\n",
       "        vertical-align: top;\n",
       "    }\n",
       "\n",
       "    .dataframe thead th {\n",
       "        text-align: right;\n",
       "    }\n",
       "</style>\n",
       "<table border=\"1\" class=\"dataframe\">\n",
       "  <thead>\n",
       "    <tr style=\"text-align: right;\">\n",
       "      <th></th>\n",
       "      <th>nameFirst</th>\n",
       "      <th>nameLast</th>\n",
       "      <th>birthYear</th>\n",
       "      <th>birthMonth</th>\n",
       "      <th>birthDay</th>\n",
       "      <th>birthCountry</th>\n",
       "      <th>deathYear</th>\n",
       "      <th>deathMonth</th>\n",
       "      <th>deathDay</th>\n",
       "      <th>weight</th>\n",
       "      <th>...</th>\n",
       "      <th>SB</th>\n",
       "      <th>CS</th>\n",
       "      <th>BB</th>\n",
       "      <th>SO</th>\n",
       "      <th>IBB</th>\n",
       "      <th>HBP</th>\n",
       "      <th>SH</th>\n",
       "      <th>SF</th>\n",
       "      <th>GIDP</th>\n",
       "      <th>GP</th>\n",
       "    </tr>\n",
       "  </thead>\n",
       "  <tbody>\n",
       "    <tr>\n",
       "      <th>59</th>\n",
       "      <td>Roger</td>\n",
       "      <td>Maris</td>\n",
       "      <td>1934</td>\n",
       "      <td>9</td>\n",
       "      <td>10</td>\n",
       "      <td>USA</td>\n",
       "      <td>1985.0</td>\n",
       "      <td>12.0</td>\n",
       "      <td>14.0</td>\n",
       "      <td>197</td>\n",
       "      <td>...</td>\n",
       "      <td>0</td>\n",
       "      <td>0.0</td>\n",
       "      <td>94</td>\n",
       "      <td>67</td>\n",
       "      <td>0.0</td>\n",
       "      <td>7</td>\n",
       "      <td>0</td>\n",
       "      <td>7.0</td>\n",
       "      <td>16.0</td>\n",
       "      <td>1</td>\n",
       "    </tr>\n",
       "    <tr>\n",
       "      <th>66</th>\n",
       "      <td>Babe</td>\n",
       "      <td>Ruth</td>\n",
       "      <td>1895</td>\n",
       "      <td>2</td>\n",
       "      <td>6</td>\n",
       "      <td>USA</td>\n",
       "      <td>1948.0</td>\n",
       "      <td>8.0</td>\n",
       "      <td>16.0</td>\n",
       "      <td>215</td>\n",
       "      <td>...</td>\n",
       "      <td>7</td>\n",
       "      <td>6.0</td>\n",
       "      <td>137</td>\n",
       "      <td>89</td>\n",
       "      <td>NaN</td>\n",
       "      <td>0</td>\n",
       "      <td>14</td>\n",
       "      <td>NaN</td>\n",
       "      <td>NaN</td>\n",
       "      <td>1</td>\n",
       "    </tr>\n",
       "    <tr>\n",
       "      <th>77</th>\n",
       "      <td>Jimmie</td>\n",
       "      <td>Foxx</td>\n",
       "      <td>1907</td>\n",
       "      <td>10</td>\n",
       "      <td>22</td>\n",
       "      <td>USA</td>\n",
       "      <td>1967.0</td>\n",
       "      <td>7.0</td>\n",
       "      <td>21.0</td>\n",
       "      <td>195</td>\n",
       "      <td>...</td>\n",
       "      <td>3</td>\n",
       "      <td>7.0</td>\n",
       "      <td>116</td>\n",
       "      <td>96</td>\n",
       "      <td>NaN</td>\n",
       "      <td>0</td>\n",
       "      <td>0</td>\n",
       "      <td>NaN</td>\n",
       "      <td>NaN</td>\n",
       "      <td>0</td>\n",
       "    </tr>\n",
       "    <tr>\n",
       "      <th>80</th>\n",
       "      <td>Hank</td>\n",
       "      <td>Greenberg</td>\n",
       "      <td>1911</td>\n",
       "      <td>1</td>\n",
       "      <td>1</td>\n",
       "      <td>USA</td>\n",
       "      <td>1986.0</td>\n",
       "      <td>9.0</td>\n",
       "      <td>4.0</td>\n",
       "      <td>210</td>\n",
       "      <td>...</td>\n",
       "      <td>7</td>\n",
       "      <td>5.0</td>\n",
       "      <td>119</td>\n",
       "      <td>92</td>\n",
       "      <td>NaN</td>\n",
       "      <td>3</td>\n",
       "      <td>3</td>\n",
       "      <td>NaN</td>\n",
       "      <td>NaN</td>\n",
       "      <td>0</td>\n",
       "    </tr>\n",
       "    <tr>\n",
       "      <th>170</th>\n",
       "      <td>Ralph</td>\n",
       "      <td>Kiner</td>\n",
       "      <td>1922</td>\n",
       "      <td>10</td>\n",
       "      <td>27</td>\n",
       "      <td>USA</td>\n",
       "      <td>2014.0</td>\n",
       "      <td>2.0</td>\n",
       "      <td>6.0</td>\n",
       "      <td>195</td>\n",
       "      <td>...</td>\n",
       "      <td>6</td>\n",
       "      <td>NaN</td>\n",
       "      <td>117</td>\n",
       "      <td>61</td>\n",
       "      <td>NaN</td>\n",
       "      <td>1</td>\n",
       "      <td>0</td>\n",
       "      <td>NaN</td>\n",
       "      <td>10.0</td>\n",
       "      <td>1</td>\n",
       "    </tr>\n",
       "  </tbody>\n",
       "</table>\n",
       "<p>5 rows × 36 columns</p>\n",
       "</div>"
      ],
      "text/plain": [
       "    nameFirst   nameLast  birthYear  birthMonth  birthDay birthCountry  \\\n",
       "59      Roger      Maris       1934           9        10          USA   \n",
       "66       Babe       Ruth       1895           2         6          USA   \n",
       "77     Jimmie       Foxx       1907          10        22          USA   \n",
       "80       Hank  Greenberg       1911           1         1          USA   \n",
       "170     Ralph      Kiner       1922          10        27          USA   \n",
       "\n",
       "     deathYear  deathMonth  deathDay  weight  ...  SB   CS   BB  SO  IBB  HBP  \\\n",
       "59      1985.0        12.0      14.0     197  ...   0  0.0   94  67  0.0    7   \n",
       "66      1948.0         8.0      16.0     215  ...   7  6.0  137  89  NaN    0   \n",
       "77      1967.0         7.0      21.0     195  ...   3  7.0  116  96  NaN    0   \n",
       "80      1986.0         9.0       4.0     210  ...   7  5.0  119  92  NaN    3   \n",
       "170     2014.0         2.0       6.0     195  ...   6  NaN  117  61  NaN    1   \n",
       "\n",
       "     SH   SF  GIDP  GP  \n",
       "59    0  7.0  16.0   1  \n",
       "66   14  NaN   NaN   1  \n",
       "77    0  NaN   NaN   0  \n",
       "80    3  NaN   NaN   0  \n",
       "170   0  NaN  10.0   1  \n",
       "\n",
       "[5 rows x 36 columns]"
      ]
     },
     "execution_count": 61,
     "metadata": {},
     "output_type": "execute_result"
    }
   ],
   "source": [
    "# Drop Rows with any missing value in selected columns\n",
    "df = df.dropna(how='any', subset=['birthYear','birthMonth','birthDay','deathYear','deathMonth','deathDay'])\n",
    "df = df.drop_duplicates(['nameFirst', 'nameLast'])\n",
    "df.head()"
   ]
  },
  {
   "cell_type": "code",
   "execution_count": 62,
   "metadata": {},
   "outputs": [
    {
     "data": {
      "text/plain": [
       "59    1934-09-10\n",
       "66    1895-02-06\n",
       "77    1907-10-22\n",
       "80    1911-01-01\n",
       "170   1922-10-27\n",
       "Name: birthDays, dtype: datetime64[ns]"
      ]
     },
     "execution_count": 62,
     "metadata": {},
     "output_type": "execute_result"
    }
   ],
   "source": [
    "df['birthDays'] = pd.to_datetime(dict(year=df.birthYear, month=df.birthMonth, day=df.birthDay))\n",
    "df['birthDays'].head()"
   ]
  },
  {
   "cell_type": "code",
   "execution_count": 63,
   "metadata": {},
   "outputs": [
    {
     "data": {
      "text/plain": [
       "59    1985-12-14\n",
       "66    1948-08-16\n",
       "77    1967-07-21\n",
       "80    1986-09-04\n",
       "170   2014-02-06\n",
       "Name: deathDays, dtype: datetime64[ns]"
      ]
     },
     "execution_count": 63,
     "metadata": {},
     "output_type": "execute_result"
    }
   ],
   "source": [
    "df['deathDays'] = pd.to_datetime(dict(year=df.deathYear, month=df.deathMonth, day=df.deathDay))\n",
    "df['deathDays'].head() # For datetime64[ns] types, NaT represents missing values."
   ]
  },
  {
   "cell_type": "code",
   "execution_count": 64,
   "metadata": {},
   "outputs": [
    {
     "data": {
      "text/html": [
       "<div>\n",
       "<style scoped>\n",
       "    .dataframe tbody tr th:only-of-type {\n",
       "        vertical-align: middle;\n",
       "    }\n",
       "\n",
       "    .dataframe tbody tr th {\n",
       "        vertical-align: top;\n",
       "    }\n",
       "\n",
       "    .dataframe thead th {\n",
       "        text-align: right;\n",
       "    }\n",
       "</style>\n",
       "<table border=\"1\" class=\"dataframe\">\n",
       "  <thead>\n",
       "    <tr style=\"text-align: right;\">\n",
       "      <th></th>\n",
       "      <th>nameFirst</th>\n",
       "      <th>nameLast</th>\n",
       "      <th>birthDays</th>\n",
       "      <th>deathDays</th>\n",
       "      <th>lifeSpan</th>\n",
       "    </tr>\n",
       "  </thead>\n",
       "  <tbody>\n",
       "    <tr>\n",
       "      <th>59</th>\n",
       "      <td>Roger</td>\n",
       "      <td>Maris</td>\n",
       "      <td>1934-09-10</td>\n",
       "      <td>1985-12-14</td>\n",
       "      <td>51.0</td>\n",
       "    </tr>\n",
       "    <tr>\n",
       "      <th>66</th>\n",
       "      <td>Babe</td>\n",
       "      <td>Ruth</td>\n",
       "      <td>1895-02-06</td>\n",
       "      <td>1948-08-16</td>\n",
       "      <td>53.0</td>\n",
       "    </tr>\n",
       "    <tr>\n",
       "      <th>77</th>\n",
       "      <td>Jimmie</td>\n",
       "      <td>Foxx</td>\n",
       "      <td>1907-10-22</td>\n",
       "      <td>1967-07-21</td>\n",
       "      <td>59.0</td>\n",
       "    </tr>\n",
       "    <tr>\n",
       "      <th>80</th>\n",
       "      <td>Hank</td>\n",
       "      <td>Greenberg</td>\n",
       "      <td>1911-01-01</td>\n",
       "      <td>1986-09-04</td>\n",
       "      <td>75.0</td>\n",
       "    </tr>\n",
       "    <tr>\n",
       "      <th>170</th>\n",
       "      <td>Ralph</td>\n",
       "      <td>Kiner</td>\n",
       "      <td>1922-10-27</td>\n",
       "      <td>2014-02-06</td>\n",
       "      <td>91.0</td>\n",
       "    </tr>\n",
       "    <tr>\n",
       "      <th>...</th>\n",
       "      <td>...</td>\n",
       "      <td>...</td>\n",
       "      <td>...</td>\n",
       "      <td>...</td>\n",
       "      <td>...</td>\n",
       "    </tr>\n",
       "    <tr>\n",
       "      <th>83427</th>\n",
       "      <td>Bob</td>\n",
       "      <td>Shaw</td>\n",
       "      <td>1933-06-29</td>\n",
       "      <td>2010-09-23</td>\n",
       "      <td>77.0</td>\n",
       "    </tr>\n",
       "    <tr>\n",
       "      <th>83506</th>\n",
       "      <td>Jim</td>\n",
       "      <td>Bouton</td>\n",
       "      <td>1939-03-08</td>\n",
       "      <td>2019-07-10</td>\n",
       "      <td>80.0</td>\n",
       "    </tr>\n",
       "    <tr>\n",
       "      <th>83592</th>\n",
       "      <td>Jim</td>\n",
       "      <td>O'Toole</td>\n",
       "      <td>1937-01-10</td>\n",
       "      <td>2015-12-26</td>\n",
       "      <td>78.0</td>\n",
       "    </tr>\n",
       "    <tr>\n",
       "      <th>83689</th>\n",
       "      <td>Hal</td>\n",
       "      <td>Woodeshick</td>\n",
       "      <td>1932-08-24</td>\n",
       "      <td>2009-06-14</td>\n",
       "      <td>76.0</td>\n",
       "    </tr>\n",
       "    <tr>\n",
       "      <th>83811</th>\n",
       "      <td>John</td>\n",
       "      <td>Wyatt</td>\n",
       "      <td>1935-04-19</td>\n",
       "      <td>1998-04-06</td>\n",
       "      <td>62.0</td>\n",
       "    </tr>\n",
       "  </tbody>\n",
       "</table>\n",
       "<p>572 rows × 5 columns</p>\n",
       "</div>"
      ],
      "text/plain": [
       "      nameFirst    nameLast  birthDays  deathDays  lifeSpan\n",
       "59        Roger       Maris 1934-09-10 1985-12-14      51.0\n",
       "66         Babe        Ruth 1895-02-06 1948-08-16      53.0\n",
       "77       Jimmie        Foxx 1907-10-22 1967-07-21      59.0\n",
       "80         Hank   Greenberg 1911-01-01 1986-09-04      75.0\n",
       "170       Ralph       Kiner 1922-10-27 2014-02-06      91.0\n",
       "...         ...         ...        ...        ...       ...\n",
       "83427       Bob        Shaw 1933-06-29 2010-09-23      77.0\n",
       "83506       Jim      Bouton 1939-03-08 2019-07-10      80.0\n",
       "83592       Jim     O'Toole 1937-01-10 2015-12-26      78.0\n",
       "83689       Hal  Woodeshick 1932-08-24 2009-06-14      76.0\n",
       "83811      John       Wyatt 1935-04-19 1998-04-06      62.0\n",
       "\n",
       "[572 rows x 5 columns]"
      ]
     },
     "execution_count": 64,
     "metadata": {},
     "output_type": "execute_result"
    }
   ],
   "source": [
    "df['lifeSpan'] = (df['deathDays'] - df['birthDays']).astype('timedelta64[Y]')\n",
    "df[['nameFirst', 'nameLast', 'birthDays', 'deathDays', 'lifeSpan']]"
   ]
  },
  {
   "cell_type": "markdown",
   "metadata": {},
   "source": [
    "## How many double plays did Albert Pujols ground into in 2016?\n",
    "- ```GIDP``` is defined in the ```Batting``` table\n",
    "- Below are examples of doing this using SQL vs doing this in pandas"
   ]
  },
  {
   "cell_type": "code",
   "execution_count": 66,
   "metadata": {},
   "outputs": [
    {
     "name": "stdout",
     "output_type": "stream",
     "text": [
      "[('Albert', 'Pujols', 24)]\n"
     ]
    }
   ],
   "source": [
    "sql = \"\"\"\n",
    "SELECT p.nameFirst, p.nameLast, b.GIDP\n",
    "FROM people p\n",
    "JOIN batting b ON b.playerID=p.playerID\n",
    "WHERE b.yearID=2016 AND p.nameFirst=\"Albert\" AND p.nameLast=\"Pujols\";\n",
    "\"\"\"\n",
    "\n",
    "cursor.execute(sql)\n",
    "results = cursor.fetchall()\n",
    "print(results)"
   ]
  },
  {
   "cell_type": "code",
   "execution_count": 68,
   "metadata": {},
   "outputs": [
    {
     "name": "stdout",
     "output_type": "stream",
     "text": [
      "<class 'pandas.core.frame.DataFrame'>\n",
      "\n",
      "  nameFirst nameLast  yearID  GIDP\n",
      "0     David  Aardsma    2004   0.0\n",
      "1     David  Aardsma    2006   0.0\n",
      "2     David  Aardsma    2007   0.0\n",
      "\n",
      "\n",
      "      nameFirst nameLast  yearID  GIDP\n",
      "78219    Albert   Pujols    2016  24.0\n"
     ]
    }
   ],
   "source": [
    "sql = \"\"\"\n",
    "SELECT p.nameFirst, p.nameLast, b.yearID, b.GIDP\n",
    "FROM people p\n",
    "JOIN batting b ON b.playerID=p.playerID;\n",
    "\"\"\"\n",
    "\n",
    "df = pd.read_sql(sql, cnx)\n",
    "\n",
    "print(type(df))\n",
    "print()\n",
    "\n",
    "print(df.head(3))\n",
    "print()\n",
    "\n",
    "print()\n",
    "df_2016_Albert_Pujols = df[(df[\"yearID\"]==2016) & (df[\"nameFirst\"]==\"Albert\") & (df[\"nameLast\"]==\"Pujols\")]\n",
    "print(df_2016_Albert_Pujols)"
   ]
  },
  {
   "cell_type": "code",
   "execution_count": null,
   "metadata": {},
   "outputs": [],
   "source": []
  }
 ],
 "metadata": {
  "kernelspec": {
   "display_name": "Python 3",
   "language": "python",
   "name": "python3"
  },
  "language_info": {
   "codemirror_mode": {
    "name": "ipython",
    "version": 3
   },
   "file_extension": ".py",
   "mimetype": "text/x-python",
   "name": "python",
   "nbconvert_exporter": "python",
   "pygments_lexer": "ipython3",
   "version": "3.8.5"
  }
 },
 "nbformat": 4,
 "nbformat_minor": 4
}
