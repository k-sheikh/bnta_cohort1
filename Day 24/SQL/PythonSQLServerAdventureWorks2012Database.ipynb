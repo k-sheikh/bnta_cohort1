{
 "cells": [
  {
   "cell_type": "markdown",
   "metadata": {},
   "source": [
    "# Python and SQLServer AdventureWorks2012 : pyodbc (60 Minute)\n",
    "\n",
    "## Quickstart: Use Python to query a database in Azure SQL Database\n",
    "See: https://docs.microsoft.com/en-us/azure/azure-sql/database/connect-query-python?tabs=windows\n",
    "\n",
    "1. ```conda install -c anaconda pyodbc```\n",
    "2. Intall Microsoft ODBC Driver 17 for SQL Server (x64):\n",
    "https://docs.microsoft.com/en-us/sql/connect/odbc/download-odbc-driver-for-sql-server?view=sql-server-ver15#download-for-windows\n",
    "3. Check that ```ODBC Driver 17 for SQL Server``` is installed in Python code in next cell"
   ]
  },
  {
   "cell_type": "code",
   "execution_count": 70,
   "metadata": {},
   "outputs": [
    {
     "data": {
      "text/plain": [
       "['SQL Server', 'ODBC Driver 17 for SQL Server']"
      ]
     },
     "execution_count": 70,
     "metadata": {},
     "output_type": "execute_result"
    }
   ],
   "source": [
    "import pyodbc\n",
    "[x for x in pyodbc.drivers()]"
   ]
  },
  {
   "cell_type": "code",
   "execution_count": 71,
   "metadata": {},
   "outputs": [
    {
     "name": "stdout",
     "output_type": "stream",
     "text": [
      "<pyodbc.Cursor object at 0x0000022A7B14CDB0>\n"
     ]
    }
   ],
   "source": [
    "server = 'sqlservercentralpublic.database.windows.net'  # sever\n",
    "database = 'AdventureWorks'                             # database\n",
    "username = 'sqlfamily'                                  # username\n",
    "password = 'sqlf@m1ly'                                  # password\n",
    "driver= '{ODBC Driver 17 for SQL Server}'\n",
    "cnxn = pyodbc.connect('DRIVER='+driver+';SERVER='+server+';PORT=1433;DATABASE='+database+';UID='+username+';PWD='+ password)\n",
    "cursor = cnxn.cursor()\n",
    "print(cursor)"
   ]
  },
  {
   "cell_type": "code",
   "execution_count": 72,
   "metadata": {},
   "outputs": [
    {
     "name": "stdout",
     "output_type": "stream",
     "text": [
      "master 1\n",
      "AdventureWorks 5\n"
     ]
    }
   ],
   "source": [
    "cursor.execute(\"SELECT name, database_id, create_date FROM sys.databases\")\n",
    "row = cursor.fetchone()\n",
    "while row:\n",
    "    print (str(row[0]) + \" \" + str(row[1]))\n",
    "    row = cursor.fetchone()"
   ]
  },
  {
   "cell_type": "code",
   "execution_count": 73,
   "metadata": {},
   "outputs": [
    {
     "name": "stdout",
     "output_type": "stream",
     "text": [
      "('AdventureWorks', 'SalesLT', 'Logger', 'BASE TABLE')\n",
      "('AdventureWorks', 'SalesLT', 'Customer', 'BASE TABLE')\n",
      "('AdventureWorks', 'SalesLT', 'ProductModel', 'BASE TABLE')\n",
      "('AdventureWorks', 'SalesLT', 'ProductDescription', 'BASE TABLE')\n",
      "('AdventureWorks', 'SalesLT', 'Product', 'BASE TABLE')\n",
      "('AdventureWorks', 'SalesLT', 'ProductModelProductDescription', 'BASE TABLE')\n",
      "('AdventureWorks', 'SalesLT', 'ProductCategory', 'BASE TABLE')\n",
      "('AdventureWorks', 'SalesLT', 'Address', 'BASE TABLE')\n",
      "('AdventureWorks', 'SalesLT', 'CustomerAddress', 'BASE TABLE')\n",
      "('AdventureWorks', 'SalesLT', 'SalesOrderDetail', 'BASE TABLE')\n",
      "('AdventureWorks', 'SalesLT', 'SalesOrderHeader', 'BASE TABLE')\n"
     ]
    }
   ],
   "source": [
    "cursor.execute(\"USE AdventureWorks\")\n",
    "cursor.execute(\"SELECT * FROM INFORMATION_SCHEMA.TABLES WHERE TABLE_TYPE='BASE TABLE'\")\n",
    "for row in cursor:\n",
    "    print(row)"
   ]
  },
  {
   "cell_type": "code",
   "execution_count": 74,
   "metadata": {},
   "outputs": [
    {
     "name": "stdout",
     "output_type": "stream",
     "text": [
      "('CustomerID', )\n",
      "('NameStyle', )\n",
      "('Title', )\n",
      "('FirstName', )\n",
      "('MiddleName', )\n",
      "('LastName', )\n",
      "('Suffix', )\n",
      "('CompanyName', )\n",
      "('SalesPerson', )\n",
      "('EmailAddress', )\n",
      "('Phone', )\n",
      "('PasswordHash', )\n",
      "('PasswordSalt', )\n",
      "('rowguid', )\n",
      "('ModifiedDate', )\n"
     ]
    }
   ],
   "source": [
    "cursor.execute(\"USE AdventureWorks\")\n",
    "cursor.execute(\"SELECT COLUMN_NAME FROM INFORMATION_SCHEMA.COLUMNS WHERE TABLE_NAME = N'Customer'\")\n",
    "for row in cursor:\n",
    "    print(row)"
   ]
  },
  {
   "cell_type": "code",
   "execution_count": 75,
   "metadata": {},
   "outputs": [
    {
     "name": "stdout",
     "output_type": "stream",
     "text": [
      "Gee Orlando A Bike Store\n",
      "Harris Keith Progressive Sports\n",
      "Carreras Donna Advanced Bike Components\n",
      "Gates Janet Modular Cycle Systems\n",
      "Harrington Lucy Metropolitan Sports Supply\n",
      "Carroll Rosmarie Aerobic Exercise Company\n",
      "Gash Dominic Associated Bikes\n",
      "Garza Kathleen Rural Cycle Emporium\n",
      "Harding Katherine Sharp Bikes\n",
      "Caprio Johnny Bikes and Motorbikes\n"
     ]
    }
   ],
   "source": [
    "cursor.execute(\"SELECT TOP 10 LastName, FirstName, CompanyName FROM SalesLT.Customer\")\n",
    "results = cursor.fetchall()\n",
    "for row in results:\n",
    "    print(row[0], row[1], row[2])"
   ]
  },
  {
   "cell_type": "code",
   "execution_count": 76,
   "metadata": {},
   "outputs": [
    {
     "name": "stdout",
     "output_type": "stream",
     "text": [
      "('Advanced Bike Components', )\n",
      "('Advanced Bike Components', )\n"
     ]
    }
   ],
   "source": [
    "cursor.execute(\"SELECT CompanyName FROM SalesLT.Customer WHERE FirstName='Donna'\")\n",
    "for row in cursor:\n",
    "    print(row)"
   ]
  },
  {
   "cell_type": "code",
   "execution_count": 77,
   "metadata": {},
   "outputs": [],
   "source": [
    "cursor.execute(\"SELECT * FROM sys.columns WHERE object_id = OBJECT_ID('dbo.SalesLT.Customer')\")\n",
    "for row in cursor:\n",
    "    print(row)"
   ]
  },
  {
   "cell_type": "code",
   "execution_count": 78,
   "metadata": {},
   "outputs": [
    {
     "name": "stdout",
     "output_type": "stream",
     "text": [
      "('Modular Cycle Systems', 'Main Office', '800 Interchange Blvd.')\n",
      "('Modular Cycle Systems', 'Shipping', '165 North Main')\n"
     ]
    }
   ],
   "source": [
    "cmd = \"\"\"\n",
    "SELECT CompanyName, AddressType, AddressLine1\n",
    "FROM SalesLT.Customer JOIN SalesLT.CustomerAddress\n",
    "ON (SalesLT.Customer.CustomerID=SalesLT.CustomerAddress.CustomerID)\n",
    "JOIN SalesLT.Address\n",
    "ON (SalesLT.CustomerAddress.AddressID=SalesLT.Address.AddressID)\n",
    "WHERE CompanyName='Modular Cycle Systems'\n",
    "\"\"\"\n",
    "cursor.execute(cmd)\n",
    "for row in cursor:\n",
    "    print(row)"
   ]
  },
  {
   "cell_type": "code",
   "execution_count": 79,
   "metadata": {},
   "outputs": [
    {
     "name": "stdout",
     "output_type": "stream",
     "text": [
      "(29485, 3, 'Long-Sleeve Logo Jersey, M', Decimal('49.9900'))\n",
      "(29485, 3, 'Touring-1000 Yellow, 54', Decimal('2384.0700'))\n",
      "(29485, 1, 'Touring-1000 Yellow, 46', Decimal('2384.0700'))\n",
      "(29485, 10, 'AWC Logo Cap', Decimal('8.9900'))\n",
      "(29485, 10, 'Bike Wash - Dissolver', Decimal('7.9500'))\n",
      "(29485, 4, 'HL Bottom Bracket', Decimal('121.4900'))\n",
      "(29485, 6, 'Classic Vest, S', Decimal('63.5000'))\n",
      "(29485, 3, 'Hitch Rack - 4-Bike', Decimal('120.0000'))\n",
      "(29485, 4, 'Touring-3000 Blue, 58', Decimal('742.3500'))\n",
      "(29485, 4, 'Touring-2000 Blue, 50', Decimal('1214.8500'))\n",
      "(29485, 6, 'Water Bottle - 30 oz.', Decimal('4.9900'))\n",
      "(29485, 1, 'Touring-3000 Blue, 44', Decimal('742.3500'))\n",
      "(29485, 1, 'Touring-1000 Yellow, 50', Decimal('2384.0700'))\n",
      "(29485, 1, 'Front Brakes', Decimal('106.5000'))\n",
      "(29485, 1, 'LL Bottom Bracket', Decimal('53.9900'))\n",
      "(29485, 1, 'Touring-2000 Blue, 46', Decimal('1214.8500'))\n",
      "(29485, 2, 'Touring-1000 Blue, 46', Decimal('2384.0700'))\n",
      "(29485, 4, 'Short-Sleeve Classic Jersey, XL', Decimal('53.9900'))\n",
      "(29485, 2, 'HL Touring Frame - Yellow, 60', Decimal('1003.9100'))\n",
      "(29485, 8, 'Long-Sleeve Logo Jersey, L', Decimal('49.9900'))\n",
      "(29485, 3, 'Rear Derailleur', Decimal('121.4600'))\n",
      "(29485, 1, 'Touring-1000 Yellow, 60', Decimal('2384.0700'))\n",
      "(29485, 2, 'Touring-1000 Blue, 50', Decimal('2384.0700'))\n",
      "(29485, 7, 'Sport-100 Helmet, Black', Decimal('34.9900'))\n",
      "(29485, 3, 'Touring-3000 Yellow, 44', Decimal('742.3500'))\n",
      "(29485, 2, 'Touring-3000 Blue, 50', Decimal('742.3500'))\n",
      "(29485, 2, 'Touring-3000 Blue, 54', Decimal('742.3500'))\n",
      "(29485, 1, 'Touring-3000 Yellow, 54', Decimal('742.3500'))\n",
      "(29485, 1, 'Touring-2000 Blue, 60', Decimal('1214.8500'))\n",
      "(29485, 2, 'Touring-1000 Blue, 54', Decimal('2384.0700'))\n",
      "(29485, 2, 'HL Crankset', Decimal('404.9900'))\n",
      "(29485, 2, 'Front Derailleur', Decimal('91.4900'))\n",
      "(29485, 1, 'HL Touring Seat/Saddle', Decimal('52.6400'))\n",
      "(29485, 1, 'LL Touring Frame - Yellow, 62', Decimal('333.4200'))\n",
      "(29485, 1, 'HL Touring Frame - Blue, 54', Decimal('1003.9100'))\n",
      "(29485, 1, 'HL Touring Frame - Blue, 60', Decimal('1003.9100'))\n",
      "(29485, 6, 'Short-Sleeve Classic Jersey, S', Decimal('53.9900'))\n",
      "(29485, 4, 'Short-Sleeve Classic Jersey, L', Decimal('53.9900'))\n",
      "(29485, 1, 'Half-Finger Gloves, M', Decimal('24.4900'))\n",
      "(29485, 4, 'Classic Vest, M', Decimal('63.5000'))\n",
      "(29485, 9, 'Hydration Pack - 70 oz.', Decimal('54.9900'))\n",
      "(29485, 6, 'Sport-100 Helmet, Blue', Decimal('34.9900'))\n",
      "(29485, 3, 'Sport-100 Helmet, Red', Decimal('34.9900'))\n"
     ]
    }
   ],
   "source": [
    "cmd = \"\"\"\n",
    "SELECT CustomerID, OrderQty, Name, ListPrice\n",
    "FROM SalesLT.SalesOrderHeader JOIN SalesLT.SalesOrderDetail\n",
    "ON SalesLT.SalesOrderDetail.SalesOrderID = SalesLT.SalesOrderHeader.SalesOrderID\n",
    "JOIN SalesLT.Product\n",
    "ON SalesLT.SalesOrderDetail.ProductID=SalesLT.Product.ProductID\n",
    "WHERE CustomerID=29485\n",
    "\"\"\"\n",
    "cursor.execute(cmd)\n",
    "for row in cursor:\n",
    "    print(row)"
   ]
  },
  {
   "cell_type": "code",
   "execution_count": null,
   "metadata": {},
   "outputs": [],
   "source": []
  }
 ],
 "metadata": {
  "kernelspec": {
   "display_name": "Python 3",
   "language": "python",
   "name": "python3"
  },
  "language_info": {
   "codemirror_mode": {
    "name": "ipython",
    "version": 3
   },
   "file_extension": ".py",
   "mimetype": "text/x-python",
   "name": "python",
   "nbconvert_exporter": "python",
   "pygments_lexer": "ipython3",
   "version": "3.8.5"
  }
 },
 "nbformat": 4,
 "nbformat_minor": 4
}
