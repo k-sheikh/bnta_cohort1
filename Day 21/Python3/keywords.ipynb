{
 "cells": [
  {
   "cell_type": "markdown",
   "metadata": {},
   "source": [
    "## Python Keywords\n",
    "\n",
    "See: https://docs.python.org/3/library/keyword.html\n",
    "\n",
    "- ```and``` logical operator\n",
    "- ```as``` define alias\n",
    "- ```assert``` debugging check\n",
    "- ```break``` break out of loop\n",
    "- ```class``` define class\n",
    "- ```continue``` continue next loop iteration\n",
    "- ```def``` define function\n",
    "- ```del``` delete object\n",
    "- ```elif``` conditional alternatives decision (same as else if)\n",
    "- ```else``` conditional alternatives decision\n",
    "- ```except``` used to handle exception\n",
    "- ```False``` boolean constant\n",
    "- ```finally``` block of code that will be executed with or without an exception raised\n",
    "- ```for``` create a for loop\n",
    "- ```from``` import specific parts of a module\n",
    "- ```global``` declare global variable\n",
    "- ```if``` conditional decision\n",
    "- ```import``` To import a module\n",
    "- ```in``` check if value is present in a list, tuple, etc.\n",
    "- ```is``` tests if two variables are equal\n",
    "- ```lambda``` creates an anonymous function expression\n",
    "- ```None``` null value\n",
    "- ```nonlocal``` declares non-local variable\n",
    "- ```not``` logical operator\n",
    "- ```or``` logical operator\n",
    "- ```pass``` null statement (does nothing but is technically a proper statement)\n",
    "- ```raise``` raises exception\n",
    "- ```return``` returns value from function\n",
    "- ```True``` boolean constant\n",
    "- ```try``` start exception handling statement\n",
    "- ```while``` create while loop\n",
    "- ```with``` simplify exception handling that uses resource\n",
    "- ```yield``` returns partial result from async function (generator)\n"
   ]
  },
  {
   "cell_type": "markdown",
   "metadata": {},
   "source": [
    "## The ```with``` Keyword: Just One Example of a Python Keyword\n",
    "\n",
    "- The ```with``` statement is used in exception handling to simplify management of allocated resources such as file streams"
   ]
  },
  {
   "cell_type": "code",
   "execution_count": 1,
   "metadata": {},
   "outputs": [],
   "source": [
    "# resource are finite: file handles, sockets, locks, etc.\n",
    "# must be sure resources are not leaked.\n",
    "# with statement automatically manages resources using a context manager\n",
    "# with is easier than to aquire in try and release in finally\n",
    "\n",
    "class File(): # context manager\n",
    "  def __init__(self, filename, mode):\n",
    "    self.filename = filename\n",
    "    self.mode = mode\n",
    "  def __enter__(self):\n",
    "    self.open_file = open(self.filename, self.mode)\n",
    "    return self.open_file\n",
    "  def __exit__(self, *args):\n",
    "    self.open_file.close()\n",
    "\n",
    "files = []\n",
    "for _ in range(10000):\n",
    "    with File('foo.txt', 'w') as myfile:\n",
    "        myfile.write('foo')\n",
    "        files.append(myfile)\n",
    "\n",
    "# You should now see file named 'foo' written to file system"
   ]
  },
  {
   "cell_type": "markdown",
   "metadata": {},
   "source": [
    "## Try It Out: Experiment on your own using various Python Keywords\n",
    "\n",
    "- Review the documentation on several Python keywords\n",
    "- Try writing your own code examples using various Python keywords to explore how they work\n",
    "- Discuss with other students what you have discovered in your experiments on using Python keywords"
   ]
  },
  {
   "cell_type": "code",
   "execution_count": null,
   "metadata": {},
   "outputs": [],
   "source": []
  }
 ],
 "metadata": {
  "kernelspec": {
   "display_name": "Python 3",
   "language": "python",
   "name": "python3"
  },
  "language_info": {
   "codemirror_mode": {
    "name": "ipython",
    "version": 3
   },
   "file_extension": ".py",
   "mimetype": "text/x-python",
   "name": "python",
   "nbconvert_exporter": "python",
   "pygments_lexer": "ipython3",
   "version": "3.8.5"
  }
 },
 "nbformat": 4,
 "nbformat_minor": 4
}
