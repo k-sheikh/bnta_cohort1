{
 "cells": [
  {
   "cell_type": "markdown",
   "metadata": {},
   "source": [
    "# Several Code Examples\n",
    "\n",
    "See: https://wiki.python.org/moin/SimplePrograms"
   ]
  },
  {
   "cell_type": "code",
   "execution_count": 3,
   "metadata": {},
   "outputs": [
    {
     "name": "stdout",
     "output_type": "stream",
     "text": [
      "Hello, world!\n"
     ]
    }
   ],
   "source": [
    "print('Hello, world!')"
   ]
  },
  {
   "cell_type": "code",
   "execution_count": 1,
   "metadata": {},
   "outputs": [
    {
     "name": "stdout",
     "output_type": "stream",
     "text": [
      "What is your name?\n",
      "Peter\n",
      "Hi, Peter.\n"
     ]
    }
   ],
   "source": [
    "name = input('What is your name?\\n')\n",
    "print('Hi, %s.' % name)"
   ]
  },
  {
   "cell_type": "code",
   "execution_count": 2,
   "metadata": {},
   "outputs": [
    {
     "name": "stdout",
     "output_type": "stream",
     "text": [
      "iteration 0 is Sally\n",
      "iteration 1 is John\n",
      "iteration 2 is Greg\n",
      "iteration 3 is Jane\n"
     ]
    }
   ],
   "source": [
    "friends = ['Sally', 'John', 'Greg', 'Jane']\n",
    "for i, name in enumerate(friends):\n",
    "    print(\"iteration {iteration} is {name}\".format(iteration=i, name=name))"
   ]
  },
  {
   "cell_type": "code",
   "execution_count": 12,
   "metadata": {},
   "outputs": [
    {
     "name": "stdout",
     "output_type": "stream",
     "text": [
      "thisgen population: 2\n",
      "thisgen population: 4\n",
      "thisgen population: 8\n",
      "thisgen population: 16\n",
      "thisgen population: 32\n",
      "thisgen population: 64\n",
      "thisgen population: 128\n",
      "thisgen population: 256\n",
      "thisgen population: 512\n",
      "thisgen population: 1024\n",
      "thisgen population: 2048\n"
     ]
    }
   ],
   "source": [
    "thisgen, nextgen = (1, 0)\n",
    "while nextgen <= 1024:\n",
    "    nextgen = 2*thisgen\n",
    "    thisgen = nextgen    \n",
    "    print('thisgen population: {0}'.format(thisgen))    "
   ]
  },
  {
   "cell_type": "code",
   "execution_count": 14,
   "metadata": {},
   "outputs": [
    {
     "name": "stdout",
     "output_type": "stream",
     "text": [
      "Hello Sally\n",
      "Hello Bill\n"
     ]
    }
   ],
   "source": [
    "def greet(name):\n",
    "    print('Hello', name)\n",
    "greet('Sally')\n",
    "greet('Bill')"
   ]
  },
  {
   "cell_type": "code",
   "execution_count": 17,
   "metadata": {},
   "outputs": [
    {
     "name": "stdout",
     "output_type": "stream",
     "text": [
      "555-1212 valid phone number\n",
      "XYZ-@#$% invalid phone number\n"
     ]
    }
   ],
   "source": [
    "import re\n",
    "for test_string in ['555-1212', 'XYZ-@#$%']:\n",
    "    if re.match(r'^\\d{3}-\\d{4}$', test_string):\n",
    "        print(test_string, 'valid phone number')\n",
    "    else:\n",
    "        print(test_string, 'invalid phone number')"
   ]
  },
  {
   "cell_type": "code",
   "execution_count": 21,
   "metadata": {},
   "outputs": [
    {
     "name": "stdout",
     "output_type": "stream",
     "text": [
      "cost $7.30\n"
     ]
    }
   ],
   "source": [
    "prices = {'apple': 1.40, 'peach': 1.50}\n",
    "purchase = {'apple': 2, 'peach': 3}\n",
    "bill = sum(prices[fruit] * purchase[fruit] for fruit in purchase)\n",
    "print('cost $%.2f' % bill)"
   ]
  },
  {
   "cell_type": "code",
   "execution_count": 23,
   "metadata": {},
   "outputs": [
    {
     "ename": "SyntaxError",
     "evalue": "Missing parentheses in call to 'print'. Did you mean print(print activities[activity_time])? (<ipython-input-23-765fefbc1262>, line 15)",
     "output_type": "error",
     "traceback": [
      "\u001b[1;36m  File \u001b[1;32m\"<ipython-input-23-765fefbc1262>\"\u001b[1;36m, line \u001b[1;32m15\u001b[0m\n\u001b[1;33m    print activities[activity_time]\u001b[0m\n\u001b[1;37m                   ^\u001b[0m\n\u001b[1;31mSyntaxError\u001b[0m\u001b[1;31m:\u001b[0m Missing parentheses in call to 'print'. Did you mean print(print activities[activity_time])?\n"
     ]
    }
   ],
   "source": [
    "from time import localtime\n",
    "\n",
    "activities = {8: 'Sleeping',\n",
    "              9: 'Commuting',\n",
    "              17: 'Working',\n",
    "              18: 'Commuting',\n",
    "              20: 'Eating',\n",
    "              22: 'Resting' }\n",
    "\n",
    "time_now = localtime()\n",
    "hour = time_now.tm_hour\n",
    "\n",
    "for activity_time in sorted(activities.keys()):\n",
    "    if hour < activity_time:\n",
    "        print activities[activity_time]\n",
    "        break\n",
    "else:\n",
    "    print 'Unknown, AFK or sleeping!'"
   ]
  },
  {
   "cell_type": "code",
   "execution_count": null,
   "metadata": {
    "collapsed": true
   },
   "outputs": [],
   "source": [
    "REFRAIN = '''\n",
    "%d bottles of beer on the wall,\n",
    "%d bottles of beer,\n",
    "take one down, pass it around,\n",
    "%d bottles of beer on the wall!\n",
    "'''\n",
    "bottles_of_beer = 99\n",
    "while bottles_of_beer > 1:\n",
    "    print REFRAIN % (bottles_of_beer, bottles_of_beer,\n",
    "        bottles_of_beer - 1)\n",
    "    bottles_of_beer -= 1"
   ]
  },
  {
   "cell_type": "code",
   "execution_count": null,
   "metadata": {
    "collapsed": true
   },
   "outputs": [],
   "source": [
    "class BankAccount(object):\n",
    "    def __init__(self, initial_balance=0):\n",
    "        self.balance = initial_balance\n",
    "    def deposit(self, amount):\n",
    "        self.balance += amount\n",
    "    def withdraw(self, amount):\n",
    "        self.balance -= amount\n",
    "    def overdrawn(self):\n",
    "        return self.balance < 0\n",
    "my_account = BankAccount(15)\n",
    "my_account.withdraw(5)\n",
    "print my_account.balance"
   ]
  },
  {
   "cell_type": "code",
   "execution_count": null,
   "metadata": {
    "collapsed": true
   },
   "outputs": [],
   "source": [
    "import unittest\n",
    "def median(pool):\n",
    "    copy = sorted(pool)\n",
    "    size = len(copy)\n",
    "    if size % 2 == 1:\n",
    "        return copy[(size - 1) / 2]\n",
    "    else:\n",
    "        return (copy[size/2 - 1] + copy[size/2]) / 2\n",
    "class TestMedian(unittest.TestCase):\n",
    "    def testMedian(self):\n",
    "        self.failUnlessEqual(median([2, 9, 9, 7, 9, 2, 4, 5, 8]), 7)\n",
    "if __name__ == '__main__':\n",
    "    unittest.main()"
   ]
  },
  {
   "cell_type": "code",
   "execution_count": null,
   "metadata": {
    "collapsed": true
   },
   "outputs": [],
   "source": [
    "def median(pool):\n",
    "    '''Statistical median to demonstrate doctest.\n",
    "    >>> median([2, 9, 9, 7, 9, 2, 4, 5, 8])\n",
    "    7\n",
    "    '''\n",
    "    copy = sorted(pool)\n",
    "    size = len(copy)\n",
    "    if size % 2 == 1:\n",
    "        return copy[(size - 1) / 2]\n",
    "    else:\n",
    "        return (copy[size/2 - 1] + copy[size/2]) / 2\n",
    "if __name__ == '__main__':\n",
    "    import doctest\n",
    "    doctest.testmod()"
   ]
  },
  {
   "cell_type": "code",
   "execution_count": null,
   "metadata": {
    "collapsed": true
   },
   "outputs": [],
   "source": [
    "from itertools import groupby\n",
    "lines = '''\n",
    "This is the\n",
    "first paragraph.\n",
    "\n",
    "This is the second.\n",
    "'''.splitlines()\n",
    "# Use itertools.groupby and bool to return groups of\n",
    "# consecutive lines that either have content or don't.\n",
    "for has_chars, frags in groupby(lines, bool):\n",
    "    if has_chars:\n",
    "        print ' '.join(frags)\n",
    "# PRINTS:\n",
    "# This is the first paragraph.\n",
    "# This is the second.\n",
    "\n",
    "\n",
    "\n",
    "16 lines: csv module, tuple unpacking, cmp() built-in \n",
    "\n",
    "import csv\n",
    "\n",
    "# write stocks data as comma-separated values\n",
    "writer = csv.writer(open('stocks.csv', 'wb', buffering=0))\n",
    "writer.writerows([\n",
    "    ('GOOG', 'Google, Inc.', 505.24, 0.47, 0.09),\n",
    "    ('YHOO', 'Yahoo! Inc.', 27.38, 0.33, 1.22),\n",
    "    ('CNET', 'CNET Networks, Inc.', 8.62, -0.13, -1.49)\n",
    "])\n",
    "\n",
    "# read stocks data, print status messages\n",
    "stocks = csv.reader(open('stocks.csv', 'rb'))\n",
    "status_labels = {-1: 'down', 0: 'unchanged', 1: 'up'}\n",
    "for ticker, name, price, change, pct in stocks:\n",
    "    status = status_labels[cmp(float(change), 0.0)]\n",
    "    print '%s is %s (%s%%)' % (name, status, pct)"
   ]
  },
  {
   "cell_type": "code",
   "execution_count": null,
   "metadata": {
    "collapsed": true
   },
   "outputs": [],
   "source": [
    "BOARD_SIZE = 8\n",
    "\n",
    "def under_attack(col, queens):\n",
    "    left = right = col\n",
    "\n",
    "    for r, c in reversed(queens):\n",
    "        left, right = left - 1, right + 1\n",
    "\n",
    "        if c in (left, col, right):\n",
    "            return True\n",
    "    return False\n",
    "\n",
    "def solve(n):\n",
    "    if n == 0:\n",
    "        return [[]]\n",
    "\n",
    "    smaller_solutions = solve(n - 1)\n",
    "\n",
    "    return [solution+[(n,i+1)]\n",
    "        for i in xrange(BOARD_SIZE)\n",
    "            for solution in smaller_solutions\n",
    "                if not under_attack(i+1, solution)]\n",
    "for answer in solve(BOARD_SIZE):\n",
    "    print answer"
   ]
  },
  {
   "cell_type": "code",
   "execution_count": null,
   "metadata": {
    "collapsed": true
   },
   "outputs": [],
   "source": [
    "import itertools\n",
    "\n",
    "def iter_primes():\n",
    "     # an iterator of all numbers between 2 and +infinity\n",
    "     numbers = itertools.count(2)\n",
    "\n",
    "     # generate primes forever\n",
    "     while True:\n",
    "         # get the first number from the iterator (always a prime)\n",
    "         prime = numbers.next()\n",
    "         yield prime\n",
    "\n",
    "         # this code iteratively builds up a chain of\n",
    "         # filters...slightly tricky, but ponder it a bit\n",
    "         numbers = itertools.ifilter(prime.__rmod__, numbers)\n",
    "\n",
    "for p in iter_primes():\n",
    "    if p > 1000:\n",
    "        break\n",
    "    print p"
   ]
  },
  {
   "cell_type": "code",
   "execution_count": null,
   "metadata": {
    "collapsed": true
   },
   "outputs": [],
   "source": [
    "dinner_recipe = '''<html><body><table>\n",
    "<tr><th>amt</th><th>unit</th><th>item</th></tr>\n",
    "<tr><td>24</td><td>slices</td><td>baguette</td></tr>\n",
    "<tr><td>2+</td><td>tbsp</td><td>olive oil</td></tr>\n",
    "<tr><td>1</td><td>cup</td><td>tomatoes</td></tr>\n",
    "<tr><td>1</td><td>jar</td><td>pesto</td></tr>\n",
    "</table></body></html>'''\n",
    "\n",
    "# In Python 2.5 or from http://effbot.org/zone/element-index.htm\n",
    "import xml.etree.ElementTree as etree\n",
    "tree = etree.fromstring(dinner_recipe)\n",
    "\n",
    "# For invalid HTML use http://effbot.org/zone/element-soup.htm\n",
    "# import ElementSoup, StringIO\n",
    "# tree = ElementSoup.parse(StringIO.StringIO(dinner_recipe))\n",
    "\n",
    "pantry = set(['olive oil', 'pesto'])\n",
    "for ingredient in tree.getiterator('tr'):\n",
    "    amt, unit, item = ingredient\n",
    "    if item.tag == \"td\" and item.text not in pantry:\n",
    "        print \"%s: %s %s\" % (item.text, amt.text, unit.text)"
   ]
  },
  {
   "cell_type": "code",
   "execution_count": null,
   "metadata": {
    "collapsed": true
   },
   "outputs": [],
   "source": [
    "BOARD_SIZE = 8\n",
    "\n",
    "class BailOut(Exception):\n",
    "    pass\n",
    "\n",
    "def validate(queens):\n",
    "    left = right = col = queens[-1]\n",
    "    for r in reversed(queens[:-1]):\n",
    "        left, right = left-1, right+1\n",
    "        if r in (left, col, right):\n",
    "            raise BailOut\n",
    "\n",
    "def add_queen(queens):\n",
    "    for i in range(BOARD_SIZE):\n",
    "        test_queens = queens + [i]\n",
    "        try:\n",
    "            validate(test_queens)\n",
    "            if len(test_queens) == BOARD_SIZE:\n",
    "                return test_queens\n",
    "            else:\n",
    "                return add_queen(test_queens)\n",
    "        except BailOut:\n",
    "            pass\n",
    "    raise BailOut\n",
    "\n",
    "queens = add_queen([])\n",
    "print queens\n",
    "print \"\\n\".join(\". \"*q + \"Q \" + \". \"*(BOARD_SIZE-q-1) for q in queens)"
   ]
  },
  {
   "cell_type": "code",
   "execution_count": 2,
   "metadata": {
    "scrolled": true
   },
   "outputs": [
    {
     "name": "stdout",
     "output_type": "stream",
     "text": [
      "What is your name?\n",
      "p\n",
      "Hi p. I am thinking of a number between 1 and 20.\n",
      "Take a guess: 3\n",
      "Your guess is too low.\n",
      "Take a guess: 5\n",
      "Your guess is too low.\n",
      "Take a guess: 7\n",
      "Your guess is too low.\n",
      "Take a guess: 9\n",
      "Your guess is too high.\n",
      "Take a guess: 8\n",
      "Good job, p! You guessed my number in 5 guesses!\n"
     ]
    }
   ],
   "source": [
    "import random\n",
    "guesses_made = 0\n",
    "name = input('What is your name?\\n')\n",
    "number = random.randint(1, 20)\n",
    "print('Hi {0}. I am thinking of a number between 1 and 20.'.format(name))\n",
    "while guesses_made < 6:\n",
    "    guess = int(input('Take a guess: '))\n",
    "    guesses_made += 1\n",
    "    if guess < number:\n",
    "        print('Your guess is too low.')\n",
    "    if guess > number:\n",
    "        print('Your guess is too high.')\n",
    "    if guess == number:\n",
    "        break\n",
    "if guess == number:\n",
    "    print('Yes {0}! You guessed my number in {1} guesses!'.format(name, guesses_made))\n",
    "else:\n",
    "    print('No. The number I was thinking of was {0}'.format(number))"
   ]
  },
  {
   "cell_type": "code",
   "execution_count": null,
   "metadata": {
    "collapsed": true
   },
   "outputs": [],
   "source": [
    "import glob # glob supports Unix style pathname extensions\n",
    "python_files = glob.glob('*.py')\n",
    "for file_name in sorted(python_files):\n",
    "    print('    ------' + file_name)\n",
    "    with open(file_name) as f:\n",
    "        for line in f:\n",
    "            print('    ' + line.rstrip())"
   ]
  }
 ],
 "metadata": {
  "kernelspec": {
   "display_name": "Python 3",
   "language": "python",
   "name": "python3"
  },
  "language_info": {
   "codemirror_mode": {
    "name": "ipython",
    "version": 3
   },
   "file_extension": ".py",
   "mimetype": "text/x-python",
   "name": "python",
   "nbconvert_exporter": "python",
   "pygments_lexer": "ipython3",
   "version": "3.8.5"
  }
 },
 "nbformat": 4,
 "nbformat_minor": 2
}
