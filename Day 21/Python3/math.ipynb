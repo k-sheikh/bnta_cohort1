{
 "cells": [
  {
   "cell_type": "markdown",
   "metadata": {},
   "source": [
    "# Built-In Math Module and the Numpy Package\n",
    "\n",
    "* Math Module\n",
    " * Math Module Docs: https://docs.python.org/3/library/math.html\n",
    " * Math Module Tutorial: https://www.w3schools.com/python/module_math.asp\n",
    "* Numpy Package\n",
    " * NumPy the absolute basics for beginners: https://numpy.org/doc/stable/user/absolute_beginners.html\n",
    " * NumPy Docs: https://numpy.org/doc/stable/\n",
    " * NumPy quickstart: https://numpy.org/doc/stable/user/quickstart.html"
   ]
  },
  {
   "cell_type": "code",
   "execution_count": 1,
   "metadata": {},
   "outputs": [
    {
     "name": "stdout",
     "output_type": "stream",
     "text": [
      "5.0\n",
      "3.141592653589793\n",
      "0.5000000000000001\n",
      "6.123233995736766e-17\n",
      "1.0\n",
      "360.0\n",
      "3.141592653589793\n",
      "2.718281828459045\n",
      "8\n",
      "8.0\n",
      "5.0\n",
      "5.0\n",
      "4.0\n",
      "2.9999999999999996\n",
      "5.0\n",
      "4\n",
      "120\n",
      "inf\n",
      "nan\n"
     ]
    }
   ],
   "source": [
    "import math\n",
    "print(math.sqrt(25))           # 5.0\n",
    "print(math.pi)                 # pi = 3.141592653589793\n",
    "print(math.cos(math.pi/3))     # pi/3 radians = 60 degrees so cosine is 0.5 ~= 0.5000000000000001\n",
    "print(math.cos(math.pi/2))     # pi/2 radians = 90 degrees so cosine is 0.0 ~= 6.123233995736766e-17\n",
    "print(math.sin(math.pi/2))     # pi/2 radians = 90 degrees so sine is 1.0\n",
    "print(math.degrees(2*math.pi)) # 2*pi radians = 360 degrees\n",
    "print(math.radians(180))       # 180 degrees = pi radians = 3.141592653589793\n",
    "print(math.e)                  # 2.718281828459045\n",
    "print(2**3)                    # 8\n",
    "print(math.pow(2, 3))          # 8.0\n",
    "print(25**0.5)                 # 5.0\n",
    "print(math.pow(25, 0.5))       # 5.0\n",
    "print(math.log(math.e**4))     # 4\n",
    "print(math.log(1000, 10))      # 3 ~= 2.9999999999999996\n",
    "print(math.log(32, 2))         # 5.0\n",
    "print(math.gcd(32, 84))        # 4\n",
    "print(math.factorial(5))       # 120\n",
    "print(math.inf)                # inf\n",
    "print(math.nan)                # nan"
   ]
  },
  {
   "cell_type": "code",
   "execution_count": 5,
   "metadata": {},
   "outputs": [
    {
     "name": "stdout",
     "output_type": "stream",
     "text": [
      "[[1 2]\n",
      " [3 4]]\n",
      "-2.0000000000000004\n",
      "\n",
      "[[ 6  1  1]\n",
      " [ 4 -2  5]\n",
      " [ 2  8  7]]\n",
      "-306.0\n"
     ]
    }
   ],
   "source": [
    "# Based on: https://www.tutorialspoint.com/numpy/numpy_determinant.htm\n",
    "# Calculate the detreminant of a matrix\n",
    "\n",
    "import numpy as np\n",
    "\n",
    "matrix = np.array([[1,2], [3,4]])\n",
    "print (matrix)\n",
    "print (np.linalg.det(matrix))\n",
    "print ()\n",
    "matrix = np.array([[6,1,1], [4, -2, 5], [2,8,7]]) \n",
    "print (matrix)\n",
    "print (np.linalg.det(matrix))"
   ]
  },
  {
   "cell_type": "markdown",
   "metadata": {},
   "source": [
    "## Try It Out: Experiment on your own using various math module and numpy functions\n",
    "\n",
    "- Review the documentation on several math module and numpy functions\n",
    "- Try writing your own code examples using various math module and numpy functions to explore how they work\n",
    "- Discuss with other students what you have discovered in your experiments on using math module and numpy functions"
   ]
  },
  {
   "cell_type": "code",
   "execution_count": null,
   "metadata": {},
   "outputs": [],
   "source": []
  }
 ],
 "metadata": {
  "kernelspec": {
   "display_name": "Python 3",
   "language": "python",
   "name": "python3"
  },
  "language_info": {
   "codemirror_mode": {
    "name": "ipython",
    "version": 3
   },
   "file_extension": ".py",
   "mimetype": "text/x-python",
   "name": "python",
   "nbconvert_exporter": "python",
   "pygments_lexer": "ipython3",
   "version": "3.8.5"
  }
 },
 "nbformat": 4,
 "nbformat_minor": 4
}
