{
 "cells": [
  {
   "cell_type": "markdown",
   "metadata": {},
   "source": [
    "# Functions\n",
    "\n",
    "- Built-in Functions: https://docs.python.org/3/library/functions.html\n",
    "- Python Functions: https://www.tutorialsteacher.com/python/python-user-defined-function"
   ]
  },
  {
   "cell_type": "code",
   "execution_count": 1,
   "metadata": {},
   "outputs": [
    {
     "name": "stdout",
     "output_type": "stream",
     "text": [
      "Hello Galahad\n"
     ]
    }
   ],
   "source": [
    "def say_hello(name):\n",
    "    print('Hello', name)\n",
    "say_hello('Galahad')"
   ]
  },
  {
   "cell_type": "code",
   "execution_count": 4,
   "metadata": {},
   "outputs": [
    {
     "name": "stdout",
     "output_type": "stream",
     "text": [
      "Enter number: 5\n",
      "120\n"
     ]
    }
   ],
   "source": [
    "def factorial(number):\n",
    "  if number < 0:\n",
    "    raise ValueError(\"Undefined for negative integers\")\n",
    "  result = 1\n",
    "  if number > 0:\n",
    "    for factor in range(1, number+1, 1):\n",
    "      result = result*factor\n",
    "  return result\n",
    "\n",
    "number = eval(input(\"Enter number: \"))\n",
    "print(factorial(number))"
   ]
  },
  {
   "cell_type": "code",
   "execution_count": 2,
   "metadata": {},
   "outputs": [
    {
     "name": "stdout",
     "output_type": "stream",
     "text": [
      "-- This parrot wouldn't voom if you put 1000 volts through it.\n",
      "-- Lovely plumage, the Norwegian Blue\n",
      "-- It's a stiff !\n",
      "-- This parrot wouldn't voom if you put 1000 volts through it.\n",
      "-- Lovely plumage, the Norwegian Blue\n",
      "-- It's a stiff !\n",
      "-- This parrot wouldn't VOOOOOM if you put 1000000 volts through it.\n",
      "-- Lovely plumage, the Norwegian Blue\n",
      "-- It's a stiff !\n",
      "-- This parrot wouldn't VOOOOOM if you put 1000000 volts through it.\n",
      "-- Lovely plumage, the Norwegian Blue\n",
      "-- It's a stiff !\n",
      "-- This parrot wouldn't jump if you put a million volts through it.\n",
      "-- Lovely plumage, the Norwegian Blue\n",
      "-- It's bereft of life !\n",
      "-- This parrot wouldn't voom if you put a thousand volts through it.\n",
      "-- Lovely plumage, the Norwegian Blue\n",
      "-- It's pushing up the daisies !\n"
     ]
    }
   ],
   "source": [
    "def parrot(voltage, state='a stiff', action='voom', type='Norwegian Blue'):\n",
    "  print(\"-- This parrot wouldn't\", action, end=' ')\n",
    "  print(\"if you put\", voltage, \"volts through it.\")\n",
    "  print(\"-- Lovely plumage, the\", type)\n",
    "  print(\"-- It's\", state, \"!\")\n",
    "\n",
    "parrot(1000)                                          # 1 positional argument\n",
    "parrot(voltage=1000)                                  # 1 keyword argument\n",
    "parrot(voltage=1000000, action='VOOOOOM')             # 2 keyword arguments\n",
    "parrot(action='VOOOOOM', voltage=1000000)             # 2 keyword arguments\n",
    "parrot('a million', 'bereft of life', 'jump')         # 3 positional arguments\n",
    "parrot('a thousand', state='pushing up the daisies')  # 1 positional, 1 keyword\n",
    "\n",
    "#parrot()                     # Error: required argument missing\n",
    "#parrot(voltage=5.0, 'dead')  # Error: non-keyword argument after keyword argument\n",
    "#parrot(110, voltage=220)     # Error: duplicate value for the same argument\n",
    "#parrot(actor='John Cleese')  # Error: unknown keyword argument\n"
   ]
  },
  {
   "cell_type": "code",
   "execution_count": 5,
   "metadata": {},
   "outputs": [
    {
     "name": "stdout",
     "output_type": "stream",
     "text": [
      "Method called: my_function\n",
      "Method called: my_function_with_parameters, param1 -> Hello , param2: World\n",
      "add_numbers(3, 4) returned: 7\n",
      "before calling access_global(), global g is: 100\n",
      "in access_global(), global g is incremented: 101\n",
      "after calling access_global(), global g is now: 101\n",
      "before calling hide_global(), global g is: 100\n",
      "in hide_global(), local g is incremented: 201\n",
      "after calling hide_global(), global g is still: 100\n"
     ]
    }
   ],
   "source": [
    "def my_function():\n",
    "    print(\"Method called: my_function\")\n",
    "my_function()\n",
    "\n",
    "def my_function_with_parameters(param1, param2):\n",
    "    print(\"Method called: my_function_with_parameters, param1 -> %s , param2: %s\" % (param1, param2))\n",
    "my_function_with_parameters(\"Hello\", \"World\")\n",
    "\n",
    "\n",
    "def add_numbers(x, y):\n",
    "    return x + y\n",
    "result = add_numbers(3, 4)\n",
    "print(\"add_numbers(3, 4) returned: \" + str(result) )\n",
    "\n",
    "g = 100\n",
    "def access_global():\n",
    "    global g # avoids error: UnboundLocalError: local variable 'g' referenced before assignment\n",
    "    g += 1 #increment global\n",
    "    print(\"in access_global(), global g is incremented:\", g)\n",
    "print(\"before calling access_global(), global g is:\", g)\n",
    "access_global()\n",
    "print(\"after calling access_global(), global g is now:\", g)\n",
    "\n",
    "\n",
    "g = 100\n",
    "def hide_global():\n",
    "    g = 200 # local hides global\n",
    "    g += 1 #increment loacl that hides global\n",
    "    print(\"in hide_global(), local g is incremented:\", g)\n",
    "print(\"before calling hide_global(), global g is:\", g)\n",
    "hide_global()\n",
    "print(\"after calling hide_global(), global g is still:\", g)\n"
   ]
  },
  {
   "cell_type": "code",
   "execution_count": 6,
   "metadata": {},
   "outputs": [
    {
     "name": "stdout",
     "output_type": "stream",
     "text": [
      "7\n",
      "my_funcion adds two arguments.\n",
      "    Keyword arguments:\n",
      "    x -- integer, first argument to be added\n",
      "    y -- integer, second argument to be added\n",
      "    Returns: sum of arguments\n",
      "    \n"
     ]
    }
   ],
   "source": [
    "# A docstring, if it exists, must be the first thing defined in function\n",
    "def my_funcion(x, y):\n",
    "    '''my_funcion adds two arguments.\n",
    "    Keyword arguments:\n",
    "    x -- integer, first argument to be added\n",
    "    y -- integer, second argument to be added\n",
    "    Returns: sum of arguments\n",
    "    '''\n",
    "    return x + y\n",
    "\n",
    "result = my_funcion(3,4)\n",
    "\n",
    "print(result)\n",
    "\n",
    "print(my_funcion.__doc__)"
   ]
  },
  {
   "cell_type": "code",
   "execution_count": 3,
   "metadata": {},
   "outputs": [
    {
     "name": "stdout",
     "output_type": "stream",
     "text": [
      "8\n",
      "10\n"
     ]
    }
   ],
   "source": [
    "#closures\n",
    "\n",
    "def outer_function(outer_argument):\n",
    "  def inner_function(inner_argument):\n",
    "    return outer_argument + inner_argument\n",
    "  return inner_function\n",
    "\n",
    "inner_function1 = outer_function(5)\n",
    "print(inner_function1(3))\n",
    "\n",
    "inner_function2 = outer_function(7)\n",
    "print(inner_function2(3))"
   ]
  },
  {
   "cell_type": "code",
   "execution_count": 1,
   "metadata": {},
   "outputs": [
    {
     "name": "stdout",
     "output_type": "stream",
     "text": [
      "5\n",
      "44\n",
      "30\n"
     ]
    }
   ],
   "source": [
    "#default arguments\n",
    "\n",
    "def func(p1, p2=42):\n",
    "    return p1 + p2\n",
    "\n",
    "print(func(2,3)) # explicit arguments\n",
    "\n",
    "print(func(2)) # defaulted argument\n",
    "\n",
    "print(func(p2=10, p1=20)) # named arguments out of order"
   ]
  },
  {
   "cell_type": "markdown",
   "metadata": {},
   "source": [
    "## Variadic Functions (```*args``` and ```**kwargs```)\n",
    "\n",
    "* If the number of arguments that will be passed into your function is arbitrary, prefix the parameter name with an asterisk ``` *```  in the function definition. This causes the function to receive a tuple containing the arbitrary number of arguments.\n",
    "* If the number of keyword arguments that will be passed into your function is arbitrary, prefix the parameter name with two asterisks ```**``` in the function definition. This causes the function to receive a dictionary containing the arguments as key-value pairs."
   ]
  },
  {
   "cell_type": "code",
   "execution_count": 6,
   "metadata": {},
   "outputs": [
    {
     "name": "stdout",
     "output_type": "stream",
     "text": [
      "('Hello', 'World', 42)\n",
      "{'firstName': 'Erik', 'lastNname': 'Red'}\n"
     ]
    }
   ],
   "source": [
    "def myfunction1(*myparms): # arbitrary number of arguments passed\n",
    "  print(myparms)\n",
    "myfunction1(\"Hello\", \"World\", 42)\n",
    "\n",
    "def myfunction2(**mykeywordparms):\n",
    "  print(mykeywordparms)\n",
    "myfunction2(firstName = \"Erik\", lastNname = \"Red\")"
   ]
  },
  {
   "cell_type": "code",
   "execution_count": 7,
   "metadata": {},
   "outputs": [
    {
     "name": "stdout",
     "output_type": "stream",
     "text": [
      "param1: 1\n",
      "param2: 2\n",
      "param3: 3\n",
      "additional_params: []\n",
      "param1: 1\n",
      "param2: 2\n",
      "param3: 3\n",
      "additional_params: [4]\n",
      "param1: 1\n",
      "param2: 2\n",
      "param3: 3\n",
      "additional_params: [4, 5]\n",
      "param1: 1\n",
      "param2: 2\n",
      "param3: 3\n",
      "additional_params: [4, 5, 6]\n",
      "compute called with 3, 4, add, true\n",
      "Result: 7\n",
      "Result: 12\n"
     ]
    }
   ],
   "source": [
    "# more variadic functions\n",
    "\n",
    "def myVariadicFunction(param1, param2, param3, *additional_params):\n",
    "    print(\"param1: %s\" % param1)\n",
    "    print(\"param2: %s\" % param2)\n",
    "    print(\"param3: %s\" % param3)\n",
    "    print(\"additional_params: %s\" % list(additional_params))\n",
    "\n",
    "# myVariadicFunction(1,2) #TypeError: missing 1 required positional argument: 'param3'\n",
    "myVariadicFunction(1,2,3)\n",
    "myVariadicFunction(1,2,3,4)\n",
    "myVariadicFunction(1,2,3,4,5)\n",
    "myVariadicFunction(1,2,3,4,5,6)\n",
    "\n",
    "\n",
    "def compute(param1, param2, **options):\n",
    "    if options.get(\"log\") == \"true\":\n",
    "        print(\"compute called with %d, %d, %s, %s\" % (param1, param2, options.get(\"action\"), options.get(\"log\")))\n",
    "    if options.get(\"action\") == \"add\":\n",
    "        return param1 + param2\n",
    "    elif options.get(\"action\") == \"multiply\":\n",
    "        return param1 * param2\n",
    "\n",
    "result = compute(3, 4, action = \"add\", log = \"true\")\n",
    "print(\"Result: %d\" % result)\n",
    "\n",
    "result = compute(3, 4, action = \"multiply\", log = \"false\")\n",
    "print(\"Result: %d\" % result)"
   ]
  },
  {
   "cell_type": "code",
   "execution_count": 8,
   "metadata": {},
   "outputs": [
    {
     "name": "stdout",
     "output_type": "stream",
     "text": [
      "Hi\n",
      "Bye\n",
      "Hi\n",
      "Bye\n",
      "Hi\n",
      "Bye\n"
     ]
    }
   ],
   "source": [
    "#function objects \n",
    "\n",
    "def say_hi():\n",
    "    print('Hi')\n",
    "\n",
    "def say_bye():\n",
    "    print('Bye')\n",
    "\n",
    "say_hi()\n",
    "say_bye()\n",
    "\n",
    "#function object variables (assign name of function without parentheses)\n",
    "func = say_hi\n",
    "func()\n",
    "func = say_bye\n",
    "func()\n",
    "\n",
    "#list of function objects\n",
    "funcs = [say_hi, say_bye]\n",
    "for func in funcs:\n",
    "    func()"
   ]
  },
  {
   "cell_type": "code",
   "execution_count": 9,
   "metadata": {},
   "outputs": [
    {
     "name": "stdout",
     "output_type": "stream",
     "text": [
      "1\n",
      "2\n",
      "3\n",
      "a\n",
      "b\n",
      "c\n",
      "\n",
      "1\n",
      "2\n",
      "3\n",
      "a\n",
      "b\n",
      "c\n"
     ]
    }
   ],
   "source": [
    "#generators\n",
    "\n",
    "# this way works but can consume a lot of memory\n",
    "def concat_simple(a, b) :\n",
    "    return a + b\n",
    "for el in concat_simple([1, 2, 3], [\"a\", \"b\", \"c\"]):\n",
    "    print(el)\n",
    "\n",
    "print()\n",
    "\n",
    "# this way can consume less memory\n",
    "def concat_generator(a, b) :\n",
    "    for el in a :\n",
    "        yield el\n",
    "    for el in b :\n",
    "        yield el\n",
    "for el in concat_generator([1, 2, 3], [\"a\", \"b\", \"c\"]):\n",
    "    print(el)"
   ]
  },
  {
   "cell_type": "code",
   "execution_count": 10,
   "metadata": {},
   "outputs": [
    {
     "name": "stdout",
     "output_type": "stream",
     "text": [
      "simple lambda calls: 4 64\n",
      "lambda called in loop: 1, 4, 9, 16, 25, 36, 49, 64, 81, 100, \n",
      "lambda callback: 9\n",
      "using named callback in map function: [1, 4, 9, 16, 25]\n",
      "using lambda callback in map function: [1, 4, 9, 16, 25]\n"
     ]
    }
   ],
   "source": [
    "#lambdas\n",
    "\n",
    "#simple lambda\n",
    "def make_power_function (n): return lambda x: x**n\n",
    "f1 = make_power_function(2)\n",
    "f2 = make_power_function(6)\n",
    "print(\"simple lambda calls:\", f1(2), f2(2))\n",
    "\n",
    "#lambda assigned to a variable and then invoked\n",
    "print(\"lambda called in loop: \", end='')\n",
    "my_lambda =  lambda x: x * x\n",
    "for n in (1, 2, 3, 4, 5, 6, 7, 8, 9, 10):\n",
    "   print(my_lambda(n), end=\", \")\n",
    "print()\n",
    "\n",
    "#callback using lambda\n",
    "print(\"lambda callback: \", end='')\n",
    "def function_takes_callback(call_back_function):\n",
    "    return call_back_function(3)\n",
    "result = function_takes_callback(lambda x: x*x)\n",
    "print(result)\n",
    "\n",
    "print(\"using named callback in map function: \", end='')\n",
    "items = [1, 2, 3, 4, 5]\n",
    "def square(x): return x ** 2\n",
    "print(list(map(square, items)))\n",
    "\n",
    "print(\"using lambda callback in map function: \", end='')\n",
    "items = [1, 2, 3, 4, 5]\n",
    "print(list(map((lambda x: x **2), items)))"
   ]
  },
  {
   "cell_type": "code",
   "execution_count": null,
   "metadata": {},
   "outputs": [],
   "source": []
  }
 ],
 "metadata": {
  "kernelspec": {
   "display_name": "Python 3",
   "language": "python",
   "name": "python3"
  },
  "language_info": {
   "codemirror_mode": {
    "name": "ipython",
    "version": 3
   },
   "file_extension": ".py",
   "mimetype": "text/x-python",
   "name": "python",
   "nbconvert_exporter": "python",
   "pygments_lexer": "ipython3",
   "version": "3.8.5"
  }
 },
 "nbformat": 4,
 "nbformat_minor": 2
}
