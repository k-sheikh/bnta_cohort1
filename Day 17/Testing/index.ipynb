{
 "cells": [
  {
   "cell_type": "markdown",
   "metadata": {},
   "source": [
    "# Testing: Quality Assurance (1 Day)\n",
    "\n",
    "The purpose of software testing is to ensure that software solution meets the following quality assurance requirements:\n",
    "\n",
    "- Achieves the general result its stakeholders desire (smoke testing and acceptance testing)\n",
    "- Meets all functional requirements that have been agreed upon for the project (system testing)\n",
    "- All component interfaces function according to design (integration testing)\n",
    "- Handles all data inputs correctly (unit testing)\n",
    "- Handles all data inputs securely (security testing and destructive testing)\n",
    "- Performs with acceptable response time (latency) and throughput (bandwidth): performance testing and scalability testing\n",
    "- Is sufficiently usable for all intended users (accessibility testing and usability testing)\n",
    "- Can be installed and run in its intended environments (installation testing and compatibility testing)\n",
    "- Ensure that code changes during development do not break existing functionality (regression testing)\n",
    "\n",
    "Some testing is done to learn about how users use and respond to your software solution:\n",
    "\n",
    "- Experimental pre-beta user feedback (alpha testing)\n",
    "- Feature complete preview user feedback (beta testing)\n",
    "- Incremental feature evolution to gather statistical analysis on user response (A/B testing)\n",
    "\n",
    "## Topics\n",
    "\n",
    "- Unit testing: https://en.wikipedia.org/wiki/Unit_testing\n",
    "- Integration testing: https://en.wikipedia.org/wiki/Integration_testing\n",
    "- System testing: https://www.guru99.com/system-testing.html\n",
    "- Acceptance testing: https://en.wikipedia.org/wiki/Acceptance_testing\n",
    "- Installation testing: https://en.wikipedia.org/wiki/Installation_testing\n",
    "- Compatibility testing: https://www.guru99.com/compatibility-testing.html\n",
    "- Performance testing: https://en.wikipedia.org/wiki/Software_performance_testing\n",
    "- Usability testing: https://en.wikipedia.org/wiki/Usability_testing\n",
    "- Accessibility testing: https://www.guru99.com/accessibility-testing.html\n",
    "- Security testing: https://www.veracode.com/security/owasp-top-10\n",
    "- Destructive testing: https://en.wikipedia.org/wiki/Smoke_testing_(software)\n",
    "- Smoke testing and sanity testing: \n",
    "- Regression testing: https://en.wikipedia.org/wiki/Regression_testing\n",
    "- Alpha testing and beta testing: https://www.guru99.com/alpha-beta-testing-demystified.html\n",
    "- A/B testing: https://en.wikipedia.org/wiki/A/B_testing\n",
    "- Black-box testing: https://en.wikipedia.org/wiki/Black-box_testing\n",
    "- White-box testing: https://en.wikipedia.org/wiki/White-box_testing\n",
    "- Chaos testing: https://en.wikipedia.org/wiki/Chaos_engineering\n",
    "- Edge cases testing: https://www.freecodecamp.org/news/a-beginners-guide-to-testing-implement-these-quick-checks-to-test-your-code-d50027ad5eed\n",
    "- fuzz testing: https://en.wikipedia.org/wiki/Fuzzing"
   ]
  },
  {
   "cell_type": "markdown",
   "metadata": {},
   "source": [
    "## Why is Testing Important?\n",
    "\n",
    "- **European space agency Ariane 5 Flight 501**: cost at least 8 million USD resulting from an attempt to store a 64-bit number int 16-bit register.\n",
    "- **NASA Mariner 1 Spacecraft**: in 1962 cost 18.5 million USD due to a typo in spacecraft source code.\n",
    "- **Morris Worm**: in 1988 cost 100 million USD, which was the first worm virus that crashed a large fraction of the internet.\n",
    "- **Patriot Missile Failure**: in 1991 during the Gulf War, failed to track and intercept an incoming Iraqi Scud missile. killing 28 and injuring around 100 soldiers.\n",
    "- Pentium FDIV bug in 1994, was a bug in the CPU floating point unit causing it to incorrectly divide some floating-point numbers.\n",
    "- **Y2K Bug**: leading up to 2000 resulted in the need to fix most mainframe applications, resulting in a cost of approximately 500 billion USD to businesses and governments around the world.\n",
    "- **NASA Mars Climate Orbiter**: in 1999 cost over $193 million USD due to incorrect calculations due to metric system vs British units used in flight control calculations.\n",
    "- **Heartbleed virus**: in 2014 was a bug in plain sight within the popular OpenSSL library of TLS protocol caused, resulting in RAM stack overflow that enabled an elevation of permission vulnerability.\n",
    "- **EDS British Child Support Agency support application**: in 2004 made payments to only one in eight single parents awaiting them.\n",
    "- **British passport agency application**: developed by Siemens in 1999 could not handle timely issuing of passports for 500,000 British citizens.\n",
    "- Many more... Try a Web search to see what others you can learn about..."
   ]
  },
  {
   "cell_type": "markdown",
   "metadata": {},
   "source": [
    "## What is Testing?\n",
    "\n",
    "- **Software Testing**: refers to methodologies for checking that software satisfies all expected requirements and to detect software defects and missing functionalities. Testing can be carried out using manual operations or with automated tools. Large projects rely mostly on automated testing tools.\n",
    "- **Functional testing**: refers to any testing that verifies that each software function operates correctly and in accordance with all functional requirements specifications.\n",
    "- **Non-functional testing**: refers to any type of testing that checks or measures any non-functional aspects of an application, such as performance, security, usability, reliability, compatibility, etc.\n",
    "- **Unit testing**: is software testing that focuses on individual units of source code functionality, that is verified in isolation. Most types of testing are performed by specialized testers rather than regular developers because developers are often too intimately involved with their own code to test it objectively and without bias. However, unit testing is typically always done by the individual programmer that implements the specific function that is being unit tested.\n",
    "- **Regression testing**: is the routine automated re-running of tests to verify that changes that have been made by developers have not broken any code that was previously working. Typically, this regression check is part of a daily routine, or even run as a continuous process, known as Continuous Integration, which may be triggered after each program build operation.\n",
    "- **White Box Testing**: is software testing that is performed on software where the source code is known and of interest to the tester.\n",
    "- **Black Box Testing**: is software testing that is performed on software where the source code is unknown or simply not of interest to the tester.\n",
    "- **End-to-end testing**: is used to check an entire software application to ensure that all of the code works together properly as a unified whole. This large-scale testing is in contrast with unit testing which focuses on testing of individual functional units within a larger code base. End-to-end testing ensures that all integrated pieces work together as expected. This is often important, because there may be bugs that can be missed in unit testing, that only manifest themselves in a holistic larger system that is more representative of how the code will likely work when running in production.\n",
    "- **TDD (test-driven development)**: is a software development process where the first step is to transform the software requirements directly into a complete set of unit test cases before any actual functional software implementation is developed. This enforces a more rigorous and formal approach to developing software in contrast to traditional software development where functionality is implemented first and then the unit test cases are developed later to check code functionality. TDD can help developers focus on gaining a deeper and earlier understanding of the code requirements before diving in to functional coding, which can simplify code and save time.\n",
    "- **BDD (behavior-driven development)**: is an Agile software development process that promotes collaboration among programmers, testers, users, managers, and other project stakeholders.\n",
    "- There are other types of testing, such as security testing, penetration testing, performance testing, acceptance testing, etc.\n"
   ]
  },
  {
   "cell_type": "markdown",
   "metadata": {},
   "source": [
    "## The ```assert``` keyword\n",
    "\n",
    "- An assert statement inserts a debugging assertion into a program\n",
    "- It asserts a boolean expression to be true that the programmer expects or requires to be true\n",
    "- If it fails, the programmer knows that there is a problem that needs to be solved\n",
    "- An assert statement is used to perform an internal self-check to make sure that code is working properly\n",
    "- An assert statement is a debugging aid, not a mechanism for handling all run-time errors\n",
    "- An assert statement can be used on its own or as part of a formal unit testing strategy\n",
    "- See: https://docs.python.org/3/reference/simple_stmts.html#the-assert-statement\n",
    "\n",
    "An ```assert``` statement is used to verify that a crucial fact is true regarding some aspect of the state of a program at a particular point during code execution. For example, in a function that performs division, you may want to verify that the denominator is not zero before you attempt to perform the division operation. The check is made using a boolean expression, which is true if it is what is expected, but false if it is what is not expected.\n",
    "\n",
    "- Assert exists in most programming languages, including Python and JavaScript\n",
    "- Assert tests for a condition and immediately raise an ```AssertionError``` if that condition is false\n",
    "- Assert is usually used to inform programmers about situations that would eventually result in errors\n",
    "- Assert can be used to detect problems early in your code where the origin of the problem is clear\n",
    "- Assert makes code easier to debug by detecting problems where they start rather later in deep dependent code\n",
    "- Assert is used in unit testing where testing code is designed to check and detect bugs in target code\n",
    "- Assert is a keyword (i.e. a statement), not a function, so you should not use parenthesis like a function call"
   ]
  },
  {
   "cell_type": "code",
   "execution_count": 12,
   "metadata": {},
   "outputs": [],
   "source": [
    "# assert success\n",
    "assert sum([1, 2, 3]) == 6, \"Should be 6\""
   ]
  },
  {
   "cell_type": "code",
   "execution_count": 13,
   "metadata": {},
   "outputs": [
    {
     "ename": "AssertionError",
     "evalue": "Should be 6, not 7",
     "output_type": "error",
     "traceback": [
      "\u001b[1;31m---------------------------------------------------------------------------\u001b[0m",
      "\u001b[1;31mAssertionError\u001b[0m                            Traceback (most recent call last)",
      "\u001b[1;32m<ipython-input-13-8aa6f6047124>\u001b[0m in \u001b[0;36m<module>\u001b[1;34m\u001b[0m\n\u001b[0;32m      1\u001b[0m \u001b[1;31m# assert failure -> raises an AssertionError\u001b[0m\u001b[1;33m\u001b[0m\u001b[1;33m\u001b[0m\u001b[1;33m\u001b[0m\u001b[0m\n\u001b[1;32m----> 2\u001b[1;33m \u001b[1;32massert\u001b[0m \u001b[0msum\u001b[0m\u001b[1;33m(\u001b[0m\u001b[1;33m[\u001b[0m\u001b[1;36m1\u001b[0m\u001b[1;33m,\u001b[0m \u001b[1;36m2\u001b[0m\u001b[1;33m,\u001b[0m \u001b[1;36m3\u001b[0m\u001b[1;33m]\u001b[0m\u001b[1;33m)\u001b[0m \u001b[1;33m==\u001b[0m \u001b[1;36m7\u001b[0m\u001b[1;33m,\u001b[0m \u001b[1;34m\"Should be 6, not 7\"\u001b[0m   \u001b[1;31m# raises AssertionError\u001b[0m\u001b[1;33m\u001b[0m\u001b[1;33m\u001b[0m\u001b[0m\n\u001b[0m",
      "\u001b[1;31mAssertionError\u001b[0m: Should be 6, not 7"
     ]
    }
   ],
   "source": [
    "# assert failure -> raises an AssertionError\n",
    "assert sum([1, 2, 3]) == 7, \"Should be 6, not 7\"   # raises AssertionError"
   ]
  },
  {
   "cell_type": "code",
   "execution_count": 11,
   "metadata": {},
   "outputs": [
    {
     "name": "stdout",
     "output_type": "stream",
     "text": [
      "2.0\n"
     ]
    },
    {
     "ename": "ZeroDivisionError",
     "evalue": "division by zero",
     "output_type": "error",
     "traceback": [
      "\u001b[1;31m---------------------------------------------------------------------------\u001b[0m",
      "\u001b[1;31mZeroDivisionError\u001b[0m                         Traceback (most recent call last)",
      "\u001b[1;32m<ipython-input-11-fd234567d530>\u001b[0m in \u001b[0;36m<module>\u001b[1;34m\u001b[0m\n\u001b[0;32m      3\u001b[0m \u001b[1;33m\u001b[0m\u001b[0m\n\u001b[0;32m      4\u001b[0m \u001b[0mprint\u001b[0m\u001b[1;33m(\u001b[0m\u001b[0mmy_divide_without_assert\u001b[0m\u001b[1;33m(\u001b[0m\u001b[1;36m10\u001b[0m\u001b[1;33m,\u001b[0m \u001b[1;36m5\u001b[0m\u001b[1;33m)\u001b[0m\u001b[1;33m)\u001b[0m\u001b[1;33m\u001b[0m\u001b[1;33m\u001b[0m\u001b[0m\n\u001b[1;32m----> 5\u001b[1;33m \u001b[0mprint\u001b[0m\u001b[1;33m(\u001b[0m\u001b[0mmy_divide_without_assert\u001b[0m\u001b[1;33m(\u001b[0m\u001b[1;36m10\u001b[0m\u001b[1;33m,\u001b[0m \u001b[1;36m0\u001b[0m\u001b[1;33m)\u001b[0m\u001b[1;33m)\u001b[0m\u001b[1;33m\u001b[0m\u001b[1;33m\u001b[0m\u001b[0m\n\u001b[0m",
      "\u001b[1;32m<ipython-input-11-fd234567d530>\u001b[0m in \u001b[0;36mmy_divide_without_assert\u001b[1;34m(x, y)\u001b[0m\n\u001b[0;32m      1\u001b[0m \u001b[1;32mdef\u001b[0m \u001b[0mmy_divide_without_assert\u001b[0m\u001b[1;33m(\u001b[0m\u001b[0mx\u001b[0m\u001b[1;33m,\u001b[0m \u001b[0my\u001b[0m\u001b[1;33m)\u001b[0m\u001b[1;33m:\u001b[0m\u001b[1;33m\u001b[0m\u001b[1;33m\u001b[0m\u001b[0m\n\u001b[1;32m----> 2\u001b[1;33m     \u001b[1;32mreturn\u001b[0m \u001b[0mx\u001b[0m\u001b[1;33m/\u001b[0m\u001b[0my\u001b[0m                         \u001b[1;31m# raises ZeroDivisionError when y is zero\u001b[0m\u001b[1;33m\u001b[0m\u001b[1;33m\u001b[0m\u001b[0m\n\u001b[0m\u001b[0;32m      3\u001b[0m \u001b[1;33m\u001b[0m\u001b[0m\n\u001b[0;32m      4\u001b[0m \u001b[0mprint\u001b[0m\u001b[1;33m(\u001b[0m\u001b[0mmy_divide_without_assert\u001b[0m\u001b[1;33m(\u001b[0m\u001b[1;36m10\u001b[0m\u001b[1;33m,\u001b[0m \u001b[1;36m5\u001b[0m\u001b[1;33m)\u001b[0m\u001b[1;33m)\u001b[0m\u001b[1;33m\u001b[0m\u001b[1;33m\u001b[0m\u001b[0m\n\u001b[0;32m      5\u001b[0m \u001b[0mprint\u001b[0m\u001b[1;33m(\u001b[0m\u001b[0mmy_divide_without_assert\u001b[0m\u001b[1;33m(\u001b[0m\u001b[1;36m10\u001b[0m\u001b[1;33m,\u001b[0m \u001b[1;36m0\u001b[0m\u001b[1;33m)\u001b[0m\u001b[1;33m)\u001b[0m\u001b[1;33m\u001b[0m\u001b[1;33m\u001b[0m\u001b[0m\n",
      "\u001b[1;31mZeroDivisionError\u001b[0m: division by zero"
     ]
    }
   ],
   "source": [
    "def my_divide_without_assert(x, y):\n",
    "    return x/y                         # raises ZeroDivisionError when y is zero\n",
    "\n",
    "print(my_divide_without_assert(10, 5))\n",
    "print(my_divide_without_assert(10, 0))"
   ]
  },
  {
   "cell_type": "code",
   "execution_count": 8,
   "metadata": {},
   "outputs": [
    {
     "name": "stdout",
     "output_type": "stream",
     "text": [
      "2.0\n"
     ]
    },
    {
     "ename": "AssertionError",
     "evalue": "Denominator must not be zero",
     "output_type": "error",
     "traceback": [
      "\u001b[1;31m---------------------------------------------------------------------------\u001b[0m",
      "\u001b[1;31mAssertionError\u001b[0m                            Traceback (most recent call last)",
      "\u001b[1;32m<ipython-input-8-b6e79064502b>\u001b[0m in \u001b[0;36m<module>\u001b[1;34m\u001b[0m\n\u001b[0;32m      4\u001b[0m \u001b[1;33m\u001b[0m\u001b[0m\n\u001b[0;32m      5\u001b[0m \u001b[0mprint\u001b[0m\u001b[1;33m(\u001b[0m\u001b[0mmy_divide_with_assert\u001b[0m\u001b[1;33m(\u001b[0m\u001b[1;36m10\u001b[0m\u001b[1;33m,\u001b[0m \u001b[1;36m5\u001b[0m\u001b[1;33m)\u001b[0m\u001b[1;33m)\u001b[0m\u001b[1;33m\u001b[0m\u001b[1;33m\u001b[0m\u001b[0m\n\u001b[1;32m----> 6\u001b[1;33m \u001b[0mprint\u001b[0m\u001b[1;33m(\u001b[0m\u001b[0mmy_divide_with_assert\u001b[0m\u001b[1;33m(\u001b[0m\u001b[1;36m10\u001b[0m\u001b[1;33m,\u001b[0m \u001b[1;36m0\u001b[0m\u001b[1;33m)\u001b[0m\u001b[1;33m)\u001b[0m\u001b[1;33m\u001b[0m\u001b[1;33m\u001b[0m\u001b[0m\n\u001b[0m",
      "\u001b[1;32m<ipython-input-8-b6e79064502b>\u001b[0m in \u001b[0;36mmy_divide_with_assert\u001b[1;34m(x, y)\u001b[0m\n\u001b[0;32m      1\u001b[0m \u001b[1;32mdef\u001b[0m \u001b[0mmy_divide_with_assert\u001b[0m\u001b[1;33m(\u001b[0m\u001b[0mx\u001b[0m\u001b[1;33m,\u001b[0m \u001b[0my\u001b[0m\u001b[1;33m)\u001b[0m\u001b[1;33m:\u001b[0m\u001b[1;33m\u001b[0m\u001b[1;33m\u001b[0m\u001b[0m\n\u001b[1;32m----> 2\u001b[1;33m     \u001b[1;32massert\u001b[0m\u001b[1;33m(\u001b[0m\u001b[0my\u001b[0m \u001b[1;33m!=\u001b[0m \u001b[1;36m0\u001b[0m\u001b[1;33m)\u001b[0m\u001b[1;33m,\u001b[0m \u001b[1;34m\"Denominator must not be zero\"\u001b[0m  \u001b[1;31m# raises AssertionError\u001b[0m\u001b[1;33m\u001b[0m\u001b[1;33m\u001b[0m\u001b[0m\n\u001b[0m\u001b[0;32m      3\u001b[0m     \u001b[1;32mreturn\u001b[0m \u001b[0mx\u001b[0m\u001b[1;33m/\u001b[0m\u001b[0my\u001b[0m                                      \u001b[1;31m# execution never gets here\u001b[0m\u001b[1;33m\u001b[0m\u001b[1;33m\u001b[0m\u001b[0m\n\u001b[0;32m      4\u001b[0m \u001b[1;33m\u001b[0m\u001b[0m\n\u001b[0;32m      5\u001b[0m \u001b[0mprint\u001b[0m\u001b[1;33m(\u001b[0m\u001b[0mmy_divide_with_assert\u001b[0m\u001b[1;33m(\u001b[0m\u001b[1;36m10\u001b[0m\u001b[1;33m,\u001b[0m \u001b[1;36m5\u001b[0m\u001b[1;33m)\u001b[0m\u001b[1;33m)\u001b[0m\u001b[1;33m\u001b[0m\u001b[1;33m\u001b[0m\u001b[0m\n",
      "\u001b[1;31mAssertionError\u001b[0m: Denominator must not be zero"
     ]
    }
   ],
   "source": [
    "def my_divide_with_assert(x, y):\n",
    "    assert(y != 0), \"Denominator must not be zero\"  # raises AssertionError\n",
    "    return x/y                                      # execution never gets here\n",
    "\n",
    "print(my_divide_with_assert(10, 5))\n",
    "print(my_divide_with_assert(10, 0))"
   ]
  },
  {
   "cell_type": "markdown",
   "metadata": {},
   "source": [
    "## Unit Testing Frameworks\n",
    "\n",
    "- There are many test frameworks available for each programming language, and Python is no exception\n",
    "- The test framework built into the Python standard library is called ```unittest```\n",
    "- The ```unittest``` module provides tools for constructing and running unit tests\n",
    "- Unittest provides a testing framework and a test runner utility\n",
    "- Test runner automates the execution of a complete set of unit tests\n",
    "- Test runner loads and tests target code functions in isolation, independently from the rest of the application code\n",
    "- Test runner establishes environment setup to simulate the rest of the application code that the target code depends on \n",
    "- Unittest has some important requirements for writing and executing tests:\n",
    "  - You implement each unit test as a method in a testing class\n",
    "  - Unit test methods use ```assertion``` statements to verify that only correct outcomes are produced\n",
    "  - A failed unit test indicates a bug that must be fixed, and all unit tests must ultimately pass without error"
   ]
  },
  {
   "cell_type": "markdown",
   "metadata": {},
   "source": [
    "## Try It Out\n",
    "\n",
    "Create the following target script named mymath.py:\n",
    "\n",
    "```python\n",
    "# mymath.py\n",
    "\n",
    "def add(a, b):\n",
    "    return a + b\n",
    "\n",
    "def multiply(a, b):\n",
    "    return a * b              # try introducing error here (e.g. change * to **) and run unit test again (see below)\n",
    "\n",
    "if __name__ == '__main__':\n",
    "    print(add(3, 4))         # 7\n",
    "    print(multiply(3, 4))    # 12\n",
    "```\n",
    "\n",
    "Run the above script using ```python mymath.py``` and it should output ```7``` and ```12```.\n",
    "\n",
    "Create the following test script named ```test.py```:\n",
    "\n",
    "```python\n",
    "# test.py\n",
    "\n",
    "import unittest\n",
    "import mymath\n",
    "\n",
    "class TestMyMath(unittest.TestCase):\n",
    "    def test_add(self):\n",
    "        actual = mymath.add(3, 4)\n",
    "        expected = 7\n",
    "        self.assertEqual(actual, expected, \"Should be 7\")\n",
    "\n",
    "    def test_multiply(self):\n",
    "        actual = mymath.multiply(3, 4)\n",
    "        expected = 12\n",
    "        self.assertEqual(actual, expected, \"Should be 12\")\n",
    "\n",
    "if __name__ == '__main__':\n",
    "    unittest.main()\n",
    "\n",
    "```\n",
    "\n",
    "Run the above script using ```python test.py``` or ```python -m unittest test``` and it should output the following and note that all tests passed:\n",
    "    \n",
    "```\n",
    "Ran 2 tests in 0.000s\n",
    "\n",
    "OK\n",
    "```\n",
    "\n",
    "Try making an intentionsl error in one of the functions in ```mymath.py```:\n",
    "\n",
    "```python\n",
    "# mymath.py\n",
    "\n",
    "def add(a, b):\n",
    "    return a + b\n",
    "\n",
    "def multiply(a, b):\n",
    "    return a ** b      # intentionally making an error here by changing * to **\n",
    "\n",
    "if __name__ == '__main__':\n",
    "    print(add(3, 4))         # 7\n",
    "    print(multiply(3, 4))    # 12\n",
    "```\n",
    "\n",
    "Run the test script again using ```python test.py``` or ```python -m unittest test``` and it should output the following:\n",
    "    \n",
    "```\n",
    "FAIL: test_multiply (test.TestMyMath)\n",
    "----------------------------------------------------------------------\n",
    "Traceback (most recent call last):\n",
    "  File \"C:\\Users\\peter\\Desktop\\unit_test\\test.py\", line 15, in test_multiply\n",
    "    self.assertEqual(actual, expected, \"Should be 12\")\n",
    "AssertionError: 81 != 12 : Should be 12\n",
    "\n",
    "----------------------------------------------------------------------\n",
    "Ran 2 tests in 0.001s\n",
    "\n",
    "FAILED (failures=1)\n",
    "```"
   ]
  },
  {
   "cell_type": "markdown",
   "metadata": {},
   "source": [
    "## Lab\n",
    "\n",
    "- Read: https://en.wikipedia.org/wiki/Software_testing\n",
    "- Try the tutorial: How to Start Unit Testing Your JavaScript Code\n",
    "  - https://www.freecodecamp.org/news/how-to-start-unit-testing-javascript\n",
    "- Discuss in class:\n",
    " - Unit testing: https://www.datacamp.com/community/tutorials/unit-testing-python\n",
    " - White-box testing: https://www.guru99.com/white-box-testing.html\n",
    " - Black-box testing: https://www.geeksforgeeks.org/differences-between-black-box-testing-vs-white-box-testing\n",
    " - Integration testing: https://www.guru99.com/integration-testing.html\n",
    " - Performance testing: https://www.guru99.com/performance-testing.html\n",
    " - Regression testing: https://www.guru99.com/regression-testing.html\n",
    "\n",
    "## Homework\n",
    "\n",
    "Do at least one of the following unit testing tutorials:\n",
    "\n",
    "- Python unit test tutorials:\n",
    " - Getting Started with Testing in Python: https://realpython.com/python-testing\n",
    " - Unit Testing in Python: https://www.datacamp.com/community/tutorials/unit-testing-python\n",
    " - An Introduction to Unit Testing in Python: https://www.freecodecamp.org/news/an-introduction-to-testing-in-python\n",
    " - How To Use unittest to Write a Test Case for a Function in Python: https://www.digitalocean.com/community/tutorials/how-to-use-unittest-to-write-a-test-case-for-a-function-in-python\n",
    "- JavaScript unit test tutorials:\n",
    " - Getting Started with Node.js and Mocha: https://semaphoreci.com/community/tutorials/getting-started-with-node-js-and-mocha\n",
    " - Unit Testing of Node.js Application: https://www.geeksforgeeks.org/unit-testing-of-node-js-application\n",
    " - How to Unit Test with NodeJS: https://medium.com/serverlessguru/how-to-unit-test-with-nodejs-76967019ba56\n",
    " - JavaScript Unit Testing for Beginners: https://designmodo.com/test-javascript-unit"
   ]
  },
  {
   "cell_type": "code",
   "execution_count": null,
   "metadata": {},
   "outputs": [],
   "source": []
  }
 ],
 "metadata": {
  "kernelspec": {
   "display_name": "Python 3",
   "language": "python",
   "name": "python3"
  },
  "language_info": {
   "codemirror_mode": {
    "name": "ipython",
    "version": 3
   },
   "file_extension": ".py",
   "mimetype": "text/x-python",
   "name": "python",
   "nbconvert_exporter": "python",
   "pygments_lexer": "ipython3",
   "version": "3.8.5"
  }
 },
 "nbformat": 4,
 "nbformat_minor": 4
}
