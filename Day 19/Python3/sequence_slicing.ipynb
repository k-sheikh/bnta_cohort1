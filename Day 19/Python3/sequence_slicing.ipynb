{
 "cells": [
  {
   "cell_type": "markdown",
   "metadata": {},
   "source": [
    "# Sequence Slicing\n",
    "\n",
    "* https://stackoverflow.com/questions/509211/understanding-slice-notation\n",
    "* https://www.learnbyexample.org/python-list-slicing"
   ]
  },
  {
   "cell_type": "markdown",
   "metadata": {},
   "source": [
    "## Syntax\n",
    "**sequence [start:stop[:step]]**\n",
    "* **start** Starting index of the slice (optional defaults to 0)\n",
    "* **stop** Last index of the slice or the number of items to get. (optional defaults to len(sequence)\n",
    "* **step** Step value of the slice. (optional defaults to 1)"
   ]
  },
  {
   "cell_type": "code",
   "execution_count": 19,
   "metadata": {},
   "outputs": [
    {
     "name": "stdout",
     "output_type": "stream",
     "text": [
      "AB\n",
      "BCD\n",
      "AC\n",
      "BCD\n",
      "ABCD\n",
      "DCBA\n"
     ]
    }
   ],
   "source": [
    "print(\"ABCD\"[0:2])   # AB\n",
    "print(\"ABCD\"[1:4])   # BCD\n",
    "print(\"ABCD\"[0:4:2]) # AC\n",
    "print(\"ABCD\"[1:])    # BCD\n",
    "print(\"ABCD\"[:])     # ABCD\n",
    "print(\"ABCD\"[::-1])  # DCBA"
   ]
  },
  {
   "cell_type": "code",
   "execution_count": 11,
   "metadata": {},
   "outputs": [
    {
     "name": "stdout",
     "output_type": "stream",
     "text": [
      "[1, 2]\n",
      "[2, 3, 4]\n",
      "[1, 3]\n"
     ]
    }
   ],
   "source": [
    "print([1,2,3,4][0:2])   # [1, 2]\n",
    "print([1,2,3,4][1:4])   # [2, 3, 4]\n",
    "print([1,2,3,4][0:4:2]) # [1, 3]"
   ]
  },
  {
   "cell_type": "code",
   "execution_count": 23,
   "metadata": {},
   "outputs": [
    {
     "name": "stdout",
     "output_type": "stream",
     "text": [
      "['A', 'B', 2, 3]\n"
     ]
    }
   ],
   "source": [
    "l = [0, 1, 2, 3]\n",
    "l[:2] = (\"A\", \"B\")\n",
    "print(l) # [1, 3]  # ['A', 'B', 2, 3]"
   ]
  },
  {
   "cell_type": "code",
   "execution_count": 27,
   "metadata": {},
   "outputs": [
    {
     "data": {
      "text/plain": [
       "[0, 4, 5, 6, 7, 2, 3]"
      ]
     },
     "execution_count": 27,
     "metadata": {},
     "output_type": "execute_result"
    }
   ],
   "source": [
    "l = [0, 1, 2, 3]\n",
    "l[1:2] = (4, 5, 6, 7)\n",
    "l                     # [0, 4, 5, 6, 7, 2, 3]"
   ]
  },
  {
   "cell_type": "code",
   "execution_count": 29,
   "metadata": {},
   "outputs": [
    {
     "data": {
      "text/plain": [
       "[1, 3]"
      ]
     },
     "execution_count": 29,
     "metadata": {},
     "output_type": "execute_result"
    }
   ],
   "source": [
    "l = [0, 1, 2, 3]\n",
    "del l[::2]\n",
    "l                # [1, 3]"
   ]
  },
  {
   "cell_type": "code",
   "execution_count": null,
   "metadata": {},
   "outputs": [],
   "source": []
  }
 ],
 "metadata": {
  "kernelspec": {
   "display_name": "Python 3",
   "language": "python",
   "name": "python3"
  },
  "language_info": {
   "codemirror_mode": {
    "name": "ipython",
    "version": 3
   },
   "file_extension": ".py",
   "mimetype": "text/x-python",
   "name": "python",
   "nbconvert_exporter": "python",
   "pygments_lexer": "ipython3",
   "version": "3.8.5"
  }
 },
 "nbformat": 4,
 "nbformat_minor": 4
}
