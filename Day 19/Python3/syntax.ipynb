{
 "cells": [
  {
   "cell_type": "markdown",
   "metadata": {},
   "source": [
    "# Syntax\n",
    "\n",
    "See: https://github.com/rajathkmp/Python-Lectures/blob/master/01.ipynb  "
   ]
  },
  {
   "cell_type": "code",
   "execution_count": 1,
   "metadata": {},
   "outputs": [
    {
     "name": "stdout",
     "output_type": "stream",
     "text": [
      "3.7.6 (default, Jan  8 2020, 20:23:39) [MSC v.1916 64 bit (AMD64)]\n"
     ]
    }
   ],
   "source": [
    "import sys\n",
    "print(sys.version)"
   ]
  },
  {
   "cell_type": "markdown",
   "metadata": {},
   "source": [
    "# Keywords\n",
    "\n",
    "See: https://docs.python.org/3/reference/lexical_analysis.html#keywords"
   ]
  },
  {
   "cell_type": "code",
   "execution_count": 2,
   "metadata": {},
   "outputs": [
    {
     "name": "stdout",
     "output_type": "stream",
     "text": [
      "Python version:  sys.version_info(major=3, minor=7, micro=6, releaselevel='final', serial=0)\n",
      "\n",
      "Python keywords:  ['False', 'None', 'True', 'and', 'as', 'assert', 'async', 'await', 'break', 'class', 'continue', 'def', 'del', 'elif', 'else', 'except', 'finally', 'for', 'from', 'global', 'if', 'import', 'in', 'is', 'lambda', 'nonlocal', 'not', 'or', 'pass', 'raise', 'return', 'try', 'while', 'with', 'yield']\n"
     ]
    }
   ],
   "source": [
    "\"\"\"\n",
    "Keywords in Python are reservered words that cannot be used as identifiers. Python is case-sensitive. \n",
    "\"\"\"\n",
    "import sys\n",
    "print (\"Python version: \", sys.version_info)\n",
    "print()\n",
    "import keyword\n",
    "print (\"Python keywords: \", keyword.kwlist)"
   ]
  },
  {
   "cell_type": "markdown",
   "metadata": {},
   "source": [
    "## Comments"
   ]
  },
  {
   "cell_type": "code",
   "execution_count": 1,
   "metadata": {},
   "outputs": [
    {
     "data": {
      "text/plain": [
       "'\\nTriple-quoted strings can use single or double quote characters\\nwithout any semantic differences.\\n'"
      ]
     },
     "execution_count": 1,
     "metadata": {},
     "output_type": "execute_result"
    }
   ],
   "source": [
    "# this is a single-line comment\n",
    "\n",
    "x = 3 # this is another single-line comment\n",
    "\n",
    "\"\"\"\n",
    "Triple-quoted strings that are not docstring (first thing in\n",
    "class/function/module) and also not assigned any variable are\n",
    "ignored and can be used as a way of commenting code in a multi-line manner.\n",
    "\"\"\"\n",
    "\n",
    "'''\n",
    "Triple-quoted strings can use single or double quote characters\n",
    "without any semantic differences.\n",
    "'''"
   ]
  },
  {
   "cell_type": "markdown",
   "metadata": {},
   "source": [
    "## The ```input``` Function (keyboard input)"
   ]
  },
  {
   "cell_type": "code",
   "execution_count": 80,
   "metadata": {},
   "outputs": [
    {
     "name": "stdout",
     "output_type": "stream",
     "text": [
      "What is your name?\n",
      "Peter\n",
      "Hello Peter\n"
     ]
    }
   ],
   "source": [
    "name = input('What is your name?\\n')\n",
    "print ('Hello %s' % name)"
   ]
  },
  {
   "cell_type": "markdown",
   "metadata": {},
   "source": [
    "## The ```print``` Function (screen output)\n",
    "\n",
    "The print statement can be used in several ways:\n",
    "- ```print(\"Hello World\")```\n",
    "- ```print(\"Hello\", <Variable containing string>)```\n",
    "- ```print(\"Hello\" + <Variable containing string>)```\n",
    "- ```print(\"Hello %s\" % <variable containing string>)```"
   ]
  },
  {
   "cell_type": "code",
   "execution_count": 3,
   "metadata": {},
   "outputs": [
    {
     "name": "stdout",
     "output_type": "stream",
     "text": [
      "Hello World\n",
      "Hello 42\n",
      "Hello World\n",
      "Hello 42\n",
      "\n",
      "1\n",
      "1 2\n",
      "1 2 3, 4 5 6!\n",
      "['a', 'b', 'c']\n",
      "writing to stdout\n"
     ]
    },
    {
     "name": "stderr",
     "output_type": "stream",
     "text": [
      "writing to stderr\n"
     ]
    }
   ],
   "source": [
    "print(\"Hello World\")\n",
    "print(\"Hello\", 42)\n",
    "x = 'World'\n",
    "print(\"Hello \" + x)\n",
    "print(\"Hello %s\" % \"42\")\n",
    "print()\n",
    "print(1)\n",
    "print(1, 2)\n",
    "print(1, 2, 3, end=', ')\n",
    "print(4, 5, 6, end='!\\n')\n",
    "print (['a', 'b', 'c'])\n",
    "\n",
    "import sys\n",
    "print(\"writing to stdout\", file=sys.stdout)\n",
    "print(\"writing to stderr\", file=sys.stderr) # displayed in red\n",
    "\n",
    "f_out=open('./out.txt', 'w+')\n",
    "print(\"writing to f_out -> out.txt\", file=f_out) # write to file\n",
    "f_out.close()"
   ]
  },
  {
   "cell_type": "markdown",
   "metadata": {},
   "source": [
    "## Explicit Line Joining\n",
    "Multiple physical lines can be joined into a single logical line of code using backslash characters"
   ]
  },
  {
   "cell_type": "code",
   "execution_count": 10,
   "metadata": {},
   "outputs": [
    {
     "name": "stdout",
     "output_type": "stream",
     "text": [
      "This single string literal is spread over multiple lines using backslash characters.\n",
      "True\n"
     ]
    }
   ],
   "source": [
    "# Explicit Line Joining of a string literal\n",
    "stringValue = \"This single string \" \\\n",
    "    'literal is spread over '\\\n",
    "    \"multiple lines using backslash characters.\"\n",
    "print(stringValue)\n",
    "\n",
    "# Explicit Line Joining of a boolean expression\n",
    "x = 90\n",
    "y = 100\n",
    "booleanValue = x > 80 and x < 100 | \\\n",
    "    y < 101 and x < y\n",
    "print(booleanValue)"
   ]
  },
  {
   "cell_type": "code",
   "execution_count": 3,
   "metadata": {},
   "outputs": [
    {
     "name": "stdout",
     "output_type": "stream",
     "text": [
      "['__add__', '__class__', '__contains__', '__delattr__', '__dir__', '__doc__', '__eq__', '__format__', '__ge__', '__getattribute__', '__getitem__', '__getnewargs__', '__gt__', '__hash__', '__init__', '__init_subclass__', '__iter__', '__le__', '__len__', '__lt__', '__mod__', '__mul__', '__ne__', '__new__', '__reduce__', '__reduce_ex__', '__repr__', '__rmod__', '__rmul__', '__setattr__', '__sizeof__', '__str__', '__subclasshook__', 'capitalize', 'casefold', 'center', 'count', 'encode', 'endswith', 'expandtabs', 'find', 'format', 'format_map', 'index', 'isalnum', 'isalpha', 'isdecimal', 'isdigit', 'isidentifier', 'islower', 'isnumeric', 'isprintable', 'isspace', 'istitle', 'isupper', 'join', 'ljust', 'lower', 'lstrip', 'maketrans', 'partition', 'replace', 'rfind', 'rindex', 'rjust', 'rpartition', 'rsplit', 'rstrip', 'split', 'splitlines', 'startswith', 'strip', 'swapcase', 'title', 'translate', 'upper', 'zfill'] \n",
      "\n",
      "5 \n",
      "\n",
      "5 \n",
      "\n"
     ]
    }
   ],
   "source": [
    "x = \"hello\"\n",
    "print (dir(x), '\\n')\n",
    "\n",
    "# len is imlemented using __len__\n",
    "print (len(x), '\\n')\n",
    "print (x.__len__(), '\\n')\n",
    "#print (x.len()) #AttributeError: 'str' object has no attribute 'len'"
   ]
  },
  {
   "cell_type": "code",
   "execution_count": 4,
   "metadata": {},
   "outputs": [
    {
     "data": {
      "text/plain": [
       "['ArithmeticError',\n",
       " 'AssertionError',\n",
       " 'AttributeError',\n",
       " 'BaseException',\n",
       " 'BlockingIOError',\n",
       " 'BrokenPipeError',\n",
       " 'BufferError',\n",
       " 'BytesWarning',\n",
       " 'ChildProcessError',\n",
       " 'ConnectionAbortedError',\n",
       " 'ConnectionError',\n",
       " 'ConnectionRefusedError',\n",
       " 'ConnectionResetError',\n",
       " 'DeprecationWarning',\n",
       " 'EOFError',\n",
       " 'Ellipsis',\n",
       " 'EnvironmentError',\n",
       " 'Exception',\n",
       " 'False',\n",
       " 'FileExistsError',\n",
       " 'FileNotFoundError',\n",
       " 'FloatingPointError',\n",
       " 'FutureWarning',\n",
       " 'GeneratorExit',\n",
       " 'IOError',\n",
       " 'ImportError',\n",
       " 'ImportWarning',\n",
       " 'IndentationError',\n",
       " 'IndexError',\n",
       " 'InterruptedError',\n",
       " 'IsADirectoryError',\n",
       " 'KeyError',\n",
       " 'KeyboardInterrupt',\n",
       " 'LookupError',\n",
       " 'MemoryError',\n",
       " 'ModuleNotFoundError',\n",
       " 'NameError',\n",
       " 'None',\n",
       " 'NotADirectoryError',\n",
       " 'NotImplemented',\n",
       " 'NotImplementedError',\n",
       " 'OSError',\n",
       " 'OverflowError',\n",
       " 'PendingDeprecationWarning',\n",
       " 'PermissionError',\n",
       " 'ProcessLookupError',\n",
       " 'RecursionError',\n",
       " 'ReferenceError',\n",
       " 'ResourceWarning',\n",
       " 'RuntimeError',\n",
       " 'RuntimeWarning',\n",
       " 'StopAsyncIteration',\n",
       " 'StopIteration',\n",
       " 'SyntaxError',\n",
       " 'SyntaxWarning',\n",
       " 'SystemError',\n",
       " 'SystemExit',\n",
       " 'TabError',\n",
       " 'TimeoutError',\n",
       " 'True',\n",
       " 'TypeError',\n",
       " 'UnboundLocalError',\n",
       " 'UnicodeDecodeError',\n",
       " 'UnicodeEncodeError',\n",
       " 'UnicodeError',\n",
       " 'UnicodeTranslateError',\n",
       " 'UnicodeWarning',\n",
       " 'UserWarning',\n",
       " 'ValueError',\n",
       " 'Warning',\n",
       " 'WindowsError',\n",
       " 'ZeroDivisionError',\n",
       " '__IPYTHON__',\n",
       " '__build_class__',\n",
       " '__debug__',\n",
       " '__doc__',\n",
       " '__import__',\n",
       " '__loader__',\n",
       " '__name__',\n",
       " '__package__',\n",
       " '__spec__',\n",
       " 'abs',\n",
       " 'all',\n",
       " 'any',\n",
       " 'ascii',\n",
       " 'bin',\n",
       " 'bool',\n",
       " 'bytearray',\n",
       " 'bytes',\n",
       " 'callable',\n",
       " 'chr',\n",
       " 'classmethod',\n",
       " 'compile',\n",
       " 'complex',\n",
       " 'copyright',\n",
       " 'credits',\n",
       " 'delattr',\n",
       " 'dict',\n",
       " 'dir',\n",
       " 'display',\n",
       " 'divmod',\n",
       " 'enumerate',\n",
       " 'eval',\n",
       " 'exec',\n",
       " 'filter',\n",
       " 'float',\n",
       " 'format',\n",
       " 'frozenset',\n",
       " 'get_ipython',\n",
       " 'getattr',\n",
       " 'globals',\n",
       " 'hasattr',\n",
       " 'hash',\n",
       " 'help',\n",
       " 'hex',\n",
       " 'id',\n",
       " 'input',\n",
       " 'int',\n",
       " 'isinstance',\n",
       " 'issubclass',\n",
       " 'iter',\n",
       " 'len',\n",
       " 'license',\n",
       " 'list',\n",
       " 'locals',\n",
       " 'map',\n",
       " 'max',\n",
       " 'memoryview',\n",
       " 'min',\n",
       " 'next',\n",
       " 'object',\n",
       " 'oct',\n",
       " 'open',\n",
       " 'ord',\n",
       " 'pow',\n",
       " 'print',\n",
       " 'property',\n",
       " 'range',\n",
       " 'repr',\n",
       " 'reversed',\n",
       " 'round',\n",
       " 'set',\n",
       " 'setattr',\n",
       " 'slice',\n",
       " 'sorted',\n",
       " 'staticmethod',\n",
       " 'str',\n",
       " 'sum',\n",
       " 'super',\n",
       " 'tuple',\n",
       " 'type',\n",
       " 'vars',\n",
       " 'zip']"
      ]
     },
     "execution_count": 4,
     "metadata": {},
     "output_type": "execute_result"
    }
   ],
   "source": [
    "dir(__builtins__)"
   ]
  },
  {
   "cell_type": "markdown",
   "metadata": {},
   "source": [
    "## String Formatting\n",
    "- ```%s``` -> string\n",
    "- ```%d``` -> integer\n",
    "- ```%f``` -> float\n",
    "- ```%o``` -> octal\n",
    "- ```%x``` -> hexadecimal\n",
    "- ```%e``` -> exponential"
   ]
  },
  {
   "cell_type": "code",
   "execution_count": 56,
   "metadata": {},
   "outputs": [
    {
     "name": "stdout",
     "output_type": "stream",
     "text": [
      "Hello World\n",
      "One Two\n",
      "Placeholders: 3 foo\n",
      "Sum of 3 + 4 = 7\n",
      "The weight is 25.00000 grams\n"
     ]
    }
   ],
   "source": [
    "print(\"Hello World\")\n",
    "print(\"One\", \"Two\")\n",
    "print(\"Placeholders: %d %s\" % (3,\"foo\"))\n",
    "print(\"Sum of {0} + {1} = {2}\".format(3, 4, 7))\n",
    "txt = \"The weight is {weight:.5f} grams\"\n",
    "print(txt.format(weight = 25))"
   ]
  },
  {
   "cell_type": "markdown",
   "metadata": {},
   "source": [
    "## String ```%``` Format Operator"
   ]
  },
  {
   "cell_type": "code",
   "execution_count": 81,
   "metadata": {},
   "outputs": [
    {
     "name": "stdout",
     "output_type": "stream",
     "text": [
      "String      -> 42\n",
      "Number      -> 42\n",
      "Float       -> 42.000000\n",
      "Octal       -> 52\n",
      "Hexadecimal -> 2a\n",
      "Exponential -> 4.200000e+01\n"
     ]
    }
   ],
   "source": [
    "# %-formatting\n",
    "print(\"String      -> %s\" % \"42\")\n",
    "print(\"Number      -> %d\" % 42)\n",
    "print(\"Float       -> %f\" % 42)\n",
    "print(\"Octal       -> %o\" % 42)\n",
    "print(\"Hexadecimal -> %x\" % 42)\n",
    "print(\"Exponential -> %e\" % 42)"
   ]
  },
  {
   "cell_type": "markdown",
   "metadata": {},
   "source": [
    "## String ```format``` Method"
   ]
  },
  {
   "cell_type": "code",
   "execution_count": 70,
   "metadata": {},
   "outputs": [
    {
     "name": "stdout",
     "output_type": "stream",
     "text": [
      "a, b, c\n",
      "3, foo, True\n",
      "42.0000, 3.141593e+00\n"
     ]
    }
   ],
   "source": [
    "print('{0}, {1}, {2}'.format('a', 'b', 'c'))\n",
    "print('{0}, {1}, {2}'.format(3, 'foo', True))\n",
    "import math\n",
    "print('{0:3.4f}, {1:e}'.format(42, math.pi))"
   ]
  },
  {
   "cell_type": "markdown",
   "metadata": {},
   "source": [
    "##  F-String Syntax (added in Python 3.6)"
   ]
  },
  {
   "cell_type": "code",
   "execution_count": 77,
   "metadata": {},
   "outputs": [
    {
     "name": "stdout",
     "output_type": "stream",
     "text": [
      "Hello Python World 2.0\n"
     ]
    }
   ],
   "source": [
    "a = 'Python'\n",
    "b = 'World'\n",
    "print(f'Hello {a} {b} {2 * 1.0}')"
   ]
  },
  {
   "cell_type": "markdown",
   "metadata": {},
   "source": [
    "# Indentation and Whitespace"
   ]
  },
  {
   "cell_type": "code",
   "execution_count": 3,
   "metadata": {},
   "outputs": [],
   "source": [
    "#indentation.py\n",
    "\n",
    "import random\n",
    "\n",
    "random_number = random.randint(0,1) #inclusive\n",
    "\n",
    "if random_number == 0:\n",
    "    print (\"zero\")\n",
    "# else: # IndentationError: unindent does not match any outer indentation level\n",
    "    print (\"non-zero\")"
   ]
  },
  {
   "cell_type": "markdown",
   "metadata": {},
   "source": [
    "## Dynamic Typing"
   ]
  },
  {
   "cell_type": "code",
   "execution_count": 55,
   "metadata": {},
   "outputs": [
    {
     "name": "stdout",
     "output_type": "stream",
     "text": [
      "<class 'int'>\n",
      "<class 'str'>\n"
     ]
    }
   ],
   "source": [
    "x = 42\n",
    "print(type(x)) # int\n",
    "x = \"Hello\"\n",
    "print(type(x)) # string"
   ]
  },
  {
   "cell_type": "markdown",
   "metadata": {
    "collapsed": true
   },
   "source": [
    "## Variables"
   ]
  },
  {
   "cell_type": "code",
   "execution_count": 9,
   "metadata": {},
   "outputs": [
    {
     "data": {
      "text/plain": [
       "10"
      ]
     },
     "execution_count": 9,
     "metadata": {},
     "output_type": "execute_result"
    }
   ],
   "source": [
    "# variables can be defined and values can be assigned\n",
    "x = 2\n",
    "y = 5\n",
    "xy = 2*5\n",
    "xy"
   ]
  },
  {
   "cell_type": "code",
   "execution_count": 10,
   "metadata": {},
   "outputs": [
    {
     "name": "stdout",
     "output_type": "stream",
     "text": [
      "True\n",
      "数量 =  42\n",
      "Positive\n"
     ]
    }
   ],
   "source": [
    "my_string = \"hello\"\n",
    "\n",
    "my_int = 10\n",
    "my_float = 3.141592\n",
    "my_bool = True\n",
    "print (my_bool)\n",
    "\n",
    "数量 = 42\n",
    "print (\"数量 = \", 数量)\n",
    "\n",
    "x = 3\n",
    "if x < 0:\n",
    "    print('Negative')\n",
    "elif x == 0:\n",
    "    print('Zero')\n",
    "elif x > 0:\n",
    "    print('Positive')\n",
    "else:\n",
    "    print('Do we get here?') # un-reachable code\n"
   ]
  },
  {
   "cell_type": "code",
   "execution_count": 11,
   "metadata": {},
   "outputs": [
    {
     "data": {
      "text/plain": [
       "2"
      ]
     },
     "execution_count": 11,
     "metadata": {},
     "output_type": "execute_result"
    }
   ],
   "source": [
    "# multiple assignts in single statement\n",
    "x = y = 1\n",
    "x+y"
   ]
  },
  {
   "cell_type": "markdown",
   "metadata": {},
   "source": [
    "## Arithmetic Operators"
   ]
  },
  {
   "cell_type": "code",
   "execution_count": 12,
   "metadata": {},
   "outputs": [
    {
     "name": "stdout",
     "output_type": "stream",
     "text": [
      "13\n",
      "7\n",
      "30\n",
      "3.3333333333333335\n",
      "1\n",
      "3\n",
      "1000\n"
     ]
    }
   ],
   "source": [
    "# arithmetic operators\n",
    "print(10+3) # addition\n",
    "print(10-3) # subtraction\n",
    "print(10*3) # division\n",
    "print(10/3) # multiplication\n",
    "print(10%3) # mod\n",
    "print(10//3) # floor division\n",
    "print(10**3) # power"
   ]
  },
  {
   "cell_type": "markdown",
   "metadata": {},
   "source": [
    "## Relational Operators"
   ]
  },
  {
   "cell_type": "code",
   "execution_count": 13,
   "metadata": {},
   "outputs": [
    {
     "name": "stdout",
     "output_type": "stream",
     "text": [
      "True\n",
      "True\n",
      "False\n",
      "False\n",
      "True\n",
      "True\n"
     ]
    }
   ],
   "source": [
    "# relational operators\n",
    "x = 42\n",
    "print(x == 42) # equal\n",
    "print(x != 43) # not equal\n",
    "print(x <  42) # less than\n",
    "print(x >  42) # greater than\n",
    "print(x <= 42) # less than or equal\n",
    "print(x >= 42) # greater than or equal"
   ]
  },
  {
   "cell_type": "markdown",
   "metadata": {},
   "source": [
    "## Logical Operators"
   ]
  },
  {
   "cell_type": "code",
   "execution_count": 14,
   "metadata": {},
   "outputs": [
    {
     "name": "stdout",
     "output_type": "stream",
     "text": [
      "False\n",
      "True\n",
      "False\n"
     ]
    }
   ],
   "source": [
    "# logical operators\n",
    "x = True\n",
    "y = False\n",
    "print(x and y) # true if both operands are true, false otherwise\n",
    "print(x or y)  # true if either operand is true, false otherwise\n",
    "print(not x)   # true if operand false, false otherwise"
   ]
  },
  {
   "cell_type": "markdown",
   "metadata": {},
   "source": [
    "## Bitwise Operators"
   ]
  },
  {
   "cell_type": "code",
   "execution_count": 15,
   "metadata": {},
   "outputs": [
    {
     "name": "stdout",
     "output_type": "stream",
     "text": [
      "0\n",
      "7\n",
      "7\n",
      "-6\n",
      "1\n",
      "20\n"
     ]
    }
   ],
   "source": [
    "# bitwise operators\n",
    "x = 5        #               00000101\n",
    "print(x & 2) # and           00000000 =  00000101 & 00000010\n",
    "print(x | 2) # or            00000111 =  00000101 | 00000010\n",
    "print(x ^ 2) # xor           00000111 =  00000101 ^ 00000010\n",
    "print(~x)  # not             11111010 = ~00000101\n",
    "print(x >> 2) # shift right  00000001 = 00000101 >> 2\n",
    "print(x << 2) # shift left   00010100 = 00000101 << 2"
   ]
  },
  {
   "cell_type": "markdown",
   "metadata": {},
   "source": [
    "## Assignment Operators"
   ]
  },
  {
   "cell_type": "code",
   "execution_count": 23,
   "metadata": {},
   "outputs": [
    {
     "name": "stdout",
     "output_type": "stream",
     "text": [
      "5\n",
      "20\n",
      "15\n",
      "75\n",
      "18.75\n",
      "4.75\n",
      "2.0\n",
      "32.0\n",
      "32\n",
      "37\n",
      "0\n",
      "0\n",
      "5\n",
      "2\n",
      "64\n"
     ]
    }
   ],
   "source": [
    "# assignment operators\n",
    "x = 5      # x = 5          ->  5\n",
    "print(x)\n",
    "x += 15    # x = x + 15     -> 20\n",
    "print(x)\n",
    "x -= 5     # x = x - 5      -> 15\n",
    "print(x)\n",
    "x *= 5     # x = x * 5      -> 75\n",
    "print(x)\n",
    "x /= 4     # x = x / 4      -> 18.75\n",
    "print(x)\n",
    "x %= 7     # x = x % 7      ->  4.75\n",
    "print(x)\n",
    "x //= 2    # x = x // 5      ->  2.0\n",
    "print(x)\n",
    "x **= 5    # x = x ** 5      -> 32.0\n",
    "print(x)\n",
    "x = int(x) # need int for bitwise ops -> 32\n",
    "print(x)\n",
    "x |= 5     # x = x | 2   -> 37\n",
    "print(x)\n",
    "x &= 2\n",
    "print(x)\n",
    "x = x & 2  # x = x & 2   ->  0\n",
    "print(x)\n",
    "x ^= 5     # x = x ^ 2   ->  5\n",
    "print(x)\n",
    "x >>= 1    # x = x >> 1  ->  2 \n",
    "print(x)\n",
    "x <<= 5    # x = x << 5  -> 64\n",
    "print(x)"
   ]
  },
  {
   "cell_type": "code",
   "execution_count": 24,
   "metadata": {},
   "outputs": [
    {
     "name": "stdout",
     "output_type": "stream",
     "text": [
      "42\n"
     ]
    }
   ],
   "source": [
    "#del.py\n",
    "\n",
    "x = 42\n",
    "print(x)\n",
    "\n",
    "del(x)\n",
    "#print(x) # NameError: name 'x' is not defined"
   ]
  },
  {
   "cell_type": "markdown",
   "metadata": {
    "collapsed": true
   },
   "source": [
    "## Identity Operators\n",
    "\n",
    "```is``` True only if the operands are identical (refer to the same object)  \n",
    "```is not``` True only if the operands are not identical (do not refer to the same object)  "
   ]
  },
  {
   "cell_type": "code",
   "execution_count": 25,
   "metadata": {},
   "outputs": [
    {
     "name": "stdout",
     "output_type": "stream",
     "text": [
      "True\n",
      "False\n",
      "True\n",
      "False\n",
      "True\n",
      "False\n",
      "False\n",
      "True\n",
      "False\n",
      "True\n"
     ]
    }
   ],
   "source": [
    "x = 42\n",
    "y = 42 # equal and identical (pooling)\n",
    "print(x is y)      # True\n",
    "print(x is not y)  # False\n",
    "\n",
    "x = 'Hello'\n",
    "y = 'Hello' # equal and identical (pooling)\n",
    "print(x is y)      # True\n",
    "print(x is not y)  # False\n",
    "\n",
    "x = 'Hello'\n",
    "y = \"Hel\" + \"lo\" # equal and identical (pooling)\n",
    "print(x is y)      # True\n",
    "print(x is not y)  # False\n",
    "\n",
    "x = 'Hello'\n",
    "z1 = \"Hel\"\n",
    "z2 = \"lo\"\n",
    "y = z1 + z2        # equal but not identical (no pooling)\n",
    "print(x is y)      # False\n",
    "print(x is not y)  # True\n",
    "\n",
    "x = [1,2,3]\n",
    "y = [1,2,3] # equal but not identical (no pooling)\n",
    "\n",
    "print(x is y)      # False\n",
    "print(x is not y)  # True\n"
   ]
  },
  {
   "cell_type": "markdown",
   "metadata": {
    "collapsed": true
   },
   "source": [
    "## Membership Operators\n",
    "\n",
    "- ```in``` True only if value/variable is found in sequence\n",
    "- ```not in``` True if value/variable is not found in sequence"
   ]
  },
  {
   "cell_type": "code",
   "execution_count": 2,
   "metadata": {},
   "outputs": [
    {
     "name": "stdout",
     "output_type": "stream",
     "text": [
      "True\n",
      "True\n",
      "True\n",
      "False\n",
      "False\n",
      "True\n"
     ]
    }
   ],
   "source": [
    "x = 'Hello world'\n",
    "y = {1:'a', 2:'b'}\n",
    "\n",
    "print('H' in x)          # True\n",
    "print('hello' not in x)  # True\n",
    "print(1 in y)            # True\n",
    "print('a' in y)          # False\n",
    "print('w' not in x)      # False\n",
    "print('z' not in x)      # True"
   ]
  },
  {
   "cell_type": "markdown",
   "metadata": {},
   "source": [
    "# Round-Off Error"
   ]
  },
  {
   "cell_type": "code",
   "execution_count": 2,
   "metadata": {},
   "outputs": [
    {
     "name": "stdout",
     "output_type": "stream",
     "text": [
      "0.1\n",
      "0.2\n",
      "0.30000000000000004\n",
      "0.1\n",
      "0.2\n",
      "0.30000000000000004\n",
      "Strange, but you actually get this!\n",
      "Strange, but you actually get this!\n",
      "0.30000000000000004\n"
     ]
    }
   ],
   "source": [
    "x = 1/10\n",
    "y = 1/5\n",
    "print(x)\n",
    "print(y)\n",
    "print (x + y)\n",
    "\n",
    "x = 0.1\n",
    "y = 0.2\n",
    "print(x)\n",
    "print(y)\n",
    "print (x + y)\n",
    "\n",
    "if 1/10 + 2/10 == 3/10:\n",
    "    print (\"You might expect this...\")\n",
    "else:\n",
    "    print (\"Strange, but you actually get this!\")\n",
    "\n",
    "if 0.1 + 0.2 == 0.3:\n",
    "    print (\"You might expect this...\")\n",
    "else:\n",
    "    print (\"Strange, but you actually get this!\")\n",
    "    \n",
    "print(0.1 + 0.2) # look at the least significant digit"
   ]
  },
  {
   "cell_type": "markdown",
   "metadata": {},
   "source": [
    "## Functions"
   ]
  },
  {
   "cell_type": "code",
   "execution_count": 28,
   "metadata": {},
   "outputs": [
    {
     "name": "stdout",
     "output_type": "stream",
     "text": [
      "3\n",
      "Hello\n",
      "[4]\n"
     ]
    }
   ],
   "source": [
    "#by_value_vs_by_reference\n",
    "\n",
    "def func1 (x):\n",
    "    x += 1\n",
    "x = 3\n",
    "func1(x) #immutable types such as integers cannot be changed by called function\n",
    "print (x)\n",
    "\n",
    "def func2 (y):\n",
    "    y += \"!\"\n",
    "y = \"Hello\"\n",
    "func2(y) #immutable types such as strings cannot be changed by called function\n",
    "print (y)\n",
    "\n",
    "def func3 (z):\n",
    "    z[0] += 1\n",
    "z = [3]\n",
    "func3(z) #mutable types such as lists can be changed by called function\n",
    "print (z)"
   ]
  },
  {
   "cell_type": "markdown",
   "metadata": {},
   "source": [
    "## Modules and Packages"
   ]
  },
  {
   "cell_type": "code",
   "execution_count": 29,
   "metadata": {},
   "outputs": [
    {
     "name": "stdout",
     "output_type": "stream",
     "text": [
      "3.141592653589793\n",
      "3\n",
      "39\n",
      "93\n",
      "10\n",
      "20\n",
      "40\n",
      "52\n",
      "62\n",
      "76\n",
      "19\n",
      "3.6.3 |Anaconda custom (64-bit)| (default, Oct 15 2017, 03:27:45) [MSC v.1900 64 bit (AMD64)]\n",
      "123-1234 is valid\n",
      "XYZ-1234 is rejected\n",
      "5555-123 is rejected\n",
      "Hello World is rejected\n"
     ]
    }
   ],
   "source": [
    "#import_module.py\n",
    "\n",
    "import math\n",
    "print (math.pi)\n",
    "\n",
    "import random as random_alias\n",
    "for _ in range(10):\n",
    "   print (random_alias.randint(1, 100))\n",
    "   \n",
    "\n",
    "from sys import version\n",
    "print (version)\n",
    "\n",
    "import re\n",
    "\n",
    "for test_string in ['123-1234', 'XYZ-1234', '5555-123', 'Hello World']:\n",
    "    if re.match(r'^\\d{3}-\\d{4}$', test_string):\n",
    "        print (test_string, 'is valid')\n",
    "    else:\n",
    "        print (test_string, 'is rejected')"
   ]
  },
  {
   "cell_type": "markdown",
   "metadata": {},
   "source": [
    "# The ```sys_path``` Variable"
   ]
  },
  {
   "cell_type": "code",
   "execution_count": 30,
   "metadata": {},
   "outputs": [
    {
     "name": "stdout",
     "output_type": "stream",
     "text": [
      "['', 'C:\\\\Users\\\\peterthor\\\\Anaconda3\\\\python36.zip', 'C:\\\\Users\\\\peterthor\\\\Anaconda3\\\\DLLs', 'C:\\\\Users\\\\peterthor\\\\Anaconda3\\\\lib', 'C:\\\\Users\\\\peterthor\\\\Anaconda3', 'C:\\\\Users\\\\peterthor\\\\Anaconda3\\\\lib\\\\site-packages', 'C:\\\\Users\\\\peterthor\\\\Anaconda3\\\\lib\\\\site-packages\\\\Babel-2.5.0-py3.6.egg', 'C:\\\\Users\\\\peterthor\\\\Anaconda3\\\\lib\\\\site-packages\\\\win32', 'C:\\\\Users\\\\peterthor\\\\Anaconda3\\\\lib\\\\site-packages\\\\win32\\\\lib', 'C:\\\\Users\\\\peterthor\\\\Anaconda3\\\\lib\\\\site-packages\\\\Pythonwin', 'C:\\\\Users\\\\peterthor\\\\Anaconda3\\\\lib\\\\site-packages\\\\IPython\\\\extensions', 'C:\\\\Users\\\\peterthor\\\\.ipython']\n"
     ]
    }
   ],
   "source": [
    "# Python looks for modules in directories defined in sys.path\n",
    "\n",
    "import sys\n",
    "print (sys.path)"
   ]
  },
  {
   "cell_type": "markdown",
   "metadata": {},
   "source": [
    "# The ```is``` Operator"
   ]
  },
  {
   "cell_type": "code",
   "execution_count": 31,
   "metadata": {},
   "outputs": [
    {
     "name": "stdout",
     "output_type": "stream",
     "text": [
      "True\n",
      "False\n",
      "True\n",
      "True\n",
      "1405772224\n",
      "1405772224\n",
      "True\n",
      "True\n",
      "1405775104\n",
      "1405775104\n",
      "True\n",
      "False\n",
      "1644796211504\n",
      "1644796211248\n",
      "True\n",
      "False\n",
      "True\n",
      "True\n",
      "True\n",
      "True\n"
     ]
    }
   ],
   "source": [
    "x = [1,2,3]\n",
    "y = [1,2,3]\n",
    "print (x == y) # True -> contents are same\n",
    "print (x is y) # False -> object instances are not same\n",
    "\n",
    "# identity vs equality\n",
    "# is is the identity comparison\n",
    "# == is the equality comparison\n",
    "\n",
    "\"\"\"\n",
    "NOTE: Python caches small ints (up to 255) for eficiency.\n",
    "\"\"\"\n",
    "\n",
    "a = 10\n",
    "b = 9+1\n",
    "print(a == b)\n",
    "print(a is b) #small numbers cached in memory\n",
    "print (id(a))\n",
    "print (id(b))\n",
    "       \n",
    "a = 100\n",
    "b = 99+1\n",
    "print(a == b)\n",
    "print(a is b) #small numbers cached in memory\n",
    "print (id(a))\n",
    "print (id(b))\n",
    "\n",
    "a = 1000\n",
    "b = 999+1\n",
    "print(a == b)\n",
    "print(a is b) #larger numbers not cached in memory\n",
    "print (id(a))\n",
    "print (id(b))\n",
    "\n",
    "print ([] == [])\n",
    "print ([] is []) #list is mutable and stored in different memory\n",
    "\n",
    "print (() == ())\n",
    "print (() is ()) #tuple is immutable and shared in same memory\n",
    "\n",
    "print (\"Python\" == \"Python\")\n",
    "print (\"Python\" is \"Python\") #equal string literals are shared in same memory"
   ]
  },
  {
   "cell_type": "markdown",
   "metadata": {},
   "source": [
    "# Multiline Statements"
   ]
  },
  {
   "cell_type": "code",
   "execution_count": 3,
   "metadata": {},
   "outputs": [
    {
     "name": "stdout",
     "output_type": "stream",
     "text": [
      "6\n",
      "multiple statements\n",
      "...in a single line of code\n"
     ]
    }
   ],
   "source": [
    "# multi-statement line\n",
    "sum = 1 + \\\n",
    "   2 + \\\n",
    "   3\n",
    "print (sum)\n",
    "\n",
    "# multi-statement line uses semicolon\n",
    "print(\"multiple statements\"); print(\"...in a single line of code\")"
   ]
  },
  {
   "cell_type": "markdown",
   "metadata": {},
   "source": [
    "# Multiple Assignment Statements"
   ]
  },
  {
   "cell_type": "code",
   "execution_count": 7,
   "metadata": {},
   "outputs": [
    {
     "name": "stdout",
     "output_type": "stream",
     "text": [
      "42\n",
      "42\n",
      "42\n",
      "42\n",
      "1\n",
      "2\n",
      "True\n",
      "False\n",
      "2\n",
      "1\n"
     ]
    }
   ],
   "source": [
    "a = b = c = d = 42   # Assign same value to multiple variables in one line.\n",
    "print(a)\n",
    "print(b)\n",
    "print(c)\n",
    "print(d)\n",
    "\n",
    "x, y = 1, 2          # Assign individual values to multiple variables in one line.\n",
    "print (x)\n",
    "print(y)\n",
    "\n",
    "x=True; y=False      # Semicolons delimit multiple statements in one line.\n",
    "print (x)\n",
    "print(y)\n",
    "\n",
    "x = 1\n",
    "y = 2\n",
    "x, y = y, x          # Swap assignment in one line.\n",
    "print (x)\n",
    "print(y)"
   ]
  },
  {
   "cell_type": "markdown",
   "metadata": {},
   "source": [
    "# The ```pass``` Keyword"
   ]
  },
  {
   "cell_type": "code",
   "execution_count": 34,
   "metadata": {
    "collapsed": true
   },
   "outputs": [],
   "source": [
    "def func():\n",
    "    pass # avoids error: unexpected EOF while parsing\n",
    "\n",
    "func()"
   ]
  },
  {
   "cell_type": "code",
   "execution_count": null,
   "metadata": {
    "collapsed": true
   },
   "outputs": [],
   "source": []
  }
 ],
 "metadata": {
  "kernelspec": {
   "display_name": "Python 3",
   "language": "python",
   "name": "python3"
  },
  "language_info": {
   "codemirror_mode": {
    "name": "ipython",
    "version": 3
   },
   "file_extension": ".py",
   "mimetype": "text/x-python",
   "name": "python",
   "nbconvert_exporter": "python",
   "pygments_lexer": "ipython3",
   "version": "3.8.5"
  }
 },
 "nbformat": 4,
 "nbformat_minor": 2
}
