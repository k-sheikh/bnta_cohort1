{
 "cells": [
  {
   "cell_type": "markdown",
   "metadata": {},
   "source": [
    "# String"
   ]
  },
  {
   "cell_type": "code",
   "execution_count": 1,
   "metadata": {},
   "outputs": [
    {
     "name": "stdout",
     "output_type": "stream",
     "text": [
      "foo\n",
      "bar\n"
     ]
    }
   ],
   "source": [
    "# Strings Literals\n",
    "print(\"foo\")\n",
    "print('bar')"
   ]
  },
  {
   "cell_type": "code",
   "execution_count": 2,
   "metadata": {},
   "outputs": [
    {
     "name": "stdout",
     "output_type": "stream",
     "text": [
      "6\n"
     ]
    }
   ],
   "source": [
    "# String Length\n",
    "print(len(\"foobar\"))"
   ]
  },
  {
   "cell_type": "code",
   "execution_count": 4,
   "metadata": {},
   "outputs": [
    {
     "name": "stdout",
     "output_type": "stream",
     "text": [
      "foobar\n"
     ]
    }
   ],
   "source": [
    "# String Concatenation\n",
    "print(\"foo\" + \"bar\")"
   ]
  },
  {
   "cell_type": "code",
   "execution_count": 5,
   "metadata": {},
   "outputs": [
    {
     "name": "stdout",
     "output_type": "stream",
     "text": [
      "foofoofoofoofoo\n"
     ]
    }
   ],
   "source": [
    "# String replication\n",
    "print(5*\"foo\")"
   ]
  },
  {
   "cell_type": "code",
   "execution_count": 13,
   "metadata": {},
   "outputs": [
    {
     "name": "stdout",
     "output_type": "stream",
     "text": [
      "\"The time has come,\" the Walrus said,\n",
      "\"To talk of many things:\n",
      "Of shoes--and ships--and sealing-wax--\n",
      "Of cabbages--and kings--\n",
      "And why the sea is boiling hot--\n",
      "And whether pigs have wings.\"\n",
      "\n",
      "\"But wait a bit,\" the Oysters cried,\n",
      "\"Before we have our chat;\n",
      "For some of us are out of breath,\n",
      "And all of us are fat!\"\n",
      "\"No hurry!\" said the Carpenter.\n",
      "They thanked him much for that.\n"
     ]
    }
   ],
   "source": [
    "# Multiline Strings\n",
    "print('''\"The time has come,\" the Walrus said,\n",
    "\"To talk of many things:\n",
    "Of shoes--and ships--and sealing-wax--\n",
    "Of cabbages--and kings--\n",
    "And why the sea is boiling hot--\n",
    "And whether pigs have wings.\"''')\n",
    "print()\n",
    "print(\"\"\"\\\"But wait a bit,\" the Oysters cried,\n",
    "\"Before we have our chat;\n",
    "For some of us are out of breath,\n",
    "And all of us are fat!\"\n",
    "\"No hurry!\" said the Carpenter.\n",
    "They thanked him much for that.\"\"\")"
   ]
  },
  {
   "cell_type": "code",
   "execution_count": 15,
   "metadata": {},
   "outputs": [
    {
     "name": "stdout",
     "output_type": "stream",
     "text": [
      "W\n",
      "r\n"
     ]
    }
   ],
   "source": [
    "# String Indexing\n",
    "print(\"Hello, World!\"[7])\n",
    "print(\"Hello, World!\"[-4])"
   ]
  },
  {
   "cell_type": "code",
   "execution_count": 25,
   "metadata": {},
   "outputs": [
    {
     "name": "stdout",
     "output_type": "stream",
     "text": [
      "llo\n",
      "Hello,\n",
      "llo, World!\n",
      "ld!\n",
      "HloWrd\n",
      "dlroW olleH\n"
     ]
    }
   ],
   "source": [
    "# String Slicing\n",
    "print(\"Hello, World!\"[2:5])\n",
    "print(\"Hello, World!\"[:6])\n",
    "print(\"Hello, World!\"[2:])\n",
    "print(\"Hello, World!\"[-3:])\n",
    "print(\"Hello World\"[::2])\n",
    "print(\"Hello World\"[::-1])"
   ]
  },
  {
   "cell_type": "code",
   "execution_count": 33,
   "metadata": {},
   "outputs": [
    {
     "name": "stdout",
     "output_type": "stream",
     "text": [
      "3\n",
      "Hello, World!\n",
      "hello, world!\n",
      "HELLO, WORLD!\n",
      "Hello, Universe!\n",
      "['Hello', 'World!']\n",
      "Hello-World-!\n"
     ]
    }
   ],
   "source": [
    "# Various String Methods\n",
    "print(\" Hello, World! \".count(\"l\")) # count occurrences of substring\n",
    "print(\" Hello, World! \".strip())    # remove leading and trailing whitespace\n",
    "print(\"Hello, World!\".lower())      # lowercase\n",
    "print(\"Hello, World!\".upper())      # uppercase\n",
    "print(\"Hello, World!\".replace(\"World\", \"Universe\")) # replace substring\n",
    "print(\"Hello, World!\".split(\", \"))  # split string into substrings on separator\n",
    "print(\"-\".join([\"Hello\", \"World\", \"!\"]))"
   ]
  },
  {
   "cell_type": "code",
   "execution_count": 34,
   "metadata": {},
   "outputs": [
    {
     "name": "stdout",
     "output_type": "stream",
     "text": [
      "My dog is 12.5 years old and weighs 12.6 pounds.\n"
     ]
    }
   ],
   "source": [
    "# String Formatting\n",
    "age = 12.5\n",
    "weight = 12.6\n",
    "str = \"My dog is {0} years old and weighs {1} pounds.\"\n",
    "print(str.format(age, weight ))"
   ]
  },
  {
   "cell_type": "code",
   "execution_count": 36,
   "metadata": {},
   "outputs": [
    {
     "name": "stdout",
     "output_type": "stream",
     "text": [
      "Edwards's nickname is \"Fast Eddie\".\n",
      "\n"
     ]
    }
   ],
   "source": [
    "# Escape Characters\n",
    "str = \"Edwards\\'s nickname is \\\"Fast Eddie\\\".\\n\"\n",
    "print(str)"
   ]
  },
  {
   "cell_type": "code",
   "execution_count": null,
   "metadata": {},
   "outputs": [],
   "source": []
  }
 ],
 "metadata": {
  "kernelspec": {
   "display_name": "Python 3",
   "language": "python",
   "name": "python3"
  },
  "language_info": {
   "codemirror_mode": {
    "name": "ipython",
    "version": 3
   },
   "file_extension": ".py",
   "mimetype": "text/x-python",
   "name": "python",
   "nbconvert_exporter": "python",
   "pygments_lexer": "ipython3",
   "version": "3.8.5"
  }
 },
 "nbformat": 4,
 "nbformat_minor": 4
}
