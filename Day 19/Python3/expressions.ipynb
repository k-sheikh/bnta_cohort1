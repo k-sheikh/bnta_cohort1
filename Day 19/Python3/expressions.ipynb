{
 "cells": [
  {
   "cell_type": "markdown",
   "metadata": {},
   "source": [
    "# Expressions\n",
    "\n",
    "- Built-in Types\n",
    "- Numeric Types\n",
    "- Floating Point Rounding and Truncation\n",
    "- Floating Point Approximate Representations\n",
    "- Truth Value Testing\n",
    "- Boolean Operators\n",
    "- Comparison Operators\n",
    "- Python Operator Precedence (PEMDAS)\n",
    "\n",
    "[Python 3 Cheat Sheet](https://perso.limsi.fr/pointal/_media/python:cours:mementopython3-english.pdf)"
   ]
  },
  {
   "cell_type": "markdown",
   "metadata": {},
   "source": [
    "## Built-in Types\n",
    "\n",
    "[Built-in Types Docs](https://docs.python.org/3.6/library/stdtypes.html)\n",
    "\n",
    "Standard types that are built into the interpreter:\n",
    "\n",
    "- Numeric (int, float, complex)\n",
    "- Boolean\n",
    "- String\n",
    "- Bytes\n",
    "- sequences\n",
    "- mappings\n",
    "- classes\n",
    "- instances\n",
    "- exceptions"
   ]
  },
  {
   "cell_type": "markdown",
   "metadata": {},
   "source": [
    "## Numeric Types\n",
    "\n",
    "- Integer has unlimited precision\n",
    "- Floating point is usually implemented a double\n",
    "- Complex has real and imaginary parts that are floating point numbers\n",
    "- Decimal holds floating-point numbers with user-definable precision (decimal module)\n",
    "- Fraction holds number as numerator and denominator (fractions module)"
   ]
  },
  {
   "cell_type": "code",
   "execution_count": 1,
   "metadata": {},
   "outputs": [
    {
     "name": "stdout",
     "output_type": "stream",
     "text": [
      "42 <class 'int'>\n",
      "85 <class 'int'>\n",
      "10 <class 'int'>\n",
      "243 <class 'int'>\n",
      "3.141592 <class 'float'>\n",
      "Avogadro 6.022140857e+23\n",
      "(3+4j) <class 'complex'>\n",
      "(4+5j) <class 'complex'>\n",
      "1.0 <class 'float'>\n",
      "(6.123233995736766e-17+1j) <class 'complex'>\n",
      "0.142857\n",
      "<class 'decimal.Decimal'>\n",
      "0.1428571428571428571428571429\n",
      "<class 'decimal.Decimal'>\n",
      "-8/5\n",
      "<class 'fractions.Fraction'>\n",
      "2/3\n",
      "1/9\n",
      "1/0 ->  division by zero\n",
      "1.0/0.0 ->  float division by zero\n",
      "0.2+0.2==0.4 ->  True\n",
      "(0.2+0.2)-0.4 ->  0.0\n",
      "0.1+0.2==0.3 ->  False\n",
      "(0.1+0.2)-0.3 ->  5.551115123125783e-17\n"
     ]
    }
   ],
   "source": [
    "print(42, type(42))                       # int\n",
    "print(0b1010101, type(0b1010101))         # binary int -> 1*64 + 0*32 + 1*16 + 0*8 + 1*4 + 0*2 + 1*1 = 64 + 16 + 4 + 1 = 85\n",
    "print(0o12, type(0o12))                   # octal int -> 1*8 + 2*1 = 10\n",
    "print(0xF3, type(0xF3))                   # hex int -> 15*16 + 3*1 = 243\n",
    "print(3.141592, type(3.141592))           # float\n",
    "print(\"Avogadro\", 6.022140857e23)         # float 6.022140857 × 10^23\n",
    "print(3+4j, type(3+4j))                   # complex\n",
    "print(complex(4,5), type(complex(4,5)))   # complex\n",
    "import math\n",
    "print(math.sqrt(1), type(math.sqrt(1)))   # float -> 1.0\n",
    "print((-1)**0.5, type((-1)**0.5))         # complex -> 0.0 + 1.0j\n",
    "from decimal import *\n",
    "getcontext().prec = 6\n",
    "print(Decimal(1) / Decimal(7))            # 0.142857\n",
    "print(type(Decimal(1) / Decimal(7)))      # decimal.Decimal\n",
    "getcontext().prec = 28\n",
    "print(Decimal(1) / Decimal(7))            # 0.1428571428571428571428571429\n",
    "print(type(Decimal(1) / Decimal(7)))      # decimal.Decimal\n",
    "from fractions import Fraction\n",
    "print(Fraction(16, -10))                  # -8/5\n",
    "print(type(Fraction(16, -10)))            # fractions.Fraction\n",
    "print(Fraction(1, 3) + Fraction(1, 3))    # 2/3\n",
    "print(Fraction(1, 3) * Fraction(1, 3))    # 1/9\n",
    "try:\n",
    "    1/0\n",
    "except ZeroDivisionError as error:\n",
    "    print(\"1/0 -> \", error)               # division by zero\n",
    "try:\n",
    "    1.0/0.0\n",
    "except ZeroDivisionError as error:\n",
    "    print(\"1.0/0.0 -> \", error)           # float division by zero (not IEEE compliant)\n",
    "print(\"0.2+0.2==0.4 -> \", 0.2+0.2==0.4)   # True (no roundoff error)\n",
    "print(\"(0.2+0.2)-0.4 -> \", (0.2+0.2)-0.4) # 0.0 (no roundoff error)\n",
    "print(\"0.1+0.2==0.3 -> \", 0.1+0.2==0.3)   # False (roundoff error)\n",
    "print(\"(0.1+0.2)-0.3 -> \", (0.1+0.2)-0.3) # 5.551115123125783e-17 (roundoff error)"
   ]
  },
  {
   "cell_type": "markdown",
   "metadata": {},
   "source": [
    "## Floating Point Rounding and Truncation\n",
    "\n",
    "- ```round()```\n",
    "- ```trunc()```\n",
    "- ```floor()```\n",
    "- ```ceil()```"
   ]
  },
  {
   "cell_type": "code",
   "execution_count": 3,
   "metadata": {},
   "outputs": [
    {
     "name": "stdout",
     "output_type": "stream",
     "text": [
      "3.14\n",
      "3\n",
      "3\n",
      "3\n",
      "4\n"
     ]
    }
   ],
   "source": [
    "# Numeric Rounding and Truncation\n",
    "\n",
    "x = 3.141592\n",
    "n = 2\n",
    "\n",
    "print(round(x, n))   # x rounded to n digits, rounding half to even.\n",
    "print(round(x))      # If n is omitted, it defaults to 0.\n",
    "\n",
    "import math\n",
    "print(math.trunc(x)) # x truncated to Integral\n",
    "print(math.floor(x)) # the greatest Integral <= x\n",
    "print(math.ceil(x))  # the least Integral >= x\n",
    "\n",
    "#print(round(2.2+3.3j, n)) # TypeError: type complex doesn't define __round__ method"
   ]
  },
  {
   "cell_type": "markdown",
   "metadata": {},
   "source": [
    "## Floating Point Approximate Represntations"
   ]
  },
  {
   "cell_type": "code",
   "execution_count": 1,
   "metadata": {},
   "outputs": [
    {
     "name": "stdout",
     "output_type": "stream",
     "text": [
      "\n",
      "Floats:\n",
      "0.5 + 0.25 -> 0.75\n",
      "0.5 + 0.25 == 0.75 -> True\n",
      "0.1 + 0.2 -> 0.30000000000000004\n",
      "0.1 + 0.2 == 0.3 -> False\n",
      "\n",
      "Fractions:\n",
      "1/2 + 1/4 -> 0.75\n",
      "1/2 + 1/4 == 3/4 -> True\n",
      "1/10 + 1/5 -> 0.3\n",
      "1/10 + 1/5 == 3/10 -> True\n"
     ]
    }
   ],
   "source": [
    "print(\"\\nFloats:\")\n",
    "\n",
    "# exact representations\n",
    "# 0.50 base 10 is 0.10 base 2\n",
    "# 0.25 base 10 is 0.01 base 2\n",
    "# 0.75 base 10 is 0.11 base 2\n",
    "print(0.50, \"+\", 0.25, \"->\", 0.50 + 0.25)\n",
    "print(0.50, \"+\", 0.25, \"==\", 0.75, \"->\", 0.50 + 0.25 == 0.75) # True\n",
    "\n",
    "# inexact representations\n",
    "# 0.1 base 10 is 0.00011001100110011...\n",
    "# 0.2 base 10 is 0.0011001100110011...\n",
    "# 0.3 base 10 is 0.010011001100110011...\n",
    "print(0.1, \"+\", 0.2, \"->\", 0.1 + 0.2)\n",
    "print(0.1, \"+\", 0.2, \"==\", 0.3, \"->\", 0.1 + 0.2 == 0.3) # False\n",
    "\n",
    "print(\"\\nFractions:\")\n",
    "\n",
    "from fractions import Fraction\n",
    "print(\"1/2 + 1/4\", \"->\", float(Fraction(1, 2) + Fraction(1, 4)))\n",
    "print(\"1/2 + 1/4 == 3/4\", \"->\", float(Fraction(1, 2) + Fraction(1, 4)) == float(Fraction(3, 4))) # True\n",
    "\n",
    "print(\"1/10 + 1/5\", \"->\", float(Fraction(1, 10) + Fraction(1, 5)))\n",
    "print(\"1/10 + 1/5 == 3/10\", \"->\", float(Fraction(1, 10) + Fraction(1, 5)) == float(Fraction(3, 10))) # True"
   ]
  },
  {
   "cell_type": "markdown",
   "metadata": {},
   "source": [
    "## Truth Value Testing\n",
    "\n",
    "Any object can be used as a truth value for use in an if or while condition or as operand of a Boolean expression.\n",
    "\n",
    "By default, an object is true unless its class defines either of the following:\n",
    "- a __bool__() method that returns False\n",
    "- a __len__() method that returns zero when called with the object.\n",
    "\n",
    "Note that most built-in objects are considered false:\n",
    "\n",
    "- Literal value False\n",
    "- Literal value None\n",
    "- Numeric value zero (0, 0.0, 0j, Decimal(0), Fraction(0, 1))\n",
    "- Empty sequences and collections ('', (), [], {}, set(), range(0))"
   ]
  },
  {
   "cell_type": "code",
   "execution_count": 2,
   "metadata": {},
   "outputs": [
    {
     "name": "stdout",
     "output_type": "stream",
     "text": [
      "\n",
      "Example False Values:\n",
      "bool(False) -> False \t <class 'bool'>\n",
      "bool(None) -> False \t <class 'NoneType'>\n",
      "bool(0) -> False \t <class 'int'>\n",
      "bool(0.0) -> False \t <class 'float'>\n",
      "bool(0j) -> False \t <class 'complex'>\n",
      "bool(0+0j) -> False \t <class 'complex'>\n",
      "bool(Decimal(0)) -> False \t <class 'decimal.Decimal'>\n",
      "bool(Fraction(0, 1)) -> False \t <class 'fractions.Fraction'>\n",
      "bool('') -> False \t <class 'str'>\n",
      "bool() -> False \t <class 'str'>\n",
      "bool(()) -> False \t <class 'tuple'>\n",
      "bool([]) -> False \t <class 'list'>\n",
      "bool({}) -> False \t <class 'dict'>\n",
      "bool(set()) -> False \t <class 'set'>\n",
      "bool(range(0)) -> False \t <class 'range'>\n",
      "\n",
      "Example True Values:\n",
      "bool(True) -> True \t <class 'bool'>\n",
      "bool(not None) -> True \t <class 'bool'>\n",
      "bool(1) -> True \t <class 'int'>\n",
      "bool(1.0) -> True \t <class 'float'>\n",
      "bool(1j) -> True \t <class 'complex'>\n",
      "bool(1+1j) -> True \t <class 'complex'>\n",
      "bool(Decimal(1)) -> True \t <class 'decimal.Decimal'>\n",
      "bool(Fraction(1, 1)) -> True \t <class 'fractions.Fraction'>\n",
      "bool('a') -> True \t <class 'str'>\n",
      "bool(\"a\") -> True \t <class 'str'>\n",
      "bool((1,)) -> True \t <class 'tuple'>\n",
      "bool([1]) -> True \t <class 'list'>\n",
      "bool({'a':1}) -> True \t <class 'dict'>\n",
      "bool(set('abc')) -> True \t <class 'set'>\n",
      "bool(range(10)) -> True \t <class 'range'>\n"
     ]
    }
   ],
   "source": [
    "# Truth Value Testing\n",
    "from decimal import Decimal\n",
    "from fractions import Fraction\n",
    "\n",
    "print(\"\\nExample False Values:\")\n",
    "print(\"bool(False) ->\", bool(False), \"\\t\", type(False))\n",
    "print(\"bool(None) ->\", bool(None), \"\\t\", type(None))\n",
    "print(\"bool(0) ->\", bool(0), \"\\t\", type(0))\n",
    "print(\"bool(0.0) ->\", bool(0.0), \"\\t\", type(0.0))\n",
    "print(\"bool(0j) ->\", bool(0j), \"\\t\", type(0j))\n",
    "print(\"bool(0+0j) ->\", bool(0+0j), \"\\t\", type(0+0j))\n",
    "print(\"bool(Decimal(0)) ->\", bool(Decimal(0)), \"\\t\", type(Decimal(0)))\n",
    "print(\"bool(Fraction(0, 1)) ->\", bool(Fraction(0, 1)), \"\\t\", type(Fraction(0, 1)))\n",
    "print(\"bool('') ->\", bool(''), \"\\t\", type(''))\n",
    "print(\"bool(\"\") ->\", bool(\"\"), \"\\t\", type(\"\"))\n",
    "print(\"bool(()) ->\", bool(()), \"\\t\", type(()))\n",
    "print(\"bool([]) ->\", bool([]), \"\\t\", type([]))\n",
    "print(\"bool({}) ->\", bool({}), \"\\t\", type({}))\n",
    "print(\"bool(set()) ->\", bool(set()), \"\\t\", type(set()))\n",
    "print(\"bool(range(0)) ->\", bool(range(0)), \"\\t\", type(range(0)))\n",
    "\n",
    "print(\"\\nExample True Values:\")\n",
    "print(\"bool(True) ->\", bool(True), \"\\t\", type(True))\n",
    "print(\"bool(not None) ->\", bool(not None), \"\\t\", type(not None))\n",
    "print(\"bool(1) ->\", bool(1), \"\\t\", type(1))\n",
    "print(\"bool(1.0) ->\", bool(1.0), \"\\t\", type(1.0))\n",
    "print(\"bool(1j) ->\", bool(1j), \"\\t\", type(1j))\n",
    "print(\"bool(1+1j) ->\", bool(1+1j), \"\\t\", type(1+1j))\n",
    "print(\"bool(Decimal(1)) ->\", bool(Decimal(1)), \"\\t\", type(Decimal(1)))\n",
    "print(\"bool(Fraction(1, 1)) ->\", bool(Fraction(1, 1)), \"\\t\", type(Fraction(1, 1)))\n",
    "print(\"bool('a') ->\", bool('a'), \"\\t\", type('a'))\n",
    "print('bool(\"a\") ->', bool(\"a\"), \"\\t\", type(\"a\"))\n",
    "print(\"bool((1,)) ->\", bool((1,)), \"\\t\", type((1,)))\n",
    "print(\"bool([1]) ->\", bool([1]), \"\\t\", type([1]))\n",
    "print(\"bool({'a':1}) ->\", bool({'a':1}), \"\\t\", type({'a':1}))\n",
    "print(\"bool(set('abc')) ->\", bool(set('abc')), \"\\t\", type(set('abc')))\n",
    "print(\"bool(range(10)) ->\", bool(range(10)), \"\\t\", type(range(10)))"
   ]
  },
  {
   "cell_type": "markdown",
   "metadata": {},
   "source": [
    "## Boolean Operators\n",
    "\n",
    "Boolean operations ordered by ascending priority:\n",
    "    \n",
    "- x or y\n",
    "- x and y\n",
    "- not x"
   ]
  },
  {
   "cell_type": "code",
   "execution_count": 3,
   "metadata": {},
   "outputs": [
    {
     "name": "stdout",
     "output_type": "stream",
     "text": [
      "Boolean or Operation\n",
      "\t False or False -> False\n",
      "\t False or True -> True\n",
      "\t True or False -> True\n",
      "\t True or True -> True\n",
      "Boolean and Operation\n",
      "\t False and False -> False\n",
      "\t False and True -> False\n",
      "\t True and False -> False\n",
      "\t True and True -> True\n",
      "Boolean not Operation\n",
      "\t not False -> True\n",
      "\t not True -> False\n"
     ]
    }
   ],
   "source": [
    "# Boolean Operations\n",
    "print(\"Boolean or Operation\")\n",
    "for x in [False, True]:\n",
    "    for y in [False, True]:\n",
    "        print(\"\\t\", x, \"or\", y, \"->\", x or y)\n",
    "        \n",
    "print(\"Boolean and Operation\")\n",
    "for x in [False, True]:\n",
    "    for y in [False, True]:\n",
    "        print(\"\\t\", x, \"and\", y, \"->\", x and y)\n",
    "\n",
    "print(\"Boolean not Operation\")\n",
    "for x in [False, True]:\n",
    "    print(\"\\t\", \"not\", x, \"->\", not x)"
   ]
  },
  {
   "cell_type": "markdown",
   "metadata": {},
   "source": [
    "## Short-Circuit Boolean Expressions"
   ]
  },
  {
   "cell_type": "code",
   "execution_count": 54,
   "metadata": {},
   "outputs": [
    {
     "name": "stdout",
     "output_type": "stream",
     "text": [
      "\n",
      "and\n",
      "if funcReturnTrue() and funcReturnTrue():\n",
      "funcReturnTrue\n",
      "funcReturnTrue\n",
      "if funcReturnFalse() and funcReturnFalse():\n",
      "funcReturnFalse\n",
      "if funcReturnTrue() and funcReturnFalse():\n",
      "funcReturnTrue\n",
      "funcReturnFalse\n",
      "if funcReturnFalse() and funcReturnTrue():\n",
      "funcReturnFalse\n",
      "\n",
      "or\n",
      "if funcReturnTrue() or funcReturnTrue():\n",
      "funcReturnTrue\n",
      "if funcReturnFalse() or funcReturnFalse():\n",
      "funcReturnFalse\n",
      "funcReturnFalse\n",
      "if funcReturnTrue() or funcReturnFalse():\n",
      "funcReturnTrue\n",
      "if funcReturnFalse() or funcReturnTrue():\n",
      "funcReturnFalse\n",
      "funcReturnTrue\n"
     ]
    }
   ],
   "source": [
    "def funcReturnTrue():\n",
    "    print(\"funcReturnTrue\")\n",
    "    return True\n",
    "\n",
    "def funcReturnFalse():\n",
    "    print(\"funcReturnFalse\")\n",
    "    return False\n",
    "\n",
    "# Short-Circuit with and Operator\n",
    "print(\"\\nand\")\n",
    "\n",
    "print(\"if funcReturnTrue() and funcReturnTrue():\")\n",
    "if funcReturnTrue() and funcReturnTrue():\n",
    "    pass\n",
    "\n",
    "print(\"if funcReturnFalse() and funcReturnFalse():\")\n",
    "if funcReturnFalse() and funcReturnFalse():\n",
    "    pass\n",
    "\n",
    "print(\"if funcReturnTrue() and funcReturnFalse():\")\n",
    "if funcReturnTrue() and funcReturnFalse():\n",
    "    pass\n",
    "\n",
    "print(\"if funcReturnFalse() and funcReturnTrue():\")\n",
    "if funcReturnFalse() and funcReturnTrue():\n",
    "    pass\n",
    "\n",
    "# Short-Circuit with or Operator\n",
    "print(\"\\nor\")\n",
    "\n",
    "print(\"if funcReturnTrue() or funcReturnTrue():\")\n",
    "if funcReturnTrue() or funcReturnTrue():\n",
    "    pass\n",
    "\n",
    "print(\"if funcReturnFalse() or funcReturnFalse():\")\n",
    "if funcReturnFalse() or funcReturnFalse():\n",
    "    pass\n",
    "\n",
    "print(\"if funcReturnTrue() or funcReturnFalse():\")\n",
    "if funcReturnTrue() or funcReturnFalse():\n",
    "    pass\n",
    "\n",
    "print(\"if funcReturnFalse() or funcReturnTrue():\")\n",
    "if funcReturnFalse() or funcReturnTrue():\n",
    "    pass"
   ]
  },
  {
   "cell_type": "markdown",
   "metadata": {},
   "source": [
    "## Comparison Operators\n",
    "\n",
    "- ```<``` strictly less than\n",
    "- ```<=``` less than or equal\n",
    "- ```>``` strictly greater than\n",
    "- ```>=``` greater than or equal\n",
    "- ```==``` equal \n",
    "- ```!=``` not equal\n",
    "- ```is``` object identity\n",
    "- ```is not``` negated object identity"
   ]
  },
  {
   "cell_type": "code",
   "execution_count": 12,
   "metadata": {},
   "outputs": [
    {
     "name": "stdout",
     "output_type": "stream",
     "text": [
      "True\n",
      "True\n",
      "True\n",
      "False\n",
      "False\n",
      "False\n"
     ]
    }
   ],
   "source": [
    "# Comparing identity vs value\n",
    "\n",
    "a = b = [1, 2, 3]\n",
    "# a and b have same value and same identity\n",
    "print(a == b) # True\n",
    "print(a is b) # True\n",
    "\n",
    "a = [1, 2, 3]\n",
    "b = [1, 2, 3]\n",
    "# a and b have same value but different identity\n",
    "print(a == b)  # True\n",
    "print(a is b ) # False\n",
    "\n",
    "a = [1, 2, 3]\n",
    "b = [3, 4, 5]\n",
    "# a and b have different value and different identity\n",
    "print(a == b)  # False\n",
    "print(a is b ) # False"
   ]
  },
  {
   "cell_type": "markdown",
   "metadata": {},
   "source": [
    "## Arithmetic Operations"
   ]
  },
  {
   "cell_type": "code",
   "execution_count": 22,
   "metadata": {},
   "outputs": [
    {
     "name": "stdout",
     "output_type": "stream",
     "text": [
      "7\n",
      "-1\n",
      "12\n",
      "0.75\n",
      "0\n",
      "3\n",
      "-3\n",
      "3\n",
      "3\n",
      "3\n",
      "3.0\n",
      "(3-4j)\n",
      "(0, 3)\n",
      "81\n",
      "81\n"
     ]
    }
   ],
   "source": [
    "x = 3\n",
    "y = 4\n",
    "c = (3+4j)\n",
    "print(x + y)           # add\n",
    "print(x - y)           # subtract\n",
    "print(x * y)           # multiply\n",
    "print(x / y)           # divide\n",
    "print(x // y)          # floored quotient of x/y\n",
    "print(x % y)           # remainder of x / y\n",
    "print(-x)              # negative\n",
    "print(+x)              # positive\n",
    "print(abs(x))          # absolute value (magnitude)\n",
    "print(int(x))          # x converted to integer\n",
    "print(float(x))        # convert to floating point\n",
    "print(c.conjugate())   # conjugate of complex number\n",
    "print(divmod(x, y))    # the pair (x // y, x % y)\n",
    "print(pow(x, y))       # x to power y\n",
    "print(x ** y)          # x to power of y"
   ]
  },
  {
   "cell_type": "markdown",
   "metadata": {},
   "source": [
    "## None, NaN, Inf and -Inf"
   ]
  },
  {
   "cell_type": "code",
   "execution_count": 75,
   "metadata": {},
   "outputs": [
    {
     "name": "stdout",
     "output_type": "stream",
     "text": [
      "None\n",
      "True\n",
      "\n",
      "inf\n",
      "-inf\n",
      "nan\n",
      "\n",
      "inf\n",
      "-inf\n",
      "nan\n",
      "\n",
      "True\n",
      "True\n",
      "inf\n",
      "\n",
      "False\n",
      "False\n",
      "nan\n"
     ]
    }
   ],
   "source": [
    "print(None)          # None\n",
    "print(None == None)  # True\n",
    "print()\n",
    "print(1e800)         # inf\n",
    "print(-1e800)        # -inf\n",
    "print(1e800/1e800)   # nan\n",
    "print()\n",
    "print(float('inf'))  # inf\n",
    "print(-float('inf')) # -inf\n",
    "print(float('nan'))  # nan\n",
    "print()\n",
    "inf1 = float('inf')\n",
    "inf2 = float('inf')\n",
    "print(inf1 == inf2)  # True\n",
    "print(inf1 > 1)      # True\n",
    "print(inf1 + inf2)   # Inf\n",
    "print()\n",
    "nan1 = float('nan')\n",
    "nan2 = float('nan')\n",
    "print(nan1 == nan2)  # False\n",
    "print(nan1 > 1)      # False\n",
    "print(nan1 + nan2)   # nan"
   ]
  },
  {
   "cell_type": "markdown",
   "metadata": {},
   "source": [
    "## Integers Bitwise Operators\n",
    "\n",
    "- ```|```  bitwise or\n",
    "- ```&```  bitwise and\n",
    "- ```^```  bitwise xor\n",
    "- ```<<``` shift left \n",
    "- ```>>``` shift right \n",
    "- ```~```  bitwise not"
   ]
  },
  {
   "cell_type": "code",
   "execution_count": null,
   "metadata": {},
   "outputs": [],
   "source": [
    "# Integers Bitwise Operators\n",
    "\n",
    "x = 3\n",
    "y = 6\n",
    "n = 2\n",
    "print(x | y)\t# bitwise or of x and y\n",
    "print(x ^ y)\t# bitwise exclusive or of x and y\n",
    "print(x & y)\t# bitwise and of x and y\n",
    "print(x << n)\t# x shifted left by n bits\n",
    "print(x >> n)\t# x shifted right by n bits\n",
    "print(~x)\t# bits inverted\t"
   ]
  },
  {
   "cell_type": "markdown",
   "metadata": {},
   "source": [
    "## Arithmetic Operator Precedence (PEMDAS)\n",
    "**P**arentheses  \n",
    "**E**xponents  \n",
    "**M**ultiplication and **D**ivision  \n",
    "**A**ddition and **S**ubtraction  "
   ]
  },
  {
   "cell_type": "code",
   "execution_count": 15,
   "metadata": {},
   "outputs": [
    {
     "name": "stdout",
     "output_type": "stream",
     "text": [
      "80\n",
      "80\n",
      "8000\n",
      "7\n",
      "7\n",
      "9\n",
      "2\n",
      "2\n",
      "-4\n"
     ]
    }
   ],
   "source": [
    "print(10 * 2 ** 3)        # Exponentiation before multiplication or addition\n",
    "print(10 * (2 ** 3))\n",
    "print((10 * 2) ** 3)\n",
    "\n",
    "print(1 + 2 * 3)     # Multiplication before addition or subtraction\n",
    "print(1 + (2 * 3))\n",
    "print((1 + 2) * 3)\n",
    "\n",
    "print(1 - 2 + 3)   # addition and subtraction evaluate left to right\n",
    "print((1 - 2) + 3)\n",
    "print(1 - (2 + 3))"
   ]
  },
  {
   "cell_type": "markdown",
   "metadata": {},
   "source": [
    "## Collection and Sequence Types\n",
    "\n",
    "- A collection contains an arbitrary number of member elements\n",
    "- A sequence can be indexed and iterated over (implements ```__getitem__``` and ```__len__``` methods)\n",
    "- Sequences are inherently ordered whereas collections have no inherent ordering\n",
    "- Lists, tuples, and strings are sequences\n",
    "- Sets and dictionaries are unordered collections\n",
    "\n",
    "## Collection and Sequence Docs\n",
    "\n",
    "- **List** https://docs.python.org/3/tutorial/datastructures.html#more-on-lists\n",
    "- **Tuple** https://docs.python.org/3/tutorial/datastructures.html#tuples-and-sequences\n",
    "- **String** https://docs.python.org/3.8/library/string.html\n",
    "- **Dictionary** https://docs.python.org/3/tutorial/datastructures.html#dictionaries\n",
    "- **Set** https://docs.python.org/3/tutorial/datastructures.html#sets\n",
    "- **Range** https://docs.python.org/3/library/stdtypes.html#ranges\n",
    "- **Mutable Sequence Types** https://docs.python.org/3/library/stdtypes.html#mutable-sequence-types\n",
    "- **Immutable Sequence Types** https://docs.python.org/3/library/stdtypes.html#immutable-sequence-types\n",
    "- **List Comprehensions** https://docs.python.org/3.8/tutorial/datastructures.html#list-comprehensions"
   ]
  },
  {
   "cell_type": "code",
   "execution_count": null,
   "metadata": {},
   "outputs": [],
   "source": []
  }
 ],
 "metadata": {
  "kernelspec": {
   "display_name": "Python 3",
   "language": "python",
   "name": "python3"
  },
  "language_info": {
   "codemirror_mode": {
    "name": "ipython",
    "version": 3
   },
   "file_extension": ".py",
   "mimetype": "text/x-python",
   "name": "python",
   "nbconvert_exporter": "python",
   "pygments_lexer": "ipython3",
   "version": "3.8.5"
  }
 },
 "nbformat": 4,
 "nbformat_minor": 2
}
