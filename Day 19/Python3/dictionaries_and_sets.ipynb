{
 "cells": [
  {
   "cell_type": "markdown",
   "metadata": {},
   "source": [
    "# Dictionaries and Sets"
   ]
  },
  {
   "cell_type": "markdown",
   "metadata": {},
   "source": [
    "## Dictionaries"
   ]
  },
  {
   "cell_type": "code",
   "execution_count": 1,
   "metadata": {},
   "outputs": [
    {
     "name": "stdout",
     "output_type": "stream",
     "text": [
      "<class 'dict'>\n",
      "{}\n",
      "{'x': 1, 'y': 2, 'z': 3}\n",
      "2\n",
      "{'x': 1, 'y': 42, 'z': 3}\n",
      "{'x': 1, 'y': 42}\n"
     ]
    }
   ],
   "source": [
    "coor = {} # empty dictionary\n",
    "print(type(coor))       # <class 'dict'>\n",
    "print(coor)             # {}\n",
    "coor[\"x\"] = 1           # add key-value pair\n",
    "coor[\"y\"] = 2           # add key-value pair\n",
    "coor[\"z\"] = 3           # add key-value pair\n",
    "print(coor)             # {'x': 1, 'y': 2, 'z': 3}\n",
    "print(coor[\"y\"])        # 2\n",
    "coor[\"y\"] = 42          # modify value\n",
    "print(coor)             # {'x': 1, 'y': 42, 'z': 3}\n",
    "del coor[\"z\"]           # delete key-value pair\n",
    "print(coor)             # {'x': 1, 'y': 42}"
   ]
  },
  {
   "cell_type": "code",
   "execution_count": 2,
   "metadata": {},
   "outputs": [
    {
     "name": "stdout",
     "output_type": "stream",
     "text": [
      "3\n",
      "\n",
      "dict_values(['Sally', 'Jones', 42])\n",
      "\n",
      "Sally\n",
      "Jones\n",
      "42\n",
      "\n",
      "dict_items([('firstName', 'Sally'), ('lastName', 'Jones'), ('age', 42)])\n",
      "\n",
      "firstName Sally\n",
      "lastName Jones\n",
      "age 42\n",
      "\n",
      "firstName Sally\n",
      "lastName Jones\n",
      "age 42\n",
      "\n",
      "{}\n"
     ]
    }
   ],
   "source": [
    "personDict = {\n",
    "    \"firstName\" : \"Sally\",\n",
    "    \"lastName\" : \"Jones\",\n",
    "    \"age\" : 42\n",
    "}\n",
    "\n",
    "print(len(personDict))\n",
    "print()\n",
    "\n",
    "print(personDict.values())\n",
    "print()\n",
    "\n",
    "for v in personDict.values():\n",
    "  print(v)\n",
    "print()\n",
    "\n",
    "print(personDict.items())\n",
    "print()\n",
    "\n",
    "for x, y in personDict.items():\n",
    "  print(x, y)\n",
    "print()\n",
    "\n",
    "for k in personDict:\n",
    "  print(k, personDict[k])\n",
    "print()\n",
    "\n",
    "personDict.clear()\n",
    "print(personDict)"
   ]
  },
  {
   "cell_type": "code",
   "execution_count": 4,
   "metadata": {},
   "outputs": [
    {
     "name": "stdout",
     "output_type": "stream",
     "text": [
      "{'brand': 'Ford', 'model': 'Mustang', 'year': 1967}\n"
     ]
    }
   ],
   "source": [
    "car_dict = dict(brand=\"Ford\", model=\"Mustang\", year=1967) # create using constructor\n",
    "print(car_dict)"
   ]
  },
  {
   "cell_type": "markdown",
   "metadata": {},
   "source": [
    "## Python Sets"
   ]
  },
  {
   "cell_type": "code",
   "execution_count": 5,
   "metadata": {},
   "outputs": [
    {
     "name": "stdout",
     "output_type": "stream",
     "text": [
      "3\n",
      "{'orange', 'banana', 'apple'}\n",
      "True\n",
      "{'orange', 'banana', 'apple', 'peach'}\n",
      "{'orange', 'banana', 'apple', 'peach'}\n"
     ]
    }
   ],
   "source": [
    "fruit_set = {\"apple\", \"banana\", \"orange\"}\n",
    "print(len(fruit_set))                      # 3\n",
    "print(fruit_set)                           # {'apple', 'banana', 'orange'}\n",
    "print(\"banana\" in fruit_set)               # True\n",
    "fruit_set.add(\"peach\")                     # item added to set\n",
    "print(fruit_set)                           # {'peach', 'apple', 'banana', 'orange'}\n",
    "fruit_set.add(\"banana\")                    # If element already in set then item is not added\n",
    "print(fruit_set)                           # {'peach', 'apple', 'banana', 'orange'}"
   ]
  },
  {
   "cell_type": "code",
   "execution_count": 6,
   "metadata": {},
   "outputs": [
    {
     "name": "stdout",
     "output_type": "stream",
     "text": [
      "orange\n",
      "banana\n",
      "apple\n",
      "pear\n"
     ]
    }
   ],
   "source": [
    "for item in {\"apple\", \"banana\", \"orange\", \"pear\"}:\n",
    "  print(item)"
   ]
  },
  {
   "cell_type": "code",
   "execution_count": 7,
   "metadata": {},
   "outputs": [
    {
     "name": "stdout",
     "output_type": "stream",
     "text": [
      "{2, 3, 6, 8, 9}\n",
      "{2, 3, 6, 8, 9, 'orange', 'mango', 'grapes'}\n",
      "{2, 3, 6, 8, 9, 'orange', 'mango'}\n"
     ]
    }
   ],
   "source": [
    "num_set = {2,  6,  9, 3, 8}\n",
    "print(num_set)  \n",
    "num_set.update([\"orange\", \"mango\", \"grapes\"])\n",
    "print(num_set)\n",
    "num_set.remove(\"grapes\")\n",
    "\n",
    "print(num_set)"
   ]
  },
  {
   "cell_type": "code",
   "execution_count": 8,
   "metadata": {},
   "outputs": [
    {
     "name": "stdout",
     "output_type": "stream",
     "text": [
      "{1, 2, 3, 4, 'c', 'd', 'a', 'b'}\n"
     ]
    }
   ],
   "source": [
    "set1 = {\"a\", \"b\" , \"c\", \"d\"}\n",
    "set2 = {1, 2, 3, 4}\n",
    "setUnion = set1.union(set2)\n",
    "print(setUnion)"
   ]
  },
  {
   "cell_type": "code",
   "execution_count": 9,
   "metadata": {},
   "outputs": [
    {
     "name": "stdout",
     "output_type": "stream",
     "text": [
      "{'mercury', 'venus', 'mars', 'earth'}\n",
      "{'earth', 'mars'}\n"
     ]
    }
   ],
   "source": [
    "planetSet = set((\"mercury\", \"venus\", \"earth\", \"mars\")) # NOTE: double parenthesis are required to see a single parameter tuple\n",
    "print(planetSet)\n",
    "print(planetSet.intersection(set((\"earth\", \"mars\", \"jupiter\", \"saturn\"))))"
   ]
  },
  {
   "cell_type": "code",
   "execution_count": null,
   "metadata": {},
   "outputs": [],
   "source": []
  }
 ],
 "metadata": {
  "kernelspec": {
   "display_name": "Python 3",
   "language": "python",
   "name": "python3"
  },
  "language_info": {
   "codemirror_mode": {
    "name": "ipython",
    "version": 3
   },
   "file_extension": ".py",
   "mimetype": "text/x-python",
   "name": "python",
   "nbconvert_exporter": "python",
   "pygments_lexer": "ipython3",
   "version": "3.8.5"
  }
 },
 "nbformat": 4,
 "nbformat_minor": 4
}
