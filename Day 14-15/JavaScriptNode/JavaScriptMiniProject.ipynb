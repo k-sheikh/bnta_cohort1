{
 "cells": [
  {
   "source": [
    "# JavaScript mini-project\n",
    "\n",
    "## What\n",
    "\n",
    "You will develop, in a team, a videogame! It will be an adventure game / trivia kind of game witha story (an RPG text-based videogame).\n",
    "\n",
    "You must decide the content of the project with the rest of your team.\n",
    "\n",
    "\n",
    "## How\n",
    "\n",
    "- Work in teams of 3 (or, exceptionally, 4) as assigned by Valeria\n",
    "\n",
    "- The code you write must run on Node.js, and run in the terminal (must use the Command Line Interface - CLI)\n",
    "\n",
    "- Remember to choose the collaboration tools soon with the rest of your team\n",
    "\n",
    "- Your code must use an OOP paradigm. Your first objective is not to make a great game, but to practice writing great code. So use good principles like DRY, good paradigms like OOP, ways of collaborating that result in great code, and explore patterns and packages that will improve your code.\n",
    "\n",
    "- You must use GitHub to collaborate: make use of pulls, pushes, branches, and pull requests where useful. If you are worried that the repo is not under your account, look into forking it in your own account at the end of the works.\n",
    "\n",
    "- You must be using an external package via NPM\n",
    "\n",
    "- Keep it simple: you have only 2 days\n",
    "\n",
    "- Remember this is the only project before the 2 projects where you need to present the result in front of clients, so see this as an opportunity to get ready for the real projects!\n",
    "\n",
    "- Share your insights and ask for recommendations on Discord: this is not a competition but a chance to learn the most from each other. It's also better to spot you are following the wrong direction early on\n",
    "\n",
    "- Your code has to be able to run with only installing NPM dependencies and then running node on a file.\n",
    "\n",
    "## Submission\n",
    "\n",
    "Submission is on Monday morning.\n",
    "\n",
    "You will need to post in the #submissions chat on Discord the following information:\n",
    "\n",
    "- The project name\n",
    "- The team members\n",
    "- URL of the GitHub repository of your team\n",
    "\n",
    "We will ask some random groups to present their work to the rest of the cohort.\n",
    "\n",
    "## Resources\n",
    "\n",
    "- Jump start code by Irene: https://github.com/nenoch/bnta-console-rpg/blob/master/index.js \n",
    "\n",
    "- https://areknawo.com/making-console-rpg-in-javascript/\n",
    "\n",
    "- https://www.codecademy.com/articles/getting-user-input-in-node-js\n",
    "\n",
    "- https://stackoverflow.com/questions/61394928/get-user-input-through-node-js-console\n"
   ],
   "cell_type": "markdown",
   "metadata": {}
  }
 ],
 "metadata": {
  "kernelspec": {
   "name": "python3",
   "display_name": "Python 3.9.2 64-bit",
   "metadata": {
    "interpreter": {
     "hash": "63fd5069d213b44bf678585dea6b12cceca9941eaf7f819626cde1f2670de90d"
    }
   }
  },
  "language_info": {
   "file_extension": ".js",
   "mimetype": "application/javascript",
   "name": "javascript",
   "version": "3.9.2-final"
  }
 },
 "nbformat": 4,
 "nbformat_minor": 4
}