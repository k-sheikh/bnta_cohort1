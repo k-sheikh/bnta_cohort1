{
 "cells": [
  {
   "cell_type": "markdown",
   "metadata": {},
   "source": [
    "# Iterators and Generators\n",
    "\n",
    "See: https://developer.mozilla.org/en-US/docs/Web/JavaScript/Guide/Iterators_and_Generators\n",
    "\n"
   ]
  },
  {
   "cell_type": "markdown",
   "metadata": {},
   "source": [
    "## Iterators\n",
    "\n",
    "* Iterators and Generators allow you to customize the behavior of for...of loops\n",
    "* An iterator is an object which defines a sequence of values and optionally a final return value\n",
    "* An iterator object implements the Iterator protocol (```next()``` method)\n",
    "* The ```next()``` method returns an object with two properties:\n",
    "    - ```value``` is next value in the iteration sequence\n",
    "    - ```done``` is true if and only if the last value in the sequence has been consumed\n",
    "* An iterator object can be iterated explicitly by repeatedly calling next()\n",
    "* After a terminating value is yielded then subsequent calls to ```next()``` return ```{done: true}```\n",
    "* The most common iterator in JavaScript is the Array iterator\n",
    "* Arrays are allocated in their entirety, but iterators are consumed only as necessary\n",
    "* Iterators can express sequences of unlimited size"
   ]
  },
  {
   "cell_type": "code",
   "execution_count": 1,
   "metadata": {},
   "outputs": [
    {
     "name": "stdout",
     "output_type": "stream",
     "text": [
      "1\n",
      "3\n",
      "5\n",
      "7\n",
      "9\n",
      "Iterated over sequence of size:  5\n"
     ]
    }
   ],
   "source": [
    "{\n",
    "function makeRangeIterator(start = 0, end = Infinity, step = 1) {\n",
    "    let nextIndex = start;\n",
    "    let iterationCount = 0;\n",
    "\n",
    "    const rangeIterator = {\n",
    "       next: function() {\n",
    "           let result;\n",
    "           if (nextIndex < end) {\n",
    "               result = { value: nextIndex, done: false }\n",
    "               nextIndex += step;\n",
    "               iterationCount++;\n",
    "               return result;\n",
    "           }\n",
    "           return { value: iterationCount, done: true }\n",
    "       }\n",
    "    };\n",
    "    return rangeIterator;\n",
    "}\n",
    "\n",
    "const it = makeRangeIterator(1, 10, 2);\n",
    "\n",
    "let result = it.next();\n",
    "while (!result.done) {\n",
    "    console.log(result.value); // 1 3 5 7 9\n",
    "    result = it.next();\n",
    "}\n",
    "\n",
    "console.log(\"Iterated over sequence of size: \", result.value);\n",
    "}"
   ]
  },
  {
   "cell_type": "markdown",
   "metadata": {},
   "source": [
    "## Generators\n",
    "\n",
    "* Iterators requires careful programming to explicitly maintain internal state\n",
    "* Generators are similar to iterators but implementation is simpler\n",
    "* Generator functions are written using the ```function*``` syntax\n",
    "* A Generator is a function whose execution is not continuous\n",
    "* Generator functions return a special type of iterator called a Generator\n",
    "* A value is consumed by calling the ```next()``` method\n",
    "* The generator function executes until it encounters the ```yield``` keyword\n",
    "* The function can be called multiple times andit returns a new generator each time\n",
    "* Each generator may only be iterated once"
   ]
  },
  {
   "cell_type": "code",
   "execution_count": 2,
   "metadata": {},
   "outputs": [
    {
     "name": "stdout",
     "output_type": "stream",
     "text": [
      "1\n",
      "3\n",
      "5\n",
      "7\n",
      "9\n",
      "Iterated over sequence of size:  5\n"
     ]
    }
   ],
   "source": [
    "{\n",
    "function* makeRangeGenerator(start = 0, end = 100, step = 1) {\n",
    "    let iterationCount = 0;\n",
    "    for (let i = start; i < end; i += step) {\n",
    "        iterationCount++;\n",
    "        yield i;\n",
    "    }\n",
    "    return iterationCount;\n",
    "}\n",
    "\n",
    "const it = makeRangeGenerator(1, 10, 2);\n",
    "\n",
    "let result = it.next();\n",
    "while (!result.done) {\n",
    " console.log(result.value); // 1 3 5 7 9\n",
    " result = it.next();\n",
    "}\n",
    "\n",
    "console.log(\"Iterated over sequence of size: \", result.value);\n",
    "}"
   ]
  },
  {
   "cell_type": "markdown",
   "metadata": {},
   "source": [
    "## Iterables\n",
    "\n",
    "An object is iterable if it defines its iteration behavior, such as what values are looped over in a for...of construct. Some built-in types, such as Array or Map, have a default iteration behavior, while other types (such as Object) do not.\n",
    "\n",
    "In order to be iterable, an object must implement the @@iterator method. This simply means that the object (or one of the objects up its prototype chain) must have a property with a Symbol.iterator key.\n",
    "\n",
    "It may be possible to iterate over an iterable more than once, or only once. It is up to the programmer to know which is the case.\n",
    "\n",
    "Iterables which can iterate only once (such as Generators) customarily return this from their @@iterator method, whereas iterables which can be iterated many times must return a new iterator on each invocation of @@iterator."
   ]
  },
  {
   "cell_type": "code",
   "execution_count": 3,
   "metadata": {},
   "outputs": [
    {
     "name": "stdout",
     "output_type": "stream",
     "text": [
      "1\n",
      "2\n",
      "true\n"
     ]
    },
    {
     "data": {
      "text/plain": [
       "[GeneratorFunction]"
      ]
     },
     "execution_count": 3,
     "metadata": {},
     "output_type": "execute_result"
    }
   ],
   "source": [
    "function* makeIterator() {\n",
    "    yield 1;\n",
    "    yield 2;\n",
    "}\n",
    "\n",
    "const it = makeIterator();\n",
    "\n",
    "for (const itItem of it) {\n",
    "    console.log(itItem);\n",
    "}\n",
    "\n",
    "console.log(it[Symbol.iterator]() === it) // true;\n",
    "\n",
    "// This example show us generator(iterator) is iterable object,\n",
    "// which has the @@iterator method return the it (itself),\n",
    "// and consequently, the it object can iterate only _once_.\n",
    "\n",
    "\n",
    "// If we change it's @@iterator method to a function/generator\n",
    "// which returns a new iterator/generator object, (it)\n",
    "// can iterate many times\n",
    "\n",
    "it[Symbol.iterator] = function* () {\n",
    "  yield 2;\n",
    "  yield 1;\n",
    "};"
   ]
  },
  {
   "cell_type": "code",
   "execution_count": null,
   "metadata": {},
   "outputs": [],
   "source": []
  }
 ],
 "metadata": {
  "kernelspec": {
   "display_name": "Javascript (Node.js)",
   "language": "javascript",
   "name": "javascript"
  },
  "language_info": {
   "file_extension": ".js",
   "mimetype": "application/javascript",
   "name": "javascript",
   "version": "10.13.0"
  }
 },
 "nbformat": 4,
 "nbformat_minor": 4
}
