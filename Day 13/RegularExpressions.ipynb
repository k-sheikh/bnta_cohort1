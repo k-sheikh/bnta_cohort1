{
 "cells": [
  {
   "cell_type": "markdown",
   "metadata": {},
   "source": [
    "# Regular Expressions\n",
    "\n",
    "See: https://developer.mozilla.org/en-US/docs/Web/JavaScript/Guide/Regular_Expressions\n",
    "See: https://en.wikipedia.org/wiki/Regular_expression  \n",
    "\n",
    "- A Regular Expression (RegEx) is a sequence of characters that defines a search pattern\n",
    "- A RegEx can be used to test if a target string contains the specified search pattern\n",
    "- Example syntax options:\n",
    "  - ```let re = /ab+c/;```\n",
    "  - ```let re = new RegExp('ab+c');```\n",
    "- See: https://developer.mozilla.org/en-US/docs/Web/JavaScript/Guide/Regular_Expressions\n",
    "- See: https://eloquentjavascript.net/09_regexp.html\n",
    "- See: https://docs.microsoft.com/en-us/dotnet/standard/base-types/regular-expression-language-quick-reference"
   ]
  },
  {
   "cell_type": "code",
   "execution_count": 17,
   "metadata": {},
   "outputs": [
    {
     "name": "stdout",
     "output_type": "stream",
     "text": [
      "[ 'walrus',\n",
      "  index: 22,\n",
      "  input: 'The time has come the walrus said...',\n",
      "  groups: undefined ]\n"
     ]
    }
   ],
   "source": [
    "{\n",
    "let str = \"The time has come the walrus said...\";\n",
    "let pattern = /Walrus/i; // case-insensitive search\n",
    "let result = str.match(pattern);\n",
    "console.log(result);\n",
    "}"
   ]
  },
  {
   "cell_type": "code",
   "execution_count": 18,
   "metadata": {},
   "outputs": [
    {
     "name": "stdout",
     "output_type": "stream",
     "text": [
      "null\n"
     ]
    }
   ],
   "source": [
    "{\n",
    "let str = \"The time has come the walrus said...\";\n",
    "let pattern = /Walrus/; // case-sensitive search\n",
    "let result = str.match(pattern);\n",
    "console.log(result);\n",
    "}"
   ]
  },
  {
   "cell_type": "code",
   "execution_count": 22,
   "metadata": {},
   "outputs": [
    {
     "name": "stdout",
     "output_type": "stream",
     "text": [
      "true\n",
      "false\n"
     ]
    }
   ],
   "source": [
    "console.log(/abc/.test(\"abcde\"));\n",
    "console.log(/abc/.test(\"abxde\"));"
   ]
  },
  {
   "cell_type": "code",
   "execution_count": 21,
   "metadata": {},
   "outputs": [
    {
     "name": "stdout",
     "output_type": "stream",
     "text": [
      "true\n",
      "false\n"
     ]
    }
   ],
   "source": [
    "function validateEmail(email) {\n",
    "    const re = /^(([^<>()[\\]\\\\.,;:\\s@\"]+(\\.[^<>()[\\]\\\\.,;:\\s@\"]+)*)|(\".+\"))@((\\[[0-9]{1,3}\\.[0-9]{1,3}\\.[0-9]{1,3}\\.[0-9]{1,3}\\])|(([a-zA-Z\\-0-9]+\\.)+[a-zA-Z]{2,}))$/;\n",
    "    return re.test(String(email).toLowerCase());\n",
    "}\n",
    "\n",
    "console.log(validateEmail(\"mollymalone@dublinsfaircity.ie\"));  // valid email address\n",
    "console.log(validateEmail(\"mollymalone@dublin'sfaircity.ie\")); // invalid email address"
   ]
  },
  {
   "cell_type": "code",
   "execution_count": null,
   "metadata": {},
   "outputs": [],
   "source": []
  }
 ],
 "metadata": {
  "kernelspec": {
   "display_name": "Javascript (Node.js)",
   "language": "javascript",
   "name": "javascript"
  },
  "language_info": {
   "file_extension": ".js",
   "mimetype": "application/javascript",
   "name": "javascript",
   "version": "10.13.0"
  }
 },
 "nbformat": 4,
 "nbformat_minor": 4
}
