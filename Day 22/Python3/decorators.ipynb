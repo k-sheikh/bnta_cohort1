{
 "cells": [
  {
   "cell_type": "markdown",
   "metadata": {},
   "source": [
    "# Decorators"
   ]
  },
  {
   "cell_type": "markdown",
   "metadata": {},
   "source": [
    "## Concepts\n",
    "\n",
    "- Python's answer to C macros, Java annotations, C# attributes, and JavaScript decorators\n",
    "- Most similar to JavaScript decorators (interpreted runtime behavior)\n",
    "- Wraps one piece of code with another\n",
    "- Supports a terse @ syntax for composing higher-order functions\n",
    "- Defines function that takes another function and returns a new function\n",
    "- Used to extend behavior of a function without explicitly modifying it\n",
    "- Used for cross-cutting concerns\n",
    "- Aspect-Oriented Programming \n",
    "- Decorators vs. the Decorator Pattern\n",
    "\n",
    "[Python Decorators - a short animation](https://www.youtube.com/watch?v=iHNZrXZj-p8)"
   ]
  },
  {
   "cell_type": "markdown",
   "metadata": {},
   "source": [
    "## Topics\n",
    "\n",
    "- Functional Programming\n",
    "- Simple Decorator Function\n",
    "- Decorator Syntactic Sugar\n",
    "- Stacking Decorators\n",
    "- Invocation Counter\n",
    "- Parameterized Decorator Function\n",
    "- Decorator Functions with ```*args``` and ```**kwargs```\n",
    "- Function Call Rate Limiting\n",
    "- Authorization and Access Control\n",
    "- Logging and Instrumentation\n",
    "- Memoization Performance Enhancement\n",
    "- Decorator Classes\n",
    "- The ``` @staticmethod``` Decorator\n",
    "- The ``` @classmethod``` Decorator\n",
    "- The ``` @property``` Decorator\n",
    "- The ``` @contextmanager``` Decorator\n",
    "- The ``` @functools.wraps``` Decorator\n",
    "- The ``` @functools.lru_cache``` Decorator\n",
    "- Function Timeout Example (Decorator Library)\n",
    "- Singleton (Decorator Library)\n",
    "- Synchronization (Decorator Library)"
   ]
  },
  {
   "cell_type": "markdown",
   "metadata": {},
   "source": [
    "## Functional Programming\n",
    "- Functions\n",
    "- Function Objects\n",
    "- Lambdas\n",
    "- Higher Order Functions"
   ]
  },
  {
   "cell_type": "code",
   "execution_count": 3,
   "metadata": {},
   "outputs": [
    {
     "name": "stdout",
     "output_type": "stream",
     "text": [
      "my_func_1 called\n",
      "16\n",
      "my_func_1 called\n",
      "25\n",
      "my_func_1 called\n",
      "36\n",
      "calling returned lambda function\n",
      "49\n"
     ]
    }
   ],
   "source": [
    "# define function\n",
    "def my_func_1(x):\n",
    "    print(\"my_func_1 called\")\n",
    "    return x**2\n",
    "\n",
    "# directly call function by name\n",
    "result = my_func_1 (4)\n",
    "print(result) # output: 16\n",
    "\n",
    "# indirectly call function via function object\n",
    "f = my_func_1\n",
    "result = f(5)\n",
    "print(result) # output: 25\n",
    "\n",
    "# pass function object as a function argument\n",
    "def call_function(f, x):\n",
    "    return f(x)\n",
    "result = call_function(f, 6)\n",
    "print(result) # output: 36\n",
    "\n",
    "# return function object as a function result\n",
    "def return_function(x):\n",
    "    return lambda : x * x    # lambda expression but could have used a named function\n",
    "print('calling returned lambda function')\n",
    "result = return_function(7)()\n",
    "print(result) # output: 49"
   ]
  },
  {
   "cell_type": "markdown",
   "metadata": {},
   "source": [
    "## Simple Decorator Function\n",
    "\n",
    "- Decorator function\n",
    "- Nested return function\n",
    "- Decorated target function\n",
    "- Extends functionality via code injection"
   ]
  },
  {
   "cell_type": "code",
   "execution_count": 4,
   "metadata": {},
   "outputs": [
    {
     "name": "stdout",
     "output_type": "stream",
     "text": [
      "my_func_2 called\n",
      "16\n",
      "my_func_2.__name__ ->  my_func_2\n",
      "---\n",
      "my_decorator_2 called\n",
      "new_func called\n",
      "my_func_2 called\n",
      "16\n",
      "my_func_2.__name__ ->  new_func\n"
     ]
    }
   ],
   "source": [
    "# simple decorator function\n",
    "def my_decorator_2(old_func):\n",
    "    print(\"my_decorator_2 called\")    \n",
    "    def new_func(n):                     # nested function\n",
    "        print(\"new_func called\")\n",
    "        return old_func(n)               # invoke original target function\n",
    "    return new_func                      # return nested function\n",
    "\n",
    "# target function to be decorated\n",
    "def my_func_2(x):\n",
    "    print(\"my_func_2 called\")\n",
    "    return x**2\n",
    "\n",
    "result = my_func_2(4)                    # call function before decoration\n",
    "print(result)\n",
    "print(\"my_func_2.__name__ -> \", my_func_2.__name__)    # -> my_func_2\n",
    "\n",
    "print('---')\n",
    "\n",
    "my_func_2 = my_decorator_2(my_func_2)    # programmatically decorate function\n",
    "result = my_func_2(4)                    # call function after decoration\n",
    "print(result)\n",
    "print(\"my_func_2.__name__ -> \", my_func_2.__name__)    # -> new_func\n",
    "\n",
    "# NOTE: The change to __name__ issue can be fixed using @wraps from functools (See later)"
   ]
  },
  {
   "cell_type": "markdown",
   "metadata": {},
   "source": [
    "## Decorator Syntactic Sugar\n",
    "\n",
    "- Uses the declarative ```@``` decorator syntax\n",
    "- Automatically sets up higher order function logic as shown in previous example\n",
    "- Extends functionality via dynamic code injection"
   ]
  },
  {
   "cell_type": "code",
   "execution_count": 5,
   "metadata": {},
   "outputs": [
    {
     "name": "stdout",
     "output_type": "stream",
     "text": [
      "my_decorator_3 called\n",
      "new_func called\n",
      "my_func_3 called\n",
      "16\n"
     ]
    }
   ],
   "source": [
    "# decorator function\n",
    "def my_decorator_3(old_func):\n",
    "    print(\"my_decorator_3 called\")\n",
    "    def new_func(n):\n",
    "        print(\"new_func called\")\n",
    "        return old_func(n)\n",
    "    return new_func\n",
    "\n",
    "# decorator syntactic sugar\n",
    "@my_decorator_3                     # declaratively decorate function\n",
    "def my_func_3(x):\n",
    "    print(\"my_func_3 called\")\n",
    "    return x**2\n",
    "    \n",
    "result = my_func_3(4)\n",
    "print(result)"
   ]
  },
  {
   "cell_type": "markdown",
   "metadata": {},
   "source": [
    "## Stacking Decorators\n",
    "\n",
    "- You can stack or chain decorators\n",
    "- Order determined by sequence of decorators"
   ]
  },
  {
   "cell_type": "code",
   "execution_count": 5,
   "metadata": {},
   "outputs": [
    {
     "name": "stdout",
     "output_type": "stream",
     "text": [
      "decorator_A called\n",
      "decorator_B called\n",
      "funcAB called\n"
     ]
    }
   ],
   "source": [
    "def decorator_A(old_func):\n",
    "    def new_func():\n",
    "        print(\"decorator_A called\")\n",
    "        return old_func()\n",
    "    return new_func\n",
    "\n",
    "def decorator_B(old_func):\n",
    "    def new_func():\n",
    "        print(\"decorator_B called\")\n",
    "        return old_func()\n",
    "    return new_func\n",
    "\n",
    "@decorator_A\n",
    "@decorator_B\n",
    "def funcAB():\n",
    "    print(\"funcAB called\")\n",
    "\n",
    "# The above two decorators are equivalent to:\n",
    "# funcAB = decorator_A(decorator_B(funcAB))\n",
    "\n",
    "funcAB()"
   ]
  },
  {
   "cell_type": "markdown",
   "metadata": {},
   "source": [
    "# Invocation Counter\n",
    "\n",
    "- Uses a closure to store a free variable as persistent data in inner function lexical scope\n",
    "- Function call counter is initialized to zero\n",
    "- Function call counter is incremented on each call to the decorated function"
   ]
  },
  {
   "cell_type": "code",
   "execution_count": 7,
   "metadata": {},
   "outputs": [
    {
     "name": "stdout",
     "output_type": "stream",
     "text": [
      "counter:  1\n",
      "16\n",
      "counter:  2\n",
      "25\n",
      "counter:  3\n",
      "36\n"
     ]
    }
   ],
   "source": [
    "# invocation counter decorator\n",
    "def invocation_counter(old_func):\n",
    "    counter = 0                     # closure\n",
    "    def new_func(n):\n",
    "        nonlocal counter\n",
    "        counter += 1\n",
    "        print(\"counter: \", counter)\n",
    "        return old_func(n)\n",
    "    return new_func\n",
    "\n",
    "# decorator syntactic sugar\n",
    "@invocation_counter\n",
    "def square(x):\n",
    "    return x**2\n",
    "    \n",
    "result = print(square(4))\n",
    "result = print(square(5))\n",
    "result = print(square(6))"
   ]
  },
  {
   "cell_type": "markdown",
   "metadata": {},
   "source": [
    "## Parameterized Decorator Function\n",
    "\n",
    "- Parameter is used to provide decorator with initial value\n",
    "- Any number of parameters of any type could be provided\n",
    "- The parameter value is stored in a closure for future use\n",
    "- The parameter value is displayed on subsequent invocations for demonstration purposes\n",
    "- The decorator is applied to the target function with an argument provided"
   ]
  },
  {
   "cell_type": "code",
   "execution_count": 10,
   "metadata": {},
   "outputs": [
    {
     "name": "stdout",
     "output_type": "stream",
     "text": [
      "my_decorator_4 called with parameter: Hello World!\n",
      "wrap_old_func called\n",
      "new_func called\n",
      "Hello World!\n",
      "my_func_4 called\n",
      "16\n"
     ]
    }
   ],
   "source": [
    "# parameterized decorator function\n",
    "def my_decorator_4(text):\n",
    "    print(\"my_decorator_4 called with parameter:\", text)\n",
    "    def wrap_old_func(old_func):\n",
    "        print(\"wrap_old_func called\")\n",
    "        def new_func(n):\n",
    "            print(\"new_func called\")\n",
    "            print(text)\n",
    "            return old_func(n)\n",
    "        return new_func\n",
    "    return wrap_old_func\n",
    "\n",
    "# decorator syntactic sugar\n",
    "@my_decorator_4(\"Hello World!\")    # decorator with parameter\n",
    "def my_func_4(x):\n",
    "    print(\"my_func_4 called\")\n",
    "    return x**2\n",
    "    \n",
    "result = my_func_4(4)\n",
    "print(result)"
   ]
  },
  {
   "cell_type": "markdown",
   "metadata": {},
   "source": [
    "## Decorator Functions with *args and **kwargs\n",
    "\n",
    "- ```*args``` allows target function to take any number of non-keyworded arguments\n",
    "- ```**kwargs``` allows target function to take any number of keyworded arguments"
   ]
  },
  {
   "cell_type": "code",
   "execution_count": 6,
   "metadata": {},
   "outputs": [
    {
     "name": "stdout",
     "output_type": "stream",
     "text": [
      "parameters:  1 2 3 () {}\n",
      "parameters:  1 2 3 (4, 5, 6) {}\n",
      "parameters:  1 2 3 () {'x': 7, 'y': 8, 'z': 9}\n",
      "parameters:  1 2 3 (4, 5, 6) {'x': 7, 'y': 8, 'z': 9}\n",
      "parameters:  1 2 3 (4, 5, 6) {}\n",
      "parameters:  1 2 3 () {'x': 7, 'y': 8, 'z': 9}\n",
      "parameters:  1 2 3 (4, 5, 6) {'x': 7, 'y': 8, 'z': 9}\n"
     ]
    }
   ],
   "source": [
    "# Review: Variadic Functions\n",
    "\n",
    "def afunction(a, b, c, *args, **kwargs):\n",
    "    print(\"parameters: \", a, b, c, args, kwargs )\n",
    "    \n",
    "afunction(1, 2, 3)                               # required -> 3 positional arguments\n",
    "afunction(1, 2, 3, 4, 5, 6)                      # optional -> non-keyword arguments\n",
    "afunction(1, 2, 3, x=7, y=8, z=9)                # optional -> keyword arguments\n",
    "afunction(1, 2, 3, 4, 5, 6, x=7, y=8, z=9)       # optional -> keyword and non-keyword arguments\n",
    "afunction(*(1, 2, 3), *(4, 5, 6))                            # unpacking list\n",
    "afunction(*(1, 2, 3), **{'x':7 , 'y':8 , 'z':9})             # unpacking dictionary\n",
    "afunction(*(1, 2, 3), *(4, 5, 6), **{'x':7 , 'y':8 , 'z':9}) # unpacking both"
   ]
  },
  {
   "cell_type": "code",
   "execution_count": 2,
   "metadata": {},
   "outputs": [
    {
     "name": "stdout",
     "output_type": "stream",
     "text": [
      "my_decorator_5 called\n",
      "wrapper_func called\n",
      "my_func_5 called\n",
      "Jane's age is 42\n",
      "---\n",
      "my_decorator_5 called\n",
      "wrapper_func called\n",
      "my_other_func_5 called\n",
      "15\n"
     ]
    }
   ],
   "source": [
    "# parameterized decorator function taking *args and **kwargs\n",
    "def my_decorator_5(original_func):\n",
    "    print(\"my_decorator_5 called\")\n",
    "    def wrapper_func(*args, **kwargs):\n",
    "        print(\"wrapper_func called\")\n",
    "        return original_func(*args, **kwargs)\n",
    "    return wrapper_func\n",
    "\n",
    "@my_decorator_5                  # declaratively decorate function\n",
    "def my_func_5(name, age):\n",
    "    print(\"my_func_5 called\")\n",
    "    return name + \"'s age is \" + str(age)\n",
    "result = my_func_5('Jane', 42)    # output: Jane's age is 42\n",
    "print(result)\n",
    "\n",
    "print('---')\n",
    "\n",
    "@my_decorator_5                               # declaratively decorate function\n",
    "def my_other_func_5(a, b, c, x= 0, y = 0, z = 0):\n",
    "    print(\"my_other_func_5 called\")\n",
    "    return a + b + c + x + y + z\n",
    "result = my_other_func_5(1, 2, 3, x=4, y=5)   # output: 15\n",
    "print(result)"
   ]
  },
  {
   "cell_type": "markdown",
   "metadata": {},
   "source": [
    "## Function Call Rate Limiting\n",
    "\n",
    "- A decorator named limit_rate is defined with a parameter named min_time\n",
    "- A closure is created containing a variable named prev_time initialized as time.clock() - min_time\n",
    "- Every time the decorated function is called, curr_time is established\n",
    "- If time transpired is less than min_time then prev_time is updated and None is returned\n",
    "- Otherwise prev_time is updated and the result of the target function is returned\n",
    "- If the decorated function is called repeatedly in rapid succession it ignores the call\n",
    "- If the decorated function is  called repeatedly with a sufficient delay it makes the call"
   ]
  },
  {
   "cell_type": "code",
   "execution_count": 16,
   "metadata": {},
   "outputs": [
    {
     "name": "stdout",
     "output_type": "stream",
     "text": [
      "1.000079874663712\n",
      "16\n",
      "0.0004078516348201771\n",
      "None\n",
      "0.00017135123388506348\n",
      "None\n",
      "2.012211899004512\n",
      "49\n",
      "0.0004239158129966114\n",
      "None\n",
      "0.0001664427349981068\n",
      "None\n"
     ]
    }
   ],
   "source": [
    "import time\n",
    "\n",
    "# limit rate decorator\n",
    "def limit_rate(min_time):\n",
    "    def wrap_old_func(old_func):\n",
    "        prev_time = time.clock() - min_time  # closure\n",
    "        def new_func(n):\n",
    "            nonlocal prev_time\n",
    "            curr_time = time.clock()\n",
    "            print(curr_time - prev_time)\n",
    "            if curr_time - prev_time < min_time:\n",
    "                prev_time = curr_time\n",
    "                return None\n",
    "            else:\n",
    "                prev_time = curr_time\n",
    "                return old_func(n)\n",
    "        return new_func\n",
    "    return wrap_old_func\n",
    "\n",
    "# decorator syntactic sugar\n",
    "@limit_rate(1.0)             # consecutive calls must be at least 1 second apart\n",
    "def square(x):\n",
    "    return x**2\n",
    "    \n",
    "result = print(square(4))    # output: 16\n",
    "result = print(square(5))    # output: None\n",
    "result = print(square(6))    # output: None\n",
    "time.sleep(2.0)\n",
    "result = print(square(7))    # output: 49\n",
    "result = print(square(8))    # output: None\n",
    "result = print(square(9))    # output: None"
   ]
  },
  {
   "cell_type": "markdown",
   "metadata": {},
   "source": [
    "# Authorization and Access Control\n",
    "\n",
    "- This is a toy example that focuses more on decorators than proper security coding\n",
    "- Initially no user is logged in and the global authorized variable is set to False\n",
    "- The login function is hard-coded for demonstration purposes\n",
    "- The logout function is hard-coded for demonstration purposes\n",
    "- The require_auth decorator forces its target function to require authentication\n",
    "- If authorized is True then the DoSomethingDangerous executes its code normally\n",
    "- If authorized is False then the DoSomethingDangerous does not execute its code"
   ]
  },
  {
   "cell_type": "code",
   "execution_count": 18,
   "metadata": {},
   "outputs": [
    {
     "name": "stdout",
     "output_type": "stream",
     "text": [
      "ERROR: Not authorized\n",
      "---\n",
      "login succeeded\n",
      "DoSomethingDangerous called with authorized: True\n",
      "---\n",
      "logout called\n",
      "ERROR: Not authorized\n",
      "---\n",
      "login failed\n",
      "ERROR: Not authorized\n",
      "---\n",
      "login succeeded\n",
      "DoSomethingDangerous called with authorized: True\n"
     ]
    }
   ],
   "source": [
    "authorized = False\n",
    "\n",
    "def login(username, password):    \n",
    "    global authorized\n",
    "    if username == 'Carole' and password == 'Pa55w.rd':\n",
    "        authorized = True\n",
    "        print('login succeeded')\n",
    "    else:\n",
    "        print('login failed')\n",
    "\n",
    "def logout():\n",
    "    global authorized\n",
    "    print('logout called')\n",
    "    authorized = False\n",
    "    \n",
    "def require_auth(func):\n",
    "    def decorated_func(*args, **kwargs):\n",
    "        if not authorized:\n",
    "            print('ERROR: Not authorized')\n",
    "            return None\n",
    "        return func(*args, **kwargs)\n",
    "    return decorated_func\n",
    "\n",
    "@require_auth\n",
    "def DoSomethingDangerous():\n",
    "    print('DoSomethingDangerous called with authorized:', authorized)\n",
    "\n",
    "DoSomethingDangerous()          # output: ERROR: Not authorized\n",
    "print('---')\n",
    "login('Carole', 'Pa55w.rd')\n",
    "DoSomethingDangerous()          #  output: DoSomethingDangerous called with authorized: True\n",
    "print('---')\n",
    "logout()\n",
    "DoSomethingDangerous()          #  output: ERROR: Not authorized\n",
    "print('---')\n",
    "login('David', 'wrong-guess')\n",
    "DoSomethingDangerous()          #  output: ERROR: Not authorized\n",
    "print('---')\n",
    "login('Carole', 'Pa55w.rd')\n",
    "DoSomethingDangerous()          # output: DoSomethingDangerous called with authorized: True"
   ]
  },
  {
   "cell_type": "markdown",
   "metadata": {},
   "source": [
    "# Logging and Instrumentation\n",
    "\n",
    "- This is a toy logging example that focuses more on decorators than proper logging code\n",
    "- For a proper discussion on logging see: [Logging HOWTO](https://docs.python.org/3/howto/logging.html)"
   ]
  },
  {
   "cell_type": "code",
   "execution_count": 19,
   "metadata": {},
   "outputs": [
    {
     "name": "stdout",
     "output_type": "stream",
     "text": [
      "addition_func args: (4,) kwargs{} called at: 2018-04-26 19:46:14.864120\n",
      "4\n",
      "addition_func args: (5,) kwargs{} called at: 2018-04-26 19:46:15.872258\n",
      "5\n",
      "addition_func args: (6, 33) kwargs{} called at: 2018-04-26 19:46:16.873464\n",
      "39\n",
      "addition_func args: (6,) kwargs{'y': 42} called at: 2018-04-26 19:46:17.881763\n",
      "48\n"
     ]
    }
   ],
   "source": [
    "import datetime\n",
    "import time\n",
    "\n",
    "def logging(func):\n",
    "    def func_with_logging(*args, **kwargs):\n",
    "        print(func.__name__ + \" args: \" + str(args) + \" kwargs\" + str(kwargs) + \" called at: \" + str(datetime.datetime.now()))\n",
    "        return func(*args, **kwargs)\n",
    "    return func_with_logging\n",
    "\n",
    "@logging\n",
    "def addition_func(x, y=0):\n",
    "   \"\"\"Do some math.\"\"\"\n",
    "   return x + y\n",
    "\n",
    "print(addition_func(4))\n",
    "time.sleep(1)\n",
    "print(addition_func(5))\n",
    "time.sleep(1)\n",
    "print(addition_func(6, 33))\n",
    "time.sleep(1)\n",
    "print(addition_func(6, y = 42))"
   ]
  },
  {
   "cell_type": "markdown",
   "metadata": {},
   "source": [
    "## Memoization and Performance Enhancement\n",
    "\n",
    "- This is a toy caching example that focuses more on decorators than proper caching \n",
    "- See the example elsewhere in this lesson on the ``` @functools.lru_cache``` decorator\n",
    "- Memoization is an optimization technique that leverages cached results\n",
    "- Memoization can speed up some algorithms by avoiding costly redundant calculations\n",
    "- This example implements a custom timeit decorator for demonstration purposes…\n",
    "-     .... but see: [timeit](https://docs.python.org/3/library/timeit.html)"
   ]
  },
  {
   "cell_type": "code",
   "execution_count": 3,
   "metadata": {},
   "outputs": [
    {
     "name": "stdout",
     "output_type": "stream",
     "text": [
      "Wait for result...\n",
      "call_fibonacci_plain -> 11.299617528915405 seconds\n",
      "    call_fibonacci_plain(35): 9227465\n",
      "call_fibonacci_memoized -> 0.0 seconds\n",
      "    call_fibonacci_memoized(35): 9227465\n",
      "call_fibonacci_memoized -> 0.0 seconds\n",
      "    call_fibonacci_memoized(35): 9227465\n",
      "call_fibonacci_memoized -> 0.0 seconds\n",
      "    call_fibonacci_memoized(50): 12586269025\n",
      "call_fibonacci_memoized -> 0.0 seconds\n",
      "    call_fibonacci_memoized(100): 354224848179261915075\n"
     ]
    }
   ],
   "source": [
    "def memoize(func):\n",
    "    cache = func.cache = {}\n",
    "    def memoized_func(*args, **kwargs):\n",
    "        key = str(args) + str(kwargs)\n",
    "        if key not in cache:\n",
    "            cache[key] = func(*args, **kwargs)\n",
    "        return cache[key]\n",
    "    return memoized_func\n",
    "\n",
    "import time\n",
    "\n",
    "def timeit(method):\n",
    "    def timed(*args, **kw):\n",
    "        t_start = time.time()\n",
    "        result = method(*args, **kw)\n",
    "        t_end = time.time()\n",
    "        #print (f\"{method.__name__} -> {t_end-t_start} seconds\") # requires Python 3.6\n",
    "        print (\"{} -> {} seconds\".format(method.__name__, t_end-t_start))\n",
    "        return result\n",
    "    return timed\n",
    "\n",
    "@memoize\n",
    "def fibonacci_memoized(n):    # O(n) -> time complexity is linear (each result for 0 to n only once)\n",
    "    if n == 0: return 0\n",
    "    if n == 1: return 1\n",
    "    else: return fibonacci_memoized(n-1) + fibonacci_memoized(n-2)\n",
    "\n",
    "def fibonacci_plain(n):       # O(2^n) -> time complexity is exponential\n",
    "    if n == 0:return 0\n",
    "    if n == 1:return 1\n",
    "    else: return fibonacci_plain(n-1) + fibonacci_plain(n-2)\n",
    "\n",
    "@timeit\n",
    "def call_fibonacci_plain(n):\n",
    "    return fibonacci_plain(n)\n",
    "\n",
    "print(\"Wait for result...\")\n",
    "\n",
    "result = call_fibonacci_plain(35)\n",
    "print(\"    call_fibonacci_plain(35):\", result)\n",
    "\n",
    "# = call_fibonacci_plain(50)  # takes long time then blows the stack\n",
    "#print(\"    call_fibonacci_plain(50):\", result)\n",
    "\n",
    "@timeit\n",
    "def call_fibonacci_memoized(n):\n",
    "    return fibonacci_memoized(n)\n",
    "\n",
    "result = call_fibonacci_memoized(35)\n",
    "print(\"    call_fibonacci_memoized(35):\", result)\n",
    "\n",
    "result = call_fibonacci_memoized(35)\n",
    "print(\"    call_fibonacci_memoized(35):\", result)\n",
    "\n",
    "result = call_fibonacci_memoized(50)\n",
    "print(\"    call_fibonacci_memoized(50):\", result)\n",
    "\n",
    "result = call_fibonacci_memoized(100)\n",
    "print(\"    call_fibonacci_memoized(100):\", result)"
   ]
  },
  {
   "cell_type": "markdown",
   "metadata": {},
   "source": [
    "## Popular Pre-built Decorators\n",
    "\n",
    "There are many commonly used decorators, including the following:\n",
    "\n",
    "- ``` @staticmethod```\n",
    "- ``` @classmethod```\n",
    "- ``` @proprty```\n",
    "- ``` @contextmanager```\n",
    "- ``` @functools.wraps```\n",
    "- ``` @functools.lru_cache```"
   ]
  },
  {
   "cell_type": "markdown",
   "metadata": {},
   "source": [
    "## The ``` @staticmethod``` Decorator\n",
    "\n",
    "- The ``` @staticmethod``` decorator modifies a method function so that it does not use the self variable\n",
    "- The method function will not have access to a specific instance of the class\n",
    "- Declarative alternative to calling the ```staticmethod()``` function"
   ]
  },
  {
   "cell_type": "code",
   "execution_count": 21,
   "metadata": {},
   "outputs": [
    {
     "name": "stdout",
     "output_type": "stream",
     "text": [
      "100.0\n",
      "100.0\n",
      "0.01\n",
      "101.0\n",
      "1101.0\n",
      "1112.01\n"
     ]
    }
   ],
   "source": [
    "class BankAccount:\n",
    "    interest = 0.0\n",
    "    def __init__(self, balance):\n",
    "        self.balance = balance\n",
    "    def transact(self, amount):\n",
    "        self.balance += amount\n",
    "    def getBalance(self):\n",
    "        return self.balance\n",
    "    @staticmethod\n",
    "    def setInterest(rate):\n",
    "        BankAccount.interest = rate\n",
    "    @staticmethod\n",
    "    def getInterest(rate):\n",
    "        return BankAccount.interest\n",
    "    def accrueInterest(self):\n",
    "        self.balance *= (1 + BankAccount.interest)\n",
    "\n",
    "ba = BankAccount(100.0)\n",
    "print(ba.getBalance())\n",
    "ba.accrueInterest()\n",
    "print(ba.getBalance())\n",
    "BankAccount.setInterest(0.01)\n",
    "print(BankAccount.getInterest(0.01))\n",
    "ba.accrueInterest()\n",
    "print(ba.getBalance())\n",
    "ba.transact(1000)\n",
    "print(ba.getBalance())\n",
    "ba.accrueInterest()\n",
    "print(ba.getBalance())"
   ]
  },
  {
   "cell_type": "markdown",
   "metadata": {},
   "source": [
    "## The ``` @classmethod``` Decorator\n",
    "\n",
    "- The ``` @classmethod``` decorator modifies method to receives class object as first parameter\n",
    "- Does not use self to refer to class instance\n",
    "- Used to implement singleton pattern\n",
    "- Often used for introspection of a class\n",
    "- Often used internally within many Python frameworks\n",
    "- Declarative alternative to calling the ```classmethod()``` function"
   ]
  },
  {
   "cell_type": "code",
   "execution_count": 22,
   "metadata": {},
   "outputs": [
    {
     "name": "stdout",
     "output_type": "stream",
     "text": [
      "<class '__main__.MyClassyClass'>\n",
      "42\n",
      "mappingproxy({'__dict__': <attribute '__dict__' of 'MyClassyClass' objects>,\n",
      "              '__doc__': None,\n",
      "              '__module__': '__main__',\n",
      "              '__weakref__': <attribute '__weakref__' of 'MyClassyClass' objects>,\n",
      "              'printClassObject': <classmethod object at 0x00000218FCB71550>,\n",
      "              'printClassVars': <classmethod object at 0x00000218FCB711D0>,\n",
      "              'staticval': 42})\n"
     ]
    }
   ],
   "source": [
    "import pprint\n",
    "\n",
    "class MyClassyClass:\n",
    "    staticval = 42\n",
    "    @classmethod\n",
    "    def printClassObject(cls):\n",
    "        print(cls)\n",
    "    @classmethod\n",
    "    def printClassVars(cls):\n",
    "        pprint.pprint(cls.__dict__) # pretty-print on the attributes\n",
    "\n",
    "MyClassyClass.printClassObject()\n",
    "print(MyClassyClass.staticval)\n",
    "MyClassyClass.printClassVars()"
   ]
  },
  {
   "cell_type": "markdown",
   "metadata": {},
   "source": [
    "## The ``` @property``` Decorator\n",
    "\n",
    "- Based on the ```property()``` function that creates an access-controlled attribute\n",
    "- Supports *set*, *get* and *delete* operations"
   ]
  },
  {
   "cell_type": "code",
   "execution_count": 23,
   "metadata": {},
   "outputs": [
    {
     "name": "stdout",
     "output_type": "stream",
     "text": [
      "The answer to the ultimate question:  42\n",
      "---\n",
      "Rocky\n",
      "Spike\n"
     ]
    }
   ],
   "source": [
    "class UltimateQuestion:\n",
    "    def __init__(self):\n",
    "        self._answer = 42\n",
    "\n",
    "    @property\n",
    "    def answer(self):\n",
    "        \"\"\"Get the answer to the ultimate question.\"\"\"\n",
    "        return self._answer\n",
    "\n",
    "uq = UltimateQuestion()\n",
    "print(\"The answer to the ultimate question: \", uq.answer)\n",
    "#uq.answer = \"To get to the other side\" # AttributeError: can't set attribute\n",
    "#del uq.answer                          # AttributeError: can't delete attribute\n",
    "\n",
    "print('---')\n",
    "\n",
    "class Person:\n",
    "    def __init__(self, nickname):\n",
    "        self._nickname = nickname\n",
    "\n",
    "    @property\n",
    "    def nickname(self):\n",
    "        \"\"\"Get nickname.\"\"\"\n",
    "        return self._nickname\n",
    "\n",
    "    @nickname.setter\n",
    "    def nickname(self, nickname):\n",
    "        \"\"\"Set nickname.\"\"\"\n",
    "        self._nickname = nickname\n",
    "\n",
    "    @nickname.deleter\n",
    "    def nickname(self):\n",
    "        \"\"\"Delete nickname.\"\"\"\n",
    "        del self._nickname\n",
    "\n",
    "person = Person(\"Rocky\")\n",
    "print(person.nickname)    # can get attribute\n",
    "person.nickname = \"Spike\" # can set attribute\n",
    "print(person.nickname)\n",
    "del person.nickname       # can delete attribute\n",
    "#print(person.nickname)    # AttributeError: 'Person' object has no attribute '_nickname'"
   ]
  },
  {
   "cell_type": "markdown",
   "metadata": {},
   "source": [
    "## The ``` @contextmanager``` Decorator\n",
    "\n",
    "- A context manager is used to properly manage resources even when exception is raised\n",
    "- The ```with``` statement replaces a ```try...finally``` block to ensure clean-up code is executed\n",
    "- Used when two related operations must execute as a pair before and after a block of code"
   ]
  },
  {
   "cell_type": "code",
   "execution_count": 4,
   "metadata": {},
   "outputs": [
    {
     "name": "stdout",
     "output_type": "stream",
     "text": [
      "0\n",
      "1\n",
      "2\n",
      "3\n",
      "4\n",
      "5\n",
      "6\n",
      "7\n",
      "8\n",
      "9\n",
      "10\n",
      "11\n",
      "12\n",
      "13\n",
      "13 is just unlucky!\n",
      "All Good: file was automatically closed :)\n"
     ]
    }
   ],
   "source": [
    "from contextlib import contextmanager\n",
    "\n",
    "# decorate a generator function, that calls yield\n",
    "@contextmanager\n",
    "def open_file(path, mode):\n",
    "    file = open(path, mode)\n",
    "    try:\n",
    "        yield file\n",
    "    finally:\n",
    "        file.close()\n",
    "\n",
    "files = []\n",
    "\n",
    "# automatically closes file when loop terminates\n",
    "try:\n",
    "    with open_file('junk.txt', 'w') as f:\n",
    "        for x in range(20):\n",
    "            print(x)\n",
    "            if x == 13:\n",
    "                raise Exception('13 is just unlucky!')\n",
    "            f.write(str(x) + '\\n')\n",
    "except Exception as ex:\n",
    "    print(ex)\n",
    "\n",
    "if f.closed:\n",
    "    print('All Good: file was automatically closed :)')\n",
    "else:\n",
    "    print('Big Problem: file not closed :(')"
   ]
  },
  {
   "cell_type": "markdown",
   "metadata": {},
   "source": [
    "## The functools module ``` @wraps``` Decorator\n",
    "\n",
    "- The ``` @wraps``` decorator is a part of the functools module\n",
    "- Use the wraps decorator to fix docstrings and names of decorated functions\n",
    "- Fixes introspection problems for decorated functions that would give wrong information"
   ]
  },
  {
   "cell_type": "code",
   "execution_count": 26,
   "metadata": {},
   "outputs": [
    {
     "name": "stdout",
     "output_type": "stream",
     "text": [
      "not_cool_decorator_function called\n",
      "not_cool_target_function called\n",
      "not_cool_target_function.__name__ -> wrapper\n",
      "not_cool_target_function.__doc__ -> Docstring: wrapper\n",
      "\n",
      "cool_decorator_function called\n",
      "cool_target_function called\n",
      "cool_decorator_function.__name__ -> cool_decorator_function\n",
      "cool_decorator_function.__doc__ -> Docstring: cool_decorator_function\n"
     ]
    }
   ],
   "source": [
    "def not_cool_decorator_function(func):\n",
    "    \"\"\"Docstring: not_cool_decorator_function\"\"\"\n",
    "    def wrapper():\n",
    "        \"\"\"Docstring: wrapper\"\"\"\n",
    "        print('not_cool_decorator_function called')\n",
    "        func()\n",
    "    return wrapper\n",
    "\n",
    "@not_cool_decorator_function\n",
    "def not_cool_target_function():\n",
    "    \"\"\"Docstring: not_cool_target_function\"\"\"\n",
    "    print('not_cool_target_function called')\n",
    "\n",
    "not_cool_target_function()\n",
    "print (\"not_cool_target_function.__name__ ->\", not_cool_target_function.__name__)\n",
    "print (\"not_cool_target_function.__doc__ ->\", not_cool_target_function.__doc__)\n",
    "\n",
    "print()\n",
    "\n",
    "from functools import wraps\n",
    "\n",
    "def cool_decorator_function(func):\n",
    "    \"\"\"Docstring: cool_decorator_function\"\"\"\n",
    "    @wraps(func)\n",
    "    def wrapper():\n",
    "        \"\"\"Docstring: wrapper\"\"\"\n",
    "        print('cool_decorator_function called')\n",
    "        func()\n",
    "    return wrapper\n",
    "\n",
    "@cool_decorator_function\n",
    "def cool_target_function():\n",
    "    \"\"\"Docstring: cool_target_function\"\"\"\n",
    "    print('cool_target_function called')\n",
    "\n",
    "cool_target_function()\n",
    "print (\"cool_decorator_function.__name__ ->\", cool_decorator_function.__name__)\n",
    "print (\"cool_decorator_function.__doc__ ->\", cool_decorator_function.__doc__)\n"
   ]
  },
  {
   "cell_type": "markdown",
   "metadata": {},
   "source": [
    "## The functools module ``` @lru_cache``` Decorator\n",
    "\n",
    "- Cache memoizing to improve performance\n",
    "- Saves up to the maxsize most recent calls"
   ]
  },
  {
   "cell_type": "code",
   "execution_count": 29,
   "metadata": {},
   "outputs": [
    {
     "name": "stdout",
     "output_type": "stream",
     "text": [
      "[0, 1, 1, 2, 3, 5, 8, 13, 21, 34, 55, 89, 144, 233, 377, 610, 987, 1597, 2584, 4181]\n",
      "CacheInfo(hits=36, misses=20, maxsize=None, currsize=20)\n"
     ]
    }
   ],
   "source": [
    "import functools\n",
    "\n",
    "@functools.lru_cache(maxsize=None)\n",
    "def fibonacci(n):\n",
    "    if n < 2:\n",
    "        return n\n",
    "    return fibonacci(n-1) + fibonacci(n-2)\n",
    "\n",
    "print([fibonacci(n) for n in range(20)])\n",
    "print(fibonacci.cache_info())"
   ]
  },
  {
   "cell_type": "markdown",
   "metadata": {},
   "source": [
    "## Decorator Classes\n",
    "\n",
    "- We have seen that a function can be used to define a decorator...\n",
    "- But more generally, a decorator can be any callable object that takes a function as a parameter\n",
    "- Therefore, a class that implements the ```__call__``` method can also be used to define a decorator "
   ]
  },
  {
   "cell_type": "code",
   "execution_count": 13,
   "metadata": {},
   "outputs": [
    {
     "name": "stdout",
     "output_type": "stream",
     "text": [
      "Entering: func1\n",
      "In: func1()\n",
      "Exited: func1\n",
      "---\n",
      "Entering: func2\n",
      "In: func2()\n",
      "Exited: func2\n",
      "---\n"
     ]
    }
   ],
   "source": [
    "# Callable Class Decorator\n",
    "class PrintEnterExit(object):\n",
    "    def __init__(self, func):\n",
    "        self.func = func\n",
    "\n",
    "    def __call__(self):\n",
    "        print(\"Entering:\", self.func.__name__)\n",
    "        self.func()\n",
    "        print(\"Exited:\", self.func.__name__)\n",
    "        print(\"---\")\n",
    "\n",
    "@PrintEnterExit\n",
    "def func1():\n",
    "    print(\"In: func1()\")\n",
    "\n",
    "@PrintEnterExit\n",
    "def func2():\n",
    "    print(\"In: func2()\")\n",
    "\n",
    "func1()\n",
    "func2()"
   ]
  },
  {
   "cell_type": "markdown",
   "metadata": {},
   "source": [
    "## Descriptor Class Decorator\n",
    "\n",
    "- This is a toy example that focuses more on decorators than typical property coding\n",
    "- See the example elsewhere in this lesson on using the ``` @property``` decorator instead\n",
    "- A descriptor is an object attribute with “binding behavior”\n",
    "- Applies attributes (i.e. properties) to the decorated target class\n",
    "- Can implement getter, setter, and deleter using the ```__get__```, ```__set__```, and ```__delete__``` methods"
   ]
  },
  {
   "cell_type": "code",
   "execution_count": 8,
   "metadata": {},
   "outputs": [
    {
     "name": "stdout",
     "output_type": "stream",
     "text": [
      "Setting age property to 42\n",
      "Getting age property\n",
      "    person.age -> 42\n",
      "Setting age property to 102\n",
      "Getting age property\n",
      "    person.age -> 102\n",
      "---\n",
      "Setting firstname property to Sally\n",
      "Getting firstname property\n",
      "    person.firstname -> Sally\n",
      "Setting firstname property to Jane\n",
      "Getting firstname property\n",
      "    person.firstname -> Jane\n"
     ]
    }
   ],
   "source": [
    "# descriptor class decorator\n",
    "class myproperty(object):\n",
    "    def __init__(self, func):\n",
    "        self.func = func\n",
    "        self.name = func.__name__\n",
    "    def __get__(self, instance, owner):\n",
    "        #print(f'Getting {self.name} property') # requires Python 3.6\n",
    "        print('Getting {} property'.format(self.name))\n",
    "        return instance.__dict__[self.name]\n",
    "    def __set__(self, instance, value):\n",
    "        #print('Setting {self.name} property to {value}') # requires Python 3.6\n",
    "        print('Setting {} property to {}'.format(self.name, value))\n",
    "        instance.__dict__[self.name] = value\n",
    "        \n",
    "# target class\n",
    "class Person():\n",
    "    @myproperty\n",
    "    def firstname(self):\n",
    "        pass\n",
    "    @myproperty\n",
    "    def age(self):\n",
    "        pass\n",
    "    \n",
    "person = Person()\n",
    "\n",
    "person.age = 42\n",
    "print(\"    person.age ->\", person.age)\n",
    "person.age = 102\n",
    "print(\"    person.age ->\", person.age)\n",
    "\n",
    "print('---')\n",
    "person.firstname = 'Sally'\n",
    "print(\"    person.firstname ->\", person.firstname)\n",
    "person.firstname = 'Jane'\n",
    "print(\"    person.firstname ->\", person.firstname)"
   ]
  },
  {
   "cell_type": "markdown",
   "metadata": {},
   "source": [
    "## Python Decorator Library\n",
    "\n",
    "See: [Python Decorator Library at wiki.python.org](https://wiki.python.org/moin/PythonDecoratorLibrary)"
   ]
  },
  {
   "cell_type": "markdown",
   "metadata": {},
   "source": [
    "## Function Timeout (Decorator Library)\n",
    "\n",
    "- Note: POSIX only (signal.SIGALRM and signal.alarm() not available on Windows)\n",
    "- See: https://wiki.python.org/moin/PythonDecoratorLibrary#Function_Timeout\n",
    "- If you use Windows then you can use repl.it to run on Linux\n",
    "- See: https://repl.it/@peterteach/CrazyFabulousDeletions\n",
    "\n",
    "```python\n",
    "import signal\n",
    "import functools\n",
    "\n",
    "class TimeoutError(Exception): pass\n",
    "\n",
    "def timeout(seconds, error_message = 'Function call timed out'):\n",
    "    def decorated(func):\n",
    "        def _handle_timeout(signum, frame):\n",
    "            raise TimeoutError(error_message)\n",
    "\n",
    "        def wrapper(*args, **kwargs):\n",
    "            signal.signal(signal.SIGALRM, _handle_timeout) # POSIX only\n",
    "            signal.alarm(seconds)                          # POSIX only\n",
    "            try:\n",
    "                result = func(*args, **kwargs)\n",
    "            finally:\n",
    "                signal.alarm(0)\n",
    "            return result\n",
    "\n",
    "        return functools.wraps(func)(wrapper)\n",
    "\n",
    "    return decorated\n",
    "\n",
    "import time\n",
    "\n",
    "@timeout(1, 'Function slow -> aborted')\n",
    "def slow_function(n):\n",
    "    time.sleep(n)\n",
    "    return 42\n",
    "\n",
    "print(slow_function(0.01))\n",
    "print(slow_function(0.5))\n",
    "try:\n",
    "  print(slow_function(2))\n",
    "except TimeoutError as ex:\n",
    "  print(ex)\n",
    "print(slow_function(0.75))\n",
    "```\n",
    "\n",
    "============================================\n",
    "\n",
    "```\n",
    "Python 3.6.1 (default, Dec 2015, 13:05:11)\n",
    "[GCC 4.8.2] on linux\n",
    "   \n",
    "42\n",
    "42\n",
    "Function slow -> aborted\n",
    "42\n",
    "```"
   ]
  },
  {
   "cell_type": "markdown",
   "metadata": {},
   "source": [
    "## Singleton (Decorator Library)\n",
    "\n",
    "See: [wiki.python.org Python Decorator Library Singleton](https://wiki.python.org/moin/PythonDecoratorLibrary#Singleton)  "
   ]
  },
  {
   "cell_type": "code",
   "execution_count": 9,
   "metadata": {},
   "outputs": [],
   "source": [
    "# See: https://wiki.python.org/moin/PythonDecoratorLibrary#Singleton\n",
    "\n",
    "import functools\n",
    "\n",
    "def singleton(cls):\n",
    "    ''' Use class as singleton. '''\n",
    "\n",
    "    cls.__new_original__ = cls.__new__\n",
    "\n",
    "    @functools.wraps(cls.__new__)\n",
    "    def singleton_new(cls, *args, **kw):\n",
    "        it =  cls.__dict__.get('__it__')\n",
    "        if it is not None:\n",
    "            return it\n",
    "\n",
    "        cls.__it__ = it = cls.__new_original__(cls, *args, **kw)\n",
    "        it.__init_original__(*args, **kw)\n",
    "        return it\n",
    "\n",
    "    cls.__new__ = singleton_new\n",
    "    cls.__init_original__ = cls.__init__\n",
    "    cls.__init__ = object.__init__\n",
    "\n",
    "    return cls\n",
    "\n",
    "#\n",
    "# Sample use:\n",
    "#\n",
    "\n",
    "@singleton\n",
    "class Foo:\n",
    "    def __new__(cls):\n",
    "        cls.x = 10\n",
    "        return object.__new__(cls)\n",
    "\n",
    "    def __init__(self):\n",
    "        assert self.x == 10\n",
    "        self.x = 15\n",
    "\n",
    "assert Foo().x == 15\n",
    "Foo().x = 20\n",
    "assert Foo().x == 20"
   ]
  },
  {
   "cell_type": "markdown",
   "metadata": {},
   "source": [
    "## Synchronization (Decorator Library)\n",
    "\n",
    "See: [wiki.python.org Python Decorator Library Synchronization](https://wiki.python.org/moin/PythonDecoratorLibrary#Synchronization)"
   ]
  },
  {
   "cell_type": "code",
   "execution_count": 10,
   "metadata": {},
   "outputs": [],
   "source": [
    "# See: https://wiki.python.org/moin/PythonDecoratorLibrary#Synchronization\n",
    "\n",
    "def synchronized(lock):\n",
    "    '''Synchronization decorator.'''\n",
    "\n",
    "    def wrap(f):\n",
    "        def new_function(*args, **kw):\n",
    "            lock.acquire()\n",
    "            try:\n",
    "                return f(*args, **kw)\n",
    "            finally:\n",
    "                lock.release()\n",
    "        return new_function\n",
    "    return wrap\n",
    "\n",
    "# Example usage:\n",
    "\n",
    "from threading import Lock\n",
    "my_lock = Lock()\n",
    "\n",
    "@synchronized(my_lock)\n",
    "def critical1(*args):\n",
    "    # Interesting stuff goes here.\n",
    "    pass\n",
    "\n",
    "@synchronized(my_lock)\n",
    "def critical2(*args):\n",
    "    # Other interesting stuff goes here.\n",
    "    pass"
   ]
  },
  {
   "cell_type": "code",
   "execution_count": 11,
   "metadata": {},
   "outputs": [
    {
     "name": "stdout",
     "output_type": "stream",
     "text": [
      "3.6.4 |Anaconda, Inc.| (default, Jan 16 2018, 10:22:32) [MSC v.1900 64 bit (AMD64)]\n"
     ]
    }
   ],
   "source": [
    "import sys\n",
    "print (sys.version)"
   ]
  }
 ],
 "metadata": {
  "kernelspec": {
   "display_name": "Python 3",
   "language": "python",
   "name": "python3"
  },
  "language_info": {
   "codemirror_mode": {
    "name": "ipython",
    "version": 3
   },
   "file_extension": ".py",
   "mimetype": "text/x-python",
   "name": "python",
   "nbconvert_exporter": "python",
   "pygments_lexer": "ipython3",
   "version": "3.8.5"
  }
 },
 "nbformat": 4,
 "nbformat_minor": 2
}
