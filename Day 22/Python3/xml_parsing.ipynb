{
 "cells": [
  {
   "cell_type": "markdown",
   "metadata": {},
   "source": [
    "# XML Parsing\n",
    "\n",
    "- The ElementTree XML API Docs: https://docs.python.org/3/library/xml.etree.elementtree.html\n",
    "- Python XML with ElementTree: Beginner's Guide: https://www.datacamp.com/community/tutorials/python-xml-elementtree"
   ]
  },
  {
   "cell_type": "code",
   "execution_count": 5,
   "metadata": {},
   "outputs": [
    {
     "name": "stdout",
     "output_type": "stream",
     "text": [
      "data\n",
      "{}\n",
      "country {'name': 'Liechtenstein'}\n",
      "country {'name': 'Singapore'}\n",
      "country {'name': 'Panama'}\n"
     ]
    },
    {
     "data": {
      "text/plain": [
       "'2008'"
      ]
     },
     "execution_count": 5,
     "metadata": {},
     "output_type": "execute_result"
    }
   ],
   "source": [
    "import xml.etree.ElementTree as ET\n",
    "\n",
    "# read xml file and get root node\n",
    "tree = ET.parse('./data/country_data.xml')\n",
    "root = tree.getroot()\n",
    "\n",
    "print(root.tag)\n",
    "print(root.attrib)\n",
    "\n",
    "# iterate over root child nodes\n",
    "for child in root:\n",
    "    print(child.tag, child.attrib)\n",
    "\n",
    "# Get at a specific root grandchild node\n",
    "root[0][1].text"
   ]
  },
  {
   "cell_type": "code",
   "execution_count": 6,
   "metadata": {},
   "outputs": [
    {
     "name": "stdout",
     "output_type": "stream",
     "text": [
      "data\n",
      "{}\n",
      "country {'name': 'Liechtenstein'}\n",
      "country {'name': 'Singapore'}\n",
      "country {'name': 'Panama'}\n"
     ]
    },
    {
     "data": {
      "text/plain": [
       "'2008'"
      ]
     },
     "execution_count": 6,
     "metadata": {},
     "output_type": "execute_result"
    }
   ],
   "source": [
    "# # read xml string and get root node\n",
    "country_data_as_string = \"\"\"\n",
    "<data>\n",
    "    <country name=\"Liechtenstein\">\n",
    "        <rank>1</rank>\n",
    "        <year>2008</year>\n",
    "        <gdppc>141100</gdppc>\n",
    "        <neighbor name=\"Austria\" direction=\"E\"/>\n",
    "        <neighbor name=\"Switzerland\" direction=\"W\"/>\n",
    "    </country>\n",
    "    <country name=\"Singapore\">\n",
    "        <rank>4</rank>\n",
    "        <year>2011</year>\n",
    "        <gdppc>59900</gdppc>\n",
    "        <neighbor name=\"Malaysia\" direction=\"N\"/>\n",
    "    </country>\n",
    "    <country name=\"Panama\">\n",
    "        <rank>68</rank>\n",
    "        <year>2011</year>\n",
    "        <gdppc>13600</gdppc>\n",
    "        <neighbor name=\"Costa Rica\" direction=\"W\"/>\n",
    "        <neighbor name=\"Colombia\" direction=\"E\"/>\n",
    "    </country>\n",
    "</data>\n",
    "\"\"\"\n",
    "root = ET.fromstring(country_data_as_string)\n",
    "\n",
    "print(root.tag)\n",
    "print(root.attrib)\n",
    "\n",
    "# iterate over root child nodes\n",
    "for child in root:\n",
    "    print(child.tag, child.attrib)\n",
    "\n",
    "# Get at a specific root grandchild node\n",
    "root[0][1].text"
   ]
  },
  {
   "cell_type": "code",
   "execution_count": 7,
   "metadata": {},
   "outputs": [
    {
     "data": {
      "text/plain": [
       "[('start', <Element 'data' at 0x000001181178EC70>),\n",
       " ('start', <Element 'country' at 0x000001181178EDB0>),\n",
       " ('start', <Element 'rank' at 0x000001181178EF90>),\n",
       " ('end', <Element 'rank' at 0x000001181178EF90>),\n",
       " ('start', <Element 'year' at 0x000001181178EC20>),\n",
       " ('end', <Element 'year' at 0x000001181178EC20>),\n",
       " ('start', <Element 'gdppc' at 0x000001181178EE50>),\n",
       " ('end', <Element 'gdppc' at 0x000001181178EE50>),\n",
       " ('start', <Element 'neighbor' at 0x000001181178ECC0>),\n",
       " ('end', <Element 'neighbor' at 0x000001181178ECC0>),\n",
       " ('start', <Element 'neighbor' at 0x000001181178EF40>),\n",
       " ('end', <Element 'neighbor' at 0x000001181178EF40>),\n",
       " ('end', <Element 'country' at 0x000001181178EDB0>),\n",
       " ('start', <Element 'country' at 0x000001181178E040>),\n",
       " ('start', <Element 'rank' at 0x00000118117AD2C0>),\n",
       " ('end', <Element 'rank' at 0x00000118117AD2C0>),\n",
       " ('start', <Element 'year' at 0x00000118117AD270>),\n",
       " ('end', <Element 'year' at 0x00000118117AD270>),\n",
       " ('start', <Element 'gdppc' at 0x00000118117AD360>),\n",
       " ('end', <Element 'gdppc' at 0x00000118117AD360>),\n",
       " ('start', <Element 'neighbor' at 0x00000118117AD3B0>),\n",
       " ('end', <Element 'neighbor' at 0x00000118117AD3B0>),\n",
       " ('end', <Element 'country' at 0x000001181178E040>),\n",
       " ('start', <Element 'country' at 0x00000118117AD400>),\n",
       " ('start', <Element 'rank' at 0x00000118117AD450>),\n",
       " ('end', <Element 'rank' at 0x00000118117AD450>),\n",
       " ('start', <Element 'year' at 0x00000118117AD4A0>),\n",
       " ('end', <Element 'year' at 0x00000118117AD4A0>),\n",
       " ('start', <Element 'gdppc' at 0x00000118117AD4F0>),\n",
       " ('end', <Element 'gdppc' at 0x00000118117AD4F0>),\n",
       " ('start', <Element 'neighbor' at 0x00000118117AD540>),\n",
       " ('end', <Element 'neighbor' at 0x00000118117AD540>),\n",
       " ('start', <Element 'neighbor' at 0x00000118117AD590>),\n",
       " ('end', <Element 'neighbor' at 0x00000118117AD590>),\n",
       " ('end', <Element 'country' at 0x00000118117AD400>),\n",
       " ('end', <Element 'data' at 0x000001181178EC70>)]"
      ]
     },
     "execution_count": 7,
     "metadata": {},
     "output_type": "execute_result"
    }
   ],
   "source": [
    "# Pull API for non-blocking parsing\n",
    "# Use XMLPullParser.feed() to read data incrementally\n",
    "parser = ET.XMLPullParser(['start', 'end'])\n",
    "parser.feed(country_data_as_string)\n",
    "list(parser.read_events())"
   ]
  },
  {
   "cell_type": "code",
   "execution_count": 8,
   "metadata": {},
   "outputs": [
    {
     "name": "stdout",
     "output_type": "stream",
     "text": [
      "start\n",
      "data text= \n",
      "    \n",
      "start\n",
      "country text= \n",
      "        \n",
      "start\n",
      "rank text= 1\n",
      "end\n",
      "rank text= 1\n",
      "start\n",
      "year text= 2008\n",
      "end\n",
      "year text= 2008\n",
      "start\n",
      "gdppc text= 141100\n",
      "end\n",
      "gdppc text= 141100\n",
      "start\n",
      "neighbor text= None\n",
      "end\n",
      "neighbor text= None\n",
      "start\n",
      "neighbor text= None\n",
      "end\n",
      "neighbor text= None\n",
      "end\n",
      "country text= \n",
      "        \n",
      "start\n",
      "country text= \n",
      "        \n",
      "start\n",
      "rank text= 4\n",
      "end\n",
      "rank text= 4\n",
      "start\n",
      "year text= 2011\n",
      "end\n",
      "year text= 2011\n",
      "start\n",
      "gdppc text= 59900\n",
      "end\n",
      "gdppc text= 59900\n",
      "start\n",
      "neighbor text= None\n",
      "end\n",
      "neighbor text= None\n",
      "end\n",
      "country text= \n",
      "        \n",
      "start\n",
      "country text= \n",
      "        \n",
      "start\n",
      "rank text= 68\n",
      "end\n",
      "rank text= 68\n",
      "start\n",
      "year text= 2011\n",
      "end\n",
      "year text= 2011\n",
      "start\n",
      "gdppc text= 13600\n",
      "end\n",
      "gdppc text= 13600\n",
      "start\n",
      "neighbor text= None\n",
      "end\n",
      "neighbor text= None\n",
      "start\n",
      "neighbor text= None\n",
      "end\n",
      "neighbor text= None\n",
      "end\n",
      "country text= \n",
      "        \n",
      "end\n",
      "data text= \n",
      "    \n"
     ]
    }
   ],
   "source": [
    "parser = ET.XMLPullParser(['start', 'end'])\n",
    "parser.feed(country_data_as_string)\n",
    "for event, elem in parser.read_events():\n",
    "    print(event)\n",
    "    print(elem.tag, 'text=', elem.text)"
   ]
  },
  {
   "cell_type": "code",
   "execution_count": 9,
   "metadata": {},
   "outputs": [
    {
     "name": "stdout",
     "output_type": "stream",
     "text": [
      "{'name': 'Austria', 'direction': 'E'}\n",
      "{'name': 'Switzerland', 'direction': 'W'}\n",
      "{'name': 'Malaysia', 'direction': 'N'}\n",
      "{'name': 'Costa Rica', 'direction': 'W'}\n",
      "{'name': 'Colombia', 'direction': 'E'}\n"
     ]
    }
   ],
   "source": [
    "# Finding interesting elements\n",
    "for neighbor in root.iter('neighbor'):\n",
    "    print(neighbor.attrib)"
   ]
  },
  {
   "cell_type": "code",
   "execution_count": 10,
   "metadata": {},
   "outputs": [
    {
     "name": "stdout",
     "output_type": "stream",
     "text": [
      "Liechtenstein 1\n",
      "Singapore 4\n",
      "Panama 68\n"
     ]
    }
   ],
   "source": [
    "for country in root.findall('country'):\n",
    "    rank = country.find('rank').text\n",
    "    name = country.get('name')\n",
    "    print(name, rank)"
   ]
  },
  {
   "cell_type": "code",
   "execution_count": 12,
   "metadata": {},
   "outputs": [],
   "source": [
    "# Modifying an XML File\n",
    "tree = ET.parse('./data/country_data.xml')\n",
    "root = tree.getroot()\n",
    "for rank in root.iter('rank'):\n",
    "    new_rank = int(rank.text) + 1\n",
    "    rank.text = str(new_rank)\n",
    "    rank.set('updated', 'yes')\n",
    "tree.write('./data/output.xml')"
   ]
  },
  {
   "cell_type": "markdown",
   "metadata": {},
   "source": [
    "## Try It Out: XML Parsing in Python\n",
    "\n",
    "- https://www.geeksforgeeks.org/xml-parsing-python"
   ]
  },
  {
   "cell_type": "code",
   "execution_count": null,
   "metadata": {},
   "outputs": [],
   "source": []
  }
 ],
 "metadata": {
  "kernelspec": {
   "display_name": "Python 3",
   "language": "python",
   "name": "python3"
  },
  "language_info": {
   "codemirror_mode": {
    "name": "ipython",
    "version": 3
   },
   "file_extension": ".py",
   "mimetype": "text/x-python",
   "name": "python",
   "nbconvert_exporter": "python",
   "pygments_lexer": "ipython3",
   "version": "3.8.5"
  }
 },
 "nbformat": 4,
 "nbformat_minor": 2
}
