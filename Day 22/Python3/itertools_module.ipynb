{
 "cells": [
  {
   "cell_type": "markdown",
   "metadata": {},
   "source": [
    "## The ```itertools``` Module \n",
    "\n",
    "* Standardized core set of fast memory efficient iteratoration building blocks\n",
    "* Provides functions that operate on iterators to produce more complex iterators\n",
    "* Designed to help you to \"think iteratively\"\n",
    "* Inspired by features of lazy functional programming languages (Haskell and SML)\n",
    "* See: https://docs.python.org/3/library/itertools.html"
   ]
  },
  {
   "cell_type": "code",
   "execution_count": 1,
   "metadata": {},
   "outputs": [],
   "source": [
    "import itertools"
   ]
  },
  {
   "cell_type": "code",
   "execution_count": 2,
   "metadata": {},
   "outputs": [
    {
     "name": "stdout",
     "output_type": "stream",
     "text": [
      "5 10 15 20 25 30 "
     ]
    }
   ],
   "source": [
    "for i in itertools.count(5, 5):  \n",
    "    if i == 35:  \n",
    "        break\n",
    "    else:  \n",
    "        print(i, end =\" \") "
   ]
  },
  {
   "cell_type": "code",
   "execution_count": 3,
   "metadata": {},
   "outputs": [
    {
     "name": "stdout",
     "output_type": "stream",
     "text": [
      "A B A B A B A B "
     ]
    }
   ],
   "source": [
    "count = 0\n",
    "for i in itertools.cycle('AB'):  \n",
    "    if count > 7:  \n",
    "        break\n",
    "    else:  \n",
    "        print(i, end = \" \")  \n",
    "        count += 1"
   ]
  },
  {
   "cell_type": "code",
   "execution_count": 4,
   "metadata": {},
   "outputs": [
    {
     "name": "stdout",
     "output_type": "stream",
     "text": [
      "[25, 25, 25, 25]\n"
     ]
    }
   ],
   "source": [
    "print (list(itertools.repeat(25, 4)))"
   ]
  },
  {
   "cell_type": "code",
   "execution_count": 5,
   "metadata": {},
   "outputs": [
    {
     "name": "stdout",
     "output_type": "stream",
     "text": [
      "1 2 3 a b c "
     ]
    }
   ],
   "source": [
    "for i in itertools.chain([1, 2, 3], ['a', 'b', 'c']):\n",
    "    print(i, end=' ')"
   ]
  },
  {
   "cell_type": "code",
   "execution_count": 6,
   "metadata": {},
   "outputs": [
    {
     "data": {
      "text/plain": [
       "[2004365447688, 2004365447688]"
      ]
     },
     "execution_count": 6,
     "metadata": {},
     "output_type": "execute_result"
    }
   ],
   "source": [
    "nums = [1, 2, 3, 4, 5, 6, 7, 8, 9, 10]\n",
    "iters = [iter(nums)] * 2\n",
    "list(id(itr) for itr in iters)"
   ]
  },
  {
   "cell_type": "code",
   "execution_count": 7,
   "metadata": {},
   "outputs": [
    {
     "name": "stdout",
     "output_type": "stream",
     "text": [
      "1089154\n"
     ]
    }
   ],
   "source": [
    "import itertools\n",
    "\n",
    "# Find sum of even-valued terms in Fibonacci sequence that do not exceed 1000000\n",
    "def fib():\n",
    "    x,y = 0,1\n",
    "    while True:\n",
    "        yield x\n",
    "        x,y = y, x+y\n",
    "        \n",
    "print(sum(x for x in itertools.takewhile(lambda x: x <= 1000000, fib()) if x % 2 == 0))"
   ]
  },
  {
   "cell_type": "code",
   "execution_count": null,
   "metadata": {},
   "outputs": [],
   "source": []
  }
 ],
 "metadata": {
  "kernelspec": {
   "display_name": "Python 3",
   "language": "python",
   "name": "python3"
  },
  "language_info": {
   "codemirror_mode": {
    "name": "ipython",
    "version": 3
   },
   "file_extension": ".py",
   "mimetype": "text/x-python",
   "name": "python",
   "nbconvert_exporter": "python",
   "pygments_lexer": "ipython3",
   "version": "3.7.6"
  }
 },
 "nbformat": 4,
 "nbformat_minor": 4
}
