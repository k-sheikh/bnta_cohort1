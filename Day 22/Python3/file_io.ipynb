{
 "cells": [
  {
   "cell_type": "markdown",
   "metadata": {},
   "source": [
    "# File IO\n",
    "\n",
    "- Input and Output Python Docs: https://docs.python.org/3/tutorial/inputoutput.html\n",
    "- Python File I/O Tutorial: https://www.tutorialspoint.com/python/python_files_io.htm\n",
    "- File Handling in Python: https://www.geeksforgeeks.org/file-handling-python\n",
    "- Read a File Line-by-Line in Python: https://stackabuse.com/read-a-file-line-by-line-in-python"
   ]
  },
  {
   "cell_type": "code",
   "execution_count": 4,
   "metadata": {},
   "outputs": [
    {
     "name": "stdout",
     "output_type": "stream",
     "text": [
      "Name of the file:  myfile.txt\n",
      "Closed or not :  False\n",
      "Opening mode :  w+\n"
     ]
    }
   ],
   "source": [
    "fo = open(\"myfile.txt\", \"w+\")\n",
    "print (\"Name of the file: \", fo.name)\n",
    "print (\"Closed or not : \", fo.closed)\n",
    "print (\"Opening mode : \", fo.mode)\n",
    "fo.write(\"test string\");\n",
    "fo.close()"
   ]
  },
  {
   "cell_type": "markdown",
   "metadata": {},
   "source": [
    "## Try It Out: Python File IO\n",
    "\n",
    "- https://www.w3schools.com/python/python_file_handling.asp\n",
    "- https://www.w3schools.com/python/python_file_write.asp"
   ]
  },
  {
   "cell_type": "code",
   "execution_count": null,
   "metadata": {},
   "outputs": [],
   "source": []
  }
 ],
 "metadata": {
  "kernelspec": {
   "display_name": "Python 3",
   "language": "python",
   "name": "python3"
  },
  "language_info": {
   "codemirror_mode": {
    "name": "ipython",
    "version": 3
   },
   "file_extension": ".py",
   "mimetype": "text/x-python",
   "name": "python",
   "nbconvert_exporter": "python",
   "pygments_lexer": "ipython3",
   "version": "3.8.5"
  }
 },
 "nbformat": 4,
 "nbformat_minor": 2
}
