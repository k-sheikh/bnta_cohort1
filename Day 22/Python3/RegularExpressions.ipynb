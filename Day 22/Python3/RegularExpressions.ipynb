{
 "cells": [
  {
   "cell_type": "markdown",
   "metadata": {},
   "source": [
    "# Regular Expressions\n",
    "\n",
    "* See: https://docs.python.org/3/howto/regex.html\n",
    "* See: https://docs.python.org/3/library/re.html\n",
    "* See: https://www.guru99.com/python-regular-expressions-complete-tutorial.html\n",
    "\n",
    "## Metacharacters:\n",
    "```. ^ $ * + ? { } [ ] \\ | ( )```\n",
    "\n",
    "## Special Sequences \n",
    "\n",
    "* ```\\d``` Matches any decimal digit, equivalent to ```[0-9]```\n",
    "* ```\\D``` Matches any non-digit character, equivalent to ```[^0-9]```\n",
    "* ```\\s``` Matches any whitespace character, equivalent to ```[ \\t\\n\\r\\f\\v]```\n",
    "* ```\\S``` Matches any non-whitespace character, equivalent to ```[^ \\t\\n\\r\\f\\v]```\n",
    "* ```\\w``` Matches any alphanumeric character, equivalent to ```[a-zA-Z0-9_]```\n",
    "* ```\\W``` Matches any non-alphanumeric character, equivalent to  ```[^a-zA-Z0-9_]```\n",
    "* etc.\n",
    "\n",
    "## Sets\n",
    "\n",
    "* ```[arn]``` returns a match where one of the specified characters (a, r, or n) are present\t\n",
    "* ```[a-n]``` returns a match for any lower case character, alphabetically between a and n\t\n",
    "* ```[^arn]``` returns a match for any character EXCEPT a, r, and n\t\n",
    "* ```[0123]``` returns a match where any of the specified digits (0, 1, 2, or 3) are present\t\n",
    "* ```[0-9]``` returns a match for any digit between 0 and 9\t\n",
    "* ```[0-5][0-9]``` returns a match for any two-digit numbers from 00 and 59\t\n",
    "* ```[a-zA-Z]``` returns a match for any character alphabetically between a and z, lower case OR upper case\t\n",
    "* ```[+]``` In sets, +, *, ., |, (), $,{} has no special meaning, so [+] means: return a match for any + character\n",
    "\n",
    "## Performing Matches\n",
    "\n",
    "* ```match()``` Determine if the RE matches at the beginning of the string.\n",
    "* ```search()``` Scan through a string, looking for any location where this RE matches.\n",
    "* ```findall()``` Find all substrings where the RE matches, and returns them as a list.\n",
    "* ```finditer()``` Find all substrings where the RE matches, and returns them as an iterator."
   ]
  },
  {
   "cell_type": "code",
   "execution_count": 1,
   "metadata": {},
   "outputs": [
    {
     "name": "stdout",
     "output_type": "stream",
     "text": [
      "<re.Match object; span=(0, 17), match='The rain in Spain'>\n",
      "Found a match!\n"
     ]
    }
   ],
   "source": [
    "import re\n",
    "\n",
    "txt = \"The rain in Spain\"\n",
    "x = re.search(\"^The.*Spain$\", txt)\n",
    "print(x)\n",
    "if x:\n",
    "  print(\"Found a match!\")\n",
    "else:\n",
    "  print(\"No match\")"
   ]
  },
  {
   "cell_type": "code",
   "execution_count": 2,
   "metadata": {},
   "outputs": [
    {
     "name": "stdout",
     "output_type": "stream",
     "text": [
      "b@google\n"
     ]
    }
   ],
   "source": [
    "str = 'purple alice-b@google.com monkey dishwasher'\n",
    "match = re.search(r'\\w+@\\w+', str)\n",
    "if match:\n",
    "    print(match.group())"
   ]
  },
  {
   "cell_type": "code",
   "execution_count": 3,
   "metadata": {},
   "outputs": [
    {
     "name": "stdout",
     "output_type": "stream",
     "text": [
      "re.compile('[a-z]+')\n",
      "<re.Match object; span=(0, 5), match='tempo'>\n",
      "Match found:  tempo\n"
     ]
    }
   ],
   "source": [
    "p = re.compile('[a-z]+')\n",
    "print(p)\n",
    "m = p.match('tempo')\n",
    "print(m)\n",
    "if m:\n",
    "    print('Match found: ', m.group())\n",
    "else:\n",
    "    print('No match')"
   ]
  },
  {
   "cell_type": "code",
   "execution_count": 4,
   "metadata": {},
   "outputs": [
    {
     "data": {
      "text/plain": [
       "'def'"
      ]
     },
     "execution_count": 4,
     "metadata": {},
     "output_type": "execute_result"
    }
   ],
   "source": [
    "import re\n",
    "m = re.search('(?<=abc)def', 'abcdef')\n",
    "m.group(0)"
   ]
  },
  {
   "cell_type": "code",
   "execution_count": 5,
   "metadata": {},
   "outputs": [
    {
     "data": {
      "text/plain": [
       "'egg'"
      ]
     },
     "execution_count": 5,
     "metadata": {},
     "output_type": "execute_result"
    }
   ],
   "source": [
    "m = re.search(r'(?<=-)\\w+', 'spam-egg')\n",
    "m.group(0)"
   ]
  },
  {
   "cell_type": "code",
   "execution_count": null,
   "metadata": {},
   "outputs": [],
   "source": []
  }
 ],
 "metadata": {
  "kernelspec": {
   "display_name": "Python 3",
   "language": "python",
   "name": "python3"
  },
  "language_info": {
   "codemirror_mode": {
    "name": "ipython",
    "version": 3
   },
   "file_extension": ".py",
   "mimetype": "text/x-python",
   "name": "python",
   "nbconvert_exporter": "python",
   "pygments_lexer": "ipython3",
   "version": "3.7.6"
  }
 },
 "nbformat": 4,
 "nbformat_minor": 4
}
