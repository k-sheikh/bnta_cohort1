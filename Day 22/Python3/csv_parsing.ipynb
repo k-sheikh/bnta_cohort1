{
 "cells": [
  {
   "cell_type": "markdown",
   "metadata": {},
   "source": [
    "# CSV File Reading and Writing\n",
    "\n",
    "- CSV File Reading and Writing ocs: https://docs.python.org/3/library/csv.html\n",
    "- Pandas Tutorial: Importing Data with read_csv(): https://www.datacamp.com/community/tutorials/pandas-read-csv\n",
    "- Reading and Writing CSV Files in Python: https://www.geeksforgeeks.org/reading-and-writing-csv-files-in-python"
   ]
  },
  {
   "cell_type": "markdown",
   "metadata": {},
   "source": [
    "## Reading Rows From a CSV file: ```csv.reader```\n",
    "\n",
    "See: https://docs.python.org/3/library/csv.html"
   ]
  },
  {
   "cell_type": "code",
   "execution_count": 1,
   "metadata": {},
   "outputs": [
    {
     "name": "stdout",
     "output_type": "stream",
     "text": [
      "Spam, Spam, Spam, Spam, Spam, Baked Beans\n",
      "Spam, \"Lovely, Spam\", Wonderful, Spam, and, more\n"
     ]
    }
   ],
   "source": [
    "import csv\n",
    "\n",
    "with open('./data/eggs.csv', newline='') as csvfile:\n",
    "    csv_reader = csv.reader(csvfile, delimiter=';', quotechar='|')\n",
    "    for row in csv_reader:\n",
    "        print(', '.join(row))"
   ]
  },
  {
   "cell_type": "markdown",
   "metadata": {},
   "source": [
    "## Importing a DataFrame From a CSV File: ```pandas.read_csv()```\n",
    "\n",
    "See: https://towardsdatascience.com/getting-started-to-data-analysis-with-python-pandas-with-titanic-dataset-a195ab043c77"
   ]
  },
  {
   "cell_type": "code",
   "execution_count": 2,
   "metadata": {},
   "outputs": [
    {
     "data": {
      "text/plain": [
       "<seaborn.axisgrid.FacetGrid at 0x1b7b53e8e50>"
      ]
     },
     "execution_count": 2,
     "metadata": {},
     "output_type": "execute_result"
    },
    {
     "data": {
      "image/png": "[encoded data removed]",
      "text/plain": [
       "<Figure size 411.875x360 with 1 Axes>"
      ]
     },
     "metadata": {
      "needs_background": "light"
     },
     "output_type": "display_data"
    }
   ],
   "source": [
    "import pandas as pd\n",
    "import seaborn as sns \n",
    "\n",
    "df_titanic = pd.read_csv('https://raw.githubusercontent.com/BigDataGal/Python-for-Data-Science/master/titanic-train.csv')\n",
    "df_titanic.head()\n",
    "  \n",
    "sns.catplot(x =\"Sex\", hue =\"Survived\", kind =\"count\", data = df_titanic) "
   ]
  },
  {
   "cell_type": "markdown",
   "metadata": {},
   "source": [
    "## Try It Out: Pandas Read CSV\n",
    "\n",
    "- https://www.w3schools.com/python/pandas_csv.asp"
   ]
  },
  {
   "cell_type": "code",
   "execution_count": null,
   "metadata": {},
   "outputs": [],
   "source": []
  }
 ],
 "metadata": {
  "kernelspec": {
   "display_name": "Python 3",
   "language": "python",
   "name": "python3"
  },
  "language_info": {
   "codemirror_mode": {
    "name": "ipython",
    "version": 3
   },
   "file_extension": ".py",
   "mimetype": "text/x-python",
   "name": "python",
   "nbconvert_exporter": "python",
   "pygments_lexer": "ipython3",
   "version": "3.8.5"
  }
 },
 "nbformat": 4,
 "nbformat_minor": 2
}
