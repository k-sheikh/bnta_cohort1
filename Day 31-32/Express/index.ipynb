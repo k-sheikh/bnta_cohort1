{
 "cells": [
  {
   "cell_type": "markdown",
   "metadata": {},
   "source": [
    "# Express\n",
    "\n",
    "Express is a popular unopinionated server-side JavaScript web framework that runs on Node.js.\n",
    "\n",
    "- MDN  Express Web Framework: https://developer.mozilla.org/en-US/docs/Learn/Server-side/Express_Nodejs\n",
    "- Several variations:\n",
    " - MEAN: MongoDB (database), Express.js (controller), Angular (presentation), Node.js (server)\n",
    " - MERN: MongoDB (database), Express.js (controller), React.js (presentation), Node.js (server)\n",
    " - MEVN: MongoDB (database), Express.js (controller), Vue.js presentation), Node.js (server)\n",
    " - etc."
   ]
  },
  {
   "cell_type": "markdown",
   "metadata": {},
   "source": [
    "## Pre-Read Assignment\n",
    "\n",
    "- Read: https://developer.mozilla.org/en-US/docs/Learn/Server-side/Express_Nodejs/Introduction\n",
    "- Be prepared to provide a brief in-class presentation on any of the following concepts:"
   ]
  },
  {
   "cell_type": "markdown",
   "metadata": {},
   "source": [
    "## Topics\n",
    "\n",
    "- Setup\n",
    "- Architecture\n",
    "- Routing\n",
    "- REST APIs\n",
    "- CRUD operations\n",
    "- Working with forms\n",
    "- Asynchronous server programming\n",
    "- Database access\n",
    "- Authentication and Authorization\n",
    "- Routes and controllers\n",
    "\n",
    "## Tools\n",
    "\n",
    "- Postman: https://www.postman.com/downloads/\n"
   ]
  },
  {
   "cell_type": "markdown",
   "metadata": {},
   "source": [
    "## Official Express Docs\n",
    "\n",
    "- **Express Docs** https://developer.mozilla.org/en-US/docs/Learn/Server-side/Express_Nodejs"
   ]
  },
  {
   "cell_type": "markdown",
   "metadata": {},
   "source": [
    "## Free Online\n",
    "\n",
    "- Server-side Development with NodeJS, Express and MongoDB (Hong Kong University): https://www.coursera.org/learn/server-side-nodejs"
   ]
  },
  {
   "cell_type": "markdown",
   "metadata": {},
   "source": [
    "## Lab\n",
    "\n",
    "- **Express web framework: Tutorials** (Node.js/JavaScript): https://developer.mozilla.org/en-US/docs/Learn/Server-side/Express_Nodejs"
   ]
  },
  {
   "cell_type": "markdown",
   "metadata": {},
   "source": [
    "## Homework\n",
    "\n",
    "- **Node.js + Express Tutorial for 2021** https://medium.com/better-programming/build-a-simple-web-server-using-node-js-and-express-27f3d6eb4e86\n",
    "- Create your own Express web site that implements an app such as a chat service\n",
    "- Be prepared to present the working code in class"
   ]
  },
  {
   "cell_type": "markdown",
   "metadata": {},
   "source": [
    "## Learning Resources\n",
    "\n",
    "- https://developer.mozilla.org/en-US/docs/Learn/Server-side/Express_Nodejs\n",
    "- https://zellwk.com/blog/crud-express-mongodb"
   ]
  },
  {
   "cell_type": "code",
   "execution_count": null,
   "metadata": {},
   "outputs": [],
   "source": []
  }
 ],
 "metadata": {
  "kernelspec": {
   "display_name": "Python 3",
   "language": "python",
   "name": "python3"
  },
  "language_info": {
   "codemirror_mode": {
    "name": "ipython",
    "version": 3
   },
   "file_extension": ".py",
   "mimetype": "text/x-python",
   "name": "python",
   "nbconvert_exporter": "python",
   "pygments_lexer": "ipython3",
   "version": "3.8.5"
  }
 },
 "nbformat": 4,
 "nbformat_minor": 4
}