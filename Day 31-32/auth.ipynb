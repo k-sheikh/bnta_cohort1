{
 "metadata": {
  "language_info": {
   "codemirror_mode": {
    "name": "ipython",
    "version": 3
   },
   "file_extension": ".py",
   "mimetype": "text/x-python",
   "name": "python",
   "nbconvert_exporter": "python",
   "pygments_lexer": "ipython3",
   "version": 3
  },
  "orig_nbformat": 2
 },
 "nbformat": 4,
 "nbformat_minor": 2,
 "cells": [
  {
   "source": [
    "# Authentication and Authorization\n",
    "\n",
    "Authentication is the process of verifying who a user is, while authorization is the process of verifying what they have access to.\n",
    "\n",
    "For security purpose one might need to protect the routes of APIs for unauthorized access.\n",
    "\n",
    "\n",
    " ## JSON Web Tokens (JWT)\n",
    "\n",
    "JSON Web Tokens (JWT) have been introduced as a method of communicating between two parties securely. It is very popular for handling authentication and authorization via HTTP.\n",
    "HTTP is a stateless protocol, which means that an HTTP request does not maintain state and doesn’t know anything about previous requests.\n",
    "\n",
    "More: https://stackabuse.com/understanding-json-web-tokens-jwt/\n",
    " \n",
    "\n",
    " ## AuthO\n",
    "\n",
    "Auth0 is a flexible, third-party solution to add authentication and authorization services to your applications. Widely used in the industry, saves your team the effort of building an in-house auth system.\n",
    "\n",
    "More: https://auth0.com/\n",
    "\n",
    "Tutorials:\n",
    "- https://youtu.be/QQwo4E_B0y8\n",
    "- https://auth0.com/docs/quickstart/webapp/express\n"
   ],
   "cell_type": "markdown",
   "metadata": {}
  },
  {
   "cell_type": "code",
   "execution_count": null,
   "metadata": {},
   "outputs": [],
   "source": []
  }
 ]
}