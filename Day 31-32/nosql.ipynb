{
 "metadata": {
  "language_info": {
   "codemirror_mode": {
    "name": "ipython",
    "version": 3
   },
   "file_extension": ".py",
   "mimetype": "text/x-python",
   "name": "python",
   "nbconvert_exporter": "python",
   "pygments_lexer": "ipython3",
   "version": 3
  },
  "orig_nbformat": 2
 },
 "nbformat": 4,
 "nbformat_minor": 2,
 "cells": [
  {
   "source": [
    "# NoSQL\n",
    "\n",
    "SQL stands for “Structured Query Language”, whereas NoSQL is literally “Not only SQL”.\n",
    "\n",
    "The data stored in a NoSQL database does not need a predefined schema, the data can be column stores, document-oriented, graph-based, or key-value pairs. This provides much more flexibility and less upfront planning when managing your database.\n",
    "A NoSQL database is the best fit for unstructured data (e.g. article content, social media posts, sensor data).\n",
    "\n",
    "It follows the [BASE model](https://www.lifewire.com/abandoning-acid-in-favor-of-base-1019674), as opposed to the SQL’s [ACID model](https://www.lifewire.com/the-acid-model-1019731).\n",
    "\n",
    "- NoSQL simply explained, video: https://youtu.be/0buKQHokLK8\n"
   ],
   "cell_type": "markdown",
   "metadata": {}
  },
  {
   "source": [
    "## NoSQL vs SQL\n",
    "\n",
    "1) **How you data looks like?**\n",
    "\n",
    "Depending on the answer it could be either SQL or NoSQL.\n",
    "\n",
    "2) **How quickly and how often will you query the db?**\n",
    "\n",
    "SQL is structured and organized, therefore more efficient at executing queries, retrieving and editing data.\n",
    "\n",
    "3) **What are your scalability needs?**\n",
    "\n",
    "SQL scales *vertically*. When the data pool grows the capacity of a single server (increasing CPU, RAM, or SSD) needs to increase to scale the database. SQL databases were designed to run on a single server to maintain the integrity of the data, so <u>they’re not easy to scale</u>.\n",
    "\n",
    "NoSQL scales *horizontally*, therefore more servers can be added to power your growing database, making it <u>very easy to scale</u>.\n",
    "Due to the lack of structure of the data, each stored object is self-contained and independent so it can be stored in multiple servers without having to be linked.\n",
    "\n",
    "More:\n",
    "- https://www.missioncloud.com/blog/horizontal-vs-vertical-scaling-which-is-right-for-your-app\n",
    "- https://dev.to/forbeslindesay/choosing-a-node-js-database-498f\n"
   ],
   "cell_type": "markdown",
   "metadata": {}
  },
  {
   "cell_type": "code",
   "execution_count": null,
   "metadata": {},
   "outputs": [],
   "source": []
  }
 ]
}