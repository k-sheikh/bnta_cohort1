{
 "cells": [
  {
   "cell_type": "markdown",
   "metadata": {},
   "source": [
    "# Node File IO\n",
    "\n",
    "File I/O is provided by simple wrappers around standard POSIX functions:\n",
    "* Read files\n",
    "* Create files\n",
    "* Update files\n",
    "* Delete files\n",
    "* Rename files\n",
    "* etc."
   ]
  },
  {
   "cell_type": "markdown",
   "metadata": {},
   "source": [
    "## Try It Out"
   ]
  },
  {
   "cell_type": "code",
   "execution_count": 3,
   "metadata": {},
   "outputs": [
    {
     "name": "stdout",
     "output_type": "stream",
     "text": [
      "Hello file!\n",
      "File written!\n"
     ]
    }
   ],
   "source": [
    "{\n",
    "var fs = require('fs');\n",
    "\n",
    "fs.writeFile('./data/data.txt', 'Hello file!', function (error) {\n",
    "    if (error) throw error;\n",
    "    console.log('File written!');\n",
    "});\n",
    "            \n",
    "fs.readFile('./data/data.txt', \"utf8\", function(error, data) {\n",
    "    console.log(data);\n",
    "});\n",
    "}"
   ]
  },
  {
   "cell_type": "markdown",
   "metadata": {},
   "source": [
    "## Try It Out\n",
    "\n",
    "Experiment with the code example at: https://www.tutorialspoint.com/nodejs/nodejs_file_system.htm"
   ]
  },
  {
   "cell_type": "markdown",
   "metadata": {},
   "source": [
    "## Lab\n",
    "\n",
    "- Study: https://blog.insiderattack.net/handling-io-nodejs-event-loop-part-4-418062f917d1"
   ]
  },
  {
   "cell_type": "markdown",
   "metadata": {},
   "source": [
    "## Homework\n",
    "\n",
    "- Read: https://nodejs.org/en/docs/guides/blocking-vs-non-blocking"
   ]
  },
  {
   "cell_type": "code",
   "execution_count": null,
   "metadata": {},
   "outputs": [],
   "source": []
  }
 ],
 "metadata": {
  "kernelspec": {
   "display_name": "Javascript (Node.js)",
   "language": "javascript",
   "name": "javascript"
  },
  "language_info": {
   "file_extension": ".js",
   "mimetype": "application/javascript",
   "name": "javascript",
   "version": "10.13.0"
  }
 },
 "nbformat": 4,
 "nbformat_minor": 4
}
