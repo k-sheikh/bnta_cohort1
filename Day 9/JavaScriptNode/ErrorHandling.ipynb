{
 "cells": [
  {
   "cell_type": "markdown",
   "metadata": {},
   "source": [
    "# Error Handling\n",
    "\n",
    "See: https://developer.mozilla.org/en-US/docs/Web/JavaScript/Reference/Global_Objects/Error  \n",
    "See: https://developer.mozilla.org/en-US/docs/Web/JavaScript/Reference/Statements/try...catch  \n",
    "\n",
    "## Error Handling Keywords\n",
    "\n",
    "* There are four keywords used in error handling:\n",
    "    - The ```try``` keyword tests a block of code for errors\n",
    "    - The ```catch``` keyword handles any error that results in the ```try``` block\n",
    "    - The ```finally``` keyword executes regardless of what happens in ```try``` and ```catch```\n",
    "    - The ```throw``` keyword throws an error such as ```Error```, ```EvalError```, etc.\n",
    "    \n",
    "## What Can Be Thrown?\n",
    "\n",
    "* Any datatype (```string``` or ```number```, etc.) can be thrown but ```Error``` types are most common\n",
    "* The ```Error``` built-in type is used to encapsulate a general runtime error\n",
    "* Other more specialized built-in error types exist (see below)\n",
    "* The ```Error``` object can also be used as a base object for custom user-defined exception types\n",
    "\n",
    "## ECMAScript Exceptions\n",
    "\n",
    "ECMAScript exceptions are the standard built-in JavaScript error types:\n",
    "* ```Error``` is the generic base type used for general purpose errors\n",
    "* ```EvalError``` is an error in the ```eval()``` function \n",
    "* ```InternalError``` is an error thrown by the JavaScript engine (e.g. \"too much recursion\", etc.)\n",
    "* ```RangeError``` is an error when a numeric variable or parameter is outside of valid range\n",
    "* ```ReferenceError``` is an error when de-referencing an invalid reference\n",
    "* ```SyntaxError``` is a error related to invalid syntax\n",
    "* ```TypeError``` is an error when a variable or parameter is not of valid type\n",
    "* ```URIError``` is an error when invalid parameters are passed to ```encodeURI()``` or ```decodeURI()```\n",
    "\n",
    "## Browser Exceptions\n",
    "\n",
    "JavaScript running in the browser can throw DOM-related errors (not supported in Node.js)\n",
    "* ```DOMException``` can be thrown by calling methods  or accessing properties in the DOM API\n",
    "* ```DOMError``` **NOTE: deprecated** (no longer supported/recommended)"
   ]
  },
  {
   "cell_type": "code",
   "execution_count": 53,
   "metadata": {},
   "outputs": [
    {
     "name": "stderr",
     "output_type": "stream",
     "text": [
      "This is just a primitive string value\n"
     ]
    }
   ],
   "source": [
    "try {\n",
    "    throw \"This is just a primitive string value\" // usually you would throw and Error object\n",
    "} catch (e) {\n",
    "    console.error(e)                              // This is just a primitive string value\n",
    "}"
   ]
  },
  {
   "cell_type": "markdown",
   "metadata": {},
   "source": [
    "## Error Instance Members\n",
    "\n",
    "* The ```Error.prototype.message``` property is the human readable error message text\n",
    "* The ```Error.prototype.name``` property is the name of the Error\n",
    "* Several additional non-standard browser-specific Error instance properties exist\n",
    "* The ```Error.prototype.toString()``` method returns a string representing the specified object."
   ]
  },
  {
   "cell_type": "markdown",
   "metadata": {},
   "source": [
    "## Throwing and Catching Errors\n",
    "\n",
    "Here is the syntax for creating and throwing a new ```Error``` object:\n",
    "\n",
    "```\n",
    "throw new Error([message[, fileName[, lineNumber]]])\n",
    "```\n",
    "\n",
    "* ```messageOptional``` is a human-readable string that describes the error\n",
    "* ```fileName``` (optional) is the fileName property on the newly created Error object\n",
    "    - Defaults to name of file that created the Error object\n",
    "* ```lineNumber``` (optional) is the lineNumber property on the newly created Error object\n",
    "    - Defaults to line number that created the Error object\n",
    "\n",
    "This is how you use it:\n",
    "\n",
    "* You define a block of code that contains code that may throw an error using the ```try``` keyword\n",
    "* You can create an ```Error``` object and then raise the error using the ```throw``` keyword\n",
    "* You catch the error using the ```catch``` keyword\n",
    "* You can handle specific error types by testing the error type with the ```instanceof``` keyword"
   ]
  },
  {
   "cell_type": "code",
   "execution_count": 13,
   "metadata": {},
   "outputs": [
    {
     "name": "stdout",
     "output_type": "stream",
     "text": [
      "Antecedent code runs normally\n"
     ]
    },
    {
     "name": "stderr",
     "output_type": "stream",
     "text": [
      "Starting try block\n",
      "Starting catch block\n",
      "Error\n",
      "Oops!\n",
      "Error: Oops!\n",
      "    at evalmachine.<anonymous>:5:11\n",
      "    at Script.runInThisContext (vm.js:96:20)\n",
      "    at Object.runInThisContext (vm.js:303:38)\n",
      "    at run ([eval]:1054:15)\n",
      "    at onRunRequest ([eval]:888:18)\n",
      "    at onMessage ([eval]:848:13)\n",
      "    at process.emit (events.js:182:13)\n",
      "    at emit (internal/child_process.js:812:12)\n",
      "    at process._tickCallback (internal/process/next_tick.js:63:19)\n",
      "Ending catch block\n",
      "Executing finally\n"
     ]
    },
    {
     "name": "stdout",
     "output_type": "stream",
     "text": [
      "Subsequent code runs normally\n"
     ]
    }
   ],
   "source": [
    "{\n",
    "console.log(\"Antecedent code runs normally\"); //Antecedent code runs normally\n",
    "try {\n",
    "    console.error(\"Starting try block\")       // Starting try block\n",
    "    throw new Error('Oops!')                  // this knocks us out of try block (usually in if)\n",
    "    console.error(\"Ending try block\")         // Unreachable code (never get here)\n",
    "} catch (e) {\n",
    "    console.error(\"Starting catch block\")     // Starting catch block\n",
    "    console.error(e.name)                     // Error\n",
    "    console.error(e.message)                  // Oops!\n",
    "    console.error(e.stack)                    // at evalmachine.<anonymous>:5:11 ... etc.\n",
    "    console.error(\"Ending catch block\")       // Ending catch block\n",
    "} finally {\n",
    "    console.error('Executing finally');       // Executing finally\n",
    "}\n",
    "console.log(\"Subsequent code runs normally\"); // Subsequent code runs normally\n",
    "}"
   ]
  },
  {
   "cell_type": "markdown",
   "metadata": {},
   "source": [
    "## Handeling Specific Errors\n",
    "\n",
    "* You can filter for specific types of error by using the ```instanceof``` operator\n",
    "* In the code below, try commenting/uncommenting individual calls to ```foo()``` to see this work"
   ]
  },
  {
   "cell_type": "code",
   "execution_count": 16,
   "metadata": {},
   "outputs": [
    {
     "name": "stdout",
     "output_type": "stream",
     "text": [
      "Smooth sailing :)\n",
      "NOTE: Try calling foo() with different numeric parameters to see how instnceof is used\n"
     ]
    }
   ],
   "source": [
    "function foo(n) {\n",
    "    if( !(n >= 10 && n <= 20) ) {\n",
    "        throw new RangeError(\"The argument n must be between 1 and 10.\")\n",
    "    }\n",
    "    if( n === 13) {\n",
    "        throw new Error('Oops!')\n",
    "    }\n",
    "    console.log(\"Smooth sailing :)\");\n",
    "}\n",
    "\n",
    "try {\n",
    "    // try commenting and uncommenting various combinations of the following three statements\n",
    "    foo(15);                 // 15 -> Smooth sailing :)\n",
    "    //foo(13);                 // 13 -> Error: Oops!\n",
    "    //foo(23);                 // 23 -> RangeError: The argument n must be between 1 and 10.\n",
    "} catch (e) {\n",
    "    if (e instanceof RangeError) {\n",
    "        console.error(e.name + ': ' + e.message)\n",
    "    } else if (e instanceof Error) {\n",
    "        console.error(e.name + ': ' + e.message)\n",
    "    } else if (e instanceof RangeError) {\n",
    "        console.error(e.name + ': ' + e.message)\n",
    "    }\n",
    "// ... etc\n",
    "}\n",
    "console.log(\"NOTE: Try calling foo() with different numeric parameters to see how instnceof is used\");"
   ]
  },
  {
   "cell_type": "markdown",
   "metadata": {},
   "source": [
    "## Catching Errors Up the Call Stack\n",
    "\n",
    "* The ```try``` and ```catch``` can be in a different stack frame from where the error is thrown\n",
    "* The following demo shows how an error is caught in code that calls a function that throws the error\n",
    "* Of course, this works for any depth of calls that make calls to other functions\n",
    "* The error is thrown and the error handling mechanism unwinds the stack until a catch is found\n",
    "* The first catch that is found is executed and then it is done (no more than one catch executes)\n",
    "* If no error handler is found, the runtime default error handler writes error info to console output"
   ]
  },
  {
   "cell_type": "code",
   "execution_count": 6,
   "metadata": {},
   "outputs": [
    {
     "name": "stdout",
     "output_type": "stream",
     "text": [
      "good\n"
     ]
    },
    {
     "name": "stderr",
     "output_type": "stream",
     "text": [
      "Error: Oops!\n",
      "all done :)\n"
     ]
    }
   ],
   "source": [
    "{\n",
    "function foo(param) {\n",
    "    if (param === \"good\") {\n",
    "        console.log(param);\n",
    "        return;\n",
    "    } else {\n",
    "        throw new Error('Oops!')\n",
    "    }\n",
    "}\n",
    "    \n",
    "try {\n",
    "    foo(\"good\");\n",
    "    foo(\"bad\");\n",
    "} catch (err) {\n",
    "    console.error(err.name + ': ' + err.message)\n",
    "} finally {\n",
    "    console.error('all done :)');\n",
    "}\n",
    "}"
   ]
  },
  {
   "cell_type": "markdown",
   "metadata": {},
   "source": [
    "## User Defined Exceptions\n",
    "\n",
    "* The following demo shows a custom error named ```MustNotBeMultipleOfThreeError```\n",
    "* The ```testMustNotBeMultipleOfThreeError``` function receives n and throws error when ```n%3===0```\n",
    "* This function is called in a loop with values of ```n``` equal to whole numbers from 0 to 9\n",
    "* The output shows that the error is thrown only for the values 0, 3, 6, 9 (multiples of 3)"
   ]
  },
  {
   "cell_type": "code",
   "execution_count": 47,
   "metadata": {},
   "outputs": [
    {
     "name": "stdout",
     "output_type": "stream",
     "text": [
      "n:  0\n"
     ]
    },
    {
     "name": "stderr",
     "output_type": "stream",
     "text": [
      "MustNotBeMultipleOfThreeError: n is a multiple of 3\n"
     ]
    },
    {
     "name": "stdout",
     "output_type": "stream",
     "text": [
      "n:  1\n",
      "n:  2\n",
      "n:  3\n"
     ]
    },
    {
     "name": "stderr",
     "output_type": "stream",
     "text": [
      "MustNotBeMultipleOfThreeError: n is a multiple of 3\n"
     ]
    },
    {
     "name": "stdout",
     "output_type": "stream",
     "text": [
      "n:  4\n",
      "n:  5\n",
      "n:  6\n"
     ]
    },
    {
     "name": "stderr",
     "output_type": "stream",
     "text": [
      "MustNotBeMultipleOfThreeError: n is a multiple of 3\n"
     ]
    },
    {
     "name": "stdout",
     "output_type": "stream",
     "text": [
      "n:  7\n",
      "n:  8\n",
      "n:  9\n"
     ]
    },
    {
     "name": "stderr",
     "output_type": "stream",
     "text": [
      "MustNotBeMultipleOfThreeError: n is a multiple of 3\n"
     ]
    }
   ],
   "source": [
    "{\n",
    "class MustNotBeMultipleOfThreeError extends Error { // custom error class\n",
    "  constructor(message) {\n",
    "    super(message);\n",
    "    this.name = \"MustNotBeMultipleOfThreeError\";\n",
    "  }\n",
    "}\n",
    "\n",
    "function testMustNotBeMultipleOfThreeError(n) {    // function that may throw custom error object\n",
    "    try {\n",
    "        if (n%3===0) {\n",
    "            throw new MustNotBeMultipleOfThreeError(\"n is a multiple of 3\");\n",
    "        }\n",
    "    }\n",
    "    catch (err) {\n",
    "        console.error(err.toString());  // MustNotBeMultipleOfThreeError: n is a multiple of 3\n",
    "    }\n",
    "}\n",
    "\n",
    "let numbers0To9 = [...Array(10).keys()] // short for Array.from(Array(10).keys())\n",
    "for (let n of numbers0To9) {\n",
    "    console.log(\"n: \", n);\n",
    "    testMustNotBeMultipleOfThreeError(n);\n",
    "}\n",
    "}"
   ]
  },
  {
   "cell_type": "markdown",
   "metadata": {},
   "source": [
    "## Catching the ```DOMException``` Error Object\n",
    "\n",
    "* The ```DOMException``` object encapsulates errors in the browser DOM API\n",
    "* The following demo calls ```Document.createAttribute()``` to create a new attribute node\n",
    "* If you try to create an attribute with an invalid name it throws a ```DOMException``` error\n",
    "* Buttons are provided to create attributes (one with valid name and one with invalid name)\n",
    "* You can see the success/failure of creating the new attribute in the F12 Dev Tools console\n",
    "* When the attribute is created successfully and applied to the ```div```, it's CSS color change to red\n",
    "* To reset back to the original CSS color of the ```div```, just refresh your browser\n",
    "* Note: The CSS may be messed up in Jupyter notebook but you could copy/paste into html file and view it directly in your web browser as a stand-alone web page"
   ]
  },
  {
   "cell_type": "markdown",
   "metadata": {},
   "source": [
    "Copy/paste the following demo into an HTML file and open it in your browser to see it work\n",
    "\n",
    "```html\n",
    "<html>\n",
    "<head>\n",
    "    <script type=\"text/javascript\">\n",
    "        function mayThrowDOMException (attributeName) {\n",
    "            try {\n",
    "                var node = document.getElementById(\"div1\");\n",
    "                // following throws DOMException error if name of new attribute is invalid\n",
    "                var attrib = document.createAttribute(attributeName);\n",
    "                attrib.value = \"***my cool attribute value***\";\n",
    "                node.setAttributeNode(attrib);\n",
    "                console.log(node.getAttribute(attributeName));\n",
    "            }\n",
    "            catch (e) {\n",
    "                if (e.code == DOMException.INVALID_CHARACTER_ERR) {\n",
    "                    console.log(attributeName, \"Bad: invalid attribute name\");\n",
    "                }\n",
    "                return;\n",
    "            }\n",
    "            // If we get here then there was no error thrown\n",
    "            console.log(attributeName, \"Good: valid attribute name\");\n",
    "        }\n",
    "    </script>\n",
    "    <style>\n",
    "        div[foo123] {color:red;} /* attribute  selector */\n",
    "    </style>\n",
    "</head>\n",
    "<body>\n",
    "    <p>Open browser F12 Dev Tools to see <code>console.log()</code> output</p>\n",
    "    <p>Click \"Throw DOM Exception\" and see console \"123 Bad: invalid attribute name\" (*** div color unchanged)</p>\n",
    "    <p>Click \"Don't Throw DOM Exception\" and see console \"foo123 Good: valid attribute name\" (*** div color should change to red as long as other css ru;es that me be active do not interfere with it)\"</p>\n",
    "    <p>To reset the div red css style back to original black, just refresh your browser</p>\n",
    "    <button onclick=\"mayThrowDOMException ('123')\">Throw DOM Exception</button>\n",
    "    <button onclick=\"mayThrowDOMException ('foo123')\">Don't Throw DOM Exception</button>\n",
    "    <div id=\"div1\">***</div>\n",
    "</body>\n",
    "</html>\n",
    "```"
   ]
  },
  {
   "cell_type": "code",
   "execution_count": null,
   "metadata": {},
   "outputs": [],
   "source": []
  }
 ],
 "metadata": {
  "kernelspec": {
   "display_name": "Javascript (Node.js)",
   "language": "javascript",
   "name": "javascript"
  },
  "language_info": {
   "file_extension": ".js",
   "mimetype": "application/javascript",
   "name": "javascript",
   "version": "10.13.0"
  }
 },
 "nbformat": 4,
 "nbformat_minor": 4
}
