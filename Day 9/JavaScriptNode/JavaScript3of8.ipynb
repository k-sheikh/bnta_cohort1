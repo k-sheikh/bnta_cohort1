{
 "cells": [
  {
   "cell_type": "markdown",
   "metadata": {},
   "source": [
    "# JavaScript 3 of 8\n",
    "\n",
    "- Decisions Switches\n",
    "- Loop Iteration\n",
    "- Error Handling\n",
    "- Node File IO"
   ]
  },
  {
   "cell_type": "markdown",
   "metadata": {},
   "source": [
    "## Pre-Read Assignment\n",
    "\n",
    "Search information on the relevant topics on the web or in any of the following resources:\n",
    "\n",
    "- Eloquent JavaScript: https://eloquentjavascript.net\n",
    "- Speaking JavaScript: http://speakingjs.com/es5/index.html\n",
    "- JavaScript for Impatient Programmers: https://exploringjs.com/impatient-js\n",
    "- Exploring ES6: https://exploringjs.com/es6.html\n",
    "- The Modern JavaScript Tutorial: https://javascript.info\n",
    "- Learn JavaScript: https://gitbookio.gitbooks.io/javascript\n",
    "- JavaScript Garden: https://bonsaiden.github.io/JavaScript-Garden\n",
    "- JavaScript Allongé: https://leanpub.com/javascript-allonge/read\n",
    "- Learning JavaScript Design Patterns: https://addyosmani.com/resources/essentialjsdesignpatterns/book\n",
    "- Understanding ECMAScript 6: https://leanpub.com/understandinges6/read\n",
    "- Human JavaScript: http://read.humanjavascript.com"
   ]
  },
  {
   "cell_type": "markdown",
   "metadata": {},
   "source": [
    "## Demos\n",
    "\n",
    "1. [Decisions Switches](DecisionsSwitches.ipynb)\n",
    "2. [Loop Iteration](LoopIteration.ipynb)\n",
    "3. [Error Handling](ErrorHandling.ipynb)\n",
    "4. [Node File IO](NodeFileIO.ipynb)"
   ]
  },
  {
   "cell_type": "markdown",
   "metadata": {},
   "source": [
    "## Labs and Homework\n",
    "\n",
    "- https://javascript.info\n",
    "- https://nodeschool.io/#workshoppers\n",
    "- https://www.programiz.com/javascript/examples\n",
    "- https://www.hackerrank.com\n",
    "- https://exercism.io/my/tracks\n",
    "- https://leetcode.com\n",
    "- Work on developing your own JavaScript Game (either console or web)"
   ]
  },
  {
   "cell_type": "code",
   "execution_count": null,
   "metadata": {},
   "outputs": [],
   "source": []
  }
 ],
 "metadata": {
  "kernelspec": {
   "display_name": "Javascript (Node.js)",
   "language": "javascript",
   "name": "javascript"
  },
  "language_info": {
   "file_extension": ".js",
   "mimetype": "application/javascript",
   "name": "javascript",
   "version": "10.13.0"
  }
 },
 "nbformat": 4,
 "nbformat_minor": 4
}
