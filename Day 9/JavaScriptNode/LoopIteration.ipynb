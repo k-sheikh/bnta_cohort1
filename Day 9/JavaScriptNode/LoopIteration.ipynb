{
 "cells": [
  {
   "cell_type": "markdown",
   "metadata": {},
   "source": [
    "# Loops and Iteration\n",
    "\n",
    "See: https://developer.mozilla.org/en-US/docs/Web/JavaScript/Guide/Loops_and_iteration\n",
    "\n",
    "* The ```while``` Statement\n",
    "* The ```do-while``` Statement\n",
    "* The ```for``` Statement\n",
    "* The ```for-of``` Statement\n",
    "* The ```for-in``` Statement\n",
    "* Compare ```for-in``` vs ```for-of``` Statement\n",
    "* The for await-of Statement\n",
    "* The ```break``` Statement\n",
    "* The ```label``` Statement\n",
    "* The ```continue``` Statement"
   ]
  },
  {
   "cell_type": "markdown",
   "metadata": {},
   "source": [
    "## The ```while``` Statement\n",
    "\n",
    "Here is the basic syntax:\n",
    "```\n",
    "while («condition») {\n",
    "    «statements»\n",
    "}\n",
    "```\n",
    "\n",
    "* The ```while``` loop checks the condition at the top of each iteration\n",
    "* If the condition is falsy -> the loop terminates\n",
    "* If the condition is truthy -> the while body is executed one more time\n",
    "* If the condition always evaluates to truthy, then while is an infinite loop\n",
    "* The ```break``` keyword breaks out of the immediate loop (can be used to get out of \"infinite loop\")\n",
    "* The ```continue``` keyword abandons the current iteration and starts again at the top of the loop"
   ]
  },
  {
   "cell_type": "code",
   "execution_count": 43,
   "metadata": {},
   "outputs": [
    {
     "name": "stdout",
     "output_type": "stream",
     "text": [
      "10\n",
      "20\n",
      "30\n",
      "40\n",
      "50\n"
     ]
    },
    {
     "data": {
      "text/plain": [
       "5"
      ]
     },
     "execution_count": 43,
     "metadata": {},
     "output_type": "execute_result"
    }
   ],
   "source": [
    "{\n",
    "let i = 1;\n",
    "while (i <= 5) {\n",
    "  console.log(i*10);\n",
    "  i++;\n",
    "}\n",
    "}"
   ]
  },
  {
   "cell_type": "code",
   "execution_count": 44,
   "metadata": {},
   "outputs": [
    {
     "name": "stdout",
     "output_type": "stream",
     "text": [
      "a\n",
      "b\n",
      "c\n"
     ]
    }
   ],
   "source": [
    "{\n",
    "const arr = ['a', 'b', 'c'];\n",
    "while (arr.length > 0) {\n",
    "    const elem = arr.shift(); // remove first element\n",
    "    console.log(elem);\n",
    "}\n",
    "}"
   ]
  },
  {
   "cell_type": "markdown",
   "metadata": {},
   "source": [
    "## The ```do-while``` Statement\n",
    "\n",
    "Here is the basic syntax:\n",
    "```\n",
    "do {\n",
    "    «statements»\n",
    "} while («condition»)\n",
    "```\n",
    "\n",
    "* The ```do-while``` loop works like a ```while``` loop but it checks condition after each iteration\n",
    "* Iteration continues another round if the condition is truthy"
   ]
  },
  {
   "cell_type": "code",
   "execution_count": 45,
   "metadata": {},
   "outputs": [
    {
     "name": "stdout",
     "output_type": "stream",
     "text": [
      "0\n",
      "1\n",
      "2\n",
      "3\n",
      "4\n"
     ]
    },
    {
     "data": {
      "text/plain": [
       "4"
      ]
     },
     "execution_count": 45,
     "metadata": {},
     "output_type": "execute_result"
    }
   ],
   "source": [
    "{\n",
    "let i = 0;\n",
    "do {\n",
    "    console.log( i );\n",
    "    i++;\n",
    "} while (i < 5);\n",
    "}"
   ]
  },
  {
   "cell_type": "code",
   "execution_count": 49,
   "metadata": {},
   "outputs": [
    {
     "name": "stdout",
     "output_type": "stream",
     "text": [
      "3\n",
      "6\n",
      "7\n"
     ]
    }
   ],
   "source": [
    "{\n",
    "function getRandomInt(max) {\n",
    "    return Math.floor(Math.random() * Math.floor(max));\n",
    "}\n",
    "\n",
    "let x;\n",
    "do {\n",
    "    x = getRandomInt(10);\n",
    "    console.log(x);\n",
    "} while (x !== 7);\n",
    "}"
   ]
  },
  {
   "cell_type": "markdown",
   "metadata": {},
   "source": [
    "## The ```for``` Statement\n",
    "\n",
    "Here is the basic syntax:\n",
    "```\n",
    "for («initialization»; «condition»; «post_iteration») {\n",
    "    «statements»\n",
    "}\n",
    "```\n",
    "\n",
    "* **«initialization»**: sets up variables, etc. for the loop\n",
    "* **«condition»**: checked before each loop iteration (falsy terminates the loop)\n",
    "* **«post_iteration»**: is executed after each loop iteration\n",
    "\n",
    "The ```for``` loop above is equivalent to the following ```while``` loop:\n",
    "```\n",
    "«initialization»\n",
    "while («condition») {\n",
    "    «statements»\n",
    "    «post_iteration»\n",
    "}\n",
    "```"
   ]
  },
  {
   "cell_type": "code",
   "execution_count": 50,
   "metadata": {},
   "outputs": [
    {
     "name": "stdout",
     "output_type": "stream",
     "text": [
      "Step: 0\n",
      "Step: 1\n",
      "Step: 2\n",
      "Step: 3\n",
      "Step: 4\n"
     ]
    }
   ],
   "source": [
    "{\n",
    "for (let step = 0; step < 5; step++) {\n",
    "    console.log('Step: ' + step); // loop 5 times: steps 0 -> 4\n",
    "}\n",
    "}"
   ]
  },
  {
   "cell_type": "code",
   "execution_count": 10,
   "metadata": {},
   "outputs": [
    {
     "name": "stdout",
     "output_type": "stream",
     "text": [
      "0.7422677433875668\n",
      "0.06094310653763113\n",
      "0.03697315252441924\n",
      "0.5271433032749875\n",
      "0.2958791485156296\n",
      "0.28837472228671923\n",
      "0.12693737472913313\n",
      "0.02094680716291042\n",
      "0.6364395903331328\n",
      "0.7323885114384612\n"
     ]
    }
   ],
   "source": [
    "// omit all three parts of the head -> effectively an infinite loop\n",
    "for (;;) {\n",
    "    rand = Math.random();   // (0.0 -> 1.0]\n",
    "    if (rand > 0.8) break;\n",
    "    console.log(rand);\n",
    "}"
   ]
  },
  {
   "cell_type": "markdown",
   "metadata": {},
   "source": [
    "## The ```for-of``` Statement\n",
    "\n",
    "* The ```for-of``` statement loops over properties in iterable objects:\n",
    "    - String\n",
    "    - Array\n",
    "    - Array-like objects\n",
    "    - TypedArray\n",
    "    - Map\n",
    "    - Set\n",
    "    - User-defined iterables (See: https://javascript.info/iterable)\n",
    "* An iterable object is a data container that supports the iteration protocol\n",
    "* The ```for-of``` statement syntax:\n",
    "    ```\n",
    "    for («iteration_variable» of «iterable») {\n",
    "        «statements»\n",
    "    }\n",
    "    ```\n",
    "* **«iteration_variable»**: each iterated value is stored in this variable on each iteration\n",
    "* **«iterable»**: object with iterable properties (implements the iteration protocol)\n",
    "* **«statements»**: statements in the bod that are repeatedly executes\n",
    "\n",
    "Note: ```for-of``` loops you can use const iteration variable\n",
    "    - can actually be different for each iteration\n",
    "    - just can’t change during the iteration"
   ]
  },
  {
   "cell_type": "code",
   "execution_count": 51,
   "metadata": {},
   "outputs": [
    {
     "name": "stdout",
     "output_type": "stream",
     "text": [
      "hello\n",
      "world\n",
      "\n",
      "1\n",
      "2\n",
      "3\n",
      "\n",
      "a\n",
      "b\n",
      "c\n",
      "\n",
      "member_1\n",
      "member_2\n",
      "\n",
      "0 -> one\n",
      "1 -> two\n",
      "2 -> three\n"
     ]
    }
   ],
   "source": [
    "{\n",
    "const arrayOfStrings = ['hello', 'world'];\n",
    "for (const str of arrayOfStrings) {\n",
    "    console.log(str);\n",
    "}\n",
    "    \n",
    "console.log();\n",
    "    \n",
    "let arrayOfNumbers = [1, 2, 3];\n",
    "for (const n of arrayOfNumbers) {\n",
    "    console.log(n);\n",
    "}\n",
    "    \n",
    "console.log();\n",
    "    \n",
    "str = 'abc';\n",
    "for (const c of str) {\n",
    "    console.log(c);\n",
    "}\n",
    "\n",
    "console.log();\n",
    "           \n",
    "const set = new Set(['member_1', 'member_2']);\n",
    "for (const elem of set) {\n",
    "console.log(elem);\n",
    "}\n",
    "    \n",
    "console.log();\n",
    "    \n",
    "// can iterate over [index, element] pairs of an Array\n",
    "const arr = ['one', 'two', 'three'];\n",
    "for (const [index, elem] of arr.entries()) { // returns new Array Iterator containing key/value pairs for each index\n",
    "    console.log(`${index} -> ${elem}`);\n",
    "}\n",
    "}\n"
   ]
  },
  {
   "cell_type": "markdown",
   "metadata": {},
   "source": [
    "## * The ```for-in``` Statement  (avoid -> use ```for-of``` instead)\n",
    "\n",
    "* The ```for-of``` statement syntax:\n",
    "    ```\n",
    "    for («iteration_variable» in «iterable») {\n",
    "        «statements»\n",
    "    }\n",
    "    ```\n",
    "    \n",
    "* **Note:** ```for-in``` has pitfalls (like inherited properties) so use ```for-in``` instead"
   ]
  },
  {
   "cell_type": "code",
   "execution_count": 58,
   "metadata": {},
   "outputs": [
    {
     "name": "stdout",
     "output_type": "stream",
     "text": [
      "firstName -> Tom\n",
      "lastName -> Jones\n",
      "age -> 42\n",
      "objCustom -> function() {}\n",
      "\n",
      "firstName -> Tom\n",
      "lastName -> Jones\n"
     ]
    }
   ],
   "source": [
    "{\n",
    "const objBase = {age: 42};\n",
    "const objDerived = {firstName: 'Tom', lastName: 'Jones'};\n",
    "Object.setPrototypeOf(objDerived, objBase)                 // wire up inheritance chain\n",
    "    \n",
    "for (const prop in objDerived) {\n",
    "    console.log(prop, \"->\", objDerived[prop]); // age property is included\n",
    "}\n",
    "    \n",
    "console.log();\n",
    "    \n",
    "// The hasOwnProperty() method check if object has specified property as its own property\n",
    "// Useful for checking if the object has inherited the property rather than being it’s own\n",
    "for (const prop in objDerived) {\n",
    "    if (objDerived.hasOwnProperty(prop)) { // skip inherited properties\n",
    "        console.log(prop, \"->\", objDerived[prop]); // age property is excluded\n",
    "    }\n",
    "}\n",
    "}"
   ]
  },
  {
   "cell_type": "markdown",
   "metadata": {},
   "source": [
    "## Compare ```for-in``` vs ```for-of``` Statement\n",
    "\n",
    "* Both ```for-in``` and ```for-of``` statements iterate over a collection\n",
    "* The difference between them is in what they iterate over\n",
    "* ```for-in``` iterates over all enumerable properties of an object\n",
    "* ```for-of``` iterates over values that the iterable object defines to be iterated over"
   ]
  },
  {
   "cell_type": "code",
   "execution_count": 59,
   "metadata": {},
   "outputs": [
    {
     "name": "stdout",
     "output_type": "stream",
     "text": [
      "0\n",
      "1\n",
      "2\n",
      "foo\n",
      "arrCustom\n",
      "objCustom\n",
      "\n",
      "0\n",
      "1\n",
      "2\n",
      "foo\n",
      "\n",
      "3\n",
      "5\n",
      "7\n"
     ]
    }
   ],
   "source": [
    "{\n",
    "Object.prototype.objCustom = function() {}; // added to prototype chain for all objects\n",
    "Array.prototype.arrCustom = function() {};  // added to prototype chain just for array objects\n",
    "\n",
    "const myIterable = [3, 5, 7]; // elements in array\n",
    "myIterable.foo = 'hello';     // dynamically create additional property named foo to array instance\n",
    "\n",
    "for (const i in myIterable) { // for-in (gets all properties of the array)\n",
    "  console.log(i); // logs 0, 1, 2, \"foo\", \"arrCustom\", \"objCustom\" (all including inherited and added)\n",
    "}\n",
    "    \n",
    "console.log();\n",
    "\n",
    "for (const i in myIterable) { // for-in (gets all properties of the array)\n",
    "    if (myIterable.hasOwnProperty(i)) { // filter out inherited properties: objCustom, arrCustom\n",
    "        console.log(i); // logs 0, 1, 2, \"foo\"\n",
    "    }\n",
    "}\n",
    "    \n",
    "console.log();\n",
    "\n",
    "for (const i of myIterable) { // for-of (gets only the owned members of the array)\n",
    "  console.log(i); // logs 3, 5, 7\n",
    "}\n",
    "}"
   ]
  },
  {
   "cell_type": "markdown",
   "metadata": {},
   "source": [
    "## The ```for await-of``` Statement\n",
    "\n",
    "* The ```for await-of``` statement loops over async iterable objects as well as on sync iterables\n",
    "* Invokes a custom iteration hook with statements to be executed for the value of each property\n",
    "* Used with:\n",
    "-    Built-in String\n",
    "-    Array\n",
    "-    Array-like objects (e.g., arguments, NodeList)\n",
    "-    TypedArray\n",
    "-    Map\n",
    "-    Set\n",
    "-    User-defined async/sync iterables (generator functions, etc.)\n",
    "\n",
    "Syntax:\n",
    "```\n",
    "for await («iteration_variable» in «iterable») {\n",
    "      «statements»\n",
    "  }\n",
    "```"
   ]
  },
  {
   "cell_type": "code",
   "execution_count": 17,
   "metadata": {},
   "outputs": [
    {
     "name": "stdout",
     "output_type": "stream",
     "text": [
      "0\n",
      "1\n",
      "2\n",
      "3\n",
      "4\n"
     ]
    }
   ],
   "source": [
    "//for await-of loop also consumes sync iterables and generators \n",
    "\n",
    "function* myGenerator() {\n",
    "  yield 0;\n",
    "  yield 1;\n",
    "  yield Promise.resolve(2);\n",
    "  yield Promise.resolve(3);\n",
    "  yield 4;\n",
    "}\n",
    "\n",
    "(async function() {\n",
    "  for await (let num of myGenerator()) {\n",
    "    console.log(num);\n",
    "  }\n",
    "})();"
   ]
  },
  {
   "cell_type": "markdown",
   "metadata": {},
   "source": [
    "## The ```break``` Statement\n",
    "\n",
    "* The ```break``` keyword leaves the current statement\n",
    "* There are two versions of break: one without a target label operand and with a target label operand\n",
    "* Used in: ```while```, ```do-while```, ```for```, ```for-of```, ```for-await-of```, ```for-in``` and ```switch```\n",
    " * ```for-await-of``` -> https://developer.mozilla.org/en-US/docs/Web/JavaScript/Reference/Statements/for-await...of"
   ]
  },
  {
   "cell_type": "code",
   "execution_count": 74,
   "metadata": {},
   "outputs": [
    {
     "name": "stdout",
     "output_type": "stream",
     "text": [
      "Sum: 495\n",
      "-> a is normal\n",
      "-> b is normal\n",
      "-> c is special -> abandon loop!\n"
     ]
    }
   ],
   "source": [
    "{\n",
    "let sum = 0;\n",
    "let max = 100;\n",
    "let delta = 5\n",
    "let counter = 1\n",
    "while (true) {\n",
    "    if (counter === max)\n",
    "        break;\n",
    "    sum += delta;\n",
    "    counter ++;\n",
    "}\n",
    "console.log( 'Sum: ' + sum );\n",
    "\n",
    "for (const x of ['a', 'b', 'c', 'd']) { // never gets to 'd'\n",
    "    if (x === 'c') {\n",
    "        console.log(`-> ${x} is special -> abandon loop!`)\n",
    "        break;\n",
    "    }\n",
    "    console.log(`-> ${x} is normal`);\n",
    "}\n",
    "}"
   ]
  },
  {
   "cell_type": "markdown",
   "metadata": {},
   "source": [
    "## The ```label``` Statement (labeled ```break```)\n",
    "\n",
    "* Break with an operand jumps to a label\n",
    "* Labels can be put in front of any statement, including blocks"
   ]
  },
  {
   "cell_type": "code",
   "execution_count": 13,
   "metadata": {},
   "outputs": [
    {
     "name": "stdout",
     "output_type": "stream",
     "text": [
      "Outer loop: 0\n",
      "\tInner loop: 0\n",
      "Done inner loop\n",
      "\tInner loop: 1\n",
      "Done inner loop\n",
      "\tInner loop: 2\n",
      "Done outer loop\n",
      "Outer loop: 1\n",
      "\tInner loop: 0\n",
      "Done inner loop\n",
      "\tInner loop: 1\n",
      "Done inner loop\n",
      "\tInner loop: 2\n",
      "Done outer loop\n",
      "Outer loop: 2\n",
      "\tInner loop: 0\n",
      "Done inner loop\n",
      "\tInner loop: 1\n",
      "Done inner loop\n",
      "\tInner loop: 2\n"
     ]
    }
   ],
   "source": [
    "{\n",
    "let x = 0;\n",
    "let z = 0;\n",
    "labelCancelLoops: while (true) {            // labelled statement on outer loop\n",
    "    console.log('Outer loop: ' + x);\n",
    "    x += 1;\n",
    "    z = 0;\n",
    "    while (true) {                          // infinite inner loop (not really infinite!)\n",
    "        console.log('\\tInner loop: ' + z);\n",
    "        z += 1;\n",
    "        if (z === 3 && x === 3) {\n",
    "            break labelCancelLoops;         // jump to labelled outer loop\n",
    "        } else if (z === 3) {\n",
    "            break;                          // just leave the inner loop\n",
    "        }\n",
    "        console.log('Done inner loop');\n",
    "    }\n",
    "    console.log('Done outer loop');\n",
    "}\n",
    "}"
   ]
  },
  {
   "cell_type": "markdown",
   "metadata": {},
   "source": [
    "## The ```continue``` Statement\n",
    "\n",
    "* Immediately leaves the current loop iteration and continues at the top for the next iteration\n",
    "* ```continue``` works inside ```while```, ```do-while```, ```for```, ```for-of```, ```for-await-of```, and ```for-in```"
   ]
  },
  {
   "cell_type": "code",
   "execution_count": 82,
   "metadata": {},
   "outputs": [
    {
     "name": "stdout",
     "output_type": "stream",
     "text": [
      "line 1\n",
      "line 3\n"
     ]
    }
   ],
   "source": [
    "{\n",
    "const stringArray = [\n",
    "'line 1',\n",
    "'#line 2',   // gets skipped\n",
    "'line 3',\n",
    "];\n",
    "for (const str of stringArray) {\n",
    "    if (str.startsWith('#')) continue; // skip if starts with '#'\n",
    "    console.log(str);                  // only get here if we did not skip it\n",
    "}\n",
    "}"
   ]
  },
  {
   "cell_type": "code",
   "execution_count": null,
   "metadata": {},
   "outputs": [],
   "source": []
  }
 ],
 "metadata": {
  "kernelspec": {
   "display_name": "Javascript (Node.js)",
   "language": "javascript",
   "name": "javascript"
  },
  "language_info": {
   "file_extension": ".js",
   "mimetype": "application/javascript",
   "name": "javascript",
   "version": "10.13.0"
  }
 },
 "nbformat": 4,
 "nbformat_minor": 4
}
