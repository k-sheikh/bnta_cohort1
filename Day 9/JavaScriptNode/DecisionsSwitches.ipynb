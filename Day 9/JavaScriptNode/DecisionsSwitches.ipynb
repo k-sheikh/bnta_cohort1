{
 "cells": [
  {
   "cell_type": "markdown",
   "metadata": {},
   "source": [
    "# Decisions and Switches\n",
    "\n",
    "* Double Equals ```==``` vs Triple Equals ```===```\n",
    "* Boolean Conversions (truthy and falsy)\n",
    "* The ```&&```, ```||```, and ```!``` Logical Operators\n",
    "* Short Circuit Logical Expression Evaluation\n",
    "* The ```?:``` Conditional Operator\n",
    "* The ```if``` and ``````else`````` Keywords\n",
    "* The ```switch```, ```case```, ```break```, and ```default``` Keywords"
   ]
  },
  {
   "cell_type": "markdown",
   "metadata": {},
   "source": [
    "## Double Equals ```==``` vs Triple Equals ```===```\n",
    "\n",
    "* The == operator tests for loose equality (after type conversion) and returns a boolean result\n",
    "* The === operator tests for strict equality (without type conversion) and returns in a boolean result (usually preferred)"
   ]
  },
  {
   "cell_type": "code",
   "execution_count": 2,
   "metadata": {},
   "outputs": [
    {
     "name": "stdout",
     "output_type": "stream",
     "text": [
      "true\n",
      "false\n"
     ]
    }
   ],
   "source": [
    "console.log(4 == \"4\");  // evaluates to true because left operand is converted to string and right operand is type string\n",
    "console.log(4 === \"4\"); // evaluates to false because left operand is type number and right operand is type string"
   ]
  },
  {
   "cell_type": "markdown",
   "metadata": {},
   "source": [
    "## Boolean Conversions (truthy and falsy)\n",
    "\n",
    "* Falsy: zero ```0```, empty string ```\"\"```, non-values ```null```, ```undefined```, and not-a-number ```NaN```\n",
    "* Truthy: All other values"
   ]
  },
  {
   "cell_type": "code",
   "execution_count": 4,
   "metadata": {},
   "outputs": [
    {
     "name": "stdout",
     "output_type": "stream",
     "text": [
      "Not positive\n",
      "Not positive\n",
      "Positive\n"
     ]
    }
   ],
   "source": [
    "// if statement\n",
    "function testNum1(num) {\n",
    "    if (num > 0) {\n",
    "        return \"Positive\";\n",
    "    }\n",
    "    return \"Not positive\";\n",
    "}\n",
    "console.log(testNum1(-5));\n",
    "console.log(testNum1(0));\n",
    "console.log(testNum1(5));"
   ]
  },
  {
   "cell_type": "code",
   "execution_count": 5,
   "metadata": {},
   "outputs": [
    {
     "name": "stdout",
     "output_type": "stream",
     "text": [
      "Not positive\n",
      "Not positive\n",
      "Positive\n"
     ]
    }
   ],
   "source": [
    "// if-else statement\n",
    "function testNum2(num) {\n",
    "    if (num > 0) {\n",
    "        result = \"Positive\";\n",
    "    } else {\n",
    "        result =  \"Not positive\";\n",
    "    }\n",
    "    return result;\n",
    "}\n",
    "console.log(testNum2(-5));\n",
    "console.log(testNum2(0));\n",
    "console.log(testNum2(5));"
   ]
  },
  {
   "cell_type": "code",
   "execution_count": 6,
   "metadata": {},
   "outputs": [
    {
     "name": "stdout",
     "output_type": "stream",
     "text": [
      "Negative\n",
      "Neutral\n",
      "Positive\n"
     ]
    }
   ],
   "source": [
    "// if-else-if-else statement\n",
    "function testNum3(num) {\n",
    "    if (num > 0) {\n",
    "        result = \"Positive\";\n",
    "    }\n",
    "    else if (num < 0) {\n",
    "        result = \"Negative\";\n",
    "    }\n",
    "    else {\n",
    "        result = \"Neutral\";\n",
    "    }\n",
    "    return result;\n",
    "}\n",
    "console.log(testNum3(-5));\n",
    "console.log(testNum3(0));\n",
    "console.log(testNum3(5));"
   ]
  },
  {
   "cell_type": "markdown",
   "metadata": {},
   "source": [
    "## Short Circuit Logical Expression Evaluation"
   ]
  },
  {
   "cell_type": "code",
   "execution_count": 7,
   "metadata": {},
   "outputs": [
    {
     "name": "stdout",
     "output_type": "stream",
     "text": [
      "1\n",
      "0\n",
      "0\n",
      "1\n"
     ]
    }
   ],
   "source": [
    "let g = 0;\n",
    "if (false || ++g === 1) {  // second part of logical expression is forced to execute and g is incremented\n",
    "}\n",
    "console.log(g);       // 1\n",
    "\n",
    "g = 0;\n",
    "if (true || ++g === 1) {   // second part of logical expression is short circuited out and g is not incremented\n",
    "}\n",
    "console.log(g);       // 0\n",
    "\n",
    "g = 0;\n",
    "if (false && ++g === 1) {  // second part of logical expression is short circuited out and g is not incremented\n",
    "}\n",
    "console.log(g);       // 0\n",
    "\n",
    "g = 0;\n",
    "if (true && ++g === 1) {   // second part of logical expression is forced to execute and g is incremented\n",
    "}\n",
    "console.log(g);       // 1"
   ]
  },
  {
   "cell_type": "markdown",
   "metadata": {},
   "source": [
    "## Conditional Operator ```?:```"
   ]
  },
  {
   "cell_type": "code",
   "execution_count": 8,
   "metadata": {},
   "outputs": [
    {
     "name": "stdout",
     "output_type": "stream",
     "text": [
      "heads\n",
      "tails\n",
      "tails\n",
      "tails\n",
      "heads\n",
      "heads\n"
     ]
    }
   ],
   "source": [
    "function randomBoolean() {\n",
    "    return Math.random() >= 0.5;\n",
    "}\n",
    "\n",
    "console.log(randomBoolean() ? 'heads': 'tails');\n",
    "console.log(randomBoolean() ? 'heads': 'tails');\n",
    "console.log(randomBoolean() ? 'heads': 'tails');\n",
    "console.log(randomBoolean() ? 'heads': 'tails');\n",
    "console.log(randomBoolean() ? 'heads': 'tails');\n",
    "console.log(randomBoolean() ? 'heads': 'tails');"
   ]
  },
  {
   "cell_type": "markdown",
   "metadata": {},
   "source": [
    "## Switch Statements\n",
    "\n",
    "* Starts with the ```switch``` keyword followed by switch expression in parentheses\n",
    "* The body of the switch is in curly braces containing zero or more case statements\n",
    "* Each case statement starts with the ```case``` keyword followed by a case value and a colon\n",
    "* The code in each case is zero or more executable statements, usually ending with ```break``` keyword\n",
    "* The ```break``` keyword prevents fall-thru into the next case (but that may be intentional)\n",
    "* If any case contains a ```return``` statement, then obviously the switch terminates at that point\n",
    "* Optionally, a default case can be provided for handling non-handled switch expression values\n",
    "\n",
    "This is how it works:\n",
    "1. The switch expression is evaluated\n",
    "2. Execution jumps to the first case statement that matches the switch expression value (if any)\n",
    "3. If there is no matching case it jumps to the default case if it exists (usually at the end)\n",
    "4. If no matching case and no default clause nothing happens and execution proceeds thereafter\n",
    "5. A ```break``` statement exits the current case statement and terminates the switch statement\n",
    "6. A ```return``` statement obviously terminates the switch statement also"
   ]
  },
  {
   "cell_type": "code",
   "execution_count": 8,
   "metadata": {},
   "outputs": [
    {
     "name": "stdout",
     "output_type": "stream",
     "text": [
      "0 is not 2 or 3 or 4\n",
      "1 is not 2 or 3 or 4\n",
      "2 is 2\n",
      "3 is not 2 or 3 or 4\n",
      "4 is 4\n",
      "5 is not 2 or 3 or 4\n",
      "6 is 6\n",
      "7 is not 2 or 3 or 4\n",
      "8 is not 2 or 3 or 4\n",
      "9 is not 2 or 3 or 4\n"
     ]
    }
   ],
   "source": [
    "// switch statement switching on numeric type\n",
    "function testSwitchOnNumbers(n) {\n",
    "    switch (n) {\n",
    "      case 2:\n",
    "        console.log(n + ' is 2' );\n",
    "        break;\n",
    "      case 4:\n",
    "        console.log(n + ' is 4' );\n",
    "        break;\n",
    "      case 6:\n",
    "        console.log(n + ' is 6' );\n",
    "        break;\n",
    "      default:\n",
    "        console.log(n + ' is not 2 or 3 or 4' );\n",
    "    }\n",
    "}\n",
    "for (i=0; i<10; i++) {\n",
    "    testSwitchOnNumbers(i);\n",
    "}"
   ]
  },
  {
   "cell_type": "code",
   "execution_count": 10,
   "metadata": {},
   "outputs": [
    {
     "name": "stdout",
     "output_type": "stream",
     "text": [
      "tiny is not small or medium or large\n",
      "small is small\n",
      "medium is medium\n",
      "large is large\n",
      "huge is not small or medium or large\n"
     ]
    }
   ],
   "source": [
    "// switch statement switching on string type\n",
    "function testSwitchOnStrings(str) {\n",
    "    switch (str) {\n",
    "      case \"small\":\n",
    "        console.log(str + ' is small' );\n",
    "        break;\n",
    "      case \"medium\":\n",
    "        console.log(str + ' is medium' );\n",
    "        break;\n",
    "      case \"large\":\n",
    "        console.log(str + ' is large' );\n",
    "        break;\n",
    "      default:\n",
    "        console.log(str + ' is not small or medium or large' );\n",
    "    }\n",
    "}\n",
    "sizes = ['tiny', 'small', 'medium', 'large', 'huge']\n",
    "for (i in sizes) {\n",
    "    testSwitchOnStrings(sizes[i]);\n",
    "}"
   ]
  },
  {
   "cell_type": "code",
   "execution_count": 7,
   "metadata": {},
   "outputs": [
    {
     "name": "stdout",
     "output_type": "stream",
     "text": [
      "Schöne Grüße\n",
      "Tschüss\n",
      "Ich verstehe nicht\n"
     ]
    }
   ],
   "source": [
    "{\n",
    "function englishToGerman(english) {\n",
    "    let german;\n",
    "    switch (english) {\n",
    "        case 'greetings':\n",
    "            german = 'Schöne Grüße';\n",
    "            break;\n",
    "        case 'bye':\n",
    "            german = 'Tschüss';\n",
    "            break;\n",
    "        default:\n",
    "            german = 'Ich verstehe nicht';\n",
    "    }\n",
    "    return german;\n",
    "}\n",
    "    \n",
    "console.log(englishToGerman('greetings'));\n",
    "console.log(englishToGerman('bye'));\n",
    "console.log(englishToGerman('aslkdj'));\n",
    "}"
   ]
  },
  {
   "cell_type": "code",
   "execution_count": 8,
   "metadata": {},
   "outputs": [
    {
     "name": "stdout",
     "output_type": "stream",
     "text": [
      "0 default case\n",
      "\n",
      "1 default case\n",
      "\n",
      "2 case 2\n",
      "2 case 4\n",
      "2 case 6\n",
      "2 default case\n",
      "\n",
      "3 default case\n",
      "\n",
      "4 case 4\n",
      "4 case 6\n",
      "4 default case\n",
      "\n",
      "5 default case\n",
      "\n",
      "6 case 6\n",
      "6 default case\n",
      "\n",
      "7 default case\n",
      "\n",
      "8 default case\n",
      "\n",
      "9 default case\n",
      "\n"
     ]
    }
   ],
   "source": [
    "// switch statement without breaks\n",
    "function testSwitchWithoutBreaks(n) {\n",
    "    switch (n) {\n",
    "      case 2:\n",
    "        console.log(n + ' case 2' );\n",
    "      case 4:\n",
    "        console.log(n + ' case 4' );\n",
    "      case 6:\n",
    "        console.log(n + ' case 6' );\n",
    "      default:\n",
    "        console.log(n + ' default case' );\n",
    "    }\n",
    "}\n",
    "for (i=0; i<10; i++) {\n",
    "    testSwitchWithoutBreaks(i);\n",
    "    console.log();\n",
    "}"
   ]
  },
  {
   "cell_type": "code",
   "execution_count": 14,
   "metadata": {},
   "outputs": [
    {
     "name": "stdout",
     "output_type": "stream",
     "text": [
      "Monday is a WeekDay: true\n",
      "Tuesday is a WeekDay: true\n",
      "Wednesday is a WeekDay: true\n",
      "Thursday is a WeekDay: true\n",
      "Friday is a WeekDay: true\n",
      "Saturday is a WeekDay: false\n",
      "Sunday is a WeekDay: false\n"
     ]
    },
    {
     "ename": "Error",
     "evalue": "Illegal value: Banana",
     "output_type": "error",
     "traceback": [
      "evalmachine.<anonymous>:13",
      "            throw new Error('Illegal value: '+name)",
      "            ^",
      "",
      "Error: Illegal value: Banana",
      "    at isWeekDay (evalmachine.<anonymous>:13:19)",
      "    at evalmachine.<anonymous>:24:42",
      "    at Script.runInThisContext (vm.js:96:20)",
      "    at Object.runInThisContext (vm.js:303:38)",
      "    at run ([eval]:1054:15)",
      "    at onRunRequest ([eval]:888:18)",
      "    at onMessage ([eval]:848:13)",
      "    at process.emit (events.js:182:13)",
      "    at emit (internal/child_process.js:812:12)",
      "    at process._tickCallback (internal/process/next_tick.js:63:19)"
     ]
    }
   ],
   "source": [
    "function isWeekDay(name) {\n",
    "    switch (name) {\n",
    "        case 'Monday':\n",
    "        case 'Tuesday':\n",
    "        case 'Wednesday':\n",
    "        case 'Thursday':\n",
    "        case 'Friday':\n",
    "            return true;\n",
    "        case 'Saturday':\n",
    "        case 'Sunday':\n",
    "            return false;\n",
    "        default:\n",
    "            throw new Error('Illegal value: '+name)\n",
    "    }\n",
    "}\n",
    "    \n",
    "console.log('Monday is a WeekDay: '    + isWeekDay('Monday'));\n",
    "console.log('Tuesday is a WeekDay: '   + isWeekDay('Tuesday'));\n",
    "console.log('Wednesday is a WeekDay: ' + isWeekDay('Wednesday'));\n",
    "console.log('Thursday is a WeekDay: '  + isWeekDay('Thursday'));\n",
    "console.log('Friday is a WeekDay: '    + isWeekDay('Friday'));\n",
    "console.log('Saturday is a WeekDay: '  + isWeekDay('Saturday'));\n",
    "console.log('Sunday is a WeekDay: '    + isWeekDay('Sunday'));\n",
    "console.log('Banana is a WeekDay: '    + isWeekDay('Banana')); // throws error"
   ]
  },
  {
   "cell_type": "code",
   "execution_count": null,
   "metadata": {},
   "outputs": [],
   "source": []
  }
 ],
 "metadata": {
  "kernelspec": {
   "display_name": "Javascript (Node.js)",
   "language": "javascript",
   "name": "javascript"
  },
  "language_info": {
   "file_extension": ".js",
   "mimetype": "application/javascript",
   "name": "javascript",
   "version": "10.13.0"
  }
 },
 "nbformat": 4,
 "nbformat_minor": 2
}
