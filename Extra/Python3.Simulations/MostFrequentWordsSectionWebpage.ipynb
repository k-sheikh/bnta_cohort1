{
 "cells": [
  {
   "cell_type": "markdown",
   "metadata": {},
   "source": [
    "# Most Frequent Words in Section of a Webpage\n",
    "\n",
    "* Console application that displays the most common words used in a portion of a webpage\n",
    "* The parameters for configuring the function are:\n",
    "    * The number of words to return (default: 10)\n",
    "    * Words to exclude from the search\n",
    "* Page to crawl is https://en.wikipedia.org/wiki/Microsoft\n",
    "* Get the most common words found and the number of times they are used in the section of the page titled \"history\"\n",
    "    * That is the page content from the element with id=\"History\" to but not including the element with id=\"Corporate_affairs\""
   ]
  },
  {
   "cell_type": "code",
   "execution_count": 2,
   "metadata": {},
   "outputs": [
    {
     "name": "stdout",
     "output_type": "stream",
     "text": [
      "[('the', 215), ('microsoft', 135), ('in', 113), ('of', 92), ('and', 92), ('a', 88), ('to', 84), ('on', 61), ('windows', 60), ('for', 53)]\n",
      "\n",
      "[('the', 215), ('microsoft', 135), ('in', 113), ('of', 92), ('and', 92)]\n",
      "\n",
      "[('the', 215), ('in', 113), ('of', 92), ('and', 92), ('a', 88), ('to', 84), ('on', 61), ('windows', 60), ('for', 53), ('as', 35)]\n"
     ]
    }
   ],
   "source": [
    "# Console application that displays the most common words used in a portion of a webpage\n",
    "# The parameters for configuring the get_most_common_word_counts function are:\n",
    "#    number_words = 10 is the number of words to return (default: 10)\n",
    "#    stop_words = [] are the Words to exclude from the search (default: empty)\n",
    "# Page to crawl is https://en.wikipedia.org/wiki/Microsoft\n",
    "# Get the most common words found and the number of times they are used in the section of the page titled \"history\"\n",
    "#    That is the page content from the element with id=\"History\" to but not including the element with id=\"Corporate_affairs\"\n",
    "\n",
    "from urllib.request import urlopen\n",
    "from html.parser import HTMLParser\n",
    "import re \n",
    "\n",
    "class MyHTMLParser(HTMLParser):\n",
    "    def __init__(self):\n",
    "        HTMLParser.__init__(self)\n",
    "        self.in_the_zone = False\n",
    "        self.data = []\n",
    "    def handle_starttag(self, tag, attrs):\n",
    "        for name, value in attrs:\n",
    "            if name == 'id' and value == 'History':\n",
    "                self.in_the_zone = True\n",
    "            if name == 'id' and value == 'Corporate_affairs':\n",
    "                self.in_the_zone = False\n",
    "    def handle_endtag(self, tag):\n",
    "        if self.in_the_zone:\n",
    "            pass\n",
    "    def handle_data(self, data):\n",
    "        if self.in_the_zone:\n",
    "            self.data.append(data)\n",
    "\n",
    "def get_most_common_word_counts(number_words = 10, stop_words = []):\n",
    "    url = 'https://en.wikipedia.org/wiki/Microsoft'\n",
    "    html = urlopen(url).read().decode('utf8')\n",
    "    parser = MyHTMLParser()\n",
    "    parser.feed(html)\n",
    "    parser.close()\n",
    "    str = \" \".join(parser.data)\n",
    "    str = re.sub('[\\W_]+', ' ', str)\n",
    "    str = str.lower()\n",
    "    words = str.split()\n",
    "    words = [word for word in words if word not in stop_words]\n",
    "    wordfreq = [words.count(p) for p in words]\n",
    "    freqdict = dict(list(zip(words, wordfreq)))\n",
    "    sortedfreqdict = sorted(freqdict.items(), key=lambda x: x[1], reverse=True)\n",
    "    return sortedfreqdict[:number_words]\n",
    "\n",
    "print(get_most_common_word_counts())\n",
    "print()\n",
    "print(get_most_common_word_counts(5))\n",
    "print()\n",
    "print(get_most_common_word_counts(stop_words = ['microsoft', 'with']))"
   ]
  },
  {
   "cell_type": "code",
   "execution_count": null,
   "metadata": {},
   "outputs": [],
   "source": []
  }
 ],
 "metadata": {
  "kernelspec": {
   "display_name": "Python 3",
   "language": "python",
   "name": "python3"
  },
  "language_info": {
   "codemirror_mode": {
    "name": "ipython",
    "version": 3
   },
   "file_extension": ".py",
   "mimetype": "text/x-python",
   "name": "python",
   "nbconvert_exporter": "python",
   "pygments_lexer": "ipython3",
   "version": "3.7.6"
  }
 },
 "nbformat": 4,
 "nbformat_minor": 4
}
