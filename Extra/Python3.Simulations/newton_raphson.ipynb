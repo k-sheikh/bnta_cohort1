{
 "cells": [
  {
   "cell_type": "markdown",
   "metadata": {},
   "source": [
    "# Newton-Raphson Method\n",
    "\n",
    "See: [Newton-Raphson Method](https://en.wikipedia.org/wiki/Newton%27s_method)\n",
    "\n",
    "A function has a root wherever it crosses the x-axis. The Newton-Raphson method attempts to find an approximation for a root of a function. Some functions have no roots and some have many, but the Newton-Raphson method can only find one root approximation at a time. Note that Newton-Rahhson may not converge in some cases.\n",
    "\n",
    "1. Start with an initial guess for the root of the function.\n",
    "2. Take the derivative of the function to determine the tangent line.\n",
    "3. Compute the x-intercept of the tangent to get a better approximation.\n",
    "4. Repeat using this new approximation until desired precision is achieved."
   ]
  },
  {
   "cell_type": "code",
   "execution_count": 3,
   "metadata": {},
   "outputs": [
    {
     "name": "stdout",
     "output_type": "stream",
     "text": [
      "2.0945514815423474\n",
      "3.141592653589793\n"
     ]
    }
   ],
   "source": [
    "# https://github.com/TheAlgorithms/Python/blob/master/arithmetic_analysis/newton_method.py\n",
    "\n",
    "def newton_raphson(function, function_derivative, guess):\n",
    "    x_n = guess\n",
    "    while True:\n",
    "        x_n1 = x_n - function(x_n) / function_derivative(x_n)\n",
    "        if abs(x_n - x_n1) < 10 ** -5:\n",
    "            return x_n1\n",
    "        x_n = x_n1\n",
    "\n",
    "def function(x):\n",
    "    return (x ** 3) - (2 * x) - 5\n",
    "\n",
    "def function_derivative(x):\n",
    "    return 3 * (x ** 2) - 2\n",
    "\n",
    "print(newton_raphson(function, function_derivative, 3))\n",
    "\n",
    "from math import *\n",
    "print(newton_raphson(sin, cos, 3)) # derivative of sin is cos"
   ]
  },
  {
   "cell_type": "code",
   "execution_count": 2,
   "metadata": {},
   "outputs": [
    {
     "name": "stdout",
     "output_type": "stream",
     "text": [
      "The root of sin(x) = 0 is 3.141592653680804\n",
      "The root of x**2 - 5*x + 2 = 0 is 0.4384471871911695\n",
      "The root of log(x) - 1 = 0 is 2.718281828458938\n",
      "The root of exp(x) - 1 = 0 is 0.0\n"
     ]
    }
   ],
   "source": [
    "# https://github.com/TheAlgorithms/Python/blob/master/arithmetic_analysis/newton_raphson.py\n",
    "\n",
    "from decimal import Decimal\n",
    "from math import *\n",
    "from sympy import diff\n",
    "\n",
    "def newton_raphson(func: str, a: int, precision: int = 10 ** -10) -> float:\n",
    "    x = a\n",
    "    while True:\n",
    "        x = Decimal(x) - (Decimal(eval(func)) / Decimal(eval(str(diff(func)))))\n",
    "        # This number dictates the accuracy of the answer\n",
    "        if abs(eval(func)) < precision:\n",
    "            return float(x)\n",
    "\n",
    "print(f\"The root of sin(x) = 0 is {newton_raphson('sin(x)', 2)}\")\n",
    "print(f\"The root of x**2 - 5*x + 2 = 0 is {newton_raphson('x**2 - 5*x + 2', 0.4)}\")\n",
    "print(f\"The root of log(x) - 1 = 0 is {newton_raphson('log(x) - 1', 2)}\")\n",
    "print(f\"The root of exp(x) - 1 = 0 is {newton_raphson('exp(x) - 1', 0)}\")"
   ]
  },
  {
   "cell_type": "code",
   "execution_count": null,
   "metadata": {},
   "outputs": [],
   "source": []
  }
 ],
 "metadata": {
  "kernelspec": {
   "display_name": "Python 3",
   "language": "python",
   "name": "python3"
  },
  "language_info": {
   "codemirror_mode": {
    "name": "ipython",
    "version": 3
   },
   "file_extension": ".py",
   "mimetype": "text/x-python",
   "name": "python",
   "nbconvert_exporter": "python",
   "pygments_lexer": "ipython3",
   "version": "3.7.6"
  }
 },
 "nbformat": 4,
 "nbformat_minor": 4
}
