{
 "cells": [
  {
   "cell_type": "markdown",
   "metadata": {},
   "source": [
    "# MongoDB (0.5 Day)\n",
    "\n",
    "- See: https://docs.mongodb.com/manual/introduction\n",
    "- See: https://www.w3schools.com/python/python_mongodb_query.asp\n",
    "- Open source document database and query language designed for ease of development and scaling\n",
    "- **Documents** Store JSON-like BSON data as collections of records\n",
    "- **Records** Stored as data structures composed of field and value pairs\n",
    "- **Query Language** supports CRUD operations (create read, update, and write) \n",
    "- **High Availability** automatic failover and data redundancy\n",
    "- **Horizontal Scalability** Sharding distributes data across a cluster of machines\n",
    "- **Mongo Shell** CLI for interactive MongoDB commands\n",
    "- **Download and install free local MongoDB**: https://www.mongodb.com\n",
    "- Or... **MongoDB cloud service**: https://www.mongodb.com/cloud/atlas"
   ]
  },
  {
   "cell_type": "markdown",
   "metadata": {},
   "source": [
    "## Pre-Read Assignment\n",
    "\n",
    "- Explore: https://www.tutorialspoint.com/mongodb/index.htm\n",
    "- Be prepared to provide a brief in-class presentation on any of the following concepts:"
   ]
  },
  {
   "cell_type": "markdown",
   "metadata": {},
   "source": [
    "## Topics\n",
    "\n",
    "- Ad Hoc Queries\n",
    "- SchemaLess Databases\n",
    "- Document Oriented Databases\n",
    "- Indexing\n",
    "- Replication\n",
    "- Aggregation\n",
    "- Sharding"
   ]
  },
  {
   "cell_type": "markdown",
   "metadata": {},
   "source": [
    "## MongoDB Document Record\n",
    "\n",
    "```javascript\n",
    "{\n",
    "    firstName: \"Margaret\",\n",
    "    lastName: \"Thatcher\",\n",
    "    nickName: \"Iron Lady\",\n",
    "    birthYear: 1925,\n",
    "    edathYear: 2013\n",
    "    \n",
    "}\n",
    "```"
   ]
  },
  {
   "cell_type": "markdown",
   "metadata": {},
   "source": [
    "## Try It Out: Running MongoDB Server with Docker\n",
    "\n",
    "**OS command prompt**:\n",
    "\n",
    "```bash\n",
    "$ docker run --name mongodb -d -p 27017:27017 mongo:latest\n",
    "$ docker images\n",
    "$ docker ps\n",
    "$ docker exec -it mongodb bash\n",
    "```"
   ]
  },
  {
   "cell_type": "markdown",
   "metadata": {},
   "source": [
    "## MongoDB with Python\n",
    "\n",
    "- Python needs a MongoDB driver to access the MongoDB database\n",
    "   -  The ```pymongo``` package is a native Python driver for MongoDB\n",
    "   - You will use ```conda install -c anaconda pymongo``` or ```python -m pip install pymongo```\n",
    "   \n",
    "   ### Try It Out: MongoDB with Python\n",
    "\n",
    "1. First start MongoDB Server with Docker as described above\n",
    "2. **In another OS command prompt** (not the one you used to run the mongodb docker image as decsribed above)\n",
    "\n",
    "- Note that first cell below clears the database for a clean start when we run this notebook again from the top"
   ]
  },
  {
   "cell_type": "code",
   "execution_count": 2,
   "metadata": {},
   "outputs": [
    {
     "name": "stdout",
     "output_type": "stream",
     "text": [
      "['admin', 'config', 'local']\n"
     ]
    }
   ],
   "source": [
    "import pymongo\n",
    "\n",
    "my_client = pymongo.MongoClient(\"mongodb://localhost:27017/\")\n",
    "\n",
    "# delete mydatabase if there from previous run of this notebook \n",
    "# so that we have a clean start when we run this notebook again from the top\n",
    "my_client.drop_database(\"mydatabase\")\n",
    "\n",
    "# See existing databases\n",
    "print(my_client.list_database_names()) # just the built in ones now (if 'mydatabase' shows here, then execute last cell)"
   ]
  },
  {
   "cell_type": "code",
   "execution_count": 3,
   "metadata": {},
   "outputs": [
    {
     "name": "stdout",
     "output_type": "stream",
     "text": [
      "['admin', 'config', 'local']\n"
     ]
    }
   ],
   "source": [
    "# creating database named mydatabase\n",
    "my_client = pymongo.MongoClient(\"mongodb://localhost:27017/\")\n",
    "my_database = my_client[\"mydatabase\"]\n",
    "\n",
    "# See existing databases to see if 'mydatabase' is there now\n",
    "print(my_client.list_database_names()) # Nope. MongoDB only creates database when you first store data in that database"
   ]
  },
  {
   "cell_type": "code",
   "execution_count": 4,
   "metadata": {},
   "outputs": [
    {
     "name": "stdout",
     "output_type": "stream",
     "text": [
      "[]\n",
      "['admin', 'config', 'local']\n"
     ]
    }
   ],
   "source": [
    "# creating a collection\n",
    "my_collection = my_database[\"customers\"]\n",
    "\n",
    "# check if collection exists\n",
    "print(my_database.list_collection_names())\n",
    "\n",
    "# check if database exists\n",
    "print(my_client.list_database_names())"
   ]
  },
  {
   "cell_type": "code",
   "execution_count": 5,
   "metadata": {},
   "outputs": [
    {
     "name": "stdout",
     "output_type": "stream",
     "text": [
      "5fee57af7361fec05474add1\n",
      "['admin', 'config', 'local', 'mydatabase']\n"
     ]
    }
   ],
   "source": [
    "# insert document into collection\n",
    "my_document = { \"name_first\": \"Sally\", \"name_last\": \"Jones\", \"age\": 37 }\n",
    "ior = my_collection.insert_one(my_document) # returns an InsertOneResult object\n",
    "\n",
    "# return the _id field\n",
    "print(ior.inserted_id)\n",
    "\n",
    "# check if database exists\n",
    "print(my_client.list_database_names()) # 'mydatabase' shows now that we inserted data into it"
   ]
  },
  {
   "cell_type": "code",
   "execution_count": 6,
   "metadata": {},
   "outputs": [
    {
     "name": "stdout",
     "output_type": "stream",
     "text": [
      "<pymongo.results.InsertManyResult object at 0x00000228E4225500>\n",
      "[ObjectId('5fee57b27361fec05474add2'), ObjectId('5fee57b27361fec05474add3')]\n"
     ]
    }
   ],
   "source": [
    "# insert multiple documents\n",
    "my_documents = [\n",
    "  { \"name_first\": \"John\", \"name_last\": \"Smith\", \"age\": 22 },\n",
    "  { \"name_first\": \"Jane\", \"name_last\": \"McGill\", \"age\": 34 }\n",
    "]\n",
    "\n",
    "imr = my_collection.insert_many(my_documents) # returns an InsertManyResult object\n",
    "print(imr)\n",
    "\n",
    "#print list of the _id values of the inserted documents:\n",
    "print(imr.inserted_ids)"
   ]
  },
  {
   "cell_type": "code",
   "execution_count": 7,
   "metadata": {},
   "outputs": [
    {
     "name": "stdout",
     "output_type": "stream",
     "text": [
      "{'_id': ObjectId('5fee57af7361fec05474add1'), 'name_first': 'Sally', 'name_last': 'Jones', 'age': 37}\n"
     ]
    }
   ],
   "source": [
    "# find fist document in collection and print it\n",
    "first_document = my_collection.find_one() # returns the first document in collection \n",
    "print(first_document)"
   ]
  },
  {
   "cell_type": "code",
   "execution_count": 8,
   "metadata": {},
   "outputs": [
    {
     "name": "stdout",
     "output_type": "stream",
     "text": [
      "{'_id': ObjectId('5fee57af7361fec05474add1'), 'name_first': 'Sally', 'name_last': 'Jones', 'age': 37}\n",
      "{'_id': ObjectId('5fee57b27361fec05474add2'), 'name_first': 'John', 'name_last': 'Smith', 'age': 22}\n",
      "{'_id': ObjectId('5fee57b27361fec05474add3'), 'name_first': 'Jane', 'name_last': 'McGill', 'age': 34}\n"
     ]
    }
   ],
   "source": [
    "# find all documents in collection and print each one in full\n",
    "# first parameter of the find() method is a query object, second parameter is projection object (defaulted here)\n",
    "all_documents = my_collection.find() # returns all documents in collection (similar to SELECT * in MySQL) \n",
    "for document in all_documents:\n",
    "    print(document)"
   ]
  },
  {
   "cell_type": "code",
   "execution_count": 9,
   "metadata": {},
   "outputs": [
    {
     "name": "stdout",
     "output_type": "stream",
     "text": [
      "{'_id': ObjectId('5fee57af7361fec05474add1'), 'name_last': 'Jones', 'age': 37}\n",
      "{'_id': ObjectId('5fee57b27361fec05474add2'), 'name_last': 'Smith', 'age': 22}\n",
      "{'_id': ObjectId('5fee57b27361fec05474add3'), 'name_last': 'McGill', 'age': 34}\n"
     ]
    }
   ],
   "source": [
    "# return all documents with some fields (filtering and projection)\n",
    "all_documents_with_some_fields = my_collection.find({},{ \"name_last\": 1, \"age\": 1 }) # no name_first in results\n",
    "for document in all_documents_with_some_fields:\n",
    "    print(document)"
   ]
  },
  {
   "cell_type": "code",
   "execution_count": 10,
   "metadata": {},
   "outputs": [
    {
     "name": "stdout",
     "output_type": "stream",
     "text": [
      "{'_id': ObjectId('5fee57af7361fec05474add1'), 'name_last': 'Jones', 'age': 37}\n"
     ]
    }
   ],
   "source": [
    "# return some documents with some fields (filtering and projection)\n",
    "some_documents_with_some_fields = my_collection.find({ \"age\": 37 },{ \"name_last\": 1, \"age\": 1 }) # just name_first with age 37\n",
    "for document in some_documents_with_some_fields:\n",
    "    print(document)"
   ]
  },
  {
   "cell_type": "code",
   "execution_count": 11,
   "metadata": {},
   "outputs": [
    {
     "name": "stdout",
     "output_type": "stream",
     "text": [
      "{'_id': ObjectId('5fee57af7361fec05474add1'), 'name_first': 'Sally', 'name_last': 'Jones', 'age': 37}\n",
      "{'_id': ObjectId('5fee57b27361fec05474add3'), 'name_first': 'Jane', 'name_last': 'McGill', 'age': 34}\n"
     ]
    }
   ],
   "source": [
    "# more complex query\n",
    "my_query = { \"age\": { \"$gt\": 30 } }\n",
    "complex_query_result = my_collection.find(my_query) # skip John Smith because age is 22\n",
    "for result in complex_query_result:\n",
    "    print(result)"
   ]
  },
  {
   "cell_type": "markdown",
   "metadata": {},
   "source": [
    "## MongoDB with Node\n",
    "\n",
    "- Node needs the MongoDB package installed to access the MongoDB database\n",
    "   - The ```mongodb``` package is a Node interface for MongoDB\n",
    "   - You will use ```npm install mongodb --save```\n",
    "   - You often have to be careful with MongoDB code due to its asynchronous nature\n",
    "   \n",
    "### Try It Out: MongoDB with Node\n",
    "\n",
    "1. First start MongoDB Server with Docker as described above\n",
    "2. **In another OS command prompt** (not the one you used to run the mongodb docker image as decsribed above)\n",
    "\n",
    "- Note that first cell below clears the database for a clean start when we run this notebook again from the top\n",
    "\n",
    "1. Create and ```cd``` into a new root folder named **mongodb_node**\n",
    "2. ```npm install mongodb --save```\n",
    "3. Create and edit a file named **mongo_node.js**\n",
    "\n",
    "```javascript\n",
    "const MongoClient = require('mongodb').MongoClient;\n",
    "const url = \"mongodb://localhost:27017\";\n",
    "const dbName = 'mydatabase';\n",
    "\n",
    "(async function() {\n",
    "let client = await MongoClient.connect(url);\n",
    "console.log(\"Connected to server\");\n",
    "\n",
    "const db = client.db(dbName);\n",
    "const rockers = db.collection(\"rockers\");\n",
    "console.log(\"Database \" + dbName + \" created\");\n",
    "\n",
    "let r;\n",
    "\n",
    "await rockers.deleteMany({}) // delete all documents in rockers (if any)\n",
    "\n",
    "var myobj = { firstName: \"Ringo\", lastName: \"Starr\" };\n",
    "r = await rockers.insertOne(myobj);\n",
    "console.log(\"One document inserted: \" + r.insertedId);\n",
    "\n",
    "var myobj = [\n",
    "   { firstName: 'Norah', lastName: 'Jones'},\n",
    "   { firstName: 'Peter', lastName: 'Frampton'},\n",
    "   { firstName: 'Gene', lastName: 'Krupa'},\n",
    "];\n",
    "r = await rockers.insertMany(myobj);\n",
    "console.log(r.insertedCount + \" documents inserted\");\n",
    "\n",
    "r = await rockers.find().toArray()\n",
    "console.log(r);\n",
    "\n",
    "client.close();\n",
    "})();\n",
    "```\n",
    "\n",
    "4. ```node mongo_node.js```\n",
    "\n",
    "*Output**\n",
    "\n",
    "```javascript\n",
    "Connected to server\n",
    "Database mydatabase created\n",
    "One document inserted: 5fed56e32399b636ecdc9335\n",
    "3 documents inserted\n",
    "[\n",
    "  {\n",
    "    _id: 5fed56e32399b636ecdc9335,\n",
    "    firstName: 'Ringo',\n",
    "    lastName: 'Starr'\n",
    "  },\n",
    "  {\n",
    "    _id: 5fed56e32399b636ecdc9336,\n",
    "    firstName: 'Norah',\n",
    "    lastName: 'Jones'\n",
    "  },\n",
    "  {\n",
    "    _id: 5fed56e32399b636ecdc9337,\n",
    "    firstName: 'Peter',\n",
    "    lastName: 'Frampton'\n",
    "  },\n",
    "  {\n",
    "    _id: 5fed56e32399b636ecdc9338,\n",
    "    firstName: 'Gene',\n",
    "    lastName: 'Krupa'\n",
    "  }\n",
    "]\n",
    "```"
   ]
  },
  {
   "cell_type": "markdown",
   "metadata": {},
   "source": [
    "## MongoDB with Mongo Shell (running in Docker)\n",
    "\n",
    "- Mongo Shell is an interactive JavaScript CLI for MongoDB\n",
    "- Mongo Shell is included with the MongoDB Server installation\n",
    "- You can also just download Mongo Shell without MongoDB Server\n",
    "- The following demo will just use the mongo shell provided in the Docker MongoDB Server created above \n",
    "- MongoDB 4.4 Manual:https://docs.mongodb.com/manual/#the-mongodb-version-manual\n",
    "- MongoDB CRUD: https://docs.mongodb.com/manual/crud/#mongodb-crud-operations\n",
    "- Free course: https://university.mongodb.com/?tck=docs_server\n",
    "\n",
    "### Try It Out: MongoDB Shell\n",
    "\n",
    "**First start the Docker image described above**\n",
    "\n",
    "- ```docker run --name mongodb -d -p 27017:27017 mongo:latest```\n",
    "- ```docker exec -it mongodb bash```\n",
    "\n",
    "1. $ ```mongo \"mongodb://localhost:27017/mongodb\"```\n",
    "2. ```db```\n",
    "3. ```show dbs```\n",
    "4. ```use newdb```\n",
    "5. ```show collections```\n",
    "6. ```db.brainiacs.insertOne( { firstName: \"Marie\", lastName: \"Curie\" } )```\n",
    "7. ```show collections```\n",
    "8. ```db.brainiacs.find()```\n",
    "9. ```myobj = [\n",
    "   { firstName: \"Emmy\", lastName: \"Noether\" },\n",
    "   { firstName: \"Sophie\", lastName: \"Germain\" },\n",
    "   { firstName: \"Donna\", lastName: \"Strickland\" },\n",
    "   { firstName: \"Sabine\", lastName: \"Hossenfelder \" },\n",
    "   ];```\n",
    "10. ```db.brainiacs.insertMany(myobj)```\n",
    "11. ```db.brainiacs.find()```\n",
    "12. ```db.brainiacs.count()```\n",
    "13. Try out more commands as desribed at: https://docs.mongodb.com/manual/crud\n",
    "14. ```quit()```\n",
    "15. ```exit```\n",
    "\n",
    "**If you want to remove the docker container and image**:\n",
    "1. ```docker container rm mongodb -f```\n",
    "2. ```docker image rm mongo```"
   ]
  },
  {
   "cell_type": "markdown",
   "metadata": {},
   "source": [
    "## MEAN, MERN, and MEVN\n",
    "- MEAN: MongoDB (database), Express.js (controller), Angular (presentation), Node.js (server)\n",
    "- MERN: MongoDB (database), Express.js (controller), React.js (presentation), Node.js (server)\n",
    "- MEVN: MongoDB (database), Express.js (controller), Vue.js presentation), Node.js (server)"
   ]
  },
  {
   "cell_type": "markdown",
   "metadata": {},
   "source": [
    "## Lab\n",
    "\n",
    "- Work through the article at: https://zellwk.com/blog/crud-express-mongodb"
   ]
  },
  {
   "cell_type": "markdown",
   "metadata": {},
   "source": [
    "## Homework\n",
    "\n",
    "- Review: https://docs.mongodb.com/manual/introduction\n",
    "- Watch: https://www.youtube.com/watch?v=E-1xI85Zog8\n",
    "- Be prepared to present these concepts in class"
   ]
  },
  {
   "cell_type": "markdown",
   "metadata": {},
   "source": [
    "## Learning Resources\n",
    "\n",
    "- https://docs.mongodb.com"
   ]
  },
  {
   "cell_type": "code",
   "execution_count": null,
   "metadata": {},
   "outputs": [],
   "source": []
  }
 ],
 "metadata": {
  "kernelspec": {
   "display_name": "Python 3",
   "language": "python",
   "name": "python3"
  },
  "language_info": {
   "codemirror_mode": {
    "name": "ipython",
    "version": 3
   },
   "file_extension": ".py",
   "mimetype": "text/x-python",
   "name": "python",
   "nbconvert_exporter": "python",
   "pygments_lexer": "ipython3",
   "version": "3.8.5"
  }
 },
 "nbformat": 4,
 "nbformat_minor": 4
}
