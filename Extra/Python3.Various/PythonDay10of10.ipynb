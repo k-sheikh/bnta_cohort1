{
 "cells": [
  {
   "cell_type": "markdown",
   "metadata": {},
   "source": [
    "# Python Day 10 of 10\n",
    "\n",
    " - Quine: Self-Replicating Python Code\n",
    " - Simulate Particle Motion\n",
    " - Tkinter\n",
    " - SimpleHTTPRequestHandler\n",
    " - Flask Web Server Gateway Interface\n",
    " - SciPy"
   ]
  },
  {
   "cell_type": "markdown",
   "metadata": {},
   "source": [
    "## Demos\n",
    "\n",
    "  1. [Quine: Self-Replicating Python Code](QuineSelfReplicatingPythonCode.ipynb)\n",
    "  2. [Simulate Particle Motion](simulate_particle_motion.ipynb)\n",
    "  3. [Tkinter](Tkinter.ipynb)\n",
    "  4. [SimpleHTTPRequestHandler](SimpleHTTPRequestHandler.ipynb)\n",
    "  5. [Flask Web Server Gateway Interface](FlaskWebServerGatewayInterface.ipynb)\n",
    "  6. [SciPy](scipy.ipynb)"
   ]
  },
  {
   "cell_type": "markdown",
   "metadata": {},
   "source": [
    "## Labs and Homework\n",
    "\n",
    "Implement a Python GUI Game"
   ]
  },
  {
   "cell_type": "markdown",
   "metadata": {},
   "source": [
    "## Data Science and Mathematics\n",
    "\n",
    "- [Matplotlib](matplotlib.ipynb)\n",
    "- [Plotly](plotly.ipynb)\n",
    "- [Numpy](numpy.ipynb)\n",
    "- [Pandas](pandas.ipynb)\n",
    "- [Scipy](scipy.ipynb)\n",
    "- [Probability and Statistics](probability_and_statistics.ipynb)\n",
    "- [Linear Regression](linear_regression.ipynb)\n",
    "- [Logistic Regression Learning Model](logistic_regression_learning_model.ipynb)\n",
    "- [Newton-Raphson Method](newton_raphson.ipynb)\n",
    "- [Decimal to Binary](http://localhost:8888/notebooks/Documents/MyPythonCourse_Jupyter/decimal_to_binary.ipynb)\n",
    "- [K Nearest Neighbours](k_nearest_neighbours.ipynb)\n",
    "- [K Nearest Neighbours Scikit-Learn](k_nearest_neighbours_scikit_learn.ipynb)\n",
    "- [Reinforcement Learning: Tic-Tac-Toe](ReinforcementLearningTicTacToe.ipynb)\n",
    "- [Stocks and Flows](StocksAndFlows.ipynb)\n",
    "- [Compare ML Algorithms](CompareMLAlgorithms.ipynb)\n",
    "- [Stock Data Analysis](StockDataAnalysis.ipynb)\n",
    "- [Time Series](TimeSeries.ipynb)\n",
    "- [Simulation and Modeling](simulation_modeling.ipynb)\n",
    "- [Logistic Map Chaos](LogisticMapChaos.ipynb)\n",
    "- [Fast Fourier Transform (FFT)](FastFourierTransform.ipynb)\n",
    "- [ODE Integrator](ODEIntegrator.ipynb)\n",
    "- [Asynchrony, Concurrency, and Parallelism](asynchrony_concurrency_parallelism.ipynb)\n",
    "- [Most Frequent Words in Section of a Webpage](MostFrequentWordsSectionWebpage.ipynb)\n",
    "- [Machine Learning Examples](github.com/bnsreenu/python_for_microscopists)\n",
    "  - [00_A review of COVID19 situation in India using Python.py](ReviewCOVID19SituationIndia.ipynb)\n",
    "  - [017-Reading_Images_in_Python.py](ReadingImagesPython.ipynb)\n",
    "  - [110_covid19_visualization_using_plotly.py](Covid19VisualizationPlotly.ipynb)\n",
    "  - [Many more...](https://github.com/bnsreenu/python_for_microscopists)\n",
    "- [Principle Component Analysis Data Visualization](PrincipleComponentAnalysisDataVisualization.ipynb)"
   ]
  },
  {
   "cell_type": "code",
   "execution_count": null,
   "metadata": {},
   "outputs": [],
   "source": []
  }
 ],
 "metadata": {
  "kernelspec": {
   "display_name": "Python 3",
   "language": "python",
   "name": "python3"
  },
  "language_info": {
   "codemirror_mode": {
    "name": "ipython",
    "version": 3
   },
   "file_extension": ".py",
   "mimetype": "text/x-python",
   "name": "python",
   "nbconvert_exporter": "python",
   "pygments_lexer": "ipython3",
   "version": "3.8.5"
  }
 },
 "nbformat": 4,
 "nbformat_minor": 4
}
