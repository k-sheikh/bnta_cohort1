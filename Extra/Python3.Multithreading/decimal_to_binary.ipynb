{
 "cells": [
  {
   "cell_type": "markdown",
   "metadata": {},
   "source": [
    "# Decimal to Binary\n",
    "\n",
    "From: [github.com/TheAlgorithms/Python/blob/master/conversions/decimal_to_binary.py](https://github.com/TheAlgorithms/Python/blob/master/conversions/decimal_to_binary.py)\n"
   ]
  },
  {
   "cell_type": "code",
   "execution_count": 7,
   "metadata": {},
   "outputs": [
    {
     "name": "stdout",
     "output_type": "stream",
     "text": [
      "0b0\n",
      "0b10\n",
      "0b111\n",
      "0b100011\n",
      "-0b10\n",
      "<class 'TypeError'> 'float' object cannot be interpreted as an integer\n",
      "<class 'TypeError'> 'str' object cannot be interpreted as an integer\n"
     ]
    }
   ],
   "source": [
    "# Convert integer number to binary represented in a string\n",
    "def decimal_to_binary(num):\n",
    "    if type(num) == float:\n",
    "        raise TypeError(\"'float' object cannot be interpreted as an integer\")\n",
    "    if type(num) == str:\n",
    "        raise TypeError(\"'str' object cannot be interpreted as an integer\")\n",
    "    if num == 0:\n",
    "        return \"0b0\"\n",
    "    negative = False\n",
    "    if num < 0:\n",
    "        negative = True\n",
    "        num = -num\n",
    "    binary = []\n",
    "    while num > 0:\n",
    "        binary.insert(0, num % 2)\n",
    "        num >>= 1\n",
    "    if negative:\n",
    "        return \"-0b\" + \"\".join(str(e) for e in binary)\n",
    "    return \"0b\" + \"\".join(str(e) for e in binary)\n",
    "\n",
    "print(decimal_to_binary(0))  # '0b0'\n",
    "print(decimal_to_binary(2))  # '0b10'\n",
    "print(decimal_to_binary(7))  # '0b111'\n",
    "print(decimal_to_binary(35)) # '0b100011'\n",
    "print(decimal_to_binary(-2)) # '-0b10'\n",
    "\n",
    "# non-integer floats will error\n",
    "try:\n",
    "    print(decimal_to_binary(16.16))\n",
    "except TypeError as ex:\n",
    "    print(TypeError, ex)\n",
    "    \n",
    "# strings will error\n",
    "try:\n",
    "    print(decimal_to_binary('0xfffff'))\n",
    "except TypeError as ex:\n",
    "    print(TypeError, ex)\n",
    "\n"
   ]
  },
  {
   "cell_type": "code",
   "execution_count": null,
   "metadata": {},
   "outputs": [],
   "source": []
  }
 ],
 "metadata": {
  "kernelspec": {
   "display_name": "Python 3",
   "language": "python",
   "name": "python3"
  },
  "language_info": {
   "codemirror_mode": {
    "name": "ipython",
    "version": 3
   },
   "file_extension": ".py",
   "mimetype": "text/x-python",
   "name": "python",
   "nbconvert_exporter": "python",
   "pygments_lexer": "ipython3",
   "version": "3.7.6"
  }
 },
 "nbformat": 4,
 "nbformat_minor": 4
}
