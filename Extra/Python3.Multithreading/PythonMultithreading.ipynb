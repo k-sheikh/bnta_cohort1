{
 "cells": [
  {
   "cell_type": "markdown",
   "metadata": {},
   "source": [
    "# Python Day 3 of 10\n",
    "\n",
    "- Decimal to Binary\n",
    "- Numpy\n",
    "- Asynchrony Concurrency Parallelism\n",
    "- Probability and Statistics"
   ]
  },
  {
   "cell_type": "markdown",
   "metadata": {},
   "source": [
    "## Pre-Read Assignment\n",
    "\n",
    "Search information on the relevant topics on the web or in any of the following resources:\n",
    "\n",
    "  - https://www.brianheinold.net/python/Python_Quick_Reference_Guide_Heinold.pdf\n",
    "  - https://www.brianheinold.net/python/python_book.html\n",
    "  - https://www.brianheinold.net/ds/data_structures_book_v2.html\n",
    "  - https://books.goalkicker.com/PythonBook"
   ]
  },
  {
   "cell_type": "markdown",
   "metadata": {},
   "source": [
    "## Demos\n",
    "\n",
    "1. [Decimal to Binary](decimal_to_binary.ipynb)\n",
    "2. [Numpy](numpy.ipynb)\n",
    "3. [Asynchrony Concurrency Parallelism](asynchrony_concurrency_parallelism.ipynb)\n",
    "4. [Probability and Statistics](probability_and_statistics.ipynb)"
   ]
  },
  {
   "cell_type": "markdown",
   "metadata": {},
   "source": [
    "## Labs and Homework\n",
    "\n",
    "- Data Camp Intro Python tutorial at: https://practice.datacamp.com/p/3\n",
    "- Online Code Challenges:\n",
    "  - [exercism.io](https://exercism.io/my/tracks)\n",
    "  - [hackerrank.com](https://www.hackerrank.com)\n",
    "  - [leetcode.com](https://leetcode.com)\n",
    "  - [edabit.com](https://edabit.com/challenges/python3)\n",
    "  - [practicepython.org](https://www.practicepython.org)\n",
    "  - Search for others and if you find a good one, share it with the class)\n",
    "- Interactive Python Exercises and Tutorials:\n",
    "  - [Data Camp to Intro Python](https://www.datacamp.com/courses/intro-to-python-for-data-science)\n",
    "  - [w3resource Python Tutorial](https://www.w3resource.com/python/python-tutorial.php)\n",
    "  - [QueWorx Interactive Python Tutorial](https://www.queworx.com/python/interactive-python-tutorial)\n",
    "  - Search for other exercises and tutorials and if you find a good one, share it with the class)\n",
    "- Try copying and pasting and modifying code examples from online Python books:\n",
    "  - https://www.brianheinold.net/python/Python_Quick_Reference_Guide_Heinold.pdf\n",
    "  - https://www.brianheinold.net/python/python_book.html\n",
    "  - https://www.brianheinold.net/ds/data_structures_book_v2.html\n",
    "  - https://books.goalkicker.com/PythonBook\n",
    "  - Search for other code example sources and if you find a good one, share it with the class)\n",
    "- Try inventing your own code examples from scratch only using the official Python Docs\n",
    "  - https://docs.python.org/3"
   ]
  },
  {
   "cell_type": "code",
   "execution_count": null,
   "metadata": {},
   "outputs": [],
   "source": []
  }
 ],
 "metadata": {
  "kernelspec": {
   "display_name": "Python 3",
   "language": "python",
   "name": "python3"
  },
  "language_info": {
   "codemirror_mode": {
    "name": "ipython",
    "version": 3
   },
   "file_extension": ".py",
   "mimetype": "text/x-python",
   "name": "python",
   "nbconvert_exporter": "python",
   "pygments_lexer": "ipython3",
   "version": "3.8.5"
  }
 },
 "nbformat": 4,
 "nbformat_minor": 4
}
