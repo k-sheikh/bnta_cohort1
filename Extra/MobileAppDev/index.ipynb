{
 "cells": [
  {
   "cell_type": "markdown",
   "metadata": {},
   "source": [
    "# Mobile App Dev (1 Day)\n",
    "\n",
    "- **Android**\n",
    "- **iOS**\n",
    "- **Ionic** and **Apache Cordova** Cross-platform WebView-based hybrid using HTML, CSS, JavaScript with Angular or React\n",
    "- **ReactNative** Cross-platform native with HTML, CSS, JSX, JavaScript, and React framework\n",
    "- **NativeScript** Cross-platform native with HTML, CSS, JSX, JavaScript, and Angular or Vue frameworks\n",
    "- **Flutter** Performant cross-platform mobile app development toolkit from Google that is based on the Dart language\n",
    "- **Titanium Mobile** Cross-platform native, HTML, CSS, JSX, JavaScript, plus MVC-based framework\n",
    "- **jQuery Mobile** HTML, CSS, JSX, JavaScript, plus jQuery framework\n",
    "- **Xamarin** Cross-platform native, based on C# and .NET Core\n",
    "\n",
    "**NOTE**: **WebView** is a native device-embedded web browser component that encapsulates an application that displays web content.\n",
    "\n",
    "**NOTE**: **Ionic** and **Cordova** are not competing technologies. Ionic is built on top of Cordova. Cordova provides access to native device functions using JavaScript, and it is used in combination with a UI framework such as React. Ionic is a mobile-optimized JavaScript library that makes a Cordova app look like a native app on both iOS and Android devices."
   ]
  },
  {
   "cell_type": "markdown",
   "metadata": {},
   "source": [
    "# Android"
   ]
  },
  {
   "cell_type": "markdown",
   "metadata": {},
   "source": [
    "## Android App Development\n",
    "\n",
    "You can create native Android apps using **Java** or **Kotlin** with **Android Studio**. Also, **C++** is supported. Android apps can be developed and tested on Windows, Mac, or Linux machines but they can be deployed only on Android devices. \n",
    "\n",
    "- Download and Install **Android Studio**: https://developer.android.com/studio\n",
    "- **Java**\n",
    "  - The Java Virtual Machine Specification: https://docs.oracle.com/javase/specs/jvms/se15/html/index.html\n",
    "  - The Java Tutorials: https://docs.oracle.com/javase/tutorial/java/index.html\n",
    "- **Kotlin**\n",
    "  - Learn Kotlin: https://kotlinlang.org/docs/reference\n",
    "  - Tutorials: https://kotlinlang.org/docs/tutorials\n",
    "- You can also include **C++** in your Android apps: https://developer.android.com/studio/projects/add-native-code"
   ]
  },
  {
   "cell_type": "markdown",
   "metadata": {},
   "source": [
    "## Android Docs\n",
    "\n",
    "- **Adroid Docs** https://developer.android.com/docs\n",
    "- **Android SDK** https://developer.android.com/about\n",
    "- **Build your first app** https://developer.android.com/training/basics/firstapp\n",
    "- **Official Android Courses** https://developer.android.com/courses"
   ]
  },
  {
   "cell_type": "markdown",
   "metadata": {},
   "source": [
    "## Free Online University Android Course\n",
    "\n",
    "- Android App Development Specialization (Brown University): https://www.coursera.org/specializations/android-app-development"
   ]
  },
  {
   "cell_type": "markdown",
   "metadata": {},
   "source": [
    "## Android Topics\n",
    "\n",
    "- Android Studio\n",
    "- Java\n",
    "- Kotlin\n",
    "- Apps and APK Files\n",
    "- Activities\n",
    "- Fragments\n",
    "- Views and ViewGroups\n",
    "- Layout XML Files\n",
    "- Intents\n",
    "- Widgets\n",
    "- Services\n",
    "- Sensors"
   ]
  },
  {
   "cell_type": "markdown",
   "metadata": {},
   "source": [
    "## Android Components\n",
    "\n",
    "- See: https://developer.android.com/guide/components/fundamentals\n",
    "\n",
    "There are four different types of app components:\n",
    "\n",
    "- **Activity**  single screen with a user interface that provides an entry point for user interacting\n",
    "- **Fragment** a reusable portion of your app UI\n",
    "- **Intents**: asynchronously activate three types of component (activities, services, and broadcast receivers)\n",
    "- **Service** general-purpose entry point for keeping an app long-running in the background (e.g. play music)\n",
    "- **Broadcast Receiver** component that enables system to deliver events to app outside of regular user interaction flow\n",
    "- **Content Provider** manages access to shared app data (e.g. file system, database, REST request, etc.)\n",
    "\n",
    "## Android Concepts\n",
    "\n",
    "- **Introduction to Activities**: https://developer.android.com/guide/components/activities/intro-activities\n",
    "- **Activating Components**: https://developer.android.com/guide/components/fundamentals#ActivatingComponents\n",
    "- **Fragments** https://developer.android.com/guide/fragments\n",
    "- **Intents**: https://developer.android.com/guide/components/intents-filters\n",
    "- **Services**: https://developer.android.com/guide/components/services\n",
    "- **Background Processing** https://developer.android.com/guide/background\n",
    "- **Manifest File**: https://developer.android.com/guide/components/fundamentals#Manifest\n",
    "- **Declaring Components**: https://developer.android.com/guide/components/fundamentals#DeclaringComponents"
   ]
  },
  {
   "cell_type": "markdown",
   "metadata": {},
   "source": [
    "## Android Software Stack\n",
    "\n",
    "From: https://developer.android.com/guide/platform\n",
    "<img src=\"https://developer.android.com/guide/platform/images/android-stack_2x.png\"></img>"
   ]
  },
  {
   "cell_type": "markdown",
   "metadata": {},
   "source": [
    "## Android Activity Lifecycle\n",
    "\n",
    "From: https://developer.android.com/guide/components/activities/activity-lifecycle\n",
    "<img src=\"https://developer.android.com/guide/components/images/activity_lifecycle.png\"></img>"
   ]
  },
  {
   "cell_type": "markdown",
   "metadata": {},
   "source": [
    "## Android Lab\n",
    "\n",
    "- Build your first app: https://developer.android.com/training/basics/firstapp\n",
    "- Android development Tutorials: https://www.vogella.com/tutorials/android.html\n",
    "- Build a Complete Android App with Firebase: https://www.youtube.com/watch?v=rfdQHOB3jCU"
   ]
  },
  {
   "cell_type": "markdown",
   "metadata": {},
   "source": [
    "## Android Homework\n",
    "\n",
    "- Follow the tutorial: https://www.vogella.com/tutorials/Android/article.html\n",
    "- Be prepared to present your code in class"
   ]
  },
  {
   "cell_type": "markdown",
   "metadata": {},
   "source": [
    "## Android Learning Resources\n",
    "\n",
    "- Developer Guides: https://developer.android.com/guide\n",
    "- Android Developer Fundamentals (Java): https://developer.android.com/courses/fundamentals-training/overview-v2\n",
    "- Advanced Android Development (Java): https://developer.android.com/courses/advanced-training/overview\n",
    "- Android Tutorial: https://www.tutorialspoint.com/android/index.htm\n",
    "- Android Studio Tutorial: https://www.javatpoint.com/android-tutorial"
   ]
  },
  {
   "cell_type": "markdown",
   "metadata": {},
   "source": [
    "# Ionic"
   ]
  },
  {
   "cell_type": "markdown",
   "metadata": {},
   "source": [
    "## Ionic App Development\n",
    "\n",
    "Ionic apps run in a **WebView**. Therefore, you can create cross-platform Ionic apps using **JavaScript**, **HTML**, **CSS** and related client-side libraries such as **angular** and **lodash**, and you can use web dev tools such as **npm** and **Visual Studio Code**. Android apps can be developed and tested on Windows, Mac, or Linux machines and they can be deployed on Android or iOS devices. Note that an Ionic apps may have slightly lower runtime performance and may support slightly fewer advanced features than an equivalent native app running directly on an Android or native iOS device. However, the fact that a single code base for all target devices is a big time and money saver in many projects.\n",
    "\n",
    "\n",
    "## Ionic Docs\n",
    "\n",
    "- See: https://ionicframework.com\n",
    "\n",
    "## Free Online University Ionic Course\n",
    "\n",
    "- Multiplatform Mobile App Development with Web Technologies: Ionic and Cordova (Hong Kong University): https://www.coursera.org/lecture/ionic-cordova/ionic-and-angular-gttD7\n",
    "\n",
    "## Ionic Topics\n",
    "\n",
    "- Environment Setup: https://ionicframework.com/docs/intro/environment\n",
    "- Ionic CLI: https://ionicframework.com/docs/intro/cli\n",
    "- Getting Started with Ionic: https://ionicframework.com/getting-started\n",
    "- Ionic React Framework (native React version of Ionic): https://ionicframework.com/docs/react\n",
    "- Ionic Vue Framework (native Vue version of Ionic): https://ionicframework.com/docs/vue/overview\n",
    "- UI Components: https://ionicframework.com/docs/components\n",
    "- Ionic Page Life Cycle: https://ionicframework.com/docs/angular/lifecycle\n",
    "- Adaptive Styling: https://ionicframework.com/docs/core-concepts/fundamentals#adaptive-styling\n",
    "- Navigation: https://ionicframework.com/docs/core-concepts/fundamentals#navigation\n",
    "- Native Access: https://ionicframework.com/docs/core-concepts/fundamentals#native-access\n",
    "- Theming: https://ionicframework.com/docs/core-concepts/fundamentals#theming\n",
    "- Platform: https://ionicframework.com/docs/angular/platform\n",
    "- Storage: https://ionicframework.com/docs/angular/storage\n",
    "- Web View: https://ionicframework.com/docs/core-concepts/webview\n",
    "- Progressive Web Apps: https://ionicframework.com/docs/angular/pwa\n",
    "- Glossary: https://ionicframework.com/docs/reference/glossary\n",
    "\n",
    "From: https://www.geeksforgeeks.org/ionic-framework-the-power-behind-modern-web-apps\n",
    "<img src=\"https://media.geeksforgeeks.org/wp-content/uploads/cordova_img-1.png\"></img>\n",
    "\n",
    "## Ionic Lab\n",
    "\n",
    "- Your First Ionic App: Angular: https://ionicframework.com/docs/angular/your-first-app\n",
    "\n",
    "## Ionic Homework\n",
    "\n",
    "- Ionic 4 & Angular Tutorial (4 hours): https://www.youtube.com/watch?v=r2ga-iXS5i4\n",
    "- Be prepared to provide a brief in-class presentation on what you learned\n",
    "\n",
    "## Lab on an Alternative to Ionic:\n",
    "- Flutter vs React Native vs Ionic vs NativeScript: https://www.youtube.com/watch?v=PKRXbLnfXXk"
   ]
  },
  {
   "cell_type": "markdown",
   "metadata": {},
   "source": [
    "# iOS"
   ]
  },
  {
   "cell_type": "markdown",
   "metadata": {},
   "source": [
    "## iOS App Development\n",
    "\n",
    "**NOTE**: Whereas Android apps can be developed on just about any computer (Windows, Mac, or Linux), and they can be run on any Android compliant mobile device (Samsung, Huawei, etc.), in contrast, iOS development is much more restrictive. Unfortunately, iOS apps can only be developed on a Mac and they can only be run on Apple mobile devices such as an iPhone. Since many students do not have the required hardware for that, this course will not have an official lab or homework on iOS development. However, if you have the required Apple hardware, you may choose to follow some of the links provided below in this section and study iOS app development on your own. As an alternative, you can use the cross-platform Ionic Framework described above to develop your app on Windows, Mac, or Linux and deploy it to Android or iOS devices. iOS development makes use of Objecive-C or Swift using the Xcode developer toolchain.\n",
    "\n",
    "## iOS Docs\n",
    "\n",
    "- **Docs** https://developer.apple.com/ios\n",
    "- **Apple Developer Documentation** https://developer.apple.com/documentation\n",
    "- **Introducing Xcode 12** https://developer.apple.com/xcode\n",
    "- **Swift** https://developer.apple.com/swift\n",
    "- **App Store** https://developer.apple.com/distribute\n",
    "- **Videos** https://developer.apple.com/videos/app-store-and-distribution\n",
    "- **iOS SDK** https://developer.apple.com/library/archive/referencelibrary/GettingStarted/DevelopiOSAppsSwift\n",
    "- **iOS Tutorial (2020)**: How To Make Your First App: https://www.youtube.com/watch?v=09TeUXjzpKs\n",
    "- **Download and Setup Xcode**: https://developer.apple.com/xcode/resources\n",
    "- **Objective-C** https://developer.apple.com/library/archive/documentation/Cocoa/Conceptual/ProgrammingWithObjectiveC/Introduction/Introduction.html\n",
    "-  **Swift** https://swift.org/documentation"
   ]
  },
  {
   "cell_type": "markdown",
   "metadata": {},
   "source": [
    "## Free Online University Ionic Course\n",
    "\n",
    "- iOS Development for Creative Entrepreneurs Specialization (UCI): https://www.coursera.org/specializations/ios-development#courses            "
   ]
  },
  {
   "cell_type": "code",
   "execution_count": null,
   "metadata": {},
   "outputs": [],
   "source": []
  }
 ],
 "metadata": {
  "kernelspec": {
   "display_name": "Python 3",
   "language": "python",
   "name": "python3"
  },
  "language_info": {
   "codemirror_mode": {
    "name": "ipython",
    "version": 3
   },
   "file_extension": ".py",
   "mimetype": "text/x-python",
   "name": "python",
   "nbconvert_exporter": "python",
   "pygments_lexer": "ipython3",
   "version": "3.8.5"
  }
 },
 "nbformat": 4,
 "nbformat_minor": 4
}
