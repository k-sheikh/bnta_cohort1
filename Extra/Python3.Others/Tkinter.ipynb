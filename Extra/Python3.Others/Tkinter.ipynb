{
 "cells": [
  {
   "cell_type": "markdown",
   "metadata": {},
   "source": [
    "The ```tkinter``` Module\n",
    "\n",
    "**NOTE: In Jupyter notebook, tkinter displays GUI output in seperate window, not inline within the notebook itself**\n",
    "\n",
    "* Tkinter is the standard python GUI toolkit module\n",
    "* Tkinter widgets include: ```button```, ```canvas```, ```checkbox```, ```label```, ```listbox```, ```scroolbar```, ```menu```, ```spinbox```, etc.\n",
    "* Tkinter top-level windows include: ```tk_dialog```, ```tk_messageBox```, ```tk_getOpenFile```, etc.\n",
    "* Other python GUI toolkits are also available (Qt, GTK, etc.)"
   ]
  },
  {
   "cell_type": "code",
   "execution_count": 1,
   "metadata": {},
   "outputs": [
    {
     "name": "stdout",
     "output_type": "stream",
     "text": [
      "Hello ddd ddd!\n"
     ]
    }
   ],
   "source": [
    "from tkinter import *\n",
    "\n",
    "def display_data():\n",
    "    print(\"Hello \" + entry_1.get() + \" \" + entry_2.get() + \"!\")\n",
    "    \n",
    "root = Tk()                   # add the root widget\n",
    "root.title(\"Simple TKinter Example\")\n",
    "root.geometry(\"200x80\")\n",
    "Label(root, text=\"First name:\").grid(row=0, column=0) # Label widget in grid row 0 col 0\n",
    "Label(root, text=\"Last name:\").grid(row=1, column=0)  # Label widget in grid row 1 col 0\n",
    "entry_1 = Entry(root)         # Entry widget as child of root\n",
    "entry_2 = Entry(root)         # Entry widget as child of root\n",
    "entry_1.grid(row=0, column=1) # place in grid row 0 col 1\n",
    "entry_2.grid(row=1, column=1) # place in grid row 1 col 1\n",
    "button = Button(root, text=\"Display Data\", command=display_data)\n",
    "button.grid(row=2, column=1)  # place in grid row 2 col 1\n",
    "root.mainloop()"
   ]
  },
  {
   "cell_type": "code",
   "execution_count": null,
   "metadata": {},
   "outputs": [],
   "source": []
  }
 ],
 "metadata": {
  "kernelspec": {
   "display_name": "Python 3",
   "language": "python",
   "name": "python3"
  },
  "language_info": {
   "codemirror_mode": {
    "name": "ipython",
    "version": 3
   },
   "file_extension": ".py",
   "mimetype": "text/x-python",
   "name": "python",
   "nbconvert_exporter": "python",
   "pygments_lexer": "ipython3",
   "version": "3.8.5"
  }
 },
 "nbformat": 4,
 "nbformat_minor": 4
}
