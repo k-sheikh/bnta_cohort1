{
 "cells": [
  {
   "cell_type": "markdown",
   "metadata": {},
   "source": [
    "# Control Statements\n",
    "Control structures are statements that can change the code execution path.\n",
    "\n",
    "* Conditional statements choose between execution paths (if/else, switch, and ternary operator)\n",
    "* Loop statements iterate over multiple statements or code blocks (for, while, and do while)\n",
    "* Branching statements alter execution flow in loops and switch statements (break and continue)"
   ]
  },
  {
   "cell_type": "markdown",
   "metadata": {},
   "source": [
    "## If-Else Statements\n",
    "\n",
    "* ```if```\n",
    "* ```else```"
   ]
  },
  {
   "cell_type": "code",
   "execution_count": 5,
   "metadata": {},
   "outputs": [
    {
     "name": "stdout",
     "output_type": "stream",
     "text": [
      "x is not greater than 10\r\n"
     ]
    }
   ],
   "source": [
    "int x = 5;\n",
    "if (x > 10) {\n",
    "    System.out.println(\"x is greater than 10\");\n",
    "} else {\n",
    "    System.out.println(\"x is not greater than 10\");\n",
    "}"
   ]
  },
  {
   "cell_type": "markdown",
   "metadata": {},
   "source": [
    "## The Ternary Operator"
   ]
  },
  {
   "cell_type": "code",
   "execution_count": 1,
   "metadata": {},
   "outputs": [
    {
     "name": "stdout",
     "output_type": "stream",
     "text": [
      "y is greater than 10\r\n"
     ]
    }
   ],
   "source": [
    "int y = 14;\n",
    "System.out.println(y > 10 ? \"y is greater than 10\" : \"y is not greater than 10\");"
   ]
  },
  {
   "cell_type": "markdown",
   "metadata": {},
   "source": [
    "## Switch Statements\n",
    "\n",
    "Keywords:\n",
    "* ```switch```\n",
    "* ```case```\n",
    "* ```default```\n",
    "* ```break```\n",
    "\n",
    "Note:\n",
    "* Switch can be used only on char, byte, short, int, String or enum types\n",
    "* The optional default case is executed if no switch case matches\n",
    "* Default case does not need not be last case (but common best practice is to put it last)\n",
    "* If there is no break statement in a case the switch continues to execute the next case (fall-thru)"
   ]
  },
  {
   "cell_type": "code",
   "execution_count": 8,
   "metadata": {},
   "outputs": [
    {
     "name": "stdout",
     "output_type": "stream",
     "text": [
      "z is either negative or higher than 1\r\n"
     ]
    }
   ],
   "source": [
    "{\n",
    "    int z = 5;\n",
    "    switch (z) {\n",
    "    case 0:\n",
    "        System.out.println(\"z is equal to 0\");\n",
    "        break;\n",
    "    case 1:\n",
    "        System.out.println(\"z is equal to 1\");\n",
    "        break;\n",
    "    default:\n",
    "        System.out.println(\"z is either negative or higher than 1\");\n",
    "        break;\n",
    "    }\n",
    "}"
   ]
  },
  {
   "cell_type": "code",
   "execution_count": 4,
   "metadata": {},
   "outputs": [
    {
     "name": "stdout",
     "output_type": "stream",
     "text": [
      "2\n",
      "3\n",
      "Default\n"
     ]
    }
   ],
   "source": [
    "{\n",
    "    // no breaks result in fall-thru\n",
    "    int x = 2;\n",
    "    switch (x) {\n",
    "    case 1:\n",
    "        System.out.println(1);\n",
    "    case 2:\n",
    "        System.out.println(2);\n",
    "    case 3:\n",
    "        System.out.println(3);\n",
    "    default:\n",
    "        System.out.println(\"Default\");\n",
    "    }\n",
    "}"
   ]
  },
  {
   "cell_type": "markdown",
   "metadata": {},
   "source": [
    "## For Loops\n",
    "* Basic for loops\n",
    "* Enhanced for loops"
   ]
  },
  {
   "cell_type": "code",
   "execution_count": 13,
   "metadata": {},
   "outputs": [
    {
     "name": "stdout",
     "output_type": "stream",
     "text": [
      "1\n",
      "2\n",
      "3\n",
      "4\n",
      "5\n",
      "6\n",
      "7\n",
      "8\n",
      "9\n",
      "10\n"
     ]
    }
   ],
   "source": [
    "for (int x = 1; x <= 10; x++) { // basic for loop\n",
    "    System.out.println(x);\n",
    "}"
   ]
  },
  {
   "cell_type": "code",
   "execution_count": 7,
   "metadata": {},
   "outputs": [
    {
     "name": "stdout",
     "output_type": "stream",
     "text": [
      "5050\r\n"
     ]
    }
   ],
   "source": [
    "int sumNumbers(int n) {\n",
    "    int sum = 0;\n",
    "    for(var i = 1; i <= n; i++){\n",
    "        sum += i;\n",
    "    }\n",
    "    return sum;\n",
    "}\n",
    "System.out.println(sumNumbers(100));"
   ]
  },
  {
   "cell_type": "code",
   "execution_count": 8,
   "metadata": {},
   "outputs": [
    {
     "name": "stdout",
     "output_type": "stream",
     "text": [
      "10\n",
      "20\n",
      "30\n"
     ]
    }
   ],
   "source": [
    "int[] arr = { 10, 20, 30 };\n",
    "for (int x: arr) { // enhanced for loop\n",
    "    System.out.println(x);\n",
    "}"
   ]
  },
  {
   "cell_type": "code",
   "execution_count": 14,
   "metadata": {},
   "outputs": [
    {
     "name": "stdout",
     "output_type": "stream",
     "text": [
      "1\n",
      "2\n",
      "3\n",
      "4\n",
      "5\n",
      "6\n",
      "7\n",
      "8\n",
      "9\n",
      "10\n"
     ]
    }
   ],
   "source": [
    "int x = 1;\n",
    "while (x <= 10) {\n",
    "    System.out.println(x);\n",
    "    x++;\n",
    "}"
   ]
  },
  {
   "cell_type": "code",
   "execution_count": 15,
   "metadata": {},
   "outputs": [
    {
     "name": "stdout",
     "output_type": "stream",
     "text": [
      "1\n",
      "2\n",
      "3\n",
      "4\n",
      "5\n",
      "6\n",
      "7\n",
      "8\n",
      "9\n",
      "10\n"
     ]
    }
   ],
   "source": [
    "int x = 1;\n",
    "do {\n",
    "    System.out.println(x);\n",
    "    x++;\n",
    "} while (x <= 10)"
   ]
  },
  {
   "cell_type": "markdown",
   "metadata": {},
   "source": [
    "## The break and  Keywords\n",
    "\n",
    "* ```break``` Breaks out of the loop and resumes at the top of the loop\n",
    "* ```continue``` Breaks out of the loop and resumes  after the end of the loop"
   ]
  },
  {
   "cell_type": "code",
   "execution_count": 6,
   "metadata": {},
   "outputs": [
    {
     "name": "stdout",
     "output_type": "stream",
     "text": [
      "1\n",
      "3\n",
      "5\n",
      "7\n",
      "9\n"
     ]
    }
   ],
   "source": [
    "int n = 0;\n",
    "while (true) {\n",
    "    n++;\n",
    "    if (n > 10) {\n",
    "        break;        // go no futher than 10\n",
    "    }\n",
    "    if (n % 2 == 0) {\n",
    "        continue;     // skip even numbers\n",
    "    }\n",
    "    System.out.println(n);\n",
    "}"
   ]
  },
  {
   "cell_type": "markdown",
   "metadata": {},
   "source": [
    "## Control Structures in Java\n",
    "\n",
    "- https://www.baeldung.com/java-control-structures"
   ]
  },
  {
   "cell_type": "code",
   "execution_count": null,
   "metadata": {},
   "outputs": [],
   "source": []
  }
 ],
 "metadata": {
  "kernelspec": {
   "display_name": "Java",
   "language": "java",
   "name": "java"
  },
  "language_info": {
   "codemirror_mode": "java",
   "file_extension": ".jshell",
   "mimetype": "text/x-java-source",
   "name": "Java",
   "pygments_lexer": "java",
   "version": "15.0.2+7-27"
  }
 },
 "nbformat": 4,
 "nbformat_minor": 4
}
