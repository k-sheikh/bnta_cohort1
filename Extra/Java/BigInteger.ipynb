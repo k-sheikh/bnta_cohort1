{
 "cells": [
  {
   "cell_type": "markdown",
   "metadata": {},
   "source": [
    "# BigInteger and BigDecimal\n",
    "\n",
    "## BigInteger\n",
    "\n",
    "* Immutable arbitrary-precision integers\n",
    "* Operations work like the standard 2's-Complement primitive integer type\n",
    "* Provides analogues to all of Java's primitive integer operators and methods\n",
    "* Supports standard java.lang.Math-style functionality for arbitrary-precision integers\n",
    "* Supports modular arithmetic, GCD, primality testing, prime generation, bit manipulation, etc.\n",
    "\n",
    "## BigDecimal\n",
    "\n",
    "* Immutable arbitrary-precision signed decimal number\n",
    "* ???"
   ]
  },
  {
   "cell_type": "code",
   "execution_count": 1,
   "metadata": {},
   "outputs": [
    {
     "name": "stdout",
     "output_type": "stream",
     "text": [
      "2432902008176640000\r\n"
     ]
    }
   ],
   "source": [
    "BigInteger factorial(int N) \n",
    "    { \n",
    "        // Initialize result \n",
    "        BigInteger f = new BigInteger(\"1\"); // Or BigInteger.ONE \n",
    "  \n",
    "        // Multiply f with 2, 3, ...N \n",
    "        for (int i = 2; i <= N; i++) \n",
    "            f = f.multiply(BigInteger.valueOf(i)); \n",
    "  \n",
    "        return f; \n",
    "    }\n",
    "System.out.println(factorial(20)); // 2432902008176640000"
   ]
  },
  {
   "cell_type": "code",
   "execution_count": 10,
   "metadata": {},
   "outputs": [
    {
     "name": "stdout",
     "output_type": "stream",
     "text": [
      "1000111111.111111110\n",
      "12303002458634202.083094193112635269\n",
      "-975197531.135802468\n",
      "0.01\n",
      "155171616796524.938731595789971041\n",
      "-12456789.987654321\n"
     ]
    }
   ],
   "source": [
    "BigDecimal bd1 = new BigDecimal(\"12456789.987654321\"); \n",
    "BigDecimal bd2 = new BigDecimal(\"987654321.123456789\"); \n",
    "\n",
    "System.out.println(bd1.add(bd2)); \n",
    "System.out.println(bd1.multiply(bd2));\n",
    "System.out.println(bd1.subtract(bd2)); \n",
    "System.out.println(bd1.divide(bd2, 2, RoundingMode.HALF_UP)); // avoid non-terminating decimal\n",
    "System.out.println(bd1.pow(2)); \n",
    "System.out.println(bd1.negate()); "
   ]
  },
  {
   "cell_type": "markdown",
   "metadata": {},
   "source": [
    "## BigDecimal and BigInteger in Java\n",
    "\n",
    "- https://www.baeldung.com/java-bigdecimal-biginteger"
   ]
  },
  {
   "cell_type": "code",
   "execution_count": null,
   "metadata": {},
   "outputs": [],
   "source": []
  }
 ],
 "metadata": {
  "kernelspec": {
   "display_name": "Java",
   "language": "java",
   "name": "java"
  },
  "language_info": {
   "codemirror_mode": "java",
   "file_extension": ".jshell",
   "mimetype": "text/x-java-source",
   "name": "Java",
   "pygments_lexer": "java",
   "version": "15.0.2+7-27"
  }
 },
 "nbformat": 4,
 "nbformat_minor": 4
}
