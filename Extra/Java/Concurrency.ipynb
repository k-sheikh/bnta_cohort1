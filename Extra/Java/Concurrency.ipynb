{
 "cells": [
  {
   "cell_type": "markdown",
   "metadata": {},
   "source": [
    "# Concurrency\n",
    "## Processes\n",
    "\n",
    "A process has its own program memory space and other resources such as file handles etc.\n",
    "\n",
    "## Threads\n",
    "\n",
    "A process can contain one or more threads that execute in parallel. Threads in the same process share access to the process resources, such as memory and open files. This allows efficient shared access, but it can potentially cause concurrency bugs due to shared access collisions. To manage these problems, it is often neccessary to implement thread synchronization mechanism to sequentialize access to shared resources in a thread-safe manner.\n",
    "\n",
    "The initial primary thread is also known as the main thread. "
   ]
  },
  {
   "cell_type": "markdown",
   "metadata": {},
   "source": [
    "## Working with Threads\n",
    "\n",
    "* Each thread is associated with an instance of the ```Thread``` class.\n",
    "* The ```Runnable``` interface defines a single method named ```run```.\n",
    "* The ```run``` method is implemented with the code to be executed in the thread.\n",
    "* The ```Runnable``` object is passed to the ```Thread``` constructor\n",
    "* The ```start``` method of the ```Thread``` class is called to start thread execution.\n",
    "\n",
    "There are two ways to create and run secondary a thread:\n",
    "\n",
    "* Provide a Runnable object. \n",
    "* Subclass Thread. The Thread class itself implements Runnable"
   ]
  },
  {
   "cell_type": "code",
   "execution_count": 11,
   "metadata": {},
   "outputs": [
    {
     "name": "stdout",
     "output_type": "stream",
     "text": [
      "Secondary thread: Step 0\n",
      "Primary thread: Step 0\n",
      "Primary thread: Step 1\n",
      "Secondary thread: Step 1\n",
      "Primary thread: Step 2\n",
      "Secondary thread: Step 2\n",
      "Primary thread: Step 3\n",
      "Secondary thread: Step 3\n",
      "Primary thread: Step 4\n",
      "Secondary thread: Step 4\n",
      "Primary thread: Step 5\n",
      "Primary thread: Step 6\n",
      "Secondary thread: Step 5\n",
      "Primary thread: Step 7\n",
      "Secondary thread: Step 6\n",
      "Primary thread: Step 8\n",
      "Secondary thread: Step 7\n",
      "Primary thread: Step 9\n",
      "Secondary thread: Step 8\n",
      "Secondary thread: Step 9\n",
      "Secondary thread done\n",
      "Primary thread done\n"
     ]
    }
   ],
   "source": [
    "// one way: provide a Runnable object\n",
    "\n",
    "import java.lang.Thread;\n",
    "\n",
    "class HelloRunnable implements Runnable {\n",
    "    public void run() {\n",
    "        for (int counter = 0; counter < 10; counter++) {\n",
    "            System.out.println(\"Secondary thread: Step \" + counter);\n",
    "            try {\n",
    "                Thread.sleep(1000);\n",
    "            }\n",
    "            catch(InterruptedException  e) {\n",
    "                System.out.println(e);\n",
    "            }\n",
    "        }\n",
    "        System.out.println(\"Secondary thread done\");\n",
    "    }\n",
    "}\n",
    "\n",
    "Thread thread = new Thread(new HelloRunnable());\n",
    "thread.start();\n",
    "\n",
    "for (int counter = 0; counter < 10; counter++) {\n",
    "    System.out.println(\"Primary thread: Step \" + counter);\n",
    "    try {\n",
    "        Thread.sleep(800);\n",
    "    }\n",
    "    catch(InterruptedException  e) {\n",
    "        System.out.println(e);\n",
    "    }\n",
    "}\n",
    "\n",
    "thread.join();\n",
    "System.out.println(\"Primary thread done\");"
   ]
  },
  {
   "cell_type": "code",
   "execution_count": 10,
   "metadata": {},
   "outputs": [
    {
     "name": "stdout",
     "output_type": "stream",
     "text": [
      "Secondary thread: Step 0\n",
      "Primary thread: Step 0\n",
      "Primary thread: Step 1\n",
      "Secondary thread: Step 1\n",
      "Primary thread: Step 2\n",
      "Secondary thread: Step 2\n",
      "Primary thread: Step 3\n",
      "Secondary thread: Step 3\n",
      "Primary thread: Step 4\n",
      "Secondary thread: Step 4\n",
      "Primary thread: Step 5\n",
      "Primary thread: Step 6\n",
      "Secondary thread: Step 5\n",
      "Primary thread: Step 7\n",
      "Secondary thread: Step 6\n",
      "Primary thread: Step 8\n",
      "Secondary thread: Step 7\n",
      "Primary thread: Step 9\n",
      "Secondary thread: Step 8\n",
      "Secondary thread: Step 9\n",
      "Secondary thread done\n",
      "Primary thread done\n"
     ]
    }
   ],
   "source": [
    "// Another way: subclass Thread\n",
    "\n",
    "import java.lang.Thread;\n",
    "\n",
    "class HelloThread extends Thread { // Thread class implements Runnable but run method does nothing\n",
    "    public void run() {\n",
    "        for (int counter = 0; counter < 10; counter++) {\n",
    "            System.out.println(\"Secondary thread: Step \" + counter);\n",
    "            try {\n",
    "                Thread.sleep(1000);\n",
    "            }\n",
    "            catch(InterruptedException  e) {\n",
    "                System.out.println(e);\n",
    "            }\n",
    "        }\n",
    "        System.out.println(\"Secondary thread done\");\n",
    "    }\n",
    "}\n",
    "\n",
    "Thread thread = new Thread(new HelloRunnable());\n",
    "thread.start();\n",
    "\n",
    "for (int counter = 0; counter < 10; counter++) {\n",
    "    System.out.println(\"Primary thread: Step \" + counter);\n",
    "    try {\n",
    "        Thread.sleep(800);\n",
    "    }\n",
    "    catch(InterruptedException  e) {\n",
    "        System.out.println(e);\n",
    "    }\n",
    "}\n",
    "\n",
    "thread.join();\n",
    "System.out.println(\"Primary thread done\");"
   ]
  },
  {
   "cell_type": "markdown",
   "metadata": {},
   "source": [
    "## Synchronization\n",
    "\n",
    "- Threads interact via shared access to objects.\n",
    "- Can often cause thread interference and data corruption errors.\n",
    "- Synchronization mechanism are used to prevent these threading problems.\n",
    "- But synchronization mechanisms can sometimes produce dead-lock situations (thread contention)\n",
    "- Dead-locks occurs when multiple threads are forced wait to for one-another to proceed\n",
    "- See: Guide to the Synchronized Keyword in Java: https://www.baeldung.com/java-synchronized"
   ]
  },
  {
   "cell_type": "markdown",
   "metadata": {},
   "source": [
    "## Java Concurrency\n",
    "\n",
    "https://www.baeldung.com/java-concurrency\n"
   ]
  },
  {
   "cell_type": "code",
   "execution_count": null,
   "metadata": {},
   "outputs": [],
   "source": []
  }
 ],
 "metadata": {
  "kernelspec": {
   "display_name": "Java",
   "language": "java",
   "name": "java"
  },
  "language_info": {
   "codemirror_mode": "java",
   "file_extension": ".jshell",
   "mimetype": "text/x-java-source",
   "name": "Java",
   "pygments_lexer": "java",
   "version": "15.0.2+7-27"
  }
 },
 "nbformat": 4,
 "nbformat_minor": 4
}
