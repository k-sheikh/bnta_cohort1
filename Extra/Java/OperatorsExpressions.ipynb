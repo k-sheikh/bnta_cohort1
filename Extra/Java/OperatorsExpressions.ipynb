{
 "cells": [
  {
   "cell_type": "markdown",
   "metadata": {},
   "source": [
    "# Operators and Expressions\n",
    "\n",
    "* Arithmetic Operators\n",
    "* Relational Operators\n",
    "* Bitwise Operators\n",
    "* Logical Operators\n",
    "* Assignment Operators\n",
    "* Miscellaneous Operators\n",
    "* Operator Precedence\n",
    "* Unary Operators"
   ]
  },
  {
   "cell_type": "markdown",
   "metadata": {},
   "source": [
    " ## Arithmetic Operators\n",
    " \n",
    " * addition ```+```\n",
    " * subtraction ```-```\n",
    " * multiplication ```*```\n",
    " * division  ```/```\n",
    " * modulus ```%```\n",
    " * increment (pre and post)  ```++```\n",
    " * decrement (pre and post)  ```--```"
   ]
  },
  {
   "cell_type": "code",
   "execution_count": 18,
   "metadata": {},
   "outputs": [
    {
     "name": "stdout",
     "output_type": "stream",
     "text": [
      "40\n",
      "-20\n",
      "300\n",
      "0\n",
      "10\n",
      "11\n",
      "10\n",
      "10\n",
      "11\n",
      "10\n"
     ]
    }
   ],
   "source": [
    "System.out.println(10 + 30); // 40\n",
    "System.out.println(10 - 30); // -20\n",
    "System.out.println(10 * 30); // 300\n",
    "System.out.println(10 / 30); // 0\n",
    "System.out.println(10 % 30); // 10\n",
    "int x = 10;\n",
    "System.out.println(++x); // 11\n",
    "System.out.println(--x); // 10\n",
    "System.out.println(x++); // 10\n",
    "System.out.println(x--); // 11\n",
    "System.out.println(x);   // 10"
   ]
  },
  {
   "cell_type": "code",
   "execution_count": 19,
   "metadata": {},
   "outputs": [
    {
     "name": "stdout",
     "output_type": "stream",
     "text": [
      "40.0\n",
      "-20.0\n",
      "300.0\n",
      "0.3333333333333333\n",
      "10.0\n",
      "11.0\n",
      "10.0\n",
      "10.0\n",
      "11.0\n",
      "10.0\n"
     ]
    }
   ],
   "source": [
    "System.out.println(10.0 + 30.0); // 40\n",
    "System.out.println(10.0 - 30.0); // -20\n",
    "System.out.println(10.0 * 30.0); // 300\n",
    "System.out.println(10.0 / 30.0); // 0.3333333333333333\n",
    "System.out.println(10.0 % 30.0); // 10.0\n",
    "double x = 10;\n",
    "System.out.println(++x); // 11.0\n",
    "System.out.println(--x); // 10.0\n",
    "System.out.println(x++); // 10.0\n",
    "System.out.println(x--); // 11.0\n",
    "System.out.println(x);   // 10.0"
   ]
  },
  {
   "cell_type": "markdown",
   "metadata": {},
   "source": [
    "## Relational Operators\n",
    "\n",
    "* equal to ```==```\n",
    "* not equal to ```!=```\n",
    "* greater than ```>```\n",
    "* less than ```<```\n",
    "* greater than or equal to ```>=```\n",
    "* less than or equal to ```<=```"
   ]
  },
  {
   "cell_type": "code",
   "execution_count": 22,
   "metadata": {},
   "outputs": [
    {
     "name": "stdout",
     "output_type": "stream",
     "text": [
      "true\n",
      "false\n",
      "false\n",
      "false\n",
      "true\n",
      "true\n"
     ]
    }
   ],
   "source": [
    "System.out.println(1 == 1); // true\n",
    "System.out.println(1 != 1); // false\n",
    "System.out.println(1 > 1);  // false\n",
    "System.out.println(1 < 1);  // false\n",
    "System.out.println(1 >= 1); // true\n",
    "System.out.println(1 <= 1); // true"
   ]
  },
  {
   "cell_type": "markdown",
   "metadata": {},
   "source": [
    "## Bitwise Operators\n",
    "\n",
    "* bitwise and ```&```\n",
    "* bitwise or ```|```\n",
    "* bitwise XOR ```^```\n",
    "* bitwise compliment ```~```\n",
    "* left shift ```<<```\n",
    "* right shift ```>>```\n",
    "* zero fill right shift ```>>>```"
   ]
  },
  {
   "cell_type": "code",
   "execution_count": 45,
   "metadata": {},
   "outputs": [
    {
     "name": "stdout",
     "output_type": "stream",
     "text": [
      "33\n",
      "48\n",
      "32\n",
      "49\n",
      "17\n",
      "-34\n",
      "132\n",
      "-2147483648\n",
      "-536870912\n",
      "536870912\n"
     ]
    }
   ],
   "source": [
    "int a = 0b00000000000000000000000000100001;           // 32 bit int representation of 33\n",
    "System.out.println(a);       // (00000000000000000000000000100001)   33\n",
    "int b = 0b00000000000000000000000000110000;           // 32 bit int representation of 48\n",
    "System.out.println(b);       // (00000000000000000000000000110000)   48\n",
    "System.out.println(a & b);   // (00000000000000000000000000100000)   32\n",
    "System.out.println(a | b);   // (00000000000000000000000000110001)   49\n",
    "System.out.println(a ^ b);   // (00000000000000000000000000010001)   17\n",
    "System.out.println(~a);      // (00000000000000000000000011011110)  -34\n",
    "System.out.println(a << 2);  // (00000000000000000000000010000100)  132\n",
    "int c = 0b10000000000000000000000000000000;           // 32 bit int representation of -2147483648\n",
    "System.out.println(c);       // (10000000000000000000000000000000) -2147483648\n",
    "System.out.println(c >> 2);  // (11100000000000000000000000000000)  -536870912\n",
    "System.out.println(c >>> 2); // (00100000000000000000000000000000)   536870912"
   ]
  },
  {
   "cell_type": "markdown",
   "metadata": {},
   "source": [
    "## Logical Operators\n",
    "\n",
    "* logical and ```&&```\n",
    "* logical or ```||```\n",
    "* logical not ```!```"
   ]
  },
  {
   "cell_type": "code",
   "execution_count": 47,
   "metadata": {},
   "outputs": [
    {
     "name": "stdout",
     "output_type": "stream",
     "text": [
      "false\n",
      "false\n",
      "false\n",
      "true\n",
      "false\n",
      "true\n",
      "true\n",
      "true\n",
      "false\n",
      "true\n"
     ]
    }
   ],
   "source": [
    "System.out.println(false && false); // false\n",
    "System.out.println(false && true);  // false\n",
    "System.out.println(true && false);  // false\n",
    "System.out.println(true && true);   // true\n",
    "System.out.println(false || false); // false\n",
    "System.out.println(false || true);  // true\n",
    "System.out.println(true || false);  // true\n",
    "System.out.println(true || true);   // true\n",
    "System.out.println(!true);          // false\n",
    "System.out.println(!false);         // true"
   ]
  },
  {
   "cell_type": "markdown",
   "metadata": {},
   "source": [
    "## Assignment Operators\n",
    "\n",
    "* assign ```a = b```\n",
    "* plus and assign ```a += b``` is same as ```a = a+b```\n",
    "* minus and assign ```a -= b``` is same as ```a = a-b```\n",
    "* multiply and assign ```a *= b``` is same as ```a = a*b```\n",
    "* divide and assign ```a /= b``` is same as ```a = a/b```\n",
    "* modulus and assign ```a %= b``` is same as ```a = a%b```\n",
    "* left shift and assign ```a <<= b``` is same as ```a = a<<b```\n",
    "* right shift and assign ```a ->> b``` is same as ```a = a>>b```\n",
    "* bitwise-AND and assign ```a &= b``` is same as ```a = a&b```\n",
    "* bitwise-exclusive-OR and assign ```a ^= b``` is same as ```a = a^b```\n",
    "* bitwise-inclusive-OR and assign ```a |= b``` is same as ```a = a|b```"
   ]
  },
  {
   "cell_type": "markdown",
   "metadata": {},
   "source": [
    "## Miscellaneous Operators\n",
    "\n",
    "* conditional ```bool_exppression?result_if_true:result_if_false```\n",
    "* instanceof ```instanceof expression``` (only for object reference types, not primitive value types)"
   ]
  },
  {
   "cell_type": "code",
   "execution_count": 4,
   "metadata": {},
   "outputs": [
    {
     "name": "stdout",
     "output_type": "stream",
     "text": [
      "3\n",
      "4\n",
      "true\n",
      "true\n",
      "true\n",
      "false\n",
      "true\n",
      "false\n",
      "true\n",
      "true\n"
     ]
    }
   ],
   "source": [
    "System.out.println((1 == 1) ? 3 : 4);                 // 3\n",
    "System.out.println((1 == 2) ? 3 : 4);                 // 4\n",
    "\n",
    "System.out.println(\"Hello\" instanceof String);        // true\n",
    "System.out.println(\"Hello\" instanceof Object);        // true\n",
    "\n",
    "Integer integerObject = new Integer(42);\n",
    "System.out.println(integerObject instanceof Integer); // true\n",
    "integerObject = null;\n",
    "System.out.println(integerObject instanceof Integer); // false\n",
    "\n",
    "class Mammal {}\n",
    "class Dog extends Mammal {}\n",
    "Mammal mammal = new Mammal();\n",
    "Dog dog = new Dog();\n",
    "System.out.println(mammal instanceof Mammal); // true\n",
    "System.out.println(mammal instanceof Dog);    // false\n",
    "System.out.println(dog instanceof Mammal);    // true\n",
    "System.out.println(dog instanceof Dog);       // true"
   ]
  },
  {
   "cell_type": "markdown",
   "metadata": {},
   "source": [
    "## Operator Precedence\n",
    "\n",
    "- https://docs.oracle.com/javase/tutorial/java/nutsandbolts/operators.html\n",
    "- https://introcs.cs.princeton.edu/java/11precedence/"
   ]
  },
  {
   "cell_type": "markdown",
   "metadata": {},
   "source": [
    "## Unary Operators\n",
    "\n",
    "- Unary Plus\n",
    "- Unary Minus\n",
    "- Increment Operator\n",
    "- Decrement Operator\n",
    "- Logical Complement Operator"
   ]
  },
  {
   "cell_type": "code",
   "execution_count": 6,
   "metadata": {},
   "outputs": [
    {
     "name": "stdout",
     "output_type": "stream",
     "text": [
      "42\n",
      "-42\n",
      "43\n",
      "42\n",
      "false\n"
     ]
    }
   ],
   "source": [
    "// Unary Operators\n",
    "int x = 42;\n",
    "System.out.println(+x); // Unary Plus\n",
    "System.out.println(-x); // Unary Minus\n",
    "System.out.println(++x); // Increment Operator\n",
    "System.out.println(--x); // Decrement Operator\n",
    "System.out.println(!true); // Logical Complement Operator"
   ]
  },
  {
   "cell_type": "markdown",
   "metadata": {},
   "source": [
    "## Expressions, Statements, and Blocks\n",
    "\n",
    "- https://docs.oracle.com/javase/tutorial/java/nutsandbolts/expressions.html"
   ]
  },
  {
   "cell_type": "code",
   "execution_count": null,
   "metadata": {},
   "outputs": [],
   "source": []
  }
 ],
 "metadata": {
  "kernelspec": {
   "display_name": "Java",
   "language": "java",
   "name": "java"
  },
  "language_info": {
   "codemirror_mode": "java",
   "file_extension": ".jshell",
   "mimetype": "text/x-java-source",
   "name": "Java",
   "pygments_lexer": "java",
   "version": "15.0.2+7-27"
  }
 },
 "nbformat": 4,
 "nbformat_minor": 4
}
