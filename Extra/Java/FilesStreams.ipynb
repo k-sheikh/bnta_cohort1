{
 "cells": [
  {
   "cell_type": "markdown",
   "metadata": {},
   "source": [
    "# Files and Streams\n",
    "\n",
    "* Files\n",
    "* Directories\n",
    "* Streams\n",
    "* Binary Files \n",
    "* Text Files"
   ]
  },
  {
   "cell_type": "code",
   "execution_count": 7,
   "metadata": {},
   "outputs": [
    {
     "name": "stdout",
     "output_type": "stream",
     "text": [
      "File exists\n",
      "File deleted\n",
      "-880671259\n",
      "1056322743\n",
      "-1669436941\n",
      "307821418\n",
      "-1138173262\n",
      "1076539272\n",
      "-286302067\n",
      "997439507\n",
      "359631507\n",
      "5081162\n"
     ]
    }
   ],
   "source": [
    "try {\n",
    "    File file = new File(\"random_ints.txt\");\n",
    "    if (file.exists()) {\n",
    "        System.out.println(\"File exists\");\n",
    "        boolean deleted = file.delete();\n",
    "        if (!deleted) {\n",
    "            throw new IOException(\"Unable to delete file\");\n",
    "        }\n",
    "        System.out.println(\"File deleted\");\n",
    "    }\n",
    "    PrintStream writer = new PrintStream(file);\n",
    "    Random r = new Random();\n",
    "    final int LIMIT = 10;\n",
    "    for(int i = 0; i < LIMIT; i++) {\n",
    "        writer.print( r.nextInt() + \"\\n\");\n",
    "    }\n",
    "    writer.close(); // release the underlying os file resource\n",
    "}\n",
    "catch(IOException e) {\n",
    "    System.out.println(\"IOException: \" + e.getMessage());\n",
    "}\n",
    "\n",
    "try {\n",
    "    Scanner s = new Scanner(new File(\"random_ints.txt\") );\n",
    "    while(s.hasNextInt()) {\n",
    "        System.out.println(s.nextInt());\n",
    "    }\n",
    "    s.close();\n",
    "}\n",
    "catch(IOException e) {\n",
    "    System.out.println(\"IOException: \" + e.getMessage());\n",
    "}"
   ]
  },
  {
   "cell_type": "markdown",
   "metadata": {},
   "source": [
    "## Java IO Tutorials\n",
    "\n",
    "- https://www.baeldung.com/java-io"
   ]
  },
  {
   "cell_type": "code",
   "execution_count": null,
   "metadata": {},
   "outputs": [],
   "source": []
  }
 ],
 "metadata": {
  "kernelspec": {
   "display_name": "Java",
   "language": "java",
   "name": "java"
  },
  "language_info": {
   "codemirror_mode": "java",
   "file_extension": ".jshell",
   "mimetype": "text/x-java-source",
   "name": "Java",
   "pygments_lexer": "java",
   "version": "15.0.2+7-27"
  }
 },
 "nbformat": 4,
 "nbformat_minor": 4
}
