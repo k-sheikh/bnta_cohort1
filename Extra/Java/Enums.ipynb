{
 "cells": [
  {
   "cell_type": "markdown",
   "metadata": {},
   "source": [
    "## Enums"
   ]
  },
  {
   "cell_type": "code",
   "execution_count": 35,
   "metadata": {},
   "outputs": [
    {
     "name": "stdout",
     "output_type": "stream",
     "text": [
      "MEDIUM\n",
      "Size is medium\n",
      "The size is: MEDIUM\n",
      "LARGE MEDIUM SMALL "
     ]
    }
   ],
   "source": [
    "enum Size { LARGE, MEDIUM, SMALL }\n",
    "\n",
    "Size size = Size.MEDIUM;\n",
    "System.out.println(size); // toString() method is called behind the scenes\n",
    "\n",
    "if(size == Size.LARGE) {\n",
    "    System.out.println(\"Size is large\");\n",
    "} else if(size == Size.MEDIUM) {\n",
    "    System.out.println(\"Size is medium\");\n",
    "} else if(size == Size.SMALL) {\n",
    "    System.out.println(\"Size is small\");\n",
    "}\n",
    "\n",
    "{\n",
    "    switch (size) {\n",
    "        case LARGE:\n",
    "            System.out.println(\"The size is: \" + size);\n",
    "            break;\n",
    "        case MEDIUM:\n",
    "            System.out.println(\"The size is: \" + size);\n",
    "            break;\n",
    "        case SMALL:\n",
    "            System.out.println(\"The size is: \" + size);\n",
    "            break;\n",
    "}\n",
    "\n",
    "}\n",
    "for (Size size : Size.values()) { // get array of all enum values\n",
    "    System.out.print(size + \" \");\n",
    "}"
   ]
  },
  {
   "cell_type": "markdown",
   "metadata": {},
   "source": [
    "## A Guide to Java Enums\n",
    "\n",
    "- https://www.baeldung.com/a-guide-to-java-enums"
   ]
  },
  {
   "cell_type": "code",
   "execution_count": null,
   "metadata": {},
   "outputs": [],
   "source": []
  }
 ],
 "metadata": {
  "kernelspec": {
   "display_name": "Java",
   "language": "java",
   "name": "java"
  },
  "language_info": {
   "codemirror_mode": "java",
   "file_extension": ".jshell",
   "mimetype": "text/x-java-source",
   "name": "Java",
   "pygments_lexer": "java",
   "version": "15.0.2+7-27"
  }
 },
 "nbformat": 4,
 "nbformat_minor": 4
}
