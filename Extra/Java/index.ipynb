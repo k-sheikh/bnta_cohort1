{
 "cells": [
  {
   "cell_type": "markdown",
   "metadata": {},
   "source": [
    "# Java (1 Day)\n",
    "\n",
    "- Class-based, object-oriented programming language \n",
    "- Used in server-side enterprise apps as well as client-side Android Apps and Desktop GUI apps\n",
    "- Compiles to cross-platform bytecode that can run on any Java virtual machine (JVM)\n",
    "- Developed by James Gosling at Sun Microsystems (now Oracle)"
   ]
  },
  {
   "cell_type": "markdown",
   "metadata": {},
   "source": [
    "## Java Documentation and Tutorials\n",
    "\n",
    "- The Java Language Specification: https://docs.oracle.com/javase/specs/jls/se8/html/index.html\n",
    "- The Java Tutorials: https://docs.oracle.com/javase/tutorial\n",
    "- Google Java coding standards: http://google.github.io/styleguide/javaguide.html\n",
    "- Java keywords: http://docs.oracle.com/javase/tutorial/java/nutsandbolts/_keywords.html\n",
    "- Java Tutorials: https://www.vogella.com/tutorials/java.html\n",
    "- Think Java: https://greenteapress.com/wp/think-java-2e"
   ]
  },
  {
   "cell_type": "markdown",
   "metadata": {},
   "source": [
    "## Code Challenges\n",
    "\n",
    "- **hackerrank.com** https://www.hackerrank.com\n",
    "- **exercism.io** https://exercism.io\n",
    "- **edabit.com** https://edabit.com/challenges\n",
    "- **leetcode.com** https://leetcode.com"
   ]
  },
  {
   "cell_type": "code",
   "execution_count": 19,
   "metadata": {},
   "outputs": [
    {
     "name": "stdout",
     "output_type": "stream",
     "text": [
      "Hello!\n",
      "How are you doing?\n"
     ]
    }
   ],
   "source": [
    "// Hello World Demo\n",
    "\n",
    "public class Greet {\n",
    "\n",
    "    public static void sayHello(String[] args) {\n",
    "        System.out.print(\"Hello!\\nHow are you doing?\\n\");\n",
    "    }\n",
    "}\n",
    "\n",
    "Greet.sayHello(null);"
   ]
  },
  {
   "cell_type": "code",
   "execution_count": 18,
   "metadata": {},
   "outputs": [
    {
     "name": "stdout",
     "output_type": "stream",
     "text": [
      "GCD of 360 and 1000 is 40\r\n"
     ]
    }
   ],
   "source": [
    "public class GCD {\n",
    "    public static int calculate(int n1, int n2) {\n",
    "        int gcd = 1;\n",
    "        for(int i = 1; i <= n1 && i <= n2; ++i)\n",
    "        {\n",
    "            // Checks if i is factor of both integers\n",
    "            if(n1 % i==0 && n2 % i==0)\n",
    "                gcd = i;\n",
    "        }\n",
    "        return gcd;\n",
    "    }\n",
    "}\n",
    "\n",
    "GCD gcd = new GCD ();\n",
    "int result = gcd.calculate(360, 1000);\n",
    "String output = String.format(\"GCD of %d and %d is %d\", n1, n2, result);\n",
    "System.out.println(output);"
   ]
  },
  {
   "cell_type": "markdown",
   "metadata": {},
   "source": [
    "## Topics\n",
    "\n",
    "- [Getting Started](GettingStarted.ipynb)\n",
    "- [Getting Started](GettingStarted.ipynb)\n",
    "- [Syntax Fundamentals](SyntaxFundamentals.ipynb)\n",
    "- [Operators and Expressions](OperatorsExpressions.ipynb)\n",
    "- [Control Statements](ControlStatements.ipynb)\n",
    "- [Exceptions](Exceptions.ipynb)\n",
    "- [Strings](Strings.ipynb)\n",
    "- [Arrays](Arrays.ipynb)\n",
    "- [Collections Framework](CollectionsFramework.ipynb)\n",
    "- [Classes and Interfaces](ClassesInterfaces.ipynb)\n",
    "- [Enums](Enums.ipynb)\n",
    "- [Big Integer](BigInteger.ipynb)\n",
    "- [Files and Streams](FilesStreams.ipynb)\n",
    "- [Concurrency](Concurrency.ipynb)\n",
    "- [BinarySearchTree](BinarySearchTree.ipynb)\n",
    "- [NewtonRaphson](NewtonRaphson.ipynb)\n",
    "- [Primes](Primes.ipynb)\n",
    "- [SortAlgorithms](SortAlgorithms.ipynb)"
   ]
  },
  {
   "cell_type": "markdown",
   "metadata": {},
   "source": [
    "## Try It Out: Hello World\n",
    "\n",
    "- Try running the followng code example in your own development environment (local machine or online REPL)\n",
    "- See: https://repl.it/@peterteach/AdvancedWavySupport#Main.java\n",
    "\n",
    "```java\n",
    "// HelloWorld.java\n",
    "\n",
    "public class HelloWorld\n",
    "{\n",
    "   public static void main(String[] args) {\n",
    "      System.out.println(\"Hello World!\");\n",
    "   }\n",
    "}\n",
    "```"
   ]
  },
  {
   "cell_type": "markdown",
   "metadata": {},
   "source": [
    "## Try It Out: Bubble Sort\n",
    "\n",
    "- Bubble sort in 2 minutes (video): https://www.youtube.com/watch?v=xli_FI7CuzA\n",
    "- The following code is from: https://www.geeksforgeeks.org/bubble-sort\n",
    "\n",
    "```java\n",
    "class BubbleSort \n",
    "{ \n",
    "    void bubbleSort(int arr[]) \n",
    "    { \n",
    "        int n = arr.length; \n",
    "        for (int i = 0; i < n-1; i++) \n",
    "            for (int j = 0; j < n-i-1; j++) \n",
    "                if (arr[j] > arr[j+1]) \n",
    "                { \n",
    "                    // swap arr[j+1] and arr[j] \n",
    "                    int temp = arr[j]; \n",
    "                    arr[j] = arr[j+1]; \n",
    "                    arr[j+1] = temp; \n",
    "                } \n",
    "    } \n",
    "  \n",
    "    /* Prints the array */\n",
    "    void printArray(int arr[]) \n",
    "    { \n",
    "        int n = arr.length; \n",
    "        for (int i=0; i<n; ++i) \n",
    "            System.out.print(arr[i] + \" \"); \n",
    "        System.out.println(); \n",
    "    } \n",
    "  \n",
    "    // Driver method to test above \n",
    "    public static void main(String args[]) \n",
    "    { \n",
    "        BubbleSort ob = new BubbleSort(); \n",
    "        int arr[] = {64, 34, 25, 12, 22, 11, 90}; \n",
    "        ob.bubbleSort(arr); \n",
    "        System.out.println(\"Sorted array\"); \n",
    "        ob.printArray(arr); \n",
    "    } \n",
    "} \n",
    "```"
   ]
  },
  {
   "cell_type": "markdown",
   "metadata": {},
   "source": [
    "## Try It Out: Online Examples\n",
    "\n",
    "- Look for interesting Java code examples on the web and experiment with them\n",
    "- For example, try the examples at:\n",
    " - https://www.cs.utexas.edu/~scottm/cs307/codingSamples.htm\n",
    " - https://beginnersbook.com/2017/09/java-examples\n",
    " - https://www.tutorialspoint.com/javaexamples/index.htm\n",
    " - https://www.java-examples.com\n",
    " - https://www.javatpoint.com/java-programs\n",
    " - Many more..."
   ]
  },
  {
   "cell_type": "markdown",
   "metadata": {},
   "source": [
    "## Java Data Structures and Algorithms\n",
    "\n",
    "* The Algorithms - Java: https://github.com/TheAlgorithms/Java\n",
    "* Undefined Behavior - What Is Big O? https://www.youtube.com/watch?v=MyeV2_tGqvw\n",
    "* William Fiset - Introduction to Big-O: https://www.youtube.com/watch?v=zUUkiEllHG0\n",
    "* William Fiset Data - Structures: https://www.youtube.com/playlist?list=PLDV1Zeh2NRsB6SWUrDFW2RmDotAfPbeHu"
   ]
  },
  {
   "cell_type": "markdown",
   "metadata": {},
   "source": [
    "## Lab\n",
    "\n",
    "- Introduction to Java programming - Tutorial: https://www.vogella.com/tutorials/JavaIntroduction/article.html"
   ]
  },
  {
   "cell_type": "markdown",
   "metadata": {},
   "source": [
    "## Home Work\n",
    "\n",
    "- Learn Java 8 - Full Tutorial for Beginners: https://www.youtube.com/watch?v=grEKMHGYyns"
   ]
  },
  {
   "cell_type": "markdown",
   "metadata": {},
   "source": [
    "## Free Java Learning Resources\n",
    "\n",
    "- Think Java 2e: https://greenteapress.com/wp/think-java-2e\n",
    "- Data Structures Course (freeCodeCamp.org): https://www.youtube.com/watch?v=RBSGKlAvoiM\n",
    "- Interactive Java Tutorial: https://www.learnjavaonline.org\n",
    "- Java Programming Cheatsheet: https://introcs.cs.princeton.edu/java/11cheatsheet"
   ]
  },
  {
   "cell_type": "code",
   "execution_count": null,
   "metadata": {},
   "outputs": [],
   "source": []
  }
 ],
 "metadata": {
  "kernelspec": {
   "display_name": "Java",
   "language": "java",
   "name": "java"
  },
  "language_info": {
   "codemirror_mode": "java",
   "file_extension": ".jshell",
   "mimetype": "text/x-java-source",
   "name": "Java",
   "pygments_lexer": "java",
   "version": "15.0.2+7-27"
  }
 },
 "nbformat": 4,
 "nbformat_minor": 4
}
