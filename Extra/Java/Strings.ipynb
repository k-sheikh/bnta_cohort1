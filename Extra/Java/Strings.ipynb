{
 "cells": [
  {
   "cell_type": "markdown",
   "metadata": {},
   "source": [
    "## Strings\n",
    "\n",
    "* String is a class that implements immutable character strings.\n",
    "* Immutable means read-only so once created and initialized cannot be modified.\n",
    "* String literals (double quoated strings) are instances of String class."
   ]
  },
  {
   "cell_type": "code",
   "execution_count": 15,
   "metadata": {},
   "outputs": [
    {
     "name": "stdout",
     "output_type": "stream",
     "text": [
      "The answer is 42!\n",
      "ime h\n",
      "7 is the sum\n",
      "The sum is 34\n"
     ]
    }
   ],
   "source": [
    "String s1 = \"The answer is\"; // string literal\n",
    "int x = 42;\n",
    "System.out.println(s1 + \" \" + x + \"!\"); // concatination with another data type\n",
    "System.out.println(\"The time has come the walrus said\".substring(5,10));\n",
    "\n",
    "// operator precedence and type coersion\n",
    "System.out.println(3 + 4 + \" is the sum\"); // 7 is the sum  -> because 3+4 is 7\n",
    "System.out.println(\"The sum is \" + 3 + 4); // the sum is 34 -> because \"3\"+\"4\" is \"34\""
   ]
  },
  {
   "cell_type": "code",
   "execution_count": 14,
   "metadata": {},
   "outputs": [
    {
     "data": {
      "text/plain": [
       "11"
      ]
     },
     "execution_count": 14,
     "metadata": {},
     "output_type": "execute_result"
    }
   ],
   "source": [
    "\"Hello world\".length();"
   ]
  },
  {
   "cell_type": "markdown",
   "metadata": {},
   "source": [
    "## The == opersator and the equals() Method\n",
    "* The == operator compares the references not the actual contents of String objects ???\n",
    "* The equals method compares the actual contents of two String objects.\n",
    "* The String class overrides the equals() method of the Object class.\n",
    "* It compares the contents of two string objects and returns a boolean."
   ]
  },
  {
   "cell_type": "code",
   "execution_count": 24,
   "metadata": {},
   "outputs": [
    {
     "name": "stdout",
     "output_type": "stream",
     "text": [
      "false\n",
      "true\n",
      "true\n",
      "false\n",
      "true\n",
      "true\n",
      "false\n",
      "false\n",
      "false\n",
      "false\n",
      "true\n",
      "true\n"
     ]
    }
   ],
   "source": [
    "// identical literal strings coalesce\n",
    "System.out.println(\"Hello World\" == \"Hello\");                 // false\n",
    "System.out.println(\"Hello World\" == \"Hello World\");           // true\n",
    "System.out.println(\"Hello World\" == \"Hello \" + \"World\");      // true\n",
    "System.out.println(\"Hello World\".equals(\"Hello\"));            // false\n",
    "System.out.println(\"Hello World\".equals(\"Hello World\"));      // true\n",
    "System.out.println(\"Hello World\".equals(\"Hello \" + \"World\")); // true\n",
    "\n",
    "// identical new strings objects do not coalesce\n",
    "System.out.println(new String(\"Hello World\") == new String(\"Hello\"));                        // false\n",
    "System.out.println(new String(\"Hello World\") == new String(\"Hello World\"));                  // false\n",
    "System.out.println(new String(\"Hello World\") == new String(\"Hello \") + new String(\"World\")); // false\n",
    "System.out.println(new String(\"Hello World\").equals(new String(\"Hello\")));                   // false\n",
    "System.out.println(new String(\"Hello World\").equals(new String(\"Hello World\")));             // true\n",
    "System.out.println(new String(\"Hello World\").equals(new String(\"Hello \" + \"World\")));        // true"
   ]
  },
  {
   "cell_type": "markdown",
   "metadata": {},
   "source": [
    "## StringBuffer"
   ]
  },
  {
   "cell_type": "code",
   "execution_count": 18,
   "metadata": {},
   "outputs": [
    {
     "name": "stdout",
     "output_type": "stream",
     "text": [
      "Hello World\r\n"
     ]
    }
   ],
   "source": [
    "String finalString = new StringBuffer().append(\"Hello \").append(\"World\").toString();\n",
    "System.out.println(finalString);"
   ]
  },
  {
   "cell_type": "markdown",
   "metadata": {},
   "source": [
    "## All About String in Java\n",
    "\n",
    "- https://www.baeldung.com/java-string"
   ]
  },
  {
   "cell_type": "code",
   "execution_count": null,
   "metadata": {},
   "outputs": [],
   "source": []
  }
 ],
 "metadata": {
  "kernelspec": {
   "display_name": "Java",
   "language": "java",
   "name": "java"
  },
  "language_info": {
   "codemirror_mode": "java",
   "file_extension": ".jshell",
   "mimetype": "text/x-java-source",
   "name": "Java",
   "pygments_lexer": "java",
   "version": "15.0.2+7-27"
  }
 },
 "nbformat": 4,
 "nbformat_minor": 4
}
