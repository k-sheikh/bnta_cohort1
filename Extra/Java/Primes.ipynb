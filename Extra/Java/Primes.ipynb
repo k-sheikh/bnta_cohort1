{
 "cells": [
  {
   "cell_type": "markdown",
   "metadata": {},
   "source": [
    "# Primes\n",
    "\n"
   ]
  },
  {
   "cell_type": "code",
   "execution_count": 23,
   "metadata": {},
   "outputs": [
    {
     "name": "stdout",
     "output_type": "stream",
     "text": [
      "\n",
      "Number primes up to 10000000 is 664579, 0.0705613 sec\n",
      "\n",
      "2 factors up to 2\n",
      "2 factors up to 3\n",
      "3 factors up to 4\n",
      "6 factors up to 12\n",
      "2 factors up to 13\n",
      "24 factors up to 360\n",
      "2 factors up to 1447\n",
      "\n",
      "2 is prime: true\n",
      "3 is prime: true\n",
      "4 is prime: false\n",
      "54161329 is prime: false\n",
      "1882341361 is prime: true\n"
     ]
    }
   ],
   "source": [
    "import java.math.BigInteger;\n",
    "\n",
    "// Sieve of Eratosthenes\n",
    "public boolean[] getPrimesBooleanArray(int max) {\n",
    "    // get array of booleans indicating primalty\n",
    "    boolean[] result = new boolean[max + 1];\n",
    "    for(int i = 2; i < result.length; i++)\n",
    "        result[i] = true;\n",
    "    final double LIMIT = Math.sqrt(max);\n",
    "    for(int i = 2; i <= LIMIT; i++) {\n",
    "        if(result[i]) { // cross out multiples\n",
    "            int index = 2 * i;\n",
    "            while(index < result.length){\n",
    "                result[index] = false;\n",
    "                 index += i;\n",
    "            }\n",
    "        }\n",
    "    }\n",
    "    return result;\n",
    "}\n",
    "System.out.println();\n",
    "long start = System.nanoTime();         // Returns relative JVM high-res time in nanoseconds\n",
    "boolean[] primes = getPrimesBooleanArray(10000000);\n",
    "long finish = System.nanoTime();        // Returns relative JVM high-res time in nanoseconds\n",
    "int numPrimes = 0;\n",
    "for(boolean b : primes) if(b) numPrimes++;\n",
    "System.out.println(\"Number primes up to 10000000 is \" + numPrimes + \", \" + (finish-start)/1000000000.0 + \" sec\");\n",
    "\n",
    "public int countFactors(int num) {\n",
    "    assert num >= 2 : \"Failed precondition: num must be >= 2. num: \" + num;\n",
    "    int result = 0;\n",
    "    final double SQRT = Math.sqrt(num);\n",
    "    for(int i = 1; i < SQRT; i++) {\n",
    "        if(num % i == 0) {\n",
    "            result += 2;\n",
    "        }\n",
    "    }\n",
    "    if(num % SQRT == 0)\n",
    "        result++;\n",
    "    return result;\n",
    "}\n",
    "System.out.println();\n",
    "System.out.println(countFactors(2) +    \" factors up to \" + 2);    // 2 factors up to 2\n",
    "System.out.println(countFactors(3) +    \" factors up to \" + 3);    // 2 factors up to 3\n",
    "System.out.println(countFactors(4) +    \" factors up to \" + 4);    // 3 factors up to 4\n",
    "System.out.println(countFactors(12) +   \" factors up to \" + 12);   // 6 factors up to 12\n",
    "System.out.println(countFactors(13) +   \" factors up to \" + 13);   // 2 factors up to 13\n",
    "System.out.println(countFactors(360) +  \" factors up to \" + 360);  // 24 factors up to 360\n",
    "System.out.println(countFactors(1447) + \" factors up to \" + 1447); // 2 factors up to 1447\n",
    "\n",
    "public boolean isPrime(int num) {\n",
    "    assert num >= 2 : \"Failed precondition: num must be >= 2. num: \" + num;\n",
    "    final double LIMIT = Math.sqrt(num);\n",
    "    boolean isPrime = (num == 2) ? true : num % 2 != 0;\n",
    "    int div = 3;\n",
    "    while(div <= LIMIT && isPrime) {\n",
    "        isPrime = num % div != 0;\n",
    "        div += 2;\n",
    "    }\n",
    "    return isPrime;\n",
    "}\n",
    "System.out.println();\n",
    "System.out.println(\"2 is prime: \" + isPrime(2));                   // 2 is prime: true\n",
    "System.out.println(\"3 is prime: \" + isPrime(3));                   // 3 is prime: true\n",
    "System.out.println(\"4 is prime: \" + isPrime(4));                   // 4 is prime: false\n",
    "System.out.println(\"54161329 is prime: \" + isPrime(54161329));     // 54161329 is prime: false\n",
    "System.out.println(\"1882341361 is prime: \" + isPrime(1882341361)); // 1882341361 is prime: true\n"
   ]
  },
  {
   "cell_type": "code",
   "execution_count": null,
   "metadata": {},
   "outputs": [],
   "source": []
  }
 ],
 "metadata": {
  "kernelspec": {
   "display_name": "Java",
   "language": "java",
   "name": "java"
  },
  "language_info": {
   "codemirror_mode": "java",
   "file_extension": ".jshell",
   "mimetype": "text/x-java-source",
   "name": "Java",
   "pygments_lexer": "java",
   "version": "13.0.2+8"
  }
 },
 "nbformat": 4,
 "nbformat_minor": 4
}
