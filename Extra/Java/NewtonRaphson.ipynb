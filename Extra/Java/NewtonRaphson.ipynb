{
 "cells": [
  {
   "cell_type": "markdown",
   "metadata": {},
   "source": [
    "# Newton-Raphson Method\n",
    "\n",
    "See: [Newton-Raphson Method](https://en.wikipedia.org/wiki/Newton%27s_method)\n",
    "\n",
    "A function has a root wherever it crosses the x-axis. The Newton-Raphson method attempts to find an approximation for a root of a function. Some functions have no roots and some have many, but the Newton-Raphson method can only find one root approximation at a time. Note that Newton-Rahhson may not converge in some cases.\n",
    "\n",
    "1. Start with an initial guess for the root of the function.\n",
    "2. Take the derivative of the function to determine the tangent line.\n",
    "3. Compute the x-intercept of the tangent to get a better approximation.\n",
    "4. Repeat using this new approximation until desired precision is achieved."
   ]
  },
  {
   "cell_type": "code",
   "execution_count": 4,
   "metadata": {},
   "outputs": [
    {
     "name": "stdout",
     "output_type": "stream",
     "text": [
      "2.0945514815423474\n",
      "3.141592653589793\n"
     ]
    }
   ],
   "source": [
    "import java.util.function.Function;\n",
    "import java.lang.Math;\n",
    "\n",
    "double newtonRaphson(Function<Double, Double> function, \n",
    "                     Function<Double, Double> function_derivative,\n",
    "                     double guess) {\n",
    "    while(true) {\n",
    "        double guessNext = guess - function.apply(guess) / function_derivative.apply(guess);\n",
    "        if (Math.abs(guess - guessNext) < 0.00001) {\n",
    "            return guessNext;\n",
    "        }\n",
    "        guess = guessNext;\n",
    "    }\n",
    "}\n",
    "\n",
    "Function<Double, Double> function;\n",
    "Function<Double, Double> functionDerivative;\n",
    "\n",
    "function = x -> (x * x * x) - (2 * x) - 5;\n",
    "functionDerivative = x -> 3 * (x * x) - 2;\n",
    "System.out.println(newtonRaphson(function, functionDerivative, 3));\n",
    "\n",
    "function = x -> Math.sin(x);\n",
    "functionDerivative = x -> Math.cos(x); // derivative of sin is cos\n",
    "System.out.println(newtonRaphson(function, functionDerivative, 3));"
   ]
  },
  {
   "cell_type": "code",
   "execution_count": null,
   "metadata": {},
   "outputs": [],
   "source": []
  }
 ],
 "metadata": {
  "kernelspec": {
   "display_name": "Java",
   "language": "java",
   "name": "java"
  },
  "language_info": {
   "codemirror_mode": "java",
   "file_extension": ".jshell",
   "mimetype": "text/x-java-source",
   "name": "Java",
   "pygments_lexer": "java",
   "version": "13.0.2+8"
  }
 },
 "nbformat": 4,
 "nbformat_minor": 4
}
