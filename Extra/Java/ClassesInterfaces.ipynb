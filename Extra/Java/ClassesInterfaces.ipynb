{
 "cells": [
  {
   "cell_type": "markdown",
   "metadata": {},
   "source": [
    "# Classes and Interfaces\n",
    "\n",
    "* The class Keyword\n",
    "* Fields\n",
    "* Constructors\n",
    "* Methods\n",
    "* Overloading Methods\n",
    "* Overriding Methods\n",
    "* Static Members\n",
    "* Access Control\n",
    "* Class Inheritance\n",
    "* Object Class\n",
    "* The final and super Keywords\n",
    "* The abstract Keyword\n",
    "* The interface Keyword\n",
    "* Polymorphism\n",
    "* The instanceof Keyword\n",
    "* Generics\n",
    "* Collections"
   ]
  },
  {
   "cell_type": "markdown",
   "metadata": {},
   "source": [
    "## The ```class``` Keyword"
   ]
  },
  {
   "cell_type": "code",
   "execution_count": 2,
   "metadata": {},
   "outputs": [
    {
     "name": "stdout",
     "output_type": "stream",
     "text": [
      "class REPL.$JShell$13$MyClass\r\n"
     ]
    }
   ],
   "source": [
    "class MyClass {\n",
    "}\n",
    "MyClass mc = new MyClass();\n",
    "System.out.println(mc.getClass());"
   ]
  },
  {
   "cell_type": "markdown",
   "metadata": {},
   "source": [
    "## Fields\n"
   ]
  },
  {
   "cell_type": "code",
   "execution_count": 3,
   "metadata": {},
   "outputs": [
    {
     "name": "stdout",
     "output_type": "stream",
     "text": [
      "42\n",
      "13\n"
     ]
    }
   ],
   "source": [
    "class MyClass {\n",
    "  int x = 42;\n",
    "}\n",
    "MyClass mc = new MyClass();\n",
    "System.out.println(mc.x);\n",
    "mc.x = 13;\n",
    "System.out.println(mc.x);"
   ]
  },
  {
   "cell_type": "markdown",
   "metadata": {},
   "source": [
    "## Constructors\n"
   ]
  },
  {
   "cell_type": "code",
   "execution_count": 4,
   "metadata": {},
   "outputs": [
    {
     "name": "stdout",
     "output_type": "stream",
     "text": [
      "42\r\n"
     ]
    }
   ],
   "source": [
    "class MyClass {\n",
    "    int x;\n",
    "    MyClass(int x) {\n",
    "        this.x = x;\n",
    "    }\n",
    "}\n",
    "MyClass mc = new MyClass(42);\n",
    "System.out.println(mc.x);"
   ]
  },
  {
   "cell_type": "markdown",
   "metadata": {},
   "source": [
    "## Methods\n"
   ]
  },
  {
   "cell_type": "code",
   "execution_count": 5,
   "metadata": {},
   "outputs": [
    {
     "name": "stdout",
     "output_type": "stream",
     "text": [
      "42\n",
      "45\n"
     ]
    }
   ],
   "source": [
    "class MyClass {\n",
    "    int x = 42;\n",
    "    void myMethod(int x) {\n",
    "        this.x += x;\n",
    "    }\n",
    "}\n",
    "MyClass mc = new MyClass();\n",
    "System.out.println(mc.x);\n",
    "mc.myMethod(3);\n",
    "System.out.println(mc.x);"
   ]
  },
  {
   "cell_type": "markdown",
   "metadata": {},
   "source": [
    "## Overloading Methods\n",
    "\n",
    "https://docs.oracle.com/javase/tutorial/java/javaOO/methods.html"
   ]
  },
  {
   "cell_type": "code",
   "execution_count": 6,
   "metadata": {},
   "outputs": [
    {
     "name": "stdout",
     "output_type": "stream",
     "text": [
      "10, 20\n",
      "30, 20\n",
      "35, 20\n",
      "85, 80\n"
     ]
    }
   ],
   "source": [
    "class MyClass {\n",
    "    int x = 10;\n",
    "    int y = 20;\n",
    "    void myMethod() {\n",
    "        this.x += 10;\n",
    "        this.x += 10;\n",
    "    }\n",
    "    void myMethod(int x) {\n",
    "        this.x += x;\n",
    "    }\n",
    "    void myMethod(int x, int y) {\n",
    "        this.x += x;\n",
    "        this.y += y;\n",
    "    }\n",
    "}\n",
    "MyClass mc = new MyClass();\n",
    "System.out.println(mc.x + \", \" + mc.y);\n",
    "mc.myMethod();\n",
    "System.out.println(mc.x + \", \" + mc.y);\n",
    "mc.myMethod(5);\n",
    "System.out.println(mc.x + \", \" + mc.y);\n",
    "mc.myMethod(50, 60);\n",
    "System.out.println(mc.x + \", \" + mc.y);"
   ]
  },
  {
   "cell_type": "markdown",
   "metadata": {},
   "source": [
    "## Overriding Methods\n",
    "\n",
    "https://docs.oracle.com/javase/tutorial/java/IandI/override.html"
   ]
  },
  {
   "cell_type": "code",
   "execution_count": 7,
   "metadata": {},
   "outputs": [
    {
     "name": "stdout",
     "output_type": "stream",
     "text": [
      "The static method in Animal\n",
      "The instance method in Cat\n"
     ]
    }
   ],
   "source": [
    "public class Animal {\n",
    "    public static void testClassMethod() {\n",
    "        System.out.println(\"The static method in Animal\");\n",
    "    }\n",
    "    public void testInstanceMethod() {\n",
    "        System.out.println(\"The instance method in Animal\");\n",
    "    }\n",
    "}\n",
    "public class Cat extends Animal {\n",
    "    public static void testClassMethod() {\n",
    "        System.out.println(\"The static method in Cat\");\n",
    "    }\n",
    "    public void testInstanceMethod() {\n",
    "        System.out.println(\"The instance method in Cat\");\n",
    "    }\n",
    "}\n",
    "Cat myCat = new Cat();\n",
    "Animal myAnimal = myCat;\n",
    "Animal.testClassMethod();\n",
    "myAnimal.testInstanceMethod();"
   ]
  },
  {
   "cell_type": "markdown",
   "metadata": {},
   "source": [
    "## Static Members\n"
   ]
  },
  {
   "cell_type": "code",
   "execution_count": 8,
   "metadata": {},
   "outputs": [
    {
     "name": "stdout",
     "output_type": "stream",
     "text": [
      "42\n",
      "45\n"
     ]
    }
   ],
   "source": [
    "class MyClass {\n",
    "    static int x = 42;\n",
    "    static void myMethod(int x) {\n",
    "        MyClass.x += x;\n",
    "    }\n",
    "}\n",
    "System.out.println(MyClass.x);\n",
    "MyClass.myMethod(3);\n",
    "System.out.println(MyClass.x);"
   ]
  },
  {
   "cell_type": "markdown",
   "metadata": {},
   "source": [
    "## Access Control\n",
    "\n",
    "Four access modifiers:\n",
    "\n",
    "* ```private``` -> scope is only within class\n",
    "* ```default``` -> scope is only within package (default if if no access level specified)\n",
    "* ```protected``` ->scope is only within package plus child classes outside package\n",
    "* ```public``` -> scope is everywhere in the entire program\n",
    "    "
   ]
  },
  {
   "cell_type": "markdown",
   "metadata": {},
   "source": [
    "## Class Inheritance\n",
    "\n",
    "A class that is derived from another class is called a subclass (also a derived class, extended class, or child class). The class from which the subclass is derived is called a superclass (also a base class or a parent class).\n",
    "\n",
    "https://docs.oracle.com/javase/tutorial/java/IandI/subclasses.html"
   ]
  },
  {
   "cell_type": "code",
   "execution_count": 9,
   "metadata": {},
   "outputs": [
    {
     "name": "stdout",
     "output_type": "stream",
     "text": [
      "mdc.x: 10, mdc.y: 11\n",
      "MyBaseClass.MyMethod() called\n",
      "MyDerivedClass.MyMethod() called\n"
     ]
    }
   ],
   "source": [
    "class MyBaseClass {\n",
    "    int x = 10;\n",
    "        void MyMethod() {\n",
    "        System.out.println(\"MyBaseClass.MyMethod() called\");\n",
    "    }\n",
    "}\n",
    "class MyDerivedClass extends MyBaseClass {\n",
    "    int y = 11;\n",
    "    void MyMethod() {\n",
    "        super.MyMethod();\n",
    "        System.out.println(\"MyDerivedClass.MyMethod() called\");\n",
    "    }\n",
    "}\n",
    "\n",
    "MyDerivedClass mdc = new MyDerivedClass();\n",
    "System.out.println(\"mdc.x: \" + mdc.x + \", mdc.y: \" + mdc.y);\n",
    "mdc.MyMethod();"
   ]
  },
  {
   "cell_type": "markdown",
   "metadata": {},
   "source": [
    "## The ```Object``` Class\n",
    "The ```Object``` class is defined the in ```java.lang``` package. All classes directly or indirectly derive from the Object base class. Any class that does not explicitly derive from a specific class then it implicitly derives directly from the Object class. The methods defined in the Object class are therefore available to all classes. The Object class is the root of the entire Java inheritance hierarchy.\n",
    "\n",
    "https://docs.oracle.com/javase/tutorial/java/IandI/objectclass.html"
   ]
  },
  {
   "cell_type": "markdown",
   "metadata": {},
   "source": [
    "## The ```final``` and ```super``` Keywords\n",
    "\n",
    "https://docs.oracle.com/javase/tutorial/java/IandI/super.html\n",
    "\n",
    "https://docs.oracle.com/javase/tutorial/java/IandI/final.html"
   ]
  },
  {
   "cell_type": "markdown",
   "metadata": {},
   "source": [
    "## The ```abstract``` Keyword\n",
    "\n",
    "https://docs.oracle.com/javase/tutorial/java/IandI/abstract.html"
   ]
  },
  {
   "cell_type": "markdown",
   "metadata": {},
   "source": [
    "## The ```interface``` Keyword"
   ]
  },
  {
   "cell_type": "code",
   "execution_count": 10,
   "metadata": {},
   "outputs": [
    {
     "name": "stdout",
     "output_type": "stream",
     "text": [
      "Lion.eat() called\n",
      "Lion.sleep() called\n"
     ]
    }
   ],
   "source": [
    "interface Animal {\n",
    "  public void eat(); \n",
    "  public void sleep();\n",
    "}\n",
    "\n",
    "class Lion implements Animal {\n",
    "  public void eat() {\n",
    "    System.out.println(\"Lion.eat() called\");\n",
    "  }\n",
    "  public void sleep() {\n",
    "    System.out.println(\"Lion.sleep() called\");\n",
    "  }\n",
    "}\n",
    "\n",
    "Animal animal = new Lion();\n",
    "animal.eat();\n",
    "animal.sleep();"
   ]
  },
  {
   "cell_type": "markdown",
   "metadata": {},
   "source": [
    "## Polymorphism"
   ]
  },
  {
   "cell_type": "code",
   "execution_count": 11,
   "metadata": {},
   "outputs": [
    {
     "name": "stdout",
     "output_type": "stream",
     "text": [
      "Lion.eat() called\n",
      "Lion.sleep() called\n",
      "Zebra.eat() called\n",
      "Zebra.sleep() called\n",
      "Zebra.eat() called\n",
      "Zebra.sleep() called\n",
      "Lion.eat() called\n",
      "Lion.sleep() called\n"
     ]
    }
   ],
   "source": [
    "interface Animal {\n",
    "  public void eat(); \n",
    "  public void sleep();\n",
    "}\n",
    "\n",
    "class Lion implements Animal {\n",
    "  public void eat() {\n",
    "    System.out.println(\"Lion.eat() called\");\n",
    "  }\n",
    "  public void sleep() {\n",
    "    System.out.println(\"Lion.sleep() called\");\n",
    "  }\n",
    "}\n",
    "\n",
    "class Zebra implements Animal {\n",
    "  public void eat() {\n",
    "    System.out.println(\"Zebra.eat() called\");\n",
    "  }\n",
    "  public void sleep() {\n",
    "    System.out.println(\"Zebra.sleep() called\");\n",
    "  }\n",
    "}\n",
    "\n",
    "Animal[] animals = { new Lion(), new Zebra(), new Zebra(), new Lion() };\n",
    "for (Animal animal : animals) {\n",
    "    animal.eat();\n",
    "    animal.sleep();\n",
    "}"
   ]
  },
  {
   "cell_type": "markdown",
   "metadata": {},
   "source": [
    "## The ```instanceof``` Keyword"
   ]
  },
  {
   "cell_type": "code",
   "execution_count": 12,
   "metadata": {},
   "outputs": [
    {
     "name": "stdout",
     "output_type": "stream",
     "text": [
      "child is instance of Child\n",
      "child is instance of Parent\n",
      "child is instance of Object\n",
      "parent is not instance of Child\n",
      "parent is instance of Parent\n",
      "parent is instance of Object\n"
     ]
    }
   ],
   "source": [
    "class Parent { }\n",
    "class Child extends Parent { }\n",
    "\n",
    "Child child = new Child();\n",
    "if (child instanceof Child)\n",
    "    System.out.println(\"child is instance of Child\");\n",
    "else\n",
    "    System.out.println(\"child is not instance of Child\");\n",
    "if (child instanceof Parent)\n",
    "    System.out.println(\"child is instance of Parent\");\n",
    "else\n",
    "    System.out.println(\"child is not instance of Parent\");\n",
    "if (child instanceof Object)\n",
    "    System.out.println(\"child is instance of Object\");\n",
    "else\n",
    "    System.out.println(\"child is not instance of Object\");\n",
    "\n",
    "Parent parent = new Parent();\n",
    "if (parent instanceof Child)\n",
    "    System.out.println(\"parent is instance of Child\");\n",
    "else\n",
    "    System.out.println(\"parent is not instance of Child\");\n",
    "if (parent instanceof Parent)\n",
    "    System.out.println(\"parent is instance of Parent\");\n",
    "else\n",
    "    System.out.println(\"parent is not instance of Parent\");\n",
    "if (parent instanceof Object) \n",
    "    System.out.println(\"parent is instance of Object\"); \n",
    "else\n",
    "    System.out.println(\"parent is not instance of Object\");"
   ]
  },
  {
   "cell_type": "markdown",
   "metadata": {},
   "source": [
    "## Wrapper Classes\n",
    "\n",
    "* byte -> Byte\n",
    "* short -> Short\n",
    "* int -> Integer\n",
    "* long -> Long\n",
    "* float -> Float\n",
    "* double -> Double\n",
    "* boolean -> Boolean\n",
    "* char -> Character\n",
    "\n",
    "Wrapper classes encapsulate primitive data types (int, boolean, etc..) as objects.  \n",
    "Useful in Collection objects such as ArrayList where primitive types cannot be used as elements  \n",
    "\n",
    "```ArrayList<int> nums = new ArrayList<int>();         // Invalid```  \n",
    "```ArrayList<Integer> nums = new ArrayList<Integer>(); // Valid```  "
   ]
  },
  {
   "cell_type": "code",
   "execution_count": 13,
   "metadata": {},
   "outputs": [
    {
     "name": "stdout",
     "output_type": "stream",
     "text": [
      "60\n",
      "20\n",
      "3.141592\n",
      "7\n",
      "57\n",
      "true\n",
      "A\n",
      "10\n",
      "10\n",
      "30\n",
      "40\n"
     ]
    }
   ],
   "source": [
    "Integer sixty = new Integer(60);\n",
    "System.out.println(sixty);\n",
    "\n",
    "Integer tewnty = Integer.valueOf(\"20\");\n",
    "System.out.println(tewnty.intValue());\n",
    "\n",
    "Double pi = new Double(3.141592);\n",
    "System.out.println(pi.doubleValue());\n",
    "\n",
    "Integer seven = Integer.valueOf(\"111\", 2);\n",
    "System.out.println(seven);\n",
    "\n",
    "Float floatWrapper = Float.valueOf(57.0f);\n",
    "int floatToInt = floatWrapper.intValue();\n",
    "System.out.println(floatToInt);\n",
    "\n",
    "Boolean valid = Boolean.valueOf(\"True\");\n",
    "System.out.println(valid);\n",
    "\n",
    "Character c = Character.valueOf('A');\n",
    "System.out.println(c);\n",
    "\n",
    "ArrayList<Integer> nums = new ArrayList<Integer>();\n",
    "nums.add(10);\n",
    "nums.add(10);\n",
    "nums.add(30);\n",
    "nums.add(40);\n",
    "for (int n : nums) {\n",
    "    System.out.println(n);\n",
    "}"
   ]
  },
  {
   "cell_type": "markdown",
   "metadata": {},
   "source": [
    "## Generics\n",
    "\n",
    "* Stronger type checks at compile time for better runtime type safety\n",
    "* Makes casting unnecessary\n",
    "* Supports generic algorithms that work on collections of any given element type"
   ]
  },
  {
   "cell_type": "code",
   "execution_count": 14,
   "metadata": {},
   "outputs": [
    {
     "name": "stdout",
     "output_type": "stream",
     "text": [
      "hello\n",
      "hello\n",
      "13\n",
      "13\n",
      "42\n",
      "true\n"
     ]
    }
   ],
   "source": [
    "String s;\n",
    "\n",
    "// Coding without generics may require casting and casting may raise runtime cast exceptions\n",
    "List list = new ArrayList();  // allows any type of object elements (bad)\n",
    "list.add(\"hello\");\n",
    "s =  (String)list.get(0);     // cast to prevent compiler error (must cast string object to string)\n",
    "System.out.println(s);\n",
    "list.add(13);\n",
    "//s = (String)list.get(1);    // runtime error (cannot cast integer object to string)\n",
    "\n",
    "// Coding with generics avoids the need for casting and prevents runtime cast exceptions  \n",
    "List<String> listGeneric = new ArrayList<String>(); // only allows string object elements (good)\n",
    "listGeneric.add(\"hello\");\n",
    "s = listGeneric.get(0);       // no cast required (already a string object)\n",
    "System.out.println(s);\n",
    "//listGeneric.add(13);        // runtime cast exception (can only add string object)\n",
    "\n",
    "// Non generic classes must deal with type-safety issues\n",
    "public class Box {\n",
    "    private Object object;  // can be any type of object (not type-safe)\n",
    "    public void set(Object object) { this.object = object; }\n",
    "    public Object get() { return object; }\n",
    "}\n",
    "Box box = new Box();\n",
    "box.set(13);\n",
    "System.out.println(box.get());\n",
    "box.set(\"13\");\n",
    "System.out.println(box.get());\n",
    "\n",
    "// Generic classes are type-safe so that type orrors are caught at compile time\n",
    "public class BoxGeneric<T> { // T is Type placeholder\n",
    "    private T t;             // Must be type T object (type-safe)\n",
    "    public void set(T t) { this.t = t; }\n",
    "    public T get() { return t; }\n",
    "}\n",
    "\n",
    "BoxGeneric<Integer> boxGenericInteger = new BoxGeneric<Integer>();\n",
    "boxGenericInteger.set(42);          // works with integer\n",
    "System.out.println(boxGenericInteger.get());\n",
    "//boxGenericInteger.set(\"42\");      // Compile time error: incompatible types (must be integer)\n",
    "\n",
    "BoxGeneric<Boolean> boxGenericBoolean = new BoxGeneric<Boolean>();\n",
    "boxGenericBoolean.set(true);          // works with boolean\n",
    "System.out.println(boxGenericBoolean.get());\n",
    "//boxGenericBoolean.set(42);      // Compile time error: incompatible types (must be boolean)"
   ]
  },
  {
   "cell_type": "code",
   "execution_count": 2,
   "metadata": {},
   "outputs": [
    {
     "name": "stdout",
     "output_type": "stream",
     "text": [
      "size: 0, elements: []\n",
      "size: 4, elements: [9, 7, 8, 5]\n",
      "9\n",
      "size: 3, elements: [9, 7, 5]\n",
      "false\n",
      "true\n"
     ]
    }
   ],
   "source": [
    "public class ObjectList{\n",
    "    private static final int DEFAULT_CAP = 10; // initial capacity\n",
    "    private Object[] objects;\n",
    "    private int size;\n",
    "    \n",
    "    // default constructor creates empty list\n",
    "    public ObjectList() {\n",
    "        this(DEFAULT_CAP); // redirect to single int constructor\n",
    "    }\n",
    "\n",
    "    // constructor with initial capacity\n",
    "    public ObjectList(int initialCapacity) {\n",
    "        assert initialCapacity > 0 : \"Error: initialCapacity must be > n 0, but it is: \" + initialCapacity;\n",
    "        objects = new Object[initialCapacity];\n",
    "        size = 0;\n",
    "    }\n",
    "    \n",
    "    // add item to end of list\n",
    "    public void add(Object object) {\n",
    "        insert(size, object);\n",
    "    }\n",
    "    \n",
    "    // return item from position in list\n",
    "    public Object get(int pos) {\n",
    "        return objects[pos];\n",
    "    }\n",
    "    \n",
    "    // insert item at position in list\n",
    "    public void insert(int pos, Object obj) {\n",
    "        if(size == objects.length) {\n",
    "            // resize storage by factor of 2\n",
    "            Object[] temp = new Object[objects.length * 2];\n",
    "            System.arraycopy(objects, 0, temp, 0, objects.length);\n",
    "            objects = temp;\n",
    "        }\n",
    "        for(int i = size; i > pos; i--) {\n",
    "            objects[i] = objects[i - 1];\n",
    "        }\n",
    "        objects[pos] = obj;\n",
    "        size++;\n",
    "    }\n",
    "    \n",
    "    // remove item at position in list\n",
    "    public Object remove(int pos) {\n",
    "        Object removedValue = objects[pos];\n",
    "        for(int i = pos; i < size - 1; i++)\n",
    "            objects[i] = objects[i + 1];\n",
    "        objects[size - 1] = null;\n",
    "        size--;\n",
    "        return removedValue;\n",
    "    }\n",
    "    \n",
    "    // return String representation of list\n",
    "    public String toString() {\n",
    "        // we could make this more effecient by using a StringBuffer.\n",
    "        // See alternative version\n",
    "        String result = \"size: \" + size + \", elements: [\";\n",
    "        for(int i = 0; i < size - 1; i++)\n",
    "            result += objects[i].toString() + \", \";\n",
    "        if(size > 0 )\n",
    "            result += objects[size - 1];\n",
    "        result += \"]\";\n",
    "        return result;\n",
    "    }\n",
    "    \n",
    "    // true if and only if lists have same size and same elements in same order\n",
    "    public boolean equals(Object other) {\n",
    "        boolean result;\n",
    "        if(other == null)\n",
    "            result = false; // we know this is not null so can't be equal\n",
    "        else if(this == other)\n",
    "            result = true; // check if same actual objects\n",
    "        else if(this.getClass() != other.getClass())\n",
    "            result = false; // other is not same class so cannot be equal\n",
    "        else {\n",
    "            // other is not null and refers to same class object\n",
    "            ObjectList otherList = (ObjectList)other;\n",
    "            result = this.size == otherList.size;\n",
    "            int i = 0;\n",
    "            while(i < size && result) {\n",
    "                result = this.objects[i].equals(otherList.objects[i]);\n",
    "                i++;\n",
    "            }\n",
    "        }\n",
    "        return result;     \n",
    "    }\n",
    "}\n",
    "\n",
    "ObjectList objectList = new ObjectList();\n",
    "System.out.println(objectList.toString());\n",
    "objectList.add(9);\n",
    "objectList.add(8);\n",
    "objectList.add(5);\n",
    "objectList.toString();\n",
    "objectList.insert(1, 7);\n",
    "System.out.println(objectList.toString());\n",
    "System.out.println(objectList.get(0));\n",
    "objectList.remove(2);\n",
    "System.out.println(objectList.toString());\n",
    "ObjectList otherObjectList = new ObjectList();\n",
    "System.out.println(objectList.equals(otherObjectList));\n",
    "otherObjectList.add(9);\n",
    "otherObjectList.add(7);\n",
    "otherObjectList.add(5);\n",
    "System.out.println(objectList.equals(otherObjectList));"
   ]
  },
  {
   "cell_type": "markdown",
   "metadata": {},
   "source": [
    "## Collections\n",
    "\n",
    "https://docs.oracle.com/javase/tutorial/collections"
   ]
  },
  {
   "cell_type": "markdown",
   "metadata": {},
   "source": [
    "## Java Classes and Objects\n",
    "\n",
    "- https://www.baeldung.com/java-classes-objects"
   ]
  },
  {
   "cell_type": "code",
   "execution_count": null,
   "metadata": {},
   "outputs": [],
   "source": []
  }
 ],
 "metadata": {
  "kernelspec": {
   "display_name": "Java",
   "language": "java",
   "name": "java"
  },
  "language_info": {
   "codemirror_mode": "java",
   "file_extension": ".jshell",
   "mimetype": "text/x-java-source",
   "name": "Java",
   "pygments_lexer": "java",
   "version": "15.0.2+7-27"
  }
 },
 "nbformat": 4,
 "nbformat_minor": 4
}
