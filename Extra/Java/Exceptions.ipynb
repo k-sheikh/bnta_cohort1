{
 "cells": [
  {
   "cell_type": "markdown",
   "metadata": {},
   "source": [
    "# Exceptions\n",
    "\n",
    "* All exception and error classes ultimately inherit from the Throwable class\n",
    "* The Throwable class inherits directly from the root Object class\n",
    "* The Throwable class derives directly into two subclasses: Exception and Error\n",
    "* The Exception class is used for exceptional conditions that user code should catch and handle\n",
    "* Exception classes come in two flavors: checked and unchecked exceptions\n",
    "* Checked exceptions are checked at compile time\n",
    "* FileNotFoundException is an example of a checked exception \n",
    "* Unchecked are the exceptions that are not checked at compiled time\n",
    "* ArithmeticException is an example of an unchecked exception\n",
    "* The NullPointerException class is an example of an exception that derives from the Exception class\n",
    "* The Error class represent an internal JVM (Java Virtual Machine) system run-time error\n",
    "* StackOverflowError is an example of an error that derives from the Error class\n",
    "* Your can define and throw and catch custom exceptions that you define in own code"
   ]
  },
  {
   "cell_type": "code",
   "execution_count": 3,
   "metadata": {},
   "outputs": [
    {
     "ename": "EvalException",
     "evalue": "/ by zero",
     "output_type": "error",
     "traceback": [
      "\u001b[1m\u001b[31m---------------------------------------------------------------------------\u001b[0m",
      "\u001b[1m\u001b[31mjava.lang.ArithmeticException: / by zero\u001b[0m",
      "\u001b[1m\u001b[31m\tat .(#15:1)\u001b[0m"
     ]
    }
   ],
   "source": [
    "System.out.println(1/0); // throws an divide by zero ArithmeticException"
   ]
  },
  {
   "cell_type": "code",
   "execution_count": 4,
   "metadata": {},
   "outputs": [
    {
     "ename": "EvalException",
     "evalue": "null",
     "output_type": "error",
     "traceback": [
      "\u001b[1m\u001b[31m---------------------------------------------------------------------------\u001b[0m",
      "\u001b[1m\u001b[31mjava.lang.NullPointerException: null\u001b[0m",
      "\u001b[1m\u001b[31m\tat .(#16:2)\u001b[0m"
     ]
    }
   ],
   "source": [
    "String str = null; \n",
    "System.out.println(str.length()); // NullPointerException"
   ]
  },
  {
   "cell_type": "code",
   "execution_count": 13,
   "metadata": {},
   "outputs": [
    {
     "name": "stdout",
     "output_type": "stream",
     "text": [
      "ArithmeticException: / by zero\n",
      "Clean up code goes here :)\n"
     ]
    }
   ],
   "source": [
    "int divideByZero(int a, int b) {\n",
    "    int result = a/b;  // throws ArithmeticException(/ by zero) \n",
    "    return result; \n",
    "}\n",
    "\n",
    "int res =0;\n",
    "try {\n",
    "    res = divideByZero(10,0); \n",
    "}\n",
    "catch(ArrayIndexOutOfBoundsException ex) { // does not match ArithmeticException\n",
    "    System.out.println(\"ArrayIndexOutOfBoundsException: \" + ex.getMessage());  \n",
    "}\n",
    "catch(ArithmeticException ex) { // does match ArithmeticException\n",
    "    System.out.println(\"ArithmeticException: \" + ex.getMessage()); \n",
    "}\n",
    "finally {\n",
    "    System.out.println(\"Clean up code goes here :)\");\n",
    "}"
   ]
  },
  {
   "cell_type": "code",
   "execution_count": 19,
   "metadata": {},
   "outputs": [
    {
     "name": "stdout",
     "output_type": "stream",
     "text": [
      "MethodThatThrowsMyException -> Something bad happened :(\r\n"
     ]
    }
   ],
   "source": [
    "class MyException extends Exception {\n",
    "    // custom members could be added here\n",
    "    MyException() { \n",
    "    } \n",
    "    MyException(String message) {\n",
    "        super(message);\n",
    "    } \n",
    "}\n",
    "\n",
    "void MethodThatThrowsMyException() throws MyException {\n",
    "    throw new MyException(\"Something bad happened :(\");  \n",
    "}\n",
    "\n",
    "try {\n",
    "    MethodThatThrowsMyException();\n",
    "}\n",
    "catch (MyException ex) {\n",
    "    System.out.println(\"MethodThatThrowsMyException -> \" + ex.getMessage()); \n",
    "}\n"
   ]
  },
  {
   "cell_type": "markdown",
   "metadata": {},
   "source": [
    "## Common Java Exceptions\n",
    "\n",
    "- https://www.baeldung.com/java-exceptions\n",
    "- https://www.baeldung.com/java-common-exceptions"
   ]
  },
  {
   "cell_type": "code",
   "execution_count": null,
   "metadata": {},
   "outputs": [],
   "source": []
  }
 ],
 "metadata": {
  "kernelspec": {
   "display_name": "Java",
   "language": "java",
   "name": "java"
  },
  "language_info": {
   "codemirror_mode": "java",
   "file_extension": ".jshell",
   "mimetype": "text/x-java-source",
   "name": "Java",
   "pygments_lexer": "java",
   "version": "15.0.2+7-27"
  }
 },
 "nbformat": 4,
 "nbformat_minor": 4
}
