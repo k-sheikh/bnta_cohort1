{
 "cells": [
  {
   "cell_type": "markdown",
   "metadata": {},
   "source": [
    "# Collections Framework\n",
    "\n",
    "Two main interfaces of the Collection Framework\n",
    "* Collection interface (java.util.Collection)\n",
    "* Map interface (java.util.Map)\n",
    "\n",
    "Core Interfaces in Collections:\n",
    "```\n",
    "            Collection            Map\n",
    "           /   /  \\   \\            |\n",
    "          /   /    \\   \\           |\n",
    "       Set List  Queue  Dequeue  SortedMap\n",
    "        /             \\\n",
    "       /               \\\n",
    " SortedSet         PriorityQueue\n",
    "```\n",
    "Before the Collections Framework was available, we hadArrays or Vectors or Hashtables were used, but they lack a consistent common interface.\n",
    "\n",
    "We now have the following Collections Framework classes:\n",
    "\n",
    "- ```Set``` does not allow duplicates\n",
    "- ```List``` can contain duplicates and elements are ordered\n",
    "- ```Queue``` FIFO ordered elements (insert/removed at one end)\n",
    "- ```Deque``` LIFO/FIFO ordered elements (insert/removed at both ends)\n",
    "- ```Map``` contains Key value pairs. Doesn't allow duplicates.\n",
    "- https://docs.oracle.com/javase/tutorial/collections/index.html"
   ]
  },
  {
   "cell_type": "code",
   "execution_count": 1,
   "metadata": {},
   "outputs": [
    {
     "name": "stdout",
     "output_type": "stream",
     "text": [
      "10\n",
      "20\n",
      "10\n",
      "20\n",
      "ten\n",
      "twenty\n"
     ]
    }
   ],
   "source": [
    "// Arrays and Vectors and Hashtables are a hodge-podge\n",
    "\n",
    "int arr[] = new int[] {10, 20};\n",
    "System.out.println(arr[0]);\n",
    "System.out.println(arr[1]);\n",
    "\n",
    "Vector<Integer> vector = new Vector();\n",
    "vector.addElement(10);\n",
    "vector.addElement(20);\n",
    "System.out.println(vector.elementAt(0));\n",
    "System.out.println(vector.elementAt(1));\n",
    "\n",
    "Hashtable<Integer, String> hashtable = new Hashtable();\n",
    "hashtable.put(10, \"ten\");\n",
    "hashtable.put(20,\"twenty\");\n",
    "System.out.println(hashtable.get(10));\n",
    "System.out.println(hashtable.get(20));"
   ]
  },
  {
   "cell_type": "markdown",
   "metadata": {},
   "source": [
    "## List Interface\n",
    "* ```ArrayList<data-type>```\n",
    "* ```LinkedList<data-type>```\n",
    "* ```Vector<data-type>```\n",
    "* ```Stack<data-type>```"
   ]
  },
  {
   "cell_type": "code",
   "execution_count": 21,
   "metadata": {},
   "outputs": [
    {
     "name": "stdout",
     "output_type": "stream",
     "text": [
      "Sally\n",
      "John\n",
      "Jenny\n",
      "Sam\n",
      "Sally\n",
      "John\n",
      "Jenny\n",
      "Sam\n",
      "Sally\n",
      "John\n",
      "Jenny\n",
      "Sam\n",
      "Sally\n",
      "John\n",
      "Jenny\n",
      "Sam\n"
     ]
    }
   ],
   "source": [
    "ArrayList<String> list=new ArrayList<String>();\n",
    "list.add(\"Sally\");\n",
    "list.add(\"John\");\n",
    "list.add(\"Jenny\");\n",
    "list.add(\"Sam\");\n",
    "Iterator itr = list.iterator();\n",
    "while(itr.hasNext()) {\n",
    "    System.out.println(itr.next());\n",
    "}\n",
    "\n",
    "LinkedList<String> linkedList = new LinkedList<String>();\n",
    "linkedList.add(\"Sally\");\n",
    "linkedList.add(\"John\");\n",
    "linkedList.add(\"Jenny\");\n",
    "linkedList.add(\"Sam\");\n",
    "Iterator itr = linkedList.iterator();\n",
    "while(itr.hasNext()) {\n",
    "    System.out.println(itr.next());\n",
    "}\n",
    "\n",
    "Vector<String> vector = new Vector<String>();\n",
    "vector.add(\"Sally\");\n",
    "vector.add(\"John\");\n",
    "vector.add(\"Jenny\");\n",
    "vector.add(\"Sam\");\n",
    "Iterator itr = linkedList.iterator();\n",
    "while(itr.hasNext()) {\n",
    "    System.out.println(itr.next());\n",
    "}\n",
    "\n",
    "Stack<String> stack = new Stack<String>();\n",
    "stack.push(\"Sally\");\n",
    "stack.push(\"John\");\n",
    "stack.push(\"Jenny\");\n",
    "stack.push(\"Sam\");\n",
    "Iterator itr = linkedList.iterator();\n",
    "while(itr.hasNext()) {\n",
    "    System.out.println(itr.next());\n",
    "}"
   ]
  },
  {
   "cell_type": "markdown",
   "metadata": {},
   "source": [
    "## Queue Interface (FirstIn – FirstOut)\n",
    "- ```PriorityQueue<data-type>```\n",
    "- ```ArrayDeque<data-type>```\n",
    "- See: https://en.wikipedia.org/wiki/Queue_(abstract_data_type)"
   ]
  },
  {
   "cell_type": "code",
   "execution_count": 17,
   "metadata": {},
   "outputs": [
    {
     "name": "stdout",
     "output_type": "stream",
     "text": [
      "Eve Mary Joe Sally \n",
      "Eve\n",
      "Eve\n",
      "Joe\n",
      "Joe\n",
      "Mary\n",
      "Mary\n",
      "Sally\n",
      "Sally\n"
     ]
    }
   ],
   "source": [
    "// See: https://www.geeksforgeeks.org/priority-queue-class-in-java-2\n",
    "\n",
    "PriorityQueue<String> pq = new PriorityQueue<String>();\n",
    "pq.add(\"Joe\");\n",
    "pq.add(\"Mary\");\n",
    "pq.add(\"Eve\");\n",
    "pq.add(\"Sally\");\n",
    "\n",
    "Iterator iterator = pq.iterator();\n",
    "while (iterator.hasNext()) {\n",
    "    System.out.print(iterator.next() + \" \");\n",
    "}\n",
    "System.out.println();\n",
    "System.out.println(pq.peek()); // print top element of PriorityQueue\n",
    "System.out.println(pq.poll()); // print the top element and removing it\n",
    "System.out.println(pq.peek()); // print top element of PriorityQueue\n",
    "System.out.println(pq.poll()); // print the top element and removing it\n",
    "System.out.println(pq.peek()); // print top element of PriorityQueue\n",
    "System.out.println(pq.poll()); // print the top element and removing it\n",
    "System.out.println(pq.peek()); // print top element of PriorityQueue\n",
    "System.out.println(pq.poll()); // print the top element and removing it"
   ]
  },
  {
   "cell_type": "markdown",
   "metadata": {},
   "source": [
    "## Deque Interface (Doubly Ended Queue)\n",
    "\n",
    "- ```ArrayDeque<data-type>```\n",
    "- See: https://en.wikipedia.org/wiki/Double-ended_queue"
   ]
  },
  {
   "cell_type": "code",
   "execution_count": 20,
   "metadata": {},
   "outputs": [
    {
     "name": "stdout",
     "output_type": "stream",
     "text": [
      "Rover Joe Mary Eve Sally Fido "
     ]
    }
   ],
   "source": [
    "// See: https://www.geeksforgeeks.org/arraydeque-in-java\n",
    "\n",
    "Deque<String> dq = new ArrayDeque<String>();\n",
    "dq.add(\"Joe\");\n",
    "dq.add(\"Mary\");\n",
    "dq.add(\"Eve\");\n",
    "dq.add(\"Sally\");\n",
    "\n",
    "dq.addFirst(\"Rover\"); \n",
    "dq.addLast(\"Fido\"); \n",
    "\n",
    "for (String element : dq) \n",
    "{ \n",
    "    System.out.print( element + \" \"); \n",
    "} "
   ]
  },
  {
   "cell_type": "markdown",
   "metadata": {},
   "source": [
    "## Set Interface\n",
    "* ```HashSet<data-type>```\n",
    "* ```LinkedHashSet<data-type>```\n",
    "* ```TreeSet<data-type>```"
   ]
  },
  {
   "cell_type": "code",
   "execution_count": 20,
   "metadata": {},
   "outputs": [
    {
     "name": "stdout",
     "output_type": "stream",
     "text": [
      "Joe\n",
      "Eve\n",
      "Mary\n"
     ]
    }
   ],
   "source": [
    "HashSet<String> hashSet = new HashSet<String>();\n",
    "hashSet.add(\"Joe\");\n",
    "hashSet.add(\"Mary\");\n",
    "hashSet.add(\"Eve\");\n",
    "Iterator<String> itr = hashSet.iterator();  \n",
    "while(itr.hasNext()){  \n",
    "    System.out.println(itr.next());  \n",
    "}  "
   ]
  },
  {
   "cell_type": "markdown",
   "metadata": {},
   "source": [
    "## More Examples\n",
    "\n",
    "- Java Collections: https://www.baeldung.com/java-collections\n",
    "- Iterate over a Map in Java: https://www.baeldung.com/java-iterate-map\n",
    "- The Algorithms - Java: https://github.com/TheAlgorithms/Java"
   ]
  },
  {
   "cell_type": "code",
   "execution_count": null,
   "metadata": {},
   "outputs": [],
   "source": []
  }
 ],
 "metadata": {
  "kernelspec": {
   "display_name": "Java",
   "language": "java",
   "name": "java"
  },
  "language_info": {
   "codemirror_mode": "java",
   "file_extension": ".jshell",
   "mimetype": "text/x-java-source",
   "name": "Java",
   "pygments_lexer": "java",
   "version": "15.0.2+7-27"
  }
 },
 "nbformat": 4,
 "nbformat_minor": 4
}
