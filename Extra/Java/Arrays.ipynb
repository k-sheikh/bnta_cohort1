{
 "cells": [
  {
   "cell_type": "markdown",
   "metadata": {},
   "source": [
    "# Arrays\n",
    "\n",
    "## Array Variable Declaration\n",
    "\n",
    "```\n",
    "dataType[] arrayRefVar;  // Java style syntax (preferred syntax)\n",
    "dataType arrayRefVar[];  // C/C++ style syntax (works but not recommended)\n",
    "```\n",
    "\n",
    "The following statement does three things:\n",
    "* Creates a variable named ```arr``` of type reference to array of integers using ```int arr[]```\n",
    "* Creates an array object containning five integer type elements defaulted to ```0``` using ```new int[5]```\n",
    "* Assigns the array object reference to the variable ```arr```\n",
    "```java\n",
    "    int arr[] = new int[5];\n",
    "```\n",
    "\n",
    "The following statement does two things:\n",
    "* Creates a variable named ```arr``` of type reference to array of integers using ```int arr[]```\n",
    "* Assigns a null reference to the variable ```arr```\n",
    "```java\n",
    "    int arr[];\n",
    "```"
   ]
  },
  {
   "cell_type": "code",
   "execution_count": 23,
   "metadata": {},
   "outputs": [
    {
     "name": "stdout",
     "output_type": "stream",
     "text": [
      "0\n",
      "0\n",
      "0\n",
      "0\n",
      "0\n",
      "class [I\n",
      "5\n",
      "true\n"
     ]
    }
   ],
   "source": [
    "int arr[] = new int[5];\n",
    "for (int element : arr) System.out.println(element);\n",
    "System.out.println(arr.getClass());\n",
    "System.out.println(arr.length);\n",
    "\n",
    "int arr2[];\n",
    "System.out.println(arr2 == null);"
   ]
  },
  {
   "cell_type": "code",
   "execution_count": 6,
   "metadata": {},
   "outputs": [
    {
     "name": "stdout",
     "output_type": "stream",
     "text": [
      "1 2 3 4 1 2 3 \n",
      "3 5 7 \n",
      "1 \n",
      "\n"
     ]
    }
   ],
   "source": [
    "void printList(int[] list) {\n",
    "    for(int i = 0; i < list.length; i++)\n",
    "        System.out.print( list[i] + \" \" );\n",
    "    System.out.println();\n",
    "}\n",
    "\n",
    "int[] list = { 1, 2, 3, 4, 1, 2, 3 };\n",
    "printList(list);\n",
    "\n",
    "printList(new int[] { 3, 5, 7 });\n",
    "\n",
    "list = new int[] { 1 };\n",
    "showList(list);\n",
    "\n",
    "list = new int[] { };\n",
    "showList(list);"
   ]
  },
  {
   "cell_type": "code",
   "execution_count": 3,
   "metadata": {},
   "outputs": [
    {
     "name": "stdout",
     "output_type": "stream",
     "text": [
      "[I@74b788bf\n",
      "[10, 10, 10, 10, 10]\n",
      "[7, 34, 39, 99]\n"
     ]
    }
   ],
   "source": [
    "int [] arrayInt1 = new int[5];\n",
    "Arrays.fill(arrayInt1 , 10);\n",
    "System.out.println(arrayInt1);                  // [I@721b1b75\n",
    "System.out.println(Arrays.toString(arrayInt1)); // [10, 10, 10, 10, 10]\n",
    "\n",
    "int [] arrayInt2 = { 34, 39, 7, 99 };\n",
    "Arrays.sort(arrayInt2 );\n",
    "System.out.println(Arrays.toString(arrayInt2)); // [7, 34, 39, 99]"
   ]
  },
  {
   "cell_type": "markdown",
   "metadata": {},
   "source": [
    "## Multi-Dimensional Arrays"
   ]
  },
  {
   "cell_type": "code",
   "execution_count": 45,
   "metadata": {},
   "outputs": [
    {
     "name": "stdout",
     "output_type": "stream",
     "text": [
      "   0    0    0    0    0    0 \n",
      "   0    1    2    3    4    5 \n",
      "   0    2    4    6    8   10 \n",
      "   0    3    6    9   12   15 \n",
      "   0    4    8   12   16   20 \n"
     ]
    }
   ],
   "source": [
    "int M = 5;\n",
    "int N = 6;\n",
    "int [][] array2D = new int [M][N]; // M = rows N = columns\n",
    "for(int i = 0; i < M; i++) {\n",
    "    for (int j = 0; j < N; j++) {\n",
    "        array2D[i][j] = i * j; \n",
    "    }\n",
    "}\n",
    "for(int i = 0; i < M; i++) {\n",
    "    for (int j = 0; j < N; j++) {\n",
    "        System.out.format(\"%4d \", array2D[i][j]); \n",
    "    }\n",
    "    System.out.println(); \n",
    "}"
   ]
  },
  {
   "cell_type": "markdown",
   "metadata": {},
   "source": [
    "## Jagged Arrays\n",
    "Jagged arrays are multi-dimensional arrays that have a set number of rows but a varying number of columns."
   ]
  },
  {
   "cell_type": "code",
   "execution_count": 52,
   "metadata": {},
   "outputs": [
    {
     "name": "stdout",
     "output_type": "stream",
     "text": [
      "5\n",
      "   0 \n",
      "   0    0    0    0 \n",
      "   0    0    0 \n",
      "   0 \n",
      "   0    0    0    0    0    0 \n",
      "0\n",
      "42\n"
     ]
    }
   ],
   "source": [
    "int[][] arrayJagged = new int[5][]; // initialize jagged array with 5 rows\n",
    "arrayJagged[0] = new int[1]; //creates 1 column  for first row\n",
    "arrayJagged[1] = new int[4]; //creates 4 columns for second row\n",
    "arrayJagged[2] = new int[3]; //creates 3 columns for third row\n",
    "arrayJagged[3] = new int[1]; //creates 1 columns for fourth row\n",
    "arrayJagged[4] = new int[6]; //creates 6 columns for fifth row\n",
    "System.out.println(arrayJagged.length);\n",
    "for(int i = 0; i < arrayJagged.length; i++) {\n",
    "    for (int j = 0; j < arrayJagged[i].length; j++) {\n",
    "        System.out.format(\"%4d \", arrayJagged[i][j]); \n",
    "    }\n",
    "    System.out.println(); \n",
    "}\n",
    "System.out.println(arrayJagged[3][0]);\n",
    "arrayJagged[3][0] = 42;\n",
    "System.out.println(arrayJagged[3][0]);"
   ]
  },
  {
   "cell_type": "markdown",
   "metadata": {},
   "source": [
    "## Arrays in Java: A Reference Guide\n",
    "\n",
    "- https://www.baeldung.com/java-arrays-guide"
   ]
  },
  {
   "cell_type": "code",
   "execution_count": null,
   "metadata": {},
   "outputs": [],
   "source": []
  }
 ],
 "metadata": {
  "kernelspec": {
   "display_name": "Java",
   "language": "java",
   "name": "java"
  },
  "language_info": {
   "codemirror_mode": "java",
   "file_extension": ".jshell",
   "mimetype": "text/x-java-source",
   "name": "Java",
   "pygments_lexer": "java",
   "version": "15.0.2+7-27"
  }
 },
 "nbformat": 4,
 "nbformat_minor": 4
}
