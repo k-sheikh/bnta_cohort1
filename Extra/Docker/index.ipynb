{
 "cells": [
  {
   "cell_type": "markdown",
   "metadata": {},
   "source": [
    "# Docker (30 Minute)\n",
    "\n",
    "**NOTE:** This Docker topic is intentionally very brief. Using Docker to its fullest capabilities requires much more time and effort than is possible in this course. We are only trying to get the basic ideas of what it is, how it works, and some of the terminologies, along with a few of the simplest and most common Docker commands to get you started on learning more on your own. After the course is completed, it is recommended that you continue to study some of the deeper aspects, since Docker is an important tool used by programmers and system administrators.\n"
   ]
  },
  {
   "cell_type": "markdown",
   "metadata": {},
   "source": [
    "## Pre-Read Assignment\n",
    "\n",
    "- Read: https://en.wikipedia.org/wiki/Docker_(software)\n",
    "- Be prepared for in-class discussion on introductory Git topics"
   ]
  },
  {
   "cell_type": "markdown",
   "metadata": {},
   "source": [
    "## Why Use Docker?\n",
    "\n",
    "Docker containers are lightweight portable containers that help software developers and administrators develop and deploy software in a manageable, repeatable, consistent, scalable, and agile way. Because multiple developers can use exactly the same operating system configuration as the other developers on the team, they all benefit from the consistency and homogeneity of their development environment. This consistency also makes it much easier to deploy and scale servers on the cloud, all with exactly identical operating system images. This helps with many could computing deployment challenges, including reliability, scalability and security.\n"
   ]
  },
  {
   "cell_type": "markdown",
   "metadata": {},
   "source": [
    "## Docker vs Traditional VMs\n",
    "\n",
    "Docker uses lightweight OS-level virtualization to run guest operating systems in containers. Instead of virtualizing the entire underlying Virtual Machine, a container runs directly on the underlying host operating system. This makes it more efficient than a traditional hypervisor-based VMs. For example, a container does not need to boot the hosted operating system kernel, so it can start running very quickly. Docker also tends to be more efficient with hardware resources, such as memory consumption and execution time.\n",
    "\n",
    "![Docker conainerd vs VMs](https://i1.wp.com/www.docker.com/blog/wp-content/uploads/Blog.-Are-containers-..VM-Image-1-1024x435.png) See: https://www.docker.com/blog/containers-replacing-virtual-machines\n",
    "\n",
    "Docker can be run on Linux, Mac, and Windows. Docker Desktop\n",
    "\n",
    "The Docker Official Images are a curated set of Docker repositories hosted on Docker Hub. They provide a large number of preconfigured Docker images available for virtually every imaginable purpose. You can create and customize your own docker images as well.\n"
   ]
  },
  {
   "cell_type": "markdown",
   "metadata": {},
   "source": [
    "## Related Tools:\n",
    "\n",
    "- Docker Compose\n",
    "- Docker Swarm\n",
    "- Kubernetes"
   ]
  },
  {
   "cell_type": "markdown",
   "metadata": {},
   "source": [
    "## Installing Docker Desktop\n",
    "\n",
    "Docker is supported on Windows 10, Mac, and Linux.\n",
    "\n",
    "- **NOTE**: Windows 10 requires extra prerequisites:\n",
    "  - Hardware assisted virtualization (enable in Computer BIOS settings)\n",
    "  - Turn Windows features on or off → enable Windows Subsystem for Linux\n",
    "  - Install a Linux distro from Microsoft Store (Ubuntu recommended)\n",
    "- Install Docker Desktop: https://docs.docker.com/get-docker\n",
    "- Run Docker to check installation\n",
    "- ```docker version``` (to display version just installed)\n",
    "- ```docker run hello-world``` (should print \"Hello from Docker!\" to verify that Docker can pull and run images)"
   ]
  },
  {
   "cell_type": "markdown",
   "metadata": {},
   "source": [
    "## Docker Commands\n",
    "\n",
    "- ```docker start [CONTAINER]``` Starts a non-running container\n",
    "- ```docker stop [CONTAINER]``` Stops a running container\n",
    "- ```docker build [URL]``` Create an image from a Dockerfile\n",
    "- ```docker pull [IMAGE]``` Pulls an image from a registry\n",
    "- ```docker push [IMAGE]``` Pushes an image to a registry\n",
    "- ```docker export [OPTIONS] CONTAINER``` Exports a container’s filesystem as a tar archive\n",
    "- ```docker exec [OPTIONS] CONTAINER COMMAND [ARG...]``` Runs a command in a run-time container\n",
    "- ```docker search [OPTIONS] TERM``` Searches Docker Hub for images by TERM\n",
    "- ```docker attach [CONTAINER]``` Attaches to a running container\n",
    "- ```docker commit [CONTAINER] [NEW_IMAGE_NAME]``` Creates animage from a changed container\n",
    "- ```docker rm [CONTAINER]``` Deletes a container (if not running)\n",
    "- ```docker rmi [OPTIONS] IMAGE [IMAGE...]``` Remove one or more images\n",
    "- ```docker images [OPTIONS] [REPOSITORY[:TAG]]``` List local images\n",
    "- ```docker container ls``` List the running containers\n",
    "- ```docker container ls --all``` List all containers (running and stopped)\n",
    "- ```docker network ls``` List networks\n",
    "- ```docker network rm [NETWORK]``` Remove one or more networks\n",
    "- **Docs** https://docs.docker.com/engine/reference/commandline/docker\n",
    "- **Cheat Sheet** https://dockerlabs.collabnix.com/docker/cheatsheet\n",
    "\n",
    "**A few examples**\n",
    "\n",
    "- Search ubuntu images ```docker search ubuntu```\n",
    "- Pull ubuntu:18.04 image ```docker pull ubuntu:18.04```\n",
    "- List images ```docker images```\n",
    "- List containers ```docker container list```\n",
    "- Save image ```docker save -o ubuntu.18.04.tar ubuntu:18.04```\n",
    "- Load image ```docker load --input ubuntu.18.04.tar```\n",
    "- Remove image ```docker rmi ubuntu:18.04```\n",
    "- Push image ```docker login -u docker-registry-username```\n",
    "- Exec container ```docker exec -it container-id bash```\n",
    "- Commit container ```docker commit -m \"message\" -a \"author\" container_id repository/new_image_name```"
   ]
  },
  {
   "cell_type": "markdown",
   "metadata": {},
   "source": [
    "## Try It Out: Docker Demo\n",
    "\n",
    "1. Start Docker Desktop (or play with Docker sandbox: https://labs.play-with-docker.com)\n",
    "2. In the local host shell (DOS or PowerShell on Windows, or Terminal on Mac, or Sandbox):\n",
    "\n",
    "  1. ```docker images``` <- note: no images yet\n",
    "  2. ```docker pull ubuntu```\n",
    "  3. ```docker images``` <- note: ubuntu image \n",
    "  4. ```docker run -i -t ubuntu /bin/bash``` <- note: prompt changes\n",
    "  \n",
    "3. In the Ubuntu:18.04 Bash shell:\n",
    "\n",
    "  1. ```ls``` <- note: file system\n",
    "  2. ```nano hello.sh``` <- note: command not found\n",
    "  3. ```apt update``` <- note: packages updated\n",
    "  4. ```apt install nano```\n",
    "  5. ```nano hello.sh```\n",
    "     ```\n",
    "     #!/bin/bash\n",
    "     echo \"Hello World\"\n",
    "     ```\n",
    "  6. ```ctrl-o``` ```enter```\n",
    "  7. ```ctrl-x```\n",
    "  8. ```./hello.sh``` <- note: permission denied\n",
    "  9. ```chmod +x hello.sh```\n",
    "  10. ```./hello.sh``` <- note: Hello World\n",
    "  11. ```node``` <- note: command not found\n",
    "  12. ```apt install nodejs```\n",
    "  13. ```node```\n",
    "  14. ```3+4``` <- note: 7\n",
    "  15. ```ctrl-c``` ```ctrl-c```\n",
    "  16. ```exit``` <- may have to wait after this for a few minutes before next step\n",
    "  17. ```docker ps -a``` <- note container id\n",
    "  18. ```docker commit -m \"message\" -a \"author\" container_id repository/new_image_name```  \n",
    "      -> ```docker commit -m \"message\" -a \"pct\" 6477af7f5dfe ubuntu/new_ubuntu```  \n",
    "  19. ```docker images``` <- note saved image\n",
    "  20. ```docker run -i -t ubuntu/new_ubuntu /bin/bash```\n",
    "  21. ```./hello.sh``` <- note: Hello World\n",
    "  22. ```exit``` <- back to host command shell"
   ]
  },
  {
   "cell_type": "markdown",
   "metadata": {},
   "source": [
    "## Try It Out: Ubuntu Docker Image with a GUI\n",
    "\n",
    "- Run: ```docker run -p 6080:80 -v /dev/shm:/dev/shm dorowu/ubuntu-desktop-lxde-vnc```\n",
    "- Browse: ```http://127.0.0.1:6080```\n",
    "\n",
    "See: https://github.com/fcwu/docker-ubuntu-vnc-desktop"
   ]
  },
  {
   "cell_type": "markdown",
   "metadata": {},
   "source": [
    "## Lab\n",
    "\n",
    "- Read: **Docker Docs** https://docs.docker.com/get-started/overview\n",
    "- Do: **Docker Tutorial** https://www.docker.com/play-with-docker"
   ]
  },
  {
   "cell_type": "markdown",
   "metadata": {},
   "source": [
    "## Docker Homework\n",
    "\n",
    "- Review the Docker Cheat Sheet: https://www.docker.com/sites/default/files/d8/2019-09/docker-cheat-sheet.pdf\n",
    "- Try the **Docker 101 Tutorial** https://www.docker.com/101-tutorial"
   ]
  },
  {
   "cell_type": "markdown",
   "metadata": {},
   "source": [
    "## Docker Learning Resources\n",
    "\n",
    "- Docker Docs: https://docs.docker.com\n",
    "- Docker Hub: https://hub.docker.com\n",
    "- Docker Educational Resources: https://docs.docker.com/get-started/resources\n",
    "- Play with Docker Online: https://labs.play-with-docker.com"
   ]
  },
  {
   "cell_type": "code",
   "execution_count": null,
   "metadata": {},
   "outputs": [],
   "source": []
  }
 ],
 "metadata": {
  "kernelspec": {
   "display_name": "Python 3",
   "language": "python",
   "name": "python3"
  },
  "language_info": {
   "codemirror_mode": {
    "name": "ipython",
    "version": 3
   },
   "file_extension": ".py",
   "mimetype": "text/x-python",
   "name": "python",
   "nbconvert_exporter": "python",
   "pygments_lexer": "ipython3",
   "version": "3.8.5"
  }
 },
 "nbformat": 4,
 "nbformat_minor": 4
}
