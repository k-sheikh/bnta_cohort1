{
 "cells": [
  {
   "cell_type": "markdown",
   "metadata": {},
   "source": [
    "# Web Assembly (1 Day)\n",
    "\n",
    "WebAssembly (Wasm) is a binary instruction format for a stack-based virtual machine designed as a portable compilation target across programming languages, enabling deployment on the web for client and server applications.\n",
    "\n",
    "See: https://developer.mozilla.org/en-US/docs/WebAssembly\n",
    "\n",
    "- Cross-Language Support\n",
    "- Memory-safe, sandboxed execution environment\n",
    "- Efficient and fast\n",
    "- Supports WASI (WebAssembly System Interface)\n",
    "\n",
    "## Pre-Read Assignment\n",
    "\n",
    "- Explore WebAssembly: https://developer.mozilla.org/en-US/docs/WebAssembly\n",
    "- Be prepared to provide a brief in-class presentation on any of the following terms:\n",
    "\n",
    "## Sandboxed Execution Environment\n",
    "\n",
    "- W3C Standard\n",
    "- Compiled to low-level binary WASM assembly bytecode\n",
    "- Near-native performance alternative to JavaScript\n",
    "- Small binary executable file loads and executes faster than JavaScript\n",
    "- JavaScript APIs: Load/Interoperate\n",
    "- Web and Non-Web Embeddings (Browser and Node)\n",
    "\n",
    "## Cross-Language Support\n",
    "\n",
    "- C/C++\n",
    "- Rust\n",
    "- Go\n",
    "- C#\n",
    "- Kotlin\n",
    "- Swift\n",
    "- AssemblyScript (a TypeScript-like syntax)\n",
    "- F#\n",
    "- D\n",
    "- Pascal\n",
    "- Zig\n",
    "- etc.\n",
    "\n",
    "## Emscripten\n",
    "\n",
    "- https://en.wikipedia.org/wiki/Emscripten\n",
    "- https://developer.mozilla.org/en-US/docs/Mozilla/Projects/Emscripten\n",
    "- https://emscripten.org"
   ]
  },
  {
   "cell_type": "markdown",
   "metadata": {},
   "source": [
    "## Lab\n",
    "\n",
    "- Compiling from Rust to WebAssembly: https://developer.mozilla.org/en-US/docs/WebAssembly/Rust_to_wasm\n",
    "- WebAssembly Tutorial: https://www.tutorialspoint.com/webassembly/index.htm"
   ]
  },
  {
   "cell_type": "markdown",
   "metadata": {},
   "source": [
    "## Homework\n",
    "\n",
    "- WebAssembly for Web Developers (Google I/O ’19)- https://www.youtube.com/watch?v=njt-Qzw0mVY\n",
    "- WebAssembly In Action: https://www.youtube.com/watch?v=DKHuEkmsx3M\n",
    "- Learn Web Assembly (WASM) In 1 Video: https://www.youtube.com/watch?v=LNqicUieSqI\n",
    "- What is WebAssembly? WebAssembly Hello World: https://www.youtube.com/watch?v=jGKjKx2vous\n",
    "- Be prepared to present the code in your homework assignment"
   ]
  },
  {
   "cell_type": "markdown",
   "metadata": {},
   "source": [
    "## Learning Resources\n",
    "\n",
    "- https://developer.mozilla.org/en-US/docs/WebAssembly\n",
    "- https://webassembly.org\n",
    "- https://github.com/mdn/webassembly-examples\n",
    "- https://wasmbyexample.dev/home.en-us.html\n",
    "- https://mbebenita.github.io/WasmExplorer"
   ]
  },
  {
   "cell_type": "code",
   "execution_count": null,
   "metadata": {},
   "outputs": [],
   "source": []
  }
 ],
 "metadata": {
  "kernelspec": {
   "display_name": "Python 3",
   "language": "python",
   "name": "python3"
  },
  "language_info": {
   "codemirror_mode": {
    "name": "ipython",
    "version": 3
   },
   "file_extension": ".py",
   "mimetype": "text/x-python",
   "name": "python",
   "nbconvert_exporter": "python",
   "pygments_lexer": "ipython3",
   "version": "3.8.5"
  }
 },
 "nbformat": 4,
 "nbformat_minor": 4
}
