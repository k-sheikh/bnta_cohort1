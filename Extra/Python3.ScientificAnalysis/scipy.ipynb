{
 "cells": [
  {
   "cell_type": "markdown",
   "metadata": {},
   "source": [
    "## Learning Scientific Programming with Python\n",
    "See: [Learning Scientific Programming with Python by Christian Hill ](https://scipython.com)"
   ]
  },
  {
   "cell_type": "code",
   "execution_count": 1,
   "metadata": {},
   "outputs": [
    {
     "name": "stdout",
     "output_type": "stream",
     "text": [
      "python version: 3.7.6 (default, Jan  8 2020, 20:23:39) [MSC v.1916 64 bit (AMD64)]\n",
      "numpy version: 1.18.1\n",
      "scipy version: 1.4.1\n",
      "matplotlib version: 3.1.3\n"
     ]
    }
   ],
   "source": [
    "import sys\n",
    "import scipy\n",
    "import numpy as np\n",
    "import matplotlib\n",
    "import matplotlib.pyplot as plt\n",
    "\n",
    "print ('python version: ' + sys.version)\n",
    "print('numpy version: ' + np.__version__)\n",
    "print('scipy version: ' + scipy.__version__)\n",
    "print('matplotlib version: ' + matplotlib.__version__)"
   ]
  },
  {
   "cell_type": "code",
   "execution_count": 3,
   "metadata": {},
   "outputs": [
    {
     "name": "stdout",
     "output_type": "stream",
     "text": [
      "Raw fit results:\n",
      "poly([1.92896129 0.0583057 ])\n",
      "[array([2.47932733]), 2, array([1.26633786, 0.62959385]), 2.220446049250313e-15]\n",
      "Fit: A = 0.058[P] + 1.929 (rms residual = 0.4979)\n"
     ]
    },
    {
     "data": {
      "image/png": "[encoded data removed]",
      "text/plain": [
       "<Figure size 432x288 with 1 Axes>"
      ]
     },
     "metadata": {
      "needs_background": "light"
     },
     "output_type": "display_data"
    }
   ],
   "source": [
    "# See: https://scipython.com/book/chapter-6-numpy/examples/finding-a-best-fit-straight-line\n",
    "# Protein concentration A: A=m[P]+A0 where A0 is the absorbance in absence of protein\n",
    "\n",
    "import numpy as np\n",
    "import pylab\n",
    "Polynomial = np.polynomial.Polynomial\n",
    "\n",
    "# The data: conc = [P] and absorbance, A\n",
    "conc = np.array([0, 20, 40, 80, 120, 180, 260, 400, 800, 1500])\n",
    "A = np.array([2.287, 3.528, 4.336, 6.909, 8.274, 12.855, 16.085, 24.797,\n",
    "              49.058, 89.400])\n",
    "\n",
    "cmin, cmax = min(conc), max(conc)\n",
    "pfit, stats = Polynomial.fit(conc, A, 1, full=True, window=(cmin, cmax),\n",
    "                                                    domain=(cmin, cmax))\n",
    "\n",
    "print('Raw fit results:', pfit, stats, sep='\\n')\n",
    "\n",
    "A0, m = pfit\n",
    "resid, rank, sing_val, rcond = stats\n",
    "rms = np.sqrt(resid[0]/len(A))\n",
    "\n",
    "print('Fit: A = {:.3f}[P] + {:.3f}'.format(m, A0), '(rms residual = {:.4f})'.format(rms))\n",
    "\n",
    "pylab.plot(conc, A, 'o', color='k')\n",
    "pylab.plot(conc, pfit(conc), color='k')\n",
    "pylab.xlabel('[P] /$\\mathrm{\\mu g\\cdot mL^{-1}}$')\n",
    "pylab.ylabel('Absorbance')\n",
    "pylab.show()"
   ]
  },
  {
   "cell_type": "code",
   "execution_count": 4,
   "metadata": {},
   "outputs": [
    {
     "name": "stdout",
     "output_type": "stream",
     "text": [
      "[[ 0.8660254 -0.5      ]\n",
      " [ 0.5        0.8660254]]\n"
     ]
    }
   ],
   "source": [
    "# Based on: https://scipython.com/book/chapter-6-numpy/examples/creating-a-rotation-matrix-in-numpy\n",
    "\n",
    "theta = np.radians(30)\n",
    "c, s = np.cos(theta), np.sin(theta)\n",
    "R = np.array(((c, -s), (s, c)))\n",
    "print(R) "
   ]
  },
  {
   "cell_type": "code",
   "execution_count": null,
   "metadata": {},
   "outputs": [],
   "source": []
  }
 ],
 "metadata": {
  "kernelspec": {
   "display_name": "Python 3",
   "language": "python",
   "name": "python3"
  },
  "language_info": {
   "codemirror_mode": {
    "name": "ipython",
    "version": 3
   },
   "file_extension": ".py",
   "mimetype": "text/x-python",
   "name": "python",
   "nbconvert_exporter": "python",
   "pygments_lexer": "ipython3",
   "version": "3.7.6"
  }
 },
 "nbformat": 4,
 "nbformat_minor": 4
}
