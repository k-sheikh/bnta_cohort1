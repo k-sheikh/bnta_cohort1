{
 "cells": [
  {
   "cell_type": "markdown",
   "metadata": {},
   "source": [
    "# Python Day 9 of 10\n",
    "\n",
    "- Big O Notationxxx\n",
    "- Sklearn Linear Model\n",
    "- SciPy"
   ]
  },
  {
   "cell_type": "markdown",
   "metadata": {},
   "source": [
    "## Pre-Read Assignment\n",
    "\n",
    "Search information on the relevant topics on the web or in any of the following resources:\n",
    "\n",
    "  - https://www.brianheinold.net/python/Python_Quick_Reference_Guide_Heinold.pdf\n",
    "  - https://www.brianheinold.net/python/python_book.html\n",
    "  - https://www.brianheinold.net/ds/data_structures_book_v2.html\n",
    "  - https://books.goalkicker.com/PythonBook"
   ]
  },
  {
   "cell_type": "markdown",
   "metadata": {},
   "source": [
    "## Demos\n",
    "\n",
    "1. [Big O Notation](xxx)xxx\n",
    "2. [Sklearn Linear Model](sklearn.linear_model.ipynb)\n",
    "3. [SciPy](scipy.ipynb)"
   ]
  },
  {
   "cell_type": "markdown",
   "metadata": {},
   "source": [
    "## Learning Resources\n",
    "\n",
    "* Undefined Behavior - What Is Big O? https://www.youtube.com/watch?v=MyeV2_tGqvw\n",
    "* William Fiset - Introduction to Big-O https://www.youtube.com/watch?v=zUUkiEllHG0\n",
    "* William Fiset Data - Structures: https://www.youtube.com/playlist?list=PLDV1Zeh2NRsB6SWUrDFW2RmDotAfPbeHu"
   ]
  },
  {
   "cell_type": "markdown",
   "metadata": {},
   "source": [
    "## Labs and Homework\n",
    "\n",
    "- DataCamp Intro Python tutotial at: https://practice.datacamp.com/p/3\n",
    "- Online Code Challenges:\n",
    "  - [exercism.io](https://exercism.io/my/tracks)\n",
    "  - [hackerrank.com](https://www.hackerrank.com)\n",
    "  - [leetcode.com](https://leetcode.com)\n",
    "  - [edabit.com](https://edabit.com/challenges/python3)\n",
    "  - [practicepython.org](https://www.practicepython.org)\n",
    "  - Search for others and if you find a good one, share it with the class)\n",
    "- Interactive Python Exercises and Tutorials:\n",
    "  - [DataCamp to Intro Python](https://www.datacamp.com/courses/intro-to-python-for-data-science)\n",
    "  - [w3resource Python Tutorial](https://www.w3resource.com/python/python-tutorial.php)\n",
    "  - [QueWorx Interactive Python Tutorial](https://www.queworx.com/python/interactive-python-tutorial)\n",
    "  - Search for other exercises and tutorials and if you find a good one, share it with the class)\n",
    "- Try copying and pasting and modifying code examples from online Python books:\n",
    "  - https://www.brianheinold.net/python/Python_Quick_Reference_Guide_Heinold.pdf\n",
    "  - https://www.brianheinold.net/python/python_book.html\n",
    "  - https://www.brianheinold.net/ds/data_structures_book_v2.html\n",
    "  - https://books.goalkicker.com/PythonBook\n",
    "  - Search for other code example sources and if you find a good one, share it with the class)\n",
    "- Try inventing your own code examples from scratch only using the official Python Docs\n",
    "  - https://docs.python.org/3"
   ]
  },
  {
   "cell_type": "code",
   "execution_count": null,
   "metadata": {},
   "outputs": [],
   "source": []
  }
 ],
 "metadata": {
  "kernelspec": {
   "display_name": "Python 3",
   "language": "python",
   "name": "python3"
  },
  "language_info": {
   "codemirror_mode": {
    "name": "ipython",
    "version": 3
   },
   "file_extension": ".py",
   "mimetype": "text/x-python",
   "name": "python",
   "nbconvert_exporter": "python",
   "pygments_lexer": "ipython3",
   "version": "3.8.5"
  }
 },
 "nbformat": 4,
 "nbformat_minor": 4
}
