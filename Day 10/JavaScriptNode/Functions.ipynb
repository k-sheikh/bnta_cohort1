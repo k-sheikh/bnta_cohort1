{
 "cells": [
  {
   "cell_type": "markdown",
   "metadata": {},
   "source": [
    "# Functions\n",
    "\n",
    "* Can be defined with the ```function``` keyword (named or anonymous)\n",
    "* Can be defined using arrow function syntax (ES2015)\n",
    "* Set of statements that perform a task and/or returns a result\n",
    "* If no return statement is executed then function returns ```undefined``` by default\n",
    "* May be named using any valid identifier but usually camel-case naming convention is used\n",
    "* A function is an object that can assign to a variable, passed as an argument, or returned from a function call\n",
    "* To call a function it must be defined in the scope from which it is called\n",
    "* Can be declared to receive any number of parameters\n",
    "* Can be called with any number of arguments\n",
    "    - Receives array-like variable named ```arguments``` containing all arguments actually passed in\n",
    "* A rest parameter is prefixed with ```...``` so that it takes multiple arguments and packs them into a single array parameter\n",
    "* A spread argument is prefixed with ```...``` so that it unpacks a single array argument and spreads them into multiple parameters.\n",
    "* A rest parameter an identifier with three dots (...)\n",
    "* Parameters can be defined with default values (ES2015)\n",
    "* Variable scope and hoisting can be controlled with ```val```, ```let```, ```const```, and ```'use strict';```\n",
    "* The ```this``` keyword behaves a bit differently compared to other languages\n",
    "* The ```yield``` keyword is used in to pause and resume a generator function\n",
    "* Functions can be called synchronously or asynchronously\n",
    "\n",
    "### Terminology: parameters vs. arguments\n",
    "* **Parameters**: received in the function definition (a.k.a. formal parameters or formal arguments)\n",
    "* **Arguments**: passed into the function call (a.k.a. actual parameters or actual arguments)"
   ]
  },
  {
   "cell_type": "code",
   "execution_count": 18,
   "metadata": {},
   "outputs": [
    {
     "name": "stdout",
     "output_type": "stream",
     "text": [
      "Hello\n",
      "42\n",
      "9\n"
     ]
    }
   ],
   "source": [
    "{ // functions can optionally receive parameters and they can optionally return a value\n",
    "function functionWithParameter(x) {\n",
    "    console.log(x);\n",
    "}\n",
    "function functionWithReturn(x) {\n",
    "    return 42;\n",
    "}\n",
    "function functionWithParameterAndReturn(x) {\n",
    "    return x*x;\n",
    "}\n",
    "    \n",
    "functionWithParameter(\"Hello\");             // displays Hello\n",
    "    \n",
    "let result = functionWithReturn();          // returns 42\n",
    "console.log(result);\n",
    "    \n",
    "result = functionWithParameterAndReturn(3); // returns 3*3 -> 9\n",
    "console.log(result);\n",
    "}"
   ]
  },
  {
   "cell_type": "code",
   "execution_count": 29,
   "metadata": {},
   "outputs": [
    {
     "name": "stdout",
     "output_type": "stream",
     "text": [
      "42\n",
      "undefined\n"
     ]
    }
   ],
   "source": [
    "{ // If no return statement is executed then function returns undefined by default\n",
    "\n",
    "function f1 () { return 42; } // explicit return evaluates the expressions and returns result to caller\n",
    "console.log(f1());                 // 42\n",
    "\n",
    "function f2 () {}             // implicit return returns undefined to caller\n",
    "console.log(f2());                 // undefined\n",
    "}"
   ]
  },
  {
   "cell_type": "code",
   "execution_count": 1,
   "metadata": {},
   "outputs": [
    {
     "name": "stdout",
     "output_type": "stream",
     "text": [
      "[Arguments] { '0': 1, '1': 2, '2': 3 }\n",
      "[Arguments] {}\n",
      "Ooops! Missing parameter!!!\n"
     ]
    }
   ],
   "source": [
    "function myfunc(x) {\n",
    "    console.log(arguments);\n",
    "    if (!x) { // this means that missing parameters is not cool\n",
    "        throw new Error('Ooops! Missing parameter!!!');\n",
    "    }\n",
    "}\n",
    "try {\n",
    "myfunc(1, 2, 3);\n",
    "myfunc();        // \n",
    "}\n",
    "catch (err) {\n",
    "    console.log(err.message);\n",
    "}"
   ]
  },
  {
   "cell_type": "markdown",
   "metadata": {},
   "source": [
    "## Functions Can Combine in Several Ways\n",
    "\n",
    "* Function calls can be chained (function calls another function with context pushed on callstack)\n",
    "* Function can be passed in as argument to another function (functional composition)\n",
    "* Function can return a function (known as closure, used for creating objects using functions)\n",
    "* Function can call itself (known as recursion)"
   ]
  },
  {
   "cell_type": "code",
   "execution_count": 11,
   "metadata": {},
   "outputs": [
    {
     "name": "stdout",
     "output_type": "stream",
     "text": [
      "8\n"
     ]
    }
   ],
   "source": [
    "{ // Function calls can be chained (function calls another function with context pushed on callstack)\n",
    "function f(x) {\n",
    "    const temp = x + 1;\n",
    "    return g(temp);\n",
    "}\n",
    "function g(x) {\n",
    "    return x * 2;\n",
    "}\n",
    "let result = f(3);   // call function f which calls function g\n",
    "console.log(result); // 8\n",
    "}"
   ]
  },
  {
   "cell_type": "code",
   "execution_count": 12,
   "metadata": {},
   "outputs": [
    {
     "name": "stdout",
     "output_type": "stream",
     "text": [
      "8\n"
     ]
    }
   ],
   "source": [
    "{ // Function can be passed in as argument to another function (functional composition)\n",
    "function g(x) {\n",
    "    return x + 1;\n",
    "}\n",
    "function f(x) {\n",
    "    return x * 2;\n",
    "}\n",
    "let result = f(g(3)); // f ∘ g\n",
    "console.log(result);  // 8\n",
    "}"
   ]
  },
  {
   "cell_type": "code",
   "execution_count": 59,
   "metadata": {},
   "outputs": [
    {
     "name": "stdout",
     "output_type": "stream",
     "text": [
      "4\n",
      "7\n"
     ]
    }
   ],
   "source": [
    "{ // Function can return a function (known as closure)\n",
    "  // Currying: converting a function with multiple parameters into series of functions that each\n",
    "  // take one parameter\n",
    "function add(x) {\n",
    "    return (y) => {\n",
    "        return x + y;   // Note: value of x is captured in a closure and exists even after add returns\n",
    "    };\n",
    "}\n",
    "let result = add(3)(1); // currying\n",
    "console.log(result);    // 4\n",
    "    \n",
    "const plus2 = add(2);   // Note: 2 remains in the closure after add returns\n",
    "result = plus2(5);      // plus2 adds the value of 2 in the closure to the parameter 5 -> 7\n",
    "console.log(result);    // 7    \n",
    "}\n"
   ]
  },
  {
   "cell_type": "code",
   "execution_count": 83,
   "metadata": {},
   "outputs": [
    {
     "name": "stdout",
     "output_type": "stream",
     "text": [
      "0\n",
      "1\n",
      "1\n",
      "2\n",
      "3\n",
      "5\n",
      "\n",
      "0\n",
      "1\n",
      "1\n",
      "2\n",
      "3\n",
      "5\n"
     ]
    }
   ],
   "source": [
    "{ // Function can call itself (known as recursion)\n",
    "  // Fibonacci sequence: F(n) = F(n-1) + F(n-2)\n",
    "    \n",
    "// first lets look at an iterative fibonacci algorithm (non-recursive)\n",
    "function iterativeFibonacci(n){\n",
    "    var a = 0, b = 1, temp;\n",
    "    while (n >= 0) {\n",
    "        temp = a;\n",
    "        a = a + b;\n",
    "        b = temp;\n",
    "        n--;\n",
    "    }\n",
    "    return b;\n",
    "}\n",
    "    \n",
    "// now lets look at a recursive fibonacci algorithm (non-iterative)\n",
    "function recursiveFibonacci(n) {\n",
    "    if (n === 0) return 0;\n",
    "    if (n <= 2) return 1;\n",
    "    return recursiveFibonacci(n - 1) + recursiveFibonacci(n - 2);\n",
    "}\n",
    "    \n",
    "console.log(iterativeFibonacci(0)); // 0\n",
    "console.log(iterativeFibonacci(1)); // 1\n",
    "console.log(iterativeFibonacci(2)); // 1\n",
    "console.log(iterativeFibonacci(3)); // 2\n",
    "console.log(iterativeFibonacci(4)); // 3\n",
    "console.log(iterativeFibonacci(5)); // 5\n",
    "\n",
    "console.log();\n",
    "    \n",
    "console.log(recursiveFibonacci(0));  // 0\n",
    "console.log(recursiveFibonacci(1));  // 1\n",
    "console.log(recursiveFibonacci(2));  // 1\n",
    "console.log(recursiveFibonacci(3));  // 2\n",
    "console.log(recursiveFibonacci(4));  // 3\n",
    "console.log(recursiveFibonacci(5));  // 5\n",
    "}"
   ]
  },
  {
   "cell_type": "markdown",
   "metadata": {},
   "source": [
    "## Rest Parameters and Spread Arguments\n",
    "\n",
    "* A rest parameter is prefixed with ```...``` so that it takes multiple arguments and packs them into a single array parameter\n",
    "* A spread argument is prefixed with ```...``` so that it unpacks a single array argument and spreads them into multiple parameters."
   ]
  },
  {
   "cell_type": "code",
   "execution_count": 28,
   "metadata": {},
   "outputs": [
    {
     "name": "stdout",
     "output_type": "stream",
     "text": [
      "[ 1, 2, 3 ]\n",
      "6\n",
      "[ 1, 2, 3, 4 ]\n",
      "10\n"
     ]
    }
   ],
   "source": [
    "{ // A rest parameter is prefixed with ```...``` so that it takes multiple arguments and\n",
    "  // packs them into a single array parameter\n",
    "function sum(...args) {\n",
    "    console.log(args);        // [ 1, 2, 3 ] then [ 1, 2, 3, 4 ]\n",
    "    let sum = 0\n",
    "    for (let n in args) {\n",
    "        sum += args[n];\n",
    "    }\n",
    "    return sum;\n",
    "}\n",
    "console.log(sum(1, 2, 3));    // 6\n",
    "console.log(sum(1, 2, 3, 4)); // 10\n",
    "}"
   ]
  },
  {
   "cell_type": "code",
   "execution_count": 33,
   "metadata": {},
   "outputs": [
    {
     "name": "stdout",
     "output_type": "stream",
     "text": [
      "1 2 3\n",
      "6\n",
      "1 2 3\n",
      "6\n"
     ]
    }
   ],
   "source": [
    "{ // a spread argument is prefixed with ... so that it unpacks a single array argument and spreads them into multiple parameters.\n",
    "  // the argument must be an iterable object and the iterated values all become arguments\n",
    "function sum(a, b, c) {\n",
    "    console.log(a, b, c);          // 1 2 3 both times\n",
    "    let sum = a + b + c;\n",
    "    return sum;\n",
    "}\n",
    "console.log(sum(...[1, 2, 3]));    // 6\n",
    "console.log(sum(...[1, 2, 3, 4])); // 6 (the fourth argument is ignored)\n",
    "}"
   ]
  },
  {
   "cell_type": "code",
   "execution_count": 48,
   "metadata": {},
   "outputs": [
    {
     "name": "stdout",
     "output_type": "stream",
     "text": [
      "3\n",
      "60\n"
     ]
    }
   ],
   "source": [
    "{ // example of lambda functions with rest parameters and spread arguments\n",
    "let arrayLength = ((...array) => array.length)(10,20,30); // rest parameters\n",
    "console.log(arrayLength);                                 // 3\n",
    "    \n",
    "let arraySum = ((x,y,z) => x+y+z)(...[10,20,30]);         // spread arguments\n",
    "console.log(arraySum);                                    // 60\n",
    "}"
   ]
  },
  {
   "cell_type": "markdown",
   "metadata": {},
   "source": [
    "## Many Ways to Implement a Function"
   ]
  },
  {
   "cell_type": "code",
   "execution_count": 36,
   "metadata": {},
   "outputs": [
    {
     "name": "stdout",
     "output_type": "stream",
     "text": [
      "true\n",
      "25\n",
      "true\n",
      "7\n",
      "true\n",
      "12\n",
      "true\n",
      "true\n",
      "6\n",
      "8\n",
      "true\n",
      "8\n",
      "7\n",
      "12\n",
      "0.75\n",
      "true\n",
      "true\n",
      "42\n",
      "true\n",
      "13\n",
      "12\n",
      "12\n"
     ]
    }
   ],
   "source": [
    "{ // many ways to implement a function\n",
    "    // named function\n",
    "    function square(a) {                         \n",
    "      return a*a;\n",
    "    }\n",
    "    console.log(square instanceof Function);     // true\n",
    "    console.log(square(5));                      // 25\n",
    "\n",
    "    // anonymous function assigned to variable\n",
    "    let add = function (a, b) {\n",
    "        return a+b;\n",
    "    }\n",
    "    console.log(add instanceof Function);        // true\n",
    "    console.log(add(3, 4));                      // 7\n",
    "\n",
    "    // anonymous arrow function \n",
    "    let multiply = (a, b) => a*b;\n",
    "    console.log(multiply instanceof Function);   // true\n",
    "    console.log(multiply(3, 4));                 // 12\n",
    "    \n",
    "    // object member functions\n",
    "    const obj = { addAsMethod: add, multiplyAsMethod: multiply };\n",
    "    console.log(obj.addAsMethod instanceof Function);      // true\n",
    "    console.log(obj.multiplyAsMethod instanceof Function); // true\n",
    "    console.log(obj.addAsMethod(2, 4));                    // 6\n",
    "    console.log(obj.multiplyAsMethod(2, 4));               // 8\n",
    "    \n",
    "    // return function object\n",
    "    function getFunction() {\n",
    "        return function (a,b) { return a**b;}\n",
    "    }\n",
    "    func = getFunction();\n",
    "    console.log(func instanceof Function);          // true\n",
    "    console.log(func(2, 3));                        // 8\n",
    "    \n",
    "    // callback function passed as parameter\n",
    "    function callCallback(callback, a, b) {\n",
    "        return callback(a, b);\n",
    "    }\n",
    "    console.log(callCallback(add, 3, 4));           // 7\n",
    "    console.log(callCallback(multiply, 3, 4));      // 12\n",
    "    console.log(callCallback((x,y)=>x/y, 3, 4));    // 0.75\n",
    "    \n",
    "    // constructor function for instantiating objects\n",
    "    function ClassFunction (x) {\n",
    "        this.x = x;\n",
    "        this.getUnlucky = function () {return 13;}\n",
    "    }\n",
    "    console.log(ClassFunction instanceof Function); // true\n",
    "    let cf = new ClassFunction(42);\n",
    "    console.log(cf instanceof ClassFunction);       // true\n",
    "    console.log(cf.x);                              // 42\n",
    "    console.log(cf.getUnlucky instanceof Function); // true\n",
    "    console.log(cf.getUnlucky());                   // 13\n",
    "    \n",
    "    // create a function object using the Function constructor function:\n",
    "    const times1 = new Function('a', 'b', 'return a * b');\n",
    "    console.log(times1(3, 4));                      // 12\n",
    "    // the previous code is equivalent to the following:\n",
    "    const times2 = function (a, b) { return a * b };\n",
    "    console.log(times2(3, 4));                      // 12\n",
    "}"
   ]
  },
  {
   "cell_type": "markdown",
   "metadata": {},
   "source": [
    "## The ```arguments``` object\n",
    "\n",
    "* Array-like object accessible inside all non-arrow functions\n",
    "* Contains all argument values passed in to the function call\n",
    "* Allows more or fewer arguments to be passed in than indicated by the declared received parameters\n",
    "* Not a true ```Array``` (lacks all ```Array``` members except ```length```)\n",
    "* Can be converted to a real ```Array```: ```Array.from(arguments)```\n",
    "* ```Array.isArray()``` method determines whether an object is an actual ```Array```\n",
    "* Arrow functions do not bind their own ```this``` (they inherit ```this``` from their lexical parent scope)"
   ]
  },
  {
   "cell_type": "code",
   "execution_count": 5,
   "metadata": {},
   "outputs": [
    {
     "name": "stdout",
     "output_type": "stream",
     "text": [
      "1 1\n",
      "2 2\n",
      "3 3\n",
      "4\n",
      "object\n",
      "false\n",
      "object\n",
      "true\n",
      "\n",
      "object\n",
      "false\n",
      "6\n",
      "\n",
      "10\n",
      "20\n",
      "object\n",
      "true\n",
      "6\n"
     ]
    }
   ],
   "source": [
    "{\n",
    "    function argumentsFunction(a, b, c) {      // recieve 3 parameters\n",
    "        console.log(a, arguments[0]);          // 1\n",
    "        console.log(b, arguments[1]);          // 2\n",
    "        console.log(c, arguments[2]);          // 3\n",
    "        console.log(arguments[3]);             // 4\n",
    "        console.log(typeof arguments);         // object\n",
    "        console.log(Array.isArray(arguments)); // false\n",
    "        let argsArray = Array.from(arguments);\n",
    "        console.log(typeof argsArray);         // object\n",
    "        console.log(Array.isArray(argsArray)); // true\n",
    "    }\n",
    "    argumentsFunction(1, 2, 3, 4);             // pass 4 arguments\n",
    "    console.log();\n",
    "\n",
    "    function argumentsSum() {\n",
    "        console.log(typeof arguments);         // object\n",
    "        console.log(Array.isArray(arguments)); // false\n",
    "        let sum = 0;\n",
    "        for (index in arguments) {\n",
    "            sum += arguments[index];\n",
    "        }\n",
    "        return sum;\n",
    "    }\n",
    "    let sum = argumentsSum(1, 2, 3);\n",
    "    console.log(sum);        // 6\n",
    "    console.log();\n",
    "\n",
    "    function variadicFunction(a, b, ...argsArray) {\n",
    "        console.log(a);                        // 10\n",
    "        console.log(b);                        // 20\n",
    "        console.log(typeof argsArray);         // object\n",
    "        console.log(Array.isArray(argsArray)); // true\n",
    "        let sum = 0;\n",
    "        for (index in argsArray) {\n",
    "            sum += argsArray[index];\n",
    "        }\n",
    "        return sum;\n",
    "    }\n",
    "    console.log(variadicFunction(10, 20, 1, 2, 3)); // 6\n",
    "}"
   ]
  },
  {
   "cell_type": "markdown",
   "metadata": {},
   "source": [
    "## Default Parameters (ES2015)\n",
    "\n",
    "```\n",
    "function [name]([param1[ = defaultValue1 ][, ..., paramN[ = defaultValueN ]]]) {\n",
    "   statements\n",
    "}\n",
    "```"
   ]
  },
  {
   "cell_type": "code",
   "execution_count": 6,
   "metadata": {},
   "outputs": [
    {
     "name": "stdout",
     "output_type": "stream",
     "text": [
      "10\n",
      "10\n",
      "5\n",
      "NaN\n"
     ]
    }
   ],
   "source": [
    "{ // default parameters (ES2015)\n",
    "    function multiply(a, b = 1) {\n",
    "        return a * b;\n",
    "    }\n",
    "    console.log(multiply(5, 2, 77)); // 10\n",
    "    console.log(multiply(5, 2));     // 10\n",
    "    console.log(multiply(5));        // 5\n",
    "    console.log(multiply());         // NaN\n",
    "}"
   ]
  },
  {
   "cell_type": "markdown",
   "metadata": {},
   "source": [
    "## The ```this``` Keyword\n",
    "\n",
    "* The ```this``` keyword is different from many other languages\n",
    "* It behaves differently depending on whether strict mode or sloppy mode is in effect\n",
    "* It behaves differently depending on whether the function is ordinary or arrow\n",
    "* It behaves differently depending on whether the function stand-alone or an object member\n",
    "* The value of ```this``` is often determined by how the function is called (dynamic runtime binding)\n",
    "* The value of ```this``` cannot be assigned (immutable)\n",
    "* You can set the value of ```this``` to a particular value by calling ```call()``` or ```apply()```\n",
    "* ES5 introduced ```bind()``` to set value of this regardless of how function is subsequently called\n",
    "* ES2015 introduced arrow functions which have their own ```this``` binding (uses lexical scope)\n",
    "* Ordinary functions (non arrow functions) do not support lexical scope (scope is dynamic)"
   ]
  },
  {
   "cell_type": "code",
   "execution_count": 25,
   "metadata": {},
   "outputs": [
    {
     "name": "stdout",
     "output_type": "stream",
     "text": [
      "{ prop: 42, method: [Function: method] }\n",
      "42\n",
      "undefined\n"
     ]
    }
   ],
   "source": [
    "{\n",
    "const obj = {\n",
    "    prop: 42,\n",
    "    method: function() {\n",
    "        return this.prop;\n",
    "    }\n",
    "};\n",
    "console.log(obj);           // { prop: 42, method: [Function: method] }\n",
    "console.log(obj.method());  // 42\n",
    "let m = obj.method;\n",
    "console.log(m());           // undefined\n",
    "}"
   ]
  },
  {
   "cell_type": "code",
   "execution_count": 19,
   "metadata": {},
   "outputs": [
    {
     "name": "stdout",
     "output_type": "stream",
     "text": [
      "true\n",
      "true\n"
     ]
    }
   ],
   "source": [
    "{\n",
    "    function f1() {\n",
    "        return this;\n",
    "    }\n",
    "    console.log(f1() === global);       // true (in Node) \n",
    "    //console.log(f1() === window);     // true (in browser)\n",
    "    \n",
    "    function f2() {\n",
    "        'use strict';\n",
    "        return this;\n",
    "    }\n",
    "    console.log(f2() === undefined);   // true (in Node) \n",
    "    //console.log(f2() === undefined); // true (in browser)\n",
    "}"
   ]
  },
  {
   "cell_type": "markdown",
   "metadata": {},
   "source": [
    "## Arrow Functions\n",
    "\n",
    "See: https://developer.mozilla.org/en-US/docs/Web/JavaScript/Reference/Functions/Arrow_functions\n",
    "\n",
    "- Arrow functions provide a concise in-line syntax to define a function as an expression\n",
    "- Arrow functions do not have their own ```this```, ```arguments```, ```super```, or ```new.target```\n",
    "* Arrow functions always have this refer to the object in which the arrow function was defined\n",
    "- Arrow functions support static lexical scope (ordinary functions do not, they use dynamic scope)\n",
    "\n",
    "Here is the basic syntax:\n",
    "\n",
    "* Parentheses are optional if only one parameter\n",
    "* Parentheses are required if no parameters or more than one parameter\n",
    "* Curly braces are optional if just one expression value in body (implied return value)\n",
    "* Curly braces are required if any number of statements are in the body (a block of code)\n",
    "* Here are the possibilities:\n",
    "    - ```(param1, param2, …, paramN) => expression```\n",
    "    - ```(param1, param2, …, paramN) => { statements }```\n",
    "    - ````(singleParam) => { statements }````\n",
    "    - ````singleParam => { statements }````\n",
    "    - ````() => expression````\n",
    "    - ````() => { statements }````"
   ]
  },
  {
   "cell_type": "code",
   "execution_count": 44,
   "metadata": {},
   "outputs": [
    {
     "name": "stdout",
     "output_type": "stream",
     "text": [
      "42\n",
      "6\n",
      "8\n",
      "42\n",
      "10\n",
      "30\n"
     ]
    }
   ],
   "source": [
    "{ // arrow functions\n",
    "const f1 = () => 42;\n",
    "console.log(f1(2, 3));               // 42\n",
    "    \n",
    "const f2 = a => 2*a;\n",
    "console.log(f2(3));                  // 6\n",
    "    \n",
    "const f3 = (a,b) => a**b;\n",
    "console.log(f3(2, 3));               // 8\n",
    "    \n",
    "const f4 = () => { return 42; };\n",
    "console.log(f4(2, 3));               // 42\n",
    "    \n",
    "const f5 = a => { return 2*a; };\n",
    "console.log(f5(5));                  // 10\n",
    "    \n",
    "const f6 = (a,b) => { return a*b; };\n",
    "console.log(f6(5, 6));               // 30 \n",
    "}"
   ]
  },
  {
   "cell_type": "code",
   "execution_count": 5,
   "metadata": {},
   "outputs": [
    {
     "name": "stdout",
     "output_type": "stream",
     "text": [
      "true\n",
      "false\n",
      "[Arguments] { '0': 1, '1': 2, '2': 3 }\n",
      "false\n",
      "true\n"
     ]
    }
   ],
   "source": [
    "{ // Unlike Ordinary functions, arrow functions do not have their own this binding\n",
    "  // and they have no arguments object passed in\n",
    "let myObject = {\n",
    "    myOrdinaryFunction: function (a) {\n",
    "        console.log(this === myObject); // true\n",
    "        console.log(this === global);   // false\n",
    "        console.log(arguments)          //[Arguments] { '0': 1, '1': 2, '2': 3 }\n",
    "    },\n",
    "    myArrowFunction: a => {\n",
    "        console.log(this === myObject); // false\n",
    "        console.log(this === global);   // true\n",
    "        //console.log(arguments);         // ReferenceError: arguments is not defined\n",
    "    }\n",
    "}\n",
    "\n",
    "// test it\n",
    "myObject.myOrdinaryFunction(1, 2, 3);\n",
    "myObject.myArrowFunction(1, 2, 3);\n",
    "}"
   ]
  },
  {
   "cell_type": "code",
   "execution_count": 10,
   "metadata": {},
   "outputs": [
    {
     "name": "stdout",
     "output_type": "stream",
     "text": [
      "undefined\n",
      "Winston\n"
     ]
    }
   ],
   "source": [
    "{ // Arrow functions support static lexical scope (ordinary functions do not, they use dynamic scope)\n",
    "const myObject = {\n",
    "    name: 'Winston',                           // variable defined outside nested functions\n",
    "    myMethod() {                               // contains nested functions\n",
    "        const ordinaryFunction = function () { // no -> lexical scope\n",
    "            console.log(this.name);                 // undefined\n",
    "        };\n",
    "        const arrowFunction = () => {          // yes -> lexical scope\n",
    "            console.log(this.name);                 // Winston\n",
    "        };\n",
    "        ordinaryFunction();                    // call non-arrow method above\n",
    "        arrowFunction();                       // call arrow method above\n",
    "    }\n",
    "}\n",
    "myObject.myMethod();                           // test it out\n",
    "}"
   ]
  },
  {
   "cell_type": "markdown",
   "metadata": {},
   "source": [
    "## The ```Array.prototype.map()``` Method\n",
    "\n",
    "* The ```Array.prototype.map()``` method returns a new array containing results of the provided callback function\n",
    "* The ```map``` method calls the provided callback function once for each element in the source array in sequential order\n",
    "* The provided callback function is applied to every element in the provided array to produce the results\n",
    "* These results are assembled into the new resulting array\n",
    "* Here is the syntax:\n",
    "    - ```let new_array = arr.map(callback( currentValue[, index[, array]]) { // return element }[, thisArg])```\n",
    "\n",
    "* The ```callback``` function is called for every element in arr and each result returned is added to ```new_array```\n",
    "* The provided ```callback``` function accepts the following arguments:\n",
    "    - ```currentValue``` The current element being processed in the original array\n",
    "    - ```index``` (optional) is the index of the current element being processed in the array\n",
    "    - ```array``` (optional) is the array that the ```map``` method was called on\n",
    "    - ```thisArg``` (optional) is the value to use as ```this``` while executing the callback function\n",
    "* The return value is a new array with each element being the result of the callback function"
   ]
  },
  {
   "cell_type": "code",
   "execution_count": 86,
   "metadata": {},
   "outputs": [
    {
     "name": "stdout",
     "output_type": "stream",
     "text": [
      "[ 7, 5, 5, 4 ]\n",
      "[ 'yrucrum', 'sunev', 'htrae', 'sram' ]\n",
      "[ 2, 8, 18, 32 ]\n",
      "[ false, true, false, true ]\n",
      "[ 0, 3, 5, 7 ]\n"
     ]
    }
   ],
   "source": [
    "{\n",
    "const planets = ['murcury','venus','earth','mars'];\n",
    "console.log(planets.map(planet => planet.length));  // [ 7, 5, 5, 4 ]\n",
    "    \n",
    "function reverseString(str) { return str.split(\"\").reverse().join(\"\"); }\n",
    "console.log(planets.map(reverseString));            // [ 'yrucrum', 'sunev', 'htrae', 'sram' ]\n",
    "    \n",
    "const array1 = [1, 4, 9, 16];\n",
    "console.log(array1.map(x => x * 2));                // [ 2, 8, 18, 32 ]\n",
    "console.log(array1.map(x => x%2 === 0));            // [ false, true, false, true ]\n",
    "// produce array of deltas (discrete derivative: https://calculus.subwiki.org/wiki/Discrete_derivative)\n",
    "console.log(array1.map((x, index, array) => index===0?0:x-array[index-1]));  // [ 0, 3, 5, 7 ]\n",
    "}"
   ]
  },
  {
   "cell_type": "markdown",
   "metadata": {},
   "source": [
    "In strict mode, however, if the value of ```this``` is not set when entering an execution context, it remains ```undefined``` "
   ]
  },
  {
   "cell_type": "markdown",
   "metadata": {},
   "source": [
    "## The ```Function.prototype.apply()``` Function\n",
    "\n",
    "**NOTE**: ```Function.prototype.apply()``` is almost identical to ```Function.prototype.call()```. The difference is that ```apply()``` accepts a single array containing all the arguments , whereas ```call()``` accepts a comma separated argument list.\n",
    "\n",
    "Here is the syntax:\n",
    "\n",
    "```func.apply(thisArg, [argsArray])```\n",
    "\n",
    "* The ```thisArg``` argument is the value of ```this``` provided for the call to ```func``` (use the function as a method on an object)\n",
    "* The ```argsArray``` argument (optional) is an array-like object specifying arguments to passed to ```func```\n",
    "* The return value is the result of calling ```func``` with the specified this and argument values"
   ]
  },
  {
   "cell_type": "code",
   "execution_count": 38,
   "metadata": {},
   "outputs": [
    {
     "name": "stdout",
     "output_type": "stream",
     "text": [
      "Ms. Sally Jones 73 Head Honcho\n",
      "Mr. Joe Smith 92 Master Planner\n",
      "undefined undefined undefined undefined undefined\n"
     ]
    }
   ],
   "source": [
    "{\n",
    "function greet(title, role) {\n",
    "    console.log(title, this.firstName, this.lastName, this.age, role);\n",
    "}\n",
    "const sally = {\n",
    "    firstName: 'Sally', lastName: 'Jones', age: 73\n",
    "};\n",
    "const joe = {\n",
    "    firstName: 'Joe', lastName: 'Smith', age: 92\n",
    "};\n",
    "\n",
    "// invoke greet function as method, where this set to the sally object, and with parameters\n",
    "greet.apply(sally, [\"Ms.\", \"Head Honcho\"]);  // Ms. Sally Jones 73 Head Honcho\n",
    "\n",
    "// invoke greet function as method, where this set to the sally object, and with parameters\n",
    "greet.apply(joe, [\"Mr.\", \"Master Planner\"]); // Mr. Joe Smith 92 Master Planner\n",
    "\n",
    "// invoke greet function with this undefined and parameters undefined (not very useful)\n",
    "greet()                                      // undefined undefined undefined undefined undefined\n",
    "}"
   ]
  },
  {
   "cell_type": "markdown",
   "metadata": {},
   "source": [
    "## The ```Function.prototype.call()``` Function\n",
    "\n",
    "**NOTE**: ```Function.prototype.call()``` is almost identical to ```Function.prototype.apply()```. The difference is that ```call()``` accepts a comma separated argument list, whereas ```apply()``` accepts a single array containing all the arguments.\n",
    "\n",
    "Here is the syntax:\n",
    "\n",
    "```func.call([thisArg[, arg1, arg2, ...argN]])```\n",
    "\n",
    "* ```thisArg``` is an optional value to use as this when calling func\n",
    "* ```arg1```, ```arg2```,... ```argN``` are the optional arguments for the function"
   ]
  },
  {
   "cell_type": "code",
   "execution_count": 39,
   "metadata": {},
   "outputs": [
    {
     "name": "stdout",
     "output_type": "stream",
     "text": [
      "Ms. Sally Jones 73 Head Honcho\n",
      "Mr. Joe Smith 92 Master Planner\n",
      "undefined undefined undefined undefined undefined\n"
     ]
    }
   ],
   "source": [
    "{\n",
    "function greet(title, role) {\n",
    "    console.log(title, this.firstName, this.lastName, this.age, role);\n",
    "}\n",
    "const sally = {\n",
    "    firstName: 'Sally', lastName: 'Jones', age: 73\n",
    "};\n",
    "const joe = {\n",
    "    firstName: 'Joe', lastName: 'Smith', age: 92\n",
    "};\n",
    "\n",
    "// invoke greet function as method, where this set to the sally object, and with parameters\n",
    "greet.call(sally, \"Ms.\", \"Head Honcho\");  // Ms. Sally Jones 73 Head Honcho\n",
    "    \n",
    "// invoke greet function as method, where this set to the sally object, and with parameters\n",
    "greet.call(joe, \"Mr.\", \"Master Planner\");    // Mr. Joe Smith 92 Master Planner\n",
    "    \n",
    "// invoke greet function with this undefined and parameters undefined (not very useful)\n",
    "greet()                      // undefined undefined undefined undefined undefined\n",
    "}"
   ]
  },
  {
   "cell_type": "markdown",
   "metadata": {},
   "source": [
    "## The ```Function.prototype.bind()``` Function\n",
    "\n",
    "* Creates a new function object that (when called) has ```this``` set to the specified object\n",
    "* A sequence of optional arguments can be prepended to arguments provided to the newly-bound function\n",
    "\n",
    "Here is the syntax:\n",
    "\n",
    "```let boundFunc = func.bind(thisArg[, arg1[, arg2[, ...argN]]])```\n",
    "\n",
    "* ```thisArg``` is the value to be passed as the ```this``` parameter to the target function when the bound function is called\n",
    "* ```arg1, arg2, ...argN``` optional arguments to prepend to arguments provided to the bound function when function is called"
   ]
  },
  {
   "cell_type": "code",
   "execution_count": 62,
   "metadata": {},
   "outputs": [
    {
     "name": "stdout",
     "output_type": "stream",
     "text": [
      "obj1.methodGetX() returns: 10\n",
      "unboundMethodGetX() returns: undefined\n",
      "boundMethodGetX() returns: 10\n",
      "boundsomeFunc() returns: 77\n"
     ]
    }
   ],
   "source": [
    "{\n",
    "const obj1 = {\n",
    "    x: 10,\n",
    "    methodGetX: function() {\n",
    "        return this.x;\n",
    "    }\n",
    "};\n",
    "    \n",
    "console.log(\"obj1.methodGetX() returns:\", obj1.methodGetX());     // 10\n",
    "    \n",
    "const unboundMethodGetX = obj1.methodGetX;\n",
    "console.log(\"unboundMethodGetX() returns:\", unboundMethodGetX()); // undefined\n",
    "\n",
    "const boundMethodGetX = unboundMethodGetX.bind(obj1);\n",
    "console.log(\"boundMethodGetX() returns:\", boundMethodGetX());     // 10\n",
    "    \n",
    "const obj2 = {\n",
    "    x: 77,\n",
    "};\n",
    "    \n",
    "const unboundFunction = function () { return this.x; }\n",
    "const boundsomeFunction= unboundFunction.bind(obj2);\n",
    "console.log(\"boundsomeFunc() returns:\", boundsomeFunction());     // 77\n",
    "}"
   ]
  },
  {
   "cell_type": "markdown",
   "metadata": {},
   "source": [
    "## Iterators and  Generators\n",
    "\n",
    "See: https://developer.mozilla.org/en-US/docs/Web/JavaScript/Guide/Iterators_and_Generators\n",
    "\n",
    "### Iterators \n",
    "\n",
    "* There are many ways to iterate over collections, such as using for loops or array methods, etc.\n",
    "* In contrast, iterators and generators bring iteration into JavaScript as core language feature\n",
    "* An iterator is an object that provides a sequence values until they are all consumed\n",
    "* All iterator objects must implement the ```Iterator``` interface \n",
    "* The ```Iterator``` interface specifies the ```next()``` method that returns a value with two properties:\n",
    "    - The ```value``` property is the next value in iteration sequence (if any are still available)\n",
    "    - The ```done``` property is true if last value has already been consumed (nothing left)\n",
    "* The items are fetched in sequence by repeatedly calling ```next()```\n",
    "* When ```next()``` has nothing more to ```yield```, it returns the object ```{done: true}```\n",
    "* The most commonly used iterator object is the ```Array``` iterator\n",
    "* Arrays allocate memory in their entirety, but iterators dynamically generate data on demand (memory efficient)\n",
    "\n",
    "### Generators\n",
    "\n",
    "* Custom iterators are great but they are complex to implement (maintaining internal state, etc.)\n",
    "* Generator functions make it easy to define this iterative mechanism in a simple single function\n",
    "* Generator functions do not execute in a continuous manner (they stop and start using the ```yield``` keyword)\n",
    "* Calling a generator does not directly execute their code, but instead, it returns a special type of iterator called a generator\n",
    "* Calling the generator's next method causes the generator function to execute until it encounters the ```yield``` keyword\n",
    "* The ```yield``` keyword causes the generator function to yield the next value to the caller\n",
    "    - But it does not actually terminate and return from the function\n",
    "    - Instead, it remains paused but available for subsequent calls to ```next```\n",
    "* Generator functions are written using the ```function*``` syntax"
   ]
  },
  {
   "cell_type": "code",
   "execution_count": 87,
   "metadata": {},
   "outputs": [
    {
     "name": "stdout",
     "output_type": "stream",
     "text": [
      "0\n",
      "1\n",
      "4\n",
      "9\n",
      "16\n",
      "undefined\n",
      "\n",
      "[ 0, 1, 1, 2, 3, 5, 8, 13, 21, 34 ]\n",
      "\n",
      "0\n",
      "2\n",
      "4\n",
      "6\n",
      "8\n",
      "10\n",
      "\n",
      "0\n",
      "2\n",
      "4\n",
      "6\n",
      "8\n",
      "10\n"
     ]
    }
   ],
   "source": [
    "{\n",
    "function* squares(index) {\n",
    "    while (index < 5) {\n",
    "        yield index*index;\n",
    "        index++;\n",
    "    }\n",
    "}\n",
    "const iterator = squares(0);\n",
    "console.log(iterator.next().value);              // 0\n",
    "console.log(iterator.next().value);              // 1\n",
    "console.log(iterator.next().value);              // 4\n",
    "console.log(iterator.next().value);              // 9\n",
    "console.log(iterator.next().value);              // 16\n",
    "console.log(iterator.next().value);              // undefined\n",
    "\n",
    "console.log();\n",
    "    \n",
    "function* fibonacci(n) {\n",
    "    const infinite = !n && n !== 0;\n",
    "    let current = 0;\n",
    "    let next = 1;\n",
    "\n",
    "    while (infinite || n--) {\n",
    "    yield current;\n",
    "    [current, next] = [next, current + next];\n",
    "    }\n",
    "}\n",
    "let [...first10] = fibonacci(10);\n",
    "console.log(first10);                          // [ 0, 1, 1, 2, 3, 5, 8, 13, 21, 34 ]\n",
    "    \n",
    "console.log();\n",
    "    \n",
    "function* makeRangeIterator(start = 0, end = 100, step = 1) {\n",
    "    let iterationCount = 0;\n",
    "    for (let i = start; i <= end; i += step) {\n",
    "        iterationCount++;\n",
    "        yield i;\n",
    "    }\n",
    "    return iterationCount;\n",
    "}\n",
    "    \n",
    "let rangeIterator = makeRangeIterator(0, 10, 2);  // get an iterator\n",
    "while(true) {\n",
    "    let next = rangeIterator.next();\n",
    "    if (next.done) break;\n",
    "    console.log(next.value);                      // even numbers from 0 to 10\n",
    "}\n",
    "    \n",
    "console.log();\n",
    "    \n",
    "rangeIterator = makeRangeIterator(0, 10, 2);      // get a new one for freash start\n",
    "for (const next of rangeIterator) {\n",
    "    console.log(next);\n",
    "}\n",
    "}"
   ]
  },
  {
   "cell_type": "markdown",
   "metadata": {},
   "source": [
    "## Async Functions: The ```async``` and ```await``` Keywords\n",
    "\n",
    "**NOTE**: JavaScript is single threaded so asynchronous style programming is crucial\n",
    "\n",
    "* An ```async``` function returns a ```Promise``` rather than immediately returning the result\n",
    "* A ```Promise``` will attempt to provide a result in the future (but it might reject it instead)\n",
    "* The ```async``` keyword can be applied to any function that returns a ```Promise```\n",
    "* The ```await``` keyword only works within an ```async``` function\n",
    "* The ```await``` keyword pauses code execution on that line until the ```Promise``` fulfills\n",
    "* While waiting, other code that may need to execute can proceed execution\n",
    "\n",
    "Three syntax styles for defining ```async``` functions:\n",
    "\n",
    "* ```async function f() {}```\n",
    "* ```let f = async function () {}```\n",
    "* ```let f = async () => {}```\n",
    "\n",
    "Here is one style in more detail:\n",
    "\n",
    "``\n",
    "async function [name]([param1[, param2[, ..., paramN]]]) {\n",
    "   statements\n",
    "}\n",
    "``"
   ]
  },
  {
   "cell_type": "code",
   "execution_count": 92,
   "metadata": {},
   "outputs": [
    {
     "name": "stdout",
     "output_type": "stream",
     "text": [
      "Hi\n",
      "Hi\n"
     ]
    }
   ],
   "source": [
    "{ // A toy example just to show basic syntax\n",
    "async function sayHello() {\n",
    "    const result = await Promise.resolve(\"Hi\"); // this function blocks here until promise completes\n",
    "    return result;                              // execution resumes here when promise completes\n",
    "};\n",
    "sayHello().then((value) => console.log(value))  // Hi (full syntax)\n",
    "sayHello().then(console.log);                   // Hi (shorthand syntax)\n",
    "}"
   ]
  },
  {
   "cell_type": "code",
   "execution_count": 104,
   "metadata": {},
   "outputs": [
    {
     "name": "stdout",
     "output_type": "stream",
     "text": [
      "222\n",
      "111\n"
     ]
    }
   ],
   "source": [
    "{ // A more interesting example (but a real world example would not just do a delay like this)\n",
    "  // Based on: https://developer.mozilla.org/en-US/docs/Web/JavaScript/Reference/Operators/async_function\n",
    "function resolveAfter2Seconds(x) {                 // function returns Promise (just delay 2 seconds)\n",
    "    return new Promise(resolve => {\n",
    "        setTimeout(() => {\n",
    "            resolve(x);\n",
    "        }, 2000);\n",
    "    });\n",
    "};\n",
    "\n",
    "const add = async function(x) { // async function expression assigned to a variable\n",
    "    let a = await resolveAfter2Seconds(10);        // two sequential waits -> 4 seconds\n",
    "    let b = await resolveAfter2Seconds(100);\n",
    "    let sum = x + a + b;\n",
    "    return sum;                                    // return 1 + 10 + 100 -> 111\n",
    "};\n",
    "\n",
    "add(1).then(result => {\n",
    "    console.log(result);                           // prints 111 (after 4 seconds)\n",
    "});\n",
    "\n",
    "(async function(x) { // async function expression used as an IIFE\n",
    "    let p_a = resolveAfter2Seconds(20);\n",
    "    let p_b = resolveAfter2Seconds(200);\n",
    "    let sum = x + await p_a + await p_b;           // two concurrent waits -> 2 seconds\n",
    "    return sum;                                    // return 2 + 20 + 200 -> 222\n",
    "})(2).then(result => {\n",
    "    console.log(result);                           // prints 222 (after 2 seconds)\n",
    "});\n",
    "}"
   ]
  },
  {
   "cell_type": "markdown",
   "metadata": {},
   "source": [
    "## Async Generator Functions"
   ]
  },
  {
   "cell_type": "code",
   "execution_count": 121,
   "metadata": {},
   "outputs": [
    {
     "name": "stdout",
     "output_type": "stream",
     "text": [
      "1\n",
      "2\n",
      "3\n",
      "4\n"
     ]
    }
   ],
   "source": [
    "{\n",
    "async function* asyncGenerateNumberSequence(start, end) {\n",
    "    for (let n = start; n <= end; n++) {\n",
    "        await new Promise(resolve => setTimeout(resolve, 1000));\n",
    "        yield n;\n",
    "    }\n",
    "}\n",
    "\n",
    "async function foo() {\n",
    "    for await (let n of asyncGenerateNumberSequence(1, 4)) { // wait needs to be in async function\n",
    "        console.log(n); // displays 1 to 4\n",
    "    }\n",
    "}\n",
    "    \n",
    "foo();\n",
    "}"
   ]
  },
  {
   "cell_type": "markdown",
   "metadata": {},
   "source": [
    "## IFEEs\n",
    "\n",
    "* An IIFE (Immediately Invoked Function Expression) runs as soon as it is defined\n",
    "* IIFEs are usually anonymous functions because external code has no need to access it\n",
    "* Before ES6, IFEEs were used to simulate block scope\n",
    "* Before ES6 JavaScript only had global scope and function scope (no block scope)\n",
    "* An IFEE function is immediately executed, providing a handy ad hoc function scope container\n",
    "* But IFEEs are an ugly hack, and ES6 now supports block scope (```let``` and ```const```)\n",
    "* So IFEEs are pretty much deprecated now (but you may need to deal with it in legacy code)"
   ]
  },
  {
   "cell_type": "code",
   "execution_count": 122,
   "metadata": {},
   "outputs": [
    {
     "name": "stdout",
     "output_type": "stream",
     "text": [
      "Joe\n",
      "Sally\n",
      "Joe\n"
     ]
    }
   ],
   "source": [
    "var x = \"Joe\";       // Joe (scope is outside anonymous IFEE function)\n",
    "console.log(x);\n",
    "(function () {\n",
    "    var x = \"Sally\"; // Sally (scope is inside anonymous IFEE function now)\n",
    "    console.log(x);\n",
    "})();\n",
    "console.log(x);      // Joe (scope is outside anonymous IFEE function again)"
   ]
  },
  {
   "cell_type": "code",
   "execution_count": null,
   "metadata": {},
   "outputs": [],
   "source": []
  }
 ],
 "metadata": {
  "kernelspec": {
   "display_name": "Javascript (Node.js)",
   "language": "javascript",
   "name": "javascript"
  },
  "language_info": {
   "file_extension": ".js",
   "mimetype": "application/javascript",
   "name": "javascript",
   "version": "10.13.0"
  }
 },
 "nbformat": 4,
 "nbformat_minor": 2
}
