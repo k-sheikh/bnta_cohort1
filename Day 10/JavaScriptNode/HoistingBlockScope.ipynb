{
 "cells": [
  {
   "cell_type": "markdown",
   "metadata": {},
   "source": [
    "# Hoisting vs Block Scope\n",
    "\n",
    "* The ```var``` keyword (legacy) declares a function or global scope (hoisted) variable that is optionally initialized\n",
    "* The ```let``` keyword (ES2015) declares a block scope (not hoisted) variable that is optionally initialized\n",
    "* The ```const``` keyword (ES2015) declares a block scope (not hoisted) immutable variable that must be initialized"
   ]
  },
  {
   "cell_type": "markdown",
   "metadata": {},
   "source": [
    "## Hoisting"
   ]
  },
  {
   "cell_type": "code",
   "execution_count": 13,
   "metadata": {},
   "outputs": [
    {
     "name": "stdout",
     "output_type": "stream",
     "text": [
      "1\n",
      "2\n",
      "2\n",
      "\n",
      "20\n",
      "30\n",
      "30\n",
      "2\n"
     ]
    }
   ],
   "source": [
    "var x = 1;              // global scope\n",
    "console.log(x);         // 1\n",
    "if (x === 1) {\n",
    "    var x = 2;          // hoisted to global scope\n",
    "    console.log(x);     // 2\n",
    "}\n",
    "console.log(x);         // 2\n",
    "\n",
    "console.log();\n",
    "\n",
    "function foo() {\n",
    "    var x = 20;\n",
    "    console.log(x);     // 20\n",
    "    if (x === 20) {\n",
    "        var x = 30;     // hoisted to function scope\n",
    "        console.log(x); // 30\n",
    "    }\n",
    "    console.log(x);     // 30\n",
    "}\n",
    "foo();\n",
    "console.log(x);         // 20"
   ]
  },
  {
   "cell_type": "markdown",
   "metadata": {},
   "source": [
    "## Block Scope"
   ]
  },
  {
   "cell_type": "code",
   "execution_count": 14,
   "metadata": {},
   "outputs": [
    {
     "name": "stdout",
     "output_type": "stream",
     "text": [
      "1\n",
      "2\n",
      "1\n",
      "\n",
      "20\n",
      "30\n",
      "20\n",
      "1\n"
     ]
    }
   ],
   "source": [
    "{\n",
    "    let x = 1;              // block scope\n",
    "    console.log(x);         // 1\n",
    "    if (x === 1) {\n",
    "        let x = 2;          // block scope\n",
    "        console.log(x);     // 2\n",
    "    }\n",
    "    console.log(x);         // 1\n",
    "\n",
    "    console.log();\n",
    "\n",
    "    function foo() {\n",
    "        let x = 20;\n",
    "        console.log(x);     // 20\n",
    "        if (x === 20) {\n",
    "            let x = 30;     // block scope\n",
    "            console.log(x); // 30\n",
    "        }\n",
    "        console.log(x);     // 20\n",
    "    }\n",
    "    foo();\n",
    "    console.log(x);         // 1\n",
    "}"
   ]
  },
  {
   "cell_type": "code",
   "execution_count": 19,
   "metadata": {},
   "outputs": [
    {
     "name": "stdout",
     "output_type": "stream",
     "text": [
      "42\n",
      "43\n",
      "42\n"
     ]
    },
    {
     "ename": "TypeError",
     "evalue": "Assignment to constant variable.",
     "output_type": "error",
     "traceback": [
      "evalmachine.<anonymous>:9",
      "    theAnswer = 3.141592;           // TypeError: Assignment to constant variable.",
      "              ^",
      "",
      "TypeError: Assignment to constant variable.",
      "    at evalmachine.<anonymous>:9:15",
      "    at Script.runInThisContext (vm.js:96:20)",
      "    at Object.runInThisContext (vm.js:303:38)",
      "    at run ([eval]:1054:15)",
      "    at onRunRequest ([eval]:888:18)",
      "    at onMessage ([eval]:848:13)",
      "    at process.emit (events.js:182:13)",
      "    at emit (internal/child_process.js:812:12)",
      "    at process._tickCallback (internal/process/next_tick.js:63:19)"
     ]
    }
   ],
   "source": [
    "{\n",
    "    const theAnswer = 42;           // outer block scope\n",
    "    console.log(theAnswer);         // 42\n",
    "    {\n",
    "        const theAnswer = 43;       // inner block scope\n",
    "        console.log(theAnswer);     // 43\n",
    "    }\n",
    "    console.log(theAnswer);         // 42\n",
    "    theAnswer = 3.141592;           // TypeError: Assignment to constant variable.\n",
    "}"
   ]
  },
  {
   "cell_type": "code",
   "execution_count": 22,
   "metadata": {},
   "outputs": [
    {
     "name": "stdout",
     "output_type": "stream",
     "text": [
      "1\n",
      "2\n",
      "1\n"
     ]
    }
   ],
   "source": [
    "// block-scoped function definitions\n",
    "{\n",
    "    function foo () { return 1; }\n",
    "    console.log(foo());               // 1\n",
    "    {\n",
    "        function foo () { return 2; }\n",
    "        console.log(foo());           // 2\n",
    "    }\n",
    "    console.log(foo());               // 1\n",
    "}"
   ]
  },
  {
   "cell_type": "code",
   "execution_count": null,
   "metadata": {},
   "outputs": [],
   "source": []
  }
 ],
 "metadata": {
  "kernelspec": {
   "display_name": "Javascript (Node.js)",
   "language": "javascript",
   "name": "javascript"
  },
  "language_info": {
   "file_extension": ".js",
   "mimetype": "application/javascript",
   "name": "javascript",
   "version": "10.13.0"
  }
 },
 "nbformat": 4,
 "nbformat_minor": 2
}
