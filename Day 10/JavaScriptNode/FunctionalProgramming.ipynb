{
 "cells": [
  {
   "cell_type": "markdown",
   "metadata": {},
   "source": [
    "# Functional Programming\n",
    "\n",
    "**NOTE**: Any meaningful program will have to contain some impure functions to be useful.\n",
    "\n",
    "* Functional Programming makes exclusive use of pure functions\n",
    "* Pure functions only return a value and never make changes to program state (immutability)\n",
    "* Pure functions never do file or console IO (no side effects)\n",
    "* A pure function always gives the same return value for the same arguments (deterministic)\n",
    "* Functional Programming makes use of recursion rather than iteration\n",
    "* Functional programs are easier to unit test (avoids need for state mocking)\n",
    "* Functional programs are easier to run in a parallel execution environment (scalable performance)\n",
    "* Functional programs are easier to reason about and debug\n",
    "* Pure function return value can be cached or \"memoized\" to avoid recomputing overhead (performance)\n",
    "* Function composition: ```f(g(x))```\n",
    "* Higher-order functions: functions that can be passed as an argument just like any other value\n",
    "* Currying: taking a function with n arguments and turning it into n functions with one argument\n",
    "* Use the ```const``` keyword to prevent primitive values from being mutated\n",
    "* Use the ```Object.freeze()``` method to prevent an object from being mutated\n",
    "* Functional programming avoids traditional procedural constructs:\n",
    "    - Avoid object mutation (```obj.x=42```)\n",
    "    - Avoid loops (```while```, ```do,..while```, ```for```, ```for...of```, ```for...in```)\n",
    "    - Avoid mutable variable declarations (use ```const``` rather than ```var``` or ```let```)\n",
    "    - Avoid impure functions that mutate state\n",
    "    - Avoid functions that return ```void``` (should alwats return a resulting value)\n",
    "    - Avoid Array mutator methods (```copyWithin```, ```fill```, ```pop```, ```push```, ```reverse```, ```shift```, ```sort```, ```splice```, ```unshift```)\n",
    "    - Avoid Map mutator methods ```clear```, ```delete```, ```set```)\n",
    "    - Avoid Set mutator methods ```add```, ```clear```, ```delete```)\n",
    "    - Avoid calls to impure function (```console.log()```, ```Date.now()```, ```Math.random()```, etc.)"
   ]
  },
  {
   "cell_type": "code",
   "execution_count": null,
   "metadata": {},
   "outputs": [],
   "source": [
    "function callBack () {\n",
    "    console.log(\"callBack called\");\n",
    "}\n",
    "\n",
    "function functionThatTakesCallBack(cb) {\n",
    "    console.log(\"functionThatTakesCallBack called\");\n",
    "    cb();\n",
    "}\n",
    "\n",
    "functionThatTakesCallBack(callBack);"
   ]
  },
  {
   "cell_type": "code",
   "execution_count": 6,
   "metadata": {},
   "outputs": [
    {
     "name": "stdout",
     "output_type": "stream",
     "text": [
      "12\n"
     ]
    }
   ],
   "source": [
    "{\n",
    "function multiplyPure(a, b) {    // pure function\n",
    "  return a * b;\n",
    "}\n",
    "console.log(multiplyPure(3, 4)); // non-pure code calling a pure function\n",
    "}"
   ]
  },
  {
   "cell_type": "code",
   "execution_count": 6,
   "metadata": {},
   "outputs": [
    {
     "name": "stdout",
     "output_type": "stream",
     "text": [
      "4\n"
     ]
    }
   ],
   "source": [
    "{\n",
    "let counter = 0;                   // mutable program state external to function\n",
    "function incrementCountNonPure() { // non-pure function\n",
    "    counter++;                     // mutates program state\n",
    "}\n",
    "incrementCountNonPure();           // calling non-pure function\n",
    "incrementCountNonPure();           // calling non-pure function\n",
    "incrementCountNonPure();           // calling non-pure function\n",
    "incrementCountNonPure();           // calling non-pure function\n",
    "console.log(counter);              // 4\n",
    "}"
   ]
  },
  {
   "cell_type": "code",
   "execution_count": 8,
   "metadata": {},
   "outputs": [
    {
     "name": "stdout",
     "output_type": "stream",
     "text": [
      "4\n"
     ]
    }
   ],
   "source": [
    "{\n",
    "function incrementCountPure(counter = 0) { // pure function\n",
    "    counter++;                             // mutate internal function variable (not program state)\n",
    "    return counter;\n",
    "}\n",
    "const result = incrementCountPure(         // calling pure function\n",
    "    incrementCountPure(                    // calling pure function\n",
    "    incrementCountPure(                    // calling pure function\n",
    "    incrementCountPure())));               // calling pure function\n",
    "console.log(result);                       // 4\n",
    "}"
   ]
  },
  {
   "cell_type": "code",
   "execution_count": null,
   "metadata": {},
   "outputs": [],
   "source": []
  }
 ],
 "metadata": {
  "kernelspec": {
   "display_name": "Javascript (Node.js)",
   "language": "javascript",
   "name": "javascript"
  },
  "language_info": {
   "file_extension": ".js",
   "mimetype": "application/javascript",
   "name": "javascript",
   "version": "10.13.0"
  }
 },
 "nbformat": 4,
 "nbformat_minor": 4
}
