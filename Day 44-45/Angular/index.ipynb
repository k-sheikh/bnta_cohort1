{
 "cells": [
  {
   "cell_type": "markdown",
   "metadata": {},
   "source": [
    "# Angular (2 Day)\n",
    "\n",
    "- Angular is a front-end framework build and maintained by Google\n",
    "- **Angular 2+ (7)** should not to be confused with **AngularJS**\n",
    "- It is a Single Page Application **(SPA)**\n",
    "- TypeScript-based modulare client-side web development framework\n",
    "- Developed in **TypeScript** (can be written in plain JavaScript but not recommended)\n",
    "- Close to MVC architecture\n",
    "- Great **CLI** to create components and services on the fly.\n",
    "- Binding syntax: ```[ ]``` for property binding and ```( )``` for event binding (2-ways data binding)\n",
    "- It uses **Observables** instead of promises to handle asynchronicity, they’re open data streams. They are part of **RxJS**"
   ]
  },
  {
   "cell_type": "markdown",
   "metadata": {},
   "source": [
    "## Topics\n",
    "\n",
    "\n",
    "- **Components**\n",
    "- **Services**\n",
    "- **Modules (NgModule)**\n",
    "- **Observable**\n",
    "- **Pipe**\n",
    "- **Routing**\n",
    "- **RxJS**\n",
    "- **Lifecycle Hook**\n",
    "- **Data Binding**\n",
    "- **Form (Module)**\n",
    "- **HTTP Client (Module)**\n",
    "- **Angular CLI** > https://angular.io/cli\n",
    "\n",
    "- Animation\n",
    "- AOT (ahead-of-time compilation)\n",
    "- API Reference\n",
    "- Binding\n",
    "- Decorator\n",
    "- Dependency Injection (DI)\n",
    "- Directive (attribute directives vs structural directives)\n",
    "- Eager Loading\n",
    "- Immutability\n",
    "- JIT (just-in-time compilation)\n",
    "- Lazy Loading\n",
    "- Material\n",
    "- Metadata\n",
    "- Schematic\n",
    "- Server-side Rendering\n",
    "- Service Worker\n",
    "- Template\n",
    "- Testing"
   ]
  },
  {
   "source": [
    "## Getting Started\n",
    "- https://angular.io/guide/setup-local\n",
    "\n",
    "### Video Tutorials\n",
    "- Angular Crash Course > https://youtu.be/Fdf5aTYRW0E\n",
    "- Angular Tutorial for Beginners: Learn Angular & TypeScript > https://youtu.be/k5E2AVpwsko"
   ],
   "cell_type": "markdown",
   "metadata": {}
  },
  {
   "cell_type": "markdown",
   "metadata": {},
   "source": [
    "## Angular Documentation\n",
    "\n",
    "- Angular Docs: https://angular.io/docs\n",
    "- TypeScript: https://www.typescriptlang.org)\n",
    "- Setup: https://angular.io/guide/setup-local)\n",
    "- Cheat Sheet: https://angular.io/guide/cheatsheet)\n",
    "- Angular Concepts: https://angular.io/guide/architecture)\n",
    "- Getting Started: https://angular.io/start)\n",
    "- Tour of Heroes app and tutorial: https://angular.io/tutorial)\n",
    "- Angular Material: https://material.angular.io/components/categories)\n",
    "- Angular CLI: https://cli.angular.io)\n",
    "- Modules: https://angular.io/guide/architecture-modules)\n",
    "- Components: https://angular.io/guide/architecture-components)\n",
    "- Templates: https://angular.io/guide/template-syntax)\n",
    "- Binding Syntax: https://angular.io/guide/binding-syntax)\n",
    "- Decorators: https://angular-2-training-book.rangle.io/features/typescript/decorators)\n",
    "- Property Binding: https://angular.io/guide/property-binding)\n",
    "- Event Binding: https://angular.io/guide/event-binding-concepts)\n",
    "- Attribute and Structural Directives: https://angular.io/guide/attribute-directives)\n",
    "- Attribute and Structural Directives: https://angular.io/guide/structural-directives)\n",
    "- Component Life Cycle Hooks: https://angular.io/guide/lifecycle-hooks)\n",
    "- Services and Dependency Injection: https://angular.io/guide/architecture-services)\n",
    "- Http and Observable Services: https://angular.io/guide/http)\n",
    "- Template Binding Syntax: https://angular.io/guide/template-syntax)\n",
    "- Angular and RxJS: https://angular.io/guide/rx-library)\n",
    "- Reactive Forms: https://angular.io/guide/reactive-forms)\n",
    "- Validators: https://angular.io/api/forms/Validators)\n",
    "- Jasmine Unit Testing: https://angular.io/guide/testing)"
   ]
  },
  {
   "cell_type": "markdown",
   "metadata": {},
   "source": [
    "## Pre-Read Assignment\n",
    "\n",
    "- Read: https://angular.io/guide/glossary\n",
    "- Be prepared to provide a brief in-class presentation on any of the following terms:"
   ]
  },
  {
   "cell_type": "markdown",
   "metadata": {},
   "source": [
    "## Angular Playgrounds\n",
    "\n",
    "- https://codesandbox.io/s/angular\n",
    "- https://stackblitz.com"
   ]
  },
  {
   "cell_type": "markdown",
   "metadata": {},
   "source": [
    "## Main Building Blocks\n",
    "\n",
    "![Main building blocks of an Angular application](https://angular.io/generated/images/guide/architecture/overview2.png)\n",
    "See: https://angular.io/generated/images/guide/architecture/overview2.png\n",
    "\n",
    "- **Modules** ```NgModule``` groups functionality for re-usable **directives**, **components**, **services**, etc.\n",
    "- **Components** typescript class with properties, methods, and events, implements a re-usable page UI component\n",
    "  - ```@Component()``` decorator identifies class immediately below it as a component\n",
    "  - ```@Component()``` decorator provides the template and related component-specific metadata\n",
    "- **Templates** User interface template that renders the HTML page\n",
    "  - Template combines HTML with Angular markup that can modify HTML elements before being displayed\n",
    "  - Template directive provide program logic and binding markup that connect with the DOM\n",
    "- **Metadata** Decorators that provide data about about code \n",
    "- **Data Binding** Synchronization between data model and DOM that comes in two flavors\n",
    "  - **Event binding** notifies the app to respond to user input to update your application data\n",
    "  - **Property binding** notifies the app to interpolate computed values into HTML\n",
    "- **Directives** Expand functionality of Component:\n",
    "  - **Structural Directive**\n",
    "  - **Attribute Directive**\n",
    "  - **Component Directive**\n",
    "- **Services** Support re-use of code across the application via Dependancy Injection\n",
    "  - For data or logic that is not associated with a specific view\n",
    "  - Can be share across components\n",
    "  - ```@Injectable() decorator``` immediately precedes a service class definition\n",
    "  - ```@Injectable() decorator``` provides metadata that allows service to be dependency injected into the class\n",
    "- **Dependency Injection** Design pattern that enhances dynamic modularity\n",
    "  - fetch data from the server\n",
    "  - validate user input\n",
    "  - log to console\n",
    "  - etc.\n",
    "- **Routing** provides service for navigation among application states and view hierarchies\n",
    "  - Router maps URL-like paths to views in pages (not directly to pages)\n",
    "- See: https://angular.io/guide/architecture"
   ]
  },
  {
   "cell_type": "markdown",
   "metadata": {},
   "source": [
    "## Components \n",
    "\n",
    "- Components are modules that implement a view (based on HTML templates and CSS styles)\n",
    "- Can contain child components\n",
    "- Can use directives\n",
    "- Can use services"
   ]
  },
  {
   "cell_type": "markdown",
   "metadata": {},
   "source": [
    "## Online Example Apps\n",
    "\n",
    "See: https://angular.io/guide/example-apps-list\n",
    "\n",
    "- Getting started application: https://stackblitz.com/angular/emepamgebag?file=src%2Fapp%2Fproduct-list%2Fproduct-list.component.html\n",
    "- Launching your app: https://stackblitz.com/angular/vvjromkgeyv?file=src%2Fapp%2Fapp.component.ts\n",
    "- Structure of Angular applications: https://stackblitz.com/angular/jlymaaqmlky?file=src%2Fapp%2Fhero-list.component.html      \n",
    "- Setting the document title: https://stackblitz.com/angular/rygjkeonjbg?file=src%2Fapp%2Fapp.component.ts\n",
    "- Tour of Heroes: completed application: https://stackblitz.com/angular/lmgvmjmllprd?file=src%2Fapp%2Fhero.service.ts\n",
    "- Animations: https://stackblitz.com/angular/mjarpkvkpdp?file=src%2Fapp%2Fapp.component.ts\n",
    "- Attribute directives: https://stackblitz.com/angular/gqpjmrmkmrb?file=src%2Fapp%2Fhighlight.directive.ts\n",
    "- Binding syntax: https://stackblitz.com/angular/rxakkdgydoa?file=src%2Fapp%2Fapp.component.ts\n",
    "- Built-in directives: https://stackblitz.com/angular/kkoxvngvylk?file=src%2Fapp%2Fapp.component.ts\n",
    "- Built-in template functions: https://stackblitz.com/angular/vmopmypylag?file=src%2Fapp%2Fapp.component.ts\n",
    "- Interpolation: https://stackblitz.com/angular/vmopmypylag?file=src%2Fapp%2Fapp.component.ts\n",
    "- Pipes: https://stackblitz.com/angular/ayxpvovndlk?file=src%2Fapp%2Fapp.component.html\n",
    "- Property binding: https://stackblitz.com/angular/nvpmepgedogk?file=src%2Fapp%2Fapp.component.ts\n",
    "- Structural directives: https://stackblitz.com/angular/ynoqaomkjvg?file=src%2Fapp%2Fapp.component.ts\n",
    "- Two-way binding: https://stackblitz.com/angular/mdoajvvgygm?file=src%2Fapp%2Fapp.component.ts\n",
    "- Template syntax: https://stackblitz.com/angular/onamblrvnrq?file=src%2Fapp%2Fapp.component.html\n",
    "- User input: https://stackblitz.com/angular/bbjrejnpbeg?file=src%2Fapp%2Fapp.component.html\n",
    "- Component interaction: https://stackblitz.com/angular/bndmvnppxdb?file=src%2Fapp%2Fapp.component.html\n",
    "- Event binding: https://stackblitz.com/angular/qvkroavqljx?file=src%2Fapp%2Fapp.component.ts\n",
    "- ```@Input()``` and ```@Output()```: https://stackblitz.com/angular/enjaoeljlrm?file=src%2Fapp%2Fapp.component.ts\n",
    "- Lifecycle hooks: https://stackblitz.com/angular/dnbamjokvgxb?file=src%2Fapp%2Fapp.component.html\n",
    "- Dependency injection fundamentals: https://stackblitz.com/angular/xeprqpyrvka?file=src%2Fapp%2Fapp.component.ts\n",
    "- Forms overview: https://stackblitz.com/angular/oerqkaompve?file=src%2Fapp%2Fapp.component.ts\n",
    "- Reactive forms: https://stackblitz.com/angular/kgdrrxgybmp?file=src%2Fapp%2Fapp.component.ts\n",
    "- Template-driven forms:https://stackblitz.com/angular/arvdxldyvlj?file=src%2Fapp%2Fhero-form%2Fhero-form.component.html\n",
    "- ```NgModule```: https://stackblitz.com/angular/anovqaeopyy?file=src%2Fapp%2Fapp.module.ts\n",
    "- Router: https://stackblitz.com/angular/qypdxgpopxp?file=src%2Fapp%2Fapp-routing.module.ts\n",
    "- ```HttpClient```: https://stackblitz.com/angular/eybndejvnxx?file=src%2Fapp%2Fapp.component.ts"
   ]
  },
  {
   "cell_type": "markdown",
   "metadata": {},
   "source": [
    "## Try It Out: Getting started with Angular\n",
    "\n",
    "- Getting started with Angular: https://angular.io/start"
   ]
  },
  {
   "cell_type": "markdown",
   "metadata": {},
   "source": [
    "## Material\n",
    "\n",
    "- https://material.angular.io/"
   ]
  },
  {
   "cell_type": "markdown",
   "metadata": {},
   "source": [
    "## Lab\n",
    "\n",
    "- Tutorial - Tour of Heroes: https://angular.io/tutorial\n",
    "- Tutorial - Using Angular routes in a single-page application: https://angular.io/guide/router-tutorial\n",
    "- Tutorial - Building a template-driven form: - https://angular.io/guide/forms"
   ]
  },
  {
   "cell_type": "markdown",
   "metadata": {},
   "source": [
    "## Angular Homework\n",
    "\n",
    "- Tutorial: https://www.freecodecamp.org/news/learn-how-to-create-your-first-angular-app-in-20-min-146201d9b5a7/\n",
    "- Tutorial: https://www.techiediaries.com/angular/angular-9-tutorial-and-example/\n",
    "- On your Own: Create an Angular app that implements a game, such as **Tic-Tac-Toe**\n",
    "- Be prepared to present the working code in class"
   ]
  },
  {
   "cell_type": "markdown",
   "metadata": {},
   "source": [
    "## Angular Learning Resources\n",
    "\n",
    "- https://angular.io\n",
    "- https://angular.io/guide/example-apps-list\n",
    "- https://angular.io/start"
   ]
  },
  {
   "cell_type": "code",
   "execution_count": null,
   "metadata": {},
   "outputs": [],
   "source": []
  }
 ],
 "metadata": {
  "kernelspec": {
   "display_name": "Python 3",
   "language": "python",
   "name": "python3"
  },
  "language_info": {
   "codemirror_mode": {
    "name": "ipython",
    "version": 3
   },
   "file_extension": ".py",
   "mimetype": "text/x-python",
   "name": "python",
   "nbconvert_exporter": "python",
   "pygments_lexer": "ipython3",
   "version": "3.8.5"
  }
 },
 "nbformat": 4,
 "nbformat_minor": 4
}