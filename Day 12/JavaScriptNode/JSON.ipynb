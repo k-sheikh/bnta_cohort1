{
 "cells": [
  {
   "cell_type": "markdown",
   "metadata": {},
   "source": [
    "# JSON (JavaScript Object Notation)\n",
    "\n",
    "See: https://developer.mozilla.org/en-US/docs/Web/JavaScript/Reference/Global_Objects/JSON  \n",
    "See: https://developer.mozilla.org/en-US/docs/Learn/JavaScript/Objects/JSON  \n",
    "See: https://en.wikipedia.org/wiki/JSON\n",
    "See: https://www.json.org/json-en.html  \n",
    "\n",
    "Tutorial: https://javascript.info/json  \n",
    "\n",
    "* The ```JSON``` object has methods for parsing and stringifying objects with JSON\n",
    "* Property names must be double-quoted strings and trailing commas are forbidden\n",
    "* ```JSON.parse(text[, reviver])``` parses the text string as JSON\n",
    "* ```JSON.stringify(value[, replacer[, space]])* ``` returns a JSON string for the specified value\n"
   ]
  },
  {
   "cell_type": "code",
   "execution_count": 11,
   "metadata": {},
   "outputs": [
    {
     "name": "stdout",
     "output_type": "stream",
     "text": [
      "{} string\n",
      "{} 'object'\n",
      "{\"a\":2, \"b\":2} string\n",
      "{ a: 2, b: 2 } 'object'\n"
     ]
    }
   ],
   "source": [
    "{\n",
    "let jsonString = '{}';\n",
    "console.log(jsonString, typeof(jsonString)); // {} string\n",
    "let jsonObject = JSON.parse(jsonString);\n",
    "console.log(jsonObject, typeof(jsonObject)); // {} 'object'\n",
    "    \n",
    "jsonString = '{\"a\":2, \"b\":2}';\n",
    "console.log(jsonString, typeof(jsonString)); // {\"a\":2, \"b\":2} string\n",
    "jsonObject = JSON.parse(jsonString);\n",
    "console.log(jsonObject, typeof(jsonObject)); // { a: 2, b: 2 } 'object'\n",
    "}"
   ]
  },
  {
   "cell_type": "code",
   "execution_count": 14,
   "metadata": {},
   "outputs": [
    {
     "name": "stdout",
     "output_type": "stream",
     "text": [
      "{} 'object'\n",
      "{} 'string'\n",
      "{\"a\":2, \"b\":2} string\n",
      "\"{\\\"a\\\":2, \\\"b\\\":2}\" string\n"
     ]
    }
   ],
   "source": [
    "{\n",
    "let jsonObject = {};\n",
    "console.log(jsonObject, typeof(jsonObject)); // {} 'object'\n",
    "let jsonString = JSON.stringify(jsonObject);\n",
    "console.log(jsonObject, typeof(jsonString)); // {} 'string'\n",
    "    \n",
    "jsonObject = '{\"a\":2, \"b\":2}';\n",
    "console.log(jsonObject, typeof(jsonObject)); // {\"a\":2, \"b\":2} string\n",
    "jsonString = JSON.stringify(jsonObject);\n",
    "console.log(jsonString, typeof(jsonString)); // \"{\\\"a\\\":2, \\\"b\\\":2}\" string\n",
    "}"
   ]
  },
  {
   "cell_type": "code",
   "execution_count": 18,
   "metadata": {},
   "outputs": [
    {
     "name": "stdout",
     "output_type": "stream",
     "text": [
      "{\"kids\":[{\"name\":\"Jack\",\"age\":42},{\"name\":\"Jill\",\"age\":13}]}\n"
     ]
    }
   ],
   "source": [
    "{\n",
    "let jsonObject = {\n",
    "    \"kids\":[\n",
    "      {\"name\":\"Jack\", \"age\":42},\n",
    "      {\"name\":\"Jill\", \"age\":13},\n",
    "    ]\n",
    "}\n",
    "console.log(JSON.stringify(jsonObject)); // {\"kids\":[{\"name\":\"Jack\",\"age\":42},{\"name\":\"Jill\",\"age\":13}]}\n",
    "}"
   ]
  },
  {
   "cell_type": "code",
   "execution_count": null,
   "metadata": {},
   "outputs": [],
   "source": []
  }
 ],
 "metadata": {
  "kernelspec": {
   "display_name": "Javascript (Node.js)",
   "language": "javascript",
   "name": "javascript"
  },
  "language_info": {
   "file_extension": ".js",
   "mimetype": "application/javascript",
   "name": "javascript",
   "version": "10.13.0"
  }
 },
 "nbformat": 4,
 "nbformat_minor": 4
}
