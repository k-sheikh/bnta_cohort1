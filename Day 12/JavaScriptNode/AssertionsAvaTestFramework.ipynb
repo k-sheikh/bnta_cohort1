{
 "cells": [
  {
   "cell_type": "markdown",
   "metadata": {},
   "source": [
    "# Assertions and the Ava Test Framework\n",
    "\n",
    "See: https://nodejs.org/api/assert.html  \n",
    "See: https://github.com/avajs/ava  \n",
    "See: https://exploringjs.com/impatient-js/ch_assertion-api.html  \n",
    "See: https://www.w3schools.com/nodejs/met_assert.asp  \n",
    "See: https://github.com/avajs/ava  \n",
    "\n",
    "* An assertion verifies a required fact in code that must be true to proceed\n",
    "* An assertion throws an AssertionError if the assertion is not true\n",
    "* Often used to implement self-testing code and for documenting required or expected state"
   ]
  },
  {
   "cell_type": "markdown",
   "metadata": {},
   "source": [
    "## The ```assert``` Module\n",
    "\n",
    "The ```assert``` module provides a set of assertion functions for verifying invariants:\n",
    "\n",
    "* ``` function equal(actual: any, expected: any, message?: string): void```\n",
    "expects ```actual === expected``` or an ```AssertionError``` is thrown\n",
    "* ```function notEqual(actual: any, expected: any, message?: string): void``` expects \n",
    "```actual !== expected``` or an ```AssertionError``` is thrown\n",
    "* ```function deepEqual(actual: any, expected: any, message?: string): void```  expects \"deeply equality\" or an ```AssertionError``` is thrown\n",
    "* ```assert.notDeepEqual(obj, obj)``` expects not \"deeply equality\" or an ```AssertionError``` is thrown\n",
    "* ```function throws(block: Function, message?: string): void``` expects function to throw an error or an ```AssertionError``` is thrown\n",
    "* ```function fail(message: string | Error): never``` throws an ```AssertionError``` with provided error message or a default error message\n",
    "* etc."
   ]
  },
  {
   "cell_type": "code",
   "execution_count": 10,
   "metadata": {},
   "outputs": [],
   "source": [
    "assert.equal(2 + 2, 4); // true -> no error thrown"
   ]
  },
  {
   "cell_type": "code",
   "execution_count": 11,
   "metadata": {},
   "outputs": [
    {
     "ename": "AssertionError [ERR_ASSERTION]",
     "evalue": "4 == 5",
     "output_type": "error",
     "traceback": [
      "assert.js:85",
      "  throw new AssertionError(obj);",
      "  ^",
      "",
      "AssertionError [ERR_ASSERTION]: 4 == 5",
      "    at evalmachine.<anonymous>:1:8",
      "    at Script.runInThisContext (vm.js:96:20)",
      "    at Object.runInThisContext (vm.js:303:38)",
      "    at run ([eval]:1054:15)",
      "    at onRunRequest ([eval]:888:18)",
      "    at onMessage ([eval]:848:13)",
      "    at process.emit (events.js:182:13)",
      "    at emit (internal/child_process.js:812:12)",
      "    at process._tickCallback (internal/process/next_tick.js:63:19)"
     ]
    }
   ],
   "source": [
    "assert.equal(2 + 2, 5); // false -> no error thrown"
   ]
  },
  {
   "cell_type": "code",
   "execution_count": 13,
   "metadata": {},
   "outputs": [],
   "source": [
    "assert.notEqual(3+3, 22); // true -> no error thrown"
   ]
  },
  {
   "cell_type": "code",
   "execution_count": 15,
   "metadata": {},
   "outputs": [],
   "source": [
    "assert.deepEqual([1,2,3], [1,2,3]);  // true -> no error thrown\n",
    "assert.deepEqual([], []);            // true -> no error thrown"
   ]
  },
  {
   "cell_type": "code",
   "execution_count": 12,
   "metadata": {},
   "outputs": [],
   "source": [
    "function id(x) {\n",
    "    return x;\n",
    "}\n",
    "assert.equal(id('abc'), 'abc');      // testing function works properly"
   ]
  },
  {
   "cell_type": "code",
   "execution_count": 16,
   "metadata": {},
   "outputs": [],
   "source": [
    "assert.throws(() => {null.prop;});   //   // true -> no error thrown"
   ]
  },
  {
   "cell_type": "code",
   "execution_count": 17,
   "metadata": {},
   "outputs": [
    {
     "ename": "AssertionError [ERR_ASSERTION]",
     "evalue": "Failed",
     "output_type": "error",
     "traceback": [
      "assert.js:127",
      "  throw err;",
      "  ^",
      "",
      "AssertionError [ERR_ASSERTION]: Failed",
      "    at evalmachine.<anonymous>:1:8",
      "    at Script.runInThisContext (vm.js:96:20)",
      "    at Object.runInThisContext (vm.js:303:38)",
      "    at run ([eval]:1054:15)",
      "    at onRunRequest ([eval]:888:18)",
      "    at onMessage ([eval]:848:13)",
      "    at process.emit (events.js:182:13)",
      "    at emit (internal/child_process.js:812:12)",
      "    at process._tickCallback (internal/process/next_tick.js:63:19)"
     ]
    }
   ],
   "source": [
    "assert.fail();                       // throws AssertionError"
   ]
  },
  {
   "cell_type": "markdown",
   "metadata": {},
   "source": [
    "## Ava Test Runner\n",
    "\n",
    "1. In console command window -> make new directory and make it current directory  \n",
    "2. Run command -> ```npm install --save-dev ava```  \n",
    "3. In the new directory create a file -> ```test.js```:  \n",
    "\n",
    "```javascript\n",
    "// test.js\n",
    "\n",
    "const test = require('ava');\n",
    "const assert = require('assert');\n",
    "const hello = require('./hello');\n",
    "\n",
    "test('foo', t => {\n",
    "    t.pass();\n",
    "});\n",
    "\n",
    "test('bar', async t => {\n",
    "    const bar = Promise.resolve('bar');\n",
    "    t.is(await bar, 'bar');\n",
    "});\n",
    "\n",
    "test('hello', t => {\n",
    "    assert.equal(hello.hello('world'), 'Hello world!');\n",
    "    assert.equal(hello.hello('Jane'), 'Hello Jane!');\n",
    "    assert.equal(hello.hello('John'), 'Hello John!');\n",
    "    assert.equal(hello.hello(''), 'Hello !');\n",
    "    t.pass();\n",
    "});\n",
    "```\n",
    "4. In the new directory create a file -> ```hello.js``` :  \n",
    "\n",
    "```javascript\n",
    "// hello.js\n",
    "\n",
    "exports.hello = (who) => \"Hello \" + who + \"!\";\n",
    "```\n",
    "5. Run command -> ```npx ava```  \n",
    "6. View output:  \n",
    "```\n",
    "    3 tests passed\n",
    "```"
   ]
  },
  {
   "cell_type": "code",
   "execution_count": null,
   "metadata": {},
   "outputs": [],
   "source": []
  }
 ],
 "metadata": {
  "kernelspec": {
   "display_name": "Javascript (Node.js)",
   "language": "javascript",
   "name": "javascript"
  },
  "language_info": {
   "file_extension": ".js",
   "mimetype": "application/javascript",
   "name": "javascript",
   "version": "10.13.0"
  }
 },
 "nbformat": 4,
 "nbformat_minor": 4
}
