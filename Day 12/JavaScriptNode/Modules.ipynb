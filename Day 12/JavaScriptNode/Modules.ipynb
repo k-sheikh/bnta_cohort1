{
 "cells": [
  {
   "cell_type": "markdown",
   "metadata": {},
   "source": [
    "# Modules\n",
    "\n",
    "See: https://developer.mozilla.org/en-US/docs/Web/JavaScript/Guide/Modules  \n",
    "See: https://www.freecodecamp.org/news/javascript-modules-a-beginner-s-guide-783f7d7a5fcc  \n",
    "See: https://javascript.info/modules-intro  \n",
    "\n",
    "* Each module is a single file\n",
    "* Modules can be obtained from other files using ```require``` (CommonJS) or ```import``` (ES6)\n",
    "* The ```require``` function loads a CommonJS modules (traditionally used by Node.js)\n",
    "* The ```import``` keyword is how ES6 modules are loaded (newer than CommonJS, node needs Babel)\n",
    "\n",
    "myModule.mjs\n",
    "main.mjs\n"
   ]
  },
  {
   "cell_type": "code",
   "execution_count": 2,
   "metadata": {},
   "outputs": [
    {
     "name": "stdout",
     "output_type": "stream",
     "text": [
      "7\n",
      "12\n"
     ]
    }
   ],
   "source": [
    "/*\n",
    "// myCommonJSModule.js\n",
    "exports.addNumbers = (x,y) => x+y;\n",
    "exports.multiplyNumbers = (x,y) => x*y;\n",
    "*/\n",
    "\n",
    "{\n",
    "const myCommonJSModule = require('./modules/myCommonJSModule');\n",
    "console.log(myCommonJSModule.addNumbers(3, 4));                 // 7\n",
    "console.log(myCommonJSModule.multiplyNumbers(3, 4));            // 12\n",
    "}"
   ]
  },
  {
   "cell_type": "code",
   "execution_count": null,
   "metadata": {},
   "outputs": [],
   "source": []
  }
 ],
 "metadata": {
  "kernelspec": {
   "display_name": "Javascript (Node.js)",
   "language": "javascript",
   "name": "javascript"
  },
  "language_info": {
   "file_extension": ".js",
   "mimetype": "application/javascript",
   "name": "javascript",
   "version": "10.13.0"
  }
 },
 "nbformat": 4,
 "nbformat_minor": 2
}
