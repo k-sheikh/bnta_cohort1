{
 "cells": [
  {
   "cell_type": "markdown",
   "metadata": {},
   "source": [
    "# Numbers\n",
    "\n",
    "See: https://developer.mozilla.org/en-US/docs/Web/JavaScript/Reference/Global_Objects/Number\n",
    "\n",
    "* The Number type is an IEEE 754 64-bit double-precision binary format value\n",
    "* Numbers can range from -(2^53−1) to 2^53−1"
   ]
  },
  {
   "cell_type": "markdown",
   "metadata": {},
   "source": [
    "## Special Number Values\n",
    "\n",
    "* ```Number.MAX_VALUE``` is the maximum value that can be represented\n",
    "* ```Number.MIN_VALUE```is the minimum value that can be represented\n",
    "* ```Number.MIN_SAFE_INTEGER``` is ```-(2^53 - 1)```\n",
    "* ```Number.MAX_SAFE_INTEGER``` is ```+(2^53 - 1)```\n",
    "* ```Number.EPSILON``` is the smallest interval between representable numbers (numeric precision)\n",
    "* ```Number.NaN``` is the special \"not-a-number\" value\n",
    "* ```Number.POSITIVE_INFINITY``` is the special value positive infinity (overflow)\n",
    "* ```Number.NEGATIVE_INFINITY``` is the special value negative infinity (overflow)"
   ]
  },
  {
   "cell_type": "code",
   "execution_count": null,
   "metadata": {},
   "outputs": [],
   "source": [
    "console.log(Number.MAX_VALUE);         // 1.7976931348623157e+308\n",
    "console.log(Number.MIN_VALUE);         // 5e-324\n",
    "console.log(Number.MIN_SAFE_INTEGER);  // -9007199254740991\n",
    "console.log(Number.MAX_SAFE_INTEGER);  // 9007199254740991\n",
    "console.log(Number.EPSILON);           // 2.220446049250313e-16\n",
    "console.log(Number.NaN);               // NaN\n",
    "console.log(NaN);                      // NaN\n",
    "console.log(Number.NEGATIVE_INFINITY); // -Infinity\n",
    "console.log(-Infinity);                // -Infinity\n",
    "console.log(Number.POSITIVE_INFINITY)  // Infinity\n",
    "console.log(Infinity);                 // Infinity"
   ]
  },
  {
   "cell_type": "markdown",
   "metadata": {},
   "source": [
    "### Static Numer Methods\n",
    "\n",
    "* ```Number.isNaN()``` determine if passed value is NaN\n",
    "* ```Number.isFinite()``` determine if passed value is finite\n",
    "* ```Number.isInteger()``` determine if passed value is integer\n",
    "* ```Number.isSafeInteger()``` determine if passed value is in safe integer range\n",
    "* ```Number.parseFloat(string)``` same as global parseFloat() function\n",
    "* ```Number.parseInt(string, [radix])``` same as global parseInt() function"
   ]
  },
  {
   "cell_type": "code",
   "execution_count": 6,
   "metadata": {},
   "outputs": [
    {
     "name": "stdout",
     "output_type": "stream",
     "text": [
      "true\n",
      "false\n",
      "true\n",
      "true\n",
      "2500\n",
      "15\n"
     ]
    }
   ],
   "source": [
    "console.log(Number.isNaN(0/0));               // true\n",
    "console.log(Number.isFinite(1/0));            // false\n",
    "console.log(Number.isInteger(42.0));          // true\n",
    "console.log(Number.isSafeInteger(42));        // true\n",
    "console.log(Number.parseFloat(\"2.5e3\"));      // 2500\n",
    "console.log(Number.parseInt(\"00001111\", 2));  // 15"
   ]
  },
  {
   "cell_type": "markdown",
   "metadata": {},
   "source": [
    "## Instance methods\n",
    "\n",
    "* ```Number.prototype.toExponential(fractionDigits))``` returns string in exponential notation\n",
    "* ```Number.prototype.toFixed(digits))``` returns string in fixed-point notation\n",
    "* ```Number.prototype.toLocaleString([locales [, options]]))``` returns locale string representation\n",
    "* ```Number.prototype.toPrecision(precision))``` returns string with specified precision\n",
    "* ```Number.prototype.toString([radix]))``` returns string in specified radix (base)\n",
    "* ```Number.prototype.valueOf()``` returns primitive value of specified Number object"
   ]
  },
  {
   "cell_type": "code",
   "execution_count": 3,
   "metadata": {},
   "outputs": [
    {
     "name": "stdout",
     "output_type": "stream",
     "text": [
      "1.00e+4\n",
      "10000.0010000000\n",
      "10,000.001\n",
      "1.00e+4\n",
      "10011100010000.01\n",
      "10000.25\n"
     ]
    }
   ],
   "source": [
    "var number = 10000.001;\n",
    "console.log(number.toExponential(2));        // 1.00e+4\n",
    "console.log(number.toFixed(10));             // 10000.0010000000\n",
    "// by default Node.js is built with small-icu support only and only en-US locale is installed\n",
    "// so try the following statement in console window in browser instead\n",
    "console.log(number.toLocaleString('de-DE')); // 10.000,001 (requires full-icu npm package)\n",
    "console.log(number.toPrecision(3));          // 1.00e+4\n",
    "number = 10000.25;\n",
    "console.log(number.toString(2));             // 10011100010000.01\n",
    "console.log(number.valueOf());               // 10000.25"
   ]
  },
  {
   "cell_type": "markdown",
   "metadata": {},
   "source": [
    "## Floating Point Arithmetic: Roundoff Error vs Equality\n",
    "\n",
    "* [Wikipedia: Floating-point arithmetic](https://en.wikipedia.org/wiki/Floating-point_arithmetic)\n",
    "* [Wikipedia: Round-off error](https://en.wikipedia.org/wiki/Round-off_error)\n",
    "\n",
    "Computers store numbers in a binary representation (0s and 1s). Only binary numbers that have a finite number of digits can be accurately represented by the sum of negative powers of 2. For example, the fraction 1/10, (which is 0.1 in base 10), cannot be represent precisely in base 2 because 10 is not a power of 2. The fraction 1/3 cannot be represented precisely in base 2 either because 3 is not a power of 2 (1/3 cannot be represented in base 10 either).\n",
    "\n",
    "* `1/2 =  0.5  (base 10) = 0.1  (base 2)` represention is exact\n",
    "* `1/4 =  0.25 (base 10) = 0.01 (base 2)` represention is exact\n",
    "* `1/10 = 0.1  (base 10) = 0.00011001100110011001100110011001100110011001100110011... (base 2)` represention is approximate"
   ]
  },
  {
   "cell_type": "code",
   "execution_count": 4,
   "metadata": {},
   "outputs": [
    {
     "name": "stdout",
     "output_type": "stream",
     "text": [
      "2.220446049250313e-16\n",
      "2.220446049250313e-16\n",
      "2.220446049250313e-16\n",
      "true\n",
      "0.7\n",
      "0\n",
      "false\n",
      "0.4\n",
      "5.551115123125783e-17\n",
      "true\n"
     ]
    },
    {
     "data": {
      "text/plain": [
       "2.220446049250313e-16"
      ]
     },
     "execution_count": 4,
     "metadata": {},
     "output_type": "execute_result"
    }
   ],
   "source": [
    "console.log(Number.EPSILON);   // the difference between 1 and smallest float number greater than 1\n",
    "console.log(Math.pow(2, -52)); // same value as epsilon\n",
    "console.log(1/(2**52));        // same value as epsilon\n",
    "\n",
    "console.log((0.2 + 0.5) === 0.7);\n",
    "console.log (0.2 + 0.5)\n",
    "console.log((0.2 + 0.5) - 0.7);\n",
    "\n",
    "console.log((0.1 + 0.2) === 0.3);\n",
    "console.log (0.1 + 0.3)\n",
    "console.log((0.1 + 0.2) - 0.3);\n",
    "console.log((0.1 + 0.2) - 0.3 < Number.EPSILON);\n",
    "Math.pow(2, -52)"
   ]
  },
  {
   "cell_type": "markdown",
   "metadata": {},
   "source": [
    "## Floating Point Arithmetic: Accumulation of Roundoff Error\n",
    "\n",
    "* Some algorithms may accumulate roundoff error, and may even dominate the calculation\n",
    "* In ill-conditioned problems, significant error may accumulate\n",
    "* An algorithm is \"stable\" if small changes in input produce small changes in the output\n",
    "* An algorithm is \"unstable\" if small changes in input produce large changes output\n",
    "* Real world example: Patriot missile failure due to magnification of roundoff error"
   ]
  },
  {
   "cell_type": "markdown",
   "metadata": {},
   "source": [
    "## The ```Math``` Object\n",
    "\n",
    "* ```Math``` is a built-in object with properties and methods for mathematical constants and functions.\n",
    "* Math works with the Number type but it does not work with BigInt\n",
    "* Math is not a constructor object (Unlike many other global objects)\n",
    "* All properties and methods of Math are static\n",
    "* Example property: ```Math.PI```\n",
    "* Example function: ```Math.sin(x)``` where the x argument represents an angle in radians"
   ]
  },
  {
   "cell_type": "markdown",
   "metadata": {},
   "source": [
    "## Math: Static Properties\n",
    "* ```Math.E``` Euler's constant (base of natural logarithms) approximately 2.718\n",
    "* ```Math.LN2``` natural logarithm of 2 approximately 0.693\n",
    "* ```Math.LN10``` natural logarithm of 10 approximately 2.303\n",
    "* ```Math.LOG2E``` base 2 logarithm of E approximately 1.443\n",
    "* ```Math.LOG10E``` base 10 logarithm of E approximately 0.434\n",
    "* ```Math.PI``` ratio of the a circle's circumference to its diameter approximately 3.14159\n",
    "* ```Math.SQRT1_2``` square root of ½ (or equivalently, 1/√2) approximately 0.707\n",
    "* ```Math.SQRT2``` square root of 2 approximately 1.414"
   ]
  },
  {
   "cell_type": "code",
   "execution_count": 20,
   "metadata": {},
   "outputs": [
    {
     "name": "stdout",
     "output_type": "stream",
     "text": [
      "2.718281828459045\n",
      "0.6931471805599453\n",
      "2.302585092994046\n",
      "1.4426950408889634\n",
      "0.4342944819032518\n",
      "3.141592653589793\n",
      "0.7071067811865476\n",
      "1.4142135623730951\n"
     ]
    }
   ],
   "source": [
    "console.log(Math.E);       // 2.718281828459045\n",
    "console.log(Math.LN2);     // 0.6931471805599453\n",
    "console.log(Math.LN10);    // 2.302585092994046\n",
    "console.log(Math.LOG2E);   // 1.4426950408889634\n",
    "console.log(Math.LOG10E);  // 0.4342944819032518\n",
    "console.log(Math.PI);      // 3.141592653589793\n",
    "console.log(Math.SQRT1_2); // 0.7071067811865476\n",
    "console.log(Math.SQRT2);   // 1.4142135623730951"
   ]
  },
  {
   "cell_type": "markdown",
   "metadata": {},
   "source": [
    "## Math: Static methods\n",
    "\n",
    "* ```Math.abs(x)``` Returns absolute value of number\n",
    "* ```Math.acos(x)``` Returns arccosine of number\n",
    "* ```Math.acosh(x)``` Returns hyperbolic arccosine of number\n",
    "* ```Math.asin(x)``` Returns arcsine of number\n",
    "* ```Math.asinh(x)``` Returns hyperbolic arcsine of number\n",
    "* ```Math.atan(x)``` Returns arctangent of number\n",
    "* ```Math.atanh(x)``` Returns hyperbolic arctangent of number\n",
    "* ```Math.atan2(y, x)``` Returns arctangent of quotient of its arguments\n",
    "* ```Math.cbrt(x)``` Returns cube root of number\n",
    "* ```Math.ceil(x)``` Returns smallest integer greater than or equal to number\n",
    "* ```Math.clz32(x)``` Returns number of leading zeroes of 32-bit integer\n",
    "* ```Math.cos(x)``` Returns cosine of number\n",
    "* ```Math.cosh(x)``` Returns hyperbolic cosine of number\n",
    "* ```Math.exp(x)``` Returns E^x, E is Euler's constant (2.718… is base of natural logarithm)\n",
    "* ```Math.expm1(x)``` Returns subtracting 1 from exp(x)\n",
    "* ```Math.floor(x)``` Returns largest integer less than or equal to number\n",
    "* ```Math.fround(x)``` Returns nearest single precision float representation of number\n",
    "* ```Math.hypot([x[, y[, …]]])``` Returns square root of sum of squares of its arguments\n",
    "* ```Math.imul(x, y)``` Returns result of 32-bit integer multiplication\n",
    "* ```Math.log(x)``` Returns natural logarithm of number\n",
    "* ```Math.log1p(x)``` Returns natural logarithm of 1 + x for number\n",
    "* ```Math.log10(x)``` Returns base 10 logarithm of number\n",
    "* ```Math.log2(x)``` Returns base 2 logarithm of number\n",
    "* ```Math.max([x[, y[, …]]])``` Returns largest of zero or more numbers\n",
    "* ```Math.min([x[, y[, …]]])``` Returns smallest of zero or more numbers\n",
    "* ```Math.pow(x, y)``` Returns base to exponent power x^y\n",
    "* ```Math.random()``` Returns pseudo-random number between 0 and 1\n",
    "* ```Math.round(x)``` Returns value of a number rounded to nearest integer\n",
    "* ```Math.sign(x)``` Returns sign of x, indicating whether x is positive, negative, or zero\n",
    "* ```Math.sin(x)``` Returns sine of number\n",
    "* ```Math.sinh(x)``` Returns hyperbolic sine of number\n",
    "* ```Math.sqrt(x)``` Returns positive square root of number\n",
    "* ```Math.tan(x)``` Returns tangent of a number\n",
    "* ```Math.tanh(x)``` Returns hyperbolic tangent of number\n",
    "* ```Math.trunc(x)``` Returns integer part of the number x, removing any fractional digits"
   ]
  },
  {
   "cell_type": "code",
   "execution_count": 16,
   "metadata": {},
   "outputs": [
    {
     "name": "stdout",
     "output_type": "stream",
     "text": [
      "10\n",
      "0.49999999999999994\n",
      "0.7853981633974483\n",
      "3\n",
      "0.7572330887214569\n",
      "3\n",
      "-1\n",
      "3\n"
     ]
    }
   ],
   "source": [
    "console.log(Math.abs(-10));       // 10\n",
    "console.log(Math.sin(Math.PI/6)); // 0.49999999999999994\n",
    "console.log(Math.atan(1.0));      // 0.7853981633974483 (Math.PI/4)\n",
    "console.log(Math.log10(1000))     // 3\n",
    "console.log(Math.random());       // pseudo-random number in [0.0, 1)\n",
    "console.log(Math.max(1, 3, 2));    // 3\n",
    "console.log(Math.max(-1, -3, -2)); // -1\n",
    "var array1 = [1, 3, 2];\n",
    "console.log(Math.max(...array1));  // 3"
   ]
  },
  {
   "cell_type": "code",
   "execution_count": null,
   "metadata": {},
   "outputs": [],
   "source": []
  }
 ],
 "metadata": {
  "kernelspec": {
   "display_name": "Javascript (Node.js)",
   "language": "javascript",
   "name": "javascript"
  },
  "language_info": {
   "file_extension": ".js",
   "mimetype": "application/javascript",
   "name": "javascript",
   "version": "10.13.0"
  }
 },
 "nbformat": 4,
 "nbformat_minor": 4
}
