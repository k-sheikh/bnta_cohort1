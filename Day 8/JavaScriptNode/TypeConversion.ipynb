{
 "cells": [
  {
   "cell_type": "markdown",
   "metadata": {},
   "source": [
    " # Type Conversion\n",
    " \n",
    " See: https://developer.mozilla.org/en-US/docs/Mozilla/js-ctypes/Using_js-ctypes/Type_conversion\n",
    " \n",
    "* Constructor functions convert expressions into different types\n",
    "* Primitive types:\n",
    "    - string\n",
    "    - number\n",
    "    - boolean\n",
    "    - object (array, regex, function, etc.)\n",
    "* Objects types:\n",
    "    - Object\n",
    "    - Date\n",
    "    - Array\n",
    "    - String\n",
    "    - Number\n",
    "    - Boolean\n",
    "*Special values:\n",
    "    - null\n",
    "    - undefined"
   ]
  },
  {
   "cell_type": "code",
   "execution_count": 20,
   "metadata": {},
   "outputs": [
    {
     "name": "stdout",
     "output_type": "stream",
     "text": [
      "[Function: String]\n",
      "[Function: Number]\n",
      "[Function: Boolean]\n",
      "[Function: Array]\n",
      "[Function: Object]\n",
      "[Function: Date]\n",
      "[Function: Function]\n",
      "[Function: RegExp]\n"
     ]
    }
   ],
   "source": [
    "// The constructor property returns the constructor function for each type of expression\n",
    "console.log(\"John\".constructor);                // [Function: String]\n",
    "console.log(3.14.constructor);                  // [Function: Number]\n",
    "console.log(false.constructor);                 // [Function: Boolean]\n",
    "console.log([1,2,3,4].constructor);             // [Function: Array]\n",
    "console.log({name:'Jane', age:34}.constructor); // [Function: Object]\n",
    "console.log(new Date().constructor);            // [Function: Date]\n",
    "console.log(function () {}.constructor);        // [Function: Function]\n",
    "console.log(/[0-9]/.constructor);               // [Function: RegExp]"
   ]
  },
  {
   "cell_type": "code",
   "execution_count": 32,
   "metadata": {},
   "outputs": [
    {
     "name": "stdout",
     "output_type": "stream",
     "text": [
      "42 'number' '42' 'string'\n",
      "42 string 42 number\n",
      "42 'number' true 'boolean'\n",
      "true 'boolean' 1 'number'\n",
      "42 string true boolean\n",
      "true 'boolean' 'true' 'string'\n"
     ]
    }
   ],
   "source": [
    "{\n",
    "let x;\n",
    "let y;\n",
    "x = 42;\n",
    "y = String(x);                            // number -> string\n",
    "console.log(x, typeof(x), y, typeof(y));\n",
    "x = '42';\n",
    "y = Number(x);                            // string -> number\n",
    "console.log(x, typeof(x), y, typeof(y));\n",
    "x = 42;\n",
    "y = Boolean(x);                           // number -> boolean\n",
    "console.log(x, typeof(x), y, typeof(y));\n",
    "x = true;\n",
    "y = Number(x);                            // boolean -> number\n",
    "console.log(x, typeof(x), y, typeof(y));\n",
    "x = \"42\";\n",
    "y = Boolean(x);                           // string -> boolean\n",
    "console.log(x, typeof(x), y, typeof(y));\n",
    "x = true;\n",
    "y = String(x);                            // boolean -> string\n",
    "console.log(x, typeof(x), y, typeof(y));\n",
    "}"
   ]
  },
  {
   "cell_type": "code",
   "execution_count": 45,
   "metadata": {},
   "outputs": [
    {
     "name": "stdout",
     "output_type": "stream",
     "text": [
      "42 'number'\n",
      "1e+3 string\n",
      "1000.00 string\n",
      "1000.0000 string\n",
      "1000.1234 'number'\n",
      "1000 'number'\n"
     ]
    }
   ],
   "source": [
    "{\n",
    "// Number methods used to convert numbers to strings\n",
    "let n = 1000;\n",
    "console.log(x, typeof(n));\n",
    "console.log(n.toExponential(), typeof(n.toExponential()));\n",
    "console.log(n.toFixed(2), typeof(n.toFixed(2)));\n",
    "console.log(n.toPrecision(8), typeof(n.toPrecision(8)));\n",
    "\n",
    "// Number methods used to convert strings to numbers\n",
    "str = \"1000.1234\";\n",
    "console.log(parseFloat(str), typeof(parseFloat(str))); // parse string and return number\n",
    "console.log(parseInt(str), typeof(parseInt(str)));     // parses string and return whole number\n",
    "\n",
    "}"
   ]
  },
  {
   "cell_type": "code",
   "execution_count": 46,
   "metadata": {},
   "outputs": [
    {
     "name": "stdout",
     "output_type": "stream",
     "text": [
      "John\n",
      "3.14\n",
      "false\n",
      "1,2,3,4\n",
      "[object Object]\n",
      "Sat May 09 2020 15:17:23 GMT-0700 (Pacific Daylight Time)\n",
      "function () {}\n",
      "/[0-9]/\n"
     ]
    }
   ],
   "source": [
    "{\n",
    "console.log(\"John\".toString());                // John\n",
    "console.log(3.14.toString());                  // 3.14\n",
    "console.log(false.toString());                 // false\n",
    "console.log([1,2,3,4].toString());             // 1,2,3,4\n",
    "console.log({name:'Jane', age:34}.toString()); // [object Object]\n",
    "console.log(new Date().toString());            // Sat May 09 2020 15:11:11 GMT-0700 (Pacific Daylight Time)\n",
    "console.log(function () {}.toString());        // function () {}\n",
    "console.log(/[0-9]/.toString());               // /[0-9]/\n",
    "}"
   ]
  },
  {
   "cell_type": "code",
   "execution_count": 50,
   "metadata": {},
   "outputs": [
    {
     "name": "stdout",
     "output_type": "stream",
     "text": [
      "10\n",
      "10null\n",
      "102\n",
      "8\n",
      "20\n"
     ]
    }
   ],
   "source": [
    "// Implicit type tonversion\n",
    "console.log(10 + null);    // 10        (null is converted to 0)\n",
    "console.log(\"10\" + null);  // \"10null\"  (null is converted to \"null\")\n",
    "console.log(\"10\" + 2);     // \"102\"     (2 is converted to \"2\")\n",
    "console.log(\"10\" - 2);     // 8         (\"10\" is converted to 10)\n",
    "console.log(\"10\" * \"2\");   // 20        (\"10\" and \"2\" are converted to 10 and 2)"
   ]
  },
  {
   "cell_type": "code",
   "execution_count": null,
   "metadata": {},
   "outputs": [],
   "source": []
  }
 ],
 "metadata": {
  "kernelspec": {
   "display_name": "Javascript (Node.js)",
   "language": "javascript",
   "name": "javascript"
  },
  "language_info": {
   "file_extension": ".js",
   "mimetype": "application/javascript",
   "name": "javascript",
   "version": "10.13.0"
  }
 },
 "nbformat": 4,
 "nbformat_minor": 4
}
