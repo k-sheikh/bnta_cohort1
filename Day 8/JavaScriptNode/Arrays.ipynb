{
 "cells": [
  {
   "cell_type": "markdown",
   "metadata": {},
   "source": [
    "# Arrays\n",
    "\n",
    "See: https://developer.mozilla.org/en-US/docs/Web/JavaScript/Reference/Global_Objects/Array  \n",
    "See: https://developer.mozilla.org/en-US/docs/Web/JavaScript/Guide/Indexed_collections  \n",
    "\n",
    "* An ```Array``` is an ordered object collection, indexed using a ***zero-based*** index position\n",
    "* An ```Array``` elements are accessed using square bracket syntax containing the indexed position\n",
    "* An ```Array``` are dynamic and mutable (contents can be read/changed/added/removed)\n",
    "* An ```Array``` are heterogenous (contents can be mixed types, but often are all the same type)\n",
    "* The ```Array.prototype.length``` property indicates the number of contained objects"
   ]
  },
  {
   "cell_type": "markdown",
   "metadata": {},
   "source": [
    "### Array Properties\n",
    "\n",
    "* ```Array.prototype``` allows you to add new properties and methods to the ```Array``` constructor\n",
    "* ```Array.prototype.length``` immutable property that indicates the number of elements in an array\n",
    "\n",
    "### Array Methods\n",
    "\n",
    "* ```Array.prototype.concat()``` returns a new array that is this array joined with other array(s) and/or value(s)\n",
    "* ```Array.prototype.copyWithin()``` copies a sequence of array elements within the array\n",
    "* ```Array.prototype.entries()``` returns a new Array Iterator object that contains the key/value pairs for each index in the array\n",
    "* ```Array.prototype.every()``` returns true if every element in this array satisfies the testing callbackFn\n",
    "* ```Array.prototype.fill()``` fills all elements of array from start index to end index with static value\n",
    "* ```Array.prototype.filter()``` returns new array containing all elements of calling array for which provided filtering callbackFn returns true\n",
    "* ```Array.prototype.find()``` returns found element in array if some element in array satisfies testing callbackFn, or undefined if not found\n",
    "* ```Array.prototype.findIndex()``` returns found index in array, if an element in array satisfies testing callbackFn, or -1 if not found\n",
    "* ```Array.prototype.forEach()``` calls a callbackFn for each element in array\n",
    "* ```Array.prototype.includes()``` determines whether array contains valueToFind, returning true or false as appropriate\n",
    "* ```Array.prototype.indexOf()``` returns first (least) index of element within array equal to searchElement, or -1 if none is found\n",
    "* ```Array.prototype.join()``` joins all elements of array into string\n",
    "* ```Array.prototype.keys()``` returns new Array Iterator that contains keys for each index in array\n",
    "* ```Array.prototype.lastIndexOf()``` returns last index of element within array equal to searchElement, or -1 if not found\n",
    "* ```Array.prototype.map()``` returns new array containing results of calling callbackFn on every element in array\n",
    "* ```Array.prototype.pop()``` removes last element from array and returns that element\n",
    "* ```Array.prototype.push()``` adds one or more elements to end of array, and returns new length of array\n",
    "* ```Array.prototype.reduce()``` apply callbackFn against accumulator and each value of array to reduce it to single value\n",
    "* ```Array.prototype.reduceRight()``` apply callbackFn against accumulator and each value of array to reduce it to single value\n",
    "* ```Array.prototype.reverse()``` reverses order of elements of an array in place\n",
    "* ```Array.prototype.shift()``` removes the first element from an array and returns that element\n",
    "* ```Array.prototype.slice()``` extracts a section of the calling array and returns a new array\n",
    "* ```Array.prototype.some()``` returns true if at least one element in this array satisfies the provided testing callbackFn\n",
    "* ```Array.prototype.sort()``` sorts the elements of an array in place and returns the array\n",
    "* ```Array.prototype.splice()``` adds and/or removes elements from an array\n",
    "* ```Array.prototype.toLocaleString()``` returns a localized string representing the array\n",
    "* ```Array.prototype.toString()``` returns a string representing the array and its elements\n",
    "* ```Array.prototype.unshift()``` adds one or more elements to the front of an array, and returns the new length of the array\n",
    "* ```Array.prototype.values()``` returns a new Array Iterator object that contains the values for each index in the array\n",
    "* ```Array.prototype[@@iterator]()``` returns a new Array Iterator object that contains the values for each index in the array"
   ]
  },
  {
   "cell_type": "code",
   "execution_count": 2,
   "metadata": {},
   "outputs": [
    {
     "name": "stdout",
     "output_type": "stream",
     "text": [
      "\u001b[31m \n",
      "Read element at index \u001b[0m\n",
      "2\n",
      "[ 'Apple', 'Orange' ]\n",
      "Apple\n",
      "Orange\n",
      "Orange\n",
      "undefined\n",
      "undefined\n",
      "Apple\n",
      "\u001b[31m \n",
      "Change element at index \u001b[0m\n",
      "[ 'Apple', 'Cherry' ]\n",
      "\u001b[31m \n",
      "Add element at index \u001b[0m\n",
      "[ 'Apple', 'Cherry', <3 empty items>, 'Pear' ]\n",
      "undefined\n",
      "undefined\n",
      "undefined\n",
      "\u001b[31m \n",
      "Remove 3 items starting at index 2 \u001b[0m\n",
      "[ 'Apple', 'Cherry', 'Pear' ]\n"
     ]
    }
   ],
   "source": [
    "{ // Array.prototype.length is an immutable property (the number of objects in the array)\n",
    "    \n",
    "let fruitList = ['Apple', 'Orange']; // literal array expression\n",
    "console.log('\\x1b[31m', \"\\nRead element at index\", \"\\x1b[0m\");\n",
    "console.log(fruitList.length)                  // 2\n",
    "console.log(fruitList);                        // [ 'Apple', 'Orange' ]\n",
    "console.log(fruitList[0]);                     // Apple        (first)\n",
    "console.log(fruitList[1]);                     // Orange       (second, which is last in this array)\n",
    "console.log(fruitList[fruitList.length-1]);    // Orange       (last)\n",
    "console.log(fruitList[fruitList.length]);      // undefined    (past last!!!)\n",
    "console.log(fruitList[-1]);                    // undefined    (negative, would be before first???)\n",
    "fruit = fruitList[0];\n",
    "console.log(fruit);                            // Apple\n",
    "    \n",
    "console.log('\\x1b[31m', \"\\nChange element at index\", \"\\x1b[0m\");\n",
    "fruitList[1] = \"Cherry\";\n",
    "console.log(fruitList);                        // [ 'Apple', 'Cherry' ]\n",
    "\n",
    "console.log('\\x1b[31m', \"\\nAdd element at index\", \"\\x1b[0m\");\n",
    "fruitList[5] = \"Pear\";\n",
    "console.log(fruitList);                        // [ 'Apple', 'Cherry', <3 empty items>, 'Pear' ]\n",
    "console.log(fruitList[2]);                     // undefined\n",
    "console.log(fruitList[3]);                     // undefined\n",
    "console.log(fruitList[3]);                     // undefined\n",
    "    \n",
    "console.log('\\x1b[31m', \"\\nRemove 3 items starting at index 2\", \"\\x1b[0m\");\n",
    "fruitList.splice(2, 3);\n",
    "console.log(fruitList);                        // [ 'Apple', 'Cherry', 'Pear' ]\n",
    "}"
   ]
  },
  {
   "cell_type": "code",
   "execution_count": 3,
   "metadata": {},
   "outputs": [
    {
     "name": "stdout",
     "output_type": "stream",
     "text": [
      "[ 'dog', 'cat', 'ferret' ]\n",
      "[ 'mouse', 'squirrel', 'crow' ]\n",
      "[ 'dog', 'cat', 'ferret', 'mouse', 'squirrel', 'crow' ]\n"
     ]
    }
   ],
   "source": [
    "{ // Array.prototype.concat() returns new array that is this array concatenated\n",
    "  // with other array(s) and/or value(s)\n",
    "const array1 = ['dog', 'cat', 'ferret'];\n",
    "const array2 = ['mouse', 'squirrel', 'crow'];\n",
    "const array3 = array1.concat(array2);\n",
    "\n",
    "console.log(array1); // [ 'dog', 'cat', 'ferret' ]\n",
    "console.log(array2); // [ 'mouse', 'squirrel', 'crow' ]\n",
    "console.log(array3); // [ 'dog', 'cat', 'ferret', 'mouse', 'squirrel', 'crow' ]\n",
    "}"
   ]
  },
  {
   "cell_type": "code",
   "execution_count": 4,
   "metadata": {},
   "outputs": [
    {
     "name": "stdout",
     "output_type": "stream",
     "text": [
      "0 'Apple'\n",
      "1 'Orange'\n"
     ]
    }
   ],
   "source": [
    "{ // Array.prototype.forEach() calls a callbackFn for each element in array\n",
    "\n",
    "let fruitList = ['Apple', 'Orange'];\n",
    "fruitList.forEach(function(item, index, array) {\n",
    "    console.log(index, item);\n",
    "});\n",
    "}"
   ]
  },
  {
   "cell_type": "code",
   "execution_count": 19,
   "metadata": {},
   "outputs": [
    {
     "name": "stdout",
     "output_type": "stream",
     "text": [
      "[ '0', '1', '2' ]\n",
      "[ 'red', 'green', 'blue' ]\n"
     ]
    }
   ],
   "source": [
    "colorList = ['red', 'green', 'blue']\n",
    "console.log(Object.keys(colorList))                // [ '0', '1', '2' ]\n",
    "console.log(Object.values(colorList))              // [ 'red', 'green', 'blue' ]"
   ]
  },
  {
   "cell_type": "code",
   "execution_count": 75,
   "metadata": {},
   "outputs": [
    {
     "name": "stdout",
     "output_type": "stream",
     "text": [
      "[] 'object' true\n",
      "[ 1, 2, 3 ] 'object' true\n"
     ]
    }
   ],
   "source": [
    "{ // Array.isArray() is a static Array method that returns true if it is an array, otherwise false\n",
    "\n",
    "let arr = new Array();\n",
    "console.log(arr, typeof(arr), Array.isArray(arr)) // [] 'object' true \n",
    "arr = [1,2,3];\n",
    "console.log(arr, typeof(arr), Array.isArray(arr)) // [ 1, 2, 3 ] 'object' true\n",
    "}"
   ]
  },
  {
   "cell_type": "code",
   "execution_count": 98,
   "metadata": {},
   "outputs": [
    {
     "name": "stdout",
     "output_type": "stream",
     "text": [
      "[ 0, 2, 6, 30 ]\n"
     ]
    }
   ],
   "source": [
    "{ // Array.prototype.map() returns new array containing results of calling callbackFn on every element in array\n",
    "\n",
    "let nums = [1, 2, 3, 10];\n",
    "nums = nums.map((num, index) => (num*index)); // [ 0, 2, 6, 30 ] (num*index -> 1*0, 2*1, 3*2, 10*3)\n",
    "console.log(nums);\n",
    "}"
   ]
  },
  {
   "cell_type": "code",
   "execution_count": 2,
   "metadata": {},
   "outputs": [
    {
     "name": "stdout",
     "output_type": "stream",
     "text": [
      "150\n",
      "7150\n"
     ]
    }
   ],
   "source": [
    "{ // Array.prototype.reduce() apply callbackFn against accumulator and each value of array to reduce it to single value\n",
    "\n",
    "const nums = [10, 20, 30, 40, 50];\n",
    "const reducer = (runningTotal, currentValue) => runningTotal + currentValue;\n",
    "\n",
    "console.log(nums.reduce(reducer));       // 150        (       10 + 20 + 30 + 40 + 50)\n",
    "console.log(nums.reduce(reducer, 7000)); // 7150       (7000 + 10 + 20 + 30 + 40 + 50)\n",
    "}"
   ]
  },
  {
   "cell_type": "code",
   "execution_count": 125,
   "metadata": {},
   "outputs": [
    {
     "name": "stdout",
     "output_type": "stream",
     "text": [
      "arrayOfSumsOfRows: [ 14, 24, 27 ]\n",
      "sumTotalByRows: 65\n",
      "arrayOfSumsOfCols: [ 11, 15, 12, 13, 14 ]\n",
      "sumTotalByCols: 65\n"
     ]
    }
   ],
   "source": [
    "{ // Array.prototype.map() and Array.prototype.reduce() can work together\n",
    "    \n",
    "let arrayOfArrayOfNums = [\n",
    "    [ 1, 2, 7, 2, 2],                   // 14\n",
    "    [ 3, 4, 4, 6, 7],                   // 24\n",
    "    [ 7, 9, 1, 5, 5]                    // 27\n",
    "    \n",
    "//   11 15 12 13 14\n",
    "];\n",
    "\n",
    "let arrayOfSumsOfRows = arrayOfArrayOfNums.map(function(row){\n",
    "    return row.reduce(function(acc, curr){\n",
    "        return acc + curr;\n",
    "    });\n",
    "});\n",
    "    \n",
    "console.log(\"arrayOfSumsOfRows:\", arrayOfSumsOfRows);                    // [ 14, 24, 27 ]\n",
    "    \n",
    "let sumTotalByRows = arrayOfSumsOfRows.reduce((acc, curr) => acc + curr);\n",
    "    \n",
    "console.log(\"sumTotalByRows:\",sumTotalByRows);                           // 65\n",
    "\n",
    "let sum = (row, a) => row.map((b, index) => a[index] + b);\n",
    "let arrayOfSumsOfCols = arrayOfArrayOfNums.reduce(sum)\n",
    "console.log(\"arrayOfSumsOfCols:\", arrayOfSumsOfCols);                    // [ 11, 15, 12, 13, 14 ]\n",
    "    \n",
    "sumTotalByCols = arrayOfSumsOfCols.reduce((acc, curr) => acc + curr)\n",
    "console.log(\"sumTotalByCols:\", sumTotalByCols);                          // 65\n",
    "}"
   ]
  },
  {
   "cell_type": "code",
   "execution_count": 70,
   "metadata": {},
   "outputs": [
    {
     "name": "stdout",
     "output_type": "stream",
     "text": [
      "false\n",
      "true\n"
     ]
    }
   ],
   "source": [
    "{ // Array.prototype.every() returns true if every element in this array satisfies the testing callbackFn\n",
    "\n",
    "const isEven = (currentValue) => currentValue % 2 === 0;\n",
    "const isMultipleOf3 = (currentValue) => currentValue % 3 === 0;\n",
    "const array1 = [-3, 30, 39, 27, 12, 18];\n",
    "console.log(array1.every(isEven));           // false\n",
    "console.log(array1.every(isMultipleOf3));    // true\n",
    "}"
   ]
  },
  {
   "cell_type": "code",
   "execution_count": 53,
   "metadata": {},
   "outputs": [
    {
     "name": "stdout",
     "output_type": "stream",
     "text": [
      "[ 'a', 'b', 'x', 'x', 'e', 'f', 'g', 'h', 'i', 'j' ]\n",
      "[ 'a', 'b', 'x', 'x', 'e', 'f', 'g', 'y', 'y', 'y' ]\n",
      "[ 'z', 'z', 'z', 'z', 'z', 'z', 'z', 'z', 'z', 'z' ]\n"
     ]
    }
   ],
   "source": [
    "{ // Array.prototype.fill() fills all elements of array from start index to end index with a value\n",
    "\n",
    "const nums = ['a', 'b', 'c', 'd', 'e', 'f', 'g', 'h', 'i', 'j'];\n",
    "\n",
    "// fill elements from index 2 to index 4 with 'x'\n",
    "console.log(nums.fill('x', 2, 4));   // ['a', 'b', 'x', 'x', 'e', 'f', 'g', 'h', 'i', 'j']\n",
    "\n",
    "// fill elements from index 7 to end with 'y'\n",
    "console.log(nums.fill('y', 7));      // ['a', 'b', 'x', 'x', 'e', 'f', 'g', 'y', 'y', 'y']\n",
    "\n",
    "// fill elements from start to end with 'z'\n",
    "console.log(nums.fill('z'));         // ['z', 'z', 'z', 'z', 'z', 'z', 'z', 'z', 'z', 'z']\n",
    "\n",
    "}"
   ]
  },
  {
   "cell_type": "code",
   "execution_count": 57,
   "metadata": {},
   "outputs": [
    {
     "name": "stdout",
     "output_type": "stream",
     "text": [
      "[ 77, 88, 63, 56, 99, 82 ]\n",
      "[ 39, 49 ]\n"
     ]
    }
   ],
   "source": [
    "{ // Array.prototype.filter() returns new array containing all elements of calling array for which provided filtering callbackFn returns true\n",
    "\n",
    "const allGrades = [39, 77, 88,  49, 63, 56, 99, 82 ];\n",
    "const passingGrades = allGrades.filter(grade => grade > 50);  // minimum of 50% is passing grade\n",
    "console.log(passingGrades);                                   // [ 77, 88, 63, 56, 99, 82 ]\n",
    "const failingGrades = allGrades.filter(grade => grade < 50);  // below 50% is failing grade\n",
    "console.log(failingGrades);                                   // [ 39, 49 ]\n",
    "}"
   ]
  },
  {
   "cell_type": "code",
   "execution_count": 65,
   "metadata": {},
   "outputs": [
    {
     "name": "stdout",
     "output_type": "stream",
     "text": [
      "42\n",
      "undefined\n",
      "12\n"
     ]
    }
   ],
   "source": [
    "{ // Array.prototype.find() returns found element in array if some element in array satisfies testing callbackFn, or undefined if not found\n",
    "\n",
    "const numbers = [5, 7, 12, 8, 42, 130, 49];\n",
    "const theAnswer = numbers.find(n => n == 42);\n",
    "console.log(theAnswer);                        // 42          (match found       -> 42)\n",
    "const theBeast = numbers.find(n => n == 666);\n",
    "console.log(theBeast);                         // undefined   (no match found    -> undefined)\n",
    "const even = numbers.find(n => n % 2 == 0);\n",
    "console.log(even);                             // 12          (first match found -> 12)\n",
    "}"
   ]
  },
  {
   "cell_type": "code",
   "execution_count": 67,
   "metadata": {},
   "outputs": [
    {
     "name": "stdout",
     "output_type": "stream",
     "text": [
      "4\n",
      "-1\n",
      "2\n"
     ]
    }
   ],
   "source": [
    "{ // Array.prototype.findIndex() returns found index in array, if an element in array satisfies testing callbackFn, or -1 if not found\n",
    "\n",
    "const numbers = [5, 7, 12, 8, 42, 130, 49];\n",
    "const theAnswer = numbers.findIndex(n => n == 42);\n",
    "console.log(theAnswer);                             // 4       (match found       -> index = 4)\n",
    "const theBeast = numbers.findIndex(n => n == 666);\n",
    "console.log(theBeast);                              // -1      (no match found    -> index = -1)\n",
    "const even = numbers.findIndex(n => n % 2 == 0);\n",
    "console.log(even);                                  // 12      (first match found -> index = 12)\n",
    "}"
   ]
  },
  {
   "cell_type": "code",
   "execution_count": 11,
   "metadata": {},
   "outputs": [
    {
     "name": "stdout",
     "output_type": "stream",
     "text": [
      "true\n",
      "false\n",
      "false\n",
      "false\n",
      "true\n",
      "true\n",
      "true\n",
      "true\n",
      "true\n"
     ]
    }
   ],
   "source": [
    "{ // Array.prototype.includes() determines if array contains valueToFind, returns true or false\n",
    "  // Returns true if valueToFind is found in array, starting at fromIndex if provided\n",
    "\n",
    "console.log(['1', '2', '3'].includes('2'));       // true\n",
    "console.log(['1', '2', '3'].includes('4'));       // false\n",
    "console.log(['1', '2', '3'].includes('3', 3));    // false\n",
    "console.log(['1', '2', '3'].includes('2', 2));    // false\n",
    "console.log(['1', '2', '3'].includes('3', 2));    // true\n",
    "console.log(['1', '2', '3'].includes('3', -1));   // true\n",
    "console.log(['1', '2', NaN].includes(NaN));       // true\n",
    "console.log(['1', '2', '3'].includes('2', 0));    // true  (if index <= 0 -> entire array is searched)\n",
    "console.log(['1', '2', '3'].includes('2', -100)); // true  (if index <= 0 -> entire array is searched)\n",
    "}"
   ]
  },
  {
   "cell_type": "code",
   "execution_count": 15,
   "metadata": {},
   "outputs": [
    {
     "name": "stdout",
     "output_type": "stream",
     "text": [
      "2\n",
      "-1\n",
      "4\n",
      "2\n",
      "-1\n"
     ]
    }
   ],
   "source": [
    "{ // Array.prototype.indexOf() returns index of first matching element or -1 if not found\n",
    "\n",
    "const critters = ['dog', 'cat', 'budgie', 'turtle', 'pet rock'];\n",
    "console.log(critters.indexOf('budgie'));       // 2        found in entire array   -> index =  2\n",
    "console.log(critters.indexOf('pangolin'));     // -1   not found in entire array   -> index = -1\n",
    "console.log(critters.indexOf('pet rock', 2));  // 4        found for an index >= 2 -> index =  4\n",
    "console.log(critters.indexOf('budgie', 2));    // 2        found for an index >= 2 -> index =  2\n",
    "console.log(critters.indexOf('cat', 2));       // -1   not found for an index >= 2 -> index = -1\n",
    "}"
   ]
  },
  {
   "cell_type": "code",
   "execution_count": 24,
   "metadata": {},
   "outputs": [
    {
     "name": "stdout",
     "output_type": "stream",
     "text": [
      "string\n",
      "Large,Medium,Small\n",
      "Large, Medium, Small\n",
      "Large-Medium-Small\n",
      "LargeMediumSmall\n"
     ]
    }
   ],
   "source": [
    "{ // Array.prototype.join() joins all elements of array into string, can use optional separator string\n",
    "\n",
    "const elements = ['Large', 'Medium', 'Small'];\n",
    "console.log(typeof elements.join()); // string\n",
    "console.log(elements.join());        // Large,Medium,Small\n",
    "console.log(elements.join(', '));    // Large, Medium, Small\n",
    "console.log(elements.join('-'));     // Large-Medium-Small\n",
    "console.log(elements.join(''));      // LargeMediumSmall\n",
    "}"
   ]
  },
  {
   "cell_type": "code",
   "execution_count": 31,
   "metadata": {},
   "outputs": [
    {
     "name": "stdout",
     "output_type": "stream",
     "text": [
      "3\n",
      "[ 'Apple', 'Orange', 'Peach' ]\n"
     ]
    }
   ],
   "source": [
    "{ // Array.prototype.push() adds one or more elements to end of array, and returns new length of array\n",
    "\n",
    "let fruitList = ['Apple', 'Orange'];\n",
    "var newLength = fruitList.push('Peach');\n",
    "console.log(newLength);                              // 3\n",
    "console.log(fruitList);                              // [ 'Apple', 'Orange', 'Peach' ]\n",
    "}"
   ]
  },
  {
   "cell_type": "code",
   "execution_count": 33,
   "metadata": {},
   "outputs": [
    {
     "name": "stdout",
     "output_type": "stream",
     "text": [
      "Orange\n",
      "1\n",
      "[ 'Apple' ]\n"
     ]
    }
   ],
   "source": [
    "{ // Array.prototype.pop() removes last element from array and returns that element\n",
    "let fruitList = ['Apple', 'Orange'];\n",
    "var lastFruit = fruitList.pop();\n",
    "console.log(lastFruit);                              // Orange\n",
    "console.log(fruitList.length);                       // 1\n",
    "console.log(fruitList);                              // [ 'Apple' ]\n",
    "}"
   ]
  },
  {
   "cell_type": "code",
   "execution_count": 38,
   "metadata": {},
   "outputs": [
    {
     "name": "stdout",
     "output_type": "stream",
     "text": [
      "[ 'one', 'two', 'three' ]\n",
      "[ 'three', 'two', 'one' ]\n",
      "[ 'three', 'two', 'one' ]\n"
     ]
    }
   ],
   "source": [
    "{ // Array.prototype.reverse() reverses order of elements of an array in place\n",
    "    \n",
    "const words = ['one', 'two', 'three'];\n",
    "console.log(words);                  // [ 'one', 'two', 'three' ]\n",
    "\n",
    "const reversed = words.reverse();\n",
    "console.log(reversed);               // [ 'three', 'two', 'one' ]\n",
    "\n",
    "// NOTE: destructive -> changes original array object (reverses in place)\n",
    "console.log(words);                  // [ 'three', 'two', 'one' ]\n",
    "}"
   ]
  },
  {
   "cell_type": "code",
   "execution_count": 26,
   "metadata": {},
   "outputs": [
    {
     "name": "stdout",
     "output_type": "stream",
     "text": [
      "Apple\n",
      "1\n",
      "[ 'Orange' ]\n"
     ]
    }
   ],
   "source": [
    "{ // Array.prototype.shift() removes the first element from an array and returns that element\n",
    "let fruitList = ['Apple', 'Orange'];\n",
    "var firstFruit = fruitList.shift();\n",
    "console.log(firstFruit);                            // Apple\n",
    "console.log(fruitList.length);                      // 1\n",
    "console.log(fruitList);                             // [ 'Orange' ]\n",
    "}"
   ]
  },
  {
   "cell_type": "code",
   "execution_count": 29,
   "metadata": {},
   "outputs": [
    {
     "name": "stdout",
     "output_type": "stream",
     "text": [
      "3\n",
      "[ 'Mango', 'Apple', 'Orange' ]\n"
     ]
    }
   ],
   "source": [
    "{ // Array.prototype.unshift() adds one or more elements to the front of an array, and returns the new length of the array\n",
    "let fruitList = ['Apple', 'Orange'];\n",
    "var newLength = fruitList.unshift(\"Mango\")\n",
    "console.log(newLength);                             // 3\n",
    "console.log(fruitList);                             // [ 'Mango', 'Apple', 'Orange' ]\n",
    "}"
   ]
  },
  {
   "cell_type": "code",
   "execution_count": 34,
   "metadata": {},
   "outputs": [
    {
     "name": "stdout",
     "output_type": "stream",
     "text": [
      "[ 'Mango', 'Orange' ]\n",
      "[ 'Orange' ]\n",
      "[ 'Mango' ]\n"
     ]
    }
   ],
   "source": [
    "{ // Array.prototype.slice() extracts a section of the calling array and returns a new array\n",
    "\n",
    "fruitList = [ 'Mango', 'Orange' ]\n",
    "var pos = 1;\n",
    "console.log(fruitList);                             // [ 'Mango', 'Orange' ]\n",
    "var removedItem = fruitList.splice(pos, 1);\n",
    "console.log(removedItem);                           // [ 'Orange' ]\n",
    "console.log(fruitList);                             // [ 'Mango' ]\n",
    "}"
   ]
  },
  {
   "cell_type": "code",
   "execution_count": 35,
   "metadata": {},
   "outputs": [
    {
     "name": "stdout",
     "output_type": "stream",
     "text": [
      "[ 'Mango' ]\n",
      "[ 'Potatoes', 'Turnips', 'Parsnips', 'Carrots' ]\n",
      "[ 'Potatoes', 'Carrots' ]\n",
      "[ 'Turnips', 'Parsnips' ]\n"
     ]
    }
   ],
   "source": [
    "{ // Array.prototype.splice() adds and/or removes elements from an array\n",
    "\n",
    "var fruitListShallowCopy = fruitList.slice()\n",
    "console.log(fruitListShallowCopy)                   // [ 'Mango' ]\n",
    "\n",
    "var vegetableList = ['Potatoes', 'Turnips', 'Parsnips', 'Carrots'];\n",
    "console.log(vegetableList);                         // [ 'Potatoes', 'Turnips', 'Parsnips', 'Carrots' ]\n",
    "var pos = 1, n = 2;\n",
    "var removedvegetables = vegetableList.splice(pos, n);\n",
    "console.log(vegetableList);                         // [ 'Potatoes', 'Carrots' ]\n",
    "console.log(removedvegetables);                     // [ 'Turnips', 'Parsnips' ]\n",
    "}"
   ]
  },
  {
   "cell_type": "code",
   "execution_count": 126,
   "metadata": {},
   "outputs": [
    {
     "name": "stdout",
     "output_type": "stream",
     "text": [
      "Birthday paradox solution: 23\n"
     ]
    }
   ],
   "source": [
    "{ // Birthday Paradox: https://en.wikipedia.org/wiki/Birthday_problem\n",
    "    \n",
    "// Birthday paradox solution\n",
    "let bps = Math.ceil(Math.sqrt(2*365*Math.log(1/(1-0.5))));\n",
    "console.log(\"Birthday paradox solution:\", bps); // 23\n",
    "}"
   ]
  },
  {
   "cell_type": "code",
   "execution_count": 1,
   "metadata": {},
   "outputs": [
    {
     "name": "stdout",
     "output_type": "stream",
     "text": [
      "[ 10, 20, 30 ]\n",
      "[ 30, 20, 10 ]\n",
      "[ 30, 20, 10 ]\n",
      "\n",
      "[ 10, 20, 30 ]\n",
      "[ 10, 20, 30 ]\n",
      "[ 30, 20, 10 ]\n"
     ]
    }
   ],
   "source": [
    "{\n",
    "    function reverseOriginal(arr) {\n",
    "        return arr.reverse();\n",
    "    }\n",
    "\n",
    "    let arrOriginal = [10,20,30];\n",
    "    console.log(arrOriginal);               // [ 10, 20, 30 ]\n",
    "\n",
    "    let arrResult = reverseOriginal(arrOriginal);\n",
    "    console.log(arrOriginal);               // [ 30, 20, 10 ]             \n",
    "    console.log(arrResult);                 // [ 30, 20, 10 ]\n",
    "}\n",
    "\n",
    "console.log();\n",
    "\n",
    "{\n",
    "    function reverseNew(arrOriginal) {\n",
    "        let arrNew = new Array(arrOriginal.length);\n",
    "        for (let i=0; i<arrOriginal.length; i++) {\n",
    "            arrNew[(arrOriginal.length-i)-1] = arrOriginal[i];\n",
    "        }\n",
    "        return arrNew;\n",
    "    }\n",
    "\n",
    "    arrOriginal = [10,20,30];\n",
    "    console.log(arrOriginal);               // [ 10, 20, 30 ]\n",
    "\n",
    "    let arrResult = reverseNew(arrOriginal);\n",
    "    console.log(arrOriginal);               // [ 10, 20, 30 ]             \n",
    "    console.log(arrResult);                 // [ 30, 20, 10 ]\n",
    "}"
   ]
  },
  {
   "cell_type": "code",
   "execution_count": null,
   "metadata": {},
   "outputs": [],
   "source": []
  }
 ],
 "metadata": {
  "kernelspec": {
   "display_name": "Javascript (Node.js)",
   "language": "javascript",
   "name": "javascript"
  },
  "language_info": {
   "file_extension": ".js",
   "mimetype": "application/javascript",
   "name": "javascript",
   "version": "10.13.0"
  }
 },
 "nbformat": 4,
 "nbformat_minor": 2
}
