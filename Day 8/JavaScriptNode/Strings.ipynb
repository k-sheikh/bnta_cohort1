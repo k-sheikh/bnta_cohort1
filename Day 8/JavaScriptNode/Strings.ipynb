{
 "cells": [
  {
   "cell_type": "markdown",
   "metadata": {},
   "source": [
    "# Strings\n",
    "\n",
    "See: https://developer.mozilla.org/en-US/docs/Web/JavaScript/Reference/Global_Objects/String  \n",
    "See: https://developer.mozilla.org/en-US/docs/Web/JavaScript/Guide/Text_formatting  \n",
    "\n",
    "* The ```string``` type is a built-in primitive type (sequence of Unicode characters)\n",
    "* The ```String``` global object is a constructor for creating a string\n",
    "* Literal strings are defined in single quotes (```'```) or double quotes (```\"```)\n",
    "* No distinction between single-quoted and double-quoted strings\n",
    "* Literal template strings are defined in backticks (``` ` ```)\n",
    "* String are immutable (operations that appear to modify a string actually just create a new string)\n",
    "* Template string literals allow you to apply a function to format the string contents"
   ]
  },
  {
   "cell_type": "code",
   "execution_count": 22,
   "metadata": {},
   "outputs": [
    {
     "name": "stdout",
     "output_type": "stream",
     "text": [
      "single-quoted string\n",
      "double-quoted string\n",
      "backtick-quoted string 7\n",
      "中文\n",
      "español\n",
      "русский\n",
      "日本語\n",
      "عربى\n",
      "עברית\n",
      "íslensku\n"
     ]
    }
   ],
   "source": [
    "console.log('single-quoted string');           // single-quoted string\n",
    "console.log(\"double-quoted string\");           // double-quoted string\n",
    "console.log(`backtick-quoted string ${3+4}`);  // backtick-quoted string (can have mutiple lines)\n",
    "console.log(\"中文\");                           // chinese\n",
    "console.log(\"español\");                        // spanish\n",
    "console.log(\"русский\");                        // russian\n",
    "console.log(\"日本語\");                         // japanese\n",
    "console.log(\"عربى\");                           // arabic\n",
    "console.log(\"עברית\");                           // hebrew\n",
    "console.log(\"íslensku\");                       // icelandic"
   ]
  },
  {
   "cell_type": "code",
   "execution_count": 23,
   "metadata": {},
   "outputs": [
    {
     "name": "stdout",
     "output_type": "stream",
     "text": [
      "string\n",
      "foobar\n",
      "6\n",
      "6\n",
      "undefined\n"
     ]
    }
   ],
   "source": [
    "str = \"foobar\";\n",
    "console.log(typeof(str)); // string\n",
    "console.log(str);\n",
    "console.log(str.length);  // 6\n",
    "str.length = 42;          // has no effect\n",
    "console.log(str.length);  // still 6\n",
    "str.foo = 42;             // try to create property named `foo` on the string object\n",
    "console.log(str.foo)      // undefined property"
   ]
  },
  {
   "cell_type": "code",
   "execution_count": 24,
   "metadata": {},
   "outputs": [
    {
     "name": "stdout",
     "output_type": "stream",
     "text": [
      "\n",
      "    The time has come,' the Walrus said,\n",
      "          To talk of many things:\n",
      "    Of shoes — and ships — and sealing-wax —\n",
      "          Of cabbages — and kings —\n",
      "    And why the sea is boiling hot —\n",
      "          And whether pigs have wings.\n",
      "\n"
     ]
    }
   ],
   "source": [
    "// Multi Line Strings are defined in a pair of backticks\n",
    "str = `\n",
    "    The time has come,' the Walrus said,\n",
    "          To talk of many things:\n",
    "    Of shoes — and ships — and sealing-wax —\n",
    "          Of cabbages — and kings —\n",
    "    And why the sea is boiling hot —\n",
    "          And whether pigs have wings.\n",
    "`\n",
    "console.log(str);"
   ]
  },
  {
   "cell_type": "markdown",
   "metadata": {},
   "source": [
    "## Escape Notation\n",
    "\n",
    "* ```\\'``` \tsingle quote\n",
    "* ```\\\"``` \tdouble quote\n",
    "* ```\\\\``` \tbackslash\n",
    "* ```\\n``` \tnew line\n",
    "* ```\\r``` \tcarriage return\n",
    "* ```\\v``` \tvertical tab\n",
    "* ```\\t``` \ttab\n",
    "* ```\\b``` \tbackspace\n",
    "* ```\\f``` \tform feed\n",
    "* ```\\XXX``` where XXX is 1–3 octal digits in range of 0–377 (Unicode code point)\n",
    "* ```\\uXXXX``` where XXXX is 4 hex digits in range of 0x0000–0xFFFF (Unicode code point)\n",
    "* ```\\``` at the end of a line indicates that the string continues on the next line"
   ]
  },
  {
   "cell_type": "code",
   "execution_count": 27,
   "metadata": {},
   "outputs": [
    {
     "name": "stdout",
     "output_type": "stream",
     "text": [
      "\"\n",
      "'\n",
      "\\\n",
      "?\n",
      "\"\n",
      "答\n",
      "hello world\n"
     ]
    }
   ],
   "source": [
    "console.log(\"\\\"\");     // \"\n",
    "console.log('\\'');     // '\n",
    "console.log(\"\\\\\");     // \\\n",
    "console.log(\"\\x3f\");   // ? (Unicode -> 3f base 16 = 63 base 10 = question mark character)\n",
    "console.log(\"\\42\");    // \" (Unicode -> 42 base 8 = 34 in base 10 = double quote character)\n",
    "console.log(\"\\u7B54\"); // 答\n",
    "\n",
    "console.log(\"hello \\\n",
    "world\");               // hello world"
   ]
  },
  {
   "cell_type": "markdown",
   "metadata": {},
   "source": [
    "## Character Access\n",
    "\n",
    "* ```String.prototype.charAt()``` returns new string containing the single character specified offset \n",
    "* Array-style index syntax can also be used to get the single character specified offset in a string"
   ]
  },
  {
   "cell_type": "code",
   "execution_count": 31,
   "metadata": {},
   "outputs": [
    {
     "name": "stdout",
     "output_type": "stream",
     "text": [
      "e\n",
      "e\n"
     ]
    }
   ],
   "source": [
    "console.log('hello'.charAt(1)); // e\n",
    "console.log('hello'[1]);        // e"
   ]
  },
  {
   "cell_type": "markdown",
   "metadata": {},
   "source": [
    "## Comparing Strings\n",
    "\n",
    "* You can compare strings using less-than and greater-than operators\n",
    "* Similar result can be achieved using the localeCompare() method\n",
    "* ```a == b``` compares strings a and b for being equal in case-sensitive manner\n",
    "* For case-insensitive comparison, use the ```toUpperCase()``` method on each string"
   ]
  },
  {
   "cell_type": "code",
   "execution_count": 32,
   "metadata": {},
   "outputs": [
    {
     "name": "stdout",
     "output_type": "stream",
     "text": [
      "hello is less than world\n"
     ]
    }
   ],
   "source": [
    "let str1 = 'hello'\n",
    "let str2 = 'world'\n",
    "if (str1 < str2) { // true\n",
    "    console.log(str1 + ' is less than ' + str2)\n",
    "} else if (str1 > str2) {\n",
    "    console.log(str1 + ' is greater than ' + str3)\n",
    "} else {\n",
    "    console.log(str1 + ' and ' + str2 + ' are equal')\n",
    "}"
   ]
  },
  {
   "cell_type": "markdown",
   "metadata": {},
   "source": [
    "## The ```String.prototype.length``` property\n",
    "\n",
    "* Gets the length of the string\n",
    "* Read-only property"
   ]
  },
  {
   "cell_type": "code",
   "execution_count": 37,
   "metadata": {},
   "outputs": [
    {
     "name": "stdout",
     "output_type": "stream",
     "text": [
      "5\n",
      "5\n"
     ]
    }
   ],
   "source": [
    " console.log(\"hello\".length);   // 5\n",
    "\"hello\".length = 42;            // no effect\n",
    " console.log(\"hello\".length);   // still 5"
   ]
  },
  {
   "cell_type": "markdown",
   "metadata": {},
   "source": [
    "## Instance Methods\n",
    "* ```String.prototype.charAt(index)``` returns the character (exactly one UTF-16 code unit) at the specified index\n",
    "* ```String.prototype.charCodeAt(index)``` returns a number that is the UTF-16 code unit value at the given index\n",
    "* ```String.prototype.codePointAt(pos)``` returns a nonnegative integer Number that is the code point value of the UTF-16 encoded code point starting at the specified pos\n",
    "* ```String.prototype.concat(str [, ...strN ])``` combines the text of two (or more) strings and returns a new string\n",
    "* ```String.prototype.includes(searchString [, position])``` determines whether the calling string contains searchString\n",
    "* ```String.prototype.endsWith(searchString [, length])``` Determines whether a string ends with the characters of the string searchString\n",
    "* ```String.prototype.indexOf(searchValue [, fromIndex])``` returns the index within the calling String object of the first occurrence of searchValue, or -1 if not found\n",
    "* ```String.prototype.lastIndexOf(searchValue [, fromIndex])``` returns the index within the calling String object of the last occurrence of searchValue, or -1 if not found\n",
    "* ```String.prototype.localeCompare(compareString [, locales [, options]])``` returns a number indicating whether the reference string compareString comes before, after, or is equivalent to the given string in sort order\n",
    "* ```String.prototype.match(regexp)``` used to match regular expression regexp against a string\n",
    "* ```String.prototype.matchAll(regexp)``` returns an iterator of all regexp's matches\n",
    "* ```String.prototype.normalize([form])``` returns the Unicode Normalization Form of the calling string value\n",
    "* ```String.prototype.padEnd(targetLength [, padString])``` pads the current string from the end with a given string and returns a new string of the length targetLength\n",
    "* ```String.prototype.padStart(targetLength [, padString])``` pads the current string from the start with a given string and returns a new string of the length targetLength\n",
    "* ```String.prototype.repeat(count)``` returns a string consisting of the elements of the object repeated count times\n",
    "* ```String.prototype.replace(searchFor, replaceWith)``` used to replace occurrences of searchFor using replaceWith\n",
    "* ```String.prototype.search(regexp)``` search for a match between a regular expression regexp and the calling string\n",
    "* ```String.prototype.slice(beginIndex[, endIndex])``` extracts a section of a string and returns a new string\n",
    "* ```String.prototype.split([sep [, limit] ])``` returns an array of strings populated by splitting the calling string at occurences of the substring sep\n",
    "* ```String.prototype.startsWith(searchString [, length])``` determines whether the calling string begins with the characters of string searchString\n",
    "* ```String.prototype.substr()``` returns the characters in a string beginning at the specified location through the specified number of characters\n",
    "* ```String.prototype.substring(indexStart [, indexEnd])``` returns a new string containing characters of the calling string from (or between) the specified index (or indeces)\n",
    "* ```String.prototype.toLocaleLowerCase( [locale, ...locales])``` the characters within a string are converted to lowercase while respecting the current locale\n",
    "* ```String.prototype.toLocaleUpperCase( [locale, ...locales])``` the characters within a string are converted to uppercase while respecting the current locale\n",
    "* ```String.prototype.toLowerCase()``` returns the calling string value converted to lowercase\n",
    "* ```String.prototype.toString()``` returns a string representing the specified object.\n",
    "* ```String.prototype.toUpperCase()``` returns the calling string value converted to uppercase\n",
    "* ```String.prototype.trim()``` trims whitespace from the beginning and end of the string\n",
    "* ```String.prototype.trimStart()``` trims whitespace from the beginning of the string\n",
    "* ```String.prototype.trimEnd()``` trims whitespace from the end of the string\n",
    "* ```String.prototype.valueOf()``` returns the primitive value of the specified object.\n",
    "* ```String.prototype.@@iterator()``` returns a new Iterator object that iterates over the code points of a String value, returning each code point as a String value"
   ]
  },
  {
   "cell_type": "code",
   "execution_count": 18,
   "metadata": {},
   "outputs": [
    {
     "name": "stdout",
     "output_type": "stream",
     "text": [
      "abababazzz\n",
      "zzz\n",
      "       zzz\n",
      "\n",
      "203439900212558146398\n",
      "46398\n",
      "****************46398\n"
     ]
    }
   ],
   "source": [
    "{ // String.prototype.padStart(targetLength [, padString]) pad string from start with padString\n",
    "  // and return new string of length targetLength (default padString -> \" \")\n",
    "    \n",
    "const str = 'zzz';\n",
    "console.log(str.padStart(10, 'ab')); // abababazzz   (targetLength=10, padString='ab')\n",
    "console.log(str);                    // zzz          (original string not changed)\n",
    "console.log(str.padStart(10));       //        zzz   (targetLength=10, 7 padString=' ')\n",
    "\n",
    "console.log();\n",
    "    \n",
    "const digits21 = '203439900212558146398';\n",
    "console.log(digits21);                     // 203439900212558146398\n",
    "const digitsLast5 = digits21.slice(-5);\n",
    "console.log(digitsLast5);                  // 46398\n",
    "const digitsLast5Masked = \n",
    "      digitsLast5.padStart(\n",
    "          digits21.length, '*');\n",
    "console.log(digitsLast5Masked);            // ****************46398\n",
    "}"
   ]
  },
  {
   "cell_type": "code",
   "execution_count": 8,
   "metadata": {},
   "outputs": [
    {
     "name": "stdout",
     "output_type": "stream",
     "text": [
      "Hello\n",
      "World\n",
      "Hello***World\n",
      "World***Hello\n",
      "Hello\n",
      "World\n"
     ]
    }
   ],
   "source": [
    "{ // String.prototype.concat(str [, ...strN ]) combines the text of two (or more) strings and returns a new string\n",
    "\n",
    "let str1 = 'Hello';\n",
    "let str2 = 'World';\n",
    "console.log(str1);                        // Hello          (original str1)\n",
    "console.log(str2);                        // World          (original str2)\n",
    "strConcat_1_2 = str1.concat('***', str2);\n",
    "strConcat_2_1 = str2.concat('***', str1)\n",
    "console.log(strConcat_1_2);               // Hello***World  (str1 + '***' + str2)\n",
    "console.log(strConcat_2_1);               // World***Hello  (str2 + '***' + str1)\n",
    "console.log(str1);                        // Hello          (original str1 unchanged)\n",
    "console.log(str2);                        // World          (original str2 unchanged)\n",
    "}"
   ]
  },
  {
   "cell_type": "code",
   "execution_count": 13,
   "metadata": {},
   "outputs": [
    {
     "name": "stdout",
     "output_type": "stream",
     "text": [
      "The word \"seven\" is in the phrase: 'Four score and seven years ago ...'\n"
     ]
    }
   ],
   "source": [
    "{ // String.prototype.includes(searchString [, position]) determines whether the calling string contains searchString\n",
    "\n",
    "const phrase = 'Four score and seven years ago ...';\n",
    "const word = 'seven';\n",
    "console.log(`The word \"${word}\" ${phrase.includes(word) ? 'is' : 'is not'} in the phrase:`, `'${phrase}'`);\n",
    "}"
   ]
  },
  {
   "cell_type": "code",
   "execution_count": 23,
   "metadata": {},
   "outputs": [
    {
     "name": "stdout",
     "output_type": "stream",
     "text": [
      "false\n",
      "true\n",
      "true\n"
     ]
    }
   ],
   "source": [
    "{ // String.prototype.endsWith(searchString [, length])\n",
    "  // Determines whether a string ends with the provided searchString\n",
    "  // The length (otional) provides the length of the string to search (defaults to string length)\n",
    "\n",
    "const str1 = 'How much is that doggy in the window???';\n",
    "console.log(str1.endsWith('???', 20));                    // false\n",
    "console.log(str1.endsWith('dog', 20));\n",
    "const str2 = 'That doggy is not for sale!!!';             // true\n",
    "console.log(str2.endsWith('!!!'));                        // true\n",
    "}"
   ]
  },
  {
   "cell_type": "code",
   "execution_count": 33,
   "metadata": {},
   "outputs": [
    {
     "name": "stdout",
     "output_type": "stream",
     "text": [
      "Index of 1st doggy: 17\n",
      "Index of 2nd doggy: 30\n",
      "Index of 3rd doggy: -1\n"
     ]
    }
   ],
   "source": [
    "{ // String.prototype.indexOf(searchValue [, fromIndex])\n",
    "    // Returns the index in string of first occurrence of searchValue from fromIndex\n",
    "    // Returns -1 if value not found\n",
    "\n",
    "const paragraph = 'How much is that doggy in the doggy shop???';\n",
    "const searchTerm = 'doggy';\n",
    "const index1st = paragraph.indexOf(searchTerm);\n",
    "console.log(`Index of 1st ${searchTerm}: ${index1st}`);         // Index of 1st doggy: 17\n",
    "const index2nd = paragraph.indexOf(searchTerm, (index1st + 1));\n",
    "console.log(`Index of 2nd ${searchTerm}: ${index2nd}`);         // Index of 2nd doggy: 30\n",
    "const index3rd = paragraph.indexOf(searchTerm, (index2nd + 1));\n",
    "console.log(`Index of 3rd ${searchTerm}: ${index3rd}`);         // Index of 3rd doggy: -1\n",
    "}"
   ]
  },
  {
   "cell_type": "code",
   "execution_count": 61,
   "metadata": {},
   "outputs": [
    {
     "name": "stdout",
     "output_type": "stream",
     "text": [
      "[ 'M', 'T', 'S', 'C', 'Z' ]\n"
     ]
    }
   ],
   "source": [
    "{ // String.prototype.match(regexp) used to match regular expression regexp against a string\n",
    "  // Returns result of matching string against a regex\n",
    "    \n",
    "const text = 'Ms. Tate ate dinner. She then went to the Cincinnati Zoo';\n",
    "const regex = /[A-Z]/g;            // (g modifier -> global)\n",
    "const found = text.match(regex);\n",
    "console.log(found);                // [ 'M', 'T', 'S', 'C', 'Z' ]\n",
    "}"
   ]
  },
  {
   "cell_type": "code",
   "execution_count": 63,
   "metadata": {},
   "outputs": [
    {
     "name": "stdout",
     "output_type": "stream",
     "text": [
      "She loves you ya ya ya \n",
      "She loves you ya ya ya \n",
      "She loves you ya ya ya \n",
      "\n"
     ]
    }
   ],
   "source": [
    "{ // String.prototype.repeat(count) returns a string of elements of the string repeated count times\n",
    "\n",
    "const chorus = 'She loves you ya ya ya \\n';\n",
    "console.log(chorus.repeat(3));\n",
    "}"
   ]
  },
  {
   "cell_type": "code",
   "execution_count": null,
   "metadata": {},
   "outputs": [],
   "source": [
    "{ // String.prototype.replace(searchFor, replaceWith) used to replace occurrences of searchFor using replaceWith\n",
    "\n",
    "}"
   ]
  },
  {
   "cell_type": "code",
   "execution_count": 65,
   "metadata": {},
   "outputs": [
    {
     "name": "stdout",
     "output_type": "stream",
     "text": [
      "That fish is the best fish in the world.\n"
     ]
    }
   ],
   "source": [
    "{ // String.prototype.search(regexp) search for match between regexp and the string\n",
    "\n",
    "const phrase = 'That cat is the best cat in the world.';\n",
    "const regex = /cat/gi;                      // g modifier -> global, i modifier -> insensitive case\n",
    "console.log(phrase.replace(regex, 'fish')); // That fish is the best fish in the world.\n",
    "}"
   ]
  },
  {
   "cell_type": "code",
   "execution_count": 67,
   "metadata": {},
   "outputs": [
    {
     "name": "stdout",
     "output_type": "stream",
     "text": [
      "s that doggy in the window?\n",
      "much i\n",
      "dow?\n",
      "e win\n"
     ]
    }
   ],
   "source": [
    "{ // String.prototype.slice() extracts part of string and returns it as new string\n",
    "  // without changing original string\n",
    "    \n",
    "const str = 'How much is that doggy in the window?';\n",
    "console.log(str.slice(10));     // s that doggy in the window?\n",
    "console.log(str.slice(4, 10));  // much i\n",
    "console.log(str.slice(-4));     // dow?\n",
    "console.log(str.slice(-9, -4)); // dow?\n",
    "}"
   ]
  },
  {
   "cell_type": "code",
   "execution_count": 57,
   "metadata": {},
   "outputs": [
    {
     "name": "stdout",
     "output_type": "stream",
     "text": [
      "[ '' ]\n",
      "[ 'r', 'e', 'd' ]\n",
      "[ 'red', 'green', 'blue' ]\n",
      "[ 'red gr', 'n blue' ]\n",
      "[ 'red', 'green', 'blue' ]\n",
      "[ 'red\\tgr', 'n\\tblue' ]\n"
     ]
    }
   ],
   "source": [
    "{ // String.prototype.split([sep [, limit] ])\n",
    "  // Returns array of strings by splitting string at occurences of sub string sep\n",
    "  // separator (optional) is a string or a regex\n",
    "  // limit (optional) is a non-negative integer limiting number of split parts\n",
    "    \n",
    "console.log(''.split());                     // [ '' ]\n",
    "console.log('red'.split(''));                // [ 'r', 'e', 'd' ] (array of single character stringss)\n",
    "console.log('red green blue'.split(' '));    // [ 'red', 'green', 'blue' ]\n",
    "console.log('red green blue'.split('ee'));   // [ 'red gr', 'n blue' ]\n",
    "console.log('red\\tgreen\\tblue'.split('\\t')); // [ 'red', 'green', 'blue' ]\n",
    "console.log('red\\tgreen\\tblue'.split(/ee/)); // [ 'red\\tgr', 'n\\tblue' ]\n",
    "}"
   ]
  },
  {
   "cell_type": "code",
   "execution_count": 46,
   "metadata": {},
   "outputs": [
    {
     "name": "stdout",
     "output_type": "stream",
     "text": [
      "true\n",
      "true\n",
      "false\n",
      "true\n",
      "true\n",
      "false\n"
     ]
    }
   ],
   "source": [
    "{ // String.prototype.startsWith(searchString [, position]) checks if string begins with searchString\n",
    "  // at position (defaults to 0)\n",
    "\n",
    "const str1 = 'Planets are round.';\n",
    "console.log(str1.startsWith('Plan'));        // true\n",
    "console.log(str1.startsWith('Planets'));     // true\n",
    "console.log(str1.startsWith('Plantation'));  // false\n",
    "console.log(str1.startsWith('nets',    3));  // true\n",
    "console.log(str1.startsWith('round',  12));  // true\n",
    "console.log(str1.startsWith('square', 12));  // false\n",
    "}"
   ]
  },
  {
   "cell_type": "code",
   "execution_count": 40,
   "metadata": {},
   "outputs": [
    {
     "name": "stdout",
     "output_type": "stream",
     "text": [
      "way forward\n",
      " \n"
     ]
    }
   ],
   "source": [
    "{ // String.prototype.substring(indexStart [, indexEnd]) returns a new string containing characters of the calling string from (or between) the specified index (or indeces)\n",
    "  // Returns part of string from indexStart to optional indexEnd (defaults to end of string)\n",
    "\n",
    "const str = 'The way forward';\n",
    "console.log(str.substring(4));    // way forward\n",
    "console.log(str.substring(4, 3)); // way\n",
    "}"
   ]
  },
  {
   "cell_type": "code",
   "execution_count": 37,
   "metadata": {},
   "outputs": [
    {
     "name": "stdout",
     "output_type": "stream",
     "text": [
      "The time has COME...\n",
      "The time has COME...\n",
      "the time has come...\n"
     ]
    }
   ],
   "source": [
    "{ // String.prototype.toLowerCase() returns the calling string value converted to lowercase\n",
    "    \n",
    "let str1 = 'The time has COME...';\n",
    "console.log(str1);              // The time has COME...       (original)\n",
    "let str2 = str1.toLowerCase();\n",
    "console.log(str1);              // The time has COME...       (original unchanged)\n",
    "console.log(str2);              // he time has come...        (new string lowercased)\n",
    "}"
   ]
  },
  {
   "cell_type": "code",
   "execution_count": 35,
   "metadata": {},
   "outputs": [
    {
     "name": "stdout",
     "output_type": "stream",
     "text": [
      "The time has COME...\n",
      "The time has COME...\n",
      "THE TIME HAS COME...\n"
     ]
    }
   ],
   "source": [
    "{ // String.prototype.toUpperCase() returns the calling string value converted to uppercase\n",
    "    \n",
    "let str1 = 'The time has COME...';\n",
    "console.log(str1);              // The time has COME...        (original)\n",
    "let str2 = str1.toUpperCase();\n",
    "console.log(str1);              // The time has COME...        (original unchanged)\n",
    "console.log(str2);              // THE TIME HAS COME...        (new string uppercased)\n",
    "}"
   ]
  },
  {
   "cell_type": "code",
   "execution_count": 32,
   "metadata": {},
   "outputs": [
    {
     "name": "stdout",
     "output_type": "stream",
     "text": [
      ">   xyz   <\n",
      ">   xyz   <\n",
      ">xyz<\n"
     ]
    }
   ],
   "source": [
    "{ // String.prototype.trim() trims whitespace from the beginning and end of the string\n",
    "    \n",
    "let str1 = '   xyz   ';\n",
    "console.log('>' + str1 + '<');  // >   xyz   <        (original)\n",
    "let str2 = str1.trim();\n",
    "console.log('>' + str1 + '<');  // >   xyz   <        (original unchanged)\n",
    "console.log('>' + str2 + '<');  // >xyz<              (new string left & right trimmed)\n",
    "}"
   ]
  },
  {
   "cell_type": "code",
   "execution_count": 29,
   "metadata": {},
   "outputs": [
    {
     "name": "stdout",
     "output_type": "stream",
     "text": [
      ">   xyz   <\n",
      ">   xyz   <\n",
      ">xyz   <\n"
     ]
    }
   ],
   "source": [
    "{ // String.prototype.trimStart() trims whitespace from the beginning of the string\n",
    "\n",
    "let str1 = '   xyz   ';\n",
    "console.log('>' + str1 + '<');  // >   xyz   <        (original)\n",
    "let str2 = str1.trimStart();\n",
    "console.log('>' + str1 + '<');  // >   xyz   <        (original unchanged)\n",
    "console.log('>' + str2 + '<');  // >xyz   <           (new string left trimmed)\n",
    "}"
   ]
  },
  {
   "cell_type": "code",
   "execution_count": 31,
   "metadata": {},
   "outputs": [
    {
     "name": "stdout",
     "output_type": "stream",
     "text": [
      ">   xyz   <\n",
      ">   xyz   <\n",
      ">   xyz<\n"
     ]
    }
   ],
   "source": [
    "{ // String.prototype.trimEnd() trims whitespace from the end of the string\n",
    "    \n",
    "let str1 = '   xyz   ';\n",
    "console.log('>' + str1 + '<');  // >   xyz   <        (original)\n",
    "let str2 = str1.trimEnd()\n",
    "console.log('>' + str1 + '<');  // >   xyz   <        (original unchanged)\n",
    "console.log('>' + str2 + '<');  // >   xyz<           (new string right trimmed)\n",
    "}"
   ]
  },
  {
   "cell_type": "markdown",
   "metadata": {},
   "source": [
    "## Template String Literals\n",
    "\n",
    "See: https://developer.mozilla.org/en-US/docs/Web/JavaScript/Reference/Template_literals\n",
    "\n",
    "* Strings enclosed by the backticks ``` ` ```\n",
    "* Placeholders are indicated by the dollar sign and curly braces ```${expression}```\n",
    "* Escape backtick in template literal with a backslash ```\\` ```\n",
    "* Can contin embedded expressions\n",
    "* Support multi-line strings\n",
    "* A Tagged template string allows you to parse template literals with a function"
   ]
  },
  {
   "cell_type": "code",
   "execution_count": 1,
   "metadata": {},
   "outputs": [
    {
     "name": "stdout",
     "output_type": "stream",
     "text": [
      "This is a singleline template literal.\n",
      "This is line 1 in this multiline template literal\n",
      " and this is line 2 in this multiline template literal.\n",
      "This is a singleline template literal with an embedded expression 7 in it.\n",
      "My dog's name is Winston, age: 13.\n"
     ]
    }
   ],
   "source": [
    "{\n",
    "console.log(`This is a singleline template literal.`);\n",
    "console.log(`This is line 1 in this multiline template literal\n",
    " and this is line 2 in this multiline template literal.`);\n",
    "console.log(`This is a singleline template literal with an embedded expression ${3+4} in it.`);\n",
    "\n",
    "function myTag(inputStrings, name, age) {\n",
    "   return inputStrings[0] + name + ', age: ' + age + '.';\n",
    "}\n",
    "let name = \"Winston\";\n",
    "let age = 13;\n",
    "console.log(myTag`My dog's name is ${name} and he is ${age} years old`);\n",
    "}"
   ]
  },
  {
   "cell_type": "code",
   "execution_count": 2,
   "metadata": {},
   "outputs": [
    {
     "name": "stdout",
     "output_type": "stream",
     "text": [
      "<table>\n",
      "  <tr><td>Croft</td><td>Lars</td></tr>\n",
      "  <tr><td>Bond</td><td>Jane</td></tr>\n",
      "</table>\n"
     ]
    }
   ],
   "source": [
    "// solution from book: impatient-js-code -> exercises/template-literals/templating_test.mjs\n",
    "{\n",
    "const arrayWithObjectsToTable = (persons) =>\n",
    "`<table>\n",
    "${persons.map(\n",
    "  ({last,first}) =>\n",
    "    `  <tr><td>${last}</td><td>${first}</td></tr>`)\n",
    "  .join('\\n')}\n",
    "</table>`;\n",
    "\n",
    "const data = [\n",
    "    { first: 'Lars', last: 'Croft' },\n",
    "    { first: 'Jane', last: 'Bond' },\n",
    "];\n",
    "const table = arrayWithObjectsToTable(data);\n",
    "console.log(table);\n",
    "}"
   ]
  },
  {
   "cell_type": "code",
   "execution_count": 3,
   "metadata": {},
   "outputs": [
    {
     "name": "stdout",
     "output_type": "stream",
     "text": [
      "<table>\n",
      "   <tr><td>Croft</td><td>Lars</td></tr>\n",
      "   <tr><td>Bond</td><td>Jane</td></tr>\n",
      "</table>\n",
      "\n"
     ]
    }
   ],
   "source": [
    "//my simplified solution for book: impatient-js-code -> exercises/template-literals/templating_test.mjs\n",
    "{\n",
    "const arrayWithObjectsToTable = (data) => {\n",
    "    let tableRows = \"\";\n",
    "    for (i = 0; i < data.length; i++) {\n",
    "        tableRows += `   <tr><td>${data[i].last}</td><td>${data[i].first}</td></tr>\\n`\n",
    "    }\n",
    "    return '<table>\\n' + tableRows + '</table>\\n';\n",
    "}\n",
    "\n",
    "const data = [\n",
    "    { first: 'Lars', last: 'Croft' },\n",
    "    { first: 'Jane', last: 'Bond' },\n",
    "];\n",
    "const html = arrayWithObjectsToTable(data);\n",
    "console.log(html);\n",
    "}"
   ]
  },
  {
   "cell_type": "code",
   "execution_count": 41,
   "metadata": {},
   "outputs": [
    {
     "name": "stdout",
     "output_type": "stream",
     "text": [
      "<ul>\n",
      "  <li>&lt;first item&gt;</li>\n",
      "  <li>second item</li>\n",
      "</ul>\n"
     ]
    }
   ],
   "source": [
    "{ // solution from book: impatient-js-code -> exercises/template-literals/templating_test.mjs\n",
    "const arrayToUnorderedListWithEscaping = (items) =>\n",
    "`<ul>\n",
    "${items.map(item => `  <li>${escapeHtml(item)}</li>`).join('\\n')}\n",
    "</ul>`;\n",
    "\n",
    "function escapeHtml(str) {\n",
    "    return str.replace(/&/g, '&amp;') // first!   (g modifier -> global)\n",
    "        .replace(/>/g, '&gt;')\n",
    "        .replace(/</g, '&lt;')\n",
    "        .replace(/\"/g, '&quot;')\n",
    "        .replace(/'/g, '&#39;')\n",
    "        .replace(/`/g, '&#96;');\n",
    "}\n",
    "\n",
    "const data = [\n",
    "'<first item>',\n",
    "'second item',\n",
    "];\n",
    "html = arrayToUnorderedListWithEscaping(data)\n",
    "console.log(html);\n",
    "}"
   ]
  }
 ],
 "metadata": {
  "kernelspec": {
   "display_name": "Javascript (Node.js)",
   "language": "javascript",
   "name": "javascript"
  },
  "language_info": {
   "file_extension": ".js",
   "mimetype": "application/javascript",
   "name": "javascript",
   "version": "10.13.0"
  }
 },
 "nbformat": 4,
 "nbformat_minor": 2
}
