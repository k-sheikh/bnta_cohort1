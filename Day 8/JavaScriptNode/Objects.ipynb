{
 "cells": [
  {
   "cell_type": "markdown",
   "metadata": {},
   "source": [
    "# Objects\n",
    "\n",
    "See: https://developer.mozilla.org/en-US/docs/Web/JavaScript/Reference/Global_Objects/Object\n",
    "\n",
    "* An object is a collection of keyed properties\n",
    "* A property is an association between a name (or key) and a value\n",
    "* A property's value can be a function, in which case the property is known as a method\n",
    "* objectName.propertyName is syntax for accessing a property on an object\n",
    "* ```new Object()``` and ```{}``` create an object\n",
    "* You can define a property by assigning it a value\n",
    "* Unassigned properties of an object are undefined (and not null)\n",
    "* object properties can also be accessed using bracket notation\n",
    "* Objects can be thought of as associative arrays (key-value pairs)\n",
    "* Object property name can be a string or anything that can be converted to a string\n",
    "* A property name that is not a valid identifier can only be accessed using square bracket syntax\n",
    "* You can use the bracket notation with ```for...in``` to iterate over enumerable properties\n",
    "* ```get``` and ```set``` keywords support property read/write access (getter and setter syntax)"
   ]
  },
  {
   "cell_type": "code",
   "execution_count": 3,
   "metadata": {},
   "outputs": [
    {
     "name": "stdout",
     "output_type": "stream",
     "text": [
      "{}\n",
      "{ prop1: 42, prop2: 'Hello' }\n",
      "{ prop1: 13, prop2: 'Hello', method1: [Function] }\n",
      "7\n"
     ]
    }
   ],
   "source": [
    "obj = {}\n",
    "console.log(obj);\n",
    "obj.prop1 = 42;\n",
    "obj.prop2 = \"Hello\";\n",
    "console.log(obj);\n",
    "obj.method1 = (x, y) => x + y;\n",
    "obj.prop1 = 13;\n",
    "console.log(obj);\n",
    "console.log(obj.method1(3, 4));"
   ]
  },
  {
   "cell_type": "code",
   "execution_count": 25,
   "metadata": {},
   "outputs": [
    {
     "name": "stdout",
     "output_type": "stream",
     "text": [
      "{ name: 'Sally', age: 33, happy: true }\n",
      "{ name: 'Joe', age: 23, happy: false }\n",
      "undefined\n",
      "undefined\n",
      "bar\n",
      "23\n",
      "name=Joe age=23 happy=false foo=bar \n"
     ]
    }
   ],
   "source": [
    "{\n",
    "var sally = new Object();\n",
    "sally.name = 'Sally';\n",
    "sally.age = 33;\n",
    "sally.happy = true;\n",
    "console.log(sally);             // { name: 'Sally', age: 33, happy: true }\n",
    "\n",
    "var joe = {\n",
    "    name: 'Joe',\n",
    "    age: 23,\n",
    "    happy: false,\n",
    "};\n",
    "console.log(joe);               // { name: 'Joe', age: 23, happy: false }\n",
    "\n",
    "console.log(joe.foo);           // undefined\n",
    "    \n",
    "console.log(joe[\"foo\"]);        // undefined\n",
    "joe['foo'] = \"bar\";\n",
    "console.log(joe[\"foo\"]);        // bar\n",
    "    \n",
    "var propertyName = 'age';\n",
    "console.log(joe[propertyName]); // 23\n",
    "    \n",
    "var result = ``;\n",
    "for (var i in joe) {\n",
    "    if (joe.hasOwnProperty(i)) { // filter out properties from object prototype chain\n",
    "      result += `${i}=${joe[i]} `;\n",
    "    }\n",
    "}\n",
    "console.log(result); // name=Joe age=23 happy=false foo=bar  \n",
    "}"
   ]
  },
  {
   "cell_type": "code",
   "execution_count": 36,
   "metadata": {},
   "outputs": [
    {
     "name": "stdout",
     "output_type": "stream",
     "text": [
      "123\n",
      "[ 'a', 'b', 'c' ]\n",
      "[ 'a', 'b', 'c' ]\n"
     ]
    }
   ],
   "source": [
    "{\n",
    "var obj = {a:1, b:2, c:3};\n",
    "var result = ``;\n",
    "for (var i in obj) {\n",
    "    result += obj[i];                         // 123\n",
    "}\n",
    "console.log(result);\n",
    "console.log(Object.keys(obj));                // [ 'a', 'b', 'c' ]\n",
    "console.log(Object.getOwnPropertyNames(obj)); // [ 'a', 'b', 'c' ]\n",
    "}"
   ]
  },
  {
   "cell_type": "code",
   "execution_count": 39,
   "metadata": {},
   "outputs": [
    {
     "name": "stdout",
     "output_type": "stream",
     "text": [
      "Mazda\n"
     ]
    }
   ],
   "source": [
    "function Car(make, model, year) {\n",
    "  this.make = make;\n",
    "  this.model = model;\n",
    "  this.year = year;\n",
    "}\n",
    "var mycar = new Car('Mazda', 'Miata', 1999);\n",
    "console.log(mycar.make);                      // Mazda"
   ]
  },
  {
   "cell_type": "code",
   "execution_count": 84,
   "metadata": {},
   "outputs": [
    {
     "name": "stdout",
     "output_type": "stream",
     "text": [
      "0 K\n",
      "-273.15 C\n",
      "-459.67 F\n",
      "273.15 K\n",
      "0 C\n",
      "31.999999999999943 F\n",
      "373.15000000000003 K\n",
      "100.00000000000006 C\n",
      "212.00000000000006 F\n"
     ]
    }
   ],
   "source": [
    "var thermometer = {\n",
    "    kelvin: 0,\n",
    "    get celsius() {                         // getter for celsius\n",
    "        return this.kelvin-273.15;\n",
    "    },\n",
    "    set celsius(temp) {                     // setter for celsius\n",
    "        this.kelvin = temp+273.15;\n",
    "    },\n",
    "    get fahrenheit() {                      // getter for fahrenheit\n",
    "        return (this.kelvin*(9/5))-459.67;\n",
    "    },\n",
    "    set fahrenheit(temp) {                  // setter for fahrenheit\n",
    "        this.kelvin = (temp+459.67)*(5/9);\n",
    "    }\n",
    "};\n",
    "\n",
    "thermometer.kelvin = 0;                     // absolute zero temperature\n",
    "console.log(thermometer.kelvin + \" K\");     // 0 K\n",
    "console.log(thermometer.celsius + \" C\");    // -273.15 C\n",
    "console.log(thermometer.fahrenheit + \" F\"); // -459.67 F\n",
    "\n",
    "thermometer.celsius = 0;                    // water freezing temperature\n",
    "console.log(thermometer.kelvin + \" K\");     // 273.15 K\n",
    "console.log(thermometer.celsius + \" C\");    // 0 C\n",
    "console.log(thermometer.fahrenheit + \" F\"); // 31.999999999999943 F\n",
    "\n",
    "thermometer.fahrenheit = 212;               // water boiling temperature\n",
    "console.log(thermometer.kelvin + \" K\");     // 373.15000000000003 K\n",
    "console.log(thermometer.celsius + \" C\");    // 100.00000000000006 C\n",
    "console.log(thermometer.fahrenheit + \" F\"); // 212.00000000000006 F"
   ]
  },
  {
   "cell_type": "markdown",
   "metadata": {},
   "source": [
    "## The ```prototype``` Property\n",
    "\n",
    "* By default, an object inherits properties (including methods) from ```Object.prototype```\n",
    "* These Object properties may be overridden (shadowed) to refer to another object"
   ]
  },
  {
   "cell_type": "code",
   "execution_count": 36,
   "metadata": {},
   "outputs": [
    {
     "name": "stdout",
     "output_type": "stream",
     "text": [
      "person:  Person { firstName: 'Elvis', lastName: 'Presley', sayHello: [Function] }\n",
      "person's prototype:  Person {}\n",
      "Elvis Presley says \"hello\".\n",
      "person:  Person { firstName: 'Elvis', lastName: 'Presley', sayHello: [Function] }\n",
      "person's prototype:  Person { farewell: [Function] }\n",
      "Elvis Presley says \"hello\".\n",
      "Elvis has left the building!\n"
     ]
    }
   ],
   "source": [
    "{\n",
    "\n",
    "function Person(firstName, lastName) {\n",
    "    // property and method definitions\n",
    "    this.firstName = firstName;\n",
    "    this.lastName = lastName;\n",
    "    this.sayHello = function () {\n",
    "        console.log(firstName + ' ' + lastName + ' says \"hello\".'); }\n",
    "}\n",
    "\n",
    "let person = new Person(\"Elvis\", \"Presley\");\n",
    "console.log(\"person: \", person);\n",
    "console.log(\"person's prototype: \", Object.getPrototypeOf(person));\n",
    "person.sayHello();   // original method available\n",
    "//person.farewell(); // not available yet\n",
    "Person.prototype.farewell = function() {\n",
    "    console.log(this.firstName + ' has left the building!');\n",
    "};\n",
    "console.log(\"person: \", person);\n",
    "console.log(\"person's prototype: \", Object.getPrototypeOf(person));\n",
    "person.sayHello();   // original method still there\n",
    "person.farewell();   // added method via prortype\n",
    "\n",
    "}"
   ]
  },
  {
   "cell_type": "code",
   "execution_count": 2,
   "metadata": {},
   "outputs": [
    {
     "name": "stdout",
     "output_type": "stream",
     "text": [
      "MyType1 { x: 42 }\n",
      "MyType2 { x: 42 }\n"
     ]
    }
   ],
   "source": [
    "{ // ES5 vs ES6 object oriented programming\n",
    "    \n",
    "let MyType1 = function(x) {\n",
    "        this.x = x;\n",
    "}\n",
    "let obj1 = new MyType1(42);\n",
    "console.log(obj1);           // MyType1 { x: 42 }\n",
    "\n",
    "class MyType2 {\n",
    "    constructor(x) {\n",
    "        this.x = x\n",
    "    }\n",
    "}\n",
    "let obj2 = new MyType2(42);\n",
    "console.log(obj2);           // MyType1 { x: 42 }\n",
    "}"
   ]
  },
  {
   "cell_type": "code",
   "execution_count": null,
   "metadata": {},
   "outputs": [],
   "source": []
  }
 ],
 "metadata": {
  "kernelspec": {
   "display_name": "Javascript (Node.js)",
   "language": "javascript",
   "name": "javascript"
  },
  "language_info": {
   "file_extension": ".js",
   "mimetype": "application/javascript",
   "name": "javascript",
   "version": "10.13.0"
  }
 },
 "nbformat": 4,
 "nbformat_minor": 4
}
