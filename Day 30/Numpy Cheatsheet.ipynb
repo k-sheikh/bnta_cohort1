{
 "cells": [
  {
   "cell_type": "markdown",
   "id": "assigned-smooth",
   "metadata": {},
   "source": [
    "# Numpy Cheatsheet\n",
    "Copyright 2021 [Compass Mentis IT Limited](https://www.compassmentis.com).\\\n",
    "May be freely distributed under [Attribution-ShareAlike 4.0 International (CC BY-SA 4.0)](https://creativecommons.org/licenses/by-sa/4.0/)."
   ]
  },
  {
   "cell_type": "markdown",
   "id": "primary-thickness",
   "metadata": {},
   "source": [
    "# Set up"
   ]
  },
  {
   "cell_type": "code",
   "execution_count": 1,
   "id": "instrumental-testament",
   "metadata": {},
   "outputs": [],
   "source": [
    "import numpy as np"
   ]
  },
  {
   "cell_type": "markdown",
   "id": "signed-gibraltar",
   "metadata": {},
   "source": [
    "## Creating numpy arrays"
   ]
  },
  {
   "cell_type": "code",
   "execution_count": 2,
   "id": "physical-console",
   "metadata": {},
   "outputs": [],
   "source": [
    "# Function to show an array\n",
    "def print_array(array):\n",
    "    print(f'Shape: {array.shape}, Dimensions: {array.ndim}')\n",
    "    print(array)    "
   ]
  },
  {
   "cell_type": "code",
   "execution_count": 3,
   "id": "clear-rugby",
   "metadata": {},
   "outputs": [
    {
     "name": "stdout",
     "output_type": "stream",
     "text": [
      "Shape: (), Dimensions: 0\n",
      "50\n"
     ]
    }
   ],
   "source": [
    "# 0-D array (single value)\n",
    "array = np.array(50)\n",
    "print_array(array)"
   ]
  },
  {
   "cell_type": "code",
   "execution_count": 4,
   "id": "fresh-glance",
   "metadata": {},
   "outputs": [
    {
     "name": "stdout",
     "output_type": "stream",
     "text": [
      "Shape: (3,), Dimensions: 1\n",
      "[1 2 3]\n"
     ]
    }
   ],
   "source": [
    "# 1D array (list)\n",
    "array = np.array([1, 2, 3])\n",
    "print_array(array)"
   ]
  },
  {
   "cell_type": "code",
   "execution_count": 5,
   "id": "helpful-consolidation",
   "metadata": {},
   "outputs": [
    {
     "name": "stdout",
     "output_type": "stream",
     "text": [
      "Shape: (2, 2), Dimensions: 2\n",
      "[[1 2]\n",
      " [3 4]]\n"
     ]
    }
   ],
   "source": [
    "# 2D array (grid)\n",
    "array = np.array([[1, 2], [3, 4]])\n",
    "print_array(array)"
   ]
  },
  {
   "cell_type": "markdown",
   "id": "level-irrigation",
   "metadata": {},
   "source": [
    "## Creating special types of numpy arrays"
   ]
  },
  {
   "cell_type": "code",
   "execution_count": 6,
   "id": "serial-carry",
   "metadata": {},
   "outputs": [
    {
     "name": "stdout",
     "output_type": "stream",
     "text": [
      "Shape: (9,), Dimensions: 1\n",
      "[1 2 3 4 5 6 7 8 9]\n"
     ]
    }
   ],
   "source": [
    "# A range of numbers, from start to end\n",
    "array = np.arange(1, 10)\n",
    "print_array(array)"
   ]
  },
  {
   "cell_type": "code",
   "execution_count": 7,
   "id": "bright-session",
   "metadata": {},
   "outputs": [
    {
     "name": "stdout",
     "output_type": "stream",
     "text": [
      "Shape: (5,), Dimensions: 1\n",
      "[1 3 5 7 9]\n"
     ]
    }
   ],
   "source": [
    "# A range of numbers, from start to end, every other number\n",
    "array = np.arange(1, 10, 2)\n",
    "print_array(array)"
   ]
  },
  {
   "cell_type": "code",
   "execution_count": 8,
   "id": "available-tonight",
   "metadata": {},
   "outputs": [
    {
     "name": "stdout",
     "output_type": "stream",
     "text": [
      "Shape: (2, 3), Dimensions: 2\n",
      "[[0. 0. 0.]\n",
      " [0. 0. 0.]]\n"
     ]
    }
   ],
   "source": [
    "# All zeros\n",
    "array = np.zeros([2, 3])\n",
    "print_array(array)"
   ]
  },
  {
   "cell_type": "code",
   "execution_count": 9,
   "id": "documented-theory",
   "metadata": {},
   "outputs": [
    {
     "name": "stdout",
     "output_type": "stream",
     "text": [
      "Shape: (2, 3), Dimensions: 2\n",
      "[[1. 1. 1.]\n",
      " [1. 1. 1.]]\n"
     ]
    }
   ],
   "source": [
    "# All ones\n",
    "array = np.ones([2, 3])\n",
    "print_array(array)"
   ]
  },
  {
   "cell_type": "code",
   "execution_count": 10,
   "id": "promotional-water",
   "metadata": {},
   "outputs": [
    {
     "name": "stdout",
     "output_type": "stream",
     "text": [
      "Shape: (4, 4), Dimensions: 2\n",
      "[[1. 0. 0. 0.]\n",
      " [0. 1. 0. 0.]\n",
      " [0. 0. 1. 0.]\n",
      " [0. 0. 0. 1.]]\n"
     ]
    }
   ],
   "source": [
    "# Identity array of size (n x n)\n",
    "array = np.eye(4)\n",
    "print_array(array)"
   ]
  },
  {
   "cell_type": "code",
   "execution_count": 11,
   "id": "bibliographic-thomas",
   "metadata": {},
   "outputs": [
    {
     "name": "stdout",
     "output_type": "stream",
     "text": [
      "Shape: (21,), Dimensions: 1\n",
      "[ 1.    1.45  1.9   2.35  2.8   3.25  3.7   4.15  4.6   5.05  5.5   5.95\n",
      "  6.4   6.85  7.3   7.75  8.2   8.65  9.1   9.55 10.  ]\n"
     ]
    }
   ],
   "source": [
    "# A list of evenly spaced numbers\n",
    "array = np.linspace(1, 10, 21)\n",
    "print_array(array)"
   ]
  },
  {
   "cell_type": "code",
   "execution_count": 12,
   "id": "applied-witch",
   "metadata": {},
   "outputs": [
    {
     "name": "stdout",
     "output_type": "stream",
     "text": [
      "Shape: (15,), Dimensions: 1\n",
      "[7.84783605 3.27179337 3.91457958 2.35582865 1.79143727 6.2520994\n",
      " 9.71885936 5.77344675 6.22874345 4.46208119 1.14012131 6.30157507\n",
      " 3.25053242 1.01263872 3.98373773]\n"
     ]
    }
   ],
   "source": [
    "# Random numbers, uniformly distributed\n",
    "array = np.random.uniform(0, 10, 15)\n",
    "print_array(array)"
   ]
  },
  {
   "cell_type": "markdown",
   "id": "agreed-symposium",
   "metadata": {},
   "source": [
    "## Accessing array elements"
   ]
  },
  {
   "cell_type": "code",
   "execution_count": 13,
   "id": "hungry-worse",
   "metadata": {},
   "outputs": [
    {
     "name": "stdout",
     "output_type": "stream",
     "text": [
      "[1 2 3] \t(1st sub-array along 1st dimension)\n",
      "[4 5 6] \t(2nd sub-array along 1st dimension)\n",
      "1 \t\t(1st element of 1st sub-array along 1st dimension)\n",
      "1 \t\t(1st element of 1st sub-array along 1st dimension, again)\n",
      "[1 4] \t\t(1st element of both sub-arrays, along 2nd dimension)\n",
      "[2 5] \t\t(2nd element of both sub-arrays, along 2nd dimension)\n",
      "[3 6] \t\t(3rd element of both sub-arrays, along 2nd dimension)\n"
     ]
    }
   ],
   "source": [
    "# Create an array\n",
    "array = np.array([[1, 2, 3], [4, 5, 6]])\n",
    "\n",
    "print(array[0], '\\t(1st sub-array along 1st dimension)')\n",
    "print(array[1], '\\t(2nd sub-array along 1st dimension)')\n",
    "print(array[0][0], '\\t\\t(1st element of 1st sub-array along 1st dimension)')\n",
    "print(array[0, 0], '\\t\\t(1st element of 1st sub-array along 1st dimension, again)')\n",
    "print(array[:, 0], '\\t\\t(1st element of both sub-arrays, along 2nd dimension)')\n",
    "print(array[:, 1], '\\t\\t(2nd element of both sub-arrays, along 2nd dimension)')\n",
    "print(array[:, 2], '\\t\\t(3rd element of both sub-arrays, along 2nd dimension)')"
   ]
  },
  {
   "cell_type": "markdown",
   "id": "atlantic-opposition",
   "metadata": {},
   "source": [
    "## Data types"
   ]
  },
  {
   "cell_type": "code",
   "execution_count": 14,
   "id": "widespread-check",
   "metadata": {},
   "outputs": [
    {
     "name": "stdout",
     "output_type": "stream",
     "text": [
      "int64\n"
     ]
    }
   ],
   "source": [
    "# Show the data type\n",
    "arr = np.array([1, 2, 3, 4])\n",
    "print(arr.dtype)"
   ]
  },
  {
   "cell_type": "code",
   "execution_count": 15,
   "id": "australian-image",
   "metadata": {},
   "outputs": [
    {
     "name": "stdout",
     "output_type": "stream",
     "text": [
      "int8\n"
     ]
    }
   ],
   "source": [
    "# Create an array for a given data type\n",
    "arr = np.array([1, 2, 3, 4], dtype=np.int8)\n",
    "print(arr.dtype)"
   ]
  },
  {
   "cell_type": "markdown",
   "id": "stylish-camcorder",
   "metadata": {},
   "source": [
    "### Common numerical data types\n",
    "* .int8, .int16, .int32, .int64 - signed integers, 8/16/32/64 bits\n",
    "* .uint8, .uint16, .uint32, .uint64 - unsigned integer, 8/16/32/64 bits\n",
    "* .float32, .float64 - float, 32/64 bits"
   ]
  },
  {
   "cell_type": "markdown",
   "id": "downtown-italic",
   "metadata": {},
   "source": [
    "## Simple array calculations"
   ]
  },
  {
   "cell_type": "code",
   "execution_count": 16,
   "id": "embedded-swing",
   "metadata": {},
   "outputs": [
    {
     "name": "stdout",
     "output_type": "stream",
     "text": [
      "array\n",
      " [[1 2 3]\n",
      " [4 5 6]] \n",
      "\n",
      "array + array\n",
      " [[ 2  4  6]\n",
      " [ 8 10 12]] \n",
      "\n",
      "array - array\n",
      " [[0 0 0]\n",
      " [0 0 0]] \n",
      "\n",
      "array + 1\n",
      " [[2 3 4]\n",
      " [5 6 7]] \n",
      "\n",
      "array + [1, 2, 3]\n",
      " [[2 4 6]\n",
      " [5 7 9]] \n",
      "\n",
      "array + [[1], [2]]\n",
      " [[2 3 4]\n",
      " [6 7 8]] \n",
      "\n",
      "array * 3\n",
      " [[ 3  6  9]\n",
      " [12 15 18]] \n",
      "\n",
      "3 * array\n",
      " [[ 3  6  9]\n",
      " [12 15 18]] \n",
      "\n",
      "array * array\n",
      " [[ 1  4  9]\n",
      " [16 25 36]] \n",
      "\n",
      "array ** 2 (squared)\n",
      " [[ 1  4  9]\n",
      " [16 25 36]] \n",
      "\n",
      "array * [1, 2, 3]\n",
      " [[ 1  4  9]\n",
      " [ 4 10 18]] \n",
      "\n",
      "array * [[1], [2]]\n",
      " [[ 1  2  3]\n",
      " [ 8 10 12]] \n",
      "\n"
     ]
    }
   ],
   "source": [
    "array = np.array([[1, 2, 3], [4, 5, 6]])\n",
    "print('array\\n', array, '\\n')\n",
    "print('array + array\\n', array + array, '\\n')\n",
    "print('array - array\\n', array - array, '\\n')\n",
    "print('array + 1\\n', array + 1, '\\n')\n",
    "print('array + [1, 2, 3]\\n', array + [1, 2, 3], '\\n')\n",
    "print('array + [[1], [2]]\\n', array + [[1], [2]], '\\n')\n",
    "print('array * 3\\n', array * 3, '\\n')\n",
    "print('3 * array\\n', 3 * array, '\\n')\n",
    "print('array * array\\n', array * array, '\\n')\n",
    "print('array ** 2 (squared)\\n', array ** 2, '\\n')\n",
    "print('array * [1, 2, 3]\\n', array * [1, 2, 3], '\\n')\n",
    "print('array * [[1], [2]]\\n', array * [[1], [2]], '\\n')"
   ]
  },
  {
   "cell_type": "markdown",
   "id": "acute-timeline",
   "metadata": {},
   "source": [
    "## Changing the shape of an array"
   ]
  },
  {
   "cell_type": "code",
   "execution_count": 17,
   "id": "beautiful-subscriber",
   "metadata": {},
   "outputs": [
    {
     "name": "stdout",
     "output_type": "stream",
     "text": [
      "Shape: (3, 5), Dimensions: 2\n",
      "[[4.67819469 6.82899959 2.57390633 7.74238093 3.19947234]\n",
      " [9.45306513 9.44641973 2.34338799 1.17596341 0.26884698]\n",
      " [0.73363389 3.32749279 8.35641364 5.31181959 7.0002694 ]]\n"
     ]
    }
   ],
   "source": [
    "# From 1D, 1 row of 15 numbers\n",
    "# To 2D, 3 rows of 5 numbers\n",
    "array = np.random.uniform(0, 10, 15)\n",
    "array = array.reshape(3, 5)\n",
    "print_array(array)"
   ]
  },
  {
   "cell_type": "code",
   "execution_count": 18,
   "id": "dirty-consensus",
   "metadata": {},
   "outputs": [
    {
     "name": "stdout",
     "output_type": "stream",
     "text": [
      "Shape: (3, 5), Dimensions: 2\n",
      "[[0.15414579 2.87289737 2.4910165  3.15651683 3.67534587]\n",
      " [2.92694424 4.44759413 1.38110096 7.17754738 7.32141636]\n",
      " [2.50620614 5.16554941 1.48761785 6.32300609 5.50811934]]\n"
     ]
    }
   ],
   "source": [
    "# As above, using a wild card (-1)\n",
    "# From 1D, 1 row of 15 numbers\n",
    "# To 2D, 3 rows of 5 numbers\n",
    "array = np.random.uniform(0, 10, 15)\n",
    "array = array.reshape(3, -1)\n",
    "print_array(array)"
   ]
  },
  {
   "cell_type": "markdown",
   "id": "electoral-hawaiian",
   "metadata": {},
   "source": [
    "## Simple statistics"
   ]
  },
  {
   "cell_type": "code",
   "execution_count": 19,
   "id": "initial-violin",
   "metadata": {},
   "outputs": [
    {
     "name": "stdout",
     "output_type": "stream",
     "text": [
      "Shape: (25,), Dimensions: 1\n",
      "[ 5.42641287 -9.58496101  2.6729647   4.97607765 -0.02985975 -5.50406709\n",
      " -6.0387427   5.21061424 -6.61778327 -8.23320372  3.70719637  9.06786692\n",
      " -9.92103467  0.24384527  6.25241923  2.25052134  4.43510635 -4.16247864\n",
      "  8.35548245  4.29151567  0.85088736 -7.15659905 -2.5331848   3.4826723\n",
      " -1.16333651]\n"
     ]
    }
   ],
   "source": [
    "# Set up - create a random array\n",
    "\n",
    "# Make sure random array is same everytime this is run\n",
    "np.random.seed(10)\n",
    "array = np.random.uniform(-10, 10, 25)\n",
    "print_array(array)"
   ]
  },
  {
   "cell_type": "code",
   "execution_count": 20,
   "id": "vital-temple",
   "metadata": {},
   "outputs": [
    {
     "name": "stdout",
     "output_type": "stream",
     "text": [
      "Minimum -9.92103467344171  which is at index 12\n",
      "Maximum 9.06786692389873  which is at index 11\n",
      "Mean 0.011133260035354624\n",
      "Total 0.2783315008838656\n",
      "Number of items 25\n"
     ]
    }
   ],
   "source": [
    "print('Minimum', array.min(), ' which is at index', array.argmin())\n",
    "print('Maximum', array.max(), ' which is at index', array.argmax())\n",
    "print('Mean', array.mean())\n",
    "print('Total', array.sum())\n",
    "print('Number of items', len(array))"
   ]
  },
  {
   "cell_type": "markdown",
   "id": "guided-shoot",
   "metadata": {},
   "source": [
    "## Advanced aggregate functions"
   ]
  },
  {
   "cell_type": "code",
   "execution_count": 21,
   "id": "intended-camcorder",
   "metadata": {},
   "outputs": [
    {
     "name": "stdout",
     "output_type": "stream",
     "text": [
      "Shape: (3, 3), Dimensions: 2\n",
      "[[9 4 0]\n",
      " [1 9 0]\n",
      " [1 8 9]]\n"
     ]
    }
   ],
   "source": [
    "# Set up - creating a random 2 x 3 array\n",
    "np.random.seed(10)\n",
    "array = np.random.randint(0, 10, 9).reshape(3, 3)\n",
    "print_array(array)"
   ]
  },
  {
   "cell_type": "code",
   "execution_count": 22,
   "id": "comprehensive-kansas",
   "metadata": {},
   "outputs": [
    {
     "data": {
      "text/plain": [
       "array([11, 21,  9])"
      ]
     },
     "execution_count": 22,
     "metadata": {},
     "output_type": "execute_result"
    }
   ],
   "source": [
    "# Sum on axis 0 - total of each column\n",
    "array.sum(axis=0)"
   ]
  },
  {
   "cell_type": "code",
   "execution_count": 23,
   "id": "elder-bubble",
   "metadata": {},
   "outputs": [
    {
     "data": {
      "text/plain": [
       "array([13, 10, 18])"
      ]
     },
     "execution_count": 23,
     "metadata": {},
     "output_type": "execute_result"
    }
   ],
   "source": [
    "# Sum on axis 1 - total of each row\n",
    "array.sum(axis=1)"
   ]
  }
 ],
 "metadata": {
  "kernelspec": {
   "display_name": "Python 3",
   "language": "python",
   "name": "python3"
  },
  "language_info": {
   "codemirror_mode": {
    "name": "ipython",
    "version": 3
   },
   "file_extension": ".py",
   "mimetype": "text/x-python",
   "name": "python",
   "nbconvert_exporter": "python",
   "pygments_lexer": "ipython3",
   "version": "3.8.5"
  }
 },
 "nbformat": 4,
 "nbformat_minor": 5
}
