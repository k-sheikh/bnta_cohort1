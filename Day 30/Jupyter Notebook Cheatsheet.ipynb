{
 "cells": [
  {
   "cell_type": "markdown",
   "id": "short-windows",
   "metadata": {},
   "source": [
    "# Jupyter Notebook Cheatsheet\n",
    "Copyright 2021 [Compass Mentis IT Limited](https://www.compassmentis.com).\\\n",
    "May be freely distributed under [Attribution-ShareAlike 4.0 International (CC BY-SA 4.0)](https://creativecommons.org/licenses/by-sa/4.0/)."
   ]
  },
  {
   "cell_type": "markdown",
   "id": "unusual-format",
   "metadata": {},
   "source": [
    "## Creating a notebook\n",
    "\n",
    "1. Go to the Home Page tab in your browser\n",
    "1. Right hand side, click on 'New' button\n",
    "1. Select Python 3\n",
    "1. Top line of this page, click on 'Untitled' and give the notebook a proper name"
   ]
  },
  {
   "cell_type": "markdown",
   "id": "demographic-wildlife",
   "metadata": {},
   "source": [
    "## Adding, splitting and deleting cells"
   ]
  },
  {
   "cell_type": "markdown",
   "id": "virgin-budapest",
   "metadata": {},
   "source": [
    "Adding a new cell after the current cell \\\n",
    "(do one of the following)\n",
    "* Button bar, click on '+' sign\n",
    "* Menu -> Insert -> Cell Above\n",
    "* Execute (shift-enter) last cell\n",
    "* Escape, B (note: short for below)\n",
    "\n",
    "Adding a new cell above the current cell \\\n",
    "(do one of the following)\n",
    "* Menu -> Insert -> Cell Below\n",
    "* Escape, A (note: short for above)\n",
    "\n",
    "Splitting a cell at the cursor \\\n",
    "(do one of the following)\n",
    "* Menu -> Edit -> Split Cell\n",
    "* Ctrl-Shift-Minus\n",
    "\n",
    "Deleting the current cell \\\n",
    "(do one of the following)\n",
    "* Button bar, click on scissors icon\n",
    "* Escape, X"
   ]
  },
  {
   "cell_type": "markdown",
   "id": "nutritional-floating",
   "metadata": {},
   "source": [
    "## Getting help"
   ]
  },
  {
   "cell_type": "markdown",
   "id": "desirable-kernel",
   "metadata": {},
   "source": [
    "* Keyboard short cuts: Menu -> Help -> Keyboard short cuts\n",
    "* Code completion - see list of what is available: start typing, then TAB key\n",
    "* Documentation for a function, including parameters: cursor on function, then SHIFT and TAB keys"
   ]
  }
 ],
 "metadata": {
  "kernelspec": {
   "display_name": "Python 3",
   "language": "python",
   "name": "python3"
  },
  "language_info": {
   "codemirror_mode": {
    "name": "ipython",
    "version": 3
   },
   "file_extension": ".py",
   "mimetype": "text/x-python",
   "name": "python",
   "nbconvert_exporter": "python",
   "pygments_lexer": "ipython3",
   "version": "3.8.5"
  }
 },
 "nbformat": 4,
 "nbformat_minor": 5
}
