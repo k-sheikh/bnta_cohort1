{
 "cells": [
  {
   "cell_type": "markdown",
   "id": "freelance-northwest",
   "metadata": {},
   "source": [
    "Data from https://www.kaggle.com/arshid/iris-flower-dataset\n",
    "License: CC0, Public Domain"
   ]
  },
  {
   "cell_type": "code",
   "execution_count": null,
   "id": "differential-swaziland",
   "metadata": {},
   "outputs": [],
   "source": [
    "import pandas as pd\n",
    "import matplotlib.pyplot as plt\n",
    "\n",
    "# You may not need this, it depends on how you show this notebook - but it won't hurt to run even if you don't need it\n",
    "# It makes sure the charts are shown between the cells\n",
    "%matplotlib inline"
   ]
  },
  {
   "cell_type": "code",
   "execution_count": null,
   "id": "optimum-multimedia",
   "metadata": {},
   "outputs": [],
   "source": [
    "# Load data, show first 5 rows\n",
    "df = pd.read_csv('IRIS.csv')\n",
    "df.head()"
   ]
  },
  {
   "cell_type": "code",
   "execution_count": null,
   "id": "labeled-jacket",
   "metadata": {},
   "outputs": [],
   "source": [
    "# Show last 5 rows - note that it is sorted by species\n",
    "df.tail()"
   ]
  },
  {
   "cell_type": "code",
   "execution_count": null,
   "id": "ceramic-white",
   "metadata": {},
   "outputs": [],
   "source": [
    "# Some quick statistics\n",
    "# Count: number, mean: average, std: standard deviation (how much do values deviate from the average)\n",
    "# Min, max: minimum, maximum\n",
    "# 25%, 50%, 75%: if you sort them by this measurement, what is the value of the 37th (25% of 150) measurement, etc\n",
    "df.describe()"
   ]
  },
  {
   "cell_type": "code",
   "execution_count": null,
   "id": "extended-dating",
   "metadata": {},
   "outputs": [],
   "source": [
    "# Histogram of sepal_length - put each into a 'bin' (4-4.5, 4.5-5, 5-5.5, etc) based on their sepal length\n",
    "# show how many in each bin\n",
    "df['sepal_length'].hist(bins=[4, 4.5, 5, 5.5, 6, 6.5, 7, 7.5, 8])"
   ]
  },
  {
   "cell_type": "code",
   "execution_count": null,
   "id": "italian-handy",
   "metadata": {},
   "outputs": [],
   "source": [
    "# All 150 flowers plotted as scatter (x y) plot\n",
    "# x coordinate (left-right) is the sepal length\n",
    "# y coordinate (up-down) is the sepal width\n",
    "# It looks like there might be a few different groups\n",
    "df.plot(kind='scatter', x='sepal_length', y='sepal_width')"
   ]
  },
  {
   "cell_type": "code",
   "execution_count": null,
   "id": "flush-conversation",
   "metadata": {},
   "outputs": [],
   "source": [
    "# Ditto, but using a different colour for each type of iris\n",
    "# Wrapped into a function so we can use it for different combinations of columns\n",
    "\n",
    "def compare_columns(column_a, column_b):\n",
    "    # Create an empty figure\n",
    "    fig = plt.figure()\n",
    "\n",
    "    # For each different type of species\n",
    "    for species in df['species'].unique():\n",
    "\n",
    "        # Create an dataframe with the data just for this species\n",
    "        df_for_species = df[df['species']==species]\n",
    "\n",
    "        # Show this as a scatter plot\n",
    "        plt.scatter(column_a, column_b, data=df_for_species)\n",
    "    \n",
    "# Note that each time .scatter is called, it will choose a different colour\n",
    "\n"
   ]
  },
  {
   "cell_type": "code",
   "execution_count": null,
   "id": "starting-constraint",
   "metadata": {},
   "outputs": [],
   "source": [
    "compare_columns('sepal_length', 'sepal_width')\n",
    "# Note that there seem to be two or three different point 'clouds'"
   ]
  },
  {
   "cell_type": "code",
   "execution_count": null,
   "id": "metallic-slovakia",
   "metadata": {},
   "outputs": [],
   "source": [
    "compare_columns('petal_length', 'petal_width')\n",
    "# Even more obvious - the 3 different types of irises gives us different measurements"
   ]
  },
  {
   "cell_type": "markdown",
   "id": "prompt-right",
   "metadata": {},
   "source": [
    "## Automatic categorisation\n",
    "When we put all four measurements (petal length/width, sepal length/width) together we get a 4 dimensional point cloud, but there is no way to visualise that.\n",
    "\n",
    "Our charts above 'flatten' the 4 dimensions into 2. It looks like the clouds overlap but maybe one is completely behind the other\n",
    "\n",
    "When we get beyond 2 or 3 dimensions it becomes difficult for humans to see any groupings.\n",
    "Python's scikit-learn library has some functions to group points for us, as we'll see next "
   ]
  },
  {
   "cell_type": "code",
   "execution_count": null,
   "id": "tired-pierre",
   "metadata": {},
   "outputs": [],
   "source": [
    "# Let's imagine that we don't know how to group the irises yet - all we've got is the measurements\n",
    "# This creates a new dataframe, consisting of our four measurements,\n",
    "# but without the 'species' column\n",
    "# As if we've just gone out in the field and did some measurements\n",
    "measurements = df.drop('species', axis=1)"
   ]
  },
  {
   "cell_type": "code",
   "execution_count": null,
   "id": "statistical-banner",
   "metadata": {},
   "outputs": [],
   "source": [
    "measurements.head()"
   ]
  },
  {
   "cell_type": "code",
   "execution_count": null,
   "id": "national-learning",
   "metadata": {},
   "outputs": [],
   "source": []
  },
  {
   "cell_type": "code",
   "execution_count": null,
   "id": "pleased-revision",
   "metadata": {},
   "outputs": [],
   "source": [
    "# First a quick peak - it looks like there might be two different groups\n",
    "measurements.plot(kind='scatter', x='sepal_length', y='sepal_width')"
   ]
  },
  {
   "cell_type": "code",
   "execution_count": null,
   "id": "danish-miller",
   "metadata": {},
   "outputs": [],
   "source": [
    "# We'll use the k-means clustering algorithm to try to group (cluster) the measurements\n",
    "# K-means needs to know how many groups we want. We'll say 2\n",
    "from sklearn.cluster import KMeans\n",
    "model = KMeans(n_clusters=2)"
   ]
  },
  {
   "cell_type": "code",
   "execution_count": null,
   "id": "vulnerable-queensland",
   "metadata": {},
   "outputs": [],
   "source": [
    "# Update the classifier to \"fit\" our measurements\n",
    "model.fit(measurements)"
   ]
  },
  {
   "cell_type": "code",
   "execution_count": null,
   "id": "martial-carrier",
   "metadata": {},
   "outputs": [],
   "source": [
    "# Our model has given each set of measurements, each row, a label\n",
    "# Label 1 is the first group (cluster), label 0 is the second group\n",
    "model.labels_"
   ]
  },
  {
   "cell_type": "code",
   "execution_count": null,
   "id": "stainless-petite",
   "metadata": {},
   "outputs": [],
   "source": [
    "# Here is another scatter plot, using a different colour for both groups\n",
    "fig = plt.figure()\n",
    "\n",
    "# For each different type of species\n",
    "for cluster in [0, 1]:\n",
    "\n",
    "    # Create an dataframe with the data just for this species\n",
    "    cluster_measurements = measurements[model.labels_==cluster]\n",
    "\n",
    "    # Show this as a scatter plot\n",
    "    plt.scatter('petal_length', 'petal_width', data=cluster_measurements)"
   ]
  },
  {
   "cell_type": "code",
   "execution_count": null,
   "id": "increasing-cylinder",
   "metadata": {},
   "outputs": [],
   "source": [
    "# Note how the chart above doesn't look quite right - \n",
    "# Some points seem to have been put into the wrong group\n",
    "# We'll try this again, but now aim for 3 groups instead of 2\n",
    "# Same code as above\n",
    "model = KMeans(n_clusters=3)\n",
    "model.fit(measurements)"
   ]
  },
  {
   "cell_type": "code",
   "execution_count": null,
   "id": "express-reynolds",
   "metadata": {},
   "outputs": [],
   "source": [
    "# And the plot again\n",
    "fig = plt.figure()\n",
    "for cluster in [0, 1, 2]:\n",
    "    cluster_measurements = measurements[model.labels_==cluster]\n",
    "    plt.scatter('petal_length', 'petal_width', data=cluster_measurements)"
   ]
  },
  {
   "cell_type": "code",
   "execution_count": null,
   "id": "parental-mileage",
   "metadata": {},
   "outputs": [],
   "source": [
    "# Ditto, for some different measurements\n",
    "# And the plot again\n",
    "fig = plt.figure()\n",
    "for cluster in [0, 1, 2]:\n",
    "    cluster_measurements = measurements[model.labels_==cluster]\n",
    "    plt.scatter('sepal_length', 'sepal_width', data=cluster_measurements)"
   ]
  },
  {
   "cell_type": "code",
   "execution_count": null,
   "id": "hollywood-miracle",
   "metadata": {},
   "outputs": [],
   "source": [
    "# The charts above seem to be better, although there may still be some overlap\n",
    "# Remember that this should be a 4 dimensional chat, so maybe one point cloud is behind the other\n",
    "# If we could rotate this (in 4D?) we could see this better"
   ]
  },
  {
   "cell_type": "code",
   "execution_count": null,
   "id": "stunning-truck",
   "metadata": {},
   "outputs": [],
   "source": []
  }
 ],
 "metadata": {
  "kernelspec": {
   "display_name": "Python 3",
   "language": "python",
   "name": "python3"
  },
  "language_info": {
   "codemirror_mode": {
    "name": "ipython",
    "version": 3
   },
   "file_extension": ".py",
   "mimetype": "text/x-python",
   "name": "python",
   "nbconvert_exporter": "python",
   "pygments_lexer": "ipython3",
   "version": "3.8.5"
  }
 },
 "nbformat": 4,
 "nbformat_minor": 5
}
