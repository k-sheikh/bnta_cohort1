{
 "cells": [
  {
   "cell_type": "markdown",
   "metadata": {},
   "source": [
    "# Algorithms and Data Structures: Mathematical Topics (30 Min Optional)\n",
    "\n",
    "This is an optional topic intended for self-study for those students who are especially interested in mathematical aspects of algorithms and data structures. These topics are only intended as suggestions to get interested students started with a few of the areas that may be of interest. Consider having discussions with your fellow students, family, and friends.\n",
    "\n",
    "Mathematics is a vast area of study that is far too large to discuss in any detail here. However, virtually every aspect of mathematics represents a rich source of concepts upon which many interesting and useful algorithms can be built. Here we will only take a small random sampling of mathematical topics that are useful as the basis for many important algorithms used in modern computing applications, in areas such as economics, finance, machine learning, engineering, and the sciences.\n",
    "\n",
    "This is an optional topic intended for self-study for those students who are especially interested in these topics. The following topics are only intended as suggestions to get interested students started with a few of the areas that may be of interest.\n",
    "\n",
    "## Topics for Discussion\n",
    "\n",
    "- Linear Algebra\n",
    "- Probability and Statistics\n",
    "- Differential Equations: Simulation and Modeling\n",
    "- Finite Element Analysis\n",
    "- Finite State Automatons: Game of Life\n",
    "- Markov Processes: Stochastic Modeling\n",
    "- Leontief Models: Economic Modeling\n",
    "- Black–Scholes: Financial Market Modeling\n",
    "- Map Reduce Parallelism: Big Data\n",
    "- Turing Machine: Halting Problem, Computability, and P versus NP\n",
    "- Game Theory\n",
    " - Zero-Sum vs Non-Zero-Sum Games\n",
    " - Prisoner's Dilemma\n",
    " - Nash Equilibrium and Metastability\n",
    " - Bitcoin and Ethereum\n",
    " - Tragedy of the Commons: https://en.wikipedia.org/wiki/Tragedy_of_the_commons\n",
    "- Decentralized Crowd-Source Computing\n",
    " - SETI@home\n",
    " - Folding@home\n",
    "- What other topics interst you?"
   ]
  },
  {
   "cell_type": "code",
   "execution_count": null,
   "metadata": {},
   "outputs": [],
   "source": []
  }
 ],
 "metadata": {
  "kernelspec": {
   "display_name": "Python 3",
   "language": "python",
   "name": "python3"
  },
  "language_info": {
   "codemirror_mode": {
    "name": "ipython",
    "version": 3
   },
   "file_extension": ".py",
   "mimetype": "text/x-python",
   "name": "python",
   "nbconvert_exporter": "python",
   "pygments_lexer": "ipython3",
   "version": "3.8.5"
  }
 },
 "nbformat": 4,
 "nbformat_minor": 4
}
